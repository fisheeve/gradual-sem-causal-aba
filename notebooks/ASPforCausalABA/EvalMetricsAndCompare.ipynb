{
 "cells": [
  {
   "cell_type": "markdown",
   "metadata": {},
   "source": [
    "# Argumentative Causal Discovery"
   ]
  },
  {
   "cell_type": "markdown",
   "metadata": {},
   "source": [
    "Notebook collecting results for causal discovery algorithm ABAPC presented in the Argumentative Causal Discovery paper (Russo, Rapberger and Toni (2024))"
   ]
  },
  {
   "cell_type": "code",
   "execution_count": 1,
   "metadata": {},
   "outputs": [
    {
     "name": "stdout",
     "output_type": "stream",
     "text": [
      "['../../', '/opt/homebrew/Caskroom/miniconda/base/envs/aba-env/lib/python312.zip', '/opt/homebrew/Caskroom/miniconda/base/envs/aba-env/lib/python3.12', '/opt/homebrew/Caskroom/miniconda/base/envs/aba-env/lib/python3.12/lib-dynload', '', '/opt/homebrew/Caskroom/miniconda/base/envs/aba-env/lib/python3.12/site-packages', '../../ArgCausalDisco/utils/']\n"
     ]
    }
   ],
   "source": [
    "import warnings\n",
    "warnings.filterwarnings('ignore')\n",
    "import sys\n",
    "sys.path.insert(0,'../../')\n",
    "import numpy as np\n",
    "import pandas as pd\n",
    "pd.set_option('display.max_rows', 2000)\n",
    "sys.path.append('../../ArgCausalDisco/utils/')\n",
    "from ArgCausalDisco.utils.plotting import *\n",
    "print(sys.path)\n",
    "\n",
    "save_figs = True\n",
    "debug = False\n",
    "datasets = ['cancer', 'earthquake', 'survey', 'asia']\n",
    "dags_nodes_map = {'asia':8, 'cancer':5, 'earthquake':5, 'sachs':11, 'survey':6, 'alarm':37, 'child':20, 'insurance':27, 'hailfinder':56, 'hepar2':70}\n",
    "dags_arcs_map = {'asia':8, 'cancer':4, 'earthquake':4, 'sachs':17, 'survey':6, 'alarm':46, 'child':25, 'insurance':52, 'hailfinder':66, 'hepar2':123}\n",
    "methods = ['Random', 'FGS', 'NOTEARS-MLP', 'MPC', 'ABAPC (Ours)', 'ABASP (New)']\n",
    "names_dict = {'fgs':'FGS', 'nt':'NOTEARS-MLP', 'mpc':'MPC', 'random':'Random', 'abapc':'ABAPC (Ours)', 'ABASP (New)':'ABASP (New)'}\n",
    "symbols_dict = {'abapc':'triangle-down-dot','fgs':'triangle-up-dot','nt':'pentagon-dot','mpc':'hexagon2-dot', 'random':'x'}  \n",
    "colors_dict = {'abapc':sec_blue,'fgs':sec_orange,'nt':main_purple,'mpc':main_green,'random':'grey', 'ABASP (New)':'black'}\n",
    "version = 'bnlearn_50rep' ## for 5000 samples\n",
    "# version = 'bnlearn_dag_v5_2000' ## for 2000 samples"
   ]
  },
  {
   "cell_type": "markdown",
   "metadata": {},
   "source": [
    "## Main Paper Results"
   ]
  },
  {
   "cell_type": "markdown",
   "metadata": {},
   "source": [
    "### CPDAG Evaluation"
   ]
  },
  {
   "cell_type": "code",
   "execution_count": 2,
   "metadata": {},
   "outputs": [
    {
     "data": {
      "application/vnd.plotly.v1+json": {
       "config": {
        "plotlyServerURL": "https://plot.ly"
       },
       "data": [
        {
         "error_y": {
          "array": {
           "bdata": "CtejcD0K7T8K16NwPQrnPzCW/GLJL+Y/9ihcj8L16z8=",
           "dtype": "f8"
          },
          "type": "data",
          "visible": true
         },
         "marker": {
          "color": "grey"
         },
         "name": "Random",
         "offsetgroup": "0",
         "opacity": 0.6,
         "showlegend": true,
         "type": "bar",
         "x": [
          "CANCER<br> |V|=5, |E|=4",
          "EARTHQUAKE<br> |V|=5, |E|=4",
          "SURVEY<br> |V|=6, |E|=6",
          "ASIA<br> |V|=8, |E|=8"
         ],
         "y": {
          "bdata": "w/UoXI/C/z+F61G4HoX/P36x5BdLfgFAexSuR+H6CEA=",
          "dtype": "f8"
         },
         "yaxis": "y"
        },
        {
         "error_y": {
          "array": {
           "bdata": "FK5H4XoU3j/sUbgehevVP+i0gU4b6OA/MzMzMzMz5D8=",
           "dtype": "f8"
          },
          "type": "data",
          "visible": true
         },
         "marker": {
          "color": "#b85c00"
         },
         "name": "FGS",
         "offsetgroup": "1",
         "opacity": 0.6,
         "showlegend": true,
         "type": "bar",
         "x": [
          "CANCER<br> |V|=5, |E|=4",
          "EARTHQUAKE<br> |V|=5, |E|=4",
          "SURVEY<br> |V|=6, |E|=6",
          "ASIA<br> |V|=8, |E|=8"
         ],
         "y": {
          "bdata": "H4XrUbge+T9mZmZmZmbyPzfQaQOdNgJA4XoUrkchEEA=",
          "dtype": "f8"
         },
         "yaxis": "y"
        },
        {
         "error_y": {
          "array": {
           "bdata": "zczMzMzM2D97FK5H4XrqPwAAAAAAAAAA7FG4HoXr4D8=",
           "dtype": "f8"
          },
          "type": "data",
          "visible": true
         },
         "marker": {
          "color": "#9454c4"
         },
         "name": "NOTEARS-MLP",
         "offsetgroup": "2",
         "opacity": 0.6,
         "showlegend": true,
         "type": "bar",
         "x": [
          "CANCER<br> |V|=5, |E|=4",
          "EARTHQUAKE<br> |V|=5, |E|=4",
          "SURVEY<br> |V|=6, |E|=6",
          "ASIA<br> |V|=8, |E|=8"
         ],
         "y": {
          "bdata": "j8L1KFyPAkA9CtejcD3yP6uqqqqqqgZAhetRuB6FAEA=",
          "dtype": "f8"
         },
         "yaxis": "y"
        },
        {
         "error_y": {
          "array": {
           "bdata": "9ihcj8L13D8AAAAAAAAAADCW/GLJL+I/ZmZmZmZm5j8=",
           "dtype": "f8"
          },
          "type": "data",
          "visible": true
         },
         "marker": {
          "color": "#379f9f"
         },
         "name": "MPC",
         "offsetgroup": "3",
         "opacity": 0.6,
         "showlegend": true,
         "type": "bar",
         "x": [
          "CANCER<br> |V|=5, |E|=4",
          "EARTHQUAKE<br> |V|=5, |E|=4",
          "SURVEY<br> |V|=6, |E|=6",
          "ASIA<br> |V|=8, |E|=8"
         ],
         "y": {
          "bdata": "CtejcD0K7z8AAAAAAAD0P2kDnTbQaes/exSuR+F6/j8=",
          "dtype": "f8"
         },
         "yaxis": "y"
        },
        {
         "error_y": {
          "array": {
           "bdata": "hetRuB6F4T8AAAAAAAAAAHd3d3d3d+M/KVyPwvUo6z8=",
           "dtype": "f8"
          },
          "type": "data",
          "visible": true
         },
         "marker": {
          "color": "#0085CA"
         },
         "name": "ABAPC (Ours)",
         "offsetgroup": "4",
         "opacity": 0.6,
         "showlegend": true,
         "type": "bar",
         "x": [
          "CANCER<br> |V|=5, |E|=4",
          "EARTHQUAKE<br> |V|=5, |E|=4",
          "SURVEY<br> |V|=6, |E|=6",
          "ASIA<br> |V|=8, |E|=8"
         ],
         "y": {
          "bdata": "rkfhehSuA0AAAAAAAAAAAPYoXI/C9QJAcT0K16Nw9z8=",
          "dtype": "f8"
         },
         "yaxis": "y"
        },
        {
         "error_y": {
          "array": {
           "bdata": "FK5H4XoU3j/hehSuR+HCP6cNdNpAp+E/",
           "dtype": "f8"
          },
          "type": "data",
          "visible": true
         },
         "marker": {
          "color": "black"
         },
         "name": "ABASP (New)",
         "offsetgroup": "5",
         "opacity": 0.6,
         "showlegend": true,
         "type": "bar",
         "x": [
          "CANCER<br> |V|=5, |E|=4",
          "EARTHQUAKE<br> |V|=5, |E|=4",
          "SURVEY<br> |V|=6, |E|=6"
         ],
         "y": {
          "bdata": "hetRuB6FAkC4HoXrUbieP9MGOm2g0wJA",
          "dtype": "f8"
         },
         "yaxis": "y"
        },
        {
         "marker": {
          "color": "white"
         },
         "name": "",
         "offsetgroup": "6",
         "opacity": 1,
         "showlegend": false,
         "type": "bar",
         "x": [
          "CANCER<br> |V|=5, |E|=4",
          "EARTHQUAKE<br> |V|=5, |E|=4",
          "SURVEY<br> |V|=6, |E|=6"
         ],
         "y": {
          "bdata": "AAAAAAAAAAAAAAAAAAAAAAAAAAAAAAAA",
          "dtype": "f8"
         }
        },
        {
         "error_y": {
          "array": {
           "bdata": "PQrXo3A96D+uR+F6FK7rP2kDnTbQaec/XI/C9Shc6D8=",
           "dtype": "f8"
          },
          "type": "data",
          "visible": true
         },
         "marker": {
          "color": "grey"
         },
         "name": "Random",
         "offsetgroup": "7",
         "opacity": 0.6,
         "showlegend": false,
         "type": "bar",
         "x": [
          "CANCER<br> |V|=5, |E|=4",
          "EARTHQUAKE<br> |V|=5, |E|=4",
          "SURVEY<br> |V|=6, |E|=6",
          "ASIA<br> |V|=8, |E|=8"
         ],
         "y": {
          "bdata": "FK5H4XoUDEDD9Shcj8ILQNBpA5020A1AH4XrUbieEkA=",
          "dtype": "f8"
         },
         "yaxis": "y2"
        },
        {
         "error_y": {
          "array": {
           "bdata": "FK5H4XoU3j9cj8L1KFy/P3TaQKcNdOI/exSuR+F61j8=",
           "dtype": "f8"
          },
          "type": "data",
          "visible": true
         },
         "marker": {
          "color": "#b85c00"
         },
         "name": "FGS",
         "offsetgroup": "8",
         "opacity": 0.6,
         "showlegend": false,
         "type": "bar",
         "x": [
          "CANCER<br> |V|=5, |E|=4",
          "EARTHQUAKE<br> |V|=5, |E|=4",
          "SURVEY<br> |V|=6, |E|=6",
          "ASIA<br> |V|=8, |E|=8"
         ],
         "y": {
          "bdata": "SOF6FK5HEEAAAAAAAAAOQIwlv1jyiwtAmpmZmZnZFEA=",
          "dtype": "f8"
         },
         "yaxis": "y2"
        },
        {
         "error_y": {
          "array": {
           "bdata": "9ihcj8L1uD8zMzMzMzPwPwAAAAAAAAAAzczMzMzM4z8=",
           "dtype": "f8"
          },
          "type": "data",
          "visible": true
         },
         "marker": {
          "color": "#9454c4"
         },
         "name": "NOTEARS-MLP",
         "offsetgroup": "9",
         "opacity": 0.6,
         "showlegend": false,
         "type": "bar",
         "x": [
          "CANCER<br> |V|=5, |E|=4",
          "EARTHQUAKE<br> |V|=5, |E|=4",
          "SURVEY<br> |V|=6, |E|=6",
          "ASIA<br> |V|=8, |E|=8"
         ],
         "y": {
          "bdata": "XI/C9ShcBEDsUbgehesKQKuqqqqqqgZAzczMzMyMFEA=",
          "dtype": "f8"
         },
         "yaxis": "y2"
        },
        {
         "error_y": {
          "array": {
           "bdata": "9ihcj8L13D8AAAAAAAAAAEGnDXTaQOc/KVyPwvUo3j8=",
           "dtype": "f8"
          },
          "type": "data",
          "visible": true
         },
         "marker": {
          "color": "#379f9f"
         },
         "name": "MPC",
         "offsetgroup": "10",
         "opacity": 0.6,
         "showlegend": false,
         "type": "bar",
         "x": [
          "CANCER<br> |V|=5, |E|=4",
          "EARTHQUAKE<br> |V|=5, |E|=4",
          "SURVEY<br> |V|=6, |E|=6",
          "ASIA<br> |V|=8, |E|=8"
         ],
         "y": {
          "bdata": "w/UoXI/CC0AAAAAAAAAOQNQGOm2g0wpAw/UoXI+CFEA=",
          "dtype": "f8"
         },
         "yaxis": "y2"
        },
        {
         "error_y": {
          "array": {
           "bdata": "uB6F61G44D8pXI/C9SjyP4wlv1jyi90/rkfhehSu7z8=",
           "dtype": "f8"
          },
          "type": "data",
          "visible": true
         },
         "marker": {
          "color": "#0085CA"
         },
         "name": "ABAPC (Ours)",
         "offsetgroup": "11",
         "opacity": 0.6,
         "showlegend": false,
         "type": "bar",
         "x": [
          "CANCER<br> |V|=5, |E|=4",
          "EARTHQUAKE<br> |V|=5, |E|=4",
          "SURVEY<br> |V|=6, |E|=6",
          "ASIA<br> |V|=8, |E|=8"
         ],
         "y": {
          "bdata": "CtejcD0KBkCkcD0K16MCQOUXS36x5AVAw/UoXI/CEEA=",
          "dtype": "f8"
         },
         "yaxis": "y2"
        },
        {
         "error_y": {
          "array": {
           "bdata": "pHA9Ctej4D/NzMzMzMzyP7y7u7u7u9s/",
           "dtype": "f8"
          },
          "type": "data",
          "visible": true
         },
         "marker": {
          "color": "black"
         },
         "name": "ABASP (New)",
         "offsetgroup": "12",
         "opacity": 0.6,
         "showlegend": false,
         "type": "bar",
         "x": [
          "CANCER<br> |V|=5, |E|=4",
          "EARTHQUAKE<br> |V|=5, |E|=4",
          "SURVEY<br> |V|=6, |E|=6"
         ],
         "y": {
          "bdata": "hetRuB6FBkAAAAAAAAAFQAOdNtBpAwVA",
          "dtype": "f8"
         },
         "yaxis": "y2"
        }
       ],
       "layout": {
        "annotations": [
         {
          "font": {
           "color": "Black",
           "family": "Serif",
           "size": 20
          },
          "showarrow": false,
          "text": "Dataset:",
          "x": 0,
          "xanchor": "center",
          "xref": "paper",
          "y": -0.08,
          "yanchor": "bottom",
          "yref": "paper"
         },
         {
          "bgcolor": "#E5ECF6",
          "bordercolor": "#E5ECF6",
          "borderwidth": 2,
          "font": {
           "color": "black",
           "size": 20
          },
          "opacity": 0.8,
          "showarrow": false,
          "text": "           Low           ",
          "x": 0.017,
          "xanchor": "left",
          "xref": "x domain",
          "y": 1.015,
          "yref": "y domain"
         },
         {
          "bgcolor": "#E5ECF6",
          "bordercolor": "#E5ECF6",
          "borderwidth": 2,
          "font": {
           "color": "black",
           "size": 20
          },
          "opacity": 0.8,
          "showarrow": false,
          "text": "           High           ",
          "x": 0.132,
          "xanchor": "left",
          "xref": "x domain",
          "y": 1.015,
          "yref": "y domain"
         },
         {
          "bgcolor": "#E5ECF6",
          "bordercolor": "#E5ECF6",
          "borderwidth": 2,
          "font": {
           "color": "black",
           "size": 20
          },
          "opacity": 0.8,
          "showarrow": false,
          "text": "           Low           ",
          "x": 0.267,
          "xanchor": "left",
          "xref": "x domain",
          "y": 1.015,
          "yref": "y domain"
         },
         {
          "bgcolor": "#E5ECF6",
          "bordercolor": "#E5ECF6",
          "borderwidth": 2,
          "font": {
           "color": "black",
           "size": 20
          },
          "opacity": 0.8,
          "showarrow": false,
          "text": "           High           ",
          "x": 0.382,
          "xanchor": "left",
          "xref": "x domain",
          "y": 1.015,
          "yref": "y domain"
         },
         {
          "bgcolor": "#E5ECF6",
          "bordercolor": "#E5ECF6",
          "borderwidth": 2,
          "font": {
           "color": "black",
           "size": 20
          },
          "opacity": 0.8,
          "showarrow": false,
          "text": "           Low           ",
          "x": 0.517,
          "xanchor": "left",
          "xref": "x domain",
          "y": 1.015,
          "yref": "y domain"
         },
         {
          "bgcolor": "#E5ECF6",
          "bordercolor": "#E5ECF6",
          "borderwidth": 2,
          "font": {
           "color": "black",
           "size": 20
          },
          "opacity": 0.8,
          "showarrow": false,
          "text": "           High           ",
          "x": 0.632,
          "xanchor": "left",
          "xref": "x domain",
          "y": 1.015,
          "yref": "y domain"
         },
         {
          "bgcolor": "#E5ECF6",
          "bordercolor": "#E5ECF6",
          "borderwidth": 2,
          "font": {
           "color": "black",
           "size": 20
          },
          "opacity": 0.8,
          "showarrow": false,
          "text": "           Low           ",
          "x": 0.767,
          "xanchor": "left",
          "xref": "x domain",
          "y": 1.015,
          "yref": "y domain"
         },
         {
          "bgcolor": "#E5ECF6",
          "bordercolor": "#E5ECF6",
          "borderwidth": 2,
          "font": {
           "color": "black",
           "size": 20
          },
          "opacity": 0.8,
          "showarrow": false,
          "text": "           High           ",
          "x": 0.882,
          "xanchor": "left",
          "xref": "x domain",
          "y": 1.015,
          "yref": "y domain"
         }
        ],
        "bargap": 0.15,
        "bargroupgap": 0.1,
        "barmode": "group",
        "font": {
         "color": "black",
         "family": "Serif",
         "size": 20
        },
        "height": 700,
        "hovermode": "x unified",
        "legend": {
         "orientation": "h",
         "x": 0.5,
         "xanchor": "center",
         "y": 1.1,
         "yanchor": "top"
        },
        "margin": {
         "b": 70,
         "l": 40,
         "r": 0,
         "t": 20
        },
        "template": {
         "data": {
          "bar": [
           {
            "error_x": {
             "color": "#2a3f5f"
            },
            "error_y": {
             "color": "#2a3f5f"
            },
            "marker": {
             "line": {
              "color": "white",
              "width": 0.5
             },
             "pattern": {
              "fillmode": "overlay",
              "size": 10,
              "solidity": 0.2
             }
            },
            "type": "bar"
           }
          ],
          "barpolar": [
           {
            "marker": {
             "line": {
              "color": "white",
              "width": 0.5
             },
             "pattern": {
              "fillmode": "overlay",
              "size": 10,
              "solidity": 0.2
             }
            },
            "type": "barpolar"
           }
          ],
          "carpet": [
           {
            "aaxis": {
             "endlinecolor": "#2a3f5f",
             "gridcolor": "#C8D4E3",
             "linecolor": "#C8D4E3",
             "minorgridcolor": "#C8D4E3",
             "startlinecolor": "#2a3f5f"
            },
            "baxis": {
             "endlinecolor": "#2a3f5f",
             "gridcolor": "#C8D4E3",
             "linecolor": "#C8D4E3",
             "minorgridcolor": "#C8D4E3",
             "startlinecolor": "#2a3f5f"
            },
            "type": "carpet"
           }
          ],
          "choropleth": [
           {
            "colorbar": {
             "outlinewidth": 0,
             "ticks": ""
            },
            "type": "choropleth"
           }
          ],
          "contour": [
           {
            "colorbar": {
             "outlinewidth": 0,
             "ticks": ""
            },
            "colorscale": [
             [
              0,
              "#0d0887"
             ],
             [
              0.1111111111111111,
              "#46039f"
             ],
             [
              0.2222222222222222,
              "#7201a8"
             ],
             [
              0.3333333333333333,
              "#9c179e"
             ],
             [
              0.4444444444444444,
              "#bd3786"
             ],
             [
              0.5555555555555556,
              "#d8576b"
             ],
             [
              0.6666666666666666,
              "#ed7953"
             ],
             [
              0.7777777777777778,
              "#fb9f3a"
             ],
             [
              0.8888888888888888,
              "#fdca26"
             ],
             [
              1,
              "#f0f921"
             ]
            ],
            "type": "contour"
           }
          ],
          "contourcarpet": [
           {
            "colorbar": {
             "outlinewidth": 0,
             "ticks": ""
            },
            "type": "contourcarpet"
           }
          ],
          "heatmap": [
           {
            "colorbar": {
             "outlinewidth": 0,
             "ticks": ""
            },
            "colorscale": [
             [
              0,
              "#0d0887"
             ],
             [
              0.1111111111111111,
              "#46039f"
             ],
             [
              0.2222222222222222,
              "#7201a8"
             ],
             [
              0.3333333333333333,
              "#9c179e"
             ],
             [
              0.4444444444444444,
              "#bd3786"
             ],
             [
              0.5555555555555556,
              "#d8576b"
             ],
             [
              0.6666666666666666,
              "#ed7953"
             ],
             [
              0.7777777777777778,
              "#fb9f3a"
             ],
             [
              0.8888888888888888,
              "#fdca26"
             ],
             [
              1,
              "#f0f921"
             ]
            ],
            "type": "heatmap"
           }
          ],
          "histogram": [
           {
            "marker": {
             "pattern": {
              "fillmode": "overlay",
              "size": 10,
              "solidity": 0.2
             }
            },
            "type": "histogram"
           }
          ],
          "histogram2d": [
           {
            "colorbar": {
             "outlinewidth": 0,
             "ticks": ""
            },
            "colorscale": [
             [
              0,
              "#0d0887"
             ],
             [
              0.1111111111111111,
              "#46039f"
             ],
             [
              0.2222222222222222,
              "#7201a8"
             ],
             [
              0.3333333333333333,
              "#9c179e"
             ],
             [
              0.4444444444444444,
              "#bd3786"
             ],
             [
              0.5555555555555556,
              "#d8576b"
             ],
             [
              0.6666666666666666,
              "#ed7953"
             ],
             [
              0.7777777777777778,
              "#fb9f3a"
             ],
             [
              0.8888888888888888,
              "#fdca26"
             ],
             [
              1,
              "#f0f921"
             ]
            ],
            "type": "histogram2d"
           }
          ],
          "histogram2dcontour": [
           {
            "colorbar": {
             "outlinewidth": 0,
             "ticks": ""
            },
            "colorscale": [
             [
              0,
              "#0d0887"
             ],
             [
              0.1111111111111111,
              "#46039f"
             ],
             [
              0.2222222222222222,
              "#7201a8"
             ],
             [
              0.3333333333333333,
              "#9c179e"
             ],
             [
              0.4444444444444444,
              "#bd3786"
             ],
             [
              0.5555555555555556,
              "#d8576b"
             ],
             [
              0.6666666666666666,
              "#ed7953"
             ],
             [
              0.7777777777777778,
              "#fb9f3a"
             ],
             [
              0.8888888888888888,
              "#fdca26"
             ],
             [
              1,
              "#f0f921"
             ]
            ],
            "type": "histogram2dcontour"
           }
          ],
          "mesh3d": [
           {
            "colorbar": {
             "outlinewidth": 0,
             "ticks": ""
            },
            "type": "mesh3d"
           }
          ],
          "parcoords": [
           {
            "line": {
             "colorbar": {
              "outlinewidth": 0,
              "ticks": ""
             }
            },
            "type": "parcoords"
           }
          ],
          "pie": [
           {
            "automargin": true,
            "type": "pie"
           }
          ],
          "scatter": [
           {
            "fillpattern": {
             "fillmode": "overlay",
             "size": 10,
             "solidity": 0.2
            },
            "type": "scatter"
           }
          ],
          "scatter3d": [
           {
            "line": {
             "colorbar": {
              "outlinewidth": 0,
              "ticks": ""
             }
            },
            "marker": {
             "colorbar": {
              "outlinewidth": 0,
              "ticks": ""
             }
            },
            "type": "scatter3d"
           }
          ],
          "scattercarpet": [
           {
            "marker": {
             "colorbar": {
              "outlinewidth": 0,
              "ticks": ""
             }
            },
            "type": "scattercarpet"
           }
          ],
          "scattergeo": [
           {
            "marker": {
             "colorbar": {
              "outlinewidth": 0,
              "ticks": ""
             }
            },
            "type": "scattergeo"
           }
          ],
          "scattergl": [
           {
            "marker": {
             "colorbar": {
              "outlinewidth": 0,
              "ticks": ""
             }
            },
            "type": "scattergl"
           }
          ],
          "scattermap": [
           {
            "marker": {
             "colorbar": {
              "outlinewidth": 0,
              "ticks": ""
             }
            },
            "type": "scattermap"
           }
          ],
          "scattermapbox": [
           {
            "marker": {
             "colorbar": {
              "outlinewidth": 0,
              "ticks": ""
             }
            },
            "type": "scattermapbox"
           }
          ],
          "scatterpolar": [
           {
            "marker": {
             "colorbar": {
              "outlinewidth": 0,
              "ticks": ""
             }
            },
            "type": "scatterpolar"
           }
          ],
          "scatterpolargl": [
           {
            "marker": {
             "colorbar": {
              "outlinewidth": 0,
              "ticks": ""
             }
            },
            "type": "scatterpolargl"
           }
          ],
          "scatterternary": [
           {
            "marker": {
             "colorbar": {
              "outlinewidth": 0,
              "ticks": ""
             }
            },
            "type": "scatterternary"
           }
          ],
          "surface": [
           {
            "colorbar": {
             "outlinewidth": 0,
             "ticks": ""
            },
            "colorscale": [
             [
              0,
              "#0d0887"
             ],
             [
              0.1111111111111111,
              "#46039f"
             ],
             [
              0.2222222222222222,
              "#7201a8"
             ],
             [
              0.3333333333333333,
              "#9c179e"
             ],
             [
              0.4444444444444444,
              "#bd3786"
             ],
             [
              0.5555555555555556,
              "#d8576b"
             ],
             [
              0.6666666666666666,
              "#ed7953"
             ],
             [
              0.7777777777777778,
              "#fb9f3a"
             ],
             [
              0.8888888888888888,
              "#fdca26"
             ],
             [
              1,
              "#f0f921"
             ]
            ],
            "type": "surface"
           }
          ],
          "table": [
           {
            "cells": {
             "fill": {
              "color": "#EBF0F8"
             },
             "line": {
              "color": "white"
             }
            },
            "header": {
             "fill": {
              "color": "#C8D4E3"
             },
             "line": {
              "color": "white"
             }
            },
            "type": "table"
           }
          ]
         },
         "layout": {
          "annotationdefaults": {
           "arrowcolor": "#2a3f5f",
           "arrowhead": 0,
           "arrowwidth": 1
          },
          "autotypenumbers": "strict",
          "coloraxis": {
           "colorbar": {
            "outlinewidth": 0,
            "ticks": ""
           }
          },
          "colorscale": {
           "diverging": [
            [
             0,
             "#8e0152"
            ],
            [
             0.1,
             "#c51b7d"
            ],
            [
             0.2,
             "#de77ae"
            ],
            [
             0.3,
             "#f1b6da"
            ],
            [
             0.4,
             "#fde0ef"
            ],
            [
             0.5,
             "#f7f7f7"
            ],
            [
             0.6,
             "#e6f5d0"
            ],
            [
             0.7,
             "#b8e186"
            ],
            [
             0.8,
             "#7fbc41"
            ],
            [
             0.9,
             "#4d9221"
            ],
            [
             1,
             "#276419"
            ]
           ],
           "sequential": [
            [
             0,
             "#0d0887"
            ],
            [
             0.1111111111111111,
             "#46039f"
            ],
            [
             0.2222222222222222,
             "#7201a8"
            ],
            [
             0.3333333333333333,
             "#9c179e"
            ],
            [
             0.4444444444444444,
             "#bd3786"
            ],
            [
             0.5555555555555556,
             "#d8576b"
            ],
            [
             0.6666666666666666,
             "#ed7953"
            ],
            [
             0.7777777777777778,
             "#fb9f3a"
            ],
            [
             0.8888888888888888,
             "#fdca26"
            ],
            [
             1,
             "#f0f921"
            ]
           ],
           "sequentialminus": [
            [
             0,
             "#0d0887"
            ],
            [
             0.1111111111111111,
             "#46039f"
            ],
            [
             0.2222222222222222,
             "#7201a8"
            ],
            [
             0.3333333333333333,
             "#9c179e"
            ],
            [
             0.4444444444444444,
             "#bd3786"
            ],
            [
             0.5555555555555556,
             "#d8576b"
            ],
            [
             0.6666666666666666,
             "#ed7953"
            ],
            [
             0.7777777777777778,
             "#fb9f3a"
            ],
            [
             0.8888888888888888,
             "#fdca26"
            ],
            [
             1,
             "#f0f921"
            ]
           ]
          },
          "colorway": [
           "#636efa",
           "#EF553B",
           "#00cc96",
           "#ab63fa",
           "#FFA15A",
           "#19d3f3",
           "#FF6692",
           "#B6E880",
           "#FF97FF",
           "#FECB52"
          ],
          "font": {
           "color": "#2a3f5f"
          },
          "geo": {
           "bgcolor": "white",
           "lakecolor": "white",
           "landcolor": "white",
           "showlakes": true,
           "showland": true,
           "subunitcolor": "#C8D4E3"
          },
          "hoverlabel": {
           "align": "left"
          },
          "hovermode": "closest",
          "mapbox": {
           "style": "light"
          },
          "paper_bgcolor": "white",
          "plot_bgcolor": "white",
          "polar": {
           "angularaxis": {
            "gridcolor": "#EBF0F8",
            "linecolor": "#EBF0F8",
            "ticks": ""
           },
           "bgcolor": "white",
           "radialaxis": {
            "gridcolor": "#EBF0F8",
            "linecolor": "#EBF0F8",
            "ticks": ""
           }
          },
          "scene": {
           "xaxis": {
            "backgroundcolor": "white",
            "gridcolor": "#DFE8F3",
            "gridwidth": 2,
            "linecolor": "#EBF0F8",
            "showbackground": true,
            "ticks": "",
            "zerolinecolor": "#EBF0F8"
           },
           "yaxis": {
            "backgroundcolor": "white",
            "gridcolor": "#DFE8F3",
            "gridwidth": 2,
            "linecolor": "#EBF0F8",
            "showbackground": true,
            "ticks": "",
            "zerolinecolor": "#EBF0F8"
           },
           "zaxis": {
            "backgroundcolor": "white",
            "gridcolor": "#DFE8F3",
            "gridwidth": 2,
            "linecolor": "#EBF0F8",
            "showbackground": true,
            "ticks": "",
            "zerolinecolor": "#EBF0F8"
           }
          },
          "shapedefaults": {
           "line": {
            "color": "#2a3f5f"
           }
          },
          "ternary": {
           "aaxis": {
            "gridcolor": "#DFE8F3",
            "linecolor": "#A2B1C6",
            "ticks": ""
           },
           "baxis": {
            "gridcolor": "#DFE8F3",
            "linecolor": "#A2B1C6",
            "ticks": ""
           },
           "bgcolor": "white",
           "caxis": {
            "gridcolor": "#DFE8F3",
            "linecolor": "#A2B1C6",
            "ticks": ""
           }
          },
          "title": {
           "x": 0.05
          },
          "xaxis": {
           "automargin": true,
           "gridcolor": "#EBF0F8",
           "linecolor": "#EBF0F8",
           "ticks": "",
           "title": {
            "standoff": 15
           },
           "zerolinecolor": "#EBF0F8",
           "zerolinewidth": 2
          },
          "yaxis": {
           "automargin": true,
           "gridcolor": "#EBF0F8",
           "linecolor": "#EBF0F8",
           "ticks": "",
           "title": {
            "standoff": 15
           },
           "zerolinecolor": "#EBF0F8",
           "zerolinewidth": 2
          }
         }
        },
        "width": 1600,
        "xaxis": {
         "anchor": "y",
         "domain": [
          0,
          0.94
         ]
        },
        "yaxis": {
         "anchor": "x",
         "domain": [
          0,
          1
         ],
         "range": [
          0,
          6
         ],
         "title": {
          "font": {
           "size": 20
          },
          "text": "Normalised SID = SID / Number of Edges in DAG"
         }
        },
        "yaxis2": {
         "anchor": "x",
         "overlaying": "y",
         "range": [
          0,
          6
         ],
         "scaleanchor": 0,
         "showgrid": false,
         "showline": false,
         "showticklabels": false,
         "side": "right",
         "title": {
          "font": {
           "size": 20
          },
          "text": ""
         },
         "zeroline": true
        }
       }
      }
     },
     "metadata": {},
     "output_type": "display_data"
    }
   ],
   "source": [
    "version_cpdag = version+'_cpdag'\n",
    "new = np.load('./ABASP.npy', allow_pickle=True)\n",
    "old = np.load(f\"../../ArgCausalDisco/results/stored_results_{version}_cpdag.npy\", allow_pickle=True)\n",
    "all_sum = pd.DataFrame(np.vstack((old, new)), \n",
    "                       columns=['dataset', 'model', 'elapsed_mean', 'elapsed_std', 'nnz_mean', 'nnz_std', \n",
    "                                'fdr_mean', 'fdr_std', 'tpr_mean', 'tpr_std', 'fpr_mean', 'fpr_std', \n",
    "                                'precision_mean', 'precision_std', 'recall_mean', 'recall_std',\n",
    "                                'F1_mean', 'F1_std', 'shd_mean', 'shd_std', \n",
    "                                'SID_low_mean', 'SID_low_std', 'SID_high_mean', 'SID_high_std'\n",
    "                                ])\n",
    "\n",
    "all_sum['n_edges'] = all_sum['dataset'].map(dags_arcs_map)\n",
    "all_sum['n_nodes'] = all_sum['dataset'].map(dags_nodes_map)\n",
    "for var in ['shd','SID_low','SID_high']:\n",
    "    all_sum['p_'+var+'_mean'] = all_sum[var+'_mean'].astype(float)/all_sum['n_edges'].astype(int)\n",
    "    all_sum['p_'+var+'_std'] = all_sum[var+'_std'].astype(float)/all_sum['n_edges'].astype(int)\n",
    "all_sum['dataset'] = [a.upper() for a in all_sum[\"dataset\"].astype(str)]\n",
    "all_sum['dataset'] = all_sum['dataset'] +np.repeat(\"<br> |V|=\",len(all_sum))+ all_sum[\"n_nodes\"].astype(str)+np.repeat(\", |E|=\",len(all_sum))+\\\n",
    "                     all_sum[\"n_edges\"].astype(str)\n",
    "\n",
    "double_bar_chart_plotly(all_sum, ['p_SID_low','p_SID_high'], names_dict, colors_dict, methods, save_figs=save_figs, output_name=\"./Fig.2_SID_cpdag.html\", debug=False, range_y1=[0,6], range_y2=[0,6])#"
   ]
  },
  {
   "cell_type": "code",
   "execution_count": null,
   "metadata": {},
   "outputs": [],
   "source": []
  }
 ],
 "metadata": {
  "kernelspec": {
   "display_name": "aba-env",
   "language": "python",
   "name": "python3"
  },
  "language_info": {
   "codemirror_mode": {
    "name": "ipython",
    "version": 3
   },
   "file_extension": ".py",
   "mimetype": "text/x-python",
   "name": "python",
   "nbconvert_exporter": "python",
   "pygments_lexer": "ipython3",
   "version": "3.12.9"
  }
 },
 "nbformat": 4,
 "nbformat_minor": 2
}
