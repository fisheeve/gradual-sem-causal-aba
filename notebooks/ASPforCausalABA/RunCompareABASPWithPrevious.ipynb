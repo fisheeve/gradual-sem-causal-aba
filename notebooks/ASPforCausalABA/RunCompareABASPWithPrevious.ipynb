{
 "cells": [
  {
   "cell_type": "code",
   "execution_count": null,
   "id": "7b057bb2",
   "metadata": {},
   "outputs": [],
   "source": [
    "import sys\n",
    "sys.path.insert(0, '../..')\n",
    "sys.path.insert(0, '../../ArgCausalDisco')\n",
    "sys.path.insert(0, '../../notears')"
   ]
  },
  {
   "cell_type": "code",
   "execution_count": null,
   "id": "79f8e3a3",
   "metadata": {},
   "outputs": [],
   "source": [
    "from src.abasp.factory import ABASPSolverFactory\n",
    "from src.abasp.utils import Fact"
   ]
  },
  {
   "cell_type": "code",
   "execution_count": null,
   "id": "0d7a18c0",
   "metadata": {},
   "outputs": [],
   "source": [
    "from aspforaba.src.aspforaba import ABASolver\n",
    "from cd_algorithms.PC import pc\n",
    "from utils.data_utils import load_bnlearn_data_dag, simulate_dag\n",
    "\n",
    "from itertools import combinations, product, chain\n",
    "from utils.graph_utils import initial_strength, set_of_models_to_set_of_graphs"
   ]
  },
  {
   "cell_type": "markdown",
   "id": "2ead534f",
   "metadata": {},
   "source": [
    "## Irrelevant"
   ]
  },
  {
   "cell_type": "code",
   "execution_count": null,
   "id": "83f2699f",
   "metadata": {},
   "outputs": [],
   "source": [
    "dataset_name = 'cancer'\n",
    "data_path='../../ArgCausalDisco/datasets'\n",
    "sample_size = 5000\n",
    "seed = 0\n",
    "\n",
    "X_s, B_true = load_bnlearn_data_dag(dataset_name, \n",
    "                                    data_path, \n",
    "                                    sample_size, \n",
    "                                    seed=seed, \n",
    "                                    print_info=True, \n",
    "                                    standardise=True)\n",
    "\n",
    "data = X_s\n",
    "alpha = 0.01\n",
    "indep_test = 'fisherz'\n",
    "uc_rule = 5\n",
    "stable = True\n",
    "\n",
    "n_nodes = data.shape[1]\n",
    "\n",
    "cg = pc(data=data, alpha=alpha, indep_test=indep_test, uc_rule=uc_rule, stable=stable, show_progress=True, verbose=True)\n",
    "\n",
    "## Extract facts from PC\n",
    "facts = []\n",
    "for node1, node2 in combinations(range(n_nodes), 2):\n",
    "    test_PC = [t for t in cg.sepset[node1,node2]]\n",
    "    for sep_set, p in test_PC:\n",
    "        dep_type_PC = \"indep\" if p > alpha else \"dep\" \n",
    "        init_strength_value = initial_strength(p, len(sep_set), alpha, 0.5, n_nodes)\n",
    "        s_str = 'empty' if len(sep_set)==0 else 's'+'y'.join([str(i) for i in sep_set])\n",
    "        facts.append((node1,sep_set,node2,dep_type_PC, f\"{dep_type_PC}({node1},{node2},{s_str}).\", init_strength_value))\n",
    "print('Fact sample:', facts[3])"
   ]
  },
  {
   "cell_type": "code",
   "execution_count": null,
   "id": "8b16dc54",
   "metadata": {},
   "outputs": [],
   "source": [
    "len(facts), len(set(facts))"
   ]
  },
  {
   "cell_type": "code",
   "execution_count": null,
   "id": "b2e509cb",
   "metadata": {},
   "outputs": [],
   "source": [
    "sorted_facts = [Fact.from_tuple(fact) for fact in set(facts)]\n",
    "# sorted by descending strength\n",
    "sorted_facts = sorted(sorted_facts, key=lambda x: x.score, reverse=True)\n"
   ]
  },
  {
   "cell_type": "code",
   "execution_count": null,
   "id": "68531149",
   "metadata": {},
   "outputs": [],
   "source": [
    "# binary search to find the largest fact set where stable extensions exist\n",
    "\n",
    "left_idx = 0\n",
    "right_idx = len(sorted_facts) - 1\n",
    "factory = ABASPSolverFactory(n_nodes=n_nodes)\n",
    "\n",
    "result_table = dict()  # fact_idx: result, result is True if extension was found\n",
    "\n",
    "def get_extensions(factory: ABASPSolverFactory, facts, result_table):\n",
    "    index = len(facts) - 1\n",
    "\n",
    "    if index not in result_table:\n",
    "        solver = factory.create_solver(facts)\n",
    "        extensions = solver.enumerate_extensions('ST')\n",
    "        result_table[index] = extensions if extensions is not None else []\n",
    "\n",
    "    return result_table[index]\n",
    "\n",
    "final_extensions = None\n",
    "final_facts = None\n",
    "final_fact_index = None\n",
    "\n",
    "while left_idx <= right_idx:\n",
    "    mid = (left_idx + right_idx) // 2\n",
    "\n",
    "    exts_mid = get_extensions(factory, sorted_facts[:mid + 1], result_table)\n",
    "    exts_mid_next = get_extensions(factory, sorted_facts[:mid + 2], result_table)\n",
    "\n",
    "    if len(exts_mid) == 0:  # overshoot\n",
    "        right_idx = mid - 1\n",
    "    elif len(exts_mid_next) > 0:  # undershoot\n",
    "        left_idx = mid + 1\n",
    "    else:\n",
    "        # mid is the largest index where extensions exist\n",
    "        final_extensions = exts_mid\n",
    "        final_facts = sorted_facts[:mid + 1]\n",
    "        final_fact_index = mid\n",
    "        break\n"
   ]
  },
  {
   "cell_type": "code",
   "execution_count": null,
   "id": "3bfcc746",
   "metadata": {},
   "outputs": [],
   "source": [
    "final_fact_index"
   ]
  },
  {
   "cell_type": "code",
   "execution_count": null,
   "id": "7be53eb7",
   "metadata": {},
   "outputs": [],
   "source": [
    "len(final_extensions)"
   ]
  },
  {
   "cell_type": "code",
   "execution_count": null,
   "id": "6bdfec15",
   "metadata": {},
   "outputs": [],
   "source": [
    "len(sorted_facts)"
   ]
  },
  {
   "cell_type": "code",
   "execution_count": null,
   "id": "10217919",
   "metadata": {},
   "outputs": [],
   "source": [
    "final_extensions"
   ]
  },
  {
   "cell_type": "code",
   "execution_count": null,
   "id": "f0f84d31",
   "metadata": {},
   "outputs": [],
   "source": [
    "for ext in final_extensions:\n",
    "    print([a for a in ext.assumptions if a.startswith('arr') or a.startswith('noe')])"
   ]
  },
  {
   "cell_type": "code",
   "execution_count": null,
   "id": "6dd4360c",
   "metadata": {},
   "outputs": [],
   "source": [
    "final_facts"
   ]
  },
  {
   "cell_type": "markdown",
   "id": "10a37d62",
   "metadata": {},
   "source": [
    "## Fact Test"
   ]
  },
  {
   "cell_type": "code",
   "execution_count": null,
   "id": "9a48ee1d",
   "metadata": {},
   "outputs": [],
   "source": [
    "facts3 = \"\"\"True fact: dep(0,3,empty). I=1.0, truth= NA\n",
    "   True fact: dep(0,4,empty). I=1.0, truth= NA\n",
    "   True fact: dep(0,2,empty). I=0.9999958381326048, truth= NA\n",
    "   True fact: dep(0,1,empty). I=0.9998651373118164, truth= NA\n",
    "   True fact: indep(1,3,empty). I=0.9307979291435597, truth= NA\n",
    "   True fact: indep(1,3,empty). I=0.9307979291435597, truth= NA\n",
    "   True fact: indep(2,3,empty). I=0.8819705060456833, truth= NA\n",
    "   True fact: indep(2,3,empty). I=0.8819705060456833, truth= NA\n",
    "   True fact: indep(1,4,empty). I=0.8390142120581524, truth= NA\n",
    "   True fact: indep(1,4,empty). I=0.8390142120581524, truth= NA\n",
    "   True fact: indep(2,4,empty). I=0.7502762578454715, truth= NA\n",
    "   True fact: indep(2,4,empty). I=0.7502762578454715, truth= NA\n",
    "   True fact: dep(0,3,s1). I=0.6666666666666667, truth= NA\n",
    "   True fact: dep(0,3,s2). I=0.6666666666666667, truth= NA\n",
    "   True fact: dep(0,3,s4). I=0.6666666666666667, truth= NA\n",
    "   True fact: dep(0,4,s1). I=0.6666666666666667, truth= NA\n",
    "   True fact: dep(0,4,s2). I=0.6666666666666667, truth= NA\n",
    "   True fact: dep(0,4,s3). I=0.6666666666666667, truth= NA\n",
    "   True fact: dep(0,2,s4). I=0.6666659094811525, truth= NA\n",
    "   True fact: dep(0,2,s3). I=0.6666639550266579, truth= NA\n",
    "   True fact: dep(0,2,s1). I=0.6666603711883725, truth= NA\n",
    "   True fact: dep(0,1,s3). I=0.6665829788960941, truth= NA\n",
    "   True fact: dep(0,1,s4). I=0.6665799211462186, truth= NA\n",
    "   True fact: dep(0,1,s2). I=0.6664612834576787, truth= NA\"\"\""
   ]
  },
  {
   "cell_type": "code",
   "execution_count": null,
   "id": "575f2fd2",
   "metadata": {},
   "outputs": [],
   "source": [
    "lines = facts3.split('\\n')"
   ]
  },
  {
   "cell_type": "code",
   "execution_count": null,
   "id": "327c1ab5",
   "metadata": {},
   "outputs": [],
   "source": [
    "x = lines[1].strip()\n",
    "x = x.strip('True fact: ')\n",
    "dep, x = x.split('(', 1)\n",
    "node1, node2, node_set_str = x.split(')', 1)[0].split(',')\n",
    "node1 = int(node1)\n",
    "node2 = int(node2)\n",
    "if node_set_str == 'empty':\n",
    "    node_set = set()\n",
    "else:\n",
    "    node_set = set([int(i) for i in node_set_str[1:].split('y')])\n",
    "print(dep, node1, node2, node_set)"
   ]
  },
  {
   "cell_type": "code",
   "execution_count": null,
   "id": "aad135e8",
   "metadata": {},
   "outputs": [],
   "source": [
    "from src.abasp.utils import RelationEnum"
   ]
  },
  {
   "cell_type": "code",
   "execution_count": null,
   "id": "ac10cef2",
   "metadata": {},
   "outputs": [],
   "source": [
    "RelationEnum('indep') == 'indep'"
   ]
  },
  {
   "cell_type": "code",
   "execution_count": null,
   "id": "fa7c716a",
   "metadata": {},
   "outputs": [],
   "source": [
    "# parse into Fact objects\n",
    "\n",
    "def parse_line(line):\n",
    "    print(line)\n",
    "    line = line.strip()\n",
    "    line = line.strip('True fact: ')\n",
    "    relation, line = line.split('(', 1)\n",
    "    node1, node2, node_set_str = line.split(')', 1)[0].split(',')\n",
    "    node1 = int(node1)\n",
    "    node2 = int(node2)\n",
    "    if node_set_str == 'empty':\n",
    "        node_set = set()\n",
    "    else:\n",
    "        node_set = set([int(i) for i in node_set_str[1:].split('y')])\n",
    "    fact = Fact(\n",
    "        relation=RelationEnum(relation),\n",
    "        node1=node1,\n",
    "        node2=node2,\n",
    "        node_set=node_set,\n",
    "        score=0.0,  # or whatever score you want to assign\n",
    "    )\n",
    "    return fact\n"
   ]
  },
  {
   "cell_type": "code",
   "execution_count": null,
   "id": "62d04a97",
   "metadata": {},
   "outputs": [],
   "source": [
    "facts4 = [parse_line(line) for line in lines]"
   ]
  },
  {
   "cell_type": "code",
   "execution_count": null,
   "id": "312c2a27",
   "metadata": {},
   "outputs": [],
   "source": [
    "n_nodes = 5"
   ]
  },
  {
   "cell_type": "code",
   "execution_count": null,
   "id": "d8f386eb",
   "metadata": {},
   "outputs": [],
   "source": [
    "len(facts4)"
   ]
  },
  {
   "cell_type": "code",
   "execution_count": null,
   "id": "abc9cd07",
   "metadata": {},
   "outputs": [],
   "source": [
    "facts5 = []\n",
    "for f in facts4:\n",
    "    if f not in facts5:\n",
    "        facts5.append(f)"
   ]
  },
  {
   "cell_type": "code",
   "execution_count": null,
   "id": "7c0e2809",
   "metadata": {},
   "outputs": [],
   "source": [
    "len(facts5)"
   ]
  },
  {
   "cell_type": "code",
   "execution_count": null,
   "id": "0936b311",
   "metadata": {},
   "outputs": [],
   "source": [
    "factory = ABASPSolverFactory(n_nodes=n_nodes)\n",
    "solver = factory.create_solver(facts5)\n",
    "solver.enumerate_extensions('ST')"
   ]
  },
  {
   "cell_type": "markdown",
   "id": "b7d747cf",
   "metadata": {},
   "source": [
    "## Start Here"
   ]
  },
  {
   "cell_type": "code",
   "execution_count": null,
   "id": "5aec51af",
   "metadata": {},
   "outputs": [],
   "source": [
    "factory = ABASPSolverFactory(n_nodes=2)\n",
    "from src.abasp.utils import RelationEnum, Fact\n",
    "solver = factory.create_solver([\n",
    "    Fact(\n",
    "        relation=RelationEnum('dep'),\n",
    "        node1=0,\n",
    "        node2=1,\n",
    "        node_set=set(),\n",
    "        score=0.0,\n",
    "    )\n",
    "])"
   ]
  },
  {
   "cell_type": "code",
   "execution_count": null,
   "id": "9eae327f",
   "metadata": {},
   "outputs": [],
   "source": [
    "solver.enumerate_extensions('ST')"
   ]
  },
  {
   "cell_type": "code",
   "execution_count": null,
   "id": "6d590f10",
   "metadata": {},
   "outputs": [],
   "source": [
    "solver.rules"
   ]
  },
  {
   "cell_type": "code",
   "execution_count": null,
   "id": "ee10e623",
   "metadata": {},
   "outputs": [],
   "source": [
    "len(solver.rules)"
   ]
  },
  {
   "cell_type": "code",
   "execution_count": null,
   "id": "2f5c5a7b",
   "metadata": {},
   "outputs": [],
   "source": [
    "solver.abaf.asmpt_to_idx"
   ]
  },
  {
   "cell_type": "code",
   "execution_count": null,
   "id": "d2a0753a",
   "metadata": {},
   "outputs": [],
   "source": [
    "solver.abaf.atom_to_idx"
   ]
  },
  {
   "cell_type": "code",
   "execution_count": null,
   "id": "fcd07bfd",
   "metadata": {},
   "outputs": [],
   "source": [
    "factory = ABASPSolverFactory(n_nodes=5)\n",
    "from src.abasp.utils import RelationEnum, Fact\n",
    "solver = factory.create_solver([\n",
    "    Fact(\n",
    "        relation=RelationEnum('dep'),\n",
    "        node1=0,\n",
    "        node2=1,\n",
    "        node_set=set(),\n",
    "        score=0.0,\n",
    "    ),\n",
    "    Fact(\n",
    "        relation=RelationEnum('indep'),\n",
    "        node1=0,\n",
    "        node2=1,\n",
    "        node_set={2},\n",
    "        score=0.0,\n",
    "    )\n",
    "])"
   ]
  },
  {
   "cell_type": "code",
   "execution_count": null,
   "id": "00476c0a",
   "metadata": {},
   "outputs": [],
   "source": [
    "len(solver.rules)"
   ]
  },
  {
   "cell_type": "code",
   "execution_count": null,
   "id": "ff9c08eb",
   "metadata": {},
   "outputs": [],
   "source": [
    "solver.rules[70:85]"
   ]
  },
  {
   "cell_type": "code",
   "execution_count": null,
   "id": "5801c379",
   "metadata": {},
   "outputs": [],
   "source": [
    "solver.assumptions"
   ]
  },
  {
   "cell_type": "code",
   "execution_count": null,
   "id": "628e8822",
   "metadata": {},
   "outputs": [],
   "source": [
    "x = []\n",
    "for a in solver.abaf.idx_to_atom.values():\n",
    "    if a in x:\n",
    "        print(a)\n",
    "    else:\n",
    "        x.append(a)\n",
    "print('done')"
   ]
  },
  {
   "cell_type": "code",
   "execution_count": null,
   "id": "d0e6d815",
   "metadata": {},
   "outputs": [],
   "source": [
    "len(solver.atoms)"
   ]
  },
  {
   "cell_type": "code",
   "execution_count": null,
   "id": "ded2a5e2",
   "metadata": {},
   "outputs": [],
   "source": [
    "len(solver.abaf.idx_to_atom), len(set(solver.abaf.idx_to_atom.values()))"
   ]
  },
  {
   "cell_type": "code",
   "execution_count": null,
   "id": "1b21be31",
   "metadata": {},
   "outputs": [],
   "source": [
    "solver.enumerate_extensions('ST')"
   ]
  },
  {
   "cell_type": "code",
   "execution_count": null,
   "id": "df9395d1",
   "metadata": {},
   "outputs": [],
   "source": [
    "def f(r):\n",
    "    cond = (\n",
    "        'blocked_path_0_1__1__' in r[0] or\n",
    "        'blocked_path_0_1__1__' in r[1] or \n",
    "        'nb_2' in r[0] or\n",
    "        'not_collider_0_2_1' in r[0] or\n",
    "        'indep' in r[0]\n",
    "    )\n",
    "    return cond\n",
    "\n",
    "[r for r in solver.rules if f(r)]"
   ]
  },
  {
   "cell_type": "code",
   "execution_count": null,
   "id": "f0b1acc6",
   "metadata": {},
   "outputs": [],
   "source": []
  },
  {
   "cell_type": "code",
   "execution_count": null,
   "id": "3c630c7b",
   "metadata": {},
   "outputs": [],
   "source": [
    "solver.decide_credulous('ST', ['not_collider_0_2_1'])\n",
    "# solver.decide_credulous('ST', 'arr_2_0')"
   ]
  },
  {
   "cell_type": "code",
   "execution_count": null,
   "id": "8895b790",
   "metadata": {},
   "outputs": [],
   "source": [
    "[r for r in solver.rules if 'indep_0_1__' in r[0]]"
   ]
  },
  {
   "cell_type": "code",
   "execution_count": null,
   "id": "865ffd42",
   "metadata": {},
   "outputs": [],
   "source": [
    "[r for r in solver.rules if '-blocked_path_0_1__0__' in r[0]]"
   ]
  },
  {
   "cell_type": "code",
   "execution_count": null,
   "id": "7caf994d",
   "metadata": {},
   "outputs": [],
   "source": [
    "[r for r in solver.rules if '-blocked_path_0_1__1__' in r[0]]"
   ]
  },
  {
   "cell_type": "code",
   "execution_count": null,
   "id": "659d919b",
   "metadata": {},
   "outputs": [],
   "source": [
    "[r for r in solver.rules if 'nb_2__0_1__'==r[0]]"
   ]
  },
  {
   "cell_type": "code",
   "execution_count": null,
   "id": "970a86ad",
   "metadata": {},
   "outputs": [],
   "source": [
    "[r for r in solver.rules if 'path_0_1__1'==r[0]]"
   ]
  },
  {
   "cell_type": "code",
   "execution_count": null,
   "id": "d28bc5bd",
   "metadata": {},
   "outputs": [],
   "source": [
    "[r for r in solver.rules if 'not_collider_0_2_1'==r[0]]"
   ]
  },
  {
   "cell_type": "code",
   "execution_count": null,
   "id": "be6b6849",
   "metadata": {},
   "outputs": [],
   "source": [
    "[r for r in solver.rules if 'collider_0_2_1'==r[0]]"
   ]
  },
  {
   "cell_type": "code",
   "execution_count": null,
   "id": "df93fb49",
   "metadata": {},
   "outputs": [],
   "source": [
    "[r for r in solver.rules if '-noe_0_2'==r[0]]"
   ]
  },
  {
   "cell_type": "code",
   "execution_count": null,
   "id": "329d4650",
   "metadata": {},
   "outputs": [],
   "source": [
    "[r for r in solver.rules if '-noe_1_2'==r[0]]"
   ]
  },
  {
   "cell_type": "code",
   "execution_count": null,
   "id": "cded00d5",
   "metadata": {},
   "outputs": [],
   "source": [
    "[r for r in solver.rules if 'arr_2_1' in r[1] and 'arr_0_2' in r[1]]"
   ]
  },
  {
   "cell_type": "code",
   "execution_count": null,
   "id": "a8f29b25",
   "metadata": {},
   "outputs": [],
   "source": [
    "from aspforaba.src.aspforaba import ABASolver"
   ]
  },
  {
   "cell_type": "code",
   "execution_count": null,
   "id": "6500e35b",
   "metadata": {},
   "outputs": [],
   "source": [
    "solver = ABASolver()"
   ]
  },
  {
   "cell_type": "code",
   "execution_count": null,
   "id": "cd14dc84",
   "metadata": {},
   "outputs": [],
   "source": [
    "solver = ABASolver()\n",
    "solver.add_assumption('a1')\n",
    "solver.add_assumption('a2')\n",
    "solver.add_assumption('noe1')\n",
    "solver.add_assumption('noe2')\n",
    "solver.add_contrary('a1', '-a1')\n",
    "solver.add_contrary('a2', '-a2')\n",
    "solver.add_contrary('noe1', '-noe1')\n",
    "solver.add_contrary('noe2', '-noe2')\n",
    "solver.add_assumption('blocked_path')\n",
    "solver.add_contrary('blocked_path', '-blocked_path')\n",
    "solver.add_assumption('indep')\n",
    "solver.add_contrary('indep', '-indep')\n",
    "\n",
    "# solver.add_assumption('d')\n",
    "# solver.add_contrary('d', '-d')\n",
    "\n",
    "\n",
    "solver.add_rule('not_collider', ['a1', 'a2'])\n",
    "solver.add_rule('not_blocked', ['not_collider'])\n",
    "solver.add_rule('-noe1', ['a1'])\n",
    "solver.add_rule('-noe2', ['a1'])\n",
    "solver.add_rule('path', ['-noe1', '-noe2'])\n",
    "solver.add_rule('-blocked_path', ['path', 'not_blocked'])\n",
    "solver.add_rule('-indep', ['-blocked_path'])\n",
    "# solver.add_rule('indep', [])\n",
    "\n",
    "\n",
    "\n",
    "\n",
    "# solver.add_rule('a', [])\n",
    "\n",
    "solver.enumerate_extensions('ST')"
   ]
  },
  {
   "cell_type": "code",
   "execution_count": null,
   "id": "97a1eb84",
   "metadata": {},
   "outputs": [],
   "source": [
    "def model_to_graph(model):\n",
    "    # Extract the assumptions from the model\n",
    "    assumptions = [a for a in model.assumptions if a.startswith('arr')]\n",
    "    # Convert the assumptions to a graph representation\n",
    "    graph = set()\n",
    "    for assumption in assumptions:\n",
    "        if assumption.startswith('arr'):\n",
    "            _, node1, node2 = assumption.split('_')\n",
    "            graph.add((int(node1), int(node2)))\n",
    "        elif assumption.startswith('noe'):\n",
    "            _, node1, node2 = assumption.split('_')\n",
    "            graph.add((int(node1), int(node2)))\n",
    "    return graph"
   ]
  },
  {
   "cell_type": "code",
   "execution_count": null,
   "id": "e19de0a2",
   "metadata": {},
   "outputs": [],
   "source": [
    "import unittest"
   ]
  },
  {
   "cell_type": "code",
   "execution_count": null,
   "id": "713e5115",
   "metadata": {},
   "outputs": [],
   "source": []
  },
  {
   "cell_type": "code",
   "execution_count": null,
   "id": "9f7e4271",
   "metadata": {},
   "outputs": [],
   "source": []
  }
 ],
 "metadata": {
  "kernelspec": {
   "display_name": "aba-env",
   "language": "python",
   "name": "python3"
  },
  "language_info": {
   "codemirror_mode": {
    "name": "ipython",
    "version": 3
   },
   "file_extension": ".py",
   "mimetype": "text/x-python",
   "name": "python",
   "nbconvert_exporter": "python",
   "pygments_lexer": "ipython3",
   "version": "3.12.9"
  }
 },
 "nbformat": 4,
 "nbformat_minor": 5
}
