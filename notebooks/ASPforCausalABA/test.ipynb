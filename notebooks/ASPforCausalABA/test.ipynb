{
 "cells": [
  {
   "cell_type": "code",
   "execution_count": null,
   "id": "46f20613",
   "metadata": {},
   "outputs": [],
   "source": [
    "import sys\n",
    "sys.path.insert(0, '../..')\n",
    "# sys.path.insert(0, '../../ArgCausalDisco')\n",
    "# sys.path.insert(0, '../../notears')"
   ]
  },
  {
   "cell_type": "code",
   "execution_count": null,
   "id": "48733911",
   "metadata": {},
   "outputs": [],
   "source": [
    "from src.abasp.factory import ABASPSolverFactory\n",
    "from src.abasp.utils import Fact, RelationEnum"
   ]
  },
  {
   "cell_type": "code",
   "execution_count": null,
   "id": "42e3e9d2",
   "metadata": {},
   "outputs": [],
   "source": [
    "def parse_fact_line(line):\n",
    "    line = line.strip()\n",
    "    relation, rest = line.split('(', 1)\n",
    "    rest = rest.split(')')[0]\n",
    "    node1, node2, node_set = rest.split(',')\n",
    "    node1 = int(node1.strip())\n",
    "    node2 = int(node2.strip())\n",
    "    node_set = node_set.strip()\n",
    "    if node_set == 'empty':\n",
    "        node_set = {}\n",
    "    else:\n",
    "        node_set = node_set.strip()[1:].split('y')\n",
    "        node_set = {int(x) for x in node_set if x.strip()}\n",
    "\n",
    "    return Fact(\n",
    "        relation=RelationEnum[relation.strip()],\n",
    "        node1=node1,\n",
    "        node2=node2,\n",
    "        node_set=node_set,\n",
    "        score=1,\n",
    "    )\n",
    "\n",
    "def facts_from_file(filename):\n",
    "    facts = []\n",
    "    with open(filename, 'r') as f:\n",
    "        for line in f:\n",
    "            facts.append(parse_fact_line(line))\n",
    "    return facts\n",
    "\n",
    "\n",
    "path_start = '../../ArgCausalDisco/encodings/test_lps/'\n",
    "\n",
    "facts_from_file(f'{path_start}five_node_colombo_example.lp')[:4]"
   ]
  },
  {
   "cell_type": "code",
   "execution_count": null,
   "id": "42576d57",
   "metadata": {},
   "outputs": [],
   "source": [
    "def get_models(n_nodes, facts):\n",
    "    # Create the ABASPSolverFactory\n",
    "    factory = ABASPSolverFactory(n_nodes=n_nodes)\n",
    "\n",
    "    # Create the solver\n",
    "    solver = factory.create_solver(facts)\n",
    "    models = solver.enumerate_extensions('ST')\n",
    "    return models\n",
    "\n",
    "def get_graph_from_model(model):\n",
    "    graph = set()\n",
    "    for a in model.assumptions:\n",
    "        if a.startswith('arr'):\n",
    "            _, node1, node2 = a.split('_')\n",
    "            node1 = int(node1)\n",
    "            node2 = int(node2)\n",
    "            graph.add((node1, node2))\n",
    "    return frozenset(graph)"
   ]
  },
  {
   "cell_type": "code",
   "execution_count": null,
   "id": "28e0b9fd",
   "metadata": {},
   "outputs": [],
   "source": [
    "import networkx as nx\n",
    "import numpy as np\n",
    "import pandas as pd"
   ]
  },
  {
   "cell_type": "code",
   "execution_count": null,
   "id": "1f860882",
   "metadata": {},
   "outputs": [],
   "source": [
    "def CausalABA(n_nodes, facts_location):\n",
    "    facts = facts_from_file(\"../../ArgCausalDisco/\" + facts_location)\n",
    "    models = get_models(n_nodes, facts)\n",
    "    return models, None\n",
    "\n",
    "def model_to_set_of_arrows(model):\n",
    "    return get_graph_from_model(model)"
   ]
  },
  {
   "cell_type": "code",
   "execution_count": null,
   "id": "6b860b31",
   "metadata": {},
   "outputs": [],
   "source": [
    "def five_node_colombo_example():\n",
    "    scenario = \"five_node_colombo_example\"\n",
    "    facts_location = f\"encodings/test_lps/{scenario}.lp\"\n",
    "    B_true = np.array( [[ 0,  0,  1,  1,  1],\n",
    "                        [ 0,  0,  1,  0,  1],\n",
    "                        [ 0,  0,  0,  1,  1],\n",
    "                        [ 0,  0,  0,  0,  1],\n",
    "                        [ 0,  0,  0,  0,  0]])\n",
    "    n_nodes = B_true.shape[0]\n",
    "\n",
    "    expected = {frozenset({(0, 2), (1, 2), (0, 4), (2, 4), (3, 4), (0, 3), (1, 4), (2, 3)})}\n",
    "\n",
    "    models, _ = CausalABA(n_nodes, facts_location)\n",
    "    model_sets = set()\n",
    "    for model in models:\n",
    "        arrows = model_to_set_of_arrows(model)\n",
    "        model_sets.add(frozenset(arrows))            \n",
    "    print(model_sets)\n",
    "    assert set(model_sets) == expected\n",
    "    return model_sets\n",
    "five_node_colombo_example()"
   ]
  },
  {
   "cell_type": "code",
   "execution_count": null,
   "id": "5d407c78",
   "metadata": {},
   "outputs": [],
   "source": [
    "def five_node_sprinkler_example():\n",
    "    scenario = \"five_node_sprinkler_example\"\n",
    "    facts_location = f\"encodings/test_lps/{scenario}.lp\"\n",
    "    B_true = np.array( [[ 0,  1,  1,  0,  0],\n",
    "                        [ 0,  0,  0,  1,  0],\n",
    "                        [ 0,  0,  0,  1,  0],\n",
    "                        [ 0,  0,  0,  0,  1],\n",
    "                        [ 0,  0,  0,  0,  0]])\n",
    "    n_nodes = B_true.shape[0]\n",
    "\n",
    "    expected = frozenset({(0, 1), (0, 2), (1, 3), (2, 3), (3, 4)})\n",
    "\n",
    "    models, _ = CausalABA(n_nodes, facts_location)\n",
    "    model_sets = set()\n",
    "    for model in models:\n",
    "        arrows = model_to_set_of_arrows(model)\n",
    "        model_sets.add(frozenset(arrows))            \n",
    "\n",
    "    print(model_sets)\n",
    "    assert expected in model_sets"
   ]
  },
  {
   "cell_type": "code",
   "execution_count": null,
   "id": "3ca41737",
   "metadata": {},
   "outputs": [],
   "source": [
    "five_node_sprinkler_example()"
   ]
  },
  {
   "cell_type": "code",
   "execution_count": null,
   "id": "f9f00ca8",
   "metadata": {},
   "outputs": [],
   "source": []
  }
 ],
 "metadata": {
  "kernelspec": {
   "display_name": "aba-env",
   "language": "python",
   "name": "python3"
  },
  "language_info": {
   "codemirror_mode": {
    "name": "ipython",
    "version": 3
   },
   "file_extension": ".py",
   "mimetype": "text/x-python",
   "name": "python",
   "nbconvert_exporter": "python",
   "pygments_lexer": "ipython3",
   "version": "3.12.9"
  }
 },
 "nbformat": 4,
 "nbformat_minor": 5
}
