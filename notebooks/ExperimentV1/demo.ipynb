{
 "cells": [
  {
   "cell_type": "markdown",
   "id": "86121062",
   "metadata": {},
   "source": [
    "# Goal: showcase results of the V1 experiments with gradual causal ABA\n",
    "\n",
    "The v1 experiment uses original causal aba framework but with additional rules."
   ]
  },
  {
   "cell_type": "code",
   "execution_count": null,
   "id": "ceb224ee",
   "metadata": {},
   "outputs": [],
   "source": [
    "import pandas as pd\n",
    "other_methods_data = pd.read_csv('../../results_pure_aba/stored_results_bnlearn_50rep_cpdag.csv')\n",
    "v1_data = pd.read_csv('../../results/gradual/experiment_v1/cpdag_metrics.csv')\n",
    "only_gradual_v1_data = pd.read_csv('../../results/gradual/stand_alone_gradual_v1/cpdag_metrics.csv')"
   ]
  },
  {
   "cell_type": "code",
   "execution_count": null,
   "id": "173472b4",
   "metadata": {},
   "outputs": [],
   "source": [
    "v1_data.head()"
   ]
  },
  {
   "cell_type": "code",
   "execution_count": null,
   "id": "0eaa0e43",
   "metadata": {},
   "outputs": [],
   "source": [
    "DAG_ARCS_MAP = {'asia':8, 'cancer':4, 'earthquake':4, 'sachs':17, 'survey':6, 'alarm':46, 'child':25, 'insurance':52, 'hailfinder':66, 'hepar2':123}\n",
    "DAG_NODES_MAP = {'asia':8, 'cancer':5, 'earthquake':5, 'sachs':11, 'survey':6, 'alarm':37, 'child':20, 'insurance':27, 'hailfinder':56, 'hepar2':70}\n",
    "\n",
    "v1_data['model'] = 'f__' + v1_data['fact_ranking_method'] + '__r__' + v1_data['model_ranking_method']\n",
    "only_gradual_v1_data['model'] = 'only_gradual__' + only_gradual_v1_data['model_ranking_method']\n",
    "\n",
    "def process_v1_data(df):\n",
    "    groupby_cols = ['dataset', 'n_nodes', 'model']\n",
    "    df_grouped = df.groupby(groupby_cols, as_index=False).aggregate(\n",
    "        sid_low_mean=('sid_low', 'mean'),\n",
    "        sid_high_mean=('sid_high', 'mean'),\n",
    "        sid_low_std=('sid_low', 'std'),\n",
    "        sid_high_std=('sid_high', 'std'),\n",
    "    )\n",
    "    df_grouped['n_edges'] = df_grouped['dataset'].map(DAG_ARCS_MAP)\n",
    "    df_grouped['p_SID_low_mean'] = df_grouped['sid_low_mean'] / df_grouped['n_edges']\n",
    "    df_grouped['p_SID_high_mean'] = df_grouped['sid_high_mean'] / df_grouped['n_edges']\n",
    "    df_grouped['p_SID_low_std'] = df_grouped['sid_low_std'] / df_grouped['n_edges']\n",
    "    df_grouped['p_SID_high_std'] = df_grouped['sid_high_std'] / df_grouped['n_edges']\n",
    "    return df_grouped\n",
    "\n",
    "v1_grouped = process_v1_data(v1_data)\n",
    "only_gradual_v1_grouped = process_v1_data(only_gradual_v1_data)\n",
    "\n",
    "only_gradual_v1_grouped.head()"
   ]
  },
  {
   "cell_type": "code",
   "execution_count": null,
   "id": "ecb9b8d4",
   "metadata": {},
   "outputs": [],
   "source": [
    "other_methods_data.head()"
   ]
  },
  {
   "cell_type": "code",
   "execution_count": null,
   "id": "479b8bb0",
   "metadata": {},
   "outputs": [],
   "source": [
    "other_methods_data['n_edges'] = other_methods_data['dataset'].map(DAG_ARCS_MAP)\n",
    "other_methods_data['n_nodes'] = other_methods_data['dataset'].map(DAG_NODES_MAP)\n",
    "other_methods_data['p_SID_low_mean'] = other_methods_data['sid_low_mean'] / other_methods_data['n_edges']\n",
    "other_methods_data['p_SID_high_mean'] = other_methods_data['sid_high_mean'] / other_methods_data['n_edges']\n",
    "other_methods_data['p_SID_low_std'] = other_methods_data['sid_low_std'] / other_methods_data['n_edges']\n",
    "other_methods_data['p_SID_high_std'] = other_methods_data['sid_high_std'] / other_methods_data['n_edges']\n",
    "other_methods_data.head()"
   ]
  },
  {
   "cell_type": "code",
   "execution_count": 13,
   "id": "d6285f0b",
   "metadata": {},
   "outputs": [
    {
     "data": {
      "text/html": [
       "<div>\n",
       "<style scoped>\n",
       "    .dataframe tbody tr th:only-of-type {\n",
       "        vertical-align: middle;\n",
       "    }\n",
       "\n",
       "    .dataframe tbody tr th {\n",
       "        vertical-align: top;\n",
       "    }\n",
       "\n",
       "    .dataframe thead th {\n",
       "        text-align: right;\n",
       "    }\n",
       "</style>\n",
       "<table border=\"1\" class=\"dataframe\">\n",
       "  <thead>\n",
       "    <tr style=\"text-align: right;\">\n",
       "      <th></th>\n",
       "      <th>dataset</th>\n",
       "      <th>n_nodes</th>\n",
       "      <th>n_edges</th>\n",
       "      <th>model</th>\n",
       "      <th>p_SID_low_mean</th>\n",
       "      <th>p_SID_high_mean</th>\n",
       "      <th>p_SID_low_std</th>\n",
       "      <th>p_SID_high_std</th>\n",
       "    </tr>\n",
       "  </thead>\n",
       "  <tbody>\n",
       "    <tr>\n",
       "      <th>0</th>\n",
       "      <td>cancer</td>\n",
       "      <td>5</td>\n",
       "      <td>4</td>\n",
       "      <td>ABAPC (ASPforABA)</td>\n",
       "      <td>2.435</td>\n",
       "      <td>2.66</td>\n",
       "      <td>0.3700</td>\n",
       "      <td>0.3850</td>\n",
       "    </tr>\n",
       "    <tr>\n",
       "      <th>1</th>\n",
       "      <td>cancer</td>\n",
       "      <td>5</td>\n",
       "      <td>4</td>\n",
       "      <td>Random</td>\n",
       "      <td>1.985</td>\n",
       "      <td>3.51</td>\n",
       "      <td>0.9075</td>\n",
       "      <td>0.7575</td>\n",
       "    </tr>\n",
       "    <tr>\n",
       "      <th>2</th>\n",
       "      <td>cancer</td>\n",
       "      <td>5</td>\n",
       "      <td>4</td>\n",
       "      <td>MPC</td>\n",
       "      <td>0.970</td>\n",
       "      <td>3.47</td>\n",
       "      <td>0.4525</td>\n",
       "      <td>0.4525</td>\n",
       "    </tr>\n",
       "    <tr>\n",
       "      <th>3</th>\n",
       "      <td>cancer</td>\n",
       "      <td>5</td>\n",
       "      <td>4</td>\n",
       "      <td>ABAPC (Ours)</td>\n",
       "      <td>2.435</td>\n",
       "      <td>2.66</td>\n",
       "      <td>0.3700</td>\n",
       "      <td>0.3850</td>\n",
       "    </tr>\n",
       "    <tr>\n",
       "      <th>4</th>\n",
       "      <td>cancer</td>\n",
       "      <td>5</td>\n",
       "      <td>4</td>\n",
       "      <td>NOTEARS-MLP</td>\n",
       "      <td>2.360</td>\n",
       "      <td>2.56</td>\n",
       "      <td>0.3850</td>\n",
       "      <td>0.1075</td>\n",
       "    </tr>\n",
       "  </tbody>\n",
       "</table>\n",
       "</div>"
      ],
      "text/plain": [
       "  dataset  n_nodes  n_edges              model  p_SID_low_mean  \\\n",
       "0  cancer        5        4  ABAPC (ASPforABA)           2.435   \n",
       "1  cancer        5        4             Random           1.985   \n",
       "2  cancer        5        4                MPC           0.970   \n",
       "3  cancer        5        4       ABAPC (Ours)           2.435   \n",
       "4  cancer        5        4        NOTEARS-MLP           2.360   \n",
       "\n",
       "   p_SID_high_mean  p_SID_low_std  p_SID_high_std  \n",
       "0             2.66         0.3700          0.3850  \n",
       "1             3.51         0.9075          0.7575  \n",
       "2             3.47         0.4525          0.4525  \n",
       "3             2.66         0.3700          0.3850  \n",
       "4             2.56         0.3850          0.1075  "
      ]
     },
     "execution_count": 13,
     "metadata": {},
     "output_type": "execute_result"
    }
   ],
   "source": [
    "data_to_plot_columns = ['dataset', 'n_nodes', 'n_edges', 'model', 'p_SID_low_mean', 'p_SID_high_mean', 'p_SID_low_std', 'p_SID_high_std']\n",
    "\n",
    "data_to_plot = pd.concat([other_methods_data[data_to_plot_columns], \n",
    "                         v1_grouped[data_to_plot_columns], \n",
    "                         only_gradual_v1_grouped[data_to_plot_columns]], ignore_index=True)\n",
    "\n",
    "data_to_plot.head()"
   ]
  },
  {
   "cell_type": "code",
   "execution_count": 14,
   "id": "6eb65383",
   "metadata": {},
   "outputs": [],
   "source": [
    "import pandas as pd\n",
    "import plotly.graph_objects as go\n",
    "import plotly.express as px\n",
    "\n",
    "def plot_sid_grouped_by_type(df: pd.DataFrame, model_order: list[str]):\n",
    "    \"\"\"\n",
    "    Plot grouped bar chart showing Parent SID (Low/High) for each model, with spacing between groups.\n",
    "\n",
    "    Args:\n",
    "        df (pd.DataFrame): DataFrame for one dataset with columns:\n",
    "            - dataset, n_nodes, n_edges, model\n",
    "            - p_SID_low_mean, p_SID_high_mean\n",
    "            - p_SID_low_std, p_SID_high_std\n",
    "        model_order (list[str]): List of models in desired order\n",
    "    \"\"\"\n",
    "    # Ensure only one dataset\n",
    "    dataset_labels = df.apply(lambda row: f\"{row['dataset']} |V|={row['n_nodes']}, |E|={row['n_edges']}\", axis=1).unique()\n",
    "    if len(dataset_labels) != 1:\n",
    "        raise ValueError(\"Function only supports a single dataset.\")\n",
    "    dataset_label = dataset_labels[0]\n",
    "\n",
    "    # Melt into long format\n",
    "    df_low = df[[\"model\", \"p_SID_low_mean\", \"p_SID_low_std\"]].copy()\n",
    "    df_low[\"SID_type\"] = \"Low\"\n",
    "    df_low.rename(columns={\"p_SID_low_mean\": \"SID_mean\", \"p_SID_low_std\": \"SID_std\"}, inplace=True)\n",
    "\n",
    "    df_high = df[[\"model\", \"p_SID_high_mean\", \"p_SID_high_std\"]].copy()\n",
    "    df_high[\"SID_type\"] = \"High\"\n",
    "    df_high.rename(columns={\"p_SID_high_mean\": \"SID_mean\", \"p_SID_high_std\": \"SID_std\"}, inplace=True)\n",
    "\n",
    "    df_long = pd.concat([df_low, df_high], ignore_index=True)\n",
    "    df_long = df_long[df_long[\"model\"].isin(model_order)].copy()\n",
    "    df_long[\"model\"] = pd.Categorical(df_long[\"model\"], categories=model_order, ordered=True)\n",
    "\n",
    "    # Colors\n",
    "    palette = px.colors.qualitative.Set2 + px.colors.qualitative.Plotly\n",
    "    model_colors = {model: palette[i % len(palette)] for i, model in enumerate(model_order)}\n",
    "\n",
    "    # Plotting positions\n",
    "    n_models = len(model_order)\n",
    "    group_spacing = n_models + 1  # space between Low and High\n",
    "    x = []\n",
    "    y = []\n",
    "    errors = []\n",
    "    colors = []\n",
    "    model_names = []\n",
    "\n",
    "    for sid_group_idx, sid_type in enumerate([\"Low\", \"High\"]):\n",
    "        base = sid_group_idx * group_spacing\n",
    "        for model_idx, model in enumerate(model_order):\n",
    "            xpos = base + model_idx\n",
    "            row = df_long[(df_long[\"model\"] == model) & (df_long[\"SID_type\"] == sid_type)]\n",
    "            if not row.empty:\n",
    "                x.append(xpos)\n",
    "                y.append(row[\"SID_mean\"].values[0])\n",
    "                errors.append(row[\"SID_std\"].values[0])\n",
    "                colors.append(model_colors[model])\n",
    "                model_names.append(model)\n",
    "\n",
    "    # Main bars (no text labels)\n",
    "    fig = go.Figure()\n",
    "    fig.add_trace(go.Bar(\n",
    "        x=x,\n",
    "        y=y,\n",
    "        error_y=dict(type='data', array=errors, visible=True),\n",
    "        marker_color=colors,\n",
    "        hovertemplate=\"Model: %{customdata}<br>SID: %{y:.2f}<extra></extra>\",\n",
    "        customdata=model_names,\n",
    "        showlegend=False\n",
    "    ))\n",
    "\n",
    "    # Manual legend\n",
    "    for model in model_order:\n",
    "        fig.add_trace(go.Bar(\n",
    "            x=[None], y=[None],\n",
    "            marker_color=model_colors[model],\n",
    "            name=model,\n",
    "            showlegend=True\n",
    "        ))\n",
    "\n",
    "    # X-axis tick labels centered\n",
    "    tick_positions = [\n",
    "        (0 + (n_models - 1) / 2),\n",
    "        (group_spacing + (n_models - 1) / 2)\n",
    "    ]\n",
    "    tick_labels = [\"Low\", \"High\"]\n",
    "\n",
    "    fig.update_layout(\n",
    "        title=f\"Parent SID (Low vs High) — {dataset_label}\",\n",
    "        xaxis=dict(\n",
    "            tickmode='array',\n",
    "            tickvals=tick_positions,\n",
    "            ticktext=tick_labels,\n",
    "            title=\"SID Type\"\n",
    "        ),\n",
    "        yaxis_title=\"Parent SID\",\n",
    "        bargap=0,\n",
    "        showlegend=True,\n",
    "        legend_title=\"Model\",\n",
    "    )\n",
    "\n",
    "    fig.show()\n"
   ]
  },
  {
   "cell_type": "code",
   "execution_count": 15,
   "id": "96bc42ec",
   "metadata": {},
   "outputs": [
    {
     "data": {
      "text/plain": [
       "array(['ABAPC (ASPforABA)', 'Random', 'MPC', 'ABAPC (Ours)',\n",
       "       'NOTEARS-MLP', 'f__original__r__arrows_mean',\n",
       "       'f__original__r__arrows_sum', 'f__original__r__original',\n",
       "       'f__original__r__refined_indep_facts',\n",
       "       'f__refined_indep_facts__r__arrows_mean',\n",
       "       'f__refined_indep_facts__r__arrows_sum',\n",
       "       'f__refined_indep_facts__r__original',\n",
       "       'f__refined_indep_facts__r__refined_indep_facts',\n",
       "       'only_gradual__original_ranking', 'only_gradual__refined_ranking'],\n",
       "      dtype=object)"
      ]
     },
     "execution_count": 15,
     "metadata": {},
     "output_type": "execute_result"
    }
   ],
   "source": [
    "data_to_plot.model.unique()"
   ]
  },
  {
   "cell_type": "code",
   "execution_count": 11,
   "id": "ef321c14",
   "metadata": {},
   "outputs": [],
   "source": [
    "model_order=['Random', 'NOTEARS-MLP', 'MPC',\n",
    "            'only_gradual__original_ranking',\n",
    "            'only_gradual__refined_ranking',\n",
    "            'f__original__r__original',\n",
    "            'f__original__r__refined_indep_facts',\n",
    "            'f__original__r__arrows_sum', \n",
    "            'f__original__r__arrows_mean',\n",
    "            'f__refined_indep_facts__r__original',\n",
    "            'f__refined_indep_facts__r__refined_indep_facts',\n",
    "            'f__refined_indep_facts__r__arrows_sum',\n",
    "            'f__refined_indep_facts__r__arrows_mean']"
   ]
  },
  {
   "cell_type": "code",
   "execution_count": 12,
   "id": "5b4b5a8d",
   "metadata": {},
   "outputs": [
    {
     "data": {
      "application/vnd.plotly.v1+json": {
       "config": {
        "plotlyServerURL": "https://plot.ly"
       },
       "data": [
        {
         "customdata": [
          "Random",
          "NOTEARS-MLP",
          "MPC",
          "f__original__r__original",
          "f__original__r__refined_indep_facts",
          "f__original__r__arrows_sum",
          "f__original__r__arrows_mean",
          "f__refined_indep_facts__r__original",
          "f__refined_indep_facts__r__refined_indep_facts",
          "f__refined_indep_facts__r__arrows_sum",
          "f__refined_indep_facts__r__arrows_mean",
          "Random",
          "NOTEARS-MLP",
          "MPC",
          "f__original__r__original",
          "f__original__r__refined_indep_facts",
          "f__original__r__arrows_sum",
          "f__original__r__arrows_mean",
          "f__refined_indep_facts__r__original",
          "f__refined_indep_facts__r__refined_indep_facts",
          "f__refined_indep_facts__r__arrows_sum",
          "f__refined_indep_facts__r__arrows_mean"
         ],
         "error_y": {
          "array": [
           0.9075,
           0.385,
           0.4525,
           0.6959980354182922,
           0.7092860739461037,
           0.7684632159613848,
           0.5835543798873539,
           0.5249878521432274,
           0.3053936903775993,
           0.4834242232158384,
           0.37201190457142247,
           0.7575,
           0.1075,
           0.4525,
           0.5254978203415057,
           0.5492109367640311,
           0.8431748795777899,
           0.5189274653414621,
           0.49818548303840016,
           0.22593343791335302,
           0.4843468145189911,
           0.36421567954234174
          ],
          "type": "data",
          "visible": true
         },
         "hovertemplate": "Model: %{customdata}<br>SID: %{y:.2f}<extra></extra>",
         "marker": {
          "color": [
           "rgb(102,194,165)",
           "rgb(252,141,98)",
           "rgb(141,160,203)",
           "rgb(255,217,47)",
           "rgb(229,196,148)",
           "rgb(179,179,179)",
           "#636EFA",
           "#EF553B",
           "#00CC96",
           "#AB63FA",
           "#FFA15A",
           "rgb(102,194,165)",
           "rgb(252,141,98)",
           "rgb(141,160,203)",
           "rgb(255,217,47)",
           "rgb(229,196,148)",
           "rgb(179,179,179)",
           "#636EFA",
           "#EF553B",
           "#00CC96",
           "#AB63FA",
           "#FFA15A"
          ]
         },
         "showlegend": false,
         "type": "bar",
         "x": [
          0,
          1,
          2,
          5,
          6,
          7,
          8,
          9,
          10,
          11,
          12,
          14,
          15,
          16,
          19,
          20,
          21,
          22,
          23,
          24,
          25,
          26
         ],
         "y": [
          1.985,
          2.36,
          0.97,
          2.155,
          2.135,
          1.995,
          2.255,
          1.82,
          2.19,
          1.665,
          1.775,
          3.51,
          2.56,
          3.47,
          2.825,
          2.88,
          3.045,
          2.81,
          3.195,
          3.465,
          2.99,
          3
         ]
        },
        {
         "marker": {
          "color": "rgb(102,194,165)"
         },
         "name": "Random",
         "showlegend": true,
         "type": "bar",
         "x": [
          null
         ],
         "y": [
          null
         ]
        },
        {
         "marker": {
          "color": "rgb(252,141,98)"
         },
         "name": "NOTEARS-MLP",
         "showlegend": true,
         "type": "bar",
         "x": [
          null
         ],
         "y": [
          null
         ]
        },
        {
         "marker": {
          "color": "rgb(141,160,203)"
         },
         "name": "MPC",
         "showlegend": true,
         "type": "bar",
         "x": [
          null
         ],
         "y": [
          null
         ]
        },
        {
         "marker": {
          "color": "rgb(231,138,195)"
         },
         "name": "only_gradual__original_ranking",
         "showlegend": true,
         "type": "bar",
         "x": [
          null
         ],
         "y": [
          null
         ]
        },
        {
         "marker": {
          "color": "rgb(166,216,84)"
         },
         "name": "only_gradual__refined_ranking",
         "showlegend": true,
         "type": "bar",
         "x": [
          null
         ],
         "y": [
          null
         ]
        },
        {
         "marker": {
          "color": "rgb(255,217,47)"
         },
         "name": "f__original__r__original",
         "showlegend": true,
         "type": "bar",
         "x": [
          null
         ],
         "y": [
          null
         ]
        },
        {
         "marker": {
          "color": "rgb(229,196,148)"
         },
         "name": "f__original__r__refined_indep_facts",
         "showlegend": true,
         "type": "bar",
         "x": [
          null
         ],
         "y": [
          null
         ]
        },
        {
         "marker": {
          "color": "rgb(179,179,179)"
         },
         "name": "f__original__r__arrows_sum",
         "showlegend": true,
         "type": "bar",
         "x": [
          null
         ],
         "y": [
          null
         ]
        },
        {
         "marker": {
          "color": "#636EFA"
         },
         "name": "f__original__r__arrows_mean",
         "showlegend": true,
         "type": "bar",
         "x": [
          null
         ],
         "y": [
          null
         ]
        },
        {
         "marker": {
          "color": "#EF553B"
         },
         "name": "f__refined_indep_facts__r__original",
         "showlegend": true,
         "type": "bar",
         "x": [
          null
         ],
         "y": [
          null
         ]
        },
        {
         "marker": {
          "color": "#00CC96"
         },
         "name": "f__refined_indep_facts__r__refined_indep_facts",
         "showlegend": true,
         "type": "bar",
         "x": [
          null
         ],
         "y": [
          null
         ]
        },
        {
         "marker": {
          "color": "#AB63FA"
         },
         "name": "f__refined_indep_facts__r__arrows_sum",
         "showlegend": true,
         "type": "bar",
         "x": [
          null
         ],
         "y": [
          null
         ]
        },
        {
         "marker": {
          "color": "#FFA15A"
         },
         "name": "f__refined_indep_facts__r__arrows_mean",
         "showlegend": true,
         "type": "bar",
         "x": [
          null
         ],
         "y": [
          null
         ]
        }
       ],
       "layout": {
        "bargap": 0,
        "legend": {
         "title": {
          "text": "Model"
         }
        },
        "showlegend": true,
        "template": {
         "data": {
          "bar": [
           {
            "error_x": {
             "color": "#2a3f5f"
            },
            "error_y": {
             "color": "#2a3f5f"
            },
            "marker": {
             "line": {
              "color": "#E5ECF6",
              "width": 0.5
             },
             "pattern": {
              "fillmode": "overlay",
              "size": 10,
              "solidity": 0.2
             }
            },
            "type": "bar"
           }
          ],
          "barpolar": [
           {
            "marker": {
             "line": {
              "color": "#E5ECF6",
              "width": 0.5
             },
             "pattern": {
              "fillmode": "overlay",
              "size": 10,
              "solidity": 0.2
             }
            },
            "type": "barpolar"
           }
          ],
          "carpet": [
           {
            "aaxis": {
             "endlinecolor": "#2a3f5f",
             "gridcolor": "white",
             "linecolor": "white",
             "minorgridcolor": "white",
             "startlinecolor": "#2a3f5f"
            },
            "baxis": {
             "endlinecolor": "#2a3f5f",
             "gridcolor": "white",
             "linecolor": "white",
             "minorgridcolor": "white",
             "startlinecolor": "#2a3f5f"
            },
            "type": "carpet"
           }
          ],
          "choropleth": [
           {
            "colorbar": {
             "outlinewidth": 0,
             "ticks": ""
            },
            "type": "choropleth"
           }
          ],
          "contour": [
           {
            "colorbar": {
             "outlinewidth": 0,
             "ticks": ""
            },
            "colorscale": [
             [
              0,
              "#0d0887"
             ],
             [
              0.1111111111111111,
              "#46039f"
             ],
             [
              0.2222222222222222,
              "#7201a8"
             ],
             [
              0.3333333333333333,
              "#9c179e"
             ],
             [
              0.4444444444444444,
              "#bd3786"
             ],
             [
              0.5555555555555556,
              "#d8576b"
             ],
             [
              0.6666666666666666,
              "#ed7953"
             ],
             [
              0.7777777777777778,
              "#fb9f3a"
             ],
             [
              0.8888888888888888,
              "#fdca26"
             ],
             [
              1,
              "#f0f921"
             ]
            ],
            "type": "contour"
           }
          ],
          "contourcarpet": [
           {
            "colorbar": {
             "outlinewidth": 0,
             "ticks": ""
            },
            "type": "contourcarpet"
           }
          ],
          "heatmap": [
           {
            "colorbar": {
             "outlinewidth": 0,
             "ticks": ""
            },
            "colorscale": [
             [
              0,
              "#0d0887"
             ],
             [
              0.1111111111111111,
              "#46039f"
             ],
             [
              0.2222222222222222,
              "#7201a8"
             ],
             [
              0.3333333333333333,
              "#9c179e"
             ],
             [
              0.4444444444444444,
              "#bd3786"
             ],
             [
              0.5555555555555556,
              "#d8576b"
             ],
             [
              0.6666666666666666,
              "#ed7953"
             ],
             [
              0.7777777777777778,
              "#fb9f3a"
             ],
             [
              0.8888888888888888,
              "#fdca26"
             ],
             [
              1,
              "#f0f921"
             ]
            ],
            "type": "heatmap"
           }
          ],
          "histogram": [
           {
            "marker": {
             "pattern": {
              "fillmode": "overlay",
              "size": 10,
              "solidity": 0.2
             }
            },
            "type": "histogram"
           }
          ],
          "histogram2d": [
           {
            "colorbar": {
             "outlinewidth": 0,
             "ticks": ""
            },
            "colorscale": [
             [
              0,
              "#0d0887"
             ],
             [
              0.1111111111111111,
              "#46039f"
             ],
             [
              0.2222222222222222,
              "#7201a8"
             ],
             [
              0.3333333333333333,
              "#9c179e"
             ],
             [
              0.4444444444444444,
              "#bd3786"
             ],
             [
              0.5555555555555556,
              "#d8576b"
             ],
             [
              0.6666666666666666,
              "#ed7953"
             ],
             [
              0.7777777777777778,
              "#fb9f3a"
             ],
             [
              0.8888888888888888,
              "#fdca26"
             ],
             [
              1,
              "#f0f921"
             ]
            ],
            "type": "histogram2d"
           }
          ],
          "histogram2dcontour": [
           {
            "colorbar": {
             "outlinewidth": 0,
             "ticks": ""
            },
            "colorscale": [
             [
              0,
              "#0d0887"
             ],
             [
              0.1111111111111111,
              "#46039f"
             ],
             [
              0.2222222222222222,
              "#7201a8"
             ],
             [
              0.3333333333333333,
              "#9c179e"
             ],
             [
              0.4444444444444444,
              "#bd3786"
             ],
             [
              0.5555555555555556,
              "#d8576b"
             ],
             [
              0.6666666666666666,
              "#ed7953"
             ],
             [
              0.7777777777777778,
              "#fb9f3a"
             ],
             [
              0.8888888888888888,
              "#fdca26"
             ],
             [
              1,
              "#f0f921"
             ]
            ],
            "type": "histogram2dcontour"
           }
          ],
          "mesh3d": [
           {
            "colorbar": {
             "outlinewidth": 0,
             "ticks": ""
            },
            "type": "mesh3d"
           }
          ],
          "parcoords": [
           {
            "line": {
             "colorbar": {
              "outlinewidth": 0,
              "ticks": ""
             }
            },
            "type": "parcoords"
           }
          ],
          "pie": [
           {
            "automargin": true,
            "type": "pie"
           }
          ],
          "scatter": [
           {
            "fillpattern": {
             "fillmode": "overlay",
             "size": 10,
             "solidity": 0.2
            },
            "type": "scatter"
           }
          ],
          "scatter3d": [
           {
            "line": {
             "colorbar": {
              "outlinewidth": 0,
              "ticks": ""
             }
            },
            "marker": {
             "colorbar": {
              "outlinewidth": 0,
              "ticks": ""
             }
            },
            "type": "scatter3d"
           }
          ],
          "scattercarpet": [
           {
            "marker": {
             "colorbar": {
              "outlinewidth": 0,
              "ticks": ""
             }
            },
            "type": "scattercarpet"
           }
          ],
          "scattergeo": [
           {
            "marker": {
             "colorbar": {
              "outlinewidth": 0,
              "ticks": ""
             }
            },
            "type": "scattergeo"
           }
          ],
          "scattergl": [
           {
            "marker": {
             "colorbar": {
              "outlinewidth": 0,
              "ticks": ""
             }
            },
            "type": "scattergl"
           }
          ],
          "scattermap": [
           {
            "marker": {
             "colorbar": {
              "outlinewidth": 0,
              "ticks": ""
             }
            },
            "type": "scattermap"
           }
          ],
          "scattermapbox": [
           {
            "marker": {
             "colorbar": {
              "outlinewidth": 0,
              "ticks": ""
             }
            },
            "type": "scattermapbox"
           }
          ],
          "scatterpolar": [
           {
            "marker": {
             "colorbar": {
              "outlinewidth": 0,
              "ticks": ""
             }
            },
            "type": "scatterpolar"
           }
          ],
          "scatterpolargl": [
           {
            "marker": {
             "colorbar": {
              "outlinewidth": 0,
              "ticks": ""
             }
            },
            "type": "scatterpolargl"
           }
          ],
          "scatterternary": [
           {
            "marker": {
             "colorbar": {
              "outlinewidth": 0,
              "ticks": ""
             }
            },
            "type": "scatterternary"
           }
          ],
          "surface": [
           {
            "colorbar": {
             "outlinewidth": 0,
             "ticks": ""
            },
            "colorscale": [
             [
              0,
              "#0d0887"
             ],
             [
              0.1111111111111111,
              "#46039f"
             ],
             [
              0.2222222222222222,
              "#7201a8"
             ],
             [
              0.3333333333333333,
              "#9c179e"
             ],
             [
              0.4444444444444444,
              "#bd3786"
             ],
             [
              0.5555555555555556,
              "#d8576b"
             ],
             [
              0.6666666666666666,
              "#ed7953"
             ],
             [
              0.7777777777777778,
              "#fb9f3a"
             ],
             [
              0.8888888888888888,
              "#fdca26"
             ],
             [
              1,
              "#f0f921"
             ]
            ],
            "type": "surface"
           }
          ],
          "table": [
           {
            "cells": {
             "fill": {
              "color": "#EBF0F8"
             },
             "line": {
              "color": "white"
             }
            },
            "header": {
             "fill": {
              "color": "#C8D4E3"
             },
             "line": {
              "color": "white"
             }
            },
            "type": "table"
           }
          ]
         },
         "layout": {
          "annotationdefaults": {
           "arrowcolor": "#2a3f5f",
           "arrowhead": 0,
           "arrowwidth": 1
          },
          "autotypenumbers": "strict",
          "coloraxis": {
           "colorbar": {
            "outlinewidth": 0,
            "ticks": ""
           }
          },
          "colorscale": {
           "diverging": [
            [
             0,
             "#8e0152"
            ],
            [
             0.1,
             "#c51b7d"
            ],
            [
             0.2,
             "#de77ae"
            ],
            [
             0.3,
             "#f1b6da"
            ],
            [
             0.4,
             "#fde0ef"
            ],
            [
             0.5,
             "#f7f7f7"
            ],
            [
             0.6,
             "#e6f5d0"
            ],
            [
             0.7,
             "#b8e186"
            ],
            [
             0.8,
             "#7fbc41"
            ],
            [
             0.9,
             "#4d9221"
            ],
            [
             1,
             "#276419"
            ]
           ],
           "sequential": [
            [
             0,
             "#0d0887"
            ],
            [
             0.1111111111111111,
             "#46039f"
            ],
            [
             0.2222222222222222,
             "#7201a8"
            ],
            [
             0.3333333333333333,
             "#9c179e"
            ],
            [
             0.4444444444444444,
             "#bd3786"
            ],
            [
             0.5555555555555556,
             "#d8576b"
            ],
            [
             0.6666666666666666,
             "#ed7953"
            ],
            [
             0.7777777777777778,
             "#fb9f3a"
            ],
            [
             0.8888888888888888,
             "#fdca26"
            ],
            [
             1,
             "#f0f921"
            ]
           ],
           "sequentialminus": [
            [
             0,
             "#0d0887"
            ],
            [
             0.1111111111111111,
             "#46039f"
            ],
            [
             0.2222222222222222,
             "#7201a8"
            ],
            [
             0.3333333333333333,
             "#9c179e"
            ],
            [
             0.4444444444444444,
             "#bd3786"
            ],
            [
             0.5555555555555556,
             "#d8576b"
            ],
            [
             0.6666666666666666,
             "#ed7953"
            ],
            [
             0.7777777777777778,
             "#fb9f3a"
            ],
            [
             0.8888888888888888,
             "#fdca26"
            ],
            [
             1,
             "#f0f921"
            ]
           ]
          },
          "colorway": [
           "#636efa",
           "#EF553B",
           "#00cc96",
           "#ab63fa",
           "#FFA15A",
           "#19d3f3",
           "#FF6692",
           "#B6E880",
           "#FF97FF",
           "#FECB52"
          ],
          "font": {
           "color": "#2a3f5f"
          },
          "geo": {
           "bgcolor": "white",
           "lakecolor": "white",
           "landcolor": "#E5ECF6",
           "showlakes": true,
           "showland": true,
           "subunitcolor": "white"
          },
          "hoverlabel": {
           "align": "left"
          },
          "hovermode": "closest",
          "mapbox": {
           "style": "light"
          },
          "paper_bgcolor": "white",
          "plot_bgcolor": "#E5ECF6",
          "polar": {
           "angularaxis": {
            "gridcolor": "white",
            "linecolor": "white",
            "ticks": ""
           },
           "bgcolor": "#E5ECF6",
           "radialaxis": {
            "gridcolor": "white",
            "linecolor": "white",
            "ticks": ""
           }
          },
          "scene": {
           "xaxis": {
            "backgroundcolor": "#E5ECF6",
            "gridcolor": "white",
            "gridwidth": 2,
            "linecolor": "white",
            "showbackground": true,
            "ticks": "",
            "zerolinecolor": "white"
           },
           "yaxis": {
            "backgroundcolor": "#E5ECF6",
            "gridcolor": "white",
            "gridwidth": 2,
            "linecolor": "white",
            "showbackground": true,
            "ticks": "",
            "zerolinecolor": "white"
           },
           "zaxis": {
            "backgroundcolor": "#E5ECF6",
            "gridcolor": "white",
            "gridwidth": 2,
            "linecolor": "white",
            "showbackground": true,
            "ticks": "",
            "zerolinecolor": "white"
           }
          },
          "shapedefaults": {
           "line": {
            "color": "#2a3f5f"
           }
          },
          "ternary": {
           "aaxis": {
            "gridcolor": "white",
            "linecolor": "white",
            "ticks": ""
           },
           "baxis": {
            "gridcolor": "white",
            "linecolor": "white",
            "ticks": ""
           },
           "bgcolor": "#E5ECF6",
           "caxis": {
            "gridcolor": "white",
            "linecolor": "white",
            "ticks": ""
           }
          },
          "title": {
           "x": 0.05
          },
          "xaxis": {
           "automargin": true,
           "gridcolor": "white",
           "linecolor": "white",
           "ticks": "",
           "title": {
            "standoff": 15
           },
           "zerolinecolor": "white",
           "zerolinewidth": 2
          },
          "yaxis": {
           "automargin": true,
           "gridcolor": "white",
           "linecolor": "white",
           "ticks": "",
           "title": {
            "standoff": 15
           },
           "zerolinecolor": "white",
           "zerolinewidth": 2
          }
         }
        },
        "title": {
         "text": "Parent SID (Low vs High) — cancer |V|=5, |E|=4"
        },
        "xaxis": {
         "tickmode": "array",
         "ticktext": [
          "Low",
          "High"
         ],
         "tickvals": [
          6,
          20
         ],
         "title": {
          "text": "SID Type"
         }
        },
        "yaxis": {
         "title": {
          "text": "Parent SID"
         }
        }
       }
      }
     },
     "metadata": {},
     "output_type": "display_data"
    }
   ],
   "source": [
    "plot_sid_grouped_by_type(data_to_plot[data_to_plot['dataset']=='cancer'],\n",
    "                    model_order=model_order)"
   ]
  },
  {
   "cell_type": "code",
   "execution_count": null,
   "id": "bc8a0610",
   "metadata": {},
   "outputs": [],
   "source": [
    "plot_sid_grouped_by_type(data_to_plot[data_to_plot['dataset']=='earthquake'],\n",
    "                    model_order=model_order)"
   ]
  },
  {
   "cell_type": "code",
   "execution_count": null,
   "id": "b0cca39c",
   "metadata": {},
   "outputs": [],
   "source": [
    "plot_sid_grouped_by_type(data_to_plot[data_to_plot['dataset']=='survey'],\n",
    "                    model_order=model_order)"
   ]
  },
  {
   "cell_type": "markdown",
   "id": "47e31777",
   "metadata": {},
   "source": [
    "# Conclusion\n",
    "\n",
    "No improvement observed when using refined independence facts. Likely because we missed out on dependence information.\n",
    "However arrows mean and arrows sum ranking provides good results. This means that the arrow strengths do contain meaningful info.\n",
    "This experiment is stepping stone for out standalone gradual-aba experiment."
   ]
  }
 ],
 "metadata": {
  "kernelspec": {
   "display_name": ".venv",
   "language": "python",
   "name": "python3"
  },
  "language_info": {
   "codemirror_mode": {
    "name": "ipython",
    "version": 3
   },
   "file_extension": ".py",
   "mimetype": "text/x-python",
   "name": "python",
   "nbconvert_exporter": "python",
   "pygments_lexer": "ipython3",
   "version": "3.12.3"
  }
 },
 "nbformat": 4,
 "nbformat_minor": 5
}
