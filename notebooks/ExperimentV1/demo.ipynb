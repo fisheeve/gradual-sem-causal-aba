{
 "cells": [
  {
   "cell_type": "markdown",
   "id": "86121062",
   "metadata": {},
   "source": [
    "# Goal: showcase results of the V1 experiments with gradual causal ABA\n",
    "\n",
    "The v1 experiment uses original causal aba framework but with additional rules."
   ]
  },
  {
   "cell_type": "code",
   "execution_count": 1,
   "id": "ceb224ee",
   "metadata": {},
   "outputs": [],
   "source": [
    "import pandas as pd\n",
    "other_methods_data = pd.read_csv('../../results_pure_aba/stored_results_bnlearn_50rep_cpdag.csv')\n",
    "v1_data = pd.read_csv('../../results/gradual/experiment_v1/cpdag_metrics.csv')\n",
    "only_gradual_v1_data = pd.read_csv('../../results/gradual/stand_alone_gradual_v1/cpdag_metrics.csv')"
   ]
  },
  {
   "cell_type": "code",
   "execution_count": 2,
   "id": "173472b4",
   "metadata": {},
   "outputs": [
    {
     "data": {
      "text/html": [
       "<div>\n",
       "<style scoped>\n",
       "    .dataframe tbody tr th:only-of-type {\n",
       "        vertical-align: middle;\n",
       "    }\n",
       "\n",
       "    .dataframe tbody tr th {\n",
       "        vertical-align: top;\n",
       "    }\n",
       "\n",
       "    .dataframe thead th {\n",
       "        text-align: right;\n",
       "    }\n",
       "</style>\n",
       "<table border=\"1\" class=\"dataframe\">\n",
       "  <thead>\n",
       "    <tr style=\"text-align: right;\">\n",
       "      <th></th>\n",
       "      <th>nnz</th>\n",
       "      <th>fdr</th>\n",
       "      <th>tpr</th>\n",
       "      <th>fpr</th>\n",
       "      <th>precision</th>\n",
       "      <th>recall</th>\n",
       "      <th>F1</th>\n",
       "      <th>shd</th>\n",
       "      <th>sid_low</th>\n",
       "      <th>sid_high</th>\n",
       "      <th>...</th>\n",
       "      <th>seed</th>\n",
       "      <th>n_nodes</th>\n",
       "      <th>elapsed_bsaf_creation</th>\n",
       "      <th>elapsed_model_solution</th>\n",
       "      <th>is_converged</th>\n",
       "      <th>fact_ranking_method</th>\n",
       "      <th>model_ranking_method</th>\n",
       "      <th>aba_elapsed</th>\n",
       "      <th>ranking_elapsed</th>\n",
       "      <th>best_I</th>\n",
       "    </tr>\n",
       "  </thead>\n",
       "  <tbody>\n",
       "    <tr>\n",
       "      <th>0</th>\n",
       "      <td>4</td>\n",
       "      <td>0.2500</td>\n",
       "      <td>0.75</td>\n",
       "      <td>0.1667</td>\n",
       "      <td>0.7500</td>\n",
       "      <td>0.75</td>\n",
       "      <td>0.7500</td>\n",
       "      <td>1.0</td>\n",
       "      <td>5.0</td>\n",
       "      <td>10.0</td>\n",
       "      <td>...</td>\n",
       "      <td>7816</td>\n",
       "      <td>5</td>\n",
       "      <td>12.234522</td>\n",
       "      <td>0.907921</td>\n",
       "      <td>True</td>\n",
       "      <td>original</td>\n",
       "      <td>original</td>\n",
       "      <td>0.677906</td>\n",
       "      <td>0.054963</td>\n",
       "      <td>21.402040</td>\n",
       "    </tr>\n",
       "    <tr>\n",
       "      <th>1</th>\n",
       "      <td>4</td>\n",
       "      <td>0.2500</td>\n",
       "      <td>0.75</td>\n",
       "      <td>0.1667</td>\n",
       "      <td>0.7500</td>\n",
       "      <td>0.75</td>\n",
       "      <td>0.7500</td>\n",
       "      <td>1.0</td>\n",
       "      <td>5.0</td>\n",
       "      <td>10.0</td>\n",
       "      <td>...</td>\n",
       "      <td>7816</td>\n",
       "      <td>5</td>\n",
       "      <td>12.234522</td>\n",
       "      <td>0.907921</td>\n",
       "      <td>True</td>\n",
       "      <td>original</td>\n",
       "      <td>refined_indep_facts</td>\n",
       "      <td>0.677906</td>\n",
       "      <td>0.037848</td>\n",
       "      <td>2.212397</td>\n",
       "    </tr>\n",
       "    <tr>\n",
       "      <th>2</th>\n",
       "      <td>7</td>\n",
       "      <td>0.5714</td>\n",
       "      <td>0.75</td>\n",
       "      <td>0.6667</td>\n",
       "      <td>0.2857</td>\n",
       "      <td>0.50</td>\n",
       "      <td>0.3636</td>\n",
       "      <td>5.0</td>\n",
       "      <td>8.0</td>\n",
       "      <td>14.0</td>\n",
       "      <td>...</td>\n",
       "      <td>7816</td>\n",
       "      <td>5</td>\n",
       "      <td>12.234522</td>\n",
       "      <td>0.907921</td>\n",
       "      <td>True</td>\n",
       "      <td>original</td>\n",
       "      <td>arrows_sum</td>\n",
       "      <td>0.677906</td>\n",
       "      <td>0.022329</td>\n",
       "      <td>3.514415</td>\n",
       "    </tr>\n",
       "    <tr>\n",
       "      <th>3</th>\n",
       "      <td>4</td>\n",
       "      <td>0.2500</td>\n",
       "      <td>0.75</td>\n",
       "      <td>0.1667</td>\n",
       "      <td>0.7500</td>\n",
       "      <td>0.75</td>\n",
       "      <td>0.7500</td>\n",
       "      <td>1.0</td>\n",
       "      <td>5.0</td>\n",
       "      <td>10.0</td>\n",
       "      <td>...</td>\n",
       "      <td>7816</td>\n",
       "      <td>5</td>\n",
       "      <td>12.234522</td>\n",
       "      <td>0.907921</td>\n",
       "      <td>True</td>\n",
       "      <td>original</td>\n",
       "      <td>arrows_mean</td>\n",
       "      <td>0.677906</td>\n",
       "      <td>0.022565</td>\n",
       "      <td>0.508232</td>\n",
       "    </tr>\n",
       "    <tr>\n",
       "      <th>4</th>\n",
       "      <td>2</td>\n",
       "      <td>0.5000</td>\n",
       "      <td>0.25</td>\n",
       "      <td>0.1667</td>\n",
       "      <td>0.5000</td>\n",
       "      <td>0.25</td>\n",
       "      <td>0.3333</td>\n",
       "      <td>3.0</td>\n",
       "      <td>10.0</td>\n",
       "      <td>10.0</td>\n",
       "      <td>...</td>\n",
       "      <td>7816</td>\n",
       "      <td>5</td>\n",
       "      <td>12.234522</td>\n",
       "      <td>0.907921</td>\n",
       "      <td>True</td>\n",
       "      <td>refined_indep_facts</td>\n",
       "      <td>original</td>\n",
       "      <td>0.022879</td>\n",
       "      <td>0.025342</td>\n",
       "      <td>7.341826</td>\n",
       "    </tr>\n",
       "  </tbody>\n",
       "</table>\n",
       "<p>5 rows × 21 columns</p>\n",
       "</div>"
      ],
      "text/plain": [
       "   nnz     fdr   tpr     fpr  precision  recall      F1  shd  sid_low  \\\n",
       "0    4  0.2500  0.75  0.1667     0.7500    0.75  0.7500  1.0      5.0   \n",
       "1    4  0.2500  0.75  0.1667     0.7500    0.75  0.7500  1.0      5.0   \n",
       "2    7  0.5714  0.75  0.6667     0.2857    0.50  0.3636  5.0      8.0   \n",
       "3    4  0.2500  0.75  0.1667     0.7500    0.75  0.7500  1.0      5.0   \n",
       "4    2  0.5000  0.25  0.1667     0.5000    0.25  0.3333  3.0     10.0   \n",
       "\n",
       "   sid_high  ...  seed  n_nodes  elapsed_bsaf_creation  \\\n",
       "0      10.0  ...  7816        5              12.234522   \n",
       "1      10.0  ...  7816        5              12.234522   \n",
       "2      14.0  ...  7816        5              12.234522   \n",
       "3      10.0  ...  7816        5              12.234522   \n",
       "4      10.0  ...  7816        5              12.234522   \n",
       "\n",
       "   elapsed_model_solution  is_converged  fact_ranking_method  \\\n",
       "0                0.907921          True             original   \n",
       "1                0.907921          True             original   \n",
       "2                0.907921          True             original   \n",
       "3                0.907921          True             original   \n",
       "4                0.907921          True  refined_indep_facts   \n",
       "\n",
       "  model_ranking_method aba_elapsed  ranking_elapsed     best_I  \n",
       "0             original    0.677906         0.054963  21.402040  \n",
       "1  refined_indep_facts    0.677906         0.037848   2.212397  \n",
       "2           arrows_sum    0.677906         0.022329   3.514415  \n",
       "3          arrows_mean    0.677906         0.022565   0.508232  \n",
       "4             original    0.022879         0.025342   7.341826  \n",
       "\n",
       "[5 rows x 21 columns]"
      ]
     },
     "execution_count": 2,
     "metadata": {},
     "output_type": "execute_result"
    }
   ],
   "source": [
    "v1_data.head()"
   ]
  },
  {
   "cell_type": "code",
   "execution_count": 3,
   "id": "16ccd767",
   "metadata": {},
   "outputs": [
    {
     "data": {
      "text/html": [
       "<div>\n",
       "<style scoped>\n",
       "    .dataframe tbody tr th:only-of-type {\n",
       "        vertical-align: middle;\n",
       "    }\n",
       "\n",
       "    .dataframe tbody tr th {\n",
       "        vertical-align: top;\n",
       "    }\n",
       "\n",
       "    .dataframe thead th {\n",
       "        text-align: right;\n",
       "    }\n",
       "</style>\n",
       "<table border=\"1\" class=\"dataframe\">\n",
       "  <thead>\n",
       "    <tr style=\"text-align: right;\">\n",
       "      <th></th>\n",
       "      <th>nnz</th>\n",
       "      <th>fdr</th>\n",
       "      <th>tpr</th>\n",
       "      <th>fpr</th>\n",
       "      <th>precision</th>\n",
       "      <th>recall</th>\n",
       "      <th>F1</th>\n",
       "      <th>shd</th>\n",
       "      <th>sid_low</th>\n",
       "      <th>sid_high</th>\n",
       "      <th>...</th>\n",
       "      <th>seed</th>\n",
       "      <th>n_nodes</th>\n",
       "      <th>elapsed_bsaf_creation</th>\n",
       "      <th>elapsed_model_solution</th>\n",
       "      <th>is_converged</th>\n",
       "      <th>fact_ranking_method</th>\n",
       "      <th>model_ranking_method</th>\n",
       "      <th>aba_elapsed</th>\n",
       "      <th>ranking_elapsed</th>\n",
       "      <th>best_I</th>\n",
       "    </tr>\n",
       "  </thead>\n",
       "  <tbody>\n",
       "    <tr>\n",
       "      <th>0</th>\n",
       "      <td>4</td>\n",
       "      <td>0.5000</td>\n",
       "      <td>0.5000</td>\n",
       "      <td>0.3333</td>\n",
       "      <td>0.5000</td>\n",
       "      <td>0.5000</td>\n",
       "      <td>0.5000</td>\n",
       "      <td>2.0</td>\n",
       "      <td>10.0</td>\n",
       "      <td>10.0</td>\n",
       "      <td>...</td>\n",
       "      <td>7816</td>\n",
       "      <td>5</td>\n",
       "      <td>12.224487</td>\n",
       "      <td>0.915898</td>\n",
       "      <td>True</td>\n",
       "      <td>stand_alone_gradual</td>\n",
       "      <td>original_ranking</td>\n",
       "      <td>0</td>\n",
       "      <td>1.346822</td>\n",
       "      <td>21.245104</td>\n",
       "    </tr>\n",
       "    <tr>\n",
       "      <th>1</th>\n",
       "      <td>0</td>\n",
       "      <td>0.0000</td>\n",
       "      <td>0.0000</td>\n",
       "      <td>0.0000</td>\n",
       "      <td>NaN</td>\n",
       "      <td>0.0000</td>\n",
       "      <td>NaN</td>\n",
       "      <td>4.0</td>\n",
       "      <td>10.0</td>\n",
       "      <td>10.0</td>\n",
       "      <td>...</td>\n",
       "      <td>7816</td>\n",
       "      <td>5</td>\n",
       "      <td>12.224487</td>\n",
       "      <td>0.915898</td>\n",
       "      <td>True</td>\n",
       "      <td>stand_alone_gradual</td>\n",
       "      <td>refined_ranking</td>\n",
       "      <td>0</td>\n",
       "      <td>0.531603</td>\n",
       "      <td>3.967036</td>\n",
       "    </tr>\n",
       "    <tr>\n",
       "      <th>2</th>\n",
       "      <td>4</td>\n",
       "      <td>0.5000</td>\n",
       "      <td>0.5000</td>\n",
       "      <td>0.3333</td>\n",
       "      <td>0.5000</td>\n",
       "      <td>0.5000</td>\n",
       "      <td>0.5000</td>\n",
       "      <td>2.0</td>\n",
       "      <td>10.0</td>\n",
       "      <td>10.0</td>\n",
       "      <td>...</td>\n",
       "      <td>3578</td>\n",
       "      <td>5</td>\n",
       "      <td>12.224487</td>\n",
       "      <td>0.918503</td>\n",
       "      <td>True</td>\n",
       "      <td>stand_alone_gradual</td>\n",
       "      <td>original_ranking</td>\n",
       "      <td>0</td>\n",
       "      <td>1.330360</td>\n",
       "      <td>20.714498</td>\n",
       "    </tr>\n",
       "    <tr>\n",
       "      <th>3</th>\n",
       "      <td>0</td>\n",
       "      <td>0.0000</td>\n",
       "      <td>0.0000</td>\n",
       "      <td>0.0000</td>\n",
       "      <td>NaN</td>\n",
       "      <td>0.0000</td>\n",
       "      <td>NaN</td>\n",
       "      <td>4.0</td>\n",
       "      <td>10.0</td>\n",
       "      <td>10.0</td>\n",
       "      <td>...</td>\n",
       "      <td>3578</td>\n",
       "      <td>5</td>\n",
       "      <td>12.224487</td>\n",
       "      <td>0.918503</td>\n",
       "      <td>True</td>\n",
       "      <td>stand_alone_gradual</td>\n",
       "      <td>refined_ranking</td>\n",
       "      <td>0</td>\n",
       "      <td>0.550066</td>\n",
       "      <td>4.363300</td>\n",
       "    </tr>\n",
       "    <tr>\n",
       "      <th>4</th>\n",
       "      <td>3</td>\n",
       "      <td>0.6667</td>\n",
       "      <td>0.2500</td>\n",
       "      <td>0.3333</td>\n",
       "      <td>0.3333</td>\n",
       "      <td>0.2500</td>\n",
       "      <td>0.2857</td>\n",
       "      <td>3.0</td>\n",
       "      <td>11.0</td>\n",
       "      <td>11.0</td>\n",
       "      <td>...</td>\n",
       "      <td>2656</td>\n",
       "      <td>5</td>\n",
       "      <td>12.224487</td>\n",
       "      <td>0.918005</td>\n",
       "      <td>True</td>\n",
       "      <td>stand_alone_gradual</td>\n",
       "      <td>original_ranking</td>\n",
       "      <td>0</td>\n",
       "      <td>0.616465</td>\n",
       "      <td>12.970899</td>\n",
       "    </tr>\n",
       "    <tr>\n",
       "      <th>...</th>\n",
       "      <td>...</td>\n",
       "      <td>...</td>\n",
       "      <td>...</td>\n",
       "      <td>...</td>\n",
       "      <td>...</td>\n",
       "      <td>...</td>\n",
       "      <td>...</td>\n",
       "      <td>...</td>\n",
       "      <td>...</td>\n",
       "      <td>...</td>\n",
       "      <td>...</td>\n",
       "      <td>...</td>\n",
       "      <td>...</td>\n",
       "      <td>...</td>\n",
       "      <td>...</td>\n",
       "      <td>...</td>\n",
       "      <td>...</td>\n",
       "      <td>...</td>\n",
       "      <td>...</td>\n",
       "      <td>...</td>\n",
       "      <td>...</td>\n",
       "    </tr>\n",
       "    <tr>\n",
       "      <th>295</th>\n",
       "      <td>0</td>\n",
       "      <td>0.0000</td>\n",
       "      <td>0.0000</td>\n",
       "      <td>0.0000</td>\n",
       "      <td>NaN</td>\n",
       "      <td>0.0000</td>\n",
       "      <td>NaN</td>\n",
       "      <td>6.0</td>\n",
       "      <td>17.0</td>\n",
       "      <td>17.0</td>\n",
       "      <td>...</td>\n",
       "      <td>4125</td>\n",
       "      <td>6</td>\n",
       "      <td>1991.199507</td>\n",
       "      <td>18.155988</td>\n",
       "      <td>True</td>\n",
       "      <td>stand_alone_gradual</td>\n",
       "      <td>refined_ranking</td>\n",
       "      <td>0</td>\n",
       "      <td>0.859803</td>\n",
       "      <td>9.616728</td>\n",
       "    </tr>\n",
       "    <tr>\n",
       "      <th>296</th>\n",
       "      <td>4</td>\n",
       "      <td>0.5000</td>\n",
       "      <td>0.3333</td>\n",
       "      <td>0.2222</td>\n",
       "      <td>0.5000</td>\n",
       "      <td>0.3333</td>\n",
       "      <td>0.4000</td>\n",
       "      <td>6.0</td>\n",
       "      <td>16.0</td>\n",
       "      <td>23.0</td>\n",
       "      <td>...</td>\n",
       "      <td>3094</td>\n",
       "      <td>6</td>\n",
       "      <td>1991.199507</td>\n",
       "      <td>18.128719</td>\n",
       "      <td>True</td>\n",
       "      <td>stand_alone_gradual</td>\n",
       "      <td>original_ranking</td>\n",
       "      <td>0</td>\n",
       "      <td>1.374774</td>\n",
       "      <td>12.252958</td>\n",
       "    </tr>\n",
       "    <tr>\n",
       "      <th>297</th>\n",
       "      <td>0</td>\n",
       "      <td>0.0000</td>\n",
       "      <td>0.0000</td>\n",
       "      <td>0.0000</td>\n",
       "      <td>NaN</td>\n",
       "      <td>0.0000</td>\n",
       "      <td>NaN</td>\n",
       "      <td>6.0</td>\n",
       "      <td>17.0</td>\n",
       "      <td>17.0</td>\n",
       "      <td>...</td>\n",
       "      <td>3094</td>\n",
       "      <td>6</td>\n",
       "      <td>1991.199507</td>\n",
       "      <td>18.128719</td>\n",
       "      <td>True</td>\n",
       "      <td>stand_alone_gradual</td>\n",
       "      <td>refined_ranking</td>\n",
       "      <td>0</td>\n",
       "      <td>0.901448</td>\n",
       "      <td>9.286791</td>\n",
       "    </tr>\n",
       "    <tr>\n",
       "      <th>298</th>\n",
       "      <td>2</td>\n",
       "      <td>0.0000</td>\n",
       "      <td>0.3333</td>\n",
       "      <td>0.0000</td>\n",
       "      <td>1.0000</td>\n",
       "      <td>0.3333</td>\n",
       "      <td>0.5000</td>\n",
       "      <td>5.0</td>\n",
       "      <td>11.0</td>\n",
       "      <td>19.0</td>\n",
       "      <td>...</td>\n",
       "      <td>6398</td>\n",
       "      <td>6</td>\n",
       "      <td>1991.199507</td>\n",
       "      <td>18.034173</td>\n",
       "      <td>True</td>\n",
       "      <td>stand_alone_gradual</td>\n",
       "      <td>original_ranking</td>\n",
       "      <td>0</td>\n",
       "      <td>0.869354</td>\n",
       "      <td>13.406162</td>\n",
       "    </tr>\n",
       "    <tr>\n",
       "      <th>299</th>\n",
       "      <td>0</td>\n",
       "      <td>0.0000</td>\n",
       "      <td>0.0000</td>\n",
       "      <td>0.0000</td>\n",
       "      <td>NaN</td>\n",
       "      <td>0.0000</td>\n",
       "      <td>NaN</td>\n",
       "      <td>6.0</td>\n",
       "      <td>17.0</td>\n",
       "      <td>17.0</td>\n",
       "      <td>...</td>\n",
       "      <td>6398</td>\n",
       "      <td>6</td>\n",
       "      <td>1991.199507</td>\n",
       "      <td>18.034173</td>\n",
       "      <td>True</td>\n",
       "      <td>stand_alone_gradual</td>\n",
       "      <td>refined_ranking</td>\n",
       "      <td>0</td>\n",
       "      <td>0.690237</td>\n",
       "      <td>6.821029</td>\n",
       "    </tr>\n",
       "  </tbody>\n",
       "</table>\n",
       "<p>300 rows × 21 columns</p>\n",
       "</div>"
      ],
      "text/plain": [
       "     nnz     fdr     tpr     fpr  precision  recall      F1  shd  sid_low  \\\n",
       "0      4  0.5000  0.5000  0.3333     0.5000  0.5000  0.5000  2.0     10.0   \n",
       "1      0  0.0000  0.0000  0.0000        NaN  0.0000     NaN  4.0     10.0   \n",
       "2      4  0.5000  0.5000  0.3333     0.5000  0.5000  0.5000  2.0     10.0   \n",
       "3      0  0.0000  0.0000  0.0000        NaN  0.0000     NaN  4.0     10.0   \n",
       "4      3  0.6667  0.2500  0.3333     0.3333  0.2500  0.2857  3.0     11.0   \n",
       "..   ...     ...     ...     ...        ...     ...     ...  ...      ...   \n",
       "295    0  0.0000  0.0000  0.0000        NaN  0.0000     NaN  6.0     17.0   \n",
       "296    4  0.5000  0.3333  0.2222     0.5000  0.3333  0.4000  6.0     16.0   \n",
       "297    0  0.0000  0.0000  0.0000        NaN  0.0000     NaN  6.0     17.0   \n",
       "298    2  0.0000  0.3333  0.0000     1.0000  0.3333  0.5000  5.0     11.0   \n",
       "299    0  0.0000  0.0000  0.0000        NaN  0.0000     NaN  6.0     17.0   \n",
       "\n",
       "     sid_high  ...  seed  n_nodes  elapsed_bsaf_creation  \\\n",
       "0        10.0  ...  7816        5              12.224487   \n",
       "1        10.0  ...  7816        5              12.224487   \n",
       "2        10.0  ...  3578        5              12.224487   \n",
       "3        10.0  ...  3578        5              12.224487   \n",
       "4        11.0  ...  2656        5              12.224487   \n",
       "..        ...  ...   ...      ...                    ...   \n",
       "295      17.0  ...  4125        6            1991.199507   \n",
       "296      23.0  ...  3094        6            1991.199507   \n",
       "297      17.0  ...  3094        6            1991.199507   \n",
       "298      19.0  ...  6398        6            1991.199507   \n",
       "299      17.0  ...  6398        6            1991.199507   \n",
       "\n",
       "     elapsed_model_solution  is_converged  fact_ranking_method  \\\n",
       "0                  0.915898          True  stand_alone_gradual   \n",
       "1                  0.915898          True  stand_alone_gradual   \n",
       "2                  0.918503          True  stand_alone_gradual   \n",
       "3                  0.918503          True  stand_alone_gradual   \n",
       "4                  0.918005          True  stand_alone_gradual   \n",
       "..                      ...           ...                  ...   \n",
       "295               18.155988          True  stand_alone_gradual   \n",
       "296               18.128719          True  stand_alone_gradual   \n",
       "297               18.128719          True  stand_alone_gradual   \n",
       "298               18.034173          True  stand_alone_gradual   \n",
       "299               18.034173          True  stand_alone_gradual   \n",
       "\n",
       "    model_ranking_method aba_elapsed  ranking_elapsed     best_I  \n",
       "0       original_ranking           0         1.346822  21.245104  \n",
       "1        refined_ranking           0         0.531603   3.967036  \n",
       "2       original_ranking           0         1.330360  20.714498  \n",
       "3        refined_ranking           0         0.550066   4.363300  \n",
       "4       original_ranking           0         0.616465  12.970899  \n",
       "..                   ...         ...              ...        ...  \n",
       "295      refined_ranking           0         0.859803   9.616728  \n",
       "296     original_ranking           0         1.374774  12.252958  \n",
       "297      refined_ranking           0         0.901448   9.286791  \n",
       "298     original_ranking           0         0.869354  13.406162  \n",
       "299      refined_ranking           0         0.690237   6.821029  \n",
       "\n",
       "[300 rows x 21 columns]"
      ]
     },
     "execution_count": 3,
     "metadata": {},
     "output_type": "execute_result"
    }
   ],
   "source": [
    "only_gradual_v1_data"
   ]
  },
  {
   "cell_type": "code",
   "execution_count": 4,
   "id": "0eaa0e43",
   "metadata": {},
   "outputs": [
    {
     "data": {
      "text/html": [
       "<div>\n",
       "<style scoped>\n",
       "    .dataframe tbody tr th:only-of-type {\n",
       "        vertical-align: middle;\n",
       "    }\n",
       "\n",
       "    .dataframe tbody tr th {\n",
       "        vertical-align: top;\n",
       "    }\n",
       "\n",
       "    .dataframe thead th {\n",
       "        text-align: right;\n",
       "    }\n",
       "</style>\n",
       "<table border=\"1\" class=\"dataframe\">\n",
       "  <thead>\n",
       "    <tr style=\"text-align: right;\">\n",
       "      <th></th>\n",
       "      <th>dataset</th>\n",
       "      <th>n_nodes</th>\n",
       "      <th>model</th>\n",
       "      <th>sid_low_mean</th>\n",
       "      <th>sid_high_mean</th>\n",
       "      <th>sid_low_std</th>\n",
       "      <th>sid_high_std</th>\n",
       "      <th>n_edges</th>\n",
       "      <th>p_SID_low_mean</th>\n",
       "      <th>p_SID_high_mean</th>\n",
       "      <th>p_SID_low_std</th>\n",
       "      <th>p_SID_high_std</th>\n",
       "    </tr>\n",
       "  </thead>\n",
       "  <tbody>\n",
       "    <tr>\n",
       "      <th>0</th>\n",
       "      <td>cancer</td>\n",
       "      <td>5</td>\n",
       "      <td>only_gradual__original_ranking</td>\n",
       "      <td>10.06</td>\n",
       "      <td>10.66</td>\n",
       "      <td>0.651842</td>\n",
       "      <td>1.422989</td>\n",
       "      <td>4</td>\n",
       "      <td>2.515000</td>\n",
       "      <td>2.665</td>\n",
       "      <td>0.162960</td>\n",
       "      <td>0.355747</td>\n",
       "    </tr>\n",
       "    <tr>\n",
       "      <th>1</th>\n",
       "      <td>cancer</td>\n",
       "      <td>5</td>\n",
       "      <td>only_gradual__refined_ranking</td>\n",
       "      <td>10.00</td>\n",
       "      <td>10.00</td>\n",
       "      <td>0.000000</td>\n",
       "      <td>0.000000</td>\n",
       "      <td>4</td>\n",
       "      <td>2.500000</td>\n",
       "      <td>2.500</td>\n",
       "      <td>0.000000</td>\n",
       "      <td>0.000000</td>\n",
       "    </tr>\n",
       "    <tr>\n",
       "      <th>2</th>\n",
       "      <td>earthquake</td>\n",
       "      <td>5</td>\n",
       "      <td>only_gradual__original_ranking</td>\n",
       "      <td>3.30</td>\n",
       "      <td>13.14</td>\n",
       "      <td>3.587108</td>\n",
       "      <td>4.899021</td>\n",
       "      <td>4</td>\n",
       "      <td>0.825000</td>\n",
       "      <td>3.285</td>\n",
       "      <td>0.896777</td>\n",
       "      <td>1.224755</td>\n",
       "    </tr>\n",
       "    <tr>\n",
       "      <th>3</th>\n",
       "      <td>earthquake</td>\n",
       "      <td>5</td>\n",
       "      <td>only_gradual__refined_ranking</td>\n",
       "      <td>10.00</td>\n",
       "      <td>10.00</td>\n",
       "      <td>0.000000</td>\n",
       "      <td>0.000000</td>\n",
       "      <td>4</td>\n",
       "      <td>2.500000</td>\n",
       "      <td>2.500</td>\n",
       "      <td>0.000000</td>\n",
       "      <td>0.000000</td>\n",
       "    </tr>\n",
       "    <tr>\n",
       "      <th>4</th>\n",
       "      <td>survey</td>\n",
       "      <td>6</td>\n",
       "      <td>only_gradual__original_ranking</td>\n",
       "      <td>13.52</td>\n",
       "      <td>18.54</td>\n",
       "      <td>2.643745</td>\n",
       "      <td>3.144220</td>\n",
       "      <td>6</td>\n",
       "      <td>2.253333</td>\n",
       "      <td>3.090</td>\n",
       "      <td>0.440624</td>\n",
       "      <td>0.524037</td>\n",
       "    </tr>\n",
       "  </tbody>\n",
       "</table>\n",
       "</div>"
      ],
      "text/plain": [
       "      dataset  n_nodes                           model  sid_low_mean  \\\n",
       "0      cancer        5  only_gradual__original_ranking         10.06   \n",
       "1      cancer        5   only_gradual__refined_ranking         10.00   \n",
       "2  earthquake        5  only_gradual__original_ranking          3.30   \n",
       "3  earthquake        5   only_gradual__refined_ranking         10.00   \n",
       "4      survey        6  only_gradual__original_ranking         13.52   \n",
       "\n",
       "   sid_high_mean  sid_low_std  sid_high_std  n_edges  p_SID_low_mean  \\\n",
       "0          10.66     0.651842      1.422989        4        2.515000   \n",
       "1          10.00     0.000000      0.000000        4        2.500000   \n",
       "2          13.14     3.587108      4.899021        4        0.825000   \n",
       "3          10.00     0.000000      0.000000        4        2.500000   \n",
       "4          18.54     2.643745      3.144220        6        2.253333   \n",
       "\n",
       "   p_SID_high_mean  p_SID_low_std  p_SID_high_std  \n",
       "0            2.665       0.162960        0.355747  \n",
       "1            2.500       0.000000        0.000000  \n",
       "2            3.285       0.896777        1.224755  \n",
       "3            2.500       0.000000        0.000000  \n",
       "4            3.090       0.440624        0.524037  "
      ]
     },
     "execution_count": 4,
     "metadata": {},
     "output_type": "execute_result"
    }
   ],
   "source": [
    "DAG_ARCS_MAP = {'asia':8, 'cancer':4, 'earthquake':4, 'sachs':17, 'survey':6, 'alarm':46, 'child':25, 'insurance':52, 'hailfinder':66, 'hepar2':123}\n",
    "DAG_NODES_MAP = {'asia':8, 'cancer':5, 'earthquake':5, 'sachs':11, 'survey':6, 'alarm':37, 'child':20, 'insurance':27, 'hailfinder':56, 'hepar2':70}\n",
    "\n",
    "v1_data['model'] = 'f__' + v1_data['fact_ranking_method'] + '__r__' + v1_data['model_ranking_method']\n",
    "only_gradual_v1_data['model'] = 'only_gradual__' + only_gradual_v1_data['model_ranking_method']\n",
    "\n",
    "def process_v1_data(df):\n",
    "    groupby_cols = ['dataset', 'n_nodes', 'model']\n",
    "    df_grouped = df.groupby(groupby_cols, as_index=False).aggregate(\n",
    "        sid_low_mean=('sid_low', 'mean'),\n",
    "        sid_high_mean=('sid_high', 'mean'),\n",
    "        sid_low_std=('sid_low', 'std'),\n",
    "        sid_high_std=('sid_high', 'std'),\n",
    "    )\n",
    "    df_grouped['n_edges'] = df_grouped['dataset'].map(DAG_ARCS_MAP)\n",
    "    df_grouped['p_SID_low_mean'] = df_grouped['sid_low_mean'] / df_grouped['n_edges']\n",
    "    df_grouped['p_SID_high_mean'] = df_grouped['sid_high_mean'] / df_grouped['n_edges']\n",
    "    df_grouped['p_SID_low_std'] = df_grouped['sid_low_std'] / df_grouped['n_edges']\n",
    "    df_grouped['p_SID_high_std'] = df_grouped['sid_high_std'] / df_grouped['n_edges']\n",
    "    return df_grouped\n",
    "\n",
    "v1_grouped = process_v1_data(v1_data)\n",
    "only_gradual_v1_grouped = process_v1_data(only_gradual_v1_data)\n",
    "\n",
    "only_gradual_v1_grouped.head()"
   ]
  },
  {
   "cell_type": "code",
   "execution_count": 5,
   "id": "ecb9b8d4",
   "metadata": {},
   "outputs": [
    {
     "data": {
      "text/html": [
       "<div>\n",
       "<style scoped>\n",
       "    .dataframe tbody tr th:only-of-type {\n",
       "        vertical-align: middle;\n",
       "    }\n",
       "\n",
       "    .dataframe tbody tr th {\n",
       "        vertical-align: top;\n",
       "    }\n",
       "\n",
       "    .dataframe thead th {\n",
       "        text-align: right;\n",
       "    }\n",
       "</style>\n",
       "<table border=\"1\" class=\"dataframe\">\n",
       "  <thead>\n",
       "    <tr style=\"text-align: right;\">\n",
       "      <th></th>\n",
       "      <th>dataset</th>\n",
       "      <th>model</th>\n",
       "      <th>elapsed_mean</th>\n",
       "      <th>elapsed_std</th>\n",
       "      <th>nnz_mean</th>\n",
       "      <th>nnz_std</th>\n",
       "      <th>fdr_mean</th>\n",
       "      <th>fdr_std</th>\n",
       "      <th>tpr_mean</th>\n",
       "      <th>tpr_std</th>\n",
       "      <th>...</th>\n",
       "      <th>recall_mean</th>\n",
       "      <th>recall_std</th>\n",
       "      <th>F1_mean</th>\n",
       "      <th>F1_std</th>\n",
       "      <th>shd_mean</th>\n",
       "      <th>shd_std</th>\n",
       "      <th>sid_low_mean</th>\n",
       "      <th>sid_low_std</th>\n",
       "      <th>sid_high_mean</th>\n",
       "      <th>sid_high_std</th>\n",
       "    </tr>\n",
       "  </thead>\n",
       "  <tbody>\n",
       "    <tr>\n",
       "      <th>0</th>\n",
       "      <td>cancer</td>\n",
       "      <td>ABAPC (ASPforABA)</td>\n",
       "      <td>0.47</td>\n",
       "      <td>0.24</td>\n",
       "      <td>3.86</td>\n",
       "      <td>0.64</td>\n",
       "      <td>0.53</td>\n",
       "      <td>0.11</td>\n",
       "      <td>0.46</td>\n",
       "      <td>0.13</td>\n",
       "      <td>...</td>\n",
       "      <td>0.44</td>\n",
       "      <td>0.15</td>\n",
       "      <td>0.47</td>\n",
       "      <td>0.11</td>\n",
       "      <td>2.34</td>\n",
       "      <td>0.69</td>\n",
       "      <td>9.74</td>\n",
       "      <td>1.48</td>\n",
       "      <td>10.64</td>\n",
       "      <td>1.54</td>\n",
       "    </tr>\n",
       "    <tr>\n",
       "      <th>1</th>\n",
       "      <td>cancer</td>\n",
       "      <td>Random</td>\n",
       "      <td>0.00</td>\n",
       "      <td>0.00</td>\n",
       "      <td>4.00</td>\n",
       "      <td>0.00</td>\n",
       "      <td>0.70</td>\n",
       "      <td>0.24</td>\n",
       "      <td>0.30</td>\n",
       "      <td>0.24</td>\n",
       "      <td>...</td>\n",
       "      <td>0.20</td>\n",
       "      <td>0.19</td>\n",
       "      <td>0.32</td>\n",
       "      <td>0.13</td>\n",
       "      <td>5.72</td>\n",
       "      <td>1.55</td>\n",
       "      <td>7.94</td>\n",
       "      <td>3.63</td>\n",
       "      <td>14.04</td>\n",
       "      <td>3.03</td>\n",
       "    </tr>\n",
       "    <tr>\n",
       "      <th>2</th>\n",
       "      <td>cancer</td>\n",
       "      <td>MPC</td>\n",
       "      <td>0.00</td>\n",
       "      <td>0.00</td>\n",
       "      <td>3.76</td>\n",
       "      <td>0.52</td>\n",
       "      <td>0.01</td>\n",
       "      <td>0.04</td>\n",
       "      <td>0.93</td>\n",
       "      <td>0.11</td>\n",
       "      <td>...</td>\n",
       "      <td>0.50</td>\n",
       "      <td>0.00</td>\n",
       "      <td>0.52</td>\n",
       "      <td>0.04</td>\n",
       "      <td>2.04</td>\n",
       "      <td>0.20</td>\n",
       "      <td>3.88</td>\n",
       "      <td>1.81</td>\n",
       "      <td>13.88</td>\n",
       "      <td>1.81</td>\n",
       "    </tr>\n",
       "    <tr>\n",
       "      <th>3</th>\n",
       "      <td>cancer</td>\n",
       "      <td>ABAPC (Ours)</td>\n",
       "      <td>0.96</td>\n",
       "      <td>1.00</td>\n",
       "      <td>3.86</td>\n",
       "      <td>0.64</td>\n",
       "      <td>0.53</td>\n",
       "      <td>0.11</td>\n",
       "      <td>0.46</td>\n",
       "      <td>0.13</td>\n",
       "      <td>...</td>\n",
       "      <td>0.44</td>\n",
       "      <td>0.15</td>\n",
       "      <td>0.47</td>\n",
       "      <td>0.11</td>\n",
       "      <td>2.34</td>\n",
       "      <td>0.69</td>\n",
       "      <td>9.74</td>\n",
       "      <td>1.48</td>\n",
       "      <td>10.64</td>\n",
       "      <td>1.54</td>\n",
       "    </tr>\n",
       "    <tr>\n",
       "      <th>4</th>\n",
       "      <td>cancer</td>\n",
       "      <td>NOTEARS-MLP</td>\n",
       "      <td>5.69</td>\n",
       "      <td>3.72</td>\n",
       "      <td>1.92</td>\n",
       "      <td>0.49</td>\n",
       "      <td>0.43</td>\n",
       "      <td>0.20</td>\n",
       "      <td>0.25</td>\n",
       "      <td>0.00</td>\n",
       "      <td>...</td>\n",
       "      <td>0.25</td>\n",
       "      <td>0.00</td>\n",
       "      <td>0.34</td>\n",
       "      <td>0.03</td>\n",
       "      <td>3.00</td>\n",
       "      <td>0.00</td>\n",
       "      <td>9.44</td>\n",
       "      <td>1.54</td>\n",
       "      <td>10.24</td>\n",
       "      <td>0.43</td>\n",
       "    </tr>\n",
       "  </tbody>\n",
       "</table>\n",
       "<p>5 rows × 24 columns</p>\n",
       "</div>"
      ],
      "text/plain": [
       "  dataset              model  elapsed_mean  elapsed_std  nnz_mean  nnz_std  \\\n",
       "0  cancer  ABAPC (ASPforABA)          0.47         0.24      3.86     0.64   \n",
       "1  cancer             Random          0.00         0.00      4.00     0.00   \n",
       "2  cancer                MPC          0.00         0.00      3.76     0.52   \n",
       "3  cancer       ABAPC (Ours)          0.96         1.00      3.86     0.64   \n",
       "4  cancer        NOTEARS-MLP          5.69         3.72      1.92     0.49   \n",
       "\n",
       "   fdr_mean  fdr_std  tpr_mean  tpr_std  ...  recall_mean  recall_std  \\\n",
       "0      0.53     0.11      0.46     0.13  ...         0.44        0.15   \n",
       "1      0.70     0.24      0.30     0.24  ...         0.20        0.19   \n",
       "2      0.01     0.04      0.93     0.11  ...         0.50        0.00   \n",
       "3      0.53     0.11      0.46     0.13  ...         0.44        0.15   \n",
       "4      0.43     0.20      0.25     0.00  ...         0.25        0.00   \n",
       "\n",
       "   F1_mean  F1_std  shd_mean  shd_std  sid_low_mean  sid_low_std  \\\n",
       "0     0.47    0.11      2.34     0.69          9.74         1.48   \n",
       "1     0.32    0.13      5.72     1.55          7.94         3.63   \n",
       "2     0.52    0.04      2.04     0.20          3.88         1.81   \n",
       "3     0.47    0.11      2.34     0.69          9.74         1.48   \n",
       "4     0.34    0.03      3.00     0.00          9.44         1.54   \n",
       "\n",
       "   sid_high_mean  sid_high_std  \n",
       "0          10.64          1.54  \n",
       "1          14.04          3.03  \n",
       "2          13.88          1.81  \n",
       "3          10.64          1.54  \n",
       "4          10.24          0.43  \n",
       "\n",
       "[5 rows x 24 columns]"
      ]
     },
     "execution_count": 5,
     "metadata": {},
     "output_type": "execute_result"
    }
   ],
   "source": [
    "other_methods_data.head()"
   ]
  },
  {
   "cell_type": "code",
   "execution_count": 6,
   "id": "479b8bb0",
   "metadata": {},
   "outputs": [
    {
     "data": {
      "text/html": [
       "<div>\n",
       "<style scoped>\n",
       "    .dataframe tbody tr th:only-of-type {\n",
       "        vertical-align: middle;\n",
       "    }\n",
       "\n",
       "    .dataframe tbody tr th {\n",
       "        vertical-align: top;\n",
       "    }\n",
       "\n",
       "    .dataframe thead th {\n",
       "        text-align: right;\n",
       "    }\n",
       "</style>\n",
       "<table border=\"1\" class=\"dataframe\">\n",
       "  <thead>\n",
       "    <tr style=\"text-align: right;\">\n",
       "      <th></th>\n",
       "      <th>dataset</th>\n",
       "      <th>model</th>\n",
       "      <th>elapsed_mean</th>\n",
       "      <th>elapsed_std</th>\n",
       "      <th>nnz_mean</th>\n",
       "      <th>nnz_std</th>\n",
       "      <th>fdr_mean</th>\n",
       "      <th>fdr_std</th>\n",
       "      <th>tpr_mean</th>\n",
       "      <th>tpr_std</th>\n",
       "      <th>...</th>\n",
       "      <th>sid_low_mean</th>\n",
       "      <th>sid_low_std</th>\n",
       "      <th>sid_high_mean</th>\n",
       "      <th>sid_high_std</th>\n",
       "      <th>n_edges</th>\n",
       "      <th>n_nodes</th>\n",
       "      <th>p_SID_low_mean</th>\n",
       "      <th>p_SID_high_mean</th>\n",
       "      <th>p_SID_low_std</th>\n",
       "      <th>p_SID_high_std</th>\n",
       "    </tr>\n",
       "  </thead>\n",
       "  <tbody>\n",
       "    <tr>\n",
       "      <th>0</th>\n",
       "      <td>cancer</td>\n",
       "      <td>ABAPC (ASPforABA)</td>\n",
       "      <td>0.47</td>\n",
       "      <td>0.24</td>\n",
       "      <td>3.86</td>\n",
       "      <td>0.64</td>\n",
       "      <td>0.53</td>\n",
       "      <td>0.11</td>\n",
       "      <td>0.46</td>\n",
       "      <td>0.13</td>\n",
       "      <td>...</td>\n",
       "      <td>9.74</td>\n",
       "      <td>1.48</td>\n",
       "      <td>10.64</td>\n",
       "      <td>1.54</td>\n",
       "      <td>4</td>\n",
       "      <td>5</td>\n",
       "      <td>2.435</td>\n",
       "      <td>2.66</td>\n",
       "      <td>0.3700</td>\n",
       "      <td>0.3850</td>\n",
       "    </tr>\n",
       "    <tr>\n",
       "      <th>1</th>\n",
       "      <td>cancer</td>\n",
       "      <td>Random</td>\n",
       "      <td>0.00</td>\n",
       "      <td>0.00</td>\n",
       "      <td>4.00</td>\n",
       "      <td>0.00</td>\n",
       "      <td>0.70</td>\n",
       "      <td>0.24</td>\n",
       "      <td>0.30</td>\n",
       "      <td>0.24</td>\n",
       "      <td>...</td>\n",
       "      <td>7.94</td>\n",
       "      <td>3.63</td>\n",
       "      <td>14.04</td>\n",
       "      <td>3.03</td>\n",
       "      <td>4</td>\n",
       "      <td>5</td>\n",
       "      <td>1.985</td>\n",
       "      <td>3.51</td>\n",
       "      <td>0.9075</td>\n",
       "      <td>0.7575</td>\n",
       "    </tr>\n",
       "    <tr>\n",
       "      <th>2</th>\n",
       "      <td>cancer</td>\n",
       "      <td>MPC</td>\n",
       "      <td>0.00</td>\n",
       "      <td>0.00</td>\n",
       "      <td>3.76</td>\n",
       "      <td>0.52</td>\n",
       "      <td>0.01</td>\n",
       "      <td>0.04</td>\n",
       "      <td>0.93</td>\n",
       "      <td>0.11</td>\n",
       "      <td>...</td>\n",
       "      <td>3.88</td>\n",
       "      <td>1.81</td>\n",
       "      <td>13.88</td>\n",
       "      <td>1.81</td>\n",
       "      <td>4</td>\n",
       "      <td>5</td>\n",
       "      <td>0.970</td>\n",
       "      <td>3.47</td>\n",
       "      <td>0.4525</td>\n",
       "      <td>0.4525</td>\n",
       "    </tr>\n",
       "    <tr>\n",
       "      <th>3</th>\n",
       "      <td>cancer</td>\n",
       "      <td>ABAPC (Ours)</td>\n",
       "      <td>0.96</td>\n",
       "      <td>1.00</td>\n",
       "      <td>3.86</td>\n",
       "      <td>0.64</td>\n",
       "      <td>0.53</td>\n",
       "      <td>0.11</td>\n",
       "      <td>0.46</td>\n",
       "      <td>0.13</td>\n",
       "      <td>...</td>\n",
       "      <td>9.74</td>\n",
       "      <td>1.48</td>\n",
       "      <td>10.64</td>\n",
       "      <td>1.54</td>\n",
       "      <td>4</td>\n",
       "      <td>5</td>\n",
       "      <td>2.435</td>\n",
       "      <td>2.66</td>\n",
       "      <td>0.3700</td>\n",
       "      <td>0.3850</td>\n",
       "    </tr>\n",
       "    <tr>\n",
       "      <th>4</th>\n",
       "      <td>cancer</td>\n",
       "      <td>NOTEARS-MLP</td>\n",
       "      <td>5.69</td>\n",
       "      <td>3.72</td>\n",
       "      <td>1.92</td>\n",
       "      <td>0.49</td>\n",
       "      <td>0.43</td>\n",
       "      <td>0.20</td>\n",
       "      <td>0.25</td>\n",
       "      <td>0.00</td>\n",
       "      <td>...</td>\n",
       "      <td>9.44</td>\n",
       "      <td>1.54</td>\n",
       "      <td>10.24</td>\n",
       "      <td>0.43</td>\n",
       "      <td>4</td>\n",
       "      <td>5</td>\n",
       "      <td>2.360</td>\n",
       "      <td>2.56</td>\n",
       "      <td>0.3850</td>\n",
       "      <td>0.1075</td>\n",
       "    </tr>\n",
       "  </tbody>\n",
       "</table>\n",
       "<p>5 rows × 30 columns</p>\n",
       "</div>"
      ],
      "text/plain": [
       "  dataset              model  elapsed_mean  elapsed_std  nnz_mean  nnz_std  \\\n",
       "0  cancer  ABAPC (ASPforABA)          0.47         0.24      3.86     0.64   \n",
       "1  cancer             Random          0.00         0.00      4.00     0.00   \n",
       "2  cancer                MPC          0.00         0.00      3.76     0.52   \n",
       "3  cancer       ABAPC (Ours)          0.96         1.00      3.86     0.64   \n",
       "4  cancer        NOTEARS-MLP          5.69         3.72      1.92     0.49   \n",
       "\n",
       "   fdr_mean  fdr_std  tpr_mean  tpr_std  ...  sid_low_mean  sid_low_std  \\\n",
       "0      0.53     0.11      0.46     0.13  ...          9.74         1.48   \n",
       "1      0.70     0.24      0.30     0.24  ...          7.94         3.63   \n",
       "2      0.01     0.04      0.93     0.11  ...          3.88         1.81   \n",
       "3      0.53     0.11      0.46     0.13  ...          9.74         1.48   \n",
       "4      0.43     0.20      0.25     0.00  ...          9.44         1.54   \n",
       "\n",
       "   sid_high_mean  sid_high_std  n_edges  n_nodes  p_SID_low_mean  \\\n",
       "0          10.64          1.54        4        5           2.435   \n",
       "1          14.04          3.03        4        5           1.985   \n",
       "2          13.88          1.81        4        5           0.970   \n",
       "3          10.64          1.54        4        5           2.435   \n",
       "4          10.24          0.43        4        5           2.360   \n",
       "\n",
       "   p_SID_high_mean  p_SID_low_std  p_SID_high_std  \n",
       "0             2.66         0.3700          0.3850  \n",
       "1             3.51         0.9075          0.7575  \n",
       "2             3.47         0.4525          0.4525  \n",
       "3             2.66         0.3700          0.3850  \n",
       "4             2.56         0.3850          0.1075  \n",
       "\n",
       "[5 rows x 30 columns]"
      ]
     },
     "execution_count": 6,
     "metadata": {},
     "output_type": "execute_result"
    }
   ],
   "source": [
    "other_methods_data['n_edges'] = other_methods_data['dataset'].map(DAG_ARCS_MAP)\n",
    "other_methods_data['n_nodes'] = other_methods_data['dataset'].map(DAG_NODES_MAP)\n",
    "other_methods_data['p_SID_low_mean'] = other_methods_data['sid_low_mean'] / other_methods_data['n_edges']\n",
    "other_methods_data['p_SID_high_mean'] = other_methods_data['sid_high_mean'] / other_methods_data['n_edges']\n",
    "other_methods_data['p_SID_low_std'] = other_methods_data['sid_low_std'] / other_methods_data['n_edges']\n",
    "other_methods_data['p_SID_high_std'] = other_methods_data['sid_high_std'] / other_methods_data['n_edges']\n",
    "other_methods_data.head()"
   ]
  },
  {
   "cell_type": "code",
   "execution_count": 7,
   "id": "d6285f0b",
   "metadata": {},
   "outputs": [
    {
     "data": {
      "text/html": [
       "<div>\n",
       "<style scoped>\n",
       "    .dataframe tbody tr th:only-of-type {\n",
       "        vertical-align: middle;\n",
       "    }\n",
       "\n",
       "    .dataframe tbody tr th {\n",
       "        vertical-align: top;\n",
       "    }\n",
       "\n",
       "    .dataframe thead th {\n",
       "        text-align: right;\n",
       "    }\n",
       "</style>\n",
       "<table border=\"1\" class=\"dataframe\">\n",
       "  <thead>\n",
       "    <tr style=\"text-align: right;\">\n",
       "      <th></th>\n",
       "      <th>dataset</th>\n",
       "      <th>n_nodes</th>\n",
       "      <th>n_edges</th>\n",
       "      <th>model</th>\n",
       "      <th>p_SID_low_mean</th>\n",
       "      <th>p_SID_high_mean</th>\n",
       "      <th>p_SID_low_std</th>\n",
       "      <th>p_SID_high_std</th>\n",
       "    </tr>\n",
       "  </thead>\n",
       "  <tbody>\n",
       "    <tr>\n",
       "      <th>0</th>\n",
       "      <td>cancer</td>\n",
       "      <td>5</td>\n",
       "      <td>4</td>\n",
       "      <td>ABAPC (ASPforABA)</td>\n",
       "      <td>2.435</td>\n",
       "      <td>2.66</td>\n",
       "      <td>0.3700</td>\n",
       "      <td>0.3850</td>\n",
       "    </tr>\n",
       "    <tr>\n",
       "      <th>1</th>\n",
       "      <td>cancer</td>\n",
       "      <td>5</td>\n",
       "      <td>4</td>\n",
       "      <td>Random</td>\n",
       "      <td>1.985</td>\n",
       "      <td>3.51</td>\n",
       "      <td>0.9075</td>\n",
       "      <td>0.7575</td>\n",
       "    </tr>\n",
       "    <tr>\n",
       "      <th>2</th>\n",
       "      <td>cancer</td>\n",
       "      <td>5</td>\n",
       "      <td>4</td>\n",
       "      <td>MPC</td>\n",
       "      <td>0.970</td>\n",
       "      <td>3.47</td>\n",
       "      <td>0.4525</td>\n",
       "      <td>0.4525</td>\n",
       "    </tr>\n",
       "    <tr>\n",
       "      <th>3</th>\n",
       "      <td>cancer</td>\n",
       "      <td>5</td>\n",
       "      <td>4</td>\n",
       "      <td>ABAPC (Ours)</td>\n",
       "      <td>2.435</td>\n",
       "      <td>2.66</td>\n",
       "      <td>0.3700</td>\n",
       "      <td>0.3850</td>\n",
       "    </tr>\n",
       "    <tr>\n",
       "      <th>4</th>\n",
       "      <td>cancer</td>\n",
       "      <td>5</td>\n",
       "      <td>4</td>\n",
       "      <td>NOTEARS-MLP</td>\n",
       "      <td>2.360</td>\n",
       "      <td>2.56</td>\n",
       "      <td>0.3850</td>\n",
       "      <td>0.1075</td>\n",
       "    </tr>\n",
       "  </tbody>\n",
       "</table>\n",
       "</div>"
      ],
      "text/plain": [
       "  dataset  n_nodes  n_edges              model  p_SID_low_mean  \\\n",
       "0  cancer        5        4  ABAPC (ASPforABA)           2.435   \n",
       "1  cancer        5        4             Random           1.985   \n",
       "2  cancer        5        4                MPC           0.970   \n",
       "3  cancer        5        4       ABAPC (Ours)           2.435   \n",
       "4  cancer        5        4        NOTEARS-MLP           2.360   \n",
       "\n",
       "   p_SID_high_mean  p_SID_low_std  p_SID_high_std  \n",
       "0             2.66         0.3700          0.3850  \n",
       "1             3.51         0.9075          0.7575  \n",
       "2             3.47         0.4525          0.4525  \n",
       "3             2.66         0.3700          0.3850  \n",
       "4             2.56         0.3850          0.1075  "
      ]
     },
     "execution_count": 7,
     "metadata": {},
     "output_type": "execute_result"
    }
   ],
   "source": [
    "data_to_plot_columns = ['dataset', 'n_nodes', 'n_edges', 'model', 'p_SID_low_mean', 'p_SID_high_mean', 'p_SID_low_std', 'p_SID_high_std']\n",
    "\n",
    "data_to_plot = pd.concat([other_methods_data[data_to_plot_columns], \n",
    "                         v1_grouped[data_to_plot_columns], \n",
    "                         only_gradual_v1_grouped[data_to_plot_columns]], ignore_index=True)\n",
    "\n",
    "data_to_plot.head()"
   ]
  },
  {
   "cell_type": "code",
   "execution_count": 8,
   "id": "6eb65383",
   "metadata": {},
   "outputs": [],
   "source": [
    "import pandas as pd\n",
    "import plotly.graph_objects as go\n",
    "import plotly.express as px\n",
    "\n",
    "def plot_sid_grouped_by_type(df: pd.DataFrame, model_order: list[str]):\n",
    "    \"\"\"\n",
    "    Plot grouped bar chart showing Parent SID (Low/High) for each model, with spacing between groups.\n",
    "\n",
    "    Args:\n",
    "        df (pd.DataFrame): DataFrame for one dataset with columns:\n",
    "            - dataset, n_nodes, n_edges, model\n",
    "            - p_SID_low_mean, p_SID_high_mean\n",
    "            - p_SID_low_std, p_SID_high_std\n",
    "        model_order (list[str]): List of models in desired order\n",
    "    \"\"\"\n",
    "    # Ensure only one dataset\n",
    "    dataset_labels = df.apply(lambda row: f\"{row['dataset']} |V|={row['n_nodes']}, |E|={row['n_edges']}\", axis=1).unique()\n",
    "    if len(dataset_labels) != 1:\n",
    "        raise ValueError(\"Function only supports a single dataset.\")\n",
    "    dataset_label = dataset_labels[0]\n",
    "\n",
    "    # Melt into long format\n",
    "    df_low = df[[\"model\", \"p_SID_low_mean\", \"p_SID_low_std\"]].copy()\n",
    "    df_low[\"SID_type\"] = \"Low\"\n",
    "    df_low.rename(columns={\"p_SID_low_mean\": \"SID_mean\", \"p_SID_low_std\": \"SID_std\"}, inplace=True)\n",
    "\n",
    "    df_high = df[[\"model\", \"p_SID_high_mean\", \"p_SID_high_std\"]].copy()\n",
    "    df_high[\"SID_type\"] = \"High\"\n",
    "    df_high.rename(columns={\"p_SID_high_mean\": \"SID_mean\", \"p_SID_high_std\": \"SID_std\"}, inplace=True)\n",
    "\n",
    "    df_long = pd.concat([df_low, df_high], ignore_index=True)\n",
    "    df_long = df_long[df_long[\"model\"].isin(model_order)].copy()\n",
    "    df_long[\"model\"] = pd.Categorical(df_long[\"model\"], categories=model_order, ordered=True)\n",
    "\n",
    "    # Colors\n",
    "    palette = px.colors.qualitative.Set2 + px.colors.qualitative.Plotly\n",
    "    model_colors = {model: palette[i % len(palette)] for i, model in enumerate(model_order)}\n",
    "\n",
    "    # Plotting positions\n",
    "    n_models = len(model_order)\n",
    "    group_spacing = n_models + 1  # space between Low and High\n",
    "    x = []\n",
    "    y = []\n",
    "    errors = []\n",
    "    colors = []\n",
    "    model_names = []\n",
    "\n",
    "    for sid_group_idx, sid_type in enumerate([\"Low\", \"High\"]):\n",
    "        base = sid_group_idx * group_spacing\n",
    "        for model_idx, model in enumerate(model_order):\n",
    "            xpos = base + model_idx\n",
    "            row = df_long[(df_long[\"model\"] == model) & (df_long[\"SID_type\"] == sid_type)]\n",
    "            if not row.empty:\n",
    "                x.append(xpos)\n",
    "                y.append(row[\"SID_mean\"].values[0])\n",
    "                errors.append(row[\"SID_std\"].values[0])\n",
    "                colors.append(model_colors[model])\n",
    "                model_names.append(model)\n",
    "\n",
    "    # Main bars (no text labels)\n",
    "    fig = go.Figure()\n",
    "    fig.add_trace(go.Bar(\n",
    "        x=x,\n",
    "        y=y,\n",
    "        error_y=dict(type='data', array=errors, visible=True),\n",
    "        marker_color=colors,\n",
    "        hovertemplate=\"Model: %{customdata}<br>SID: %{y:.2f}<extra></extra>\",\n",
    "        customdata=model_names,\n",
    "        showlegend=False\n",
    "    ))\n",
    "\n",
    "    # Manual legend\n",
    "    for model in model_order:\n",
    "        fig.add_trace(go.Bar(\n",
    "            x=[None], y=[None],\n",
    "            marker_color=model_colors[model],\n",
    "            name=model,\n",
    "            showlegend=True\n",
    "        ))\n",
    "\n",
    "    # X-axis tick labels centered\n",
    "    tick_positions = [\n",
    "        (0 + (n_models - 1) / 2),\n",
    "        (group_spacing + (n_models - 1) / 2)\n",
    "    ]\n",
    "    tick_labels = [\"Low\", \"High\"]\n",
    "\n",
    "    fig.update_layout(\n",
    "        title=f\"Parent SID (Low vs High) — {dataset_label}\",\n",
    "        xaxis=dict(\n",
    "            tickmode='array',\n",
    "            tickvals=tick_positions,\n",
    "            ticktext=tick_labels,\n",
    "            title=\"SID Type\"\n",
    "        ),\n",
    "        yaxis_title=\"Parent SID\",\n",
    "        bargap=0,\n",
    "        showlegend=True,\n",
    "        legend_title=\"Model\",\n",
    "        height=800  # ← Increase this value to make the figure taller\n",
    "    )\n",
    "\n",
    "    fig.show()\n"
   ]
  },
  {
   "cell_type": "code",
   "execution_count": 9,
   "id": "96bc42ec",
   "metadata": {},
   "outputs": [
    {
     "data": {
      "text/plain": [
       "array(['ABAPC (ASPforABA)', 'Random', 'MPC', 'ABAPC (Ours)',\n",
       "       'NOTEARS-MLP', 'f__original__r__arrows_mean',\n",
       "       'f__original__r__arrows_sum', 'f__original__r__original',\n",
       "       'f__original__r__refined_indep_facts',\n",
       "       'f__refined_indep_facts__r__arrows_mean',\n",
       "       'f__refined_indep_facts__r__arrows_sum',\n",
       "       'f__refined_indep_facts__r__original',\n",
       "       'f__refined_indep_facts__r__refined_indep_facts',\n",
       "       'only_gradual__original_ranking', 'only_gradual__refined_ranking'],\n",
       "      dtype=object)"
      ]
     },
     "execution_count": 9,
     "metadata": {},
     "output_type": "execute_result"
    }
   ],
   "source": [
    "data_to_plot.model.unique()"
   ]
  },
  {
   "cell_type": "code",
   "execution_count": 10,
   "id": "ef321c14",
   "metadata": {},
   "outputs": [],
   "source": [
    "model_order=['Random', 'NOTEARS-MLP', 'MPC',\n",
    "            'f__original__r__original',\n",
    "            'only_gradual__original_ranking',\n",
    "            'f__original__r__refined_indep_facts',\n",
    "            'f__original__r__arrows_sum', \n",
    "            'f__original__r__arrows_mean',\n",
    "            'f__refined_indep_facts__r__original',\n",
    "            'f__refined_indep_facts__r__refined_indep_facts',\n",
    "            'f__refined_indep_facts__r__arrows_sum',\n",
    "            'f__refined_indep_facts__r__arrows_mean']"
   ]
  },
  {
   "cell_type": "code",
   "execution_count": 11,
   "id": "5b4b5a8d",
   "metadata": {},
   "outputs": [
    {
     "data": {
      "application/vnd.plotly.v1+json": {
       "config": {
        "plotlyServerURL": "https://plot.ly"
       },
       "data": [
        {
         "customdata": [
          "Random",
          "NOTEARS-MLP",
          "MPC",
          "f__original__r__original",
          "only_gradual__original_ranking",
          "f__original__r__refined_indep_facts",
          "f__original__r__arrows_sum",
          "f__original__r__arrows_mean",
          "f__refined_indep_facts__r__original",
          "f__refined_indep_facts__r__refined_indep_facts",
          "f__refined_indep_facts__r__arrows_sum",
          "f__refined_indep_facts__r__arrows_mean",
          "Random",
          "NOTEARS-MLP",
          "MPC",
          "f__original__r__original",
          "only_gradual__original_ranking",
          "f__original__r__refined_indep_facts",
          "f__original__r__arrows_sum",
          "f__original__r__arrows_mean",
          "f__refined_indep_facts__r__original",
          "f__refined_indep_facts__r__refined_indep_facts",
          "f__refined_indep_facts__r__arrows_sum",
          "f__refined_indep_facts__r__arrows_mean"
         ],
         "error_y": {
          "array": [
           0.9075,
           0.385,
           0.4525,
           0.6959980354182922,
           0.16296049352214048,
           0.7092860739461037,
           0.7684632159613848,
           0.5835543798873539,
           0.5249878521432274,
           0.3053936903775993,
           0.48342422321583844,
           0.37201190457142247,
           0.7575,
           0.1075,
           0.4525,
           0.5254978203415057,
           0.35574727328397004,
           0.5492109367640311,
           0.8431748795777899,
           0.5189274653414621,
           0.49818548303840016,
           0.225933437913353,
           0.48434681451899103,
           0.36421567954234174
          ],
          "type": "data",
          "visible": true
         },
         "hovertemplate": "Model: %{customdata}<br>SID: %{y:.2f}<extra></extra>",
         "marker": {
          "color": [
           "rgb(102,194,165)",
           "rgb(252,141,98)",
           "rgb(141,160,203)",
           "rgb(231,138,195)",
           "rgb(166,216,84)",
           "rgb(255,217,47)",
           "rgb(229,196,148)",
           "rgb(179,179,179)",
           "#636EFA",
           "#EF553B",
           "#00CC96",
           "#AB63FA",
           "rgb(102,194,165)",
           "rgb(252,141,98)",
           "rgb(141,160,203)",
           "rgb(231,138,195)",
           "rgb(166,216,84)",
           "rgb(255,217,47)",
           "rgb(229,196,148)",
           "rgb(179,179,179)",
           "#636EFA",
           "#EF553B",
           "#00CC96",
           "#AB63FA"
          ]
         },
         "showlegend": false,
         "type": "bar",
         "x": [
          0,
          1,
          2,
          3,
          4,
          5,
          6,
          7,
          8,
          9,
          10,
          11,
          13,
          14,
          15,
          16,
          17,
          18,
          19,
          20,
          21,
          22,
          23,
          24
         ],
         "y": [
          1.985,
          2.36,
          0.97,
          2.155,
          2.515,
          2.135,
          1.995,
          2.255,
          1.82,
          2.19,
          1.665,
          1.775,
          3.51,
          2.56,
          3.47,
          2.825,
          2.665,
          2.88,
          3.045,
          2.81,
          3.195,
          3.465,
          2.99,
          3
         ]
        },
        {
         "marker": {
          "color": "rgb(102,194,165)"
         },
         "name": "Random",
         "showlegend": true,
         "type": "bar",
         "x": [
          null
         ],
         "y": [
          null
         ]
        },
        {
         "marker": {
          "color": "rgb(252,141,98)"
         },
         "name": "NOTEARS-MLP",
         "showlegend": true,
         "type": "bar",
         "x": [
          null
         ],
         "y": [
          null
         ]
        },
        {
         "marker": {
          "color": "rgb(141,160,203)"
         },
         "name": "MPC",
         "showlegend": true,
         "type": "bar",
         "x": [
          null
         ],
         "y": [
          null
         ]
        },
        {
         "marker": {
          "color": "rgb(231,138,195)"
         },
         "name": "f__original__r__original",
         "showlegend": true,
         "type": "bar",
         "x": [
          null
         ],
         "y": [
          null
         ]
        },
        {
         "marker": {
          "color": "rgb(166,216,84)"
         },
         "name": "only_gradual__original_ranking",
         "showlegend": true,
         "type": "bar",
         "x": [
          null
         ],
         "y": [
          null
         ]
        },
        {
         "marker": {
          "color": "rgb(255,217,47)"
         },
         "name": "f__original__r__refined_indep_facts",
         "showlegend": true,
         "type": "bar",
         "x": [
          null
         ],
         "y": [
          null
         ]
        },
        {
         "marker": {
          "color": "rgb(229,196,148)"
         },
         "name": "f__original__r__arrows_sum",
         "showlegend": true,
         "type": "bar",
         "x": [
          null
         ],
         "y": [
          null
         ]
        },
        {
         "marker": {
          "color": "rgb(179,179,179)"
         },
         "name": "f__original__r__arrows_mean",
         "showlegend": true,
         "type": "bar",
         "x": [
          null
         ],
         "y": [
          null
         ]
        },
        {
         "marker": {
          "color": "#636EFA"
         },
         "name": "f__refined_indep_facts__r__original",
         "showlegend": true,
         "type": "bar",
         "x": [
          null
         ],
         "y": [
          null
         ]
        },
        {
         "marker": {
          "color": "#EF553B"
         },
         "name": "f__refined_indep_facts__r__refined_indep_facts",
         "showlegend": true,
         "type": "bar",
         "x": [
          null
         ],
         "y": [
          null
         ]
        },
        {
         "marker": {
          "color": "#00CC96"
         },
         "name": "f__refined_indep_facts__r__arrows_sum",
         "showlegend": true,
         "type": "bar",
         "x": [
          null
         ],
         "y": [
          null
         ]
        },
        {
         "marker": {
          "color": "#AB63FA"
         },
         "name": "f__refined_indep_facts__r__arrows_mean",
         "showlegend": true,
         "type": "bar",
         "x": [
          null
         ],
         "y": [
          null
         ]
        }
       ],
       "layout": {
        "bargap": 0,
        "height": 800,
        "legend": {
         "title": {
          "text": "Model"
         }
        },
        "showlegend": true,
        "template": {
         "data": {
          "bar": [
           {
            "error_x": {
             "color": "#2a3f5f"
            },
            "error_y": {
             "color": "#2a3f5f"
            },
            "marker": {
             "line": {
              "color": "#E5ECF6",
              "width": 0.5
             },
             "pattern": {
              "fillmode": "overlay",
              "size": 10,
              "solidity": 0.2
             }
            },
            "type": "bar"
           }
          ],
          "barpolar": [
           {
            "marker": {
             "line": {
              "color": "#E5ECF6",
              "width": 0.5
             },
             "pattern": {
              "fillmode": "overlay",
              "size": 10,
              "solidity": 0.2
             }
            },
            "type": "barpolar"
           }
          ],
          "carpet": [
           {
            "aaxis": {
             "endlinecolor": "#2a3f5f",
             "gridcolor": "white",
             "linecolor": "white",
             "minorgridcolor": "white",
             "startlinecolor": "#2a3f5f"
            },
            "baxis": {
             "endlinecolor": "#2a3f5f",
             "gridcolor": "white",
             "linecolor": "white",
             "minorgridcolor": "white",
             "startlinecolor": "#2a3f5f"
            },
            "type": "carpet"
           }
          ],
          "choropleth": [
           {
            "colorbar": {
             "outlinewidth": 0,
             "ticks": ""
            },
            "type": "choropleth"
           }
          ],
          "contour": [
           {
            "colorbar": {
             "outlinewidth": 0,
             "ticks": ""
            },
            "colorscale": [
             [
              0,
              "#0d0887"
             ],
             [
              0.1111111111111111,
              "#46039f"
             ],
             [
              0.2222222222222222,
              "#7201a8"
             ],
             [
              0.3333333333333333,
              "#9c179e"
             ],
             [
              0.4444444444444444,
              "#bd3786"
             ],
             [
              0.5555555555555556,
              "#d8576b"
             ],
             [
              0.6666666666666666,
              "#ed7953"
             ],
             [
              0.7777777777777778,
              "#fb9f3a"
             ],
             [
              0.8888888888888888,
              "#fdca26"
             ],
             [
              1,
              "#f0f921"
             ]
            ],
            "type": "contour"
           }
          ],
          "contourcarpet": [
           {
            "colorbar": {
             "outlinewidth": 0,
             "ticks": ""
            },
            "type": "contourcarpet"
           }
          ],
          "heatmap": [
           {
            "colorbar": {
             "outlinewidth": 0,
             "ticks": ""
            },
            "colorscale": [
             [
              0,
              "#0d0887"
             ],
             [
              0.1111111111111111,
              "#46039f"
             ],
             [
              0.2222222222222222,
              "#7201a8"
             ],
             [
              0.3333333333333333,
              "#9c179e"
             ],
             [
              0.4444444444444444,
              "#bd3786"
             ],
             [
              0.5555555555555556,
              "#d8576b"
             ],
             [
              0.6666666666666666,
              "#ed7953"
             ],
             [
              0.7777777777777778,
              "#fb9f3a"
             ],
             [
              0.8888888888888888,
              "#fdca26"
             ],
             [
              1,
              "#f0f921"
             ]
            ],
            "type": "heatmap"
           }
          ],
          "histogram": [
           {
            "marker": {
             "pattern": {
              "fillmode": "overlay",
              "size": 10,
              "solidity": 0.2
             }
            },
            "type": "histogram"
           }
          ],
          "histogram2d": [
           {
            "colorbar": {
             "outlinewidth": 0,
             "ticks": ""
            },
            "colorscale": [
             [
              0,
              "#0d0887"
             ],
             [
              0.1111111111111111,
              "#46039f"
             ],
             [
              0.2222222222222222,
              "#7201a8"
             ],
             [
              0.3333333333333333,
              "#9c179e"
             ],
             [
              0.4444444444444444,
              "#bd3786"
             ],
             [
              0.5555555555555556,
              "#d8576b"
             ],
             [
              0.6666666666666666,
              "#ed7953"
             ],
             [
              0.7777777777777778,
              "#fb9f3a"
             ],
             [
              0.8888888888888888,
              "#fdca26"
             ],
             [
              1,
              "#f0f921"
             ]
            ],
            "type": "histogram2d"
           }
          ],
          "histogram2dcontour": [
           {
            "colorbar": {
             "outlinewidth": 0,
             "ticks": ""
            },
            "colorscale": [
             [
              0,
              "#0d0887"
             ],
             [
              0.1111111111111111,
              "#46039f"
             ],
             [
              0.2222222222222222,
              "#7201a8"
             ],
             [
              0.3333333333333333,
              "#9c179e"
             ],
             [
              0.4444444444444444,
              "#bd3786"
             ],
             [
              0.5555555555555556,
              "#d8576b"
             ],
             [
              0.6666666666666666,
              "#ed7953"
             ],
             [
              0.7777777777777778,
              "#fb9f3a"
             ],
             [
              0.8888888888888888,
              "#fdca26"
             ],
             [
              1,
              "#f0f921"
             ]
            ],
            "type": "histogram2dcontour"
           }
          ],
          "mesh3d": [
           {
            "colorbar": {
             "outlinewidth": 0,
             "ticks": ""
            },
            "type": "mesh3d"
           }
          ],
          "parcoords": [
           {
            "line": {
             "colorbar": {
              "outlinewidth": 0,
              "ticks": ""
             }
            },
            "type": "parcoords"
           }
          ],
          "pie": [
           {
            "automargin": true,
            "type": "pie"
           }
          ],
          "scatter": [
           {
            "fillpattern": {
             "fillmode": "overlay",
             "size": 10,
             "solidity": 0.2
            },
            "type": "scatter"
           }
          ],
          "scatter3d": [
           {
            "line": {
             "colorbar": {
              "outlinewidth": 0,
              "ticks": ""
             }
            },
            "marker": {
             "colorbar": {
              "outlinewidth": 0,
              "ticks": ""
             }
            },
            "type": "scatter3d"
           }
          ],
          "scattercarpet": [
           {
            "marker": {
             "colorbar": {
              "outlinewidth": 0,
              "ticks": ""
             }
            },
            "type": "scattercarpet"
           }
          ],
          "scattergeo": [
           {
            "marker": {
             "colorbar": {
              "outlinewidth": 0,
              "ticks": ""
             }
            },
            "type": "scattergeo"
           }
          ],
          "scattergl": [
           {
            "marker": {
             "colorbar": {
              "outlinewidth": 0,
              "ticks": ""
             }
            },
            "type": "scattergl"
           }
          ],
          "scattermap": [
           {
            "marker": {
             "colorbar": {
              "outlinewidth": 0,
              "ticks": ""
             }
            },
            "type": "scattermap"
           }
          ],
          "scattermapbox": [
           {
            "marker": {
             "colorbar": {
              "outlinewidth": 0,
              "ticks": ""
             }
            },
            "type": "scattermapbox"
           }
          ],
          "scatterpolar": [
           {
            "marker": {
             "colorbar": {
              "outlinewidth": 0,
              "ticks": ""
             }
            },
            "type": "scatterpolar"
           }
          ],
          "scatterpolargl": [
           {
            "marker": {
             "colorbar": {
              "outlinewidth": 0,
              "ticks": ""
             }
            },
            "type": "scatterpolargl"
           }
          ],
          "scatterternary": [
           {
            "marker": {
             "colorbar": {
              "outlinewidth": 0,
              "ticks": ""
             }
            },
            "type": "scatterternary"
           }
          ],
          "surface": [
           {
            "colorbar": {
             "outlinewidth": 0,
             "ticks": ""
            },
            "colorscale": [
             [
              0,
              "#0d0887"
             ],
             [
              0.1111111111111111,
              "#46039f"
             ],
             [
              0.2222222222222222,
              "#7201a8"
             ],
             [
              0.3333333333333333,
              "#9c179e"
             ],
             [
              0.4444444444444444,
              "#bd3786"
             ],
             [
              0.5555555555555556,
              "#d8576b"
             ],
             [
              0.6666666666666666,
              "#ed7953"
             ],
             [
              0.7777777777777778,
              "#fb9f3a"
             ],
             [
              0.8888888888888888,
              "#fdca26"
             ],
             [
              1,
              "#f0f921"
             ]
            ],
            "type": "surface"
           }
          ],
          "table": [
           {
            "cells": {
             "fill": {
              "color": "#EBF0F8"
             },
             "line": {
              "color": "white"
             }
            },
            "header": {
             "fill": {
              "color": "#C8D4E3"
             },
             "line": {
              "color": "white"
             }
            },
            "type": "table"
           }
          ]
         },
         "layout": {
          "annotationdefaults": {
           "arrowcolor": "#2a3f5f",
           "arrowhead": 0,
           "arrowwidth": 1
          },
          "autotypenumbers": "strict",
          "coloraxis": {
           "colorbar": {
            "outlinewidth": 0,
            "ticks": ""
           }
          },
          "colorscale": {
           "diverging": [
            [
             0,
             "#8e0152"
            ],
            [
             0.1,
             "#c51b7d"
            ],
            [
             0.2,
             "#de77ae"
            ],
            [
             0.3,
             "#f1b6da"
            ],
            [
             0.4,
             "#fde0ef"
            ],
            [
             0.5,
             "#f7f7f7"
            ],
            [
             0.6,
             "#e6f5d0"
            ],
            [
             0.7,
             "#b8e186"
            ],
            [
             0.8,
             "#7fbc41"
            ],
            [
             0.9,
             "#4d9221"
            ],
            [
             1,
             "#276419"
            ]
           ],
           "sequential": [
            [
             0,
             "#0d0887"
            ],
            [
             0.1111111111111111,
             "#46039f"
            ],
            [
             0.2222222222222222,
             "#7201a8"
            ],
            [
             0.3333333333333333,
             "#9c179e"
            ],
            [
             0.4444444444444444,
             "#bd3786"
            ],
            [
             0.5555555555555556,
             "#d8576b"
            ],
            [
             0.6666666666666666,
             "#ed7953"
            ],
            [
             0.7777777777777778,
             "#fb9f3a"
            ],
            [
             0.8888888888888888,
             "#fdca26"
            ],
            [
             1,
             "#f0f921"
            ]
           ],
           "sequentialminus": [
            [
             0,
             "#0d0887"
            ],
            [
             0.1111111111111111,
             "#46039f"
            ],
            [
             0.2222222222222222,
             "#7201a8"
            ],
            [
             0.3333333333333333,
             "#9c179e"
            ],
            [
             0.4444444444444444,
             "#bd3786"
            ],
            [
             0.5555555555555556,
             "#d8576b"
            ],
            [
             0.6666666666666666,
             "#ed7953"
            ],
            [
             0.7777777777777778,
             "#fb9f3a"
            ],
            [
             0.8888888888888888,
             "#fdca26"
            ],
            [
             1,
             "#f0f921"
            ]
           ]
          },
          "colorway": [
           "#636efa",
           "#EF553B",
           "#00cc96",
           "#ab63fa",
           "#FFA15A",
           "#19d3f3",
           "#FF6692",
           "#B6E880",
           "#FF97FF",
           "#FECB52"
          ],
          "font": {
           "color": "#2a3f5f"
          },
          "geo": {
           "bgcolor": "white",
           "lakecolor": "white",
           "landcolor": "#E5ECF6",
           "showlakes": true,
           "showland": true,
           "subunitcolor": "white"
          },
          "hoverlabel": {
           "align": "left"
          },
          "hovermode": "closest",
          "mapbox": {
           "style": "light"
          },
          "paper_bgcolor": "white",
          "plot_bgcolor": "#E5ECF6",
          "polar": {
           "angularaxis": {
            "gridcolor": "white",
            "linecolor": "white",
            "ticks": ""
           },
           "bgcolor": "#E5ECF6",
           "radialaxis": {
            "gridcolor": "white",
            "linecolor": "white",
            "ticks": ""
           }
          },
          "scene": {
           "xaxis": {
            "backgroundcolor": "#E5ECF6",
            "gridcolor": "white",
            "gridwidth": 2,
            "linecolor": "white",
            "showbackground": true,
            "ticks": "",
            "zerolinecolor": "white"
           },
           "yaxis": {
            "backgroundcolor": "#E5ECF6",
            "gridcolor": "white",
            "gridwidth": 2,
            "linecolor": "white",
            "showbackground": true,
            "ticks": "",
            "zerolinecolor": "white"
           },
           "zaxis": {
            "backgroundcolor": "#E5ECF6",
            "gridcolor": "white",
            "gridwidth": 2,
            "linecolor": "white",
            "showbackground": true,
            "ticks": "",
            "zerolinecolor": "white"
           }
          },
          "shapedefaults": {
           "line": {
            "color": "#2a3f5f"
           }
          },
          "ternary": {
           "aaxis": {
            "gridcolor": "white",
            "linecolor": "white",
            "ticks": ""
           },
           "baxis": {
            "gridcolor": "white",
            "linecolor": "white",
            "ticks": ""
           },
           "bgcolor": "#E5ECF6",
           "caxis": {
            "gridcolor": "white",
            "linecolor": "white",
            "ticks": ""
           }
          },
          "title": {
           "x": 0.05
          },
          "xaxis": {
           "automargin": true,
           "gridcolor": "white",
           "linecolor": "white",
           "ticks": "",
           "title": {
            "standoff": 15
           },
           "zerolinecolor": "white",
           "zerolinewidth": 2
          },
          "yaxis": {
           "automargin": true,
           "gridcolor": "white",
           "linecolor": "white",
           "ticks": "",
           "title": {
            "standoff": 15
           },
           "zerolinecolor": "white",
           "zerolinewidth": 2
          }
         }
        },
        "title": {
         "text": "Parent SID (Low vs High) — cancer |V|=5, |E|=4"
        },
        "xaxis": {
         "tickmode": "array",
         "ticktext": [
          "Low",
          "High"
         ],
         "tickvals": [
          5.5,
          18.5
         ],
         "title": {
          "text": "SID Type"
         }
        },
        "yaxis": {
         "title": {
          "text": "Parent SID"
         }
        }
       }
      }
     },
     "metadata": {},
     "output_type": "display_data"
    }
   ],
   "source": [
    "plot_sid_grouped_by_type(data_to_plot[data_to_plot['dataset']=='cancer'],\n",
    "                    model_order=model_order)"
   ]
  },
  {
   "cell_type": "code",
   "execution_count": 12,
   "id": "bc8a0610",
   "metadata": {},
   "outputs": [
    {
     "data": {
      "application/vnd.plotly.v1+json": {
       "config": {
        "plotlyServerURL": "https://plot.ly"
       },
       "data": [
        {
         "customdata": [
          "Random",
          "NOTEARS-MLP",
          "MPC",
          "f__original__r__original",
          "only_gradual__original_ranking",
          "f__original__r__refined_indep_facts",
          "f__original__r__arrows_sum",
          "f__original__r__arrows_mean",
          "f__refined_indep_facts__r__original",
          "f__refined_indep_facts__r__refined_indep_facts",
          "f__refined_indep_facts__r__arrows_sum",
          "f__refined_indep_facts__r__arrows_mean",
          "Random",
          "NOTEARS-MLP",
          "MPC",
          "f__original__r__original",
          "only_gradual__original_ranking",
          "f__original__r__refined_indep_facts",
          "f__original__r__arrows_sum",
          "f__original__r__arrows_mean",
          "f__refined_indep_facts__r__original",
          "f__refined_indep_facts__r__refined_indep_facts",
          "f__refined_indep_facts__r__arrows_sum",
          "f__refined_indep_facts__r__arrows_mean"
         ],
         "error_y": {
          "array": [
           0.72,
           0.7375,
           0,
           0,
           0.8967771092492658,
           0,
           0,
           0.10879675865519871,
           0,
           0.03535533905932735,
           0.11572751247156891,
           0.35942130358311786,
           0.865,
           0.39,
           0,
           1.1355121113850088,
           1.2247552858445159,
           1.1355121113850088,
           0.9874854687641779,
           1.0749940673780296,
           0.7886471236961977,
           0.24892626561752318,
           0.9026745972782378,
           0.35942130358311786
          ],
          "type": "data",
          "visible": true
         },
         "hovertemplate": "Model: %{customdata}<br>SID: %{y:.2f}<extra></extra>",
         "marker": {
          "color": [
           "rgb(102,194,165)",
           "rgb(252,141,98)",
           "rgb(141,160,203)",
           "rgb(231,138,195)",
           "rgb(166,216,84)",
           "rgb(255,217,47)",
           "rgb(229,196,148)",
           "rgb(179,179,179)",
           "#636EFA",
           "#EF553B",
           "#00CC96",
           "#AB63FA",
           "rgb(102,194,165)",
           "rgb(252,141,98)",
           "rgb(141,160,203)",
           "rgb(231,138,195)",
           "rgb(166,216,84)",
           "rgb(255,217,47)",
           "rgb(229,196,148)",
           "rgb(179,179,179)",
           "#636EFA",
           "#EF553B",
           "#00CC96",
           "#AB63FA"
          ]
         },
         "showlegend": false,
         "type": "bar",
         "x": [
          0,
          1,
          2,
          3,
          4,
          5,
          6,
          7,
          8,
          9,
          10,
          11,
          13,
          14,
          15,
          16,
          17,
          18,
          19,
          20,
          21,
          22,
          23,
          24
         ],
         "y": [
          1.97,
          0.57,
          1.25,
          0,
          0.825,
          0,
          0,
          0.03,
          0,
          1.245,
          0.075,
          2.03,
          3.47,
          3.65,
          3.75,
          2.33,
          3.285,
          2.33,
          1.875,
          2.1,
          1.565,
          3.695,
          2.015,
          3.28
         ]
        },
        {
         "marker": {
          "color": "rgb(102,194,165)"
         },
         "name": "Random",
         "showlegend": true,
         "type": "bar",
         "x": [
          null
         ],
         "y": [
          null
         ]
        },
        {
         "marker": {
          "color": "rgb(252,141,98)"
         },
         "name": "NOTEARS-MLP",
         "showlegend": true,
         "type": "bar",
         "x": [
          null
         ],
         "y": [
          null
         ]
        },
        {
         "marker": {
          "color": "rgb(141,160,203)"
         },
         "name": "MPC",
         "showlegend": true,
         "type": "bar",
         "x": [
          null
         ],
         "y": [
          null
         ]
        },
        {
         "marker": {
          "color": "rgb(231,138,195)"
         },
         "name": "f__original__r__original",
         "showlegend": true,
         "type": "bar",
         "x": [
          null
         ],
         "y": [
          null
         ]
        },
        {
         "marker": {
          "color": "rgb(166,216,84)"
         },
         "name": "only_gradual__original_ranking",
         "showlegend": true,
         "type": "bar",
         "x": [
          null
         ],
         "y": [
          null
         ]
        },
        {
         "marker": {
          "color": "rgb(255,217,47)"
         },
         "name": "f__original__r__refined_indep_facts",
         "showlegend": true,
         "type": "bar",
         "x": [
          null
         ],
         "y": [
          null
         ]
        },
        {
         "marker": {
          "color": "rgb(229,196,148)"
         },
         "name": "f__original__r__arrows_sum",
         "showlegend": true,
         "type": "bar",
         "x": [
          null
         ],
         "y": [
          null
         ]
        },
        {
         "marker": {
          "color": "rgb(179,179,179)"
         },
         "name": "f__original__r__arrows_mean",
         "showlegend": true,
         "type": "bar",
         "x": [
          null
         ],
         "y": [
          null
         ]
        },
        {
         "marker": {
          "color": "#636EFA"
         },
         "name": "f__refined_indep_facts__r__original",
         "showlegend": true,
         "type": "bar",
         "x": [
          null
         ],
         "y": [
          null
         ]
        },
        {
         "marker": {
          "color": "#EF553B"
         },
         "name": "f__refined_indep_facts__r__refined_indep_facts",
         "showlegend": true,
         "type": "bar",
         "x": [
          null
         ],
         "y": [
          null
         ]
        },
        {
         "marker": {
          "color": "#00CC96"
         },
         "name": "f__refined_indep_facts__r__arrows_sum",
         "showlegend": true,
         "type": "bar",
         "x": [
          null
         ],
         "y": [
          null
         ]
        },
        {
         "marker": {
          "color": "#AB63FA"
         },
         "name": "f__refined_indep_facts__r__arrows_mean",
         "showlegend": true,
         "type": "bar",
         "x": [
          null
         ],
         "y": [
          null
         ]
        }
       ],
       "layout": {
        "bargap": 0,
        "height": 800,
        "legend": {
         "title": {
          "text": "Model"
         }
        },
        "showlegend": true,
        "template": {
         "data": {
          "bar": [
           {
            "error_x": {
             "color": "#2a3f5f"
            },
            "error_y": {
             "color": "#2a3f5f"
            },
            "marker": {
             "line": {
              "color": "#E5ECF6",
              "width": 0.5
             },
             "pattern": {
              "fillmode": "overlay",
              "size": 10,
              "solidity": 0.2
             }
            },
            "type": "bar"
           }
          ],
          "barpolar": [
           {
            "marker": {
             "line": {
              "color": "#E5ECF6",
              "width": 0.5
             },
             "pattern": {
              "fillmode": "overlay",
              "size": 10,
              "solidity": 0.2
             }
            },
            "type": "barpolar"
           }
          ],
          "carpet": [
           {
            "aaxis": {
             "endlinecolor": "#2a3f5f",
             "gridcolor": "white",
             "linecolor": "white",
             "minorgridcolor": "white",
             "startlinecolor": "#2a3f5f"
            },
            "baxis": {
             "endlinecolor": "#2a3f5f",
             "gridcolor": "white",
             "linecolor": "white",
             "minorgridcolor": "white",
             "startlinecolor": "#2a3f5f"
            },
            "type": "carpet"
           }
          ],
          "choropleth": [
           {
            "colorbar": {
             "outlinewidth": 0,
             "ticks": ""
            },
            "type": "choropleth"
           }
          ],
          "contour": [
           {
            "colorbar": {
             "outlinewidth": 0,
             "ticks": ""
            },
            "colorscale": [
             [
              0,
              "#0d0887"
             ],
             [
              0.1111111111111111,
              "#46039f"
             ],
             [
              0.2222222222222222,
              "#7201a8"
             ],
             [
              0.3333333333333333,
              "#9c179e"
             ],
             [
              0.4444444444444444,
              "#bd3786"
             ],
             [
              0.5555555555555556,
              "#d8576b"
             ],
             [
              0.6666666666666666,
              "#ed7953"
             ],
             [
              0.7777777777777778,
              "#fb9f3a"
             ],
             [
              0.8888888888888888,
              "#fdca26"
             ],
             [
              1,
              "#f0f921"
             ]
            ],
            "type": "contour"
           }
          ],
          "contourcarpet": [
           {
            "colorbar": {
             "outlinewidth": 0,
             "ticks": ""
            },
            "type": "contourcarpet"
           }
          ],
          "heatmap": [
           {
            "colorbar": {
             "outlinewidth": 0,
             "ticks": ""
            },
            "colorscale": [
             [
              0,
              "#0d0887"
             ],
             [
              0.1111111111111111,
              "#46039f"
             ],
             [
              0.2222222222222222,
              "#7201a8"
             ],
             [
              0.3333333333333333,
              "#9c179e"
             ],
             [
              0.4444444444444444,
              "#bd3786"
             ],
             [
              0.5555555555555556,
              "#d8576b"
             ],
             [
              0.6666666666666666,
              "#ed7953"
             ],
             [
              0.7777777777777778,
              "#fb9f3a"
             ],
             [
              0.8888888888888888,
              "#fdca26"
             ],
             [
              1,
              "#f0f921"
             ]
            ],
            "type": "heatmap"
           }
          ],
          "histogram": [
           {
            "marker": {
             "pattern": {
              "fillmode": "overlay",
              "size": 10,
              "solidity": 0.2
             }
            },
            "type": "histogram"
           }
          ],
          "histogram2d": [
           {
            "colorbar": {
             "outlinewidth": 0,
             "ticks": ""
            },
            "colorscale": [
             [
              0,
              "#0d0887"
             ],
             [
              0.1111111111111111,
              "#46039f"
             ],
             [
              0.2222222222222222,
              "#7201a8"
             ],
             [
              0.3333333333333333,
              "#9c179e"
             ],
             [
              0.4444444444444444,
              "#bd3786"
             ],
             [
              0.5555555555555556,
              "#d8576b"
             ],
             [
              0.6666666666666666,
              "#ed7953"
             ],
             [
              0.7777777777777778,
              "#fb9f3a"
             ],
             [
              0.8888888888888888,
              "#fdca26"
             ],
             [
              1,
              "#f0f921"
             ]
            ],
            "type": "histogram2d"
           }
          ],
          "histogram2dcontour": [
           {
            "colorbar": {
             "outlinewidth": 0,
             "ticks": ""
            },
            "colorscale": [
             [
              0,
              "#0d0887"
             ],
             [
              0.1111111111111111,
              "#46039f"
             ],
             [
              0.2222222222222222,
              "#7201a8"
             ],
             [
              0.3333333333333333,
              "#9c179e"
             ],
             [
              0.4444444444444444,
              "#bd3786"
             ],
             [
              0.5555555555555556,
              "#d8576b"
             ],
             [
              0.6666666666666666,
              "#ed7953"
             ],
             [
              0.7777777777777778,
              "#fb9f3a"
             ],
             [
              0.8888888888888888,
              "#fdca26"
             ],
             [
              1,
              "#f0f921"
             ]
            ],
            "type": "histogram2dcontour"
           }
          ],
          "mesh3d": [
           {
            "colorbar": {
             "outlinewidth": 0,
             "ticks": ""
            },
            "type": "mesh3d"
           }
          ],
          "parcoords": [
           {
            "line": {
             "colorbar": {
              "outlinewidth": 0,
              "ticks": ""
             }
            },
            "type": "parcoords"
           }
          ],
          "pie": [
           {
            "automargin": true,
            "type": "pie"
           }
          ],
          "scatter": [
           {
            "fillpattern": {
             "fillmode": "overlay",
             "size": 10,
             "solidity": 0.2
            },
            "type": "scatter"
           }
          ],
          "scatter3d": [
           {
            "line": {
             "colorbar": {
              "outlinewidth": 0,
              "ticks": ""
             }
            },
            "marker": {
             "colorbar": {
              "outlinewidth": 0,
              "ticks": ""
             }
            },
            "type": "scatter3d"
           }
          ],
          "scattercarpet": [
           {
            "marker": {
             "colorbar": {
              "outlinewidth": 0,
              "ticks": ""
             }
            },
            "type": "scattercarpet"
           }
          ],
          "scattergeo": [
           {
            "marker": {
             "colorbar": {
              "outlinewidth": 0,
              "ticks": ""
             }
            },
            "type": "scattergeo"
           }
          ],
          "scattergl": [
           {
            "marker": {
             "colorbar": {
              "outlinewidth": 0,
              "ticks": ""
             }
            },
            "type": "scattergl"
           }
          ],
          "scattermap": [
           {
            "marker": {
             "colorbar": {
              "outlinewidth": 0,
              "ticks": ""
             }
            },
            "type": "scattermap"
           }
          ],
          "scattermapbox": [
           {
            "marker": {
             "colorbar": {
              "outlinewidth": 0,
              "ticks": ""
             }
            },
            "type": "scattermapbox"
           }
          ],
          "scatterpolar": [
           {
            "marker": {
             "colorbar": {
              "outlinewidth": 0,
              "ticks": ""
             }
            },
            "type": "scatterpolar"
           }
          ],
          "scatterpolargl": [
           {
            "marker": {
             "colorbar": {
              "outlinewidth": 0,
              "ticks": ""
             }
            },
            "type": "scatterpolargl"
           }
          ],
          "scatterternary": [
           {
            "marker": {
             "colorbar": {
              "outlinewidth": 0,
              "ticks": ""
             }
            },
            "type": "scatterternary"
           }
          ],
          "surface": [
           {
            "colorbar": {
             "outlinewidth": 0,
             "ticks": ""
            },
            "colorscale": [
             [
              0,
              "#0d0887"
             ],
             [
              0.1111111111111111,
              "#46039f"
             ],
             [
              0.2222222222222222,
              "#7201a8"
             ],
             [
              0.3333333333333333,
              "#9c179e"
             ],
             [
              0.4444444444444444,
              "#bd3786"
             ],
             [
              0.5555555555555556,
              "#d8576b"
             ],
             [
              0.6666666666666666,
              "#ed7953"
             ],
             [
              0.7777777777777778,
              "#fb9f3a"
             ],
             [
              0.8888888888888888,
              "#fdca26"
             ],
             [
              1,
              "#f0f921"
             ]
            ],
            "type": "surface"
           }
          ],
          "table": [
           {
            "cells": {
             "fill": {
              "color": "#EBF0F8"
             },
             "line": {
              "color": "white"
             }
            },
            "header": {
             "fill": {
              "color": "#C8D4E3"
             },
             "line": {
              "color": "white"
             }
            },
            "type": "table"
           }
          ]
         },
         "layout": {
          "annotationdefaults": {
           "arrowcolor": "#2a3f5f",
           "arrowhead": 0,
           "arrowwidth": 1
          },
          "autotypenumbers": "strict",
          "coloraxis": {
           "colorbar": {
            "outlinewidth": 0,
            "ticks": ""
           }
          },
          "colorscale": {
           "diverging": [
            [
             0,
             "#8e0152"
            ],
            [
             0.1,
             "#c51b7d"
            ],
            [
             0.2,
             "#de77ae"
            ],
            [
             0.3,
             "#f1b6da"
            ],
            [
             0.4,
             "#fde0ef"
            ],
            [
             0.5,
             "#f7f7f7"
            ],
            [
             0.6,
             "#e6f5d0"
            ],
            [
             0.7,
             "#b8e186"
            ],
            [
             0.8,
             "#7fbc41"
            ],
            [
             0.9,
             "#4d9221"
            ],
            [
             1,
             "#276419"
            ]
           ],
           "sequential": [
            [
             0,
             "#0d0887"
            ],
            [
             0.1111111111111111,
             "#46039f"
            ],
            [
             0.2222222222222222,
             "#7201a8"
            ],
            [
             0.3333333333333333,
             "#9c179e"
            ],
            [
             0.4444444444444444,
             "#bd3786"
            ],
            [
             0.5555555555555556,
             "#d8576b"
            ],
            [
             0.6666666666666666,
             "#ed7953"
            ],
            [
             0.7777777777777778,
             "#fb9f3a"
            ],
            [
             0.8888888888888888,
             "#fdca26"
            ],
            [
             1,
             "#f0f921"
            ]
           ],
           "sequentialminus": [
            [
             0,
             "#0d0887"
            ],
            [
             0.1111111111111111,
             "#46039f"
            ],
            [
             0.2222222222222222,
             "#7201a8"
            ],
            [
             0.3333333333333333,
             "#9c179e"
            ],
            [
             0.4444444444444444,
             "#bd3786"
            ],
            [
             0.5555555555555556,
             "#d8576b"
            ],
            [
             0.6666666666666666,
             "#ed7953"
            ],
            [
             0.7777777777777778,
             "#fb9f3a"
            ],
            [
             0.8888888888888888,
             "#fdca26"
            ],
            [
             1,
             "#f0f921"
            ]
           ]
          },
          "colorway": [
           "#636efa",
           "#EF553B",
           "#00cc96",
           "#ab63fa",
           "#FFA15A",
           "#19d3f3",
           "#FF6692",
           "#B6E880",
           "#FF97FF",
           "#FECB52"
          ],
          "font": {
           "color": "#2a3f5f"
          },
          "geo": {
           "bgcolor": "white",
           "lakecolor": "white",
           "landcolor": "#E5ECF6",
           "showlakes": true,
           "showland": true,
           "subunitcolor": "white"
          },
          "hoverlabel": {
           "align": "left"
          },
          "hovermode": "closest",
          "mapbox": {
           "style": "light"
          },
          "paper_bgcolor": "white",
          "plot_bgcolor": "#E5ECF6",
          "polar": {
           "angularaxis": {
            "gridcolor": "white",
            "linecolor": "white",
            "ticks": ""
           },
           "bgcolor": "#E5ECF6",
           "radialaxis": {
            "gridcolor": "white",
            "linecolor": "white",
            "ticks": ""
           }
          },
          "scene": {
           "xaxis": {
            "backgroundcolor": "#E5ECF6",
            "gridcolor": "white",
            "gridwidth": 2,
            "linecolor": "white",
            "showbackground": true,
            "ticks": "",
            "zerolinecolor": "white"
           },
           "yaxis": {
            "backgroundcolor": "#E5ECF6",
            "gridcolor": "white",
            "gridwidth": 2,
            "linecolor": "white",
            "showbackground": true,
            "ticks": "",
            "zerolinecolor": "white"
           },
           "zaxis": {
            "backgroundcolor": "#E5ECF6",
            "gridcolor": "white",
            "gridwidth": 2,
            "linecolor": "white",
            "showbackground": true,
            "ticks": "",
            "zerolinecolor": "white"
           }
          },
          "shapedefaults": {
           "line": {
            "color": "#2a3f5f"
           }
          },
          "ternary": {
           "aaxis": {
            "gridcolor": "white",
            "linecolor": "white",
            "ticks": ""
           },
           "baxis": {
            "gridcolor": "white",
            "linecolor": "white",
            "ticks": ""
           },
           "bgcolor": "#E5ECF6",
           "caxis": {
            "gridcolor": "white",
            "linecolor": "white",
            "ticks": ""
           }
          },
          "title": {
           "x": 0.05
          },
          "xaxis": {
           "automargin": true,
           "gridcolor": "white",
           "linecolor": "white",
           "ticks": "",
           "title": {
            "standoff": 15
           },
           "zerolinecolor": "white",
           "zerolinewidth": 2
          },
          "yaxis": {
           "automargin": true,
           "gridcolor": "white",
           "linecolor": "white",
           "ticks": "",
           "title": {
            "standoff": 15
           },
           "zerolinecolor": "white",
           "zerolinewidth": 2
          }
         }
        },
        "title": {
         "text": "Parent SID (Low vs High) — earthquake |V|=5, |E|=4"
        },
        "xaxis": {
         "tickmode": "array",
         "ticktext": [
          "Low",
          "High"
         ],
         "tickvals": [
          5.5,
          18.5
         ],
         "title": {
          "text": "SID Type"
         }
        },
        "yaxis": {
         "title": {
          "text": "Parent SID"
         }
        }
       }
      }
     },
     "metadata": {},
     "output_type": "display_data"
    }
   ],
   "source": [
    "plot_sid_grouped_by_type(data_to_plot[data_to_plot['dataset']=='earthquake'],\n",
    "                    model_order=model_order)"
   ]
  },
  {
   "cell_type": "code",
   "execution_count": 13,
   "id": "b0cca39c",
   "metadata": {},
   "outputs": [
    {
     "data": {
      "application/vnd.plotly.v1+json": {
       "config": {
        "plotlyServerURL": "https://plot.ly"
       },
       "data": [
        {
         "customdata": [
          "Random",
          "NOTEARS-MLP",
          "MPC",
          "f__original__r__original",
          "only_gradual__original_ranking",
          "f__original__r__refined_indep_facts",
          "f__original__r__arrows_sum",
          "f__original__r__arrows_mean",
          "f__refined_indep_facts__r__original",
          "f__refined_indep_facts__r__refined_indep_facts",
          "f__refined_indep_facts__r__arrows_sum",
          "f__refined_indep_facts__r__arrows_mean",
          "Random",
          "NOTEARS-MLP",
          "MPC",
          "f__original__r__original",
          "only_gradual__original_ranking",
          "f__original__r__refined_indep_facts",
          "f__original__r__arrows_sum",
          "f__original__r__arrows_mean",
          "f__refined_indep_facts__r__original",
          "f__refined_indep_facts__r__refined_indep_facts",
          "f__refined_indep_facts__r__arrows_sum",
          "f__refined_indep_facts__r__arrows_mean"
         ],
         "error_y": {
          "array": [
           0.6933333333333334,
           0.08333333333333333,
           0.5683333333333334,
           0.5532423497036981,
           0.44062417076681754,
           0.5886685079439006,
           0.6483976412154709,
           0.5706840387717563,
           0.16249890981668144,
           0.2634370759223568,
           0.3380784704091566,
           0.26393155162954324,
           0.7316666666666666,
           0,
           0.7266666666666667,
           0.485340659285368,
           0.5240367472531439,
           0.4751059077540147,
           0.6517115091483828,
           0.5900632196422712,
           0.22647851334464975,
           0.4192099252775954,
           0.3195092608993572,
           0.3323795879355267
          ],
          "type": "data",
          "visible": true
         },
         "hovertemplate": "Model: %{customdata}<br>SID: %{y:.2f}<extra></extra>",
         "marker": {
          "color": [
           "rgb(102,194,165)",
           "rgb(252,141,98)",
           "rgb(141,160,203)",
           "rgb(231,138,195)",
           "rgb(166,216,84)",
           "rgb(255,217,47)",
           "rgb(229,196,148)",
           "rgb(179,179,179)",
           "#636EFA",
           "#EF553B",
           "#00CC96",
           "#AB63FA",
           "rgb(102,194,165)",
           "rgb(252,141,98)",
           "rgb(141,160,203)",
           "rgb(231,138,195)",
           "rgb(166,216,84)",
           "rgb(255,217,47)",
           "rgb(229,196,148)",
           "rgb(179,179,179)",
           "#636EFA",
           "#EF553B",
           "#00CC96",
           "#AB63FA"
          ]
         },
         "showlegend": false,
         "type": "bar",
         "x": [
          0,
          1,
          2,
          3,
          4,
          5,
          6,
          7,
          8,
          9,
          10,
          11,
          13,
          14,
          15,
          16,
          17,
          18,
          19,
          20,
          21,
          22,
          23,
          24
         ],
         "y": [
          2.1866666666666665,
          2.76,
          0.8566666666666666,
          2.4933333333333336,
          2.2533333333333334,
          2.48,
          2.29,
          2.316666666666667,
          1.87,
          2.5766666666666667,
          2.1233333333333335,
          2.5533333333333332,
          3.7266666666666666,
          2.8333333333333335,
          3.3533333333333335,
          2.7266666666666666,
          3.09,
          2.763333333333333,
          2.723333333333333,
          2.9033333333333338,
          3.2466666666666666,
          3.1666666666666665,
          3.453333333333333,
          3.0533333333333332
         ]
        },
        {
         "marker": {
          "color": "rgb(102,194,165)"
         },
         "name": "Random",
         "showlegend": true,
         "type": "bar",
         "x": [
          null
         ],
         "y": [
          null
         ]
        },
        {
         "marker": {
          "color": "rgb(252,141,98)"
         },
         "name": "NOTEARS-MLP",
         "showlegend": true,
         "type": "bar",
         "x": [
          null
         ],
         "y": [
          null
         ]
        },
        {
         "marker": {
          "color": "rgb(141,160,203)"
         },
         "name": "MPC",
         "showlegend": true,
         "type": "bar",
         "x": [
          null
         ],
         "y": [
          null
         ]
        },
        {
         "marker": {
          "color": "rgb(231,138,195)"
         },
         "name": "f__original__r__original",
         "showlegend": true,
         "type": "bar",
         "x": [
          null
         ],
         "y": [
          null
         ]
        },
        {
         "marker": {
          "color": "rgb(166,216,84)"
         },
         "name": "only_gradual__original_ranking",
         "showlegend": true,
         "type": "bar",
         "x": [
          null
         ],
         "y": [
          null
         ]
        },
        {
         "marker": {
          "color": "rgb(255,217,47)"
         },
         "name": "f__original__r__refined_indep_facts",
         "showlegend": true,
         "type": "bar",
         "x": [
          null
         ],
         "y": [
          null
         ]
        },
        {
         "marker": {
          "color": "rgb(229,196,148)"
         },
         "name": "f__original__r__arrows_sum",
         "showlegend": true,
         "type": "bar",
         "x": [
          null
         ],
         "y": [
          null
         ]
        },
        {
         "marker": {
          "color": "rgb(179,179,179)"
         },
         "name": "f__original__r__arrows_mean",
         "showlegend": true,
         "type": "bar",
         "x": [
          null
         ],
         "y": [
          null
         ]
        },
        {
         "marker": {
          "color": "#636EFA"
         },
         "name": "f__refined_indep_facts__r__original",
         "showlegend": true,
         "type": "bar",
         "x": [
          null
         ],
         "y": [
          null
         ]
        },
        {
         "marker": {
          "color": "#EF553B"
         },
         "name": "f__refined_indep_facts__r__refined_indep_facts",
         "showlegend": true,
         "type": "bar",
         "x": [
          null
         ],
         "y": [
          null
         ]
        },
        {
         "marker": {
          "color": "#00CC96"
         },
         "name": "f__refined_indep_facts__r__arrows_sum",
         "showlegend": true,
         "type": "bar",
         "x": [
          null
         ],
         "y": [
          null
         ]
        },
        {
         "marker": {
          "color": "#AB63FA"
         },
         "name": "f__refined_indep_facts__r__arrows_mean",
         "showlegend": true,
         "type": "bar",
         "x": [
          null
         ],
         "y": [
          null
         ]
        }
       ],
       "layout": {
        "bargap": 0,
        "height": 800,
        "legend": {
         "title": {
          "text": "Model"
         }
        },
        "showlegend": true,
        "template": {
         "data": {
          "bar": [
           {
            "error_x": {
             "color": "#2a3f5f"
            },
            "error_y": {
             "color": "#2a3f5f"
            },
            "marker": {
             "line": {
              "color": "#E5ECF6",
              "width": 0.5
             },
             "pattern": {
              "fillmode": "overlay",
              "size": 10,
              "solidity": 0.2
             }
            },
            "type": "bar"
           }
          ],
          "barpolar": [
           {
            "marker": {
             "line": {
              "color": "#E5ECF6",
              "width": 0.5
             },
             "pattern": {
              "fillmode": "overlay",
              "size": 10,
              "solidity": 0.2
             }
            },
            "type": "barpolar"
           }
          ],
          "carpet": [
           {
            "aaxis": {
             "endlinecolor": "#2a3f5f",
             "gridcolor": "white",
             "linecolor": "white",
             "minorgridcolor": "white",
             "startlinecolor": "#2a3f5f"
            },
            "baxis": {
             "endlinecolor": "#2a3f5f",
             "gridcolor": "white",
             "linecolor": "white",
             "minorgridcolor": "white",
             "startlinecolor": "#2a3f5f"
            },
            "type": "carpet"
           }
          ],
          "choropleth": [
           {
            "colorbar": {
             "outlinewidth": 0,
             "ticks": ""
            },
            "type": "choropleth"
           }
          ],
          "contour": [
           {
            "colorbar": {
             "outlinewidth": 0,
             "ticks": ""
            },
            "colorscale": [
             [
              0,
              "#0d0887"
             ],
             [
              0.1111111111111111,
              "#46039f"
             ],
             [
              0.2222222222222222,
              "#7201a8"
             ],
             [
              0.3333333333333333,
              "#9c179e"
             ],
             [
              0.4444444444444444,
              "#bd3786"
             ],
             [
              0.5555555555555556,
              "#d8576b"
             ],
             [
              0.6666666666666666,
              "#ed7953"
             ],
             [
              0.7777777777777778,
              "#fb9f3a"
             ],
             [
              0.8888888888888888,
              "#fdca26"
             ],
             [
              1,
              "#f0f921"
             ]
            ],
            "type": "contour"
           }
          ],
          "contourcarpet": [
           {
            "colorbar": {
             "outlinewidth": 0,
             "ticks": ""
            },
            "type": "contourcarpet"
           }
          ],
          "heatmap": [
           {
            "colorbar": {
             "outlinewidth": 0,
             "ticks": ""
            },
            "colorscale": [
             [
              0,
              "#0d0887"
             ],
             [
              0.1111111111111111,
              "#46039f"
             ],
             [
              0.2222222222222222,
              "#7201a8"
             ],
             [
              0.3333333333333333,
              "#9c179e"
             ],
             [
              0.4444444444444444,
              "#bd3786"
             ],
             [
              0.5555555555555556,
              "#d8576b"
             ],
             [
              0.6666666666666666,
              "#ed7953"
             ],
             [
              0.7777777777777778,
              "#fb9f3a"
             ],
             [
              0.8888888888888888,
              "#fdca26"
             ],
             [
              1,
              "#f0f921"
             ]
            ],
            "type": "heatmap"
           }
          ],
          "histogram": [
           {
            "marker": {
             "pattern": {
              "fillmode": "overlay",
              "size": 10,
              "solidity": 0.2
             }
            },
            "type": "histogram"
           }
          ],
          "histogram2d": [
           {
            "colorbar": {
             "outlinewidth": 0,
             "ticks": ""
            },
            "colorscale": [
             [
              0,
              "#0d0887"
             ],
             [
              0.1111111111111111,
              "#46039f"
             ],
             [
              0.2222222222222222,
              "#7201a8"
             ],
             [
              0.3333333333333333,
              "#9c179e"
             ],
             [
              0.4444444444444444,
              "#bd3786"
             ],
             [
              0.5555555555555556,
              "#d8576b"
             ],
             [
              0.6666666666666666,
              "#ed7953"
             ],
             [
              0.7777777777777778,
              "#fb9f3a"
             ],
             [
              0.8888888888888888,
              "#fdca26"
             ],
             [
              1,
              "#f0f921"
             ]
            ],
            "type": "histogram2d"
           }
          ],
          "histogram2dcontour": [
           {
            "colorbar": {
             "outlinewidth": 0,
             "ticks": ""
            },
            "colorscale": [
             [
              0,
              "#0d0887"
             ],
             [
              0.1111111111111111,
              "#46039f"
             ],
             [
              0.2222222222222222,
              "#7201a8"
             ],
             [
              0.3333333333333333,
              "#9c179e"
             ],
             [
              0.4444444444444444,
              "#bd3786"
             ],
             [
              0.5555555555555556,
              "#d8576b"
             ],
             [
              0.6666666666666666,
              "#ed7953"
             ],
             [
              0.7777777777777778,
              "#fb9f3a"
             ],
             [
              0.8888888888888888,
              "#fdca26"
             ],
             [
              1,
              "#f0f921"
             ]
            ],
            "type": "histogram2dcontour"
           }
          ],
          "mesh3d": [
           {
            "colorbar": {
             "outlinewidth": 0,
             "ticks": ""
            },
            "type": "mesh3d"
           }
          ],
          "parcoords": [
           {
            "line": {
             "colorbar": {
              "outlinewidth": 0,
              "ticks": ""
             }
            },
            "type": "parcoords"
           }
          ],
          "pie": [
           {
            "automargin": true,
            "type": "pie"
           }
          ],
          "scatter": [
           {
            "fillpattern": {
             "fillmode": "overlay",
             "size": 10,
             "solidity": 0.2
            },
            "type": "scatter"
           }
          ],
          "scatter3d": [
           {
            "line": {
             "colorbar": {
              "outlinewidth": 0,
              "ticks": ""
             }
            },
            "marker": {
             "colorbar": {
              "outlinewidth": 0,
              "ticks": ""
             }
            },
            "type": "scatter3d"
           }
          ],
          "scattercarpet": [
           {
            "marker": {
             "colorbar": {
              "outlinewidth": 0,
              "ticks": ""
             }
            },
            "type": "scattercarpet"
           }
          ],
          "scattergeo": [
           {
            "marker": {
             "colorbar": {
              "outlinewidth": 0,
              "ticks": ""
             }
            },
            "type": "scattergeo"
           }
          ],
          "scattergl": [
           {
            "marker": {
             "colorbar": {
              "outlinewidth": 0,
              "ticks": ""
             }
            },
            "type": "scattergl"
           }
          ],
          "scattermap": [
           {
            "marker": {
             "colorbar": {
              "outlinewidth": 0,
              "ticks": ""
             }
            },
            "type": "scattermap"
           }
          ],
          "scattermapbox": [
           {
            "marker": {
             "colorbar": {
              "outlinewidth": 0,
              "ticks": ""
             }
            },
            "type": "scattermapbox"
           }
          ],
          "scatterpolar": [
           {
            "marker": {
             "colorbar": {
              "outlinewidth": 0,
              "ticks": ""
             }
            },
            "type": "scatterpolar"
           }
          ],
          "scatterpolargl": [
           {
            "marker": {
             "colorbar": {
              "outlinewidth": 0,
              "ticks": ""
             }
            },
            "type": "scatterpolargl"
           }
          ],
          "scatterternary": [
           {
            "marker": {
             "colorbar": {
              "outlinewidth": 0,
              "ticks": ""
             }
            },
            "type": "scatterternary"
           }
          ],
          "surface": [
           {
            "colorbar": {
             "outlinewidth": 0,
             "ticks": ""
            },
            "colorscale": [
             [
              0,
              "#0d0887"
             ],
             [
              0.1111111111111111,
              "#46039f"
             ],
             [
              0.2222222222222222,
              "#7201a8"
             ],
             [
              0.3333333333333333,
              "#9c179e"
             ],
             [
              0.4444444444444444,
              "#bd3786"
             ],
             [
              0.5555555555555556,
              "#d8576b"
             ],
             [
              0.6666666666666666,
              "#ed7953"
             ],
             [
              0.7777777777777778,
              "#fb9f3a"
             ],
             [
              0.8888888888888888,
              "#fdca26"
             ],
             [
              1,
              "#f0f921"
             ]
            ],
            "type": "surface"
           }
          ],
          "table": [
           {
            "cells": {
             "fill": {
              "color": "#EBF0F8"
             },
             "line": {
              "color": "white"
             }
            },
            "header": {
             "fill": {
              "color": "#C8D4E3"
             },
             "line": {
              "color": "white"
             }
            },
            "type": "table"
           }
          ]
         },
         "layout": {
          "annotationdefaults": {
           "arrowcolor": "#2a3f5f",
           "arrowhead": 0,
           "arrowwidth": 1
          },
          "autotypenumbers": "strict",
          "coloraxis": {
           "colorbar": {
            "outlinewidth": 0,
            "ticks": ""
           }
          },
          "colorscale": {
           "diverging": [
            [
             0,
             "#8e0152"
            ],
            [
             0.1,
             "#c51b7d"
            ],
            [
             0.2,
             "#de77ae"
            ],
            [
             0.3,
             "#f1b6da"
            ],
            [
             0.4,
             "#fde0ef"
            ],
            [
             0.5,
             "#f7f7f7"
            ],
            [
             0.6,
             "#e6f5d0"
            ],
            [
             0.7,
             "#b8e186"
            ],
            [
             0.8,
             "#7fbc41"
            ],
            [
             0.9,
             "#4d9221"
            ],
            [
             1,
             "#276419"
            ]
           ],
           "sequential": [
            [
             0,
             "#0d0887"
            ],
            [
             0.1111111111111111,
             "#46039f"
            ],
            [
             0.2222222222222222,
             "#7201a8"
            ],
            [
             0.3333333333333333,
             "#9c179e"
            ],
            [
             0.4444444444444444,
             "#bd3786"
            ],
            [
             0.5555555555555556,
             "#d8576b"
            ],
            [
             0.6666666666666666,
             "#ed7953"
            ],
            [
             0.7777777777777778,
             "#fb9f3a"
            ],
            [
             0.8888888888888888,
             "#fdca26"
            ],
            [
             1,
             "#f0f921"
            ]
           ],
           "sequentialminus": [
            [
             0,
             "#0d0887"
            ],
            [
             0.1111111111111111,
             "#46039f"
            ],
            [
             0.2222222222222222,
             "#7201a8"
            ],
            [
             0.3333333333333333,
             "#9c179e"
            ],
            [
             0.4444444444444444,
             "#bd3786"
            ],
            [
             0.5555555555555556,
             "#d8576b"
            ],
            [
             0.6666666666666666,
             "#ed7953"
            ],
            [
             0.7777777777777778,
             "#fb9f3a"
            ],
            [
             0.8888888888888888,
             "#fdca26"
            ],
            [
             1,
             "#f0f921"
            ]
           ]
          },
          "colorway": [
           "#636efa",
           "#EF553B",
           "#00cc96",
           "#ab63fa",
           "#FFA15A",
           "#19d3f3",
           "#FF6692",
           "#B6E880",
           "#FF97FF",
           "#FECB52"
          ],
          "font": {
           "color": "#2a3f5f"
          },
          "geo": {
           "bgcolor": "white",
           "lakecolor": "white",
           "landcolor": "#E5ECF6",
           "showlakes": true,
           "showland": true,
           "subunitcolor": "white"
          },
          "hoverlabel": {
           "align": "left"
          },
          "hovermode": "closest",
          "mapbox": {
           "style": "light"
          },
          "paper_bgcolor": "white",
          "plot_bgcolor": "#E5ECF6",
          "polar": {
           "angularaxis": {
            "gridcolor": "white",
            "linecolor": "white",
            "ticks": ""
           },
           "bgcolor": "#E5ECF6",
           "radialaxis": {
            "gridcolor": "white",
            "linecolor": "white",
            "ticks": ""
           }
          },
          "scene": {
           "xaxis": {
            "backgroundcolor": "#E5ECF6",
            "gridcolor": "white",
            "gridwidth": 2,
            "linecolor": "white",
            "showbackground": true,
            "ticks": "",
            "zerolinecolor": "white"
           },
           "yaxis": {
            "backgroundcolor": "#E5ECF6",
            "gridcolor": "white",
            "gridwidth": 2,
            "linecolor": "white",
            "showbackground": true,
            "ticks": "",
            "zerolinecolor": "white"
           },
           "zaxis": {
            "backgroundcolor": "#E5ECF6",
            "gridcolor": "white",
            "gridwidth": 2,
            "linecolor": "white",
            "showbackground": true,
            "ticks": "",
            "zerolinecolor": "white"
           }
          },
          "shapedefaults": {
           "line": {
            "color": "#2a3f5f"
           }
          },
          "ternary": {
           "aaxis": {
            "gridcolor": "white",
            "linecolor": "white",
            "ticks": ""
           },
           "baxis": {
            "gridcolor": "white",
            "linecolor": "white",
            "ticks": ""
           },
           "bgcolor": "#E5ECF6",
           "caxis": {
            "gridcolor": "white",
            "linecolor": "white",
            "ticks": ""
           }
          },
          "title": {
           "x": 0.05
          },
          "xaxis": {
           "automargin": true,
           "gridcolor": "white",
           "linecolor": "white",
           "ticks": "",
           "title": {
            "standoff": 15
           },
           "zerolinecolor": "white",
           "zerolinewidth": 2
          },
          "yaxis": {
           "automargin": true,
           "gridcolor": "white",
           "linecolor": "white",
           "ticks": "",
           "title": {
            "standoff": 15
           },
           "zerolinecolor": "white",
           "zerolinewidth": 2
          }
         }
        },
        "title": {
         "text": "Parent SID (Low vs High) — survey |V|=6, |E|=6"
        },
        "xaxis": {
         "tickmode": "array",
         "ticktext": [
          "Low",
          "High"
         ],
         "tickvals": [
          5.5,
          18.5
         ],
         "title": {
          "text": "SID Type"
         }
        },
        "yaxis": {
         "title": {
          "text": "Parent SID"
         }
        }
       }
      }
     },
     "metadata": {},
     "output_type": "display_data"
    }
   ],
   "source": [
    "plot_sid_grouped_by_type(data_to_plot[data_to_plot['dataset']=='survey'],\n",
    "                    model_order=model_order)"
   ]
  },
  {
   "cell_type": "markdown",
   "id": "47e31777",
   "metadata": {},
   "source": [
    "# Conclusion\n",
    "\n",
    "No improvement observed when using refined independence facts. Likely because we missed out on dependence information.\n",
    "However arrows mean and arrows sum ranking provides good results. This means that the arrow strengths do contain meaningful info.\n",
    "This experiment is stepping stone for out standalone gradual-aba experiment."
   ]
  }
 ],
 "metadata": {
  "kernelspec": {
   "display_name": "aba-env",
   "language": "python",
   "name": "python3"
  },
  "language_info": {
   "codemirror_mode": {
    "name": "ipython",
    "version": 3
   },
   "file_extension": ".py",
   "mimetype": "text/x-python",
   "name": "python",
   "nbconvert_exporter": "python",
   "pygments_lexer": "ipython3",
   "version": "3.12.9"
  }
 },
 "nbformat": 4,
 "nbformat_minor": 5
}
