{
 "cells": [
  {
   "cell_type": "code",
   "execution_count": 7,
   "id": "1e144bc3",
   "metadata": {},
   "outputs": [],
   "source": [
    "from pathlib import Path\n",
    "import pandas as pd\n",
    "import matplotlib.pyplot as plt\n",
    "import numpy as np"
   ]
  },
  {
   "cell_type": "code",
   "execution_count": 8,
   "id": "8a96629c",
   "metadata": {},
   "outputs": [
    {
     "data": {
      "text/plain": [
       "[PosixPath('../../results/gradual/find_optimal_params/nodes_8_neigh_6_cset_6'),\n",
       " PosixPath('../../results/gradual/find_optimal_params/nodes_20_neigh_5_cset_0'),\n",
       " PosixPath('../../results/gradual/find_optimal_params/nodes_11_neigh_8_cset_0'),\n",
       " PosixPath('../../results/gradual/find_optimal_params/nodes_11_neigh_4_cset_9'),\n",
       " PosixPath('../../results/gradual/find_optimal_params/nodes_8_neigh_8_cset_0'),\n",
       " PosixPath('../../results/gradual/find_optimal_params/nodes_11_neigh_7_cset_0'),\n",
       " PosixPath('../../results/gradual/find_optimal_params/nodes_11_neigh_5_cset_1'),\n",
       " PosixPath('../../results/gradual/find_optimal_params/nodes_20_neigh_4_cset_1'),\n",
       " PosixPath('../../results/gradual/find_optimal_params/nodes_20_neigh_3_cset_3'),\n",
       " PosixPath('../../results/gradual/find_optimal_params/nodes_20_neigh_3_cset_4')]"
      ]
     },
     "execution_count": 8,
     "metadata": {},
     "output_type": "execute_result"
    }
   ],
   "source": [
    "result_dirs = [x for x in Path(\"../../results/gradual/find_optimal_params\").glob('nodes_*_neigh_*_cset_*')]\n",
    "result_dirs"
   ]
  },
  {
   "cell_type": "code",
   "execution_count": 9,
   "id": "3131d4d2",
   "metadata": {},
   "outputs": [
    {
     "name": "stdout",
     "output_type": "stream",
     "text": [
      "File not found: ../../results/gradual/find_optimal_params/nodes_11_neigh_8_cset_0/cpdag_metrics.csv\n",
      "File not found: ../../results/gradual/find_optimal_params/nodes_20_neigh_3_cset_4/cpdag_metrics.csv\n"
     ]
    }
   ],
   "source": [
    "all_data = []\n",
    "\n",
    "for result_dir in result_dirs:\n",
    "    _, nodes, _, neigh, _, cset = result_dir.stem.split('_')\n",
    "    nodes = int(nodes)\n",
    "    neigh = int(neigh)\n",
    "    cset = int(cset)\n",
    "\n",
    "    edges = nodes\n",
    "\n",
    "    try:\n",
    "        data = pd.read_csv(result_dir / 'cpdag_metrics.csv')\n",
    "    except FileNotFoundError:\n",
    "        print(f\"File not found: {result_dir / 'cpdag_metrics.csv'}\")\n",
    "        continue\n",
    "\n",
    "    sid_low_values = data['sid_low'].values\n",
    "    sid_high_values = data['sid_high'].values\n",
    "\n",
    "    sid_low_norm = sid_low_values / edges\n",
    "    sid_high_norm = sid_high_values / edges\n",
    "\n",
    "    sid_low_mean = np.mean(sid_low_norm)\n",
    "    sid_high_mean = np.mean(sid_high_norm)\n",
    "\n",
    "    sid_low_std = np.std(sid_low_norm, ddof=1)\n",
    "    sid_high_std = np.std(sid_high_norm, ddof=1)\n",
    "\n",
    "    all_data.append({\n",
    "        'nodes': nodes,\n",
    "        'neigh': neigh,\n",
    "        'cset': cset,\n",
    "        'sid_low_mean': sid_low_mean,\n",
    "        'sid_high_mean': sid_high_mean,\n",
    "        'sid_low_std': sid_low_std,\n",
    "        'sid_high_std': sid_high_std\n",
    "    })\n"
   ]
  },
  {
   "cell_type": "code",
   "execution_count": 10,
   "id": "6e3119e0",
   "metadata": {},
   "outputs": [],
   "source": [
    "all_data = pd.DataFrame(all_data)\n",
    "all_data.sort_values(by=['nodes', 'neigh', 'cset'], inplace=True)"
   ]
  },
  {
   "cell_type": "code",
   "execution_count": 11,
   "id": "c378688d",
   "metadata": {},
   "outputs": [
    {
     "data": {
      "text/html": [
       "<div>\n",
       "<style scoped>\n",
       "    .dataframe tbody tr th:only-of-type {\n",
       "        vertical-align: middle;\n",
       "    }\n",
       "\n",
       "    .dataframe tbody tr th {\n",
       "        vertical-align: top;\n",
       "    }\n",
       "\n",
       "    .dataframe thead th {\n",
       "        text-align: right;\n",
       "    }\n",
       "</style>\n",
       "<table border=\"1\" class=\"dataframe\">\n",
       "  <thead>\n",
       "    <tr style=\"text-align: right;\">\n",
       "      <th></th>\n",
       "      <th>nodes</th>\n",
       "      <th>neigh</th>\n",
       "      <th>cset</th>\n",
       "      <th>sid_low_mean</th>\n",
       "      <th>sid_high_mean</th>\n",
       "      <th>sid_low_std</th>\n",
       "      <th>sid_high_std</th>\n",
       "    </tr>\n",
       "  </thead>\n",
       "  <tbody>\n",
       "    <tr>\n",
       "      <th>0</th>\n",
       "      <td>8</td>\n",
       "      <td>6</td>\n",
       "      <td>6</td>\n",
       "      <td>3.087500</td>\n",
       "      <td>3.525000</td>\n",
       "      <td>1.070517</td>\n",
       "      <td>1.146856</td>\n",
       "    </tr>\n",
       "    <tr>\n",
       "      <th>3</th>\n",
       "      <td>8</td>\n",
       "      <td>8</td>\n",
       "      <td>0</td>\n",
       "      <td>2.650000</td>\n",
       "      <td>4.237500</td>\n",
       "      <td>1.949715</td>\n",
       "      <td>1.268543</td>\n",
       "    </tr>\n",
       "    <tr>\n",
       "      <th>2</th>\n",
       "      <td>11</td>\n",
       "      <td>4</td>\n",
       "      <td>9</td>\n",
       "      <td>3.654545</td>\n",
       "      <td>3.972727</td>\n",
       "      <td>0.926896</td>\n",
       "      <td>0.905092</td>\n",
       "    </tr>\n",
       "    <tr>\n",
       "      <th>5</th>\n",
       "      <td>11</td>\n",
       "      <td>5</td>\n",
       "      <td>1</td>\n",
       "      <td>3.518182</td>\n",
       "      <td>4.127273</td>\n",
       "      <td>0.914178</td>\n",
       "      <td>1.042882</td>\n",
       "    </tr>\n",
       "    <tr>\n",
       "      <th>4</th>\n",
       "      <td>11</td>\n",
       "      <td>7</td>\n",
       "      <td>0</td>\n",
       "      <td>2.663636</td>\n",
       "      <td>4.300000</td>\n",
       "      <td>1.042750</td>\n",
       "      <td>1.048896</td>\n",
       "    </tr>\n",
       "    <tr>\n",
       "      <th>7</th>\n",
       "      <td>20</td>\n",
       "      <td>3</td>\n",
       "      <td>3</td>\n",
       "      <td>6.405000</td>\n",
       "      <td>6.405000</td>\n",
       "      <td>1.750944</td>\n",
       "      <td>1.750944</td>\n",
       "    </tr>\n",
       "    <tr>\n",
       "      <th>6</th>\n",
       "      <td>20</td>\n",
       "      <td>4</td>\n",
       "      <td>1</td>\n",
       "      <td>6.535000</td>\n",
       "      <td>6.620000</td>\n",
       "      <td>1.742771</td>\n",
       "      <td>1.842733</td>\n",
       "    </tr>\n",
       "    <tr>\n",
       "      <th>1</th>\n",
       "      <td>20</td>\n",
       "      <td>5</td>\n",
       "      <td>0</td>\n",
       "      <td>5.935000</td>\n",
       "      <td>7.505000</td>\n",
       "      <td>1.737663</td>\n",
       "      <td>1.634600</td>\n",
       "    </tr>\n",
       "  </tbody>\n",
       "</table>\n",
       "</div>"
      ],
      "text/plain": [
       "   nodes  neigh  cset  sid_low_mean  sid_high_mean  sid_low_std  sid_high_std\n",
       "0      8      6     6      3.087500       3.525000     1.070517      1.146856\n",
       "3      8      8     0      2.650000       4.237500     1.949715      1.268543\n",
       "2     11      4     9      3.654545       3.972727     0.926896      0.905092\n",
       "5     11      5     1      3.518182       4.127273     0.914178      1.042882\n",
       "4     11      7     0      2.663636       4.300000     1.042750      1.048896\n",
       "7     20      3     3      6.405000       6.405000     1.750944      1.750944\n",
       "6     20      4     1      6.535000       6.620000     1.742771      1.842733\n",
       "1     20      5     0      5.935000       7.505000     1.737663      1.634600"
      ]
     },
     "execution_count": 11,
     "metadata": {},
     "output_type": "execute_result"
    }
   ],
   "source": [
    "all_data"
   ]
  },
  {
   "cell_type": "code",
   "execution_count": 12,
   "id": "d61d4da5",
   "metadata": {
    "vscode": {
     "languageId": "powershell"
    }
   },
   "outputs": [
    {
     "data": {
      "text/html": [
       "<div>\n",
       "<style scoped>\n",
       "    .dataframe tbody tr th:only-of-type {\n",
       "        vertical-align: middle;\n",
       "    }\n",
       "\n",
       "    .dataframe tbody tr th {\n",
       "        vertical-align: top;\n",
       "    }\n",
       "\n",
       "    .dataframe thead th {\n",
       "        text-align: right;\n",
       "    }\n",
       "</style>\n",
       "<table border=\"1\" class=\"dataframe\">\n",
       "  <thead>\n",
       "    <tr style=\"text-align: right;\">\n",
       "      <th></th>\n",
       "      <th>nodes</th>\n",
       "      <th>neigh</th>\n",
       "      <th>cset</th>\n",
       "      <th>sid_low_mean</th>\n",
       "      <th>sid_high_mean</th>\n",
       "      <th>sid_low_std</th>\n",
       "      <th>sid_high_std</th>\n",
       "    </tr>\n",
       "  </thead>\n",
       "  <tbody>\n",
       "    <tr>\n",
       "      <th>0</th>\n",
       "      <td>8</td>\n",
       "      <td>6</td>\n",
       "      <td>6</td>\n",
       "      <td>3.087500</td>\n",
       "      <td>3.525000</td>\n",
       "      <td>1.070517</td>\n",
       "      <td>1.146856</td>\n",
       "    </tr>\n",
       "    <tr>\n",
       "      <th>2</th>\n",
       "      <td>11</td>\n",
       "      <td>4</td>\n",
       "      <td>9</td>\n",
       "      <td>3.654545</td>\n",
       "      <td>3.972727</td>\n",
       "      <td>0.926896</td>\n",
       "      <td>0.905092</td>\n",
       "    </tr>\n",
       "    <tr>\n",
       "      <th>7</th>\n",
       "      <td>20</td>\n",
       "      <td>3</td>\n",
       "      <td>3</td>\n",
       "      <td>6.405000</td>\n",
       "      <td>6.405000</td>\n",
       "      <td>1.750944</td>\n",
       "      <td>1.750944</td>\n",
       "    </tr>\n",
       "  </tbody>\n",
       "</table>\n",
       "</div>"
      ],
      "text/plain": [
       "   nodes  neigh  cset  sid_low_mean  sid_high_mean  sid_low_std  sid_high_std\n",
       "0      8      6     6      3.087500       3.525000     1.070517      1.146856\n",
       "2     11      4     9      3.654545       3.972727     0.926896      0.905092\n",
       "7     20      3     3      6.405000       6.405000     1.750944      1.750944"
      ]
     },
     "execution_count": 12,
     "metadata": {},
     "output_type": "execute_result"
    }
   ],
   "source": [
    "best_by_nodes = all_data.loc[all_data.groupby('nodes')['sid_high_mean'].idxmin()]\n",
    "best_by_nodes"
   ]
  },
  {
   "cell_type": "markdown",
   "id": "0f013b41",
   "metadata": {},
   "source": [
    "Chosen params:\n",
    "\n",
    "- 8 nodes:  neigh=6, cset=6\n",
    "- 11 nodes: neigh=4, cset=9\n",
    "- 20 nodes: neigh=3, cset=3"
   ]
  }
 ],
 "metadata": {
  "kernelspec": {
   "display_name": "aba-env",
   "language": "python",
   "name": "python3"
  },
  "language_info": {
   "codemirror_mode": {
    "name": "ipython",
    "version": 3
   },
   "file_extension": ".py",
   "mimetype": "text/x-python",
   "name": "python",
   "nbconvert_exporter": "python",
   "pygments_lexer": "ipython3",
   "version": "3.12.9"
  }
 },
 "nbformat": 4,
 "nbformat_minor": 5
}
