{
 "cells": [
  {
   "cell_type": "markdown",
   "id": "1af95f5f",
   "metadata": {},
   "source": [
    "# Test closed complete is sufficient for non-flat complete in causal ABA\n",
    "\n",
    "\n",
    "The current implementation of complete semantics doesn't check that the attacking subsets of assumptions are closed.\n",
    "We argue that this does not affect complete extensions in the Causal ABA framework.\n",
    "Independence fact-rules and the rules that derive independence from set of blocked path assumptions are what introduces the non-flatness into the ABAF. This notebook confirms that the attack and support sets before and after adding these rules remain the same, with the addition of the independences present in fact-rules.\n",
    "\n",
    "This implies that the complete extensions are same because the attack and defence stays same. Defence stays same because the accepted set of assumptions can't attack the independence assumptions in facts anyways, as this will cause a conflict."
   ]
  },
  {
   "cell_type": "code",
   "execution_count": 97,
   "id": "9ecbe5be",
   "metadata": {},
   "outputs": [],
   "source": [
    "import sys\n",
    "sys.path.append('../..')\n",
    "sys.path.append('../../GradualABA')"
   ]
  },
  {
   "cell_type": "code",
   "execution_count": 98,
   "id": "583a2c73",
   "metadata": {},
   "outputs": [],
   "source": [
    "from src.gradual.extra.abaf_factory_v0 import FactoryV0\n",
    "from src.gradual.run import run_get_bsaf\n",
    "from GradualABA.ABAF import ABAF\n",
    "from src.utils.enums import Fact, RelationEnum\n",
    "import src.causal_aba.assumptions as assums"
   ]
  },
  {
   "cell_type": "code",
   "execution_count": 99,
   "id": "0028a9d4",
   "metadata": {},
   "outputs": [],
   "source": [
    "def close_a_set(set_to_close: frozenset, all_supports: dict):\n",
    "    \"\"\"\n",
    "    Closes a set by adding all assumptions that are supported by the set.\n",
    "    TODO: iterate over rules, add whatever can be derived, untill a fixed point is reached.\n",
    "    \"\"\"\n",
    "    new_set_to_close = set(set_to_close)\n",
    "    for assumption, supports in all_supports.items():\n",
    "        for support in supports:\n",
    "            if set_to_close.issuperset(support):\n",
    "                new_set_to_close.add(assumption)\n",
    "    return frozenset(new_set_to_close)\n",
    "\n",
    "def get_closed_attacks(all_attacks, all_supports):\n",
    "    all_attacks_closed = dict()\n",
    "    for target, attacks in all_attacks.items():\n",
    "        new_attacks = set()\n",
    "        for attack in attacks:\n",
    "            new_attack = close_a_set(attack, all_supports)\n",
    "            new_attacks.add(new_attack)\n",
    "        all_attacks_closed[target] = set(new_attacks)\n",
    "    return all_attacks_closed"
   ]
  },
  {
   "cell_type": "code",
   "execution_count": 100,
   "id": "13d11535",
   "metadata": {},
   "outputs": [],
   "source": [
    "class FactoryFlat(FactoryV0):\n",
    "    @staticmethod\n",
    "    def _add_independence_rules(solver, paths, X, Y, S):\n",
    "        pass  # No rules with assumption in the head for flat ABAF"
   ]
  },
  {
   "cell_type": "code",
   "execution_count": 101,
   "id": "e3dfeb76",
   "metadata": {},
   "outputs": [],
   "source": [
    "N_NODES=3"
   ]
  },
  {
   "cell_type": "code",
   "execution_count": 102,
   "id": "5e93aa8a",
   "metadata": {},
   "outputs": [
    {
     "name": "stderr",
     "output_type": "stream",
     "text": [
      "iterating through node combinations: 100%|██████████| 3/3 [00:00<00:00, 13162.04it/s]\n",
      "Analysing rules: 100%|██████████| 108/108 [00:00<00:00, 1297950.81it/s]\n",
      "Analysing rules: 100%|██████████| 108/108 [00:00<00:00, 972070.45it/s]\n",
      "Analysing rules: 100%|██████████| 108/108 [00:00<00:00, 571229.30it/s]\n",
      "Analysing rules: 100%|██████████| 108/108 [00:00<00:00, 720166.66it/s]\n",
      "Analysing rules: 100%|██████████| 108/108 [00:00<00:00, 719023.54it/s]\n",
      "Analysing rules: 100%|██████████| 108/108 [00:00<00:00, 287062.63it/s]\n"
     ]
    },
    {
     "name": "stdout",
     "output_type": "stream",
     "text": [
      "0.01s to build 267 arguments\n"
     ]
    },
    {
     "name": "stderr",
     "output_type": "stream",
     "text": [
      "iterating through node combinations: 100%|██████████| 3/3 [00:00<00:00, 9164.54it/s]\n",
      "Analysing rules: 100%|██████████| 114/114 [00:00<00:00, 1385943.93it/s]\n",
      "Analysing rules: 100%|██████████| 114/114 [00:00<00:00, 1017341.82it/s]\n",
      "Analysing rules: 100%|██████████| 114/114 [00:00<00:00, 755372.28it/s]\n",
      "Analysing rules: 100%|██████████| 114/114 [00:00<00:00, 700074.17it/s]\n",
      "Analysing rules: 100%|██████████| 114/114 [00:00<00:00, 694986.42it/s]\n",
      "Analysing rules: 100%|██████████| 114/114 [00:00<00:00, 787727.60it/s]"
     ]
    },
    {
     "name": "stdout",
     "output_type": "stream",
     "text": [
      "0.00s to build 273 arguments\n"
     ]
    },
    {
     "name": "stderr",
     "output_type": "stream",
     "text": [
      "\n"
     ]
    }
   ],
   "source": [
    "factory_flat = FactoryFlat(n_nodes=N_NODES)\n",
    "bsaf_flat = run_get_bsaf(factory_flat,\n",
    "                         facts=[],\n",
    "                         abaf_class=ABAF)\n",
    "\n",
    "factory_non_flat = FactoryV0(n_nodes=N_NODES)\n",
    "bsaf_non_flat = run_get_bsaf(factory_non_flat,\n",
    "                             facts=[],\n",
    "                             abaf_class=ABAF)"
   ]
  },
  {
   "cell_type": "code",
   "execution_count": 103,
   "id": "188fb8e3",
   "metadata": {},
   "outputs": [
    {
     "data": {
      "text/plain": [
       "True"
      ]
     },
     "execution_count": 103,
     "metadata": {},
     "output_type": "execute_result"
    }
   ],
   "source": [
    "get_closed_attacks(bsaf_flat.attacks, bsaf_flat.supports) == get_closed_attacks(bsaf_non_flat.attacks, bsaf_non_flat.supports)"
   ]
  },
  {
   "cell_type": "code",
   "execution_count": 104,
   "id": "bc850027",
   "metadata": {},
   "outputs": [
    {
     "data": {
      "text/plain": [
       "True"
      ]
     },
     "execution_count": 104,
     "metadata": {},
     "output_type": "execute_result"
    }
   ],
   "source": [
    "bsaf_flat.attacks == get_closed_attacks(bsaf_flat.attacks, bsaf_flat.supports)"
   ]
  },
  {
   "cell_type": "markdown",
   "id": "f9931685",
   "metadata": {},
   "source": [
    "Confirms that attacks are same with or without the \"independence <- all paths blocked\" rule."
   ]
  },
  {
   "cell_type": "markdown",
   "id": "b8cb64ff",
   "metadata": {},
   "source": [
    "Now we proceed to confirm that attack sets change predictably, when independence facts are added. More specifically, the independence assumptions corresponding to these facts get appended to all the attacker sets."
   ]
  },
  {
   "cell_type": "code",
   "execution_count": 105,
   "id": "f02736e0",
   "metadata": {},
   "outputs": [],
   "source": [
    "class FactoryWithFacts(FactoryV0):\n",
    "    @staticmethod\n",
    "    def _add_fact(solver, fact: Fact):\n",
    "        if fact.relation == RelationEnum.dep:\n",
    "            # add dependency fact\n",
    "            solver.add_rule(assums.contrary(assums.indep(fact.node1, fact.node2, fact.node_set)), [])\n",
    "        elif fact.relation == RelationEnum.indep:\n",
    "            # add independence fact\n",
    "            solver.add_rule(assums.indep(fact.node1, fact.node2, fact.node_set), [])\n"
   ]
  },
  {
   "cell_type": "code",
   "execution_count": 106,
   "id": "ebc73ad7",
   "metadata": {},
   "outputs": [
    {
     "name": "stderr",
     "output_type": "stream",
     "text": [
      "iterating through node combinations: 100%|██████████| 3/3 [00:00<00:00, 5242.88it/s]\n",
      "Analysing rules: 100%|██████████| 115/115 [00:00<00:00, 574904.60it/s]\n",
      "Analysing rules: 100%|██████████| 115/115 [00:00<00:00, 560866.23it/s]\n",
      "Analysing rules: 100%|██████████| 115/115 [00:00<00:00, 403298.46it/s]\n",
      "Analysing rules: 100%|██████████| 115/115 [00:00<00:00, 391513.77it/s]\n",
      "Analysing rules: 100%|██████████| 115/115 [00:00<00:00, 395689.06it/s]\n",
      "Analysing rules: 100%|██████████| 115/115 [00:00<00:00, 339201.80it/s]"
     ]
    },
    {
     "name": "stdout",
     "output_type": "stream",
     "text": [
      "0.01s to build 274 arguments\n"
     ]
    },
    {
     "name": "stderr",
     "output_type": "stream",
     "text": [
      "\n"
     ]
    }
   ],
   "source": [
    "factory_non_flat_w_facts = FactoryWithFacts(n_nodes=N_NODES)\n",
    "solver_w_facts = factory_non_flat_w_facts.create_solver(facts=[])\n",
    "\n",
    "fact = Fact(\n",
    "    relation=RelationEnum.indep,\n",
    "    node1=0,\n",
    "    node2=1,\n",
    "    node_set=set(),\n",
    "    score=1\n",
    ")\n",
    "\n",
    "factory_non_flat_w_facts._add_fact(solver_w_facts, fact)\n",
    "\n",
    "abaf_w_facts = solver_w_facts.get_abaf(abaf_class=ABAF)\n",
    "bsaf_w_facts = abaf_w_facts.to_bsaf()\n"
   ]
  },
  {
   "cell_type": "code",
   "execution_count": 107,
   "id": "46944e53",
   "metadata": {},
   "outputs": [
    {
     "data": {
      "text/plain": [
       "False"
      ]
     },
     "execution_count": 107,
     "metadata": {},
     "output_type": "execute_result"
    }
   ],
   "source": [
    "get_closed_attacks(bsaf_w_facts.attacks, bsaf_w_facts.supports) == get_closed_attacks(bsaf_flat.attacks, bsaf_flat.supports)"
   ]
  },
  {
   "cell_type": "markdown",
   "id": "aa8ef961",
   "metadata": {},
   "source": [
    "Let's confirm that the difference is the precense of the independence assumption in the fact"
   ]
  },
  {
   "cell_type": "code",
   "execution_count": 108,
   "id": "36df14c7",
   "metadata": {},
   "outputs": [],
   "source": [
    "closed_attacks_w_facts = get_closed_attacks(bsaf_w_facts.attacks, bsaf_w_facts.supports)\n",
    "closed_attacks_flat = get_closed_attacks(bsaf_flat.attacks, bsaf_flat.supports)"
   ]
  },
  {
   "cell_type": "code",
   "execution_count": 109,
   "id": "995f39c2",
   "metadata": {},
   "outputs": [
    {
     "data": {
      "text/plain": [
       "Assumption(indep_0_1__, contrary=-indep_0_1__, weight=0.5)"
      ]
     },
     "execution_count": 109,
     "metadata": {},
     "output_type": "execute_result"
    }
   ],
   "source": [
    "independence_assumption = solver_w_facts.name_to_assumption[assums.indep(0, 1, set())]\n",
    "independence_assumption"
   ]
  },
  {
   "cell_type": "code",
   "execution_count": 110,
   "id": "92c69fe3",
   "metadata": {},
   "outputs": [],
   "source": [
    "closed_attacks_flat_added = dict()\n",
    "for target, attacks in closed_attacks_flat.items():\n",
    "    new_attacks = set()\n",
    "    for attack in attacks:\n",
    "        new_attack = frozenset({independence_assumption, *attack})\n",
    "        new_attacks.add(new_attack)\n",
    "    closed_attacks_flat_added[target] = new_attacks"
   ]
  },
  {
   "cell_type": "code",
   "execution_count": 111,
   "id": "6aa1de68",
   "metadata": {},
   "outputs": [
    {
     "data": {
      "text/plain": [
       "True"
      ]
     },
     "execution_count": 111,
     "metadata": {},
     "output_type": "execute_result"
    }
   ],
   "source": [
    "closed_attacks_flat_added == closed_attacks_w_facts"
   ]
  },
  {
   "cell_type": "markdown",
   "id": "b6ec306b",
   "metadata": {},
   "source": [
    "This confirms our initial proposition that adding an independence fact is equivalend to adding the corresponding independence assumption to all attacking sets."
   ]
  },
  {
   "cell_type": "markdown",
   "id": "dd9c68c7",
   "metadata": {},
   "source": [
    "This means that complete extensions in Causal ABA can be achieved by considering not only closed attackers, but all attackers. Because closed attackers are same as all attackers with the addition of the independence assumptions from facts. However the accepted assumption set can't attack those independence assumptions (as it would cause a conflict) thus the attacked assumption sets are same, and consequently the defended assumptions are also same."
   ]
  }
 ],
 "metadata": {
  "kernelspec": {
   "display_name": "aba-env",
   "language": "python",
   "name": "python3"
  },
  "language_info": {
   "codemirror_mode": {
    "name": "ipython",
    "version": 3
   },
   "file_extension": ".py",
   "mimetype": "text/x-python",
   "name": "python",
   "nbconvert_exporter": "python",
   "pygments_lexer": "ipython3",
   "version": "3.12.9"
  }
 },
 "nbformat": 4,
 "nbformat_minor": 5
}
