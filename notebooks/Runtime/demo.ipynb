{
 "cells": [
  {
   "cell_type": "code",
   "execution_count": null,
   "id": "ca23da7e",
   "metadata": {},
   "outputs": [],
   "source": [
    "import warnings\n",
    "warnings.filterwarnings('ignore')\n",
    "import pandas as pd"
   ]
  },
  {
   "cell_type": "code",
   "execution_count": null,
   "id": "f354128f",
   "metadata": {},
   "outputs": [],
   "source": [
    "all_sum = pd.read_csv('../../results/extension_based_semantics/compare_abapc_random.csv')\n",
    "all_sum.head()\n"
   ]
  },
  {
   "cell_type": "code",
   "execution_count": null,
   "id": "5144fefa",
   "metadata": {},
   "outputs": [],
   "source": [
    "all_sum_grouped = all_sum.groupby(['n_nodes', 'n_edges'], as_index=False).agg(\n",
    "    pure_abapc_mean=('pure_abapc_elapsed', 'mean'),\n",
    "    pure_abapc_std=('pure_abapc_elapsed', 'std'),\n",
    "    old_mean=('old_elapsed', 'mean'),\n",
    "    old_std=('old_elapsed', 'std')\n",
    ")\n",
    "all_sum_grouped = all_sum_grouped[all_sum_grouped['n_nodes'] <= 6].copy()\n",
    "all_sum_grouped\n"
   ]
  },
  {
   "cell_type": "code",
   "execution_count": null,
   "id": "3d7d0798",
   "metadata": {},
   "outputs": [],
   "source": [
    "import plotly.graph_objects as go\n",
    "from plotly.subplots import make_subplots\n",
    "\n",
    "def plot_runtime_custom(df, plot_width=750, plot_height=300, font_size=20, save_figs=False, output_name=\"runtime.html\"):\n",
    "\n",
    "    fig = make_subplots(rows=1, cols=1, shared_yaxes=True)\n",
    "\n",
    "    # Method 1: pure_abapc\n",
    "    fig.add_trace(\n",
    "        go.Scatter(\n",
    "            x=df['n_nodes'].astype(str),\n",
    "            y=df['pure_abapc_mean'],\n",
    "            error_y=dict(type='data', array=df['pure_abapc_std'], thickness=2),\n",
    "            mode='lines+markers',\n",
    "            name='new implementation',\n",
    "            line=dict(color='blue', width=2),\n",
    "            marker=dict(symbol='circle', size=8, color='blue'),\n",
    "        )\n",
    "    )\n",
    "\n",
    "    # Method 2: old\n",
    "    fig.add_trace(\n",
    "        go.Scatter(\n",
    "            x=df['n_nodes'].astype(str),\n",
    "            y=df['old_mean'],\n",
    "            error_y=dict(type='data', array=df['old_std'], thickness=2),\n",
    "            mode='lines+markers',\n",
    "            name='existing implementation',\n",
    "            line=dict(color='red', width=2),\n",
    "            marker=dict(symbol='square', size=8, color='red'),\n",
    "        )\n",
    "    )\n",
    "\n",
    "    # Log scale for y-axis\n",
    "    fig.update_yaxes(type=\"log\", title='log(elapsed time [s])')\n",
    "\n",
    "    # X axis title\n",
    "    fig.update_xaxes(title='Number of Nodes (|V|)')\n",
    "\n",
    "    # Layout and style\n",
    "    fig.update_layout(\n",
    "        legend=dict(orientation=\"h\", xanchor=\"center\", x=0.5, yanchor=\"bottom\", y=1.05),\n",
    "        template='plotly_white',\n",
    "        width=plot_width,\n",
    "        height=plot_height,\n",
    "        margin=dict(l=10, r=10, b=80, t=10),\n",
    "        font=dict(size=font_size, family=\"Serif\", color=\"black\")\n",
    "    )\n",
    "\n",
    "    if save_figs:\n",
    "        fig.write_html(output_name)\n",
    "        fig.write_image(output_name.replace('.html', '.jpeg'))\n",
    "\n",
    "    fig.show()\n"
   ]
  },
  {
   "cell_type": "code",
   "execution_count": null,
   "id": "d47dd1f0",
   "metadata": {},
   "outputs": [],
   "source": [
    "plot_runtime_custom(all_sum_grouped)"
   ]
  }
 ],
 "metadata": {
  "kernelspec": {
   "display_name": ".venv",
   "language": "python",
   "name": "python3"
  },
  "language_info": {
   "codemirror_mode": {
    "name": "ipython",
    "version": 3
   },
   "file_extension": ".py",
   "mimetype": "text/x-python",
   "name": "python",
   "nbconvert_exporter": "python",
   "pygments_lexer": "ipython3",
   "version": "3.12.3"
  }
 },
 "nbformat": 4,
 "nbformat_minor": 5
}
