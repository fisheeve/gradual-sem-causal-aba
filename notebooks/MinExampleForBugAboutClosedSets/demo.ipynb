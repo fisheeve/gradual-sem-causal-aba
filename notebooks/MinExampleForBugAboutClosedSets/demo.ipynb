{
 "cells": [
  {
   "cell_type": "code",
   "execution_count": 1,
   "id": "cada8f66",
   "metadata": {},
   "outputs": [],
   "source": [
    "import sys\n",
    "sys.path.insert(0, '../..')"
   ]
  },
  {
   "cell_type": "code",
   "execution_count": null,
   "id": "1cf222f3",
   "metadata": {},
   "outputs": [
    {
     "data": {
      "text/plain": [
       "0"
      ]
     },
     "execution_count": 2,
     "metadata": {},
     "output_type": "execute_result"
    }
   ],
   "source": [
    "# Import original verison of aspforaba\n",
    "\n",
    "import os\n",
    "\n",
    "os.system('cd ../../aspforaba && git apply -R ../aspforaba.patch')\n",
    "from aspforaba.src.aspforaba.aba_solver import ABASolver\n",
    "os.system('cd ../../aspforaba && git apply ../aspforaba.patch')\n"
   ]
  },
  {
   "cell_type": "code",
   "execution_count": 3,
   "id": "f3310a59",
   "metadata": {},
   "outputs": [
    {
     "data": {
      "text/plain": [
       "[AssumptionSet(assumptions={'a', 'b'}, consequences={'-a'})]"
      ]
     },
     "execution_count": 3,
     "metadata": {},
     "output_type": "execute_result"
    }
   ],
   "source": [
    "solver = ABASolver()\n",
    "\n",
    "solver.add_assumption('a')\n",
    "solver.add_assumption('b')\n",
    "\n",
    "solver.add_contrary('a', '-a')\n",
    "solver.add_contrary('b', '-b')\n",
    "\n",
    "solver.add_rule('-a', ['b'])\n",
    "solver.add_rule('a', [])\n",
    "\n",
    "solver.enumerate_extensions('CO')"
   ]
  },
  {
   "cell_type": "code",
   "execution_count": 4,
   "id": "aa089468",
   "metadata": {},
   "outputs": [],
   "source": [
    "import sys\n",
    "sys.path.insert(0, '../..')\n",
    "import importlib\n",
    "import aspforaba.src.aspforaba.encoder\n",
    "importlib.reload( aspforaba.src.aspforaba.encoder)\n",
    "from aspforaba.src.aspforaba.aba_solver import ABASolver\n",
    "\n",
    "solver = ABASolver()\n",
    "\n",
    "solver.add_assumption('a')\n",
    "solver.add_assumption('b')\n",
    "\n",
    "solver.add_contrary('a', '-a')\n",
    "solver.add_contrary('b', '-b')\n",
    "\n",
    "solver.add_rule('-a', ['b'])\n",
    "solver.add_rule('a', [])\n",
    "\n",
    "solver.enumerate_extensions('CO')"
   ]
  }
 ],
 "metadata": {
  "kernelspec": {
   "display_name": ".venv",
   "language": "python",
   "name": "python3"
  },
  "language_info": {
   "codemirror_mode": {
    "name": "ipython",
    "version": 3
   },
   "file_extension": ".py",
   "mimetype": "text/x-python",
   "name": "python",
   "nbconvert_exporter": "python",
   "pygments_lexer": "ipython3",
   "version": "3.12.3"
  }
 },
 "nbformat": 4,
 "nbformat_minor": 5
}
