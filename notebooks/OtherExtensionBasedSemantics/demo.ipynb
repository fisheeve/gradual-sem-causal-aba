{
 "cells": [
  {
   "cell_type": "code",
   "execution_count": 1,
   "id": "33259764",
   "metadata": {},
   "outputs": [],
   "source": [
    "import sys\n",
    "sys.path.insert(0, '../../')"
   ]
  },
  {
   "cell_type": "code",
   "execution_count": 2,
   "id": "351864d3",
   "metadata": {},
   "outputs": [],
   "source": [
    "import pandas as pd\n",
    "import numpy as np"
   ]
  },
  {
   "cell_type": "code",
   "execution_count": null,
   "id": "87461d61",
   "metadata": {},
   "outputs": [
    {
     "data": {
      "text/html": [
       "<div>\n",
       "<style scoped>\n",
       "    .dataframe tbody tr th:only-of-type {\n",
       "        vertical-align: middle;\n",
       "    }\n",
       "\n",
       "    .dataframe tbody tr th {\n",
       "        vertical-align: top;\n",
       "    }\n",
       "\n",
       "    .dataframe thead th {\n",
       "        text-align: right;\n",
       "    }\n",
       "</style>\n",
       "<table border=\"1\" class=\"dataframe\">\n",
       "  <thead>\n",
       "    <tr style=\"text-align: right;\">\n",
       "      <th></th>\n",
       "      <th>ST_elapsed</th>\n",
       "      <th>ST_best_model</th>\n",
       "      <th>ST_best_I</th>\n",
       "      <th>ST_total_num_facts</th>\n",
       "      <th>ST_used_num_facts</th>\n",
       "      <th>ST_num_models</th>\n",
       "      <th>CO_elapsed</th>\n",
       "      <th>CO_best_model</th>\n",
       "      <th>CO_best_I</th>\n",
       "      <th>CO_total_num_facts</th>\n",
       "      <th>...</th>\n",
       "      <th>abapc_existing_elapsed</th>\n",
       "      <th>n_nodes</th>\n",
       "      <th>n_edges</th>\n",
       "      <th>seed</th>\n",
       "      <th>is_best_st_in_all_co</th>\n",
       "      <th>is_best_st_in_all_pr</th>\n",
       "      <th>is_best_pr_in_all_co</th>\n",
       "      <th>is_all_st_subset_of_all_co</th>\n",
       "      <th>is_all_st_subset_of_all_pr</th>\n",
       "      <th>is_all_pr_subset_of_all_co</th>\n",
       "    </tr>\n",
       "  </thead>\n",
       "  <tbody>\n",
       "    <tr>\n",
       "      <th>0</th>\n",
       "      <td>0.159201</td>\n",
       "      <td>frozenset({(1, 0), (0, 2), (1, 2)})</td>\n",
       "      <td>3.000000</td>\n",
       "      <td>6</td>\n",
       "      <td>6</td>\n",
       "      <td>6</td>\n",
       "      <td>0.053243</td>\n",
       "      <td>frozenset({(1, 0), (1, 2)})</td>\n",
       "      <td>3.000000</td>\n",
       "      <td>6</td>\n",
       "      <td>...</td>\n",
       "      <td>0.137409</td>\n",
       "      <td>3</td>\n",
       "      <td>3</td>\n",
       "      <td>7816</td>\n",
       "      <td>True</td>\n",
       "      <td>True</td>\n",
       "      <td>True</td>\n",
       "      <td>True</td>\n",
       "      <td>True</td>\n",
       "      <td>True</td>\n",
       "    </tr>\n",
       "    <tr>\n",
       "      <th>1</th>\n",
       "      <td>0.010666</td>\n",
       "      <td>frozenset({(0, 1), (2, 1)})</td>\n",
       "      <td>2.877096</td>\n",
       "      <td>6</td>\n",
       "      <td>4</td>\n",
       "      <td>1</td>\n",
       "      <td>0.011362</td>\n",
       "      <td>frozenset({(0, 1), (2, 1)})</td>\n",
       "      <td>2.877096</td>\n",
       "      <td>6</td>\n",
       "      <td>...</td>\n",
       "      <td>0.373632</td>\n",
       "      <td>3</td>\n",
       "      <td>3</td>\n",
       "      <td>3578</td>\n",
       "      <td>True</td>\n",
       "      <td>True</td>\n",
       "      <td>True</td>\n",
       "      <td>True</td>\n",
       "      <td>True</td>\n",
       "      <td>True</td>\n",
       "    </tr>\n",
       "    <tr>\n",
       "      <th>2</th>\n",
       "      <td>0.006142</td>\n",
       "      <td>frozenset({(1, 0), (2, 0)})</td>\n",
       "      <td>2.743956</td>\n",
       "      <td>6</td>\n",
       "      <td>6</td>\n",
       "      <td>1</td>\n",
       "      <td>0.005631</td>\n",
       "      <td>frozenset({(1, 0), (2, 0)})</td>\n",
       "      <td>2.743956</td>\n",
       "      <td>6</td>\n",
       "      <td>...</td>\n",
       "      <td>0.184546</td>\n",
       "      <td>3</td>\n",
       "      <td>3</td>\n",
       "      <td>2656</td>\n",
       "      <td>True</td>\n",
       "      <td>True</td>\n",
       "      <td>True</td>\n",
       "      <td>True</td>\n",
       "      <td>True</td>\n",
       "      <td>True</td>\n",
       "    </tr>\n",
       "    <tr>\n",
       "      <th>3</th>\n",
       "      <td>0.016633</td>\n",
       "      <td>frozenset({(1, 0), (0, 2), (1, 2)})</td>\n",
       "      <td>3.000000</td>\n",
       "      <td>6</td>\n",
       "      <td>6</td>\n",
       "      <td>6</td>\n",
       "      <td>0.054251</td>\n",
       "      <td>frozenset({(1, 0), (1, 2)})</td>\n",
       "      <td>3.000000</td>\n",
       "      <td>6</td>\n",
       "      <td>...</td>\n",
       "      <td>0.211968</td>\n",
       "      <td>3</td>\n",
       "      <td>3</td>\n",
       "      <td>2688</td>\n",
       "      <td>True</td>\n",
       "      <td>True</td>\n",
       "      <td>True</td>\n",
       "      <td>True</td>\n",
       "      <td>True</td>\n",
       "      <td>True</td>\n",
       "    </tr>\n",
       "    <tr>\n",
       "      <th>4</th>\n",
       "      <td>0.018514</td>\n",
       "      <td>frozenset({(1, 0), (0, 2), (1, 2)})</td>\n",
       "      <td>3.000000</td>\n",
       "      <td>6</td>\n",
       "      <td>6</td>\n",
       "      <td>6</td>\n",
       "      <td>0.054389</td>\n",
       "      <td>frozenset({(1, 0), (1, 2)})</td>\n",
       "      <td>3.000000</td>\n",
       "      <td>6</td>\n",
       "      <td>...</td>\n",
       "      <td>0.191458</td>\n",
       "      <td>3</td>\n",
       "      <td>3</td>\n",
       "      <td>2494</td>\n",
       "      <td>True</td>\n",
       "      <td>True</td>\n",
       "      <td>True</td>\n",
       "      <td>True</td>\n",
       "      <td>True</td>\n",
       "      <td>True</td>\n",
       "    </tr>\n",
       "  </tbody>\n",
       "</table>\n",
       "<p>5 rows × 28 columns</p>\n",
       "</div>"
      ],
      "text/plain": [
       "   ST_elapsed                        ST_best_model  ST_best_I  \\\n",
       "0    0.159201  frozenset({(1, 0), (0, 2), (1, 2)})   3.000000   \n",
       "1    0.010666          frozenset({(0, 1), (2, 1)})   2.877096   \n",
       "2    0.006142          frozenset({(1, 0), (2, 0)})   2.743956   \n",
       "3    0.016633  frozenset({(1, 0), (0, 2), (1, 2)})   3.000000   \n",
       "4    0.018514  frozenset({(1, 0), (0, 2), (1, 2)})   3.000000   \n",
       "\n",
       "   ST_total_num_facts  ST_used_num_facts  ST_num_models  CO_elapsed  \\\n",
       "0                   6                  6              6    0.053243   \n",
       "1                   6                  4              1    0.011362   \n",
       "2                   6                  6              1    0.005631   \n",
       "3                   6                  6              6    0.054251   \n",
       "4                   6                  6              6    0.054389   \n",
       "\n",
       "                 CO_best_model  CO_best_I  CO_total_num_facts  ...  \\\n",
       "0  frozenset({(1, 0), (1, 2)})   3.000000                   6  ...   \n",
       "1  frozenset({(0, 1), (2, 1)})   2.877096                   6  ...   \n",
       "2  frozenset({(1, 0), (2, 0)})   2.743956                   6  ...   \n",
       "3  frozenset({(1, 0), (1, 2)})   3.000000                   6  ...   \n",
       "4  frozenset({(1, 0), (1, 2)})   3.000000                   6  ...   \n",
       "\n",
       "   abapc_existing_elapsed  n_nodes  n_edges  seed  is_best_st_in_all_co  \\\n",
       "0                0.137409        3        3  7816                  True   \n",
       "1                0.373632        3        3  3578                  True   \n",
       "2                0.184546        3        3  2656                  True   \n",
       "3                0.211968        3        3  2688                  True   \n",
       "4                0.191458        3        3  2494                  True   \n",
       "\n",
       "   is_best_st_in_all_pr  is_best_pr_in_all_co  is_all_st_subset_of_all_co  \\\n",
       "0                  True                  True                        True   \n",
       "1                  True                  True                        True   \n",
       "2                  True                  True                        True   \n",
       "3                  True                  True                        True   \n",
       "4                  True                  True                        True   \n",
       "\n",
       "   is_all_st_subset_of_all_pr  is_all_pr_subset_of_all_co  \n",
       "0                        True                        True  \n",
       "1                        True                        True  \n",
       "2                        True                        True  \n",
       "3                        True                        True  \n",
       "4                        True                        True  \n",
       "\n",
       "[5 rows x 28 columns]"
      ]
     },
     "execution_count": 3,
     "metadata": {},
     "output_type": "execute_result"
    }
   ],
   "source": [
    "random_graphs_compare = pd.read_csv('../../results/extension_based_semantics/compare_semantics_random.csv')\n",
    "random_graphs_compare.rename(\n",
    "    columns={\n",
    "        # Rename columns for clarity, the PR actually refers to maximally complete, not preferred\n",
    "        col: col.replace('PR', 'CO_MAX') for col in random_graphs_compare.columns if 'PR' in col\n",
    "    },\n",
    "    inplace=True\n",
    ")\n",
    "random_graphs_compare.head()"
   ]
  },
  {
   "cell_type": "code",
   "execution_count": null,
   "id": "671e6bf4",
   "metadata": {},
   "outputs": [
    {
     "data": {
      "text/html": [
       "<div>\n",
       "<style scoped>\n",
       "    .dataframe tbody tr th:only-of-type {\n",
       "        vertical-align: middle;\n",
       "    }\n",
       "\n",
       "    .dataframe tbody tr th {\n",
       "        vertical-align: top;\n",
       "    }\n",
       "\n",
       "    .dataframe thead th {\n",
       "        text-align: right;\n",
       "    }\n",
       "</style>\n",
       "<table border=\"1\" class=\"dataframe\">\n",
       "  <thead>\n",
       "    <tr style=\"text-align: right;\">\n",
       "      <th></th>\n",
       "      <th>ST_elapsed</th>\n",
       "      <th>ST_best_model</th>\n",
       "      <th>ST_best_I</th>\n",
       "      <th>ST_total_num_facts</th>\n",
       "      <th>ST_used_num_facts</th>\n",
       "      <th>ST_num_models</th>\n",
       "      <th>ST_mt_dag</th>\n",
       "      <th>ST_mt_cpdag</th>\n",
       "      <th>CO_elapsed</th>\n",
       "      <th>CO_best_model</th>\n",
       "      <th>...</th>\n",
       "      <th>CO_MAX_mt_cpdag</th>\n",
       "      <th>n_nodes</th>\n",
       "      <th>dataset_name</th>\n",
       "      <th>seed</th>\n",
       "      <th>is_best_st_in_all_co</th>\n",
       "      <th>is_best_st_in_all_pr</th>\n",
       "      <th>is_best_pr_in_all_co</th>\n",
       "      <th>is_all_st_subset_of_all_co</th>\n",
       "      <th>is_all_st_subset_of_all_pr</th>\n",
       "      <th>is_all_pr_subset_of_all_co</th>\n",
       "    </tr>\n",
       "  </thead>\n",
       "  <tbody>\n",
       "    <tr>\n",
       "      <th>0</th>\n",
       "      <td>0.956382</td>\n",
       "      <td>frozenset({(1, 0), (4, 0), (2, 0), (3, 0)})</td>\n",
       "      <td>17.537315</td>\n",
       "      <td>44</td>\n",
       "      <td>18</td>\n",
       "      <td>143</td>\n",
       "      <td>{\"nnz\": 4, \"fdr\": 0.5, \"tpr\": 0.5, \"fpr\": 0.33...</td>\n",
       "      <td>{\"nnz\": 4, \"fdr\": 0.5, \"tpr\": 0.5, \"fpr\": 0.33...</td>\n",
       "      <td>2.938993</td>\n",
       "      <td>frozenset({(1, 0), (4, 0), (2, 0), (3, 0)})</td>\n",
       "      <td>...</td>\n",
       "      <td>{\"nnz\": 4, \"fdr\": 0.5, \"tpr\": 0.5, \"fpr\": 0.33...</td>\n",
       "      <td>5</td>\n",
       "      <td>cancer</td>\n",
       "      <td>7816</td>\n",
       "      <td>True</td>\n",
       "      <td>True</td>\n",
       "      <td>True</td>\n",
       "      <td>True</td>\n",
       "      <td>True</td>\n",
       "      <td>True</td>\n",
       "    </tr>\n",
       "    <tr>\n",
       "      <th>1</th>\n",
       "      <td>0.544168</td>\n",
       "      <td>frozenset({(1, 0), (4, 0), (2, 0), (3, 0)})</td>\n",
       "      <td>17.095751</td>\n",
       "      <td>44</td>\n",
       "      <td>19</td>\n",
       "      <td>19</td>\n",
       "      <td>{\"nnz\": 4, \"fdr\": 0.5, \"tpr\": 0.5, \"fpr\": 0.33...</td>\n",
       "      <td>{\"nnz\": 4, \"fdr\": 0.5, \"tpr\": 0.5, \"fpr\": 0.33...</td>\n",
       "      <td>0.720082</td>\n",
       "      <td>frozenset({(1, 0), (4, 0), (2, 0), (3, 0)})</td>\n",
       "      <td>...</td>\n",
       "      <td>{\"nnz\": 4, \"fdr\": 0.5, \"tpr\": 0.5, \"fpr\": 0.33...</td>\n",
       "      <td>5</td>\n",
       "      <td>cancer</td>\n",
       "      <td>3578</td>\n",
       "      <td>True</td>\n",
       "      <td>True</td>\n",
       "      <td>True</td>\n",
       "      <td>True</td>\n",
       "      <td>True</td>\n",
       "      <td>True</td>\n",
       "    </tr>\n",
       "    <tr>\n",
       "      <th>2</th>\n",
       "      <td>0.113103</td>\n",
       "      <td>frozenset({(1, 0), (4, 0), (3, 0)})</td>\n",
       "      <td>12.126952</td>\n",
       "      <td>22</td>\n",
       "      <td>16</td>\n",
       "      <td>1</td>\n",
       "      <td>{\"nnz\": 3, \"fdr\": 0.6667, \"tpr\": 0.25, \"fpr\": ...</td>\n",
       "      <td>{\"nnz\": 3, \"fdr\": 0.6667, \"tpr\": 0.25, \"fpr\": ...</td>\n",
       "      <td>0.139185</td>\n",
       "      <td>frozenset({(1, 0), (4, 0), (3, 0)})</td>\n",
       "      <td>...</td>\n",
       "      <td>{\"nnz\": 3, \"fdr\": 0.6667, \"tpr\": 0.25, \"fpr\": ...</td>\n",
       "      <td>5</td>\n",
       "      <td>cancer</td>\n",
       "      <td>2656</td>\n",
       "      <td>True</td>\n",
       "      <td>True</td>\n",
       "      <td>True</td>\n",
       "      <td>True</td>\n",
       "      <td>True</td>\n",
       "      <td>True</td>\n",
       "    </tr>\n",
       "    <tr>\n",
       "      <th>3</th>\n",
       "      <td>0.493033</td>\n",
       "      <td>frozenset({(1, 0), (4, 0), (2, 0), (3, 0)})</td>\n",
       "      <td>17.130010</td>\n",
       "      <td>44</td>\n",
       "      <td>17</td>\n",
       "      <td>9</td>\n",
       "      <td>{\"nnz\": 4, \"fdr\": 0.5, \"tpr\": 0.5, \"fpr\": 0.33...</td>\n",
       "      <td>{\"nnz\": 4, \"fdr\": 0.5, \"tpr\": 0.5, \"fpr\": 0.33...</td>\n",
       "      <td>0.627338</td>\n",
       "      <td>frozenset({(1, 0), (4, 0), (2, 0), (3, 0)})</td>\n",
       "      <td>...</td>\n",
       "      <td>{\"nnz\": 4, \"fdr\": 0.5, \"tpr\": 0.5, \"fpr\": 0.33...</td>\n",
       "      <td>5</td>\n",
       "      <td>cancer</td>\n",
       "      <td>2688</td>\n",
       "      <td>True</td>\n",
       "      <td>True</td>\n",
       "      <td>True</td>\n",
       "      <td>True</td>\n",
       "      <td>True</td>\n",
       "      <td>True</td>\n",
       "    </tr>\n",
       "    <tr>\n",
       "      <th>4</th>\n",
       "      <td>0.562292</td>\n",
       "      <td>frozenset({(1, 0), (4, 0), (2, 0), (3, 0)})</td>\n",
       "      <td>17.174563</td>\n",
       "      <td>44</td>\n",
       "      <td>19</td>\n",
       "      <td>35</td>\n",
       "      <td>{\"nnz\": 4, \"fdr\": 0.5, \"tpr\": 0.5, \"fpr\": 0.33...</td>\n",
       "      <td>{\"nnz\": 4, \"fdr\": 0.5, \"tpr\": 0.5, \"fpr\": 0.33...</td>\n",
       "      <td>0.851030</td>\n",
       "      <td>frozenset({(1, 0), (4, 0), (2, 0), (3, 0)})</td>\n",
       "      <td>...</td>\n",
       "      <td>{\"nnz\": 4, \"fdr\": 0.5, \"tpr\": 0.5, \"fpr\": 0.33...</td>\n",
       "      <td>5</td>\n",
       "      <td>cancer</td>\n",
       "      <td>2494</td>\n",
       "      <td>True</td>\n",
       "      <td>True</td>\n",
       "      <td>True</td>\n",
       "      <td>True</td>\n",
       "      <td>True</td>\n",
       "      <td>True</td>\n",
       "    </tr>\n",
       "  </tbody>\n",
       "</table>\n",
       "<p>5 rows × 33 columns</p>\n",
       "</div>"
      ],
      "text/plain": [
       "   ST_elapsed                                ST_best_model  ST_best_I  \\\n",
       "0    0.956382  frozenset({(1, 0), (4, 0), (2, 0), (3, 0)})  17.537315   \n",
       "1    0.544168  frozenset({(1, 0), (4, 0), (2, 0), (3, 0)})  17.095751   \n",
       "2    0.113103          frozenset({(1, 0), (4, 0), (3, 0)})  12.126952   \n",
       "3    0.493033  frozenset({(1, 0), (4, 0), (2, 0), (3, 0)})  17.130010   \n",
       "4    0.562292  frozenset({(1, 0), (4, 0), (2, 0), (3, 0)})  17.174563   \n",
       "\n",
       "   ST_total_num_facts  ST_used_num_facts  ST_num_models  \\\n",
       "0                  44                 18            143   \n",
       "1                  44                 19             19   \n",
       "2                  22                 16              1   \n",
       "3                  44                 17              9   \n",
       "4                  44                 19             35   \n",
       "\n",
       "                                           ST_mt_dag  \\\n",
       "0  {\"nnz\": 4, \"fdr\": 0.5, \"tpr\": 0.5, \"fpr\": 0.33...   \n",
       "1  {\"nnz\": 4, \"fdr\": 0.5, \"tpr\": 0.5, \"fpr\": 0.33...   \n",
       "2  {\"nnz\": 3, \"fdr\": 0.6667, \"tpr\": 0.25, \"fpr\": ...   \n",
       "3  {\"nnz\": 4, \"fdr\": 0.5, \"tpr\": 0.5, \"fpr\": 0.33...   \n",
       "4  {\"nnz\": 4, \"fdr\": 0.5, \"tpr\": 0.5, \"fpr\": 0.33...   \n",
       "\n",
       "                                         ST_mt_cpdag  CO_elapsed  \\\n",
       "0  {\"nnz\": 4, \"fdr\": 0.5, \"tpr\": 0.5, \"fpr\": 0.33...    2.938993   \n",
       "1  {\"nnz\": 4, \"fdr\": 0.5, \"tpr\": 0.5, \"fpr\": 0.33...    0.720082   \n",
       "2  {\"nnz\": 3, \"fdr\": 0.6667, \"tpr\": 0.25, \"fpr\": ...    0.139185   \n",
       "3  {\"nnz\": 4, \"fdr\": 0.5, \"tpr\": 0.5, \"fpr\": 0.33...    0.627338   \n",
       "4  {\"nnz\": 4, \"fdr\": 0.5, \"tpr\": 0.5, \"fpr\": 0.33...    0.851030   \n",
       "\n",
       "                                 CO_best_model  ...  \\\n",
       "0  frozenset({(1, 0), (4, 0), (2, 0), (3, 0)})  ...   \n",
       "1  frozenset({(1, 0), (4, 0), (2, 0), (3, 0)})  ...   \n",
       "2          frozenset({(1, 0), (4, 0), (3, 0)})  ...   \n",
       "3  frozenset({(1, 0), (4, 0), (2, 0), (3, 0)})  ...   \n",
       "4  frozenset({(1, 0), (4, 0), (2, 0), (3, 0)})  ...   \n",
       "\n",
       "                                     CO_MAX_mt_cpdag  n_nodes  dataset_name  \\\n",
       "0  {\"nnz\": 4, \"fdr\": 0.5, \"tpr\": 0.5, \"fpr\": 0.33...        5        cancer   \n",
       "1  {\"nnz\": 4, \"fdr\": 0.5, \"tpr\": 0.5, \"fpr\": 0.33...        5        cancer   \n",
       "2  {\"nnz\": 3, \"fdr\": 0.6667, \"tpr\": 0.25, \"fpr\": ...        5        cancer   \n",
       "3  {\"nnz\": 4, \"fdr\": 0.5, \"tpr\": 0.5, \"fpr\": 0.33...        5        cancer   \n",
       "4  {\"nnz\": 4, \"fdr\": 0.5, \"tpr\": 0.5, \"fpr\": 0.33...        5        cancer   \n",
       "\n",
       "   seed is_best_st_in_all_co is_best_st_in_all_pr  is_best_pr_in_all_co  \\\n",
       "0  7816                 True                 True                  True   \n",
       "1  3578                 True                 True                  True   \n",
       "2  2656                 True                 True                  True   \n",
       "3  2688                 True                 True                  True   \n",
       "4  2494                 True                 True                  True   \n",
       "\n",
       "  is_all_st_subset_of_all_co  is_all_st_subset_of_all_pr  \\\n",
       "0                       True                        True   \n",
       "1                       True                        True   \n",
       "2                       True                        True   \n",
       "3                       True                        True   \n",
       "4                       True                        True   \n",
       "\n",
       "   is_all_pr_subset_of_all_co  \n",
       "0                        True  \n",
       "1                        True  \n",
       "2                        True  \n",
       "3                        True  \n",
       "4                        True  \n",
       "\n",
       "[5 rows x 33 columns]"
      ]
     },
     "execution_count": 4,
     "metadata": {},
     "output_type": "execute_result"
    }
   ],
   "source": [
    "bnlearn_compare = pd.read_csv('../../results/extension_based_semantics/compare_semantics_bnlearn.csv')\n",
    "bnlearn_compare.rename(\n",
    "    columns={\n",
    "        # Rename columns for clarity, the PR actually refers to maximally complete, not preferred\n",
    "        col: col.replace('PR', 'CO_MAX') for col in bnlearn_compare.columns if 'PR' in col\n",
    "    }, inplace=True\n",
    ")\n",
    "bnlearn_compare.head()"
   ]
  },
  {
   "cell_type": "code",
   "execution_count": 5,
   "metadata": {},
   "outputs": [
    {
     "data": {
      "text/plain": [
       "Index(['ST_elapsed', 'ST_best_model', 'ST_best_I', 'ST_total_num_facts',\n",
       "       'ST_used_num_facts', 'ST_num_models', 'CO_elapsed', 'CO_best_model',\n",
       "       'CO_best_I', 'CO_total_num_facts', 'CO_used_num_facts', 'CO_num_models',\n",
       "       'CO_MAX_elapsed', 'CO_MAX_best_model', 'CO_MAX_best_I',\n",
       "       'CO_MAX_total_num_facts', 'CO_MAX_used_num_facts', 'CO_MAX_num_models',\n",
       "       'abapc_existing_elapsed', 'n_nodes', 'n_edges', 'seed',\n",
       "       'is_best_st_in_all_co', 'is_best_st_in_all_pr', 'is_best_pr_in_all_co',\n",
       "       'is_all_st_subset_of_all_co', 'is_all_st_subset_of_all_pr',\n",
       "       'is_all_pr_subset_of_all_co'],\n",
       "      dtype='object')"
      ]
     },
     "execution_count": 5,
     "metadata": {},
     "output_type": "execute_result"
    }
   ],
   "source": [
    "random_graphs_compare.columns"
   ]
  },
  {
   "cell_type": "code",
   "execution_count": 6,
   "id": "1236e0a7",
   "metadata": {},
   "outputs": [
    {
     "data": {
      "text/plain": [
       "Index(['ST_elapsed', 'ST_best_model', 'ST_best_I', 'ST_total_num_facts',\n",
       "       'ST_used_num_facts', 'ST_num_models', 'ST_mt_dag', 'ST_mt_cpdag',\n",
       "       'CO_elapsed', 'CO_best_model', 'CO_best_I', 'CO_total_num_facts',\n",
       "       'CO_used_num_facts', 'CO_num_models', 'CO_mt_dag', 'CO_mt_cpdag',\n",
       "       'CO_MAX_elapsed', 'CO_MAX_best_model', 'CO_MAX_best_I',\n",
       "       'CO_MAX_total_num_facts', 'CO_MAX_used_num_facts', 'CO_MAX_num_models',\n",
       "       'CO_MAX_mt_dag', 'CO_MAX_mt_cpdag', 'n_nodes', 'dataset_name', 'seed',\n",
       "       'is_best_st_in_all_co', 'is_best_st_in_all_pr', 'is_best_pr_in_all_co',\n",
       "       'is_all_st_subset_of_all_co', 'is_all_st_subset_of_all_pr',\n",
       "       'is_all_pr_subset_of_all_co'],\n",
       "      dtype='object')"
      ]
     },
     "execution_count": 6,
     "metadata": {},
     "output_type": "execute_result"
    }
   ],
   "source": [
    "bnlearn_compare.columns"
   ]
  },
  {
   "cell_type": "markdown",
   "id": "2b189d0b",
   "metadata": {},
   "source": [
    "# Runtime"
   ]
  },
  {
   "cell_type": "code",
   "execution_count": 7,
   "id": "844df9b0",
   "metadata": {},
   "outputs": [],
   "source": [
    "runtime_df = random_graphs_compare.groupby(['n_nodes', 'n_edges'], as_index=False).agg(\n",
    "    ST_elapsed_mean=('ST_elapsed', 'mean'),\n",
    "    ST_elapsed_std=('ST_elapsed', 'std'),\n",
    "    CO_elapsed_mean=('CO_elapsed', 'mean'),\n",
    "    CO_elapsed_std=('CO_elapsed', 'std'),\n",
    "    CO_MAX_elapsed_mean=('CO_MAX_elapsed', 'mean'),\n",
    "    CO_MAX_elapsed_std=('CO_MAX_elapsed', 'std'),\n",
    "    existing_elapsed_mean=('abapc_existing_elapsed', 'mean'),\n",
    "    existing_elapsed_std=('abapc_existing_elapsed', 'std'),\n",
    ")"
   ]
  },
  {
   "cell_type": "code",
   "execution_count": 8,
   "id": "29394d35",
   "metadata": {},
   "outputs": [],
   "source": [
    "import plotly.graph_objects as go\n",
    "from plotly.subplots import make_subplots\n",
    "\n",
    "def plot_runtime_custom(df, plot_width=750, plot_height=300, font_size=20, save_figs=False, output_name=\"random_graphs_runtime.html\"):\n",
    "\n",
    "    fig = make_subplots(rows=1, cols=1, shared_yaxes=True)\n",
    "    colors = ['red', 'blue', 'green', 'orange']\n",
    "    semantics = ['ST', 'CO', 'CO_MAX', 'existing']\n",
    "    name_mapping = {\n",
    "        'ST': 'ST',\n",
    "        'CO': 'CO',\n",
    "        'CO_MAX': 'CO-max',\n",
    "        'existing': 'ST (with Existing Implementation)'\n",
    "    }\n",
    "    for color, sem in zip(colors, semantics):\n",
    "        fig.add_trace(\n",
    "            go.Scatter(\n",
    "                x=df['n_nodes'].astype(str),\n",
    "                y=df[f'{sem}_elapsed_mean'],\n",
    "                error_y=dict(type='data', array=df[f'{sem}_elapsed_std'], thickness=2),\n",
    "                mode='lines+markers',\n",
    "                name=name_mapping[sem],\n",
    "                line=dict(color=color, width=2),\n",
    "                marker=dict(symbol='circle', size=8, color=color),\n",
    "                opacity=0.8,\n",
    "            )\n",
    "        )\n",
    "\n",
    "\n",
    "    # Log scale for y-axis\n",
    "    fig.update_yaxes(type=\"log\", title='log(elapsed time [s])')\n",
    "\n",
    "    # X axis title\n",
    "    fig.update_xaxes(title='Number of Nodes (|V|)')\n",
    "\n",
    "    # Layout and style\n",
    "    fig.update_layout(\n",
    "        legend=dict(orientation=\"h\", xanchor=\"center\", x=0.5, yanchor=\"bottom\", y=1.05),\n",
    "        template='plotly_white',\n",
    "        width=plot_width,\n",
    "        height=plot_height,\n",
    "        margin=dict(l=10, r=10, b=80, t=10),\n",
    "        font=dict(size=font_size, family=\"Serif\", color=\"black\")\n",
    "    )\n",
    "\n",
    "    if save_figs:\n",
    "        fig.write_html(output_name)\n",
    "        fig.write_image(output_name.replace('.html', '.jpeg'), scale=2)\n",
    "\n",
    "    fig.show()\n"
   ]
  },
  {
   "cell_type": "code",
   "execution_count": 9,
   "id": "82fc39f4",
   "metadata": {},
   "outputs": [
    {
     "data": {
      "application/vnd.plotly.v1+json": {
       "config": {
        "plotlyServerURL": "https://plot.ly"
       },
       "data": [
        {
         "error_y": {
          "array": {
           "bdata": "FOSiFTLhlT/H7+L5dm+hP+UvhPvspN4/44G5HNnYTEA=",
           "dtype": "f8"
          },
          "thickness": 2,
          "type": "data"
         },
         "line": {
          "color": "red",
          "width": 2
         },
         "marker": {
          "color": "red",
          "size": 8,
          "symbol": "circle"
         },
         "mode": "lines+markers",
         "name": "ST",
         "opacity": 0.8,
         "type": "scatter",
         "x": [
          "3",
          "4",
          "5",
          "6"
         ],
         "y": {
          "bdata": "/dajcNVPkD/GzMzMVMSsPylcj8KMtN0/UrgeI1VuNUA=",
          "dtype": "f8"
         }
        },
        {
         "error_y": {
          "array": {
           "bdata": "EIEWhoLhlj+QKS/hkKKrP8zPgRl53wJAZ+/yaSOvYEA=",
           "dtype": "f8"
          },
          "thickness": 2,
          "type": "data"
         },
         "line": {
          "color": "blue",
          "width": 2
         },
         "marker": {
          "color": "blue",
          "size": 8,
          "symbol": "circle"
         },
         "mode": "lines+markers",
         "name": "CO",
         "opacity": 0.8,
         "type": "scatter",
         "x": [
          "3",
          "4",
          "5",
          "6"
         ],
         "y": {
          "bdata": "VY/C9YRuoj/fehSurd62Px+F6zFmg/M/exSuJw4DTkA=",
          "dtype": "f8"
         }
        },
        {
         "error_y": {
          "array": {
           "bdata": "SOcsYbA7iz8zNr6+KeamP159oLiSh+s/kuVBEp4MdEA=",
           "dtype": "f8"
          },
          "thickness": 2,
          "type": "data"
         },
         "line": {
          "color": "green",
          "width": 2
         },
         "marker": {
          "color": "green",
          "size": 8,
          "symbol": "circle"
         },
         "mode": "lines+markers",
         "name": "CO-max",
         "opacity": 0.8,
         "type": "scatter",
         "x": [
          "3",
          "4",
          "5",
          "6"
         ],
         "y": {
          "bdata": "Ba5H4UrlmD9PuB6FAyGzP4XrUfiKbOY/w/Uo3Ic/UkA=",
          "dtype": "f8"
         }
        },
        {
         "error_y": {
          "array": {
           "bdata": "kBrsYkzbpD/TWlnh7UfFP6ZUW0sW5N4/BeDO5uoVMkA=",
           "dtype": "f8"
          },
          "thickness": 2,
          "type": "data"
         },
         "line": {
          "color": "orange",
          "width": 2
         },
         "marker": {
          "color": "orange",
          "size": 8,
          "symbol": "circle"
         },
         "mode": "lines+markers",
         "name": "ST (with Existing Implementation)",
         "opacity": 0.8,
         "type": "scatter",
         "x": [
          "3",
          "4",
          "5",
          "6"
         ],
         "y": {
          "bdata": "W4/C9TUiyj+PwvUoFsvZP65H4TpJTOg/AAAAGCWKH0A=",
          "dtype": "f8"
         }
        }
       ],
       "layout": {
        "font": {
         "color": "black",
         "family": "Serif",
         "size": 20
        },
        "height": 300,
        "legend": {
         "orientation": "h",
         "x": 0.5,
         "xanchor": "center",
         "y": 1.05,
         "yanchor": "bottom"
        },
        "margin": {
         "b": 80,
         "l": 10,
         "r": 10,
         "t": 10
        },
        "template": {
         "data": {
          "bar": [
           {
            "error_x": {
             "color": "#2a3f5f"
            },
            "error_y": {
             "color": "#2a3f5f"
            },
            "marker": {
             "line": {
              "color": "white",
              "width": 0.5
             },
             "pattern": {
              "fillmode": "overlay",
              "size": 10,
              "solidity": 0.2
             }
            },
            "type": "bar"
           }
          ],
          "barpolar": [
           {
            "marker": {
             "line": {
              "color": "white",
              "width": 0.5
             },
             "pattern": {
              "fillmode": "overlay",
              "size": 10,
              "solidity": 0.2
             }
            },
            "type": "barpolar"
           }
          ],
          "carpet": [
           {
            "aaxis": {
             "endlinecolor": "#2a3f5f",
             "gridcolor": "#C8D4E3",
             "linecolor": "#C8D4E3",
             "minorgridcolor": "#C8D4E3",
             "startlinecolor": "#2a3f5f"
            },
            "baxis": {
             "endlinecolor": "#2a3f5f",
             "gridcolor": "#C8D4E3",
             "linecolor": "#C8D4E3",
             "minorgridcolor": "#C8D4E3",
             "startlinecolor": "#2a3f5f"
            },
            "type": "carpet"
           }
          ],
          "choropleth": [
           {
            "colorbar": {
             "outlinewidth": 0,
             "ticks": ""
            },
            "type": "choropleth"
           }
          ],
          "contour": [
           {
            "colorbar": {
             "outlinewidth": 0,
             "ticks": ""
            },
            "colorscale": [
             [
              0,
              "#0d0887"
             ],
             [
              0.1111111111111111,
              "#46039f"
             ],
             [
              0.2222222222222222,
              "#7201a8"
             ],
             [
              0.3333333333333333,
              "#9c179e"
             ],
             [
              0.4444444444444444,
              "#bd3786"
             ],
             [
              0.5555555555555556,
              "#d8576b"
             ],
             [
              0.6666666666666666,
              "#ed7953"
             ],
             [
              0.7777777777777778,
              "#fb9f3a"
             ],
             [
              0.8888888888888888,
              "#fdca26"
             ],
             [
              1,
              "#f0f921"
             ]
            ],
            "type": "contour"
           }
          ],
          "contourcarpet": [
           {
            "colorbar": {
             "outlinewidth": 0,
             "ticks": ""
            },
            "type": "contourcarpet"
           }
          ],
          "heatmap": [
           {
            "colorbar": {
             "outlinewidth": 0,
             "ticks": ""
            },
            "colorscale": [
             [
              0,
              "#0d0887"
             ],
             [
              0.1111111111111111,
              "#46039f"
             ],
             [
              0.2222222222222222,
              "#7201a8"
             ],
             [
              0.3333333333333333,
              "#9c179e"
             ],
             [
              0.4444444444444444,
              "#bd3786"
             ],
             [
              0.5555555555555556,
              "#d8576b"
             ],
             [
              0.6666666666666666,
              "#ed7953"
             ],
             [
              0.7777777777777778,
              "#fb9f3a"
             ],
             [
              0.8888888888888888,
              "#fdca26"
             ],
             [
              1,
              "#f0f921"
             ]
            ],
            "type": "heatmap"
           }
          ],
          "histogram": [
           {
            "marker": {
             "pattern": {
              "fillmode": "overlay",
              "size": 10,
              "solidity": 0.2
             }
            },
            "type": "histogram"
           }
          ],
          "histogram2d": [
           {
            "colorbar": {
             "outlinewidth": 0,
             "ticks": ""
            },
            "colorscale": [
             [
              0,
              "#0d0887"
             ],
             [
              0.1111111111111111,
              "#46039f"
             ],
             [
              0.2222222222222222,
              "#7201a8"
             ],
             [
              0.3333333333333333,
              "#9c179e"
             ],
             [
              0.4444444444444444,
              "#bd3786"
             ],
             [
              0.5555555555555556,
              "#d8576b"
             ],
             [
              0.6666666666666666,
              "#ed7953"
             ],
             [
              0.7777777777777778,
              "#fb9f3a"
             ],
             [
              0.8888888888888888,
              "#fdca26"
             ],
             [
              1,
              "#f0f921"
             ]
            ],
            "type": "histogram2d"
           }
          ],
          "histogram2dcontour": [
           {
            "colorbar": {
             "outlinewidth": 0,
             "ticks": ""
            },
            "colorscale": [
             [
              0,
              "#0d0887"
             ],
             [
              0.1111111111111111,
              "#46039f"
             ],
             [
              0.2222222222222222,
              "#7201a8"
             ],
             [
              0.3333333333333333,
              "#9c179e"
             ],
             [
              0.4444444444444444,
              "#bd3786"
             ],
             [
              0.5555555555555556,
              "#d8576b"
             ],
             [
              0.6666666666666666,
              "#ed7953"
             ],
             [
              0.7777777777777778,
              "#fb9f3a"
             ],
             [
              0.8888888888888888,
              "#fdca26"
             ],
             [
              1,
              "#f0f921"
             ]
            ],
            "type": "histogram2dcontour"
           }
          ],
          "mesh3d": [
           {
            "colorbar": {
             "outlinewidth": 0,
             "ticks": ""
            },
            "type": "mesh3d"
           }
          ],
          "parcoords": [
           {
            "line": {
             "colorbar": {
              "outlinewidth": 0,
              "ticks": ""
             }
            },
            "type": "parcoords"
           }
          ],
          "pie": [
           {
            "automargin": true,
            "type": "pie"
           }
          ],
          "scatter": [
           {
            "fillpattern": {
             "fillmode": "overlay",
             "size": 10,
             "solidity": 0.2
            },
            "type": "scatter"
           }
          ],
          "scatter3d": [
           {
            "line": {
             "colorbar": {
              "outlinewidth": 0,
              "ticks": ""
             }
            },
            "marker": {
             "colorbar": {
              "outlinewidth": 0,
              "ticks": ""
             }
            },
            "type": "scatter3d"
           }
          ],
          "scattercarpet": [
           {
            "marker": {
             "colorbar": {
              "outlinewidth": 0,
              "ticks": ""
             }
            },
            "type": "scattercarpet"
           }
          ],
          "scattergeo": [
           {
            "marker": {
             "colorbar": {
              "outlinewidth": 0,
              "ticks": ""
             }
            },
            "type": "scattergeo"
           }
          ],
          "scattergl": [
           {
            "marker": {
             "colorbar": {
              "outlinewidth": 0,
              "ticks": ""
             }
            },
            "type": "scattergl"
           }
          ],
          "scattermap": [
           {
            "marker": {
             "colorbar": {
              "outlinewidth": 0,
              "ticks": ""
             }
            },
            "type": "scattermap"
           }
          ],
          "scattermapbox": [
           {
            "marker": {
             "colorbar": {
              "outlinewidth": 0,
              "ticks": ""
             }
            },
            "type": "scattermapbox"
           }
          ],
          "scatterpolar": [
           {
            "marker": {
             "colorbar": {
              "outlinewidth": 0,
              "ticks": ""
             }
            },
            "type": "scatterpolar"
           }
          ],
          "scatterpolargl": [
           {
            "marker": {
             "colorbar": {
              "outlinewidth": 0,
              "ticks": ""
             }
            },
            "type": "scatterpolargl"
           }
          ],
          "scatterternary": [
           {
            "marker": {
             "colorbar": {
              "outlinewidth": 0,
              "ticks": ""
             }
            },
            "type": "scatterternary"
           }
          ],
          "surface": [
           {
            "colorbar": {
             "outlinewidth": 0,
             "ticks": ""
            },
            "colorscale": [
             [
              0,
              "#0d0887"
             ],
             [
              0.1111111111111111,
              "#46039f"
             ],
             [
              0.2222222222222222,
              "#7201a8"
             ],
             [
              0.3333333333333333,
              "#9c179e"
             ],
             [
              0.4444444444444444,
              "#bd3786"
             ],
             [
              0.5555555555555556,
              "#d8576b"
             ],
             [
              0.6666666666666666,
              "#ed7953"
             ],
             [
              0.7777777777777778,
              "#fb9f3a"
             ],
             [
              0.8888888888888888,
              "#fdca26"
             ],
             [
              1,
              "#f0f921"
             ]
            ],
            "type": "surface"
           }
          ],
          "table": [
           {
            "cells": {
             "fill": {
              "color": "#EBF0F8"
             },
             "line": {
              "color": "white"
             }
            },
            "header": {
             "fill": {
              "color": "#C8D4E3"
             },
             "line": {
              "color": "white"
             }
            },
            "type": "table"
           }
          ]
         },
         "layout": {
          "annotationdefaults": {
           "arrowcolor": "#2a3f5f",
           "arrowhead": 0,
           "arrowwidth": 1
          },
          "autotypenumbers": "strict",
          "coloraxis": {
           "colorbar": {
            "outlinewidth": 0,
            "ticks": ""
           }
          },
          "colorscale": {
           "diverging": [
            [
             0,
             "#8e0152"
            ],
            [
             0.1,
             "#c51b7d"
            ],
            [
             0.2,
             "#de77ae"
            ],
            [
             0.3,
             "#f1b6da"
            ],
            [
             0.4,
             "#fde0ef"
            ],
            [
             0.5,
             "#f7f7f7"
            ],
            [
             0.6,
             "#e6f5d0"
            ],
            [
             0.7,
             "#b8e186"
            ],
            [
             0.8,
             "#7fbc41"
            ],
            [
             0.9,
             "#4d9221"
            ],
            [
             1,
             "#276419"
            ]
           ],
           "sequential": [
            [
             0,
             "#0d0887"
            ],
            [
             0.1111111111111111,
             "#46039f"
            ],
            [
             0.2222222222222222,
             "#7201a8"
            ],
            [
             0.3333333333333333,
             "#9c179e"
            ],
            [
             0.4444444444444444,
             "#bd3786"
            ],
            [
             0.5555555555555556,
             "#d8576b"
            ],
            [
             0.6666666666666666,
             "#ed7953"
            ],
            [
             0.7777777777777778,
             "#fb9f3a"
            ],
            [
             0.8888888888888888,
             "#fdca26"
            ],
            [
             1,
             "#f0f921"
            ]
           ],
           "sequentialminus": [
            [
             0,
             "#0d0887"
            ],
            [
             0.1111111111111111,
             "#46039f"
            ],
            [
             0.2222222222222222,
             "#7201a8"
            ],
            [
             0.3333333333333333,
             "#9c179e"
            ],
            [
             0.4444444444444444,
             "#bd3786"
            ],
            [
             0.5555555555555556,
             "#d8576b"
            ],
            [
             0.6666666666666666,
             "#ed7953"
            ],
            [
             0.7777777777777778,
             "#fb9f3a"
            ],
            [
             0.8888888888888888,
             "#fdca26"
            ],
            [
             1,
             "#f0f921"
            ]
           ]
          },
          "colorway": [
           "#636efa",
           "#EF553B",
           "#00cc96",
           "#ab63fa",
           "#FFA15A",
           "#19d3f3",
           "#FF6692",
           "#B6E880",
           "#FF97FF",
           "#FECB52"
          ],
          "font": {
           "color": "#2a3f5f"
          },
          "geo": {
           "bgcolor": "white",
           "lakecolor": "white",
           "landcolor": "white",
           "showlakes": true,
           "showland": true,
           "subunitcolor": "#C8D4E3"
          },
          "hoverlabel": {
           "align": "left"
          },
          "hovermode": "closest",
          "mapbox": {
           "style": "light"
          },
          "paper_bgcolor": "white",
          "plot_bgcolor": "white",
          "polar": {
           "angularaxis": {
            "gridcolor": "#EBF0F8",
            "linecolor": "#EBF0F8",
            "ticks": ""
           },
           "bgcolor": "white",
           "radialaxis": {
            "gridcolor": "#EBF0F8",
            "linecolor": "#EBF0F8",
            "ticks": ""
           }
          },
          "scene": {
           "xaxis": {
            "backgroundcolor": "white",
            "gridcolor": "#DFE8F3",
            "gridwidth": 2,
            "linecolor": "#EBF0F8",
            "showbackground": true,
            "ticks": "",
            "zerolinecolor": "#EBF0F8"
           },
           "yaxis": {
            "backgroundcolor": "white",
            "gridcolor": "#DFE8F3",
            "gridwidth": 2,
            "linecolor": "#EBF0F8",
            "showbackground": true,
            "ticks": "",
            "zerolinecolor": "#EBF0F8"
           },
           "zaxis": {
            "backgroundcolor": "white",
            "gridcolor": "#DFE8F3",
            "gridwidth": 2,
            "linecolor": "#EBF0F8",
            "showbackground": true,
            "ticks": "",
            "zerolinecolor": "#EBF0F8"
           }
          },
          "shapedefaults": {
           "line": {
            "color": "#2a3f5f"
           }
          },
          "ternary": {
           "aaxis": {
            "gridcolor": "#DFE8F3",
            "linecolor": "#A2B1C6",
            "ticks": ""
           },
           "baxis": {
            "gridcolor": "#DFE8F3",
            "linecolor": "#A2B1C6",
            "ticks": ""
           },
           "bgcolor": "white",
           "caxis": {
            "gridcolor": "#DFE8F3",
            "linecolor": "#A2B1C6",
            "ticks": ""
           }
          },
          "title": {
           "x": 0.05
          },
          "xaxis": {
           "automargin": true,
           "gridcolor": "#EBF0F8",
           "linecolor": "#EBF0F8",
           "ticks": "",
           "title": {
            "standoff": 15
           },
           "zerolinecolor": "#EBF0F8",
           "zerolinewidth": 2
          },
          "yaxis": {
           "automargin": true,
           "gridcolor": "#EBF0F8",
           "linecolor": "#EBF0F8",
           "ticks": "",
           "title": {
            "standoff": 15
           },
           "zerolinecolor": "#EBF0F8",
           "zerolinewidth": 2
          }
         }
        },
        "width": 750,
        "xaxis": {
         "anchor": "y",
         "domain": [
          0,
          1
         ],
         "title": {
          "text": "Number of Nodes (|V|)"
         }
        },
        "yaxis": {
         "anchor": "x",
         "domain": [
          0,
          1
         ],
         "title": {
          "text": "log(elapsed time [s])"
         },
         "type": "log"
        }
       }
      }
     },
     "metadata": {},
     "output_type": "display_data"
    }
   ],
   "source": [
    "plot_runtime_custom(runtime_df, save_figs=True, output_name='runtime_random_graphs.html')"
   ]
  },
  {
   "cell_type": "markdown",
   "id": "887adc4a",
   "metadata": {},
   "source": [
    "# SID"
   ]
  },
  {
   "cell_type": "code",
   "execution_count": 10,
   "id": "9866c8ea",
   "metadata": {},
   "outputs": [
    {
     "data": {
      "text/html": [
       "<div>\n",
       "<style scoped>\n",
       "    .dataframe tbody tr th:only-of-type {\n",
       "        vertical-align: middle;\n",
       "    }\n",
       "\n",
       "    .dataframe tbody tr th {\n",
       "        vertical-align: top;\n",
       "    }\n",
       "\n",
       "    .dataframe thead th {\n",
       "        text-align: right;\n",
       "    }\n",
       "</style>\n",
       "<table border=\"1\" class=\"dataframe\">\n",
       "  <thead>\n",
       "    <tr style=\"text-align: right;\">\n",
       "      <th></th>\n",
       "      <th>dataset</th>\n",
       "      <th>model</th>\n",
       "      <th>sid_low_mean</th>\n",
       "      <th>sid_low_std</th>\n",
       "      <th>sid_high_mean</th>\n",
       "      <th>sid_high_std</th>\n",
       "    </tr>\n",
       "  </thead>\n",
       "  <tbody>\n",
       "    <tr>\n",
       "      <th>0</th>\n",
       "      <td>cancer</td>\n",
       "      <td>ABAPC (New CO)</td>\n",
       "      <td>9.74</td>\n",
       "      <td>1.482001</td>\n",
       "      <td>10.64</td>\n",
       "      <td>1.535432</td>\n",
       "    </tr>\n",
       "    <tr>\n",
       "      <th>1</th>\n",
       "      <td>cancer</td>\n",
       "      <td>ABAPC (New CO_MAX)</td>\n",
       "      <td>9.74</td>\n",
       "      <td>1.482001</td>\n",
       "      <td>10.64</td>\n",
       "      <td>1.535432</td>\n",
       "    </tr>\n",
       "    <tr>\n",
       "      <th>2</th>\n",
       "      <td>cancer</td>\n",
       "      <td>ABAPC (New ST)</td>\n",
       "      <td>9.74</td>\n",
       "      <td>1.482001</td>\n",
       "      <td>10.64</td>\n",
       "      <td>1.535432</td>\n",
       "    </tr>\n",
       "    <tr>\n",
       "      <th>3</th>\n",
       "      <td>earthquake</td>\n",
       "      <td>ABAPC (New CO)</td>\n",
       "      <td>0.00</td>\n",
       "      <td>0.000000</td>\n",
       "      <td>9.32</td>\n",
       "      <td>4.542048</td>\n",
       "    </tr>\n",
       "    <tr>\n",
       "      <th>4</th>\n",
       "      <td>earthquake</td>\n",
       "      <td>ABAPC (New CO_MAX)</td>\n",
       "      <td>0.00</td>\n",
       "      <td>0.000000</td>\n",
       "      <td>9.40</td>\n",
       "      <td>4.659859</td>\n",
       "    </tr>\n",
       "    <tr>\n",
       "      <th>5</th>\n",
       "      <td>earthquake</td>\n",
       "      <td>ABAPC (New ST)</td>\n",
       "      <td>0.00</td>\n",
       "      <td>0.000000</td>\n",
       "      <td>9.32</td>\n",
       "      <td>4.542048</td>\n",
       "    </tr>\n",
       "    <tr>\n",
       "      <th>6</th>\n",
       "      <td>survey</td>\n",
       "      <td>ABAPC (New CO)</td>\n",
       "      <td>15.16</td>\n",
       "      <td>3.688703</td>\n",
       "      <td>16.78</td>\n",
       "      <td>3.424343</td>\n",
       "    </tr>\n",
       "    <tr>\n",
       "      <th>7</th>\n",
       "      <td>survey</td>\n",
       "      <td>ABAPC (New CO_MAX)</td>\n",
       "      <td>15.04</td>\n",
       "      <td>3.703060</td>\n",
       "      <td>16.62</td>\n",
       "      <td>3.504458</td>\n",
       "    </tr>\n",
       "    <tr>\n",
       "      <th>8</th>\n",
       "      <td>survey</td>\n",
       "      <td>ABAPC (New ST)</td>\n",
       "      <td>14.62</td>\n",
       "      <td>3.349627</td>\n",
       "      <td>16.12</td>\n",
       "      <td>2.946045</td>\n",
       "    </tr>\n",
       "  </tbody>\n",
       "</table>\n",
       "</div>"
      ],
      "text/plain": [
       "      dataset               model  sid_low_mean  sid_low_std  sid_high_mean  \\\n",
       "0      cancer      ABAPC (New CO)          9.74     1.482001          10.64   \n",
       "1      cancer  ABAPC (New CO_MAX)          9.74     1.482001          10.64   \n",
       "2      cancer      ABAPC (New ST)          9.74     1.482001          10.64   \n",
       "3  earthquake      ABAPC (New CO)          0.00     0.000000           9.32   \n",
       "4  earthquake  ABAPC (New CO_MAX)          0.00     0.000000           9.40   \n",
       "5  earthquake      ABAPC (New ST)          0.00     0.000000           9.32   \n",
       "6      survey      ABAPC (New CO)         15.16     3.688703          16.78   \n",
       "7      survey  ABAPC (New CO_MAX)         15.04     3.703060          16.62   \n",
       "8      survey      ABAPC (New ST)         14.62     3.349627          16.12   \n",
       "\n",
       "   sid_high_std  \n",
       "0      1.535432  \n",
       "1      1.535432  \n",
       "2      1.535432  \n",
       "3      4.542048  \n",
       "4      4.659859  \n",
       "5      4.542048  \n",
       "6      3.424343  \n",
       "7      3.504458  \n",
       "8      2.946045  "
      ]
     },
     "execution_count": 10,
     "metadata": {},
     "output_type": "execute_result"
    }
   ],
   "source": [
    "import json\n",
    "\n",
    "def read_sid_from_json(string_to_read, sid_type='low'):\n",
    "    metrics = json.loads(string_to_read)\n",
    "    sid = metrics['sid']\n",
    "    if isinstance(sid, list):\n",
    "        sid_low, sid_high = sid\n",
    "    elif isinstance(sid, float):\n",
    "        sid_low = sid\n",
    "        sid_high = sid\n",
    "    else:\n",
    "        raise ValueError(\"Unexpected format for SID in JSON string.\")\n",
    "    \n",
    "    if sid_type == 'low':\n",
    "        return sid_low\n",
    "    elif sid_type == 'high':\n",
    "        return sid_high\n",
    "\n",
    "\n",
    "sem_dfs = []\n",
    "for sem in ['ST', 'CO', 'CO_MAX']:\n",
    "    sem_df = bnlearn_compare[[f'{sem}_mt_cpdag', 'dataset_name', 'seed']].copy().rename(columns={'dataset_name': 'dataset'})\n",
    "    sem_df['sid_low'] = sem_df[f'{sem}_mt_cpdag'].apply(lambda x: read_sid_from_json(x, 'low'))\n",
    "    sem_df['sid_high'] = sem_df[f'{sem}_mt_cpdag'].apply(lambda x: read_sid_from_json(x, 'high'))\n",
    "    sem_df['model'] = f'ABAPC (New {sem})'\n",
    "    sem_dfs.append(sem_df[['dataset', 'model', 'seed', 'sid_low', 'sid_high']])\n",
    "\n",
    "sem_df_combined = pd.concat(sem_dfs, ignore_index=True)\n",
    "\n",
    "sem_df_combined = sem_df_combined.groupby(['dataset', 'model'], as_index=False).agg(\n",
    "    sid_low_mean=('sid_low', 'mean'),\n",
    "    sid_low_std=('sid_low', 'std'),\n",
    "    sid_high_mean=('sid_high', 'mean'),\n",
    "    sid_high_std=('sid_high', 'std')\n",
    ")\n",
    "sem_df_combined"
   ]
  },
  {
   "cell_type": "code",
   "execution_count": null,
   "id": "e997ab06",
   "metadata": {},
   "outputs": [
    {
     "data": {
      "text/html": [
       "<div>\n",
       "<style scoped>\n",
       "    .dataframe tbody tr th:only-of-type {\n",
       "        vertical-align: middle;\n",
       "    }\n",
       "\n",
       "    .dataframe tbody tr th {\n",
       "        vertical-align: top;\n",
       "    }\n",
       "\n",
       "    .dataframe thead th {\n",
       "        text-align: right;\n",
       "    }\n",
       "</style>\n",
       "<table border=\"1\" class=\"dataframe\">\n",
       "  <thead>\n",
       "    <tr style=\"text-align: right;\">\n",
       "      <th></th>\n",
       "      <th>dataset</th>\n",
       "      <th>model</th>\n",
       "      <th>sid_low_mean</th>\n",
       "      <th>sid_low_std</th>\n",
       "      <th>sid_high_mean</th>\n",
       "      <th>sid_high_std</th>\n",
       "      <th>n_edges</th>\n",
       "      <th>n_nodes</th>\n",
       "      <th>p_SID_low_mean</th>\n",
       "      <th>p_SID_low_std</th>\n",
       "      <th>p_SID_high_mean</th>\n",
       "      <th>p_SID_high_std</th>\n",
       "    </tr>\n",
       "  </thead>\n",
       "  <tbody>\n",
       "    <tr>\n",
       "      <th>0</th>\n",
       "      <td>CANCER&lt;br&gt; |V|=5, |E|=4</td>\n",
       "      <td>ABAPC (ASPforABA)</td>\n",
       "      <td>9.74</td>\n",
       "      <td>1.48</td>\n",
       "      <td>10.64</td>\n",
       "      <td>1.54</td>\n",
       "      <td>4</td>\n",
       "      <td>5</td>\n",
       "      <td>2.435</td>\n",
       "      <td>0.3700</td>\n",
       "      <td>2.66</td>\n",
       "      <td>0.3850</td>\n",
       "    </tr>\n",
       "    <tr>\n",
       "      <th>1</th>\n",
       "      <td>CANCER&lt;br&gt; |V|=5, |E|=4</td>\n",
       "      <td>Random</td>\n",
       "      <td>7.94</td>\n",
       "      <td>3.63</td>\n",
       "      <td>14.04</td>\n",
       "      <td>3.03</td>\n",
       "      <td>4</td>\n",
       "      <td>5</td>\n",
       "      <td>1.985</td>\n",
       "      <td>0.9075</td>\n",
       "      <td>3.51</td>\n",
       "      <td>0.7575</td>\n",
       "    </tr>\n",
       "    <tr>\n",
       "      <th>2</th>\n",
       "      <td>CANCER&lt;br&gt; |V|=5, |E|=4</td>\n",
       "      <td>MPC</td>\n",
       "      <td>3.88</td>\n",
       "      <td>1.81</td>\n",
       "      <td>13.88</td>\n",
       "      <td>1.81</td>\n",
       "      <td>4</td>\n",
       "      <td>5</td>\n",
       "      <td>0.970</td>\n",
       "      <td>0.4525</td>\n",
       "      <td>3.47</td>\n",
       "      <td>0.4525</td>\n",
       "    </tr>\n",
       "    <tr>\n",
       "      <th>3</th>\n",
       "      <td>CANCER&lt;br&gt; |V|=5, |E|=4</td>\n",
       "      <td>ABAPC (Existing)</td>\n",
       "      <td>9.74</td>\n",
       "      <td>1.48</td>\n",
       "      <td>10.64</td>\n",
       "      <td>1.54</td>\n",
       "      <td>4</td>\n",
       "      <td>5</td>\n",
       "      <td>2.435</td>\n",
       "      <td>0.3700</td>\n",
       "      <td>2.66</td>\n",
       "      <td>0.3850</td>\n",
       "    </tr>\n",
       "    <tr>\n",
       "      <th>4</th>\n",
       "      <td>CANCER&lt;br&gt; |V|=5, |E|=4</td>\n",
       "      <td>NOTEARS-MLP</td>\n",
       "      <td>9.44</td>\n",
       "      <td>1.54</td>\n",
       "      <td>10.24</td>\n",
       "      <td>0.43</td>\n",
       "      <td>4</td>\n",
       "      <td>5</td>\n",
       "      <td>2.360</td>\n",
       "      <td>0.3850</td>\n",
       "      <td>2.56</td>\n",
       "      <td>0.1075</td>\n",
       "    </tr>\n",
       "  </tbody>\n",
       "</table>\n",
       "</div>"
      ],
      "text/plain": [
       "                   dataset              model  sid_low_mean  sid_low_std  \\\n",
       "0  CANCER<br> |V|=5, |E|=4  ABAPC (ASPforABA)          9.74         1.48   \n",
       "1  CANCER<br> |V|=5, |E|=4             Random          7.94         3.63   \n",
       "2  CANCER<br> |V|=5, |E|=4                MPC          3.88         1.81   \n",
       "3  CANCER<br> |V|=5, |E|=4   ABAPC (Existing)          9.74         1.48   \n",
       "4  CANCER<br> |V|=5, |E|=4        NOTEARS-MLP          9.44         1.54   \n",
       "\n",
       "   sid_high_mean  sid_high_std  n_edges  n_nodes  p_SID_low_mean  \\\n",
       "0          10.64          1.54        4        5           2.435   \n",
       "1          14.04          3.03        4        5           1.985   \n",
       "2          13.88          1.81        4        5           0.970   \n",
       "3          10.64          1.54        4        5           2.435   \n",
       "4          10.24          0.43        4        5           2.360   \n",
       "\n",
       "   p_SID_low_std  p_SID_high_mean  p_SID_high_std  \n",
       "0         0.3700             2.66          0.3850  \n",
       "1         0.9075             3.51          0.7575  \n",
       "2         0.4525             3.47          0.4525  \n",
       "3         0.3700             2.66          0.3850  \n",
       "4         0.3850             2.56          0.1075  "
      ]
     },
     "execution_count": 11,
     "metadata": {},
     "output_type": "execute_result"
    }
   ],
   "source": [
    "main_gray = '#262626'\n",
    "sec_gray = '#595959'\n",
    "main_blue = '#005383'\n",
    "sec_blue = '#0085CA'\n",
    "main_green = '#379f9f' \n",
    "sec_green = '#196363' \n",
    "main_purple='#9454c4'\n",
    "sec_purple='#441469'\n",
    "main_orange='#8a4500'\n",
    "sec_orange='#b85c00'\n",
    "\n",
    "\n",
    "save_figs = True\n",
    "debug = False\n",
    "datasets = ['cancer', 'earthquake', 'survey', 'asia']\n",
    "dags_nodes_map = {'asia':8, 'cancer':5, 'earthquake':5, 'sachs':11, 'survey':6, 'alarm':37, 'child':20, 'insurance':27, 'hailfinder':56, 'hepar2':70}\n",
    "dags_arcs_map = {'asia':8, 'cancer':4, 'earthquake':4, 'sachs':17, 'survey':6, 'alarm':46, 'child':25, 'insurance':52, 'hailfinder':66, 'hepar2':123}\n",
    "methods = ['Random', 'FGS', 'NOTEARS-MLP', 'MPC', 'ABAPC (Existing)', 'ABAPC (New ST)', 'ABAPC (New CO)', 'ABAPC (New CO-max)']\n",
    "names_dict = {'fgs':'FGS', 'nt':'NOTEARS-MLP', 'mpc':'MPC', 'random':'Random', 'abapc':'ABAPC (Existing)', 'ABAPC (New ST)':'ABAPC (New ST)',\n",
    "              'ABAPC (New CO)':'ABAPC (New CO)', 'ABAPC (New CO-max)':'ABAPC (New CO-max)'} \n",
    "colors_dict = {'abapc':sec_blue,'fgs':sec_orange,'nt':main_purple,'mpc':main_green,'random':'grey', 'ABAPC (New ST)':'black',\n",
    "               'ABAPC (New CO)':sec_orange, 'ABAPC (New CO-max)':sec_green}\n",
    "version = 'bnlearn_50rep' ## for 5000 samples\n",
    "# version = 'bnlearn_dag_v5_2000' ## for 2000 samples\n",
    "\n",
    "version_cpdag = version+'_cpdag'\n",
    "all_sum = pd.read_csv(f\"../../results/extension_based_semantics/stored_results_{version}_cpdag.csv\")\n",
    "all_sum.loc[all_sum['model']=='ABAPC (Ours)', 'model'] = 'ABAPC (Existing)'\n",
    "# all_sum.loc[all_sum['model']=='ABAPC (ASPforABA)', 'model'] = 'ABAPC (New)'\n",
    "all_sum = all_sum[['dataset', 'model', 'sid_low_mean', 'sid_low_std', 'sid_high_mean', 'sid_high_std']].copy()\n",
    "all_sum = pd.concat([all_sum, sem_df_combined], ignore_index=True).reset_index(drop=True).copy()\n",
    "all_sum.loc[all_sum['model']=='ABAPC (New CO_MAX)', 'model'] = 'ABAPC (New CO-max)'\n",
    "\n",
    "\n",
    "\n",
    "all_sum['n_edges'] = all_sum['dataset'].map(dags_arcs_map)\n",
    "all_sum['n_nodes'] = all_sum['dataset'].map(dags_nodes_map)\n",
    "for var in ['SID_low','SID_high']:\n",
    "    all_sum['p_'+var+'_mean'] = all_sum[var.lower()+'_mean'].astype(float)/all_sum['n_edges'].astype(int)\n",
    "    all_sum['p_'+var+'_std'] = all_sum[var.lower()+'_std'].astype(float)/all_sum['n_edges'].astype(int)\n",
    "all_sum['dataset'] = [a.upper() for a in all_sum[\"dataset\"].astype(str)]\n",
    "all_sum['dataset'] = all_sum['dataset'] +np.repeat(\"<br> |V|=\",len(all_sum))+ all_sum[\"n_nodes\"].astype(str)+np.repeat(\", |E|=\",len(all_sum))+\\\n",
    "                     all_sum[\"n_edges\"].astype(str)\n",
    "\n",
    "\n",
    "all_sum.head()"
   ]
  },
  {
   "cell_type": "code",
   "execution_count": 12,
   "id": "aa71b815",
   "metadata": {},
   "outputs": [],
   "source": [
    "def double_bar_chart_plotly(all_sum, names_dict, colors_dict, \n",
    "                            methods=['Random', 'FGS', 'NOTEARS-MLP', 'Shapley-PC', 'ABAPC (Ours)'],\n",
    "                            range_y1=None, range_y2=None, font_size=20,\n",
    "                            save_figs=False, output_name=\"bar_chart.html\", debug=False):\n",
    "    fig = make_subplots(specs=[[{\"secondary_y\": True}]])\n",
    "    # for dataset_name in ['asia','cancer','earthquake','sachs','survey','alarm','child','insurance','hepar2']:\n",
    "    # for method in ['Random', 'FGS', 'MCSL-MLP', 'NOTEARS-MLP', 'Max-PC', 'SPC (Ours)', 'ABAPC (Ours)']:\n",
    "\n",
    "    vars_to_plot = ['p_SID_low','p_SID_high']\n",
    "    for n, var_to_plot in enumerate(vars_to_plot):\n",
    "        for m, method in enumerate(methods):\n",
    "            trace_name = 'True Graph Size' if var_to_plot=='nnz' and method=='Random' else method#+' '+var_to_plot\n",
    "            fig.add_trace(go.Bar(x=all_sum[(all_sum.model==method)]['dataset'], \n",
    "                                yaxis=f\"y{n+1}\",\n",
    "                                offsetgroup=m+len(methods)*n+(1*n),\n",
    "                                y=all_sum[(all_sum.model==method)][var_to_plot+'_mean'], \n",
    "                                error_y=dict(type='data', array=all_sum[(all_sum.model==method)][var_to_plot+'_std'], visible=True),\n",
    "                                name=trace_name,\n",
    "                                marker_color=colors_dict[list(names_dict.keys())[list(names_dict.values()).index(method)]],\n",
    "                                opacity=0.6,\n",
    "                                #  width=0.1\n",
    "                                showlegend=n==0\n",
    "                                ))\n",
    "        if n==0:\n",
    "            fig.add_trace(go.Bar(x=all_sum[(all_sum.model==method)]['dataset'], \n",
    "                                    y=np.zeros(len(all_sum[(all_sum.model==method)]['dataset'])), \n",
    "                                    name='',\n",
    "                                    offsetgroup=m+1,\n",
    "                                    marker_color='white',\n",
    "                                    opacity=1,\n",
    "                                    # width=0.1\n",
    "                                    showlegend=False\n",
    "                                    )\n",
    "                                    )\n",
    "    second_ticks = False if all('SID' in var for var in vars_to_plot) else True\n",
    "    # Change the bar mode\n",
    "    fig.update_layout(barmode='group',\n",
    "                        bargap=0.15, # gap between bars of adjacent location coordinates.\n",
    "                        bargroupgap=0.15, # gap between bars of the same location coordinate.)\n",
    "\n",
    "            legend=dict(orientation=\"h\", xanchor=\"center\", x=0.5, yanchor=\"top\", y=1.1),\n",
    "            template='plotly_white',\n",
    "            # autosize=True,\n",
    "            width=1600, \n",
    "            height=700,\n",
    "            margin=dict(\n",
    "                l=40,\n",
    "                r=00,\n",
    "                b=70,\n",
    "                t=20,\n",
    "                # pad=10\n",
    "            ),hovermode='x unified',\n",
    "            font=dict(size=font_size, family=\"Serif\", color=\"black\"),\n",
    "            yaxis2=dict(scaleanchor=0, showline=False, showgrid=False, showticklabels=second_ticks, zeroline=True),\n",
    "            )\n",
    "\n",
    "    fig.add_annotation(\n",
    "        xref=\"paper\",\n",
    "        yref=\"paper\",\n",
    "        xanchor=\"center\",\n",
    "        x=0,\n",
    "        yanchor=\"bottom\",\n",
    "        y=-0.08,\n",
    "        text=f\"Dataset:\",\n",
    "        showarrow=False,    \n",
    "        font=dict(\n",
    "                    family=\"Serif\",\n",
    "                    size=font_size,\n",
    "                    color=\"Black\"\n",
    "                    )\n",
    "        )\n",
    "    \n",
    "    for n, var_to_plot in enumerate(vars_to_plot):\n",
    "        if vars_to_plot == ['precision', 'recall']:\n",
    "            if range_y1 is None:\n",
    "                range_y = [0, 1.3]\n",
    "            else:\n",
    "                range_y = range_y1\n",
    "        elif vars_to_plot == ['fdr', 'tpr']:\n",
    "            range_y = [0, 1]\n",
    "        elif 'shd' in var_to_plot or 'SID' in var_to_plot:\n",
    "            if range_y1 is None and range_y2 is None:\n",
    "                if 'high' in var_to_plot:\n",
    "                    range_y = [0, max(all_sum['p_SID_high_mean'])+.3]\n",
    "                elif 'low' in var_to_plot:\n",
    "                    range_y = [0, max(all_sum['p_SID_low_mean'])+.3]\n",
    "                else:\n",
    "                    range_y = [0, 2] if n==0 else [0, max(all_sum['p_SID_mean'])+.3]\n",
    "            else:\n",
    "                range_y = range_y1 if n==0 else range_y2\n",
    "        if 'n_' in var_to_plot or 'p_' in var_to_plot:\n",
    "            orig_y = var_to_plot.replace('n_','').replace('p_','').replace('_low','').replace('_high','').upper()\n",
    "            fig.update_yaxes(title={'text':f'Normalised {orig_y}','font':{'size':font_size}}, secondary_y=n==1, range=range_y)\n",
    "            if second_ticks == False:\n",
    "                fig.update_yaxes(title={'text':'','font':{'size':font_size}}, secondary_y=True, range=range_y, showticklabels=False)\n",
    "        elif var_to_plot=='nnz':\n",
    "            orig_y = 'Number of Edges in DAG'\n",
    "            fig.update_yaxes(title={'text':f'{orig_y}','font':{'size':font_size}}, secondary_y=n==1, range=range_y)\n",
    "        else:\n",
    "            fig.update_yaxes(title={'text':f'{var_to_plot.title()}','font':{'size':font_size}}, secondary_y=n==1, range=range_y)\n",
    "\n",
    "    start_pos = 0.039\n",
    "\n",
    "    name1 = 'Best'\n",
    "    name2 = 'Worst'\n",
    "    lin_space=9\n",
    "    nl_space=9\n",
    "    intra_dis = 0.161\n",
    "    inter_dis = 0.174\n",
    "\n",
    "    n_x_cat = len(all_sum.dataset.unique())\n",
    "    list_of_pos = []\n",
    "    left=start_pos\n",
    "    for i in range(n_x_cat):\n",
    "        right = left+intra_dis\n",
    "        list_of_pos.append((left, right))\n",
    "        left = right+inter_dis\n",
    "\n",
    "    for s1,s2 in list_of_pos:\n",
    "        fig.add_annotation(\n",
    "            xref=\"x domain\",\n",
    "            yref=\"y domain\",\n",
    "            xanchor=\"left\",\n",
    "            x=s1,\n",
    "            y=1.015,\n",
    "                    text=f\"{' '*lin_space}{name1}{' '*(lin_space)}\",\n",
    "            showarrow=False,    \n",
    "            font=dict(\n",
    "                # family=\"Courier New, monospace\",\n",
    "                size=font_size,\n",
    "                color=\"black\"\n",
    "                )\n",
    "        , bordercolor='#E5ECF6'\n",
    "        , borderwidth=2\n",
    "        , bgcolor=\"#E5ECF6\"\n",
    "        , opacity=0.8\n",
    "                )\n",
    "        fig.add_annotation(\n",
    "            xref=\"x domain\",\n",
    "            yref=\"y domain\",\n",
    "            xanchor=\"left\",\n",
    "            x=s2,\n",
    "            y=1.015,\n",
    "                    text=f\"{' '*(nl_space)}{name2}{' '*nl_space}\",\n",
    "            showarrow=False,    \n",
    "            font=dict(\n",
    "                # family=\"Courier New, monospace\",\n",
    "                size=font_size,\n",
    "                color=\"black\"\n",
    "                )\n",
    "        , bordercolor='#E5ECF6'\n",
    "        , borderwidth=2\n",
    "        , bgcolor=\"#E5ECF6\"\n",
    "        , opacity=0.8\n",
    "                )\n",
    "    \n",
    "    # Add vertical lines between bar groups\n",
    "    s1 = 0\n",
    "    sign = -1\n",
    "    for i in range(n_x_cat*2):  # skip last one\n",
    "        sign *= -1\n",
    "        s1 += 0.1565\n",
    "        fig.add_shape(\n",
    "            type=\"line\",\n",
    "            x0=s1, x1=s1,\n",
    "            y0=0, y1=1,\n",
    "            xref=\"paper\",\n",
    "            yref=\"paper\",\n",
    "            line=dict(\n",
    "                color=\"grey\" if sign>0 else \"black\",\n",
    "                width=1,\n",
    "                dash=\"dash\" if sign>0 else \"solid\",\n",
    "            ),\n",
    "            layer=\"below\"\n",
    "        )\n",
    "        \n",
    "\n",
    "\n",
    "    if save_figs:\n",
    "        fig.write_html(output_name)\n",
    "        fig.write_image(output_name.replace('.html','.jpeg'))\n",
    "\n",
    "    fig.show()"
   ]
  },
  {
   "cell_type": "code",
   "execution_count": 13,
   "id": "c9699f9c",
   "metadata": {},
   "outputs": [
    {
     "data": {
      "application/vnd.plotly.v1+json": {
       "config": {
        "plotlyServerURL": "https://plot.ly"
       },
       "data": [
        {
         "error_y": {
          "array": {
           "bdata": "CtejcD0K7T8K16NwPQrnPzCW/GLJL+Y/",
           "dtype": "f8"
          },
          "type": "data",
          "visible": true
         },
         "marker": {
          "color": "grey"
         },
         "name": "Random",
         "offsetgroup": "0",
         "opacity": 0.6,
         "showlegend": true,
         "type": "bar",
         "x": [
          "CANCER<br> |V|=5, |E|=4",
          "EARTHQUAKE<br> |V|=5, |E|=4",
          "SURVEY<br> |V|=6, |E|=6"
         ],
         "y": {
          "bdata": "w/UoXI/C/z+F61G4HoX/P36x5BdLfgFA",
          "dtype": "f8"
         },
         "yaxis": "y"
        },
        {
         "error_y": {
          "array": [],
          "type": "data",
          "visible": true
         },
         "marker": {
          "color": "#b85c00"
         },
         "name": "FGS",
         "offsetgroup": "1",
         "opacity": 0.6,
         "showlegend": true,
         "type": "bar",
         "x": [],
         "y": [],
         "yaxis": "y"
        },
        {
         "error_y": {
          "array": {
           "bdata": "pHA9Ctej2D+amZmZmZnnP1VVVVVVVbU/",
           "dtype": "f8"
          },
          "type": "data",
          "visible": true
         },
         "marker": {
          "color": "#9454c4"
         },
         "name": "NOTEARS-MLP",
         "offsetgroup": "2",
         "opacity": 0.6,
         "showlegend": true,
         "type": "bar",
         "x": [
          "CANCER<br> |V|=5, |E|=4",
          "EARTHQUAKE<br> |V|=5, |E|=4",
          "SURVEY<br> |V|=6, |E|=6"
         ],
         "y": {
          "bdata": "4XoUrkfhAkA9CtejcD3iPxSuR+F6FAZA",
          "dtype": "f8"
         },
         "yaxis": "y"
        },
        {
         "error_y": {
          "array": {
           "bdata": "9ihcj8L13D8AAAAAAAAAADCW/GLJL+I/",
           "dtype": "f8"
          },
          "type": "data",
          "visible": true
         },
         "marker": {
          "color": "#379f9f"
         },
         "name": "MPC",
         "offsetgroup": "3",
         "opacity": 0.6,
         "showlegend": true,
         "type": "bar",
         "x": [
          "CANCER<br> |V|=5, |E|=4",
          "EARTHQUAKE<br> |V|=5, |E|=4",
          "SURVEY<br> |V|=6, |E|=6"
         ],
         "y": {
          "bdata": "CtejcD0K7z8AAAAAAAD0P2kDnTbQaes/",
          "dtype": "f8"
         },
         "yaxis": "y"
        },
        {
         "error_y": {
          "array": {
           "bdata": "rkfhehSu1z8AAAAAAAAAAJmZmZmZmeE/",
           "dtype": "f8"
          },
          "type": "data",
          "visible": true
         },
         "marker": {
          "color": "#0085CA"
         },
         "name": "ABAPC (Existing)",
         "offsetgroup": "4",
         "opacity": 0.6,
         "showlegend": true,
         "type": "bar",
         "x": [
          "CANCER<br> |V|=5, |E|=4",
          "EARTHQUAKE<br> |V|=5, |E|=4",
          "SURVEY<br> |V|=6, |E|=6"
         ],
         "y": {
          "bdata": "exSuR+F6A0AAAAAAAAAAAIwlv1jyiwNA",
          "dtype": "f8"
         },
         "yaxis": "y"
        },
        {
         "error_y": {
          "array": {
           "bdata": "ND76hka21z8AAAAAAAAAAOk0g3Bb3eE/",
           "dtype": "f8"
          },
          "type": "data",
          "visible": true
         },
         "marker": {
          "color": "black"
         },
         "name": "ABAPC (New ST)",
         "offsetgroup": "5",
         "opacity": 0.6,
         "showlegend": true,
         "type": "bar",
         "x": [
          "CANCER<br> |V|=5, |E|=4",
          "EARTHQUAKE<br> |V|=5, |E|=4",
          "SURVEY<br> |V|=6, |E|=6"
         ],
         "y": {
          "bdata": "exSuR+F6A0AAAAAAAAAAAH6x5BdLfgNA",
          "dtype": "f8"
         },
         "yaxis": "y"
        },
        {
         "error_y": {
          "array": {
           "bdata": "ND76hka21z8AAAAAAAAAAITc3S5PrOM/",
           "dtype": "f8"
          },
          "type": "data",
          "visible": true
         },
         "marker": {
          "color": "#b85c00"
         },
         "name": "ABAPC (New CO)",
         "offsetgroup": "6",
         "opacity": 0.6,
         "showlegend": true,
         "type": "bar",
         "x": [
          "CANCER<br> |V|=5, |E|=4",
          "EARTHQUAKE<br> |V|=5, |E|=4",
          "SURVEY<br> |V|=6, |E|=6"
         ],
         "y": {
          "bdata": "exSuR+F6A0AAAAAAAAAAADfQaQOdNgRA",
          "dtype": "f8"
         },
         "yaxis": "y"
        },
        {
         "error_y": {
          "array": {
           "bdata": "ND76hka21z8AAAAAAAAAAFnIPkTpv+M/",
           "dtype": "f8"
          },
          "type": "data",
          "visible": true
         },
         "marker": {
          "color": "#196363"
         },
         "name": "ABAPC (New CO-max)",
         "offsetgroup": "7",
         "opacity": 0.6,
         "showlegend": true,
         "type": "bar",
         "x": [
          "CANCER<br> |V|=5, |E|=4",
          "EARTHQUAKE<br> |V|=5, |E|=4",
          "SURVEY<br> |V|=6, |E|=6"
         ],
         "y": {
          "bdata": "exSuR+F6A0AAAAAAAAAAAA102kCnDQRA",
          "dtype": "f8"
         },
         "yaxis": "y"
        },
        {
         "marker": {
          "color": "white"
         },
         "name": "",
         "offsetgroup": "8",
         "opacity": 1,
         "showlegend": false,
         "type": "bar",
         "x": [
          "CANCER<br> |V|=5, |E|=4",
          "EARTHQUAKE<br> |V|=5, |E|=4",
          "SURVEY<br> |V|=6, |E|=6"
         ],
         "y": {
          "bdata": "AAAAAAAAAAAAAAAAAAAAAAAAAAAAAAAA",
          "dtype": "f8"
         }
        },
        {
         "error_y": {
          "array": {
           "bdata": "PQrXo3A96D+uR+F6FK7rP2kDnTbQaec/",
           "dtype": "f8"
          },
          "type": "data",
          "visible": true
         },
         "marker": {
          "color": "grey"
         },
         "name": "Random",
         "offsetgroup": "9",
         "opacity": 0.6,
         "showlegend": false,
         "type": "bar",
         "x": [
          "CANCER<br> |V|=5, |E|=4",
          "EARTHQUAKE<br> |V|=5, |E|=4",
          "SURVEY<br> |V|=6, |E|=6"
         ],
         "y": {
          "bdata": "FK5H4XoUDEDD9Shcj8ILQNBpA5020A1A",
          "dtype": "f8"
         },
         "yaxis": "y2"
        },
        {
         "error_y": {
          "array": [],
          "type": "data",
          "visible": true
         },
         "marker": {
          "color": "#b85c00"
         },
         "name": "FGS",
         "offsetgroup": "10",
         "opacity": 0.6,
         "showlegend": false,
         "type": "bar",
         "x": [],
         "y": [],
         "yaxis": "y2"
        },
        {
         "error_y": {
          "array": {
           "bdata": "hetRuB6Fuz/2KFyPwvXYPwAAAAAAAAAA",
           "dtype": "f8"
          },
          "type": "data",
          "visible": true
         },
         "marker": {
          "color": "#9454c4"
         },
         "name": "NOTEARS-MLP",
         "offsetgroup": "11",
         "opacity": 0.6,
         "showlegend": false,
         "type": "bar",
         "x": [
          "CANCER<br> |V|=5, |E|=4",
          "EARTHQUAKE<br> |V|=5, |E|=4",
          "SURVEY<br> |V|=6, |E|=6"
         ],
         "y": {
          "bdata": "exSuR+F6BEAzMzMzMzMNQKuqqqqqqgZA",
          "dtype": "f8"
         },
         "yaxis": "y2"
        },
        {
         "error_y": {
          "array": {
           "bdata": "9ihcj8L13D8AAAAAAAAAAEGnDXTaQOc/",
           "dtype": "f8"
          },
          "type": "data",
          "visible": true
         },
         "marker": {
          "color": "#379f9f"
         },
         "name": "MPC",
         "offsetgroup": "12",
         "opacity": 0.6,
         "showlegend": false,
         "type": "bar",
         "x": [
          "CANCER<br> |V|=5, |E|=4",
          "EARTHQUAKE<br> |V|=5, |E|=4",
          "SURVEY<br> |V|=6, |E|=6"
         ],
         "y": {
          "bdata": "w/UoXI/CC0AAAAAAAAAOQNQGOm2g0wpA",
          "dtype": "f8"
         },
         "yaxis": "y2"
        },
        {
         "error_y": {
          "array": {
           "bdata": "pHA9Ctej2D+kcD0K16PyP+UXS36x5N8/",
           "dtype": "f8"
          },
          "type": "data",
          "visible": true
         },
         "marker": {
          "color": "#0085CA"
         },
         "name": "ABAPC (Existing)",
         "offsetgroup": "13",
         "opacity": 0.6,
         "showlegend": false,
         "type": "bar",
         "x": [
          "CANCER<br> |V|=5, |E|=4",
          "EARTHQUAKE<br> |V|=5, |E|=4",
          "SURVEY<br> |V|=6, |E|=6"
         ],
         "y": {
          "bdata": "SOF6FK5HBUDNzMzMzMwCQHA9CtejcAVA",
          "dtype": "f8"
         },
         "yaxis": "y2"
        },
        {
         "error_y": {
          "array": {
           "bdata": "H3SRASGR2D+zxGm/DivyPzGjiAWrbN8/",
           "dtype": "f8"
          },
          "type": "data",
          "visible": true
         },
         "marker": {
          "color": "black"
         },
         "name": "ABAPC (New ST)",
         "offsetgroup": "14",
         "opacity": 0.6,
         "showlegend": false,
         "type": "bar",
         "x": [
          "CANCER<br> |V|=5, |E|=4",
          "EARTHQUAKE<br> |V|=5, |E|=4",
          "SURVEY<br> |V|=6, |E|=6"
         ],
         "y": {
          "bdata": "SOF6FK5HBUCkcD0K16MCQH+x5BdLfgVA",
          "dtype": "f8"
         },
         "yaxis": "y2"
        },
        {
         "error_y": {
          "array": {
           "bdata": "H3SRASGR2D+zxGm/DivyP5n0z39eQ+I/",
           "dtype": "f8"
          },
          "type": "data",
          "visible": true
         },
         "marker": {
          "color": "#b85c00"
         },
         "name": "ABAPC (New CO)",
         "offsetgroup": "15",
         "opacity": 0.6,
         "showlegend": false,
         "type": "bar",
         "x": [
          "CANCER<br> |V|=5, |E|=4",
          "EARTHQUAKE<br> |V|=5, |E|=4",
          "SURVEY<br> |V|=6, |E|=6"
         ],
         "y": {
          "bdata": "SOF6FK5HBUCkcD0K16MCQGAs+cWSXwZA",
          "dtype": "f8"
         },
         "yaxis": "y2"
        },
        {
         "error_y": {
          "array": {
           "bdata": "H3SRASGR2D+7wo0SsqPyP2EFFsjAsOI/",
           "dtype": "f8"
          },
          "type": "data",
          "visible": true
         },
         "marker": {
          "color": "#196363"
         },
         "name": "ABAPC (New CO-max)",
         "offsetgroup": "16",
         "opacity": 0.6,
         "showlegend": false,
         "type": "bar",
         "x": [
          "CANCER<br> |V|=5, |E|=4",
          "EARTHQUAKE<br> |V|=5, |E|=4",
          "SURVEY<br> |V|=6, |E|=6"
         ],
         "y": {
          "bdata": "SOF6FK5HBUDNzMzMzMwCQClcj8L1KAZA",
          "dtype": "f8"
         },
         "yaxis": "y2"
        }
       ],
       "layout": {
        "annotations": [
         {
          "font": {
           "color": "Black",
           "family": "Serif",
           "size": 20
          },
          "showarrow": false,
          "text": "Dataset:",
          "x": 0,
          "xanchor": "center",
          "xref": "paper",
          "y": -0.08,
          "yanchor": "bottom",
          "yref": "paper"
         },
         {
          "bgcolor": "#E5ECF6",
          "bordercolor": "#E5ECF6",
          "borderwidth": 2,
          "font": {
           "color": "black",
           "size": 20
          },
          "opacity": 0.8,
          "showarrow": false,
          "text": "         Best         ",
          "x": 0.039,
          "xanchor": "left",
          "xref": "x domain",
          "y": 1.015,
          "yref": "y domain"
         },
         {
          "bgcolor": "#E5ECF6",
          "bordercolor": "#E5ECF6",
          "borderwidth": 2,
          "font": {
           "color": "black",
           "size": 20
          },
          "opacity": 0.8,
          "showarrow": false,
          "text": "         Worst         ",
          "x": 0.2,
          "xanchor": "left",
          "xref": "x domain",
          "y": 1.015,
          "yref": "y domain"
         },
         {
          "bgcolor": "#E5ECF6",
          "bordercolor": "#E5ECF6",
          "borderwidth": 2,
          "font": {
           "color": "black",
           "size": 20
          },
          "opacity": 0.8,
          "showarrow": false,
          "text": "         Best         ",
          "x": 0.374,
          "xanchor": "left",
          "xref": "x domain",
          "y": 1.015,
          "yref": "y domain"
         },
         {
          "bgcolor": "#E5ECF6",
          "bordercolor": "#E5ECF6",
          "borderwidth": 2,
          "font": {
           "color": "black",
           "size": 20
          },
          "opacity": 0.8,
          "showarrow": false,
          "text": "         Worst         ",
          "x": 0.535,
          "xanchor": "left",
          "xref": "x domain",
          "y": 1.015,
          "yref": "y domain"
         },
         {
          "bgcolor": "#E5ECF6",
          "bordercolor": "#E5ECF6",
          "borderwidth": 2,
          "font": {
           "color": "black",
           "size": 20
          },
          "opacity": 0.8,
          "showarrow": false,
          "text": "         Best         ",
          "x": 0.7090000000000001,
          "xanchor": "left",
          "xref": "x domain",
          "y": 1.015,
          "yref": "y domain"
         },
         {
          "bgcolor": "#E5ECF6",
          "bordercolor": "#E5ECF6",
          "borderwidth": 2,
          "font": {
           "color": "black",
           "size": 20
          },
          "opacity": 0.8,
          "showarrow": false,
          "text": "         Worst         ",
          "x": 0.8700000000000001,
          "xanchor": "left",
          "xref": "x domain",
          "y": 1.015,
          "yref": "y domain"
         }
        ],
        "bargap": 0.15,
        "bargroupgap": 0.15,
        "barmode": "group",
        "font": {
         "color": "black",
         "family": "Serif",
         "size": 20
        },
        "height": 700,
        "hovermode": "x unified",
        "legend": {
         "orientation": "h",
         "x": 0.5,
         "xanchor": "center",
         "y": 1.1,
         "yanchor": "top"
        },
        "margin": {
         "b": 70,
         "l": 40,
         "r": 0,
         "t": 20
        },
        "shapes": [
         {
          "layer": "below",
          "line": {
           "color": "grey",
           "dash": "dash",
           "width": 1
          },
          "type": "line",
          "x0": 0.1565,
          "x1": 0.1565,
          "xref": "paper",
          "y0": 0,
          "y1": 1,
          "yref": "paper"
         },
         {
          "layer": "below",
          "line": {
           "color": "black",
           "dash": "solid",
           "width": 1
          },
          "type": "line",
          "x0": 0.313,
          "x1": 0.313,
          "xref": "paper",
          "y0": 0,
          "y1": 1,
          "yref": "paper"
         },
         {
          "layer": "below",
          "line": {
           "color": "grey",
           "dash": "dash",
           "width": 1
          },
          "type": "line",
          "x0": 0.46950000000000003,
          "x1": 0.46950000000000003,
          "xref": "paper",
          "y0": 0,
          "y1": 1,
          "yref": "paper"
         },
         {
          "layer": "below",
          "line": {
           "color": "black",
           "dash": "solid",
           "width": 1
          },
          "type": "line",
          "x0": 0.626,
          "x1": 0.626,
          "xref": "paper",
          "y0": 0,
          "y1": 1,
          "yref": "paper"
         },
         {
          "layer": "below",
          "line": {
           "color": "grey",
           "dash": "dash",
           "width": 1
          },
          "type": "line",
          "x0": 0.7825,
          "x1": 0.7825,
          "xref": "paper",
          "y0": 0,
          "y1": 1,
          "yref": "paper"
         },
         {
          "layer": "below",
          "line": {
           "color": "black",
           "dash": "solid",
           "width": 1
          },
          "type": "line",
          "x0": 0.939,
          "x1": 0.939,
          "xref": "paper",
          "y0": 0,
          "y1": 1,
          "yref": "paper"
         }
        ],
        "template": {
         "data": {
          "bar": [
           {
            "error_x": {
             "color": "#2a3f5f"
            },
            "error_y": {
             "color": "#2a3f5f"
            },
            "marker": {
             "line": {
              "color": "white",
              "width": 0.5
             },
             "pattern": {
              "fillmode": "overlay",
              "size": 10,
              "solidity": 0.2
             }
            },
            "type": "bar"
           }
          ],
          "barpolar": [
           {
            "marker": {
             "line": {
              "color": "white",
              "width": 0.5
             },
             "pattern": {
              "fillmode": "overlay",
              "size": 10,
              "solidity": 0.2
             }
            },
            "type": "barpolar"
           }
          ],
          "carpet": [
           {
            "aaxis": {
             "endlinecolor": "#2a3f5f",
             "gridcolor": "#C8D4E3",
             "linecolor": "#C8D4E3",
             "minorgridcolor": "#C8D4E3",
             "startlinecolor": "#2a3f5f"
            },
            "baxis": {
             "endlinecolor": "#2a3f5f",
             "gridcolor": "#C8D4E3",
             "linecolor": "#C8D4E3",
             "minorgridcolor": "#C8D4E3",
             "startlinecolor": "#2a3f5f"
            },
            "type": "carpet"
           }
          ],
          "choropleth": [
           {
            "colorbar": {
             "outlinewidth": 0,
             "ticks": ""
            },
            "type": "choropleth"
           }
          ],
          "contour": [
           {
            "colorbar": {
             "outlinewidth": 0,
             "ticks": ""
            },
            "colorscale": [
             [
              0,
              "#0d0887"
             ],
             [
              0.1111111111111111,
              "#46039f"
             ],
             [
              0.2222222222222222,
              "#7201a8"
             ],
             [
              0.3333333333333333,
              "#9c179e"
             ],
             [
              0.4444444444444444,
              "#bd3786"
             ],
             [
              0.5555555555555556,
              "#d8576b"
             ],
             [
              0.6666666666666666,
              "#ed7953"
             ],
             [
              0.7777777777777778,
              "#fb9f3a"
             ],
             [
              0.8888888888888888,
              "#fdca26"
             ],
             [
              1,
              "#f0f921"
             ]
            ],
            "type": "contour"
           }
          ],
          "contourcarpet": [
           {
            "colorbar": {
             "outlinewidth": 0,
             "ticks": ""
            },
            "type": "contourcarpet"
           }
          ],
          "heatmap": [
           {
            "colorbar": {
             "outlinewidth": 0,
             "ticks": ""
            },
            "colorscale": [
             [
              0,
              "#0d0887"
             ],
             [
              0.1111111111111111,
              "#46039f"
             ],
             [
              0.2222222222222222,
              "#7201a8"
             ],
             [
              0.3333333333333333,
              "#9c179e"
             ],
             [
              0.4444444444444444,
              "#bd3786"
             ],
             [
              0.5555555555555556,
              "#d8576b"
             ],
             [
              0.6666666666666666,
              "#ed7953"
             ],
             [
              0.7777777777777778,
              "#fb9f3a"
             ],
             [
              0.8888888888888888,
              "#fdca26"
             ],
             [
              1,
              "#f0f921"
             ]
            ],
            "type": "heatmap"
           }
          ],
          "histogram": [
           {
            "marker": {
             "pattern": {
              "fillmode": "overlay",
              "size": 10,
              "solidity": 0.2
             }
            },
            "type": "histogram"
           }
          ],
          "histogram2d": [
           {
            "colorbar": {
             "outlinewidth": 0,
             "ticks": ""
            },
            "colorscale": [
             [
              0,
              "#0d0887"
             ],
             [
              0.1111111111111111,
              "#46039f"
             ],
             [
              0.2222222222222222,
              "#7201a8"
             ],
             [
              0.3333333333333333,
              "#9c179e"
             ],
             [
              0.4444444444444444,
              "#bd3786"
             ],
             [
              0.5555555555555556,
              "#d8576b"
             ],
             [
              0.6666666666666666,
              "#ed7953"
             ],
             [
              0.7777777777777778,
              "#fb9f3a"
             ],
             [
              0.8888888888888888,
              "#fdca26"
             ],
             [
              1,
              "#f0f921"
             ]
            ],
            "type": "histogram2d"
           }
          ],
          "histogram2dcontour": [
           {
            "colorbar": {
             "outlinewidth": 0,
             "ticks": ""
            },
            "colorscale": [
             [
              0,
              "#0d0887"
             ],
             [
              0.1111111111111111,
              "#46039f"
             ],
             [
              0.2222222222222222,
              "#7201a8"
             ],
             [
              0.3333333333333333,
              "#9c179e"
             ],
             [
              0.4444444444444444,
              "#bd3786"
             ],
             [
              0.5555555555555556,
              "#d8576b"
             ],
             [
              0.6666666666666666,
              "#ed7953"
             ],
             [
              0.7777777777777778,
              "#fb9f3a"
             ],
             [
              0.8888888888888888,
              "#fdca26"
             ],
             [
              1,
              "#f0f921"
             ]
            ],
            "type": "histogram2dcontour"
           }
          ],
          "mesh3d": [
           {
            "colorbar": {
             "outlinewidth": 0,
             "ticks": ""
            },
            "type": "mesh3d"
           }
          ],
          "parcoords": [
           {
            "line": {
             "colorbar": {
              "outlinewidth": 0,
              "ticks": ""
             }
            },
            "type": "parcoords"
           }
          ],
          "pie": [
           {
            "automargin": true,
            "type": "pie"
           }
          ],
          "scatter": [
           {
            "fillpattern": {
             "fillmode": "overlay",
             "size": 10,
             "solidity": 0.2
            },
            "type": "scatter"
           }
          ],
          "scatter3d": [
           {
            "line": {
             "colorbar": {
              "outlinewidth": 0,
              "ticks": ""
             }
            },
            "marker": {
             "colorbar": {
              "outlinewidth": 0,
              "ticks": ""
             }
            },
            "type": "scatter3d"
           }
          ],
          "scattercarpet": [
           {
            "marker": {
             "colorbar": {
              "outlinewidth": 0,
              "ticks": ""
             }
            },
            "type": "scattercarpet"
           }
          ],
          "scattergeo": [
           {
            "marker": {
             "colorbar": {
              "outlinewidth": 0,
              "ticks": ""
             }
            },
            "type": "scattergeo"
           }
          ],
          "scattergl": [
           {
            "marker": {
             "colorbar": {
              "outlinewidth": 0,
              "ticks": ""
             }
            },
            "type": "scattergl"
           }
          ],
          "scattermap": [
           {
            "marker": {
             "colorbar": {
              "outlinewidth": 0,
              "ticks": ""
             }
            },
            "type": "scattermap"
           }
          ],
          "scattermapbox": [
           {
            "marker": {
             "colorbar": {
              "outlinewidth": 0,
              "ticks": ""
             }
            },
            "type": "scattermapbox"
           }
          ],
          "scatterpolar": [
           {
            "marker": {
             "colorbar": {
              "outlinewidth": 0,
              "ticks": ""
             }
            },
            "type": "scatterpolar"
           }
          ],
          "scatterpolargl": [
           {
            "marker": {
             "colorbar": {
              "outlinewidth": 0,
              "ticks": ""
             }
            },
            "type": "scatterpolargl"
           }
          ],
          "scatterternary": [
           {
            "marker": {
             "colorbar": {
              "outlinewidth": 0,
              "ticks": ""
             }
            },
            "type": "scatterternary"
           }
          ],
          "surface": [
           {
            "colorbar": {
             "outlinewidth": 0,
             "ticks": ""
            },
            "colorscale": [
             [
              0,
              "#0d0887"
             ],
             [
              0.1111111111111111,
              "#46039f"
             ],
             [
              0.2222222222222222,
              "#7201a8"
             ],
             [
              0.3333333333333333,
              "#9c179e"
             ],
             [
              0.4444444444444444,
              "#bd3786"
             ],
             [
              0.5555555555555556,
              "#d8576b"
             ],
             [
              0.6666666666666666,
              "#ed7953"
             ],
             [
              0.7777777777777778,
              "#fb9f3a"
             ],
             [
              0.8888888888888888,
              "#fdca26"
             ],
             [
              1,
              "#f0f921"
             ]
            ],
            "type": "surface"
           }
          ],
          "table": [
           {
            "cells": {
             "fill": {
              "color": "#EBF0F8"
             },
             "line": {
              "color": "white"
             }
            },
            "header": {
             "fill": {
              "color": "#C8D4E3"
             },
             "line": {
              "color": "white"
             }
            },
            "type": "table"
           }
          ]
         },
         "layout": {
          "annotationdefaults": {
           "arrowcolor": "#2a3f5f",
           "arrowhead": 0,
           "arrowwidth": 1
          },
          "autotypenumbers": "strict",
          "coloraxis": {
           "colorbar": {
            "outlinewidth": 0,
            "ticks": ""
           }
          },
          "colorscale": {
           "diverging": [
            [
             0,
             "#8e0152"
            ],
            [
             0.1,
             "#c51b7d"
            ],
            [
             0.2,
             "#de77ae"
            ],
            [
             0.3,
             "#f1b6da"
            ],
            [
             0.4,
             "#fde0ef"
            ],
            [
             0.5,
             "#f7f7f7"
            ],
            [
             0.6,
             "#e6f5d0"
            ],
            [
             0.7,
             "#b8e186"
            ],
            [
             0.8,
             "#7fbc41"
            ],
            [
             0.9,
             "#4d9221"
            ],
            [
             1,
             "#276419"
            ]
           ],
           "sequential": [
            [
             0,
             "#0d0887"
            ],
            [
             0.1111111111111111,
             "#46039f"
            ],
            [
             0.2222222222222222,
             "#7201a8"
            ],
            [
             0.3333333333333333,
             "#9c179e"
            ],
            [
             0.4444444444444444,
             "#bd3786"
            ],
            [
             0.5555555555555556,
             "#d8576b"
            ],
            [
             0.6666666666666666,
             "#ed7953"
            ],
            [
             0.7777777777777778,
             "#fb9f3a"
            ],
            [
             0.8888888888888888,
             "#fdca26"
            ],
            [
             1,
             "#f0f921"
            ]
           ],
           "sequentialminus": [
            [
             0,
             "#0d0887"
            ],
            [
             0.1111111111111111,
             "#46039f"
            ],
            [
             0.2222222222222222,
             "#7201a8"
            ],
            [
             0.3333333333333333,
             "#9c179e"
            ],
            [
             0.4444444444444444,
             "#bd3786"
            ],
            [
             0.5555555555555556,
             "#d8576b"
            ],
            [
             0.6666666666666666,
             "#ed7953"
            ],
            [
             0.7777777777777778,
             "#fb9f3a"
            ],
            [
             0.8888888888888888,
             "#fdca26"
            ],
            [
             1,
             "#f0f921"
            ]
           ]
          },
          "colorway": [
           "#636efa",
           "#EF553B",
           "#00cc96",
           "#ab63fa",
           "#FFA15A",
           "#19d3f3",
           "#FF6692",
           "#B6E880",
           "#FF97FF",
           "#FECB52"
          ],
          "font": {
           "color": "#2a3f5f"
          },
          "geo": {
           "bgcolor": "white",
           "lakecolor": "white",
           "landcolor": "white",
           "showlakes": true,
           "showland": true,
           "subunitcolor": "#C8D4E3"
          },
          "hoverlabel": {
           "align": "left"
          },
          "hovermode": "closest",
          "mapbox": {
           "style": "light"
          },
          "paper_bgcolor": "white",
          "plot_bgcolor": "white",
          "polar": {
           "angularaxis": {
            "gridcolor": "#EBF0F8",
            "linecolor": "#EBF0F8",
            "ticks": ""
           },
           "bgcolor": "white",
           "radialaxis": {
            "gridcolor": "#EBF0F8",
            "linecolor": "#EBF0F8",
            "ticks": ""
           }
          },
          "scene": {
           "xaxis": {
            "backgroundcolor": "white",
            "gridcolor": "#DFE8F3",
            "gridwidth": 2,
            "linecolor": "#EBF0F8",
            "showbackground": true,
            "ticks": "",
            "zerolinecolor": "#EBF0F8"
           },
           "yaxis": {
            "backgroundcolor": "white",
            "gridcolor": "#DFE8F3",
            "gridwidth": 2,
            "linecolor": "#EBF0F8",
            "showbackground": true,
            "ticks": "",
            "zerolinecolor": "#EBF0F8"
           },
           "zaxis": {
            "backgroundcolor": "white",
            "gridcolor": "#DFE8F3",
            "gridwidth": 2,
            "linecolor": "#EBF0F8",
            "showbackground": true,
            "ticks": "",
            "zerolinecolor": "#EBF0F8"
           }
          },
          "shapedefaults": {
           "line": {
            "color": "#2a3f5f"
           }
          },
          "ternary": {
           "aaxis": {
            "gridcolor": "#DFE8F3",
            "linecolor": "#A2B1C6",
            "ticks": ""
           },
           "baxis": {
            "gridcolor": "#DFE8F3",
            "linecolor": "#A2B1C6",
            "ticks": ""
           },
           "bgcolor": "white",
           "caxis": {
            "gridcolor": "#DFE8F3",
            "linecolor": "#A2B1C6",
            "ticks": ""
           }
          },
          "title": {
           "x": 0.05
          },
          "xaxis": {
           "automargin": true,
           "gridcolor": "#EBF0F8",
           "linecolor": "#EBF0F8",
           "ticks": "",
           "title": {
            "standoff": 15
           },
           "zerolinecolor": "#EBF0F8",
           "zerolinewidth": 2
          },
          "yaxis": {
           "automargin": true,
           "gridcolor": "#EBF0F8",
           "linecolor": "#EBF0F8",
           "ticks": "",
           "title": {
            "standoff": 15
           },
           "zerolinecolor": "#EBF0F8",
           "zerolinewidth": 2
          }
         }
        },
        "width": 1600,
        "xaxis": {
         "anchor": "y",
         "domain": [
          0,
          0.94
         ]
        },
        "yaxis": {
         "anchor": "x",
         "domain": [
          0,
          1
         ],
         "range": [
          0,
          6
         ],
         "title": {
          "font": {
           "size": 20
          },
          "text": "Normalised SID"
         }
        },
        "yaxis2": {
         "anchor": "x",
         "overlaying": "y",
         "range": [
          0,
          6
         ],
         "scaleanchor": 0,
         "showgrid": false,
         "showline": false,
         "showticklabels": false,
         "side": "right",
         "title": {
          "font": {
           "size": 20
          },
          "text": ""
         },
         "zeroline": true
        }
       }
      }
     },
     "metadata": {},
     "output_type": "display_data"
    }
   ],
   "source": [
    "double_bar_chart_plotly(all_sum, names_dict, colors_dict, methods, save_figs=save_figs, output_name=\"./Fig.2_SID_cpdag.html\", debug=False, range_y1=[0,6], range_y2=[0,6])#"
   ]
  },
  {
   "cell_type": "markdown",
   "id": "cfba6af9",
   "metadata": {},
   "source": [
    "# Checks"
   ]
  },
  {
   "cell_type": "code",
   "execution_count": null,
   "id": "f97480c2",
   "metadata": {},
   "outputs": [],
   "source": [
    "random_graphs_compare.columns"
   ]
  },
  {
   "cell_type": "code",
   "execution_count": null,
   "id": "d17ec911",
   "metadata": {},
   "outputs": [],
   "source": [
    "random_graphs_compare[[\n",
    "       'n_nodes', 'n_edges',\n",
    "       'is_best_st_in_all_co', 'is_best_st_in_all_pr', 'is_best_pr_in_all_co',\n",
    "       'is_all_st_subset_of_all_co', 'is_all_st_subset_of_all_pr',\n",
    "       'is_all_pr_subset_of_all_co']].groupby(['n_nodes', 'n_edges']\n",
    "                                              ).mean().T"
   ]
  },
  {
   "cell_type": "code",
   "execution_count": null,
   "id": "25684f1a",
   "metadata": {},
   "outputs": [],
   "source": [
    "print(\"cases when best stable model is stronger than best preferred model: \", \n",
    "      random_graphs_compare[random_graphs_compare['ST_best_I'] > random_graphs_compare['CO_MAX_best_I']].shape[0] / len(random_graphs_compare) * 100, '%')\n",
    "print(\"cases when best stable model is weaker than best preferred model: \", \n",
    "      random_graphs_compare[random_graphs_compare['ST_best_I'] < random_graphs_compare['CO_MAX_best_I']].shape[0] / len(random_graphs_compare) * 100, '%')\n",
    "print(\"cases when best preferred model is equal to the best complete model: \",\n",
    "      random_graphs_compare[random_graphs_compare['CO_best_model']== random_graphs_compare['CO_MAX_best_model']].shape[0] / len(random_graphs_compare) * 100, '%')\n",
    "print(\"cases when the strength of the best preferred model is equal to the strength of the best complete model: \",\n",
    "      random_graphs_compare[random_graphs_compare['CO_best_I']== random_graphs_compare['CO_MAX_best_I']].shape[0] / len(random_graphs_compare) * 100, '%')"
   ]
  },
  {
   "cell_type": "code",
   "execution_count": null,
   "id": "ea2f0066",
   "metadata": {},
   "outputs": [],
   "source": [
    "all(random_graphs_compare['CO_used_num_facts'] == random_graphs_compare['CO_total_num_facts']), all(random_graphs_compare['CO_MAX_used_num_facts'] == random_graphs_compare['CO_MAX_total_num_facts']), all(random_graphs_compare['ST_used_num_facts'] == random_graphs_compare['ST_total_num_facts'])"
   ]
  },
  {
   "cell_type": "code",
   "execution_count": null,
   "id": "22cee231",
   "metadata": {},
   "outputs": [],
   "source": [
    "# Sanity check: all best models are DAGs\n",
    "\n",
    "sys.path.insert(0, '../../ArgCausalDisco')\n",
    "from ArgCausalDisco.utils.graph_utils import is_dag\n",
    "from src.abasp.utils import get_matrix_from_arrow_set\n",
    "\n",
    "for sem in ['ST', 'CO', 'CO_MAX']:\n",
    "    is_dag_list = []\n",
    "    for n_nodes, model in zip(random_graphs_compare['n_nodes'], random_graphs_compare[f'{sem}_best_model']):\n",
    "        model = eval(model)\n",
    "        graph_matrix = get_matrix_from_arrow_set(n_nodes, model)\n",
    "        is_dag_list.append(is_dag(graph_matrix))\n",
    "\n",
    "    print(f\"Is all {sem} best models a DAGs? {all(is_dag_list)}\")"
   ]
  },
  {
   "cell_type": "markdown",
   "id": "c765beeb",
   "metadata": {},
   "source": [
    "## Which model is stronger ST or CO"
   ]
  },
  {
   "cell_type": "markdown",
   "id": "83246b42",
   "metadata": {},
   "source": [
    "### Random graphs"
   ]
  },
  {
   "cell_type": "code",
   "execution_count": 14,
   "id": "ce2b9fda",
   "metadata": {},
   "outputs": [],
   "source": [
    "strength_agg_func = lambda df: pd.Series({\n",
    "        \"ST_CO_MAX_equal_strength\": (df[\"ST_best_I\"] == df[\"CO_MAX_best_I\"]).mean(),\n",
    "        \"ST_stronger\": (df[\"ST_best_I\"] > df[\"CO_MAX_best_I\"]).mean(),\n",
    "        \"CO_MAX_stronger\": (df[\"CO_MAX_best_I\"] > df[\"ST_best_I\"]).mean(),\n",
    "    })"
   ]
  },
  {
   "cell_type": "code",
   "execution_count": 15,
   "id": "8deaf016",
   "metadata": {},
   "outputs": [
    {
     "name": "stderr",
     "output_type": "stream",
     "text": [
      "/var/folders/jm/lwwvrk_n1gs5zb0035xb8ht40000gn/T/ipykernel_24808/3394753646.py:1: DeprecationWarning:\n",
      "\n",
      "DataFrameGroupBy.apply operated on the grouping columns. This behavior is deprecated, and in a future version of pandas the grouping columns will be excluded from the operation. Either pass `include_groups=False` to exclude the groupings or explicitly select the grouping columns after groupby to silence this warning.\n",
      "\n"
     ]
    },
    {
     "data": {
      "text/html": [
       "<div>\n",
       "<style scoped>\n",
       "    .dataframe tbody tr th:only-of-type {\n",
       "        vertical-align: middle;\n",
       "    }\n",
       "\n",
       "    .dataframe tbody tr th {\n",
       "        vertical-align: top;\n",
       "    }\n",
       "\n",
       "    .dataframe thead th {\n",
       "        text-align: right;\n",
       "    }\n",
       "</style>\n",
       "<table border=\"1\" class=\"dataframe\">\n",
       "  <thead>\n",
       "    <tr style=\"text-align: right;\">\n",
       "      <th></th>\n",
       "      <th>n_nodes</th>\n",
       "      <th>n_edges</th>\n",
       "      <th>ST_CO_MAX_equal_strength</th>\n",
       "      <th>ST_stronger</th>\n",
       "      <th>CO_MAX_stronger</th>\n",
       "    </tr>\n",
       "  </thead>\n",
       "  <tbody>\n",
       "    <tr>\n",
       "      <th>0</th>\n",
       "      <td>3</td>\n",
       "      <td>3</td>\n",
       "      <td>1.00</td>\n",
       "      <td>0.00</td>\n",
       "      <td>0.0</td>\n",
       "    </tr>\n",
       "    <tr>\n",
       "      <th>1</th>\n",
       "      <td>4</td>\n",
       "      <td>4</td>\n",
       "      <td>1.00</td>\n",
       "      <td>0.00</td>\n",
       "      <td>0.0</td>\n",
       "    </tr>\n",
       "    <tr>\n",
       "      <th>2</th>\n",
       "      <td>5</td>\n",
       "      <td>5</td>\n",
       "      <td>1.00</td>\n",
       "      <td>0.00</td>\n",
       "      <td>0.0</td>\n",
       "    </tr>\n",
       "    <tr>\n",
       "      <th>3</th>\n",
       "      <td>6</td>\n",
       "      <td>6</td>\n",
       "      <td>0.96</td>\n",
       "      <td>0.04</td>\n",
       "      <td>0.0</td>\n",
       "    </tr>\n",
       "  </tbody>\n",
       "</table>\n",
       "</div>"
      ],
      "text/plain": [
       "   n_nodes  n_edges  ST_CO_MAX_equal_strength  ST_stronger  CO_MAX_stronger\n",
       "0        3        3                      1.00         0.00              0.0\n",
       "1        4        4                      1.00         0.00              0.0\n",
       "2        5        5                      1.00         0.00              0.0\n",
       "3        6        6                      0.96         0.04              0.0"
      ]
     },
     "execution_count": 15,
     "metadata": {},
     "output_type": "execute_result"
    }
   ],
   "source": [
    "random_graphs_strength_compare = random_graphs_compare.groupby(['n_nodes', 'n_edges']).apply(strength_agg_func).reset_index()\n",
    "random_graphs_strength_compare.head()"
   ]
  },
  {
   "cell_type": "code",
   "execution_count": 16,
   "id": "fb9d0df9",
   "metadata": {},
   "outputs": [
    {
     "name": "stderr",
     "output_type": "stream",
     "text": [
      "/var/folders/jm/lwwvrk_n1gs5zb0035xb8ht40000gn/T/ipykernel_24808/2608850617.py:1: DeprecationWarning:\n",
      "\n",
      "DataFrameGroupBy.apply operated on the grouping columns. This behavior is deprecated, and in a future version of pandas the grouping columns will be excluded from the operation. Either pass `include_groups=False` to exclude the groupings or explicitly select the grouping columns after groupby to silence this warning.\n",
      "\n"
     ]
    },
    {
     "data": {
      "text/html": [
       "<div>\n",
       "<style scoped>\n",
       "    .dataframe tbody tr th:only-of-type {\n",
       "        vertical-align: middle;\n",
       "    }\n",
       "\n",
       "    .dataframe tbody tr th {\n",
       "        vertical-align: top;\n",
       "    }\n",
       "\n",
       "    .dataframe thead th {\n",
       "        text-align: right;\n",
       "    }\n",
       "</style>\n",
       "<table border=\"1\" class=\"dataframe\">\n",
       "  <thead>\n",
       "    <tr style=\"text-align: right;\">\n",
       "      <th></th>\n",
       "      <th>dataset_name</th>\n",
       "      <th>ST_CO_MAX_equal_strength</th>\n",
       "      <th>ST_stronger</th>\n",
       "      <th>CO_MAX_stronger</th>\n",
       "      <th>n_edges</th>\n",
       "      <th>n_nodes</th>\n",
       "    </tr>\n",
       "  </thead>\n",
       "  <tbody>\n",
       "    <tr>\n",
       "      <th>0</th>\n",
       "      <td>CANCER&lt;br&gt; |V|=5, |E|=4</td>\n",
       "      <td>1.00</td>\n",
       "      <td>0.00</td>\n",
       "      <td>0.00</td>\n",
       "      <td>4</td>\n",
       "      <td>5</td>\n",
       "    </tr>\n",
       "    <tr>\n",
       "      <th>1</th>\n",
       "      <td>EARTHQUAKE&lt;br&gt; |V|=5, |E|=4</td>\n",
       "      <td>1.00</td>\n",
       "      <td>0.00</td>\n",
       "      <td>0.00</td>\n",
       "      <td>4</td>\n",
       "      <td>5</td>\n",
       "    </tr>\n",
       "    <tr>\n",
       "      <th>2</th>\n",
       "      <td>SURVEY&lt;br&gt; |V|=6, |E|=6</td>\n",
       "      <td>0.92</td>\n",
       "      <td>0.04</td>\n",
       "      <td>0.04</td>\n",
       "      <td>6</td>\n",
       "      <td>6</td>\n",
       "    </tr>\n",
       "  </tbody>\n",
       "</table>\n",
       "</div>"
      ],
      "text/plain": [
       "                  dataset_name  ST_CO_MAX_equal_strength  ST_stronger  \\\n",
       "0      CANCER<br> |V|=5, |E|=4                      1.00         0.00   \n",
       "1  EARTHQUAKE<br> |V|=5, |E|=4                      1.00         0.00   \n",
       "2      SURVEY<br> |V|=6, |E|=6                      0.92         0.04   \n",
       "\n",
       "   CO_MAX_stronger  n_edges  n_nodes  \n",
       "0             0.00        4        5  \n",
       "1             0.00        4        5  \n",
       "2             0.04        6        6  "
      ]
     },
     "execution_count": 16,
     "metadata": {},
     "output_type": "execute_result"
    }
   ],
   "source": [
    "bn_graphs_strength_compare = bnlearn_compare.groupby('dataset_name').apply(strength_agg_func).reset_index()\n",
    "\n",
    "# process the dataset names to make it look nicer in the plots\n",
    "bn_graphs_strength_compare['n_edges'] = bn_graphs_strength_compare['dataset_name'].map(dags_arcs_map)\n",
    "bn_graphs_strength_compare['n_nodes'] = bn_graphs_strength_compare['dataset_name'].map(dags_nodes_map)\n",
    "bn_graphs_strength_compare['dataset_name'] = [a.upper() for a in bn_graphs_strength_compare[\"dataset_name\"].astype(str)]\n",
    "bn_graphs_strength_compare['dataset_name'] = (bn_graphs_strength_compare['dataset_name'] \n",
    "    + np.repeat(\"<br> |V|=\",len(bn_graphs_strength_compare))\n",
    "    + bn_graphs_strength_compare[\"n_nodes\"].astype(str)\n",
    "    + np.repeat(\", |E|=\",len(bn_graphs_strength_compare))\n",
    "    + bn_graphs_strength_compare[\"n_edges\"].astype(str))\n",
    "bn_graphs_strength_compare.head()"
   ]
  },
  {
   "cell_type": "code",
   "execution_count": 17,
   "id": "3ac72034",
   "metadata": {},
   "outputs": [],
   "source": [
    "import plotly.express as px\n",
    "\n",
    "\n",
    "def plot_strength_comparison(df, id_vars, xaxis_title, filename):\n",
    "    # Custom legend labels\n",
    "    legend_map = {\n",
    "        \"ST_CO_MAX_equal_strength\": \"Equal Strength\",\n",
    "        \"ST_stronger\": \"ST Best Model is Stronger\",\n",
    "        \"CO_MAX_stronger\": \"CO-max Best Model is stronger\"\n",
    "    }\n",
    "\n",
    "    # Melt the DataFrame for plotting\n",
    "    df_melted = df.melt(\n",
    "        id_vars=id_vars,\n",
    "        value_vars=list(legend_map.keys()),\n",
    "        var_name=\"Case\",\n",
    "        value_name=\"Proportion\"\n",
    "    )\n",
    "\n",
    "    # Replace Case names using the mapping\n",
    "    df_melted[\"Case\"] = df_melted[\"Case\"].map(legend_map)\n",
    "\n",
    "    # Create the plot\n",
    "    fig = px.bar(\n",
    "        df_melted,\n",
    "        x=id_vars,\n",
    "        y=\"Proportion\",\n",
    "        color=\"Case\",\n",
    "        barmode=\"stack\"\n",
    "    )\n",
    "\n",
    "    # Format axes and layout\n",
    "    fig.update_layout(\n",
    "        xaxis_title=xaxis_title,\n",
    "        yaxis_title=\"Proportion\",\n",
    "        yaxis_range=[0, 1]\n",
    "    )\n",
    "\n",
    "    # Ensure x-ticks are only integers\n",
    "    fig.update_xaxes(tickmode='linear', dtick=1)\n",
    "    fig.update_layout(legend_title_text=None)\n",
    "    fig.update_yaxes(\n",
    "        showgrid=True,        # enable grid\n",
    "        gridcolor='lightgray',  # color of grid lines\n",
    "        gridwidth=1           # thickness of grid lines\n",
    "    )\n",
    "    fig.write_image(f'{filename}.jpeg', width=800, height=400, scale=3)\n",
    "    fig.show()\n"
   ]
  },
  {
   "cell_type": "code",
   "execution_count": 18,
   "id": "850d0e9d",
   "metadata": {},
   "outputs": [
    {
     "data": {
      "application/vnd.plotly.v1+json": {
       "config": {
        "plotlyServerURL": "https://plot.ly"
       },
       "data": [
        {
         "hovertemplate": "Case=Equal Strength<br>n_nodes=%{x}<br>Proportion=%{y}<extra></extra>",
         "legendgroup": "Equal Strength",
         "marker": {
          "color": "#636efa",
          "pattern": {
           "shape": ""
          }
         },
         "name": "Equal Strength",
         "orientation": "v",
         "showlegend": true,
         "textposition": "auto",
         "type": "bar",
         "x": {
          "bdata": "AwQFBg==",
          "dtype": "i1"
         },
         "xaxis": "x",
         "y": {
          "bdata": "AAAAAAAA8D8AAAAAAADwPwAAAAAAAPA/uB6F61G47j8=",
          "dtype": "f8"
         },
         "yaxis": "y"
        },
        {
         "hovertemplate": "Case=ST Best Model is Stronger<br>n_nodes=%{x}<br>Proportion=%{y}<extra></extra>",
         "legendgroup": "ST Best Model is Stronger",
         "marker": {
          "color": "#EF553B",
          "pattern": {
           "shape": ""
          }
         },
         "name": "ST Best Model is Stronger",
         "orientation": "v",
         "showlegend": true,
         "textposition": "auto",
         "type": "bar",
         "x": {
          "bdata": "AwQFBg==",
          "dtype": "i1"
         },
         "xaxis": "x",
         "y": {
          "bdata": "AAAAAAAAAAAAAAAAAAAAAAAAAAAAAAAAexSuR+F6pD8=",
          "dtype": "f8"
         },
         "yaxis": "y"
        },
        {
         "hovertemplate": "Case=CO-max Best Model is stronger<br>n_nodes=%{x}<br>Proportion=%{y}<extra></extra>",
         "legendgroup": "CO-max Best Model is stronger",
         "marker": {
          "color": "#00cc96",
          "pattern": {
           "shape": ""
          }
         },
         "name": "CO-max Best Model is stronger",
         "orientation": "v",
         "showlegend": true,
         "textposition": "auto",
         "type": "bar",
         "x": {
          "bdata": "AwQFBg==",
          "dtype": "i1"
         },
         "xaxis": "x",
         "y": {
          "bdata": "AAAAAAAAAAAAAAAAAAAAAAAAAAAAAAAAAAAAAAAAAAA=",
          "dtype": "f8"
         },
         "yaxis": "y"
        }
       ],
       "layout": {
        "barmode": "stack",
        "legend": {
         "title": {},
         "tracegroupgap": 0
        },
        "margin": {
         "t": 60
        },
        "template": {
         "data": {
          "bar": [
           {
            "error_x": {
             "color": "#2a3f5f"
            },
            "error_y": {
             "color": "#2a3f5f"
            },
            "marker": {
             "line": {
              "color": "#E5ECF6",
              "width": 0.5
             },
             "pattern": {
              "fillmode": "overlay",
              "size": 10,
              "solidity": 0.2
             }
            },
            "type": "bar"
           }
          ],
          "barpolar": [
           {
            "marker": {
             "line": {
              "color": "#E5ECF6",
              "width": 0.5
             },
             "pattern": {
              "fillmode": "overlay",
              "size": 10,
              "solidity": 0.2
             }
            },
            "type": "barpolar"
           }
          ],
          "carpet": [
           {
            "aaxis": {
             "endlinecolor": "#2a3f5f",
             "gridcolor": "white",
             "linecolor": "white",
             "minorgridcolor": "white",
             "startlinecolor": "#2a3f5f"
            },
            "baxis": {
             "endlinecolor": "#2a3f5f",
             "gridcolor": "white",
             "linecolor": "white",
             "minorgridcolor": "white",
             "startlinecolor": "#2a3f5f"
            },
            "type": "carpet"
           }
          ],
          "choropleth": [
           {
            "colorbar": {
             "outlinewidth": 0,
             "ticks": ""
            },
            "type": "choropleth"
           }
          ],
          "contour": [
           {
            "colorbar": {
             "outlinewidth": 0,
             "ticks": ""
            },
            "colorscale": [
             [
              0,
              "#0d0887"
             ],
             [
              0.1111111111111111,
              "#46039f"
             ],
             [
              0.2222222222222222,
              "#7201a8"
             ],
             [
              0.3333333333333333,
              "#9c179e"
             ],
             [
              0.4444444444444444,
              "#bd3786"
             ],
             [
              0.5555555555555556,
              "#d8576b"
             ],
             [
              0.6666666666666666,
              "#ed7953"
             ],
             [
              0.7777777777777778,
              "#fb9f3a"
             ],
             [
              0.8888888888888888,
              "#fdca26"
             ],
             [
              1,
              "#f0f921"
             ]
            ],
            "type": "contour"
           }
          ],
          "contourcarpet": [
           {
            "colorbar": {
             "outlinewidth": 0,
             "ticks": ""
            },
            "type": "contourcarpet"
           }
          ],
          "heatmap": [
           {
            "colorbar": {
             "outlinewidth": 0,
             "ticks": ""
            },
            "colorscale": [
             [
              0,
              "#0d0887"
             ],
             [
              0.1111111111111111,
              "#46039f"
             ],
             [
              0.2222222222222222,
              "#7201a8"
             ],
             [
              0.3333333333333333,
              "#9c179e"
             ],
             [
              0.4444444444444444,
              "#bd3786"
             ],
             [
              0.5555555555555556,
              "#d8576b"
             ],
             [
              0.6666666666666666,
              "#ed7953"
             ],
             [
              0.7777777777777778,
              "#fb9f3a"
             ],
             [
              0.8888888888888888,
              "#fdca26"
             ],
             [
              1,
              "#f0f921"
             ]
            ],
            "type": "heatmap"
           }
          ],
          "histogram": [
           {
            "marker": {
             "pattern": {
              "fillmode": "overlay",
              "size": 10,
              "solidity": 0.2
             }
            },
            "type": "histogram"
           }
          ],
          "histogram2d": [
           {
            "colorbar": {
             "outlinewidth": 0,
             "ticks": ""
            },
            "colorscale": [
             [
              0,
              "#0d0887"
             ],
             [
              0.1111111111111111,
              "#46039f"
             ],
             [
              0.2222222222222222,
              "#7201a8"
             ],
             [
              0.3333333333333333,
              "#9c179e"
             ],
             [
              0.4444444444444444,
              "#bd3786"
             ],
             [
              0.5555555555555556,
              "#d8576b"
             ],
             [
              0.6666666666666666,
              "#ed7953"
             ],
             [
              0.7777777777777778,
              "#fb9f3a"
             ],
             [
              0.8888888888888888,
              "#fdca26"
             ],
             [
              1,
              "#f0f921"
             ]
            ],
            "type": "histogram2d"
           }
          ],
          "histogram2dcontour": [
           {
            "colorbar": {
             "outlinewidth": 0,
             "ticks": ""
            },
            "colorscale": [
             [
              0,
              "#0d0887"
             ],
             [
              0.1111111111111111,
              "#46039f"
             ],
             [
              0.2222222222222222,
              "#7201a8"
             ],
             [
              0.3333333333333333,
              "#9c179e"
             ],
             [
              0.4444444444444444,
              "#bd3786"
             ],
             [
              0.5555555555555556,
              "#d8576b"
             ],
             [
              0.6666666666666666,
              "#ed7953"
             ],
             [
              0.7777777777777778,
              "#fb9f3a"
             ],
             [
              0.8888888888888888,
              "#fdca26"
             ],
             [
              1,
              "#f0f921"
             ]
            ],
            "type": "histogram2dcontour"
           }
          ],
          "mesh3d": [
           {
            "colorbar": {
             "outlinewidth": 0,
             "ticks": ""
            },
            "type": "mesh3d"
           }
          ],
          "parcoords": [
           {
            "line": {
             "colorbar": {
              "outlinewidth": 0,
              "ticks": ""
             }
            },
            "type": "parcoords"
           }
          ],
          "pie": [
           {
            "automargin": true,
            "type": "pie"
           }
          ],
          "scatter": [
           {
            "fillpattern": {
             "fillmode": "overlay",
             "size": 10,
             "solidity": 0.2
            },
            "type": "scatter"
           }
          ],
          "scatter3d": [
           {
            "line": {
             "colorbar": {
              "outlinewidth": 0,
              "ticks": ""
             }
            },
            "marker": {
             "colorbar": {
              "outlinewidth": 0,
              "ticks": ""
             }
            },
            "type": "scatter3d"
           }
          ],
          "scattercarpet": [
           {
            "marker": {
             "colorbar": {
              "outlinewidth": 0,
              "ticks": ""
             }
            },
            "type": "scattercarpet"
           }
          ],
          "scattergeo": [
           {
            "marker": {
             "colorbar": {
              "outlinewidth": 0,
              "ticks": ""
             }
            },
            "type": "scattergeo"
           }
          ],
          "scattergl": [
           {
            "marker": {
             "colorbar": {
              "outlinewidth": 0,
              "ticks": ""
             }
            },
            "type": "scattergl"
           }
          ],
          "scattermap": [
           {
            "marker": {
             "colorbar": {
              "outlinewidth": 0,
              "ticks": ""
             }
            },
            "type": "scattermap"
           }
          ],
          "scattermapbox": [
           {
            "marker": {
             "colorbar": {
              "outlinewidth": 0,
              "ticks": ""
             }
            },
            "type": "scattermapbox"
           }
          ],
          "scatterpolar": [
           {
            "marker": {
             "colorbar": {
              "outlinewidth": 0,
              "ticks": ""
             }
            },
            "type": "scatterpolar"
           }
          ],
          "scatterpolargl": [
           {
            "marker": {
             "colorbar": {
              "outlinewidth": 0,
              "ticks": ""
             }
            },
            "type": "scatterpolargl"
           }
          ],
          "scatterternary": [
           {
            "marker": {
             "colorbar": {
              "outlinewidth": 0,
              "ticks": ""
             }
            },
            "type": "scatterternary"
           }
          ],
          "surface": [
           {
            "colorbar": {
             "outlinewidth": 0,
             "ticks": ""
            },
            "colorscale": [
             [
              0,
              "#0d0887"
             ],
             [
              0.1111111111111111,
              "#46039f"
             ],
             [
              0.2222222222222222,
              "#7201a8"
             ],
             [
              0.3333333333333333,
              "#9c179e"
             ],
             [
              0.4444444444444444,
              "#bd3786"
             ],
             [
              0.5555555555555556,
              "#d8576b"
             ],
             [
              0.6666666666666666,
              "#ed7953"
             ],
             [
              0.7777777777777778,
              "#fb9f3a"
             ],
             [
              0.8888888888888888,
              "#fdca26"
             ],
             [
              1,
              "#f0f921"
             ]
            ],
            "type": "surface"
           }
          ],
          "table": [
           {
            "cells": {
             "fill": {
              "color": "#EBF0F8"
             },
             "line": {
              "color": "white"
             }
            },
            "header": {
             "fill": {
              "color": "#C8D4E3"
             },
             "line": {
              "color": "white"
             }
            },
            "type": "table"
           }
          ]
         },
         "layout": {
          "annotationdefaults": {
           "arrowcolor": "#2a3f5f",
           "arrowhead": 0,
           "arrowwidth": 1
          },
          "autotypenumbers": "strict",
          "coloraxis": {
           "colorbar": {
            "outlinewidth": 0,
            "ticks": ""
           }
          },
          "colorscale": {
           "diverging": [
            [
             0,
             "#8e0152"
            ],
            [
             0.1,
             "#c51b7d"
            ],
            [
             0.2,
             "#de77ae"
            ],
            [
             0.3,
             "#f1b6da"
            ],
            [
             0.4,
             "#fde0ef"
            ],
            [
             0.5,
             "#f7f7f7"
            ],
            [
             0.6,
             "#e6f5d0"
            ],
            [
             0.7,
             "#b8e186"
            ],
            [
             0.8,
             "#7fbc41"
            ],
            [
             0.9,
             "#4d9221"
            ],
            [
             1,
             "#276419"
            ]
           ],
           "sequential": [
            [
             0,
             "#0d0887"
            ],
            [
             0.1111111111111111,
             "#46039f"
            ],
            [
             0.2222222222222222,
             "#7201a8"
            ],
            [
             0.3333333333333333,
             "#9c179e"
            ],
            [
             0.4444444444444444,
             "#bd3786"
            ],
            [
             0.5555555555555556,
             "#d8576b"
            ],
            [
             0.6666666666666666,
             "#ed7953"
            ],
            [
             0.7777777777777778,
             "#fb9f3a"
            ],
            [
             0.8888888888888888,
             "#fdca26"
            ],
            [
             1,
             "#f0f921"
            ]
           ],
           "sequentialminus": [
            [
             0,
             "#0d0887"
            ],
            [
             0.1111111111111111,
             "#46039f"
            ],
            [
             0.2222222222222222,
             "#7201a8"
            ],
            [
             0.3333333333333333,
             "#9c179e"
            ],
            [
             0.4444444444444444,
             "#bd3786"
            ],
            [
             0.5555555555555556,
             "#d8576b"
            ],
            [
             0.6666666666666666,
             "#ed7953"
            ],
            [
             0.7777777777777778,
             "#fb9f3a"
            ],
            [
             0.8888888888888888,
             "#fdca26"
            ],
            [
             1,
             "#f0f921"
            ]
           ]
          },
          "colorway": [
           "#636efa",
           "#EF553B",
           "#00cc96",
           "#ab63fa",
           "#FFA15A",
           "#19d3f3",
           "#FF6692",
           "#B6E880",
           "#FF97FF",
           "#FECB52"
          ],
          "font": {
           "color": "#2a3f5f"
          },
          "geo": {
           "bgcolor": "white",
           "lakecolor": "white",
           "landcolor": "#E5ECF6",
           "showlakes": true,
           "showland": true,
           "subunitcolor": "white"
          },
          "hoverlabel": {
           "align": "left"
          },
          "hovermode": "closest",
          "mapbox": {
           "style": "light"
          },
          "paper_bgcolor": "white",
          "plot_bgcolor": "#E5ECF6",
          "polar": {
           "angularaxis": {
            "gridcolor": "white",
            "linecolor": "white",
            "ticks": ""
           },
           "bgcolor": "#E5ECF6",
           "radialaxis": {
            "gridcolor": "white",
            "linecolor": "white",
            "ticks": ""
           }
          },
          "scene": {
           "xaxis": {
            "backgroundcolor": "#E5ECF6",
            "gridcolor": "white",
            "gridwidth": 2,
            "linecolor": "white",
            "showbackground": true,
            "ticks": "",
            "zerolinecolor": "white"
           },
           "yaxis": {
            "backgroundcolor": "#E5ECF6",
            "gridcolor": "white",
            "gridwidth": 2,
            "linecolor": "white",
            "showbackground": true,
            "ticks": "",
            "zerolinecolor": "white"
           },
           "zaxis": {
            "backgroundcolor": "#E5ECF6",
            "gridcolor": "white",
            "gridwidth": 2,
            "linecolor": "white",
            "showbackground": true,
            "ticks": "",
            "zerolinecolor": "white"
           }
          },
          "shapedefaults": {
           "line": {
            "color": "#2a3f5f"
           }
          },
          "ternary": {
           "aaxis": {
            "gridcolor": "white",
            "linecolor": "white",
            "ticks": ""
           },
           "baxis": {
            "gridcolor": "white",
            "linecolor": "white",
            "ticks": ""
           },
           "bgcolor": "#E5ECF6",
           "caxis": {
            "gridcolor": "white",
            "linecolor": "white",
            "ticks": ""
           }
          },
          "title": {
           "x": 0.05
          },
          "xaxis": {
           "automargin": true,
           "gridcolor": "white",
           "linecolor": "white",
           "ticks": "",
           "title": {
            "standoff": 15
           },
           "zerolinecolor": "white",
           "zerolinewidth": 2
          },
          "yaxis": {
           "automargin": true,
           "gridcolor": "white",
           "linecolor": "white",
           "ticks": "",
           "title": {
            "standoff": 15
           },
           "zerolinecolor": "white",
           "zerolinewidth": 2
          }
         }
        },
        "xaxis": {
         "anchor": "y",
         "domain": [
          0,
          1
         ],
         "dtick": 1,
         "tickmode": "linear",
         "title": {
          "text": "Number of Nodes (|V|)"
         }
        },
        "yaxis": {
         "anchor": "x",
         "domain": [
          0,
          1
         ],
         "gridcolor": "lightgray",
         "gridwidth": 1,
         "range": [
          0,
          1
         ],
         "showgrid": true,
         "title": {
          "text": "Proportion"
         }
        }
       }
      }
     },
     "metadata": {},
     "output_type": "display_data"
    }
   ],
   "source": [
    "plot_strength_comparison(random_graphs_strength_compare, 'n_nodes', \"Number of Nodes (|V|)\", \"strength_compare_random\")"
   ]
  },
  {
   "cell_type": "code",
   "execution_count": 19,
   "id": "cf8775a3",
   "metadata": {},
   "outputs": [
    {
     "data": {
      "application/vnd.plotly.v1+json": {
       "config": {
        "plotlyServerURL": "https://plot.ly"
       },
       "data": [
        {
         "hovertemplate": "Case=Equal Strength<br>dataset_name=%{x}<br>Proportion=%{y}<extra></extra>",
         "legendgroup": "Equal Strength",
         "marker": {
          "color": "#636efa",
          "pattern": {
           "shape": ""
          }
         },
         "name": "Equal Strength",
         "orientation": "v",
         "showlegend": true,
         "textposition": "auto",
         "type": "bar",
         "x": [
          "CANCER<br> |V|=5, |E|=4",
          "EARTHQUAKE<br> |V|=5, |E|=4",
          "SURVEY<br> |V|=6, |E|=6"
         ],
         "xaxis": "x",
         "y": {
          "bdata": "AAAAAAAA8D8AAAAAAADwP3E9CtejcO0/",
          "dtype": "f8"
         },
         "yaxis": "y"
        },
        {
         "hovertemplate": "Case=ST Best Model is Stronger<br>dataset_name=%{x}<br>Proportion=%{y}<extra></extra>",
         "legendgroup": "ST Best Model is Stronger",
         "marker": {
          "color": "#EF553B",
          "pattern": {
           "shape": ""
          }
         },
         "name": "ST Best Model is Stronger",
         "orientation": "v",
         "showlegend": true,
         "textposition": "auto",
         "type": "bar",
         "x": [
          "CANCER<br> |V|=5, |E|=4",
          "EARTHQUAKE<br> |V|=5, |E|=4",
          "SURVEY<br> |V|=6, |E|=6"
         ],
         "xaxis": "x",
         "y": {
          "bdata": "AAAAAAAAAAAAAAAAAAAAAHsUrkfheqQ/",
          "dtype": "f8"
         },
         "yaxis": "y"
        },
        {
         "hovertemplate": "Case=CO-max Best Model is stronger<br>dataset_name=%{x}<br>Proportion=%{y}<extra></extra>",
         "legendgroup": "CO-max Best Model is stronger",
         "marker": {
          "color": "#00cc96",
          "pattern": {
           "shape": ""
          }
         },
         "name": "CO-max Best Model is stronger",
         "orientation": "v",
         "showlegend": true,
         "textposition": "auto",
         "type": "bar",
         "x": [
          "CANCER<br> |V|=5, |E|=4",
          "EARTHQUAKE<br> |V|=5, |E|=4",
          "SURVEY<br> |V|=6, |E|=6"
         ],
         "xaxis": "x",
         "y": {
          "bdata": "AAAAAAAAAAAAAAAAAAAAAHsUrkfheqQ/",
          "dtype": "f8"
         },
         "yaxis": "y"
        }
       ],
       "layout": {
        "barmode": "stack",
        "legend": {
         "title": {},
         "tracegroupgap": 0
        },
        "margin": {
         "t": 60
        },
        "template": {
         "data": {
          "bar": [
           {
            "error_x": {
             "color": "#2a3f5f"
            },
            "error_y": {
             "color": "#2a3f5f"
            },
            "marker": {
             "line": {
              "color": "#E5ECF6",
              "width": 0.5
             },
             "pattern": {
              "fillmode": "overlay",
              "size": 10,
              "solidity": 0.2
             }
            },
            "type": "bar"
           }
          ],
          "barpolar": [
           {
            "marker": {
             "line": {
              "color": "#E5ECF6",
              "width": 0.5
             },
             "pattern": {
              "fillmode": "overlay",
              "size": 10,
              "solidity": 0.2
             }
            },
            "type": "barpolar"
           }
          ],
          "carpet": [
           {
            "aaxis": {
             "endlinecolor": "#2a3f5f",
             "gridcolor": "white",
             "linecolor": "white",
             "minorgridcolor": "white",
             "startlinecolor": "#2a3f5f"
            },
            "baxis": {
             "endlinecolor": "#2a3f5f",
             "gridcolor": "white",
             "linecolor": "white",
             "minorgridcolor": "white",
             "startlinecolor": "#2a3f5f"
            },
            "type": "carpet"
           }
          ],
          "choropleth": [
           {
            "colorbar": {
             "outlinewidth": 0,
             "ticks": ""
            },
            "type": "choropleth"
           }
          ],
          "contour": [
           {
            "colorbar": {
             "outlinewidth": 0,
             "ticks": ""
            },
            "colorscale": [
             [
              0,
              "#0d0887"
             ],
             [
              0.1111111111111111,
              "#46039f"
             ],
             [
              0.2222222222222222,
              "#7201a8"
             ],
             [
              0.3333333333333333,
              "#9c179e"
             ],
             [
              0.4444444444444444,
              "#bd3786"
             ],
             [
              0.5555555555555556,
              "#d8576b"
             ],
             [
              0.6666666666666666,
              "#ed7953"
             ],
             [
              0.7777777777777778,
              "#fb9f3a"
             ],
             [
              0.8888888888888888,
              "#fdca26"
             ],
             [
              1,
              "#f0f921"
             ]
            ],
            "type": "contour"
           }
          ],
          "contourcarpet": [
           {
            "colorbar": {
             "outlinewidth": 0,
             "ticks": ""
            },
            "type": "contourcarpet"
           }
          ],
          "heatmap": [
           {
            "colorbar": {
             "outlinewidth": 0,
             "ticks": ""
            },
            "colorscale": [
             [
              0,
              "#0d0887"
             ],
             [
              0.1111111111111111,
              "#46039f"
             ],
             [
              0.2222222222222222,
              "#7201a8"
             ],
             [
              0.3333333333333333,
              "#9c179e"
             ],
             [
              0.4444444444444444,
              "#bd3786"
             ],
             [
              0.5555555555555556,
              "#d8576b"
             ],
             [
              0.6666666666666666,
              "#ed7953"
             ],
             [
              0.7777777777777778,
              "#fb9f3a"
             ],
             [
              0.8888888888888888,
              "#fdca26"
             ],
             [
              1,
              "#f0f921"
             ]
            ],
            "type": "heatmap"
           }
          ],
          "histogram": [
           {
            "marker": {
             "pattern": {
              "fillmode": "overlay",
              "size": 10,
              "solidity": 0.2
             }
            },
            "type": "histogram"
           }
          ],
          "histogram2d": [
           {
            "colorbar": {
             "outlinewidth": 0,
             "ticks": ""
            },
            "colorscale": [
             [
              0,
              "#0d0887"
             ],
             [
              0.1111111111111111,
              "#46039f"
             ],
             [
              0.2222222222222222,
              "#7201a8"
             ],
             [
              0.3333333333333333,
              "#9c179e"
             ],
             [
              0.4444444444444444,
              "#bd3786"
             ],
             [
              0.5555555555555556,
              "#d8576b"
             ],
             [
              0.6666666666666666,
              "#ed7953"
             ],
             [
              0.7777777777777778,
              "#fb9f3a"
             ],
             [
              0.8888888888888888,
              "#fdca26"
             ],
             [
              1,
              "#f0f921"
             ]
            ],
            "type": "histogram2d"
           }
          ],
          "histogram2dcontour": [
           {
            "colorbar": {
             "outlinewidth": 0,
             "ticks": ""
            },
            "colorscale": [
             [
              0,
              "#0d0887"
             ],
             [
              0.1111111111111111,
              "#46039f"
             ],
             [
              0.2222222222222222,
              "#7201a8"
             ],
             [
              0.3333333333333333,
              "#9c179e"
             ],
             [
              0.4444444444444444,
              "#bd3786"
             ],
             [
              0.5555555555555556,
              "#d8576b"
             ],
             [
              0.6666666666666666,
              "#ed7953"
             ],
             [
              0.7777777777777778,
              "#fb9f3a"
             ],
             [
              0.8888888888888888,
              "#fdca26"
             ],
             [
              1,
              "#f0f921"
             ]
            ],
            "type": "histogram2dcontour"
           }
          ],
          "mesh3d": [
           {
            "colorbar": {
             "outlinewidth": 0,
             "ticks": ""
            },
            "type": "mesh3d"
           }
          ],
          "parcoords": [
           {
            "line": {
             "colorbar": {
              "outlinewidth": 0,
              "ticks": ""
             }
            },
            "type": "parcoords"
           }
          ],
          "pie": [
           {
            "automargin": true,
            "type": "pie"
           }
          ],
          "scatter": [
           {
            "fillpattern": {
             "fillmode": "overlay",
             "size": 10,
             "solidity": 0.2
            },
            "type": "scatter"
           }
          ],
          "scatter3d": [
           {
            "line": {
             "colorbar": {
              "outlinewidth": 0,
              "ticks": ""
             }
            },
            "marker": {
             "colorbar": {
              "outlinewidth": 0,
              "ticks": ""
             }
            },
            "type": "scatter3d"
           }
          ],
          "scattercarpet": [
           {
            "marker": {
             "colorbar": {
              "outlinewidth": 0,
              "ticks": ""
             }
            },
            "type": "scattercarpet"
           }
          ],
          "scattergeo": [
           {
            "marker": {
             "colorbar": {
              "outlinewidth": 0,
              "ticks": ""
             }
            },
            "type": "scattergeo"
           }
          ],
          "scattergl": [
           {
            "marker": {
             "colorbar": {
              "outlinewidth": 0,
              "ticks": ""
             }
            },
            "type": "scattergl"
           }
          ],
          "scattermap": [
           {
            "marker": {
             "colorbar": {
              "outlinewidth": 0,
              "ticks": ""
             }
            },
            "type": "scattermap"
           }
          ],
          "scattermapbox": [
           {
            "marker": {
             "colorbar": {
              "outlinewidth": 0,
              "ticks": ""
             }
            },
            "type": "scattermapbox"
           }
          ],
          "scatterpolar": [
           {
            "marker": {
             "colorbar": {
              "outlinewidth": 0,
              "ticks": ""
             }
            },
            "type": "scatterpolar"
           }
          ],
          "scatterpolargl": [
           {
            "marker": {
             "colorbar": {
              "outlinewidth": 0,
              "ticks": ""
             }
            },
            "type": "scatterpolargl"
           }
          ],
          "scatterternary": [
           {
            "marker": {
             "colorbar": {
              "outlinewidth": 0,
              "ticks": ""
             }
            },
            "type": "scatterternary"
           }
          ],
          "surface": [
           {
            "colorbar": {
             "outlinewidth": 0,
             "ticks": ""
            },
            "colorscale": [
             [
              0,
              "#0d0887"
             ],
             [
              0.1111111111111111,
              "#46039f"
             ],
             [
              0.2222222222222222,
              "#7201a8"
             ],
             [
              0.3333333333333333,
              "#9c179e"
             ],
             [
              0.4444444444444444,
              "#bd3786"
             ],
             [
              0.5555555555555556,
              "#d8576b"
             ],
             [
              0.6666666666666666,
              "#ed7953"
             ],
             [
              0.7777777777777778,
              "#fb9f3a"
             ],
             [
              0.8888888888888888,
              "#fdca26"
             ],
             [
              1,
              "#f0f921"
             ]
            ],
            "type": "surface"
           }
          ],
          "table": [
           {
            "cells": {
             "fill": {
              "color": "#EBF0F8"
             },
             "line": {
              "color": "white"
             }
            },
            "header": {
             "fill": {
              "color": "#C8D4E3"
             },
             "line": {
              "color": "white"
             }
            },
            "type": "table"
           }
          ]
         },
         "layout": {
          "annotationdefaults": {
           "arrowcolor": "#2a3f5f",
           "arrowhead": 0,
           "arrowwidth": 1
          },
          "autotypenumbers": "strict",
          "coloraxis": {
           "colorbar": {
            "outlinewidth": 0,
            "ticks": ""
           }
          },
          "colorscale": {
           "diverging": [
            [
             0,
             "#8e0152"
            ],
            [
             0.1,
             "#c51b7d"
            ],
            [
             0.2,
             "#de77ae"
            ],
            [
             0.3,
             "#f1b6da"
            ],
            [
             0.4,
             "#fde0ef"
            ],
            [
             0.5,
             "#f7f7f7"
            ],
            [
             0.6,
             "#e6f5d0"
            ],
            [
             0.7,
             "#b8e186"
            ],
            [
             0.8,
             "#7fbc41"
            ],
            [
             0.9,
             "#4d9221"
            ],
            [
             1,
             "#276419"
            ]
           ],
           "sequential": [
            [
             0,
             "#0d0887"
            ],
            [
             0.1111111111111111,
             "#46039f"
            ],
            [
             0.2222222222222222,
             "#7201a8"
            ],
            [
             0.3333333333333333,
             "#9c179e"
            ],
            [
             0.4444444444444444,
             "#bd3786"
            ],
            [
             0.5555555555555556,
             "#d8576b"
            ],
            [
             0.6666666666666666,
             "#ed7953"
            ],
            [
             0.7777777777777778,
             "#fb9f3a"
            ],
            [
             0.8888888888888888,
             "#fdca26"
            ],
            [
             1,
             "#f0f921"
            ]
           ],
           "sequentialminus": [
            [
             0,
             "#0d0887"
            ],
            [
             0.1111111111111111,
             "#46039f"
            ],
            [
             0.2222222222222222,
             "#7201a8"
            ],
            [
             0.3333333333333333,
             "#9c179e"
            ],
            [
             0.4444444444444444,
             "#bd3786"
            ],
            [
             0.5555555555555556,
             "#d8576b"
            ],
            [
             0.6666666666666666,
             "#ed7953"
            ],
            [
             0.7777777777777778,
             "#fb9f3a"
            ],
            [
             0.8888888888888888,
             "#fdca26"
            ],
            [
             1,
             "#f0f921"
            ]
           ]
          },
          "colorway": [
           "#636efa",
           "#EF553B",
           "#00cc96",
           "#ab63fa",
           "#FFA15A",
           "#19d3f3",
           "#FF6692",
           "#B6E880",
           "#FF97FF",
           "#FECB52"
          ],
          "font": {
           "color": "#2a3f5f"
          },
          "geo": {
           "bgcolor": "white",
           "lakecolor": "white",
           "landcolor": "#E5ECF6",
           "showlakes": true,
           "showland": true,
           "subunitcolor": "white"
          },
          "hoverlabel": {
           "align": "left"
          },
          "hovermode": "closest",
          "mapbox": {
           "style": "light"
          },
          "paper_bgcolor": "white",
          "plot_bgcolor": "#E5ECF6",
          "polar": {
           "angularaxis": {
            "gridcolor": "white",
            "linecolor": "white",
            "ticks": ""
           },
           "bgcolor": "#E5ECF6",
           "radialaxis": {
            "gridcolor": "white",
            "linecolor": "white",
            "ticks": ""
           }
          },
          "scene": {
           "xaxis": {
            "backgroundcolor": "#E5ECF6",
            "gridcolor": "white",
            "gridwidth": 2,
            "linecolor": "white",
            "showbackground": true,
            "ticks": "",
            "zerolinecolor": "white"
           },
           "yaxis": {
            "backgroundcolor": "#E5ECF6",
            "gridcolor": "white",
            "gridwidth": 2,
            "linecolor": "white",
            "showbackground": true,
            "ticks": "",
            "zerolinecolor": "white"
           },
           "zaxis": {
            "backgroundcolor": "#E5ECF6",
            "gridcolor": "white",
            "gridwidth": 2,
            "linecolor": "white",
            "showbackground": true,
            "ticks": "",
            "zerolinecolor": "white"
           }
          },
          "shapedefaults": {
           "line": {
            "color": "#2a3f5f"
           }
          },
          "ternary": {
           "aaxis": {
            "gridcolor": "white",
            "linecolor": "white",
            "ticks": ""
           },
           "baxis": {
            "gridcolor": "white",
            "linecolor": "white",
            "ticks": ""
           },
           "bgcolor": "#E5ECF6",
           "caxis": {
            "gridcolor": "white",
            "linecolor": "white",
            "ticks": ""
           }
          },
          "title": {
           "x": 0.05
          },
          "xaxis": {
           "automargin": true,
           "gridcolor": "white",
           "linecolor": "white",
           "ticks": "",
           "title": {
            "standoff": 15
           },
           "zerolinecolor": "white",
           "zerolinewidth": 2
          },
          "yaxis": {
           "automargin": true,
           "gridcolor": "white",
           "linecolor": "white",
           "ticks": "",
           "title": {
            "standoff": 15
           },
           "zerolinecolor": "white",
           "zerolinewidth": 2
          }
         }
        },
        "xaxis": {
         "anchor": "y",
         "domain": [
          0,
          1
         ],
         "dtick": 1,
         "tickmode": "linear",
         "title": {
          "text": "Dataset"
         }
        },
        "yaxis": {
         "anchor": "x",
         "domain": [
          0,
          1
         ],
         "gridcolor": "lightgray",
         "gridwidth": 1,
         "range": [
          0,
          1
         ],
         "showgrid": true,
         "title": {
          "text": "Proportion"
         }
        }
       }
      }
     },
     "metadata": {},
     "output_type": "display_data"
    }
   ],
   "source": [
    "plot_strength_comparison(bn_graphs_strength_compare, 'dataset_name', \"Dataset\", \"strength_compare_bnlearn\")"
   ]
  },
  {
   "cell_type": "code",
   "execution_count": null,
   "id": "462146e6",
   "metadata": {},
   "outputs": [],
   "source": []
  }
 ],
 "metadata": {
  "kernelspec": {
   "display_name": "aba-env",
   "language": "python",
   "name": "python3"
  },
  "language_info": {
   "codemirror_mode": {
    "name": "ipython",
    "version": 3
   },
   "file_extension": ".py",
   "mimetype": "text/x-python",
   "name": "python",
   "nbconvert_exporter": "python",
   "pygments_lexer": "ipython3",
   "version": "3.12.9"
  }
 },
 "nbformat": 4,
 "nbformat_minor": 5
}
