{
 "cells": [
  {
   "cell_type": "code",
   "execution_count": null,
   "id": "b85ca478",
   "metadata": {},
   "outputs": [],
   "source": [
    "import warnings\n",
    "warnings.filterwarnings('ignore')\n",
    "import sys\n",
    "sys.path.insert(0,'../../')\n",
    "import numpy as np\n",
    "import pandas as pd\n",
    "pd.set_option('display.max_rows', 2000)\n",
    "sys.path.append('../../ArgCausalDisco/utils/')\n",
    "from ArgCausalDisco.utils.plotting import *\n",
    "print(sys.path)\n",
    "\n",
    "save_figs = True\n",
    "debug = False\n",
    "datasets = ['cancer', 'earthquake', 'survey', 'asia']\n",
    "dags_nodes_map = {'asia':8, 'cancer':5, 'earthquake':5, 'sachs':11, 'survey':6, 'alarm':37, 'child':20, 'insurance':27, 'hailfinder':56, 'hepar2':70}\n",
    "dags_arcs_map = {'asia':8, 'cancer':4, 'earthquake':4, 'sachs':17, 'survey':6, 'alarm':46, 'child':25, 'insurance':52, 'hailfinder':66, 'hepar2':123}\n",
    "methods = ['Random', 'FGS', 'NOTEARS-MLP', 'MPC', 'ABAPC (Ours)', 'ABAPC (ASPforABA)']\n",
    "names_dict = {'fgs':'FGS', 'nt':'NOTEARS-MLP', 'mpc':'MPC', 'random':'Random', 'abapc':'ABAPC (Ours)', 'pure_abapc': 'ABAPC (ASPforABA)'}\n",
    "symbols_dict = {'abapc':'triangle-down-dot','fgs':'triangle-up-dot','nt':'pentagon-dot','mpc':'hexagon2-dot', 'random':'x', 'pure_abapc': 'star-dot'}  \n",
    "colors_dict = {'abapc':sec_blue,'fgs':sec_orange,'nt':main_purple,'mpc':main_green,'random':'grey', 'pure_abapc':'black'}\n",
    "version = 'bnlearn_50rep' ## for 5000 samples\n",
    "# version = 'bnlearn_dag_v5_2000' ## for 2000 samples"
   ]
  },
  {
   "cell_type": "code",
   "execution_count": null,
   "id": "4e527ef7",
   "metadata": {},
   "outputs": [],
   "source": [
    "version_cpdag = version+'_cpdag'\n",
    "all_sum = pd.read_csv(f\"../../results/extension_based_semantics/stored_results_{version_cpdag}.csv\")\n",
    "columns=['dataset', 'model', 'elapsed_mean', 'elapsed_std', 'nnz_mean', 'nnz_std', \n",
    "        'fdr_mean', 'fdr_std', 'tpr_mean', 'tpr_std', 'fpr_mean', 'fpr_std', \n",
    "        'precision_mean', 'precision_std', 'recall_mean', 'recall_std',\n",
    "        'F1_mean', 'F1_std', 'shd_mean', 'shd_std', \n",
    "        'SID_low_mean', 'SID_low_std', 'SID_high_mean', 'SID_high_std'\n",
    "        ]\n",
    "assert len(columns) == len(all_sum.columns)\n",
    "all_sum.columns = columns\n",
    "\n",
    "all_sum['n_edges'] = all_sum['dataset'].map(dags_arcs_map)\n",
    "all_sum['n_nodes'] = all_sum['dataset'].map(dags_nodes_map)\n",
    "for var in ['shd','SID_low','SID_high']:\n",
    "    all_sum['p_'+var+'_mean'] = all_sum[var+'_mean'].astype(float)/all_sum['n_edges'].astype(int)\n",
    "    all_sum['p_'+var+'_std'] = all_sum[var+'_std'].astype(float)/all_sum['n_edges'].astype(int)\n",
    "all_sum['dataset'] = [a.upper() for a in all_sum[\"dataset\"].astype(str)]\n",
    "all_sum['dataset'] = all_sum['dataset'] +np.repeat(\"<br> |V|=\",len(all_sum))+ all_sum[\"n_nodes\"].astype(str)+np.repeat(\", |E|=\",len(all_sum))+\\\n",
    "                     all_sum[\"n_edges\"].astype(str)\n",
    "\n",
    "double_bar_chart_plotly(all_sum, ['p_SID_low','p_SID_high'], names_dict, colors_dict, methods, save_figs=save_figs, output_name=\"./Fig.2_SID_cpdag.html\", debug=False, range_y1=[0,6], range_y2=[0,6])#"
   ]
  },
  {
   "cell_type": "code",
   "execution_count": null,
   "id": "a6155230",
   "metadata": {},
   "outputs": [],
   "source": [
    "plot_runtime(all_sum, ['n_nodes'], \"n_nodes <= 10\", \n",
    "                     names_dict, symbols_dict, colors_dict, ['mpc', 'abapc', 'pure_abapc'],\n",
    "                         share_y=False, save_figs=save_figs, \n",
    "                            output_name=\"./Fig.3_runtime.html\", debug=False, font_size=20)"
   ]
  },
  {
   "cell_type": "code",
   "execution_count": null,
   "id": "fbe57ac9",
   "metadata": {},
   "outputs": [],
   "source": [
    "import pandas as pd\n",
    "import plotly.express as px\n",
    "import plotly.io as pio\n",
    "\n",
    "# Enable Kaleido export\n",
    "pio.kaleido.scope.default_format = \"png\"\n",
    "\n",
    "# Load your dataset\n",
    "df = all_sum\n",
    "\n",
    "# Optional: Clean HTML line breaks in 'dataset'\n",
    "df['dataset'] = df['dataset'].str.replace('<br>', '\\n', regex=False)\n",
    "\n",
    "# ✅ Filter only ABAPC models\n",
    "models_of_interest = ['ABAPC (ASPforABA)', 'ABAPC (Ours)']\n",
    "df_filtered = df[df['model'].isin(models_of_interest)]\n",
    "\n",
    "# Create grouped bar plot\n",
    "fig = px.bar(\n",
    "    df_filtered,\n",
    "    x='dataset',\n",
    "    y='elapsed_mean',\n",
    "    color='model',\n",
    "    barmode='group',\n",
    "    error_y='elapsed_std',\n",
    "    title=\"Elapsed Time (Mean ± Std) for ABAPC Models by Dataset\",\n",
    "    labels={'elapsed_mean': 'Elapsed Time (Mean)', 'dataset': 'Dataset'},\n",
    "    height=600\n",
    ")\n",
    "\n",
    "fig.update_layout(\n",
    "    xaxis_tickangle=-0,\n",
    "    bargap=0.25,\n",
    "    legend_title_text='Model',\n",
    "    template='plotly_white'\n",
    ")\n",
    "\n",
    "# Show the plot\n",
    "fig.show()\n",
    "\n",
    "# Export to image\n",
    "fig.write_image(\"elapsed_time_grouped_by_dataset.png\", scale=2)\n"
   ]
  },
  {
   "cell_type": "code",
   "execution_count": null,
   "id": "a67cfd91",
   "metadata": {},
   "outputs": [],
   "source": []
  }
 ],
 "metadata": {
  "kernelspec": {
   "display_name": ".venv",
   "language": "python",
   "name": "python3"
  },
  "language_info": {
   "codemirror_mode": {
    "name": "ipython",
    "version": 3
   },
   "file_extension": ".py",
   "mimetype": "text/x-python",
   "name": "python",
   "nbconvert_exporter": "python",
   "pygments_lexer": "ipython3",
   "version": "3.12.3"
  }
 },
 "nbformat": 4,
 "nbformat_minor": 5
}
