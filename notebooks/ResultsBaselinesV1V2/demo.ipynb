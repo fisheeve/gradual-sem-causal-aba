{
 "cells": [
  {
   "cell_type": "markdown",
   "id": "d1812658",
   "metadata": {},
   "source": [
    "# Results Notebook\n",
    "\n",
    "The aim of this notebook is to generate plots to showcase experiment results at `results/`\n",
    "\n",
    "Following is plotted:\n",
    "- SID plots of\n",
    "    - Gradual - V1\n",
    "        - SID score - Random graphs - Baselines, existing ABAPC, 4 methods with V1 improved ABAPC\n",
    "        - SID score - BNlearn 3 datasets - Baselines, existing ABAPC, 4 methods with V1 improved ABAPC\n",
    "        - Runtime - Random graphs - Baselines, existing ABAPC, 4 methods with V1 improved ABAPC\n",
    "    - Gradual - V2 - Ablation\n",
    "        - SID scores - Random graphs - ablation plots\n",
    "        - SID scores - Random graphs - comparison to baselines, existing ABAPC, V2 best (least approx)\n",
    "        - Runtime - Random graphs - ablation plots\n",
    "        - Runtime - Random graphs - comparison to baselines, existing ABAPC, V2. May be combined with last plot"
   ]
  },
  {
   "cell_type": "code",
   "execution_count": null,
   "id": "ebe8a1ad",
   "metadata": {},
   "outputs": [],
   "source": [
    "import pandas as pd\n",
    "import numpy as np\n",
    "\n",
    "import importlib\n",
    "import utils\n",
    "importlib.reload(utils)\n",
    "from utils import plot_runtime, double_bar_chart_plotly, process_model_names_and_runtime_v1_data, process_mean_std_sid_data, DAG_NODES_MAP, DAG_EDGES_MAP"
   ]
  },
  {
   "cell_type": "markdown",
   "id": "88e4169e",
   "metadata": {},
   "source": [
    "## Small Graphs V1 and V2 Plots"
   ]
  },
  {
   "cell_type": "code",
   "execution_count": null,
   "id": "fd7e93da",
   "metadata": {},
   "outputs": [],
   "source": [
    "baselines_data_random = pd.read_csv('../../results/existing/random_graphs/all_existing_methods_metrics_cpdag.csv')\n",
    "baselines_data_random_fgs = pd.read_csv('../../results/existing/random_graphs/fgs/all_existing_methods_metrics_cpdag.csv')\n",
    "baselines_data_random = pd.concat([baselines_data_random, baselines_data_random_fgs], ignore_index=True)\n",
    "\n",
    "baselines_data_bn = pd.read_csv('../../results/existing/bnlearn_graphs/all_existing_methods_metrics_cpdag.csv')\n",
    "baselines_data_bn_fgs = pd.read_csv('../../results/existing/bnlearn_graphs/fgs/all_existing_methods_metrics_cpdag.csv')\n",
    "baselines_data_bn = pd.concat([baselines_data_bn, baselines_data_bn_fgs], ignore_index=True)\n",
    "\n",
    "v1_data_random = pd.read_csv('../../results/gradual/v1_random_graphs/cpdag_metrics.csv')\n",
    "v1_data_bn = pd.read_csv('../../results/gradual/v1_bnlearn_graphs/cpdag_metrics.csv')\n",
    "\n",
    "fact_sourcing_runtime_random = pd.read_csv('../../results/existing/runtime_sourcing_facts_random_graphs/runtime_results.csv')\n",
    "fact_sourcing_runtime_bn = pd.read_csv('../../results/existing/runtime_sourcing_facts_bnlearn_graphs/runtime_results.csv')\n",
    "\n",
    "v2_data_random = pd.read_csv('../../results/gradual/v2_random_graphs_3_to_6_nodes/cpdag_metrics.csv')\n",
    "v2_data_bn = pd.read_csv('../../results/gradual/v2_bnlearn_graphs_up_to_6_nodes/cpdag_metrics.csv')\n"
   ]
  },
  {
   "cell_type": "code",
   "execution_count": null,
   "id": "ab2db09c",
   "metadata": {},
   "outputs": [],
   "source": [
    "v2_data_random.columns"
   ]
  },
  {
   "cell_type": "code",
   "execution_count": null,
   "id": "5a00b8b0",
   "metadata": {},
   "outputs": [],
   "source": [
    "v2_data_random['model'] = 'V2'\n",
    "v2_data_random['elapsed'] = (\n",
    "    v2_data_random['elapsed_bsaf_creation'] +\n",
    "    v2_data_random['elapsed_model_solution'] + \n",
    "    v2_data_random['aba_elapsed'] +\n",
    "    v2_data_random['ranking_elapsed']\n",
    ")\n",
    "\n",
    "v2_data_bn['model'] = 'V2'\n",
    "v2_data_bn['elapsed'] = (\n",
    "    v2_data_bn['elapsed_bsaf_creation'] +\n",
    "    v2_data_bn['elapsed_model_solution'] + \n",
    "    v2_data_bn['aba_elapsed'] +\n",
    "    v2_data_bn['ranking_elapsed']\n",
    ")"
   ]
  },
  {
   "cell_type": "code",
   "execution_count": null,
   "id": "f68fa408",
   "metadata": {},
   "outputs": [],
   "source": [
    "\n",
    "v1_data_random['dataset'] = '|V|=' + v1_data_random['n_nodes'].astype(str) + ', |E|=' + v1_data_random['n_edges'].astype(str)\n",
    "baselines_data_random['dataset'] = '|V|=' + baselines_data_random['n_nodes'].astype(str) + ', |E|=' + baselines_data_random['n_edges'].astype(str)\n",
    "v2_data_random['dataset'] = '|V|=' + v2_data_random['n_nodes'].astype(str) + ', |E|=' + v2_data_random['n_edges'].astype(str)"
   ]
  },
  {
   "cell_type": "code",
   "execution_count": null,
   "id": "7ac25d57",
   "metadata": {},
   "outputs": [],
   "source": [
    "baselines_random_processed = process_mean_std_sid_data(baselines_data_random)\n",
    "v1_data_with_model_names = process_model_names_and_runtime_v1_data(v1_data_random, fact_sourcing_runtime_random)\n",
    "v1_random_processed = process_mean_std_sid_data(v1_data_with_model_names)\n",
    "v2_data_random_processed = process_mean_std_sid_data(v2_data_random)\n",
    "\n",
    "v1_random_plot_data = pd.concat([v1_random_processed, \n",
    "                                 baselines_random_processed[baselines_random_processed['n_nodes'] <= 6],\n",
    "                                 v2_data_random_processed], \n",
    "                                 ignore_index=True)"
   ]
  },
  {
   "cell_type": "code",
   "execution_count": null,
   "id": "b2b68937",
   "metadata": {},
   "outputs": [],
   "source": [
    "v1_random_plot_data.head(1)"
   ]
  },
  {
   "cell_type": "code",
   "execution_count": null,
   "id": "82b85e90",
   "metadata": {},
   "outputs": [],
   "source": [
    "methods = [\n",
    "    'Random',\n",
    "    'FGS',\n",
    "    'NOTEARS-MLP',\n",
    "    'MPC',\n",
    "    'ABAPC (Original)',\n",
    "    'V1.1 Refined Fact Ranking',\n",
    "    'V1.2 Model Selection by Refined Fact Strengths',\n",
    "    'V1.3 Model Selection by Arrows Sum',\n",
    "    'V1.4 Model Selection by Arrows Mean',\n",
    "    'V2',\n",
    "]\n",
    "names_dict = {\n",
    "    'Random': 'Random',\n",
    "    'FGS': 'FGS',\n",
    "    'NOTEARS-MLP': 'NOTEARS-MLP',\n",
    "    'MPC': 'MPC',\n",
    "    'ABAPC (Original)': 'ABAPC (Original)',\n",
    "    'V1.1 Refined Fact Ranking': 'V1.1',\n",
    "    'V1.2 Model Selection by Refined Fact Strengths': 'V1.2',\n",
    "    'V1.3 Model Selection by Arrows Sum': 'V1.3',\n",
    "    'V1.4 Model Selection by Arrows Mean': 'V1.4 ',\n",
    "    'V2': 'V2',\n",
    "}\n",
    "colors_dict = {\n",
    "        'Random': 'grey',\n",
    "        'FGS': '#b85c00',\n",
    "        'NOTEARS-MLP': '#9454c4',\n",
    "        'MPC': '#379f9f',\n",
    "        'ABAPC (Original)': '#0085CA',\n",
    "        'V1.1 Refined Fact Ranking': \"#9F8D00\",\n",
    "        'V1.2 Model Selection by Refined Fact Strengths': \"#9E0000\",\n",
    "        'V1.3 Model Selection by Arrows Sum': \"#ff34da\",\n",
    "        'V1.4 Model Selection by Arrows Mean': \"#008100\",\n",
    "        'V2': \"#ff8c00\",\n",
    "    }"
   ]
  },
  {
   "cell_type": "code",
   "execution_count": null,
   "id": "49b07345",
   "metadata": {},
   "outputs": [],
   "source": [
    "import importlib\n",
    "import utils\n",
    "importlib.reload(utils)\n",
    "from utils import double_bar_chart_plotly\n",
    "\n",
    "double_bar_chart_plotly(v1_random_plot_data, \n",
    "                        names_dict,\n",
    "                        colors_dict,\n",
    "                        vars_to_plot=['n_sid_low', 'n_sid_high'],\n",
    "                        names=['Best', 'Worst'],\n",
    "                        labels=['Normalised SID = SID / Number of Edges in DAG', ''],\n",
    "                        methods=methods,\n",
    "                        dist_between_lines=0.1175,\n",
    "                        intra_dis=0.112,\n",
    "                        inter_dis=0.137,\n",
    "                        lin_space=5,\n",
    "                        nl_space=5,\n",
    "                        start_pos = 0.03,\n",
    "                            width=1300,\n",
    "                            height=600,\n",
    "                            range_y1=(0, 5),\n",
    "                            range_y2=(0, 5))"
   ]
  },
  {
   "cell_type": "code",
   "execution_count": null,
   "id": "8c68dbf0",
   "metadata": {},
   "outputs": [],
   "source": [
    "double_bar_chart_plotly(v1_random_plot_data, \n",
    "                        names_dict,\n",
    "                        colors_dict,\n",
    "                        vars_to_plot=['precision', 'recall'],\n",
    "                        names=['Precision', 'Recall'],\n",
    "                        labels=['Precision', 'Recall'],\n",
    "                        methods=methods,\n",
    "                        dist_between_lines=0.1175,\n",
    "                        intra_dis=0.112,\n",
    "                        inter_dis=0.137,\n",
    "                        lin_space=5,\n",
    "                        nl_space=5,\n",
    "                        start_pos = 0.03,\n",
    "                            width=1300,\n",
    "                            height=600,\n",
    "                            range_y1=(0, 1),\n",
    "                            range_y2=(0, 1))"
   ]
  },
  {
   "cell_type": "code",
   "execution_count": null,
   "id": "575ed25d",
   "metadata": {},
   "outputs": [],
   "source": [
    "double_bar_chart_plotly(v1_random_plot_data, \n",
    "                        names_dict,\n",
    "                        colors_dict,\n",
    "                        vars_to_plot=['f1', 'n_shd'],\n",
    "                        names=['f1', 'n_shd'],\n",
    "                        labels=['f1', 'n_shd'],\n",
    "                        methods=methods,\n",
    "                        dist_between_lines=0.1175,\n",
    "                        intra_dis=0.112,\n",
    "                        inter_dis=0.137,\n",
    "                        lin_space=5,\n",
    "                        nl_space=5,\n",
    "                        start_pos = 0.03,\n",
    "                            width=1300,\n",
    "                            height=600,\n",
    "                            range_y1=(0, 1.1),\n",
    "                            range_y2=(0, 2))"
   ]
  },
  {
   "cell_type": "markdown",
   "id": "87f345af",
   "metadata": {},
   "source": [
    "Now bnlearn datasets for V1"
   ]
  },
  {
   "cell_type": "code",
   "execution_count": null,
   "id": "9ef70650",
   "metadata": {},
   "outputs": [],
   "source": [
    "v1_data_bn['n_nodes'] = v1_data_bn['dataset'].map(DAG_NODES_MAP)\n",
    "v1_data_bn['n_edges'] = v1_data_bn['dataset'].map(DAG_EDGES_MAP)\n",
    "baselines_data_bn['n_nodes'] = baselines_data_bn['dataset'].map(DAG_NODES_MAP)\n",
    "baselines_data_bn['n_edges'] = baselines_data_bn['dataset'].map(DAG_EDGES_MAP)\n",
    "fact_sourcing_runtime_bn['n_nodes'] = fact_sourcing_runtime_bn['dataset'].map(DAG_NODES_MAP)\n",
    "fact_sourcing_runtime_bn['n_edges'] = fact_sourcing_runtime_bn['dataset'].map(DAG_EDGES_MAP)\n",
    "v2_data_bn['n_nodes'] = v2_data_bn['dataset'].map(DAG_NODES_MAP)\n",
    "v2_data_bn['n_edges'] = v2_data_bn['dataset'].map(DAG_EDGES_MAP)\n",
    "\n",
    "baselines_bn_processed = process_mean_std_sid_data(baselines_data_bn)\n",
    "v1_bn_data_with_model_names = process_model_names_and_runtime_v1_data(v1_data_bn, fact_sourcing_runtime_bn)\n",
    "v1_bn_processed = process_mean_std_sid_data(v1_bn_data_with_model_names)\n",
    "v2_data_bn_processed = process_mean_std_sid_data(v2_data_bn)\n",
    "\n",
    "v1_bn_plot_data = pd.concat([v1_bn_processed, \n",
    "                             baselines_bn_processed[baselines_bn_processed['n_nodes'] <= 6],\n",
    "                             v2_data_bn_processed], \n",
    "                             ignore_index=True)"
   ]
  },
  {
   "cell_type": "code",
   "execution_count": null,
   "id": "0ebe0352",
   "metadata": {},
   "outputs": [],
   "source": [
    "v1_bn_plot_data.head(1)"
   ]
  },
  {
   "cell_type": "code",
   "execution_count": null,
   "id": "e8167101",
   "metadata": {},
   "outputs": [],
   "source": [
    "double_bar_chart_plotly(v1_bn_plot_data, \n",
    "                        names_dict,\n",
    "                        colors_dict,\n",
    "                        vars_to_plot=['precision', 'recall'],\n",
    "                        names=['Precision', 'Recall'],\n",
    "                        labels=['Precision', 'Recall'],\n",
    "                        methods=methods,\n",
    "                        dist_between_lines=0.1565,\n",
    "                        lin_space=6,\n",
    "                        nl_space=6,\n",
    "                        intra_dis = 0.161,\n",
    "                        inter_dis = 0.174,\n",
    "                        start_pos = 0.04,\n",
    "                            width=1300,\n",
    "                            height=600,\n",
    "                            range_y1=(0, 1),\n",
    "                            range_y2=(0, 1))"
   ]
  },
  {
   "cell_type": "code",
   "execution_count": null,
   "id": "dfb2c8ba",
   "metadata": {},
   "outputs": [],
   "source": [
    "double_bar_chart_plotly(v1_bn_plot_data, \n",
    "                        names_dict,\n",
    "                        colors_dict,\n",
    "                        vars_to_plot=['f1', 'n_shd'],\n",
    "                        names=['f1', 'n_shd'],\n",
    "                        labels=['f1', 'n_shd'],\n",
    "                        methods=methods,\n",
    "                        dist_between_lines=0.1565,\n",
    "                        lin_space=6,\n",
    "                        nl_space=6,\n",
    "                        intra_dis = 0.161,\n",
    "                        inter_dis = 0.174,\n",
    "                        start_pos = 0.04,\n",
    "                            width=1300,\n",
    "                            height=600,\n",
    "                            range_y1=(0, 1.1),\n",
    "                            range_y2=(0, 2))"
   ]
  },
  {
   "cell_type": "code",
   "execution_count": null,
   "id": "ca17b451",
   "metadata": {},
   "outputs": [],
   "source": [
    "double_bar_chart_plotly(v1_bn_plot_data, \n",
    "                        names_dict,\n",
    "                        colors_dict,\n",
    "                        vars_to_plot=['n_sid_low', 'n_sid_high'],\n",
    "                        names=['Best', 'Worst'],\n",
    "                        labels=['Normalised SID = SID / Number of Edges in DAG', ''],\n",
    "                        methods=methods,\n",
    "                        dist_between_lines=0.1565,\n",
    "                        lin_space=6,\n",
    "                        nl_space=6,\n",
    "                        intra_dis = 0.161,\n",
    "                        inter_dis = 0.174,\n",
    "                        start_pos = 0.04,\n",
    "                            width=1300,\n",
    "                            height=600,\n",
    "                            range_y1=(0, 5),\n",
    "                            range_y2=(0, 5))"
   ]
  },
  {
   "cell_type": "markdown",
   "id": "6108af5f",
   "metadata": {},
   "source": [
    "Runtime for V1"
   ]
  },
  {
   "cell_type": "code",
   "execution_count": null,
   "id": "41f03be8",
   "metadata": {},
   "outputs": [],
   "source": [
    "methods = [\n",
    "    # 'Random',\n",
    "    # 'FGS',\n",
    "    # 'NOTEARS-MLP',\n",
    "    # 'MPC',\n",
    "    'ABAPC (Original)',\n",
    "    'V1.1 Refined Fact Ranking',\n",
    "    'V1.2 Model Selection by Refined Fact Strengths',\n",
    "    'V1.3 Model Selection by Arrows Sum',\n",
    "    'V1.4 Model Selection by Arrows Mean',\n",
    "    'V2',\n",
    "]\n",
    "\n",
    "symbols_dict = {\n",
    "    'ABAPC (Original)':'triangle-down-dot',\n",
    "    'FGS':'triangle-up-dot',\n",
    "    'NOTEARS-MLP':'pentagon-dot',\n",
    "    'MPC':'hexagon2-dot',\n",
    "    'Random':'x', \n",
    "    'V1.1 Refined Fact Ranking':'circle-dot',\n",
    "    'V1.2 Model Selection by Refined Fact Strengths':'diamond-dot',\n",
    "    'V1.3 Model Selection by Arrows Sum':'square-dot',\n",
    "    'V1.4 Model Selection by Arrows Mean':'star-dot',\n",
    "    'V2':'circle-dot'}"
   ]
  },
  {
   "cell_type": "code",
   "execution_count": null,
   "id": "5592fa96",
   "metadata": {},
   "outputs": [],
   "source": [
    "v1_data_for_runtime_plot = pd.concat([v1_data_with_model_names, baselines_data_random, v2_data_random], ignore_index=True)\n",
    "\n",
    "v1_data_for_runtime_plot = v1_data_for_runtime_plot.groupby(['n_nodes', 'n_edges', 'model'], as_index=False).aggregate(\n",
    "    elapsed_mean=('elapsed', 'mean'),\n",
    "    elapsed_std=('elapsed', 'std')\n",
    ")"
   ]
  },
  {
   "cell_type": "code",
   "execution_count": null,
   "id": "9a192c4d",
   "metadata": {},
   "outputs": [],
   "source": [
    "v1_data_for_runtime_plot = v1_data_for_runtime_plot[v1_data_for_runtime_plot['n_nodes'] <= 6]\n",
    "plot_runtime(v1_data_for_runtime_plot,\n",
    "             colors_dict=colors_dict,\n",
    "             names_dict=names_dict,\n",
    "             symbols_dict=symbols_dict,\n",
    "             methods=methods)"
   ]
  }
 ],
 "metadata": {
  "kernelspec": {
   "display_name": "aba-env",
   "language": "python",
   "name": "python3"
  },
  "language_info": {
   "codemirror_mode": {
    "name": "ipython",
    "version": 3
   },
   "file_extension": ".py",
   "mimetype": "text/x-python",
   "name": "python",
   "nbconvert_exporter": "python",
   "pygments_lexer": "ipython3",
   "version": "3.12.9"
  }
 },
 "nbformat": 4,
 "nbformat_minor": 5
}
