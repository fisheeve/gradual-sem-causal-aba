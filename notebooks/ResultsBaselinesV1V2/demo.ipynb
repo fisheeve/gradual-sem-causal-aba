{
 "cells": [
  {
   "cell_type": "markdown",
   "id": "d1812658",
   "metadata": {},
   "source": [
    "# Results Notebook\n",
    "\n",
    "The aim of this notebook is to generate plots to showcase experiment results at `results/`\n",
    "\n",
    "Following is plotted:\n",
    "- SID plots of\n",
    "    - Gradual - V1\n",
    "        - SID score - Random graphs - Baselines, existing ABAPC, 4 methods with V1 improved ABAPC\n",
    "        - SID score - BNlearn 3 datasets - Baselines, existing ABAPC, 4 methods with V1 improved ABAPC\n",
    "        - Runtime - Random graphs - Baselines, existing ABAPC, 4 methods with V1 improved ABAPC\n",
    "    - Gradual - V2 - Ablation\n",
    "        - SID scores - Random graphs - ablation plots\n",
    "        - SID scores - Random graphs - comparison to baselines, existing ABAPC, V2 best (least approx)\n",
    "        - Runtime - Random graphs - ablation plots\n",
    "        - Runtime - Random graphs - comparison to baselines, existing ABAPC, V2. May be combined with last plot"
   ]
  },
  {
   "cell_type": "code",
   "execution_count": 1,
   "id": "ebe8a1ad",
   "metadata": {},
   "outputs": [],
   "source": [
    "import pandas as pd\n",
    "import numpy as np\n",
    "\n",
    "import importlib\n",
    "import utils\n",
    "importlib.reload(utils)\n",
    "from utils import plot_runtime, double_bar_chart_plotly, process_model_names_and_runtime_v1_data, process_mean_std_sid_data, DAG_NODES_MAP, DAG_EDGES_MAP"
   ]
  },
  {
   "cell_type": "markdown",
   "id": "88e4169e",
   "metadata": {},
   "source": [
    "## Small Graphs V1 and V2 Plots"
   ]
  },
  {
   "cell_type": "code",
   "execution_count": 2,
   "id": "b1de4eed",
   "metadata": {},
   "outputs": [],
   "source": [
    "import zipfile\n",
    "\n",
    "with zipfile.ZipFile('../../results/existing/runtime_sourcing_facts_random_graphs/runtime_results.csv.zip', 'r') as zip_ref:\n",
    "    zip_ref.extractall('../../results/existing/runtime_sourcing_facts_random_graphs/')\n",
    "\n",
    "with zipfile.ZipFile('../../results/existing/runtime_sourcing_facts_bnlearn_graphs/runtime_results.csv.zip', 'r') as zip_ref:\n",
    "    zip_ref.extractall('../../results/existing/runtime_sourcing_facts_bnlearn_graphs/')"
   ]
  },
  {
   "cell_type": "code",
   "execution_count": 3,
   "id": "fd7e93da",
   "metadata": {},
   "outputs": [],
   "source": [
    "baselines_data_random = pd.read_csv('../../results/existing/random_graphs/all_existing_methods_metrics_cpdag.csv')\n",
    "baselines_data_random_fgs = pd.read_csv('../../results/existing/random_graphs/fgs/all_existing_methods_metrics_cpdag.csv')\n",
    "baselines_data_random = pd.concat([baselines_data_random, baselines_data_random_fgs], ignore_index=True)\n",
    "\n",
    "baselines_data_bn = pd.read_csv('../../results/existing/bnlearn_graphs/all_existing_methods_metrics_cpdag.csv')\n",
    "baselines_data_bn_fgs = pd.read_csv('../../results/existing/bnlearn_graphs/fgs/all_existing_methods_metrics_cpdag.csv')\n",
    "baselines_data_bn = pd.concat([baselines_data_bn, baselines_data_bn_fgs], ignore_index=True)\n",
    "\n",
    "v1_data_random = pd.read_csv('../../results/gradual/v1_random_graphs/cpdag_metrics.csv')\n",
    "v1_data_bn = pd.read_csv('../../results/gradual/v1_bnlearn_graphs/cpdag_metrics.csv')\n",
    "\n",
    "fact_sourcing_runtime_random = pd.read_csv('../../results/existing/runtime_sourcing_facts_random_graphs/runtime_results.csv')\n",
    "fact_sourcing_runtime_bn = pd.read_csv('../../results/existing/runtime_sourcing_facts_bnlearn_graphs/runtime_results.csv')\n",
    "\n",
    "v2_data_random = pd.read_csv('../../results/gradual/v2_random_graphs_3_to_6_nodes/cpdag_metrics.csv')\n",
    "v2_data_bn = pd.read_csv('../../results/gradual/v2_bnlearn_graphs_up_to_6_nodes/cpdag_metrics.csv')\n"
   ]
  },
  {
   "cell_type": "code",
   "execution_count": 4,
   "id": "ab2db09c",
   "metadata": {},
   "outputs": [
    {
     "data": {
      "text/plain": [
       "Index(['nnz', 'fdr', 'tpr', 'fpr', 'precision', 'recall', 'F1', 'shd',\n",
       "       'sid_low', 'sid_high', 'dataset', 'seed', 'n_nodes', 'n_edges',\n",
       "       'neighbourhood_n_nodes', 'max_cycle_length', 'max_ct_depth',\n",
       "       'max_path_length', 'max_c_set_size', 'search_depth',\n",
       "       'elapsed_bsaf_creation', 'elapsed_model_solution', 'is_converged',\n",
       "       'fact_ranking_method', 'model_ranking_method', 'num_edges_est',\n",
       "       'best_model', 'aba_elapsed', 'ranking_elapsed', 'best_I'],\n",
       "      dtype='object')"
      ]
     },
     "execution_count": 4,
     "metadata": {},
     "output_type": "execute_result"
    }
   ],
   "source": [
    "v2_data_random.columns"
   ]
  },
  {
   "cell_type": "code",
   "execution_count": 5,
   "id": "5a00b8b0",
   "metadata": {},
   "outputs": [],
   "source": [
    "v2_data_random['model'] = 'V2'\n",
    "v2_data_random['elapsed'] = (\n",
    "    v2_data_random['elapsed_bsaf_creation'] +\n",
    "    v2_data_random['elapsed_model_solution'] + \n",
    "    v2_data_random['aba_elapsed'] +\n",
    "    v2_data_random['ranking_elapsed']\n",
    ")\n",
    "\n",
    "v2_data_bn['model'] = 'V2'\n",
    "v2_data_bn['elapsed'] = (\n",
    "    v2_data_bn['elapsed_bsaf_creation'] +\n",
    "    v2_data_bn['elapsed_model_solution'] + \n",
    "    v2_data_bn['aba_elapsed'] +\n",
    "    v2_data_bn['ranking_elapsed']\n",
    ")"
   ]
  },
  {
   "cell_type": "code",
   "execution_count": 6,
   "id": "f68fa408",
   "metadata": {},
   "outputs": [],
   "source": [
    "\n",
    "v1_data_random['dataset'] = '|V|=' + v1_data_random['n_nodes'].astype(str) + ', |E|=' + v1_data_random['n_edges'].astype(str)\n",
    "baselines_data_random['dataset'] = '|V|=' + baselines_data_random['n_nodes'].astype(str) + ', |E|=' + baselines_data_random['n_edges'].astype(str)\n",
    "v2_data_random['dataset'] = '|V|=' + v2_data_random['n_nodes'].astype(str) + ', |E|=' + v2_data_random['n_edges'].astype(str)"
   ]
  },
  {
   "cell_type": "code",
   "execution_count": 7,
   "id": "7ac25d57",
   "metadata": {},
   "outputs": [],
   "source": [
    "baselines_random_processed = process_mean_std_sid_data(baselines_data_random)\n",
    "v1_data_with_model_names = process_model_names_and_runtime_v1_data(v1_data_random, fact_sourcing_runtime_random)\n",
    "v1_random_processed = process_mean_std_sid_data(v1_data_with_model_names)\n",
    "v2_data_random_processed = process_mean_std_sid_data(v2_data_random)\n",
    "\n",
    "v1_random_plot_data = pd.concat([v1_random_processed, \n",
    "                                 baselines_random_processed[baselines_random_processed['n_nodes'] <= 6],\n",
    "                                 v2_data_random_processed], \n",
    "                                 ignore_index=True)"
   ]
  },
  {
   "cell_type": "code",
   "execution_count": 8,
   "id": "b2b68937",
   "metadata": {},
   "outputs": [
    {
     "data": {
      "text/html": [
       "<div>\n",
       "<style scoped>\n",
       "    .dataframe tbody tr th:only-of-type {\n",
       "        vertical-align: middle;\n",
       "    }\n",
       "\n",
       "    .dataframe tbody tr th {\n",
       "        vertical-align: top;\n",
       "    }\n",
       "\n",
       "    .dataframe thead th {\n",
       "        text-align: right;\n",
       "    }\n",
       "</style>\n",
       "<table border=\"1\" class=\"dataframe\">\n",
       "  <thead>\n",
       "    <tr style=\"text-align: right;\">\n",
       "      <th></th>\n",
       "      <th>dataset</th>\n",
       "      <th>n_nodes</th>\n",
       "      <th>n_edges</th>\n",
       "      <th>model</th>\n",
       "      <th>sid_low_mean</th>\n",
       "      <th>sid_high_mean</th>\n",
       "      <th>sid_low_std</th>\n",
       "      <th>sid_high_std</th>\n",
       "      <th>precision_mean</th>\n",
       "      <th>precision_std</th>\n",
       "      <th>...</th>\n",
       "      <th>shd_mean</th>\n",
       "      <th>shd_std</th>\n",
       "      <th>nnz_mean</th>\n",
       "      <th>nnz_std</th>\n",
       "      <th>n_sid_low_mean</th>\n",
       "      <th>n_sid_high_mean</th>\n",
       "      <th>n_sid_low_std</th>\n",
       "      <th>n_sid_high_std</th>\n",
       "      <th>n_shd_mean</th>\n",
       "      <th>n_shd_std</th>\n",
       "    </tr>\n",
       "  </thead>\n",
       "  <tbody>\n",
       "    <tr>\n",
       "      <th>0</th>\n",
       "      <td>|V|=3, |E|=3</td>\n",
       "      <td>3</td>\n",
       "      <td>3</td>\n",
       "      <td>ABAPC (Original)</td>\n",
       "      <td>1.66</td>\n",
       "      <td>5.32</td>\n",
       "      <td>2.105484</td>\n",
       "      <td>1.316148</td>\n",
       "      <td>0.489998</td>\n",
       "      <td>0.347347</td>\n",
       "      <td>...</td>\n",
       "      <td>0.96</td>\n",
       "      <td>1.105829</td>\n",
       "      <td>2.44</td>\n",
       "      <td>0.577115</td>\n",
       "      <td>0.553333</td>\n",
       "      <td>1.773333</td>\n",
       "      <td>0.701828</td>\n",
       "      <td>0.438716</td>\n",
       "      <td>0.32</td>\n",
       "      <td>0.36861</td>\n",
       "    </tr>\n",
       "  </tbody>\n",
       "</table>\n",
       "<p>1 rows × 24 columns</p>\n",
       "</div>"
      ],
      "text/plain": [
       "        dataset  n_nodes  n_edges             model  sid_low_mean  \\\n",
       "0  |V|=3, |E|=3        3        3  ABAPC (Original)          1.66   \n",
       "\n",
       "   sid_high_mean  sid_low_std  sid_high_std  precision_mean  precision_std  \\\n",
       "0           5.32     2.105484      1.316148        0.489998       0.347347   \n",
       "\n",
       "   ...  shd_mean   shd_std  nnz_mean   nnz_std  n_sid_low_mean  \\\n",
       "0  ...      0.96  1.105829      2.44  0.577115        0.553333   \n",
       "\n",
       "   n_sid_high_mean  n_sid_low_std  n_sid_high_std  n_shd_mean  n_shd_std  \n",
       "0         1.773333       0.701828        0.438716        0.32    0.36861  \n",
       "\n",
       "[1 rows x 24 columns]"
      ]
     },
     "execution_count": 8,
     "metadata": {},
     "output_type": "execute_result"
    }
   ],
   "source": [
    "v1_random_plot_data.head(1)"
   ]
  },
  {
   "cell_type": "code",
   "execution_count": 9,
   "id": "82b85e90",
   "metadata": {},
   "outputs": [],
   "source": [
    "methods = [\n",
    "    'Random',\n",
    "    'FGS',\n",
    "    'NOTEARS-MLP',\n",
    "    'MPC',\n",
    "    'ABAPC (Original)',\n",
    "    'V1.1 Refined Fact Ranking',\n",
    "    'V1.2 Model Selection by Refined Fact Strengths',\n",
    "    'V1.3 Model Selection by Arrows Sum',\n",
    "    'V1.4 Model Selection by Arrows Mean',\n",
    "    'V2',\n",
    "]\n",
    "names_dict = {\n",
    "    'Random': 'Random',\n",
    "    'FGS': 'FGS',\n",
    "    'NOTEARS-MLP': 'NOTEARS-MLP',\n",
    "    'MPC': 'MPC',\n",
    "    'ABAPC (Original)': 'ABAPC (Original)',\n",
    "    'V1.1 Refined Fact Ranking': 'V1.1',\n",
    "    'V1.2 Model Selection by Refined Fact Strengths': 'V1.2',\n",
    "    'V1.3 Model Selection by Arrows Sum': 'V1.3',\n",
    "    'V1.4 Model Selection by Arrows Mean': 'V1.4 ',\n",
    "    'V2': 'V2',\n",
    "}\n",
    "colors_dict = {\n",
    "        'Random': 'grey',\n",
    "        'FGS': '#b85c00',\n",
    "        'NOTEARS-MLP': '#9454c4',\n",
    "        'MPC': '#379f9f',\n",
    "        'ABAPC (Original)': '#0085CA',\n",
    "        'V1.1 Refined Fact Ranking': \"#9F8D00\",\n",
    "        'V1.2 Model Selection by Refined Fact Strengths': \"#9E0000\",\n",
    "        'V1.3 Model Selection by Arrows Sum': \"#ff34da\",\n",
    "        'V1.4 Model Selection by Arrows Mean': \"#008100\",\n",
    "        'V2': \"#ff8c00\",\n",
    "    }"
   ]
  },
  {
   "cell_type": "code",
   "execution_count": 10,
   "id": "9e36970a",
   "metadata": {},
   "outputs": [
    {
     "data": {
      "application/vnd.plotly.v1+json": {
       "config": {
        "plotlyServerURL": "https://plot.ly"
       },
       "data": [
        {
         "error_y": {
          "array": {
           "bdata": "AAAAAAAAAAAjaC2k6dLjPyaedkM45+U/5otn7w1W5D8=",
           "dtype": "f8"
          },
          "type": "data",
          "visible": true
         },
         "marker": {
          "color": "grey"
         },
         "name": "Random",
         "offsetgroup": "0",
         "opacity": 0.6,
         "showlegend": true,
         "type": "bar",
         "x": [
          "|V|=3, |E|=3",
          "|V|=4, |E|=4",
          "|V|=5, |E|=5",
          "|V|=6, |E|=6"
         ],
         "y": {
          "bdata": "AAAAAAAAAACPwvUoXI/qP0a28/3UePk/kML1KFyP/j8=",
          "dtype": "f8"
         },
         "yaxis": "y"
        },
        {
         "error_y": {
          "array": {
           "bdata": "t1q8dwqg3j/EihTkTJ7pP9KSQhm1p+Y/KL8vxiow6z8=",
           "dtype": "f8"
          },
          "type": "data",
          "visible": true
         },
         "marker": {
          "color": "#b85c00"
         },
         "name": "FGS",
         "offsetgroup": "1",
         "opacity": 0.6,
         "showlegend": true,
         "type": "bar",
         "x": [
          "|V|=3, |E|=3",
          "|V|=4, |E|=4",
          "|V|=5, |E|=5",
          "|V|=6, |E|=6"
         ],
         "y": {
          "bdata": "6LSBThvo1D8UrkfhehTyP65H4XoUrvc/hetRuB6F/z8=",
          "dtype": "f8"
         },
         "yaxis": "y"
        },
        {
         "error_y": {
          "array": {
           "bdata": "Se7EwnNW4j+MRX1ws7TlP+shOm1oxus/11jnesd35D8=",
           "dtype": "f8"
          },
          "type": "data",
          "visible": true
         },
         "marker": {
          "color": "#9454c4"
         },
         "name": "NOTEARS-MLP",
         "offsetgroup": "2",
         "opacity": 0.6,
         "showlegend": true,
         "type": "bar",
         "x": [
          "|V|=3, |E|=3",
          "|V|=4, |E|=4",
          "|V|=5, |E|=5",
          "|V|=6, |E|=6"
         ],
         "y": {
          "bdata": "+cWSXyz55T+4HoXrUbjuP8ZLN4lBYPU/jCW/WPKL9T8=",
          "dtype": "f8"
         },
         "yaxis": "y"
        },
        {
         "error_y": {
          "array": {
           "bdata": "tC6mp8PM1D+AGcBl0oLgP72NqPuVk+Q/2Hn0+wnU6D8=",
           "dtype": "f8"
          },
          "type": "data",
          "visible": true
         },
         "marker": {
          "color": "#379f9f"
         },
         "name": "MPC",
         "offsetgroup": "3",
         "opacity": 0.6,
         "showlegend": true,
         "type": "bar",
         "x": [
          "|V|=3, |E|=3",
          "|V|=4, |E|=4",
          "|V|=5, |E|=5",
          "|V|=6, |E|=6"
         ],
         "y": {
          "bdata": "pHA9Ctej0D9xPQrXo3DdP83MzMzMzOw/dNpApw106j8=",
          "dtype": "f8"
         },
         "yaxis": "y"
        },
        {
         "error_y": {
          "array": {
           "bdata": "+M5QuF915j+MDPlhQGfpPwount8Hvek/gIIq+pXH7j8=",
           "dtype": "f8"
          },
          "type": "data",
          "visible": true
         },
         "marker": {
          "color": "#0085CA"
         },
         "name": "ABAPC (Original)",
         "offsetgroup": "4",
         "opacity": 0.6,
         "showlegend": true,
         "type": "bar",
         "x": [
          "|V|=3, |E|=3",
          "|V|=4, |E|=4",
          "|V|=5, |E|=5",
          "|V|=6, |E|=6"
         ],
         "y": {
          "bdata": "tYFOG+i04T89CtejcD3qP1K4HoXrUfA/9ihcj8L19D8=",
          "dtype": "f8"
         },
         "yaxis": "y"
        },
        {
         "error_y": {
          "array": {
           "bdata": "+M5QuF915j9IBhsTz63nP6AZyeq+Pus/y/h3kY7S8D8=",
           "dtype": "f8"
          },
          "type": "data",
          "visible": true
         },
         "marker": {
          "color": "#008100"
         },
         "name": "V1.4 ",
         "offsetgroup": "5",
         "opacity": 0.6,
         "showlegend": true,
         "type": "bar",
         "x": [
          "|V|=3, |E|=3",
          "|V|=4, |E|=4",
          "|V|=5, |E|=5",
          "|V|=6, |E|=6"
         ],
         "y": {
          "bdata": "tYFOG+i04T/2KFyPwvXoP+tRuB6F6/E/oNMGOm2g9z8=",
          "dtype": "f8"
         },
         "yaxis": "y"
        },
        {
         "error_y": {
          "array": {
           "bdata": "fYGflQj65T+2bdu2bdvmPxOW3pNiIOo/3doJ1Iud6T8=",
           "dtype": "f8"
          },
          "type": "data",
          "visible": true
         },
         "marker": {
          "color": "#ff8c00"
         },
         "name": "V2",
         "offsetgroup": "6",
         "opacity": 0.6,
         "showlegend": true,
         "type": "bar",
         "x": [
          "|V|=3, |E|=3",
          "|V|=4, |E|=4",
          "|V|=5, |E|=5",
          "|V|=6, |E|=6"
         ],
         "y": {
          "bdata": "3d3d3d3d3T/NzMzMzMzkP+bQItv5fvI/61G4HoXrAUA=",
          "dtype": "f8"
         },
         "yaxis": "y"
        },
        {
         "marker": {
          "color": "white"
         },
         "name": "",
         "offsetgroup": "7",
         "opacity": 1,
         "showlegend": false,
         "type": "bar",
         "x": [
          "|V|=3, |E|=3",
          "|V|=4, |E|=4",
          "|V|=5, |E|=5",
          "|V|=6, |E|=6"
         ],
         "y": {
          "bdata": "AAAAAAAAAAAAAAAAAAAAAAAAAAAAAAAAAAAAAAAAAAA=",
          "dtype": "f8"
         }
        },
        {
         "error_y": {
          "array": {
           "bdata": "AAAAAAAAAAARmzFQu0HhP5PFwb5/L+k/DXSCnt/D6z8=",
           "dtype": "f8"
          },
          "type": "data",
          "visible": true
         },
         "marker": {
          "color": "grey"
         },
         "name": "Random",
         "offsetgroup": "8",
         "opacity": 0.6,
         "showlegend": false,
         "type": "bar",
         "x": [
          "|V|=3, |E|=3",
          "|V|=4, |E|=4",
          "|V|=5, |E|=5",
          "|V|=6, |E|=6"
         ],
         "y": {
          "bdata": "AAAAAAAAAECamZmZmZkDQOf7qfHSTQZAiIiIiIiICEA=",
          "dtype": "f8"
         },
         "yaxis": "y2"
        },
        {
         "error_y": {
          "array": {
           "bdata": "DBf/pAvH1D9EOVEg6lrfP2JffZc7X+U/u+Fk7WZn7j8=",
           "dtype": "f8"
          },
          "type": "data",
          "visible": true
         },
         "marker": {
          "color": "#b85c00"
         },
         "name": "FGS",
         "offsetgroup": "9",
         "opacity": 0.6,
         "showlegend": false,
         "type": "bar",
         "x": [
          "|V|=3, |E|=3",
          "|V|=4, |E|=4",
          "|V|=5, |E|=5",
          "|V|=6, |E|=6"
         ],
         "y": {
          "bdata": "cD0K16Nw/T8pXI/C9SgDQIpBYOXQIgdAY8kvlvxiB0A=",
          "dtype": "f8"
         },
         "yaxis": "y2"
        },
        {
         "error_y": {
          "array": {
           "bdata": "Z6rPiplc3T/0MXU/manlP1AT+xmLtew/qUrygLbf7D8=",
           "dtype": "f8"
          },
          "type": "data",
          "visible": true
         },
         "marker": {
          "color": "#9454c4"
         },
         "name": "NOTEARS-MLP",
         "offsetgroup": "10",
         "opacity": 0.6,
         "showlegend": false,
         "type": "bar",
         "x": [
          "|V|=3, |E|=3",
          "|V|=4, |E|=4",
          "|V|=5, |E|=5",
          "|V|=6, |E|=6"
         ],
         "y": {
          "bdata": "/GLJL5b8+j/D9Shcj8IBQBWuR+F6FAZAcD0K16NwB0A=",
          "dtype": "f8"
         },
         "yaxis": "y2"
        },
        {
         "error_y": {
          "array": {
           "bdata": "pxqM7r//wT+MyTa22ZPYPyV8k8hMFeE/4GogHfL16D8=",
           "dtype": "f8"
          },
          "type": "data",
          "visible": true
         },
         "marker": {
          "color": "#379f9f"
         },
         "name": "MPC",
         "offsetgroup": "11",
         "opacity": 0.6,
         "showlegend": false,
         "type": "bar",
         "x": [
          "|V|=3, |E|=3",
          "|V|=4, |E|=4",
          "|V|=5, |E|=5",
          "|V|=6, |E|=6"
         ],
         "y": {
          "bdata": "Jb9Y8osl/z97FK5H4XoFQDiJQWDl0ApALPnFkl8sDUA=",
          "dtype": "f8"
         },
         "yaxis": "y2"
        },
        {
         "error_y": {
          "array": {
           "bdata": "uTpT7OsT3D+YSxEVtLDmP17R796Y7Os/1nnzx7tn8D8=",
           "dtype": "f8"
          },
          "type": "data",
          "visible": true
         },
         "marker": {
          "color": "#0085CA"
         },
         "name": "ABAPC (Original)",
         "offsetgroup": "12",
         "opacity": 0.6,
         "showlegend": false,
         "type": "bar",
         "x": [
          "|V|=3, |E|=3",
          "|V|=4, |E|=4",
          "|V|=5, |E|=5",
          "|V|=6, |E|=6"
         ],
         "y": {
          "bdata": "YCz5xZJf/D/Xo3A9CtcCQEw3iUFg5QRATxvotIFOB0A=",
          "dtype": "f8"
         },
         "yaxis": "y2"
        },
        {
         "error_y": {
          "array": {
           "bdata": "uTpT7OsT3D/69nv9PB3mP+JvKeY5WOs/AOcSUMej7T8=",
           "dtype": "f8"
          },
          "type": "data",
          "visible": true
         },
         "marker": {
          "color": "#008100"
         },
         "name": "V1.4 ",
         "offsetgroup": "13",
         "opacity": 0.6,
         "showlegend": false,
         "type": "bar",
         "x": [
          "|V|=3, |E|=3",
          "|V|=4, |E|=4",
          "|V|=5, |E|=5",
          "|V|=6, |E|=6"
         ],
         "y": {
          "bdata": "YCz5xZJf/D8UrkfhehQDQEjhehSuRwVAw/UoXI/CB0A=",
          "dtype": "f8"
         },
         "yaxis": "y2"
        },
        {
         "error_y": {
          "array": {
           "bdata": "gFXln/8T2D8uGw5287fgPw2Xg+VYgOo/KwLmhZES8T8=",
           "dtype": "f8"
          },
          "type": "data",
          "visible": true
         },
         "marker": {
          "color": "#ff8c00"
         },
         "name": "V2",
         "offsetgroup": "14",
         "opacity": 0.6,
         "showlegend": false,
         "type": "bar",
         "x": [
          "|V|=3, |E|=3",
          "|V|=4, |E|=4",
          "|V|=5, |E|=5",
          "|V|=6, |E|=6"
         ],
         "y": {
          "bdata": "jCW/WPKL/T8zMzMzMzMDQN9PjZduEgdAY8kvlvxiB0A=",
          "dtype": "f8"
         },
         "yaxis": "y2"
        }
       ],
       "layout": {
        "annotations": [
         {
          "font": {
           "color": "Black",
           "family": "Serif",
           "size": 20
          },
          "showarrow": false,
          "text": "Dataset:",
          "x": 0,
          "xanchor": "center",
          "xref": "paper",
          "y": -0.08,
          "yanchor": "bottom",
          "yref": "paper"
         },
         {
          "bgcolor": "#E5ECF6",
          "bordercolor": "#E5ECF6",
          "borderwidth": 2,
          "font": {
           "color": "black",
           "size": 20
          },
          "opacity": 0.8,
          "showarrow": false,
          "text": "     Best     ",
          "x": 0.03,
          "xanchor": "left",
          "xref": "x domain",
          "y": 1.015,
          "yref": "y domain"
         },
         {
          "bgcolor": "#E5ECF6",
          "bordercolor": "#E5ECF6",
          "borderwidth": 2,
          "font": {
           "color": "black",
           "size": 20
          },
          "opacity": 0.8,
          "showarrow": false,
          "text": "     Worst     ",
          "x": 0.14200000000000002,
          "xanchor": "left",
          "xref": "x domain",
          "y": 1.015,
          "yref": "y domain"
         },
         {
          "bgcolor": "#E5ECF6",
          "bordercolor": "#E5ECF6",
          "borderwidth": 2,
          "font": {
           "color": "black",
           "size": 20
          },
          "opacity": 0.8,
          "showarrow": false,
          "text": "     Best     ",
          "x": 0.279,
          "xanchor": "left",
          "xref": "x domain",
          "y": 1.015,
          "yref": "y domain"
         },
         {
          "bgcolor": "#E5ECF6",
          "bordercolor": "#E5ECF6",
          "borderwidth": 2,
          "font": {
           "color": "black",
           "size": 20
          },
          "opacity": 0.8,
          "showarrow": false,
          "text": "     Worst     ",
          "x": 0.391,
          "xanchor": "left",
          "xref": "x domain",
          "y": 1.015,
          "yref": "y domain"
         },
         {
          "bgcolor": "#E5ECF6",
          "bordercolor": "#E5ECF6",
          "borderwidth": 2,
          "font": {
           "color": "black",
           "size": 20
          },
          "opacity": 0.8,
          "showarrow": false,
          "text": "     Best     ",
          "x": 0.528,
          "xanchor": "left",
          "xref": "x domain",
          "y": 1.015,
          "yref": "y domain"
         },
         {
          "bgcolor": "#E5ECF6",
          "bordercolor": "#E5ECF6",
          "borderwidth": 2,
          "font": {
           "color": "black",
           "size": 20
          },
          "opacity": 0.8,
          "showarrow": false,
          "text": "     Worst     ",
          "x": 0.64,
          "xanchor": "left",
          "xref": "x domain",
          "y": 1.015,
          "yref": "y domain"
         },
         {
          "bgcolor": "#E5ECF6",
          "bordercolor": "#E5ECF6",
          "borderwidth": 2,
          "font": {
           "color": "black",
           "size": 20
          },
          "opacity": 0.8,
          "showarrow": false,
          "text": "     Best     ",
          "x": 0.777,
          "xanchor": "left",
          "xref": "x domain",
          "y": 1.015,
          "yref": "y domain"
         },
         {
          "bgcolor": "#E5ECF6",
          "bordercolor": "#E5ECF6",
          "borderwidth": 2,
          "font": {
           "color": "black",
           "size": 20
          },
          "opacity": 0.8,
          "showarrow": false,
          "text": "     Worst     ",
          "x": 0.889,
          "xanchor": "left",
          "xref": "x domain",
          "y": 1.015,
          "yref": "y domain"
         }
        ],
        "bargap": 0.15,
        "bargroupgap": 0.15,
        "barmode": "group",
        "font": {
         "color": "black",
         "family": "Serif",
         "size": 20
        },
        "height": 600,
        "hovermode": "x unified",
        "legend": {
         "orientation": "h",
         "x": 0.5,
         "xanchor": "center",
         "y": 1.1,
         "yanchor": "top"
        },
        "margin": {
         "b": 70,
         "l": 40,
         "r": 0,
         "t": 20
        },
        "shapes": [
         {
          "layer": "below",
          "line": {
           "color": "grey",
           "dash": "dash",
           "width": 1
          },
          "type": "line",
          "x0": 0.1175,
          "x1": 0.1175,
          "xref": "paper",
          "y0": 0,
          "y1": 1,
          "yref": "paper"
         },
         {
          "layer": "below",
          "line": {
           "color": "black",
           "dash": "solid",
           "width": 1
          },
          "type": "line",
          "x0": 0.235,
          "x1": 0.235,
          "xref": "paper",
          "y0": 0,
          "y1": 1,
          "yref": "paper"
         },
         {
          "layer": "below",
          "line": {
           "color": "grey",
           "dash": "dash",
           "width": 1
          },
          "type": "line",
          "x0": 0.3525,
          "x1": 0.3525,
          "xref": "paper",
          "y0": 0,
          "y1": 1,
          "yref": "paper"
         },
         {
          "layer": "below",
          "line": {
           "color": "black",
           "dash": "solid",
           "width": 1
          },
          "type": "line",
          "x0": 0.47,
          "x1": 0.47,
          "xref": "paper",
          "y0": 0,
          "y1": 1,
          "yref": "paper"
         },
         {
          "layer": "below",
          "line": {
           "color": "grey",
           "dash": "dash",
           "width": 1
          },
          "type": "line",
          "x0": 0.5874999999999999,
          "x1": 0.5874999999999999,
          "xref": "paper",
          "y0": 0,
          "y1": 1,
          "yref": "paper"
         },
         {
          "layer": "below",
          "line": {
           "color": "black",
           "dash": "solid",
           "width": 1
          },
          "type": "line",
          "x0": 0.7049999999999998,
          "x1": 0.7049999999999998,
          "xref": "paper",
          "y0": 0,
          "y1": 1,
          "yref": "paper"
         },
         {
          "layer": "below",
          "line": {
           "color": "grey",
           "dash": "dash",
           "width": 1
          },
          "type": "line",
          "x0": 0.8224999999999998,
          "x1": 0.8224999999999998,
          "xref": "paper",
          "y0": 0,
          "y1": 1,
          "yref": "paper"
         },
         {
          "layer": "below",
          "line": {
           "color": "black",
           "dash": "solid",
           "width": 1
          },
          "type": "line",
          "x0": 0.9399999999999997,
          "x1": 0.9399999999999997,
          "xref": "paper",
          "y0": 0,
          "y1": 1,
          "yref": "paper"
         }
        ],
        "template": {
         "data": {
          "bar": [
           {
            "error_x": {
             "color": "#2a3f5f"
            },
            "error_y": {
             "color": "#2a3f5f"
            },
            "marker": {
             "line": {
              "color": "white",
              "width": 0.5
             },
             "pattern": {
              "fillmode": "overlay",
              "size": 10,
              "solidity": 0.2
             }
            },
            "type": "bar"
           }
          ],
          "barpolar": [
           {
            "marker": {
             "line": {
              "color": "white",
              "width": 0.5
             },
             "pattern": {
              "fillmode": "overlay",
              "size": 10,
              "solidity": 0.2
             }
            },
            "type": "barpolar"
           }
          ],
          "carpet": [
           {
            "aaxis": {
             "endlinecolor": "#2a3f5f",
             "gridcolor": "#C8D4E3",
             "linecolor": "#C8D4E3",
             "minorgridcolor": "#C8D4E3",
             "startlinecolor": "#2a3f5f"
            },
            "baxis": {
             "endlinecolor": "#2a3f5f",
             "gridcolor": "#C8D4E3",
             "linecolor": "#C8D4E3",
             "minorgridcolor": "#C8D4E3",
             "startlinecolor": "#2a3f5f"
            },
            "type": "carpet"
           }
          ],
          "choropleth": [
           {
            "colorbar": {
             "outlinewidth": 0,
             "ticks": ""
            },
            "type": "choropleth"
           }
          ],
          "contour": [
           {
            "colorbar": {
             "outlinewidth": 0,
             "ticks": ""
            },
            "colorscale": [
             [
              0,
              "#0d0887"
             ],
             [
              0.1111111111111111,
              "#46039f"
             ],
             [
              0.2222222222222222,
              "#7201a8"
             ],
             [
              0.3333333333333333,
              "#9c179e"
             ],
             [
              0.4444444444444444,
              "#bd3786"
             ],
             [
              0.5555555555555556,
              "#d8576b"
             ],
             [
              0.6666666666666666,
              "#ed7953"
             ],
             [
              0.7777777777777778,
              "#fb9f3a"
             ],
             [
              0.8888888888888888,
              "#fdca26"
             ],
             [
              1,
              "#f0f921"
             ]
            ],
            "type": "contour"
           }
          ],
          "contourcarpet": [
           {
            "colorbar": {
             "outlinewidth": 0,
             "ticks": ""
            },
            "type": "contourcarpet"
           }
          ],
          "heatmap": [
           {
            "colorbar": {
             "outlinewidth": 0,
             "ticks": ""
            },
            "colorscale": [
             [
              0,
              "#0d0887"
             ],
             [
              0.1111111111111111,
              "#46039f"
             ],
             [
              0.2222222222222222,
              "#7201a8"
             ],
             [
              0.3333333333333333,
              "#9c179e"
             ],
             [
              0.4444444444444444,
              "#bd3786"
             ],
             [
              0.5555555555555556,
              "#d8576b"
             ],
             [
              0.6666666666666666,
              "#ed7953"
             ],
             [
              0.7777777777777778,
              "#fb9f3a"
             ],
             [
              0.8888888888888888,
              "#fdca26"
             ],
             [
              1,
              "#f0f921"
             ]
            ],
            "type": "heatmap"
           }
          ],
          "histogram": [
           {
            "marker": {
             "pattern": {
              "fillmode": "overlay",
              "size": 10,
              "solidity": 0.2
             }
            },
            "type": "histogram"
           }
          ],
          "histogram2d": [
           {
            "colorbar": {
             "outlinewidth": 0,
             "ticks": ""
            },
            "colorscale": [
             [
              0,
              "#0d0887"
             ],
             [
              0.1111111111111111,
              "#46039f"
             ],
             [
              0.2222222222222222,
              "#7201a8"
             ],
             [
              0.3333333333333333,
              "#9c179e"
             ],
             [
              0.4444444444444444,
              "#bd3786"
             ],
             [
              0.5555555555555556,
              "#d8576b"
             ],
             [
              0.6666666666666666,
              "#ed7953"
             ],
             [
              0.7777777777777778,
              "#fb9f3a"
             ],
             [
              0.8888888888888888,
              "#fdca26"
             ],
             [
              1,
              "#f0f921"
             ]
            ],
            "type": "histogram2d"
           }
          ],
          "histogram2dcontour": [
           {
            "colorbar": {
             "outlinewidth": 0,
             "ticks": ""
            },
            "colorscale": [
             [
              0,
              "#0d0887"
             ],
             [
              0.1111111111111111,
              "#46039f"
             ],
             [
              0.2222222222222222,
              "#7201a8"
             ],
             [
              0.3333333333333333,
              "#9c179e"
             ],
             [
              0.4444444444444444,
              "#bd3786"
             ],
             [
              0.5555555555555556,
              "#d8576b"
             ],
             [
              0.6666666666666666,
              "#ed7953"
             ],
             [
              0.7777777777777778,
              "#fb9f3a"
             ],
             [
              0.8888888888888888,
              "#fdca26"
             ],
             [
              1,
              "#f0f921"
             ]
            ],
            "type": "histogram2dcontour"
           }
          ],
          "mesh3d": [
           {
            "colorbar": {
             "outlinewidth": 0,
             "ticks": ""
            },
            "type": "mesh3d"
           }
          ],
          "parcoords": [
           {
            "line": {
             "colorbar": {
              "outlinewidth": 0,
              "ticks": ""
             }
            },
            "type": "parcoords"
           }
          ],
          "pie": [
           {
            "automargin": true,
            "type": "pie"
           }
          ],
          "scatter": [
           {
            "fillpattern": {
             "fillmode": "overlay",
             "size": 10,
             "solidity": 0.2
            },
            "type": "scatter"
           }
          ],
          "scatter3d": [
           {
            "line": {
             "colorbar": {
              "outlinewidth": 0,
              "ticks": ""
             }
            },
            "marker": {
             "colorbar": {
              "outlinewidth": 0,
              "ticks": ""
             }
            },
            "type": "scatter3d"
           }
          ],
          "scattercarpet": [
           {
            "marker": {
             "colorbar": {
              "outlinewidth": 0,
              "ticks": ""
             }
            },
            "type": "scattercarpet"
           }
          ],
          "scattergeo": [
           {
            "marker": {
             "colorbar": {
              "outlinewidth": 0,
              "ticks": ""
             }
            },
            "type": "scattergeo"
           }
          ],
          "scattergl": [
           {
            "marker": {
             "colorbar": {
              "outlinewidth": 0,
              "ticks": ""
             }
            },
            "type": "scattergl"
           }
          ],
          "scattermap": [
           {
            "marker": {
             "colorbar": {
              "outlinewidth": 0,
              "ticks": ""
             }
            },
            "type": "scattermap"
           }
          ],
          "scattermapbox": [
           {
            "marker": {
             "colorbar": {
              "outlinewidth": 0,
              "ticks": ""
             }
            },
            "type": "scattermapbox"
           }
          ],
          "scatterpolar": [
           {
            "marker": {
             "colorbar": {
              "outlinewidth": 0,
              "ticks": ""
             }
            },
            "type": "scatterpolar"
           }
          ],
          "scatterpolargl": [
           {
            "marker": {
             "colorbar": {
              "outlinewidth": 0,
              "ticks": ""
             }
            },
            "type": "scatterpolargl"
           }
          ],
          "scatterternary": [
           {
            "marker": {
             "colorbar": {
              "outlinewidth": 0,
              "ticks": ""
             }
            },
            "type": "scatterternary"
           }
          ],
          "surface": [
           {
            "colorbar": {
             "outlinewidth": 0,
             "ticks": ""
            },
            "colorscale": [
             [
              0,
              "#0d0887"
             ],
             [
              0.1111111111111111,
              "#46039f"
             ],
             [
              0.2222222222222222,
              "#7201a8"
             ],
             [
              0.3333333333333333,
              "#9c179e"
             ],
             [
              0.4444444444444444,
              "#bd3786"
             ],
             [
              0.5555555555555556,
              "#d8576b"
             ],
             [
              0.6666666666666666,
              "#ed7953"
             ],
             [
              0.7777777777777778,
              "#fb9f3a"
             ],
             [
              0.8888888888888888,
              "#fdca26"
             ],
             [
              1,
              "#f0f921"
             ]
            ],
            "type": "surface"
           }
          ],
          "table": [
           {
            "cells": {
             "fill": {
              "color": "#EBF0F8"
             },
             "line": {
              "color": "white"
             }
            },
            "header": {
             "fill": {
              "color": "#C8D4E3"
             },
             "line": {
              "color": "white"
             }
            },
            "type": "table"
           }
          ]
         },
         "layout": {
          "annotationdefaults": {
           "arrowcolor": "#2a3f5f",
           "arrowhead": 0,
           "arrowwidth": 1
          },
          "autotypenumbers": "strict",
          "coloraxis": {
           "colorbar": {
            "outlinewidth": 0,
            "ticks": ""
           }
          },
          "colorscale": {
           "diverging": [
            [
             0,
             "#8e0152"
            ],
            [
             0.1,
             "#c51b7d"
            ],
            [
             0.2,
             "#de77ae"
            ],
            [
             0.3,
             "#f1b6da"
            ],
            [
             0.4,
             "#fde0ef"
            ],
            [
             0.5,
             "#f7f7f7"
            ],
            [
             0.6,
             "#e6f5d0"
            ],
            [
             0.7,
             "#b8e186"
            ],
            [
             0.8,
             "#7fbc41"
            ],
            [
             0.9,
             "#4d9221"
            ],
            [
             1,
             "#276419"
            ]
           ],
           "sequential": [
            [
             0,
             "#0d0887"
            ],
            [
             0.1111111111111111,
             "#46039f"
            ],
            [
             0.2222222222222222,
             "#7201a8"
            ],
            [
             0.3333333333333333,
             "#9c179e"
            ],
            [
             0.4444444444444444,
             "#bd3786"
            ],
            [
             0.5555555555555556,
             "#d8576b"
            ],
            [
             0.6666666666666666,
             "#ed7953"
            ],
            [
             0.7777777777777778,
             "#fb9f3a"
            ],
            [
             0.8888888888888888,
             "#fdca26"
            ],
            [
             1,
             "#f0f921"
            ]
           ],
           "sequentialminus": [
            [
             0,
             "#0d0887"
            ],
            [
             0.1111111111111111,
             "#46039f"
            ],
            [
             0.2222222222222222,
             "#7201a8"
            ],
            [
             0.3333333333333333,
             "#9c179e"
            ],
            [
             0.4444444444444444,
             "#bd3786"
            ],
            [
             0.5555555555555556,
             "#d8576b"
            ],
            [
             0.6666666666666666,
             "#ed7953"
            ],
            [
             0.7777777777777778,
             "#fb9f3a"
            ],
            [
             0.8888888888888888,
             "#fdca26"
            ],
            [
             1,
             "#f0f921"
            ]
           ]
          },
          "colorway": [
           "#636efa",
           "#EF553B",
           "#00cc96",
           "#ab63fa",
           "#FFA15A",
           "#19d3f3",
           "#FF6692",
           "#B6E880",
           "#FF97FF",
           "#FECB52"
          ],
          "font": {
           "color": "#2a3f5f"
          },
          "geo": {
           "bgcolor": "white",
           "lakecolor": "white",
           "landcolor": "white",
           "showlakes": true,
           "showland": true,
           "subunitcolor": "#C8D4E3"
          },
          "hoverlabel": {
           "align": "left"
          },
          "hovermode": "closest",
          "mapbox": {
           "style": "light"
          },
          "paper_bgcolor": "white",
          "plot_bgcolor": "white",
          "polar": {
           "angularaxis": {
            "gridcolor": "#EBF0F8",
            "linecolor": "#EBF0F8",
            "ticks": ""
           },
           "bgcolor": "white",
           "radialaxis": {
            "gridcolor": "#EBF0F8",
            "linecolor": "#EBF0F8",
            "ticks": ""
           }
          },
          "scene": {
           "xaxis": {
            "backgroundcolor": "white",
            "gridcolor": "#DFE8F3",
            "gridwidth": 2,
            "linecolor": "#EBF0F8",
            "showbackground": true,
            "ticks": "",
            "zerolinecolor": "#EBF0F8"
           },
           "yaxis": {
            "backgroundcolor": "white",
            "gridcolor": "#DFE8F3",
            "gridwidth": 2,
            "linecolor": "#EBF0F8",
            "showbackground": true,
            "ticks": "",
            "zerolinecolor": "#EBF0F8"
           },
           "zaxis": {
            "backgroundcolor": "white",
            "gridcolor": "#DFE8F3",
            "gridwidth": 2,
            "linecolor": "#EBF0F8",
            "showbackground": true,
            "ticks": "",
            "zerolinecolor": "#EBF0F8"
           }
          },
          "shapedefaults": {
           "line": {
            "color": "#2a3f5f"
           }
          },
          "ternary": {
           "aaxis": {
            "gridcolor": "#DFE8F3",
            "linecolor": "#A2B1C6",
            "ticks": ""
           },
           "baxis": {
            "gridcolor": "#DFE8F3",
            "linecolor": "#A2B1C6",
            "ticks": ""
           },
           "bgcolor": "white",
           "caxis": {
            "gridcolor": "#DFE8F3",
            "linecolor": "#A2B1C6",
            "ticks": ""
           }
          },
          "title": {
           "x": 0.05
          },
          "xaxis": {
           "automargin": true,
           "gridcolor": "#EBF0F8",
           "linecolor": "#EBF0F8",
           "ticks": "",
           "title": {
            "standoff": 15
           },
           "zerolinecolor": "#EBF0F8",
           "zerolinewidth": 2
          },
          "yaxis": {
           "automargin": true,
           "gridcolor": "#EBF0F8",
           "linecolor": "#EBF0F8",
           "ticks": "",
           "title": {
            "standoff": 15
           },
           "zerolinecolor": "#EBF0F8",
           "zerolinewidth": 2
          }
         }
        },
        "width": 1300,
        "xaxis": {
         "anchor": "y",
         "domain": [
          0,
          0.94
         ]
        },
        "yaxis": {
         "anchor": "x",
         "domain": [
          0,
          1
         ],
         "range": [
          0,
          5
         ],
         "title": {
          "font": {
           "size": 20
          },
          "text": "Normalised SID = SID / Number of Edges in DAG"
         }
        },
        "yaxis2": {
         "anchor": "x",
         "overlaying": "y",
         "range": [
          0,
          5
         ],
         "scaleanchor": 0,
         "showgrid": false,
         "showline": false,
         "showticklabels": false,
         "side": "right",
         "title": {
          "font": {
           "size": 20
          },
          "text": ""
         },
         "zeroline": true
        }
       }
      }
     },
     "metadata": {},
     "output_type": "display_data"
    }
   ],
   "source": [
    "import importlib\n",
    "import utils\n",
    "importlib.reload(utils)\n",
    "from utils import double_bar_chart_plotly\n",
    "\n",
    "\n",
    "fig = double_bar_chart_plotly(v1_random_plot_data[v1_random_plot_data['n_nodes'] <= 6], \n",
    "                        names_dict,\n",
    "                        colors_dict,\n",
    "                        vars_to_plot=['n_sid_low', 'n_sid_high'],\n",
    "                        names=['Best', 'Worst'],\n",
    "                        labels=['Normalised SID = SID / Number of Edges in DAG', ''],\n",
    "                        methods=[\n",
    "                                'Random',\n",
    "                                'FGS',\n",
    "                                'NOTEARS-MLP',\n",
    "                                'MPC',\n",
    "                                'ABAPC (Original)',\n",
    "                                # 'V1.1 Refined Fact Ranking',\n",
    "                                # 'V1.2 Model Selection by Refined Fact Strengths',\n",
    "                                # 'V1.3 Model Selection by Arrows Sum',\n",
    "                                'V1.4 Model Selection by Arrows Mean',\n",
    "                                'V2',\n",
    "                            ],\n",
    "                        dist_between_lines=0.1175,\n",
    "                        intra_dis=0.112,\n",
    "                        inter_dis=0.137,\n",
    "                        lin_space=5,\n",
    "                        nl_space=5,\n",
    "                        start_pos = 0.03,\n",
    "                            width=1300,\n",
    "                            height=600,\n",
    "                            range_y1=(0, 5),\n",
    "                            range_y2=(0, 5))"
   ]
  },
  {
   "cell_type": "code",
   "execution_count": 11,
   "id": "49b07345",
   "metadata": {},
   "outputs": [
    {
     "data": {
      "application/vnd.plotly.v1+json": {
       "config": {
        "plotlyServerURL": "https://plot.ly"
       },
       "data": [
        {
         "error_y": {
          "array": {
           "bdata": "AAAAAAAAAAAjaC2k6dLjPyaedkM45+U/5otn7w1W5D8=",
           "dtype": "f8"
          },
          "type": "data",
          "visible": true
         },
         "marker": {
          "color": "grey"
         },
         "name": "Random",
         "offsetgroup": "0",
         "opacity": 0.6,
         "showlegend": true,
         "type": "bar",
         "x": [
          "|V|=3, |E|=3",
          "|V|=4, |E|=4",
          "|V|=5, |E|=5",
          "|V|=6, |E|=6"
         ],
         "y": {
          "bdata": "AAAAAAAAAACPwvUoXI/qP0a28/3UePk/kML1KFyP/j8=",
          "dtype": "f8"
         },
         "yaxis": "y"
        },
        {
         "error_y": {
          "array": {
           "bdata": "t1q8dwqg3j/EihTkTJ7pP9KSQhm1p+Y/KL8vxiow6z8=",
           "dtype": "f8"
          },
          "type": "data",
          "visible": true
         },
         "marker": {
          "color": "#b85c00"
         },
         "name": "FGS",
         "offsetgroup": "1",
         "opacity": 0.6,
         "showlegend": true,
         "type": "bar",
         "x": [
          "|V|=3, |E|=3",
          "|V|=4, |E|=4",
          "|V|=5, |E|=5",
          "|V|=6, |E|=6"
         ],
         "y": {
          "bdata": "6LSBThvo1D8UrkfhehTyP65H4XoUrvc/hetRuB6F/z8=",
          "dtype": "f8"
         },
         "yaxis": "y"
        },
        {
         "error_y": {
          "array": {
           "bdata": "Se7EwnNW4j+MRX1ws7TlP+shOm1oxus/11jnesd35D8=",
           "dtype": "f8"
          },
          "type": "data",
          "visible": true
         },
         "marker": {
          "color": "#9454c4"
         },
         "name": "NOTEARS-MLP",
         "offsetgroup": "2",
         "opacity": 0.6,
         "showlegend": true,
         "type": "bar",
         "x": [
          "|V|=3, |E|=3",
          "|V|=4, |E|=4",
          "|V|=5, |E|=5",
          "|V|=6, |E|=6"
         ],
         "y": {
          "bdata": "+cWSXyz55T+4HoXrUbjuP8ZLN4lBYPU/jCW/WPKL9T8=",
          "dtype": "f8"
         },
         "yaxis": "y"
        },
        {
         "error_y": {
          "array": {
           "bdata": "tC6mp8PM1D+AGcBl0oLgP72NqPuVk+Q/2Hn0+wnU6D8=",
           "dtype": "f8"
          },
          "type": "data",
          "visible": true
         },
         "marker": {
          "color": "#379f9f"
         },
         "name": "MPC",
         "offsetgroup": "3",
         "opacity": 0.6,
         "showlegend": true,
         "type": "bar",
         "x": [
          "|V|=3, |E|=3",
          "|V|=4, |E|=4",
          "|V|=5, |E|=5",
          "|V|=6, |E|=6"
         ],
         "y": {
          "bdata": "pHA9Ctej0D9xPQrXo3DdP83MzMzMzOw/dNpApw106j8=",
          "dtype": "f8"
         },
         "yaxis": "y"
        },
        {
         "error_y": {
          "array": {
           "bdata": "+M5QuF915j+MDPlhQGfpPwount8Hvek/gIIq+pXH7j8=",
           "dtype": "f8"
          },
          "type": "data",
          "visible": true
         },
         "marker": {
          "color": "#0085CA"
         },
         "name": "ABAPC (Original)",
         "offsetgroup": "4",
         "opacity": 0.6,
         "showlegend": true,
         "type": "bar",
         "x": [
          "|V|=3, |E|=3",
          "|V|=4, |E|=4",
          "|V|=5, |E|=5",
          "|V|=6, |E|=6"
         ],
         "y": {
          "bdata": "tYFOG+i04T89CtejcD3qP1K4HoXrUfA/9ihcj8L19D8=",
          "dtype": "f8"
         },
         "yaxis": "y"
        },
        {
         "error_y": {
          "array": {
           "bdata": "0OYfbsPK5D8sFUq371HgP9CGA6SDsN4/swS0c3OM4T8=",
           "dtype": "f8"
          },
          "type": "data",
          "visible": true
         },
         "marker": {
          "color": "#9F8D00"
         },
         "name": "V1.1",
         "offsetgroup": "5",
         "opacity": 0.6,
         "showlegend": true,
         "type": "bar",
         "x": [
          "|V|=3, |E|=3",
          "|V|=4, |E|=4",
          "|V|=5, |E|=5",
          "|V|=6, |E|=6"
         ],
         "y": {
          "bdata": "20CnDXTa4D9SuB6F61HoP7ByaJHtfO8/Z2ZmZmZm8j8=",
          "dtype": "f8"
         },
         "yaxis": "y"
        },
        {
         "error_y": {
          "array": {
           "bdata": "+M5QuF915j87GzeSayrpPxqKSjq2p+k/leV+WVix7j8=",
           "dtype": "f8"
          },
          "type": "data",
          "visible": true
         },
         "marker": {
          "color": "#9E0000"
         },
         "name": "V1.2",
         "offsetgroup": "6",
         "opacity": 0.6,
         "showlegend": true,
         "type": "bar",
         "x": [
          "|V|=3, |E|=3",
          "|V|=4, |E|=4",
          "|V|=5, |E|=5",
          "|V|=6, |E|=6"
         ],
         "y": {
          "bdata": "tYFOG+i04T+PwvUoXI/qP/p+arx0k/A/f7HkF0t+9T8=",
          "dtype": "f8"
         },
         "yaxis": "y"
        },
        {
         "error_y": {
          "array": {
           "bdata": "+M5QuF915j9OahUtfXfoP96zLhxR4+w/Efec9faP8D8=",
           "dtype": "f8"
          },
          "type": "data",
          "visible": true
         },
         "marker": {
          "color": "#ff34da"
         },
         "name": "V1.3",
         "offsetgroup": "7",
         "opacity": 0.6,
         "showlegend": true,
         "type": "bar",
         "x": [
          "|V|=3, |E|=3",
          "|V|=4, |E|=4",
          "|V|=5, |E|=5",
          "|V|=6, |E|=6"
         ],
         "y": {
          "bdata": "tYFOG+i04T+F61G4HoXrP5duEoPAyvE/H4XrUbge+T8=",
          "dtype": "f8"
         },
         "yaxis": "y"
        },
        {
         "error_y": {
          "array": {
           "bdata": "+M5QuF915j9IBhsTz63nP6AZyeq+Pus/y/h3kY7S8D8=",
           "dtype": "f8"
          },
          "type": "data",
          "visible": true
         },
         "marker": {
          "color": "#008100"
         },
         "name": "V1.4 ",
         "offsetgroup": "8",
         "opacity": 0.6,
         "showlegend": true,
         "type": "bar",
         "x": [
          "|V|=3, |E|=3",
          "|V|=4, |E|=4",
          "|V|=5, |E|=5",
          "|V|=6, |E|=6"
         ],
         "y": {
          "bdata": "tYFOG+i04T/2KFyPwvXoP+tRuB6F6/E/oNMGOm2g9z8=",
          "dtype": "f8"
         },
         "yaxis": "y"
        },
        {
         "error_y": {
          "array": {
           "bdata": "fYGflQj65T+2bdu2bdvmPxOW3pNiIOo/3doJ1Iud6T8=",
           "dtype": "f8"
          },
          "type": "data",
          "visible": true
         },
         "marker": {
          "color": "#ff8c00"
         },
         "name": "V2",
         "offsetgroup": "9",
         "opacity": 0.6,
         "showlegend": true,
         "type": "bar",
         "x": [
          "|V|=3, |E|=3",
          "|V|=4, |E|=4",
          "|V|=5, |E|=5",
          "|V|=6, |E|=6"
         ],
         "y": {
          "bdata": "3d3d3d3d3T/NzMzMzMzkP+bQItv5fvI/61G4HoXrAUA=",
          "dtype": "f8"
         },
         "yaxis": "y"
        },
        {
         "marker": {
          "color": "white"
         },
         "name": "",
         "offsetgroup": "10",
         "opacity": 1,
         "showlegend": false,
         "type": "bar",
         "x": [
          "|V|=3, |E|=3",
          "|V|=4, |E|=4",
          "|V|=5, |E|=5",
          "|V|=6, |E|=6"
         ],
         "y": {
          "bdata": "AAAAAAAAAAAAAAAAAAAAAAAAAAAAAAAAAAAAAAAAAAA=",
          "dtype": "f8"
         }
        },
        {
         "error_y": {
          "array": {
           "bdata": "AAAAAAAAAAARmzFQu0HhP5PFwb5/L+k/DXSCnt/D6z8=",
           "dtype": "f8"
          },
          "type": "data",
          "visible": true
         },
         "marker": {
          "color": "grey"
         },
         "name": "Random",
         "offsetgroup": "11",
         "opacity": 0.6,
         "showlegend": false,
         "type": "bar",
         "x": [
          "|V|=3, |E|=3",
          "|V|=4, |E|=4",
          "|V|=5, |E|=5",
          "|V|=6, |E|=6"
         ],
         "y": {
          "bdata": "AAAAAAAAAECamZmZmZkDQOf7qfHSTQZAiIiIiIiICEA=",
          "dtype": "f8"
         },
         "yaxis": "y2"
        },
        {
         "error_y": {
          "array": {
           "bdata": "DBf/pAvH1D9EOVEg6lrfP2JffZc7X+U/u+Fk7WZn7j8=",
           "dtype": "f8"
          },
          "type": "data",
          "visible": true
         },
         "marker": {
          "color": "#b85c00"
         },
         "name": "FGS",
         "offsetgroup": "12",
         "opacity": 0.6,
         "showlegend": false,
         "type": "bar",
         "x": [
          "|V|=3, |E|=3",
          "|V|=4, |E|=4",
          "|V|=5, |E|=5",
          "|V|=6, |E|=6"
         ],
         "y": {
          "bdata": "cD0K16Nw/T8pXI/C9SgDQIpBYOXQIgdAY8kvlvxiB0A=",
          "dtype": "f8"
         },
         "yaxis": "y2"
        },
        {
         "error_y": {
          "array": {
           "bdata": "Z6rPiplc3T/0MXU/manlP1AT+xmLtew/qUrygLbf7D8=",
           "dtype": "f8"
          },
          "type": "data",
          "visible": true
         },
         "marker": {
          "color": "#9454c4"
         },
         "name": "NOTEARS-MLP",
         "offsetgroup": "13",
         "opacity": 0.6,
         "showlegend": false,
         "type": "bar",
         "x": [
          "|V|=3, |E|=3",
          "|V|=4, |E|=4",
          "|V|=5, |E|=5",
          "|V|=6, |E|=6"
         ],
         "y": {
          "bdata": "/GLJL5b8+j/D9Shcj8IBQBWuR+F6FAZAcD0K16NwB0A=",
          "dtype": "f8"
         },
         "yaxis": "y2"
        },
        {
         "error_y": {
          "array": {
           "bdata": "pxqM7r//wT+MyTa22ZPYPyV8k8hMFeE/4GogHfL16D8=",
           "dtype": "f8"
          },
          "type": "data",
          "visible": true
         },
         "marker": {
          "color": "#379f9f"
         },
         "name": "MPC",
         "offsetgroup": "14",
         "opacity": 0.6,
         "showlegend": false,
         "type": "bar",
         "x": [
          "|V|=3, |E|=3",
          "|V|=4, |E|=4",
          "|V|=5, |E|=5",
          "|V|=6, |E|=6"
         ],
         "y": {
          "bdata": "Jb9Y8osl/z97FK5H4XoFQDiJQWDl0ApALPnFkl8sDUA=",
          "dtype": "f8"
         },
         "yaxis": "y2"
        },
        {
         "error_y": {
          "array": {
           "bdata": "uTpT7OsT3D+YSxEVtLDmP17R796Y7Os/1nnzx7tn8D8=",
           "dtype": "f8"
          },
          "type": "data",
          "visible": true
         },
         "marker": {
          "color": "#0085CA"
         },
         "name": "ABAPC (Original)",
         "offsetgroup": "15",
         "opacity": 0.6,
         "showlegend": false,
         "type": "bar",
         "x": [
          "|V|=3, |E|=3",
          "|V|=4, |E|=4",
          "|V|=5, |E|=5",
          "|V|=6, |E|=6"
         ],
         "y": {
          "bdata": "YCz5xZJf/D/Xo3A9CtcCQEw3iUFg5QRATxvotIFOB0A=",
          "dtype": "f8"
         },
         "yaxis": "y2"
        },
        {
         "error_y": {
          "array": {
           "bdata": "nPULV7UQ1j9WEz0bifPgPzEOxqkxGOg/Nzm0J5z76T8=",
           "dtype": "f8"
          },
          "type": "data",
          "visible": true
         },
         "marker": {
          "color": "#9F8D00"
         },
         "name": "V1.1",
         "offsetgroup": "16",
         "opacity": 0.6,
         "showlegend": false,
         "type": "bar",
         "x": [
          "|V|=3, |E|=3",
          "|V|=4, |E|=4",
          "|V|=5, |E|=5",
          "|V|=6, |E|=6"
         ],
         "y": {
          "bdata": "H4XrUbge/T/NzMzMzMwCQI/C9ShcjwZATxvotIFOCUA=",
          "dtype": "f8"
         },
         "yaxis": "y2"
        },
        {
         "error_y": {
          "array": {
           "bdata": "uTpT7OsT3D+YSxEVtLDmPz6za9eef+o/OxZnUO0t8D8=",
           "dtype": "f8"
          },
          "type": "data",
          "visible": true
         },
         "marker": {
          "color": "#9E0000"
         },
         "name": "V1.2",
         "offsetgroup": "17",
         "opacity": 0.6,
         "showlegend": false,
         "type": "bar",
         "x": [
          "|V|=3, |E|=3",
          "|V|=4, |E|=4",
          "|V|=5, |E|=5",
          "|V|=6, |E|=6"
         ],
         "y": {
          "bdata": "YCz5xZJf/D/Xo3A9CtcCQB6F61G4HgVAf7HkF0t+B0A=",
          "dtype": "f8"
         },
         "yaxis": "y2"
        },
        {
         "error_y": {
          "array": {
           "bdata": "uTpT7OsT3D/y5sf+CALpP6YA+NEWFuw/7SAJesXT8D8=",
           "dtype": "f8"
          },
          "type": "data",
          "visible": true
         },
         "marker": {
          "color": "#ff34da"
         },
         "name": "V1.3",
         "offsetgroup": "18",
         "opacity": 0.6,
         "showlegend": false,
         "type": "bar",
         "x": [
          "|V|=3, |E|=3",
          "|V|=4, |E|=4",
          "|V|=5, |E|=5",
          "|V|=6, |E|=6"
         ],
         "y": {
          "bdata": "YCz5xZJf/D/hehSuR+EBQCGwcmiR7QRAWfKLJb9YBkA=",
          "dtype": "f8"
         },
         "yaxis": "y2"
        },
        {
         "error_y": {
          "array": {
           "bdata": "uTpT7OsT3D/69nv9PB3mP+JvKeY5WOs/AOcSUMej7T8=",
           "dtype": "f8"
          },
          "type": "data",
          "visible": true
         },
         "marker": {
          "color": "#008100"
         },
         "name": "V1.4 ",
         "offsetgroup": "19",
         "opacity": 0.6,
         "showlegend": false,
         "type": "bar",
         "x": [
          "|V|=3, |E|=3",
          "|V|=4, |E|=4",
          "|V|=5, |E|=5",
          "|V|=6, |E|=6"
         ],
         "y": {
          "bdata": "YCz5xZJf/D8UrkfhehQDQEjhehSuRwVAw/UoXI/CB0A=",
          "dtype": "f8"
         },
         "yaxis": "y2"
        },
        {
         "error_y": {
          "array": {
           "bdata": "gFXln/8T2D8uGw5287fgPw2Xg+VYgOo/KwLmhZES8T8=",
           "dtype": "f8"
          },
          "type": "data",
          "visible": true
         },
         "marker": {
          "color": "#ff8c00"
         },
         "name": "V2",
         "offsetgroup": "20",
         "opacity": 0.6,
         "showlegend": false,
         "type": "bar",
         "x": [
          "|V|=3, |E|=3",
          "|V|=4, |E|=4",
          "|V|=5, |E|=5",
          "|V|=6, |E|=6"
         ],
         "y": {
          "bdata": "jCW/WPKL/T8zMzMzMzMDQN9PjZduEgdAY8kvlvxiB0A=",
          "dtype": "f8"
         },
         "yaxis": "y2"
        }
       ],
       "layout": {
        "annotations": [
         {
          "font": {
           "color": "Black",
           "family": "Serif",
           "size": 20
          },
          "showarrow": false,
          "text": "Dataset:",
          "x": 0,
          "xanchor": "center",
          "xref": "paper",
          "y": -0.08,
          "yanchor": "bottom",
          "yref": "paper"
         },
         {
          "bgcolor": "#E5ECF6",
          "bordercolor": "#E5ECF6",
          "borderwidth": 2,
          "font": {
           "color": "black",
           "size": 20
          },
          "opacity": 0.8,
          "showarrow": false,
          "text": "     Best     ",
          "x": 0.03,
          "xanchor": "left",
          "xref": "x domain",
          "y": 1.015,
          "yref": "y domain"
         },
         {
          "bgcolor": "#E5ECF6",
          "bordercolor": "#E5ECF6",
          "borderwidth": 2,
          "font": {
           "color": "black",
           "size": 20
          },
          "opacity": 0.8,
          "showarrow": false,
          "text": "     Worst     ",
          "x": 0.14200000000000002,
          "xanchor": "left",
          "xref": "x domain",
          "y": 1.015,
          "yref": "y domain"
         },
         {
          "bgcolor": "#E5ECF6",
          "bordercolor": "#E5ECF6",
          "borderwidth": 2,
          "font": {
           "color": "black",
           "size": 20
          },
          "opacity": 0.8,
          "showarrow": false,
          "text": "     Best     ",
          "x": 0.279,
          "xanchor": "left",
          "xref": "x domain",
          "y": 1.015,
          "yref": "y domain"
         },
         {
          "bgcolor": "#E5ECF6",
          "bordercolor": "#E5ECF6",
          "borderwidth": 2,
          "font": {
           "color": "black",
           "size": 20
          },
          "opacity": 0.8,
          "showarrow": false,
          "text": "     Worst     ",
          "x": 0.391,
          "xanchor": "left",
          "xref": "x domain",
          "y": 1.015,
          "yref": "y domain"
         },
         {
          "bgcolor": "#E5ECF6",
          "bordercolor": "#E5ECF6",
          "borderwidth": 2,
          "font": {
           "color": "black",
           "size": 20
          },
          "opacity": 0.8,
          "showarrow": false,
          "text": "     Best     ",
          "x": 0.528,
          "xanchor": "left",
          "xref": "x domain",
          "y": 1.015,
          "yref": "y domain"
         },
         {
          "bgcolor": "#E5ECF6",
          "bordercolor": "#E5ECF6",
          "borderwidth": 2,
          "font": {
           "color": "black",
           "size": 20
          },
          "opacity": 0.8,
          "showarrow": false,
          "text": "     Worst     ",
          "x": 0.64,
          "xanchor": "left",
          "xref": "x domain",
          "y": 1.015,
          "yref": "y domain"
         },
         {
          "bgcolor": "#E5ECF6",
          "bordercolor": "#E5ECF6",
          "borderwidth": 2,
          "font": {
           "color": "black",
           "size": 20
          },
          "opacity": 0.8,
          "showarrow": false,
          "text": "     Best     ",
          "x": 0.777,
          "xanchor": "left",
          "xref": "x domain",
          "y": 1.015,
          "yref": "y domain"
         },
         {
          "bgcolor": "#E5ECF6",
          "bordercolor": "#E5ECF6",
          "borderwidth": 2,
          "font": {
           "color": "black",
           "size": 20
          },
          "opacity": 0.8,
          "showarrow": false,
          "text": "     Worst     ",
          "x": 0.889,
          "xanchor": "left",
          "xref": "x domain",
          "y": 1.015,
          "yref": "y domain"
         }
        ],
        "bargap": 0.15,
        "bargroupgap": 0.15,
        "barmode": "group",
        "font": {
         "color": "black",
         "family": "Serif",
         "size": 20
        },
        "height": 600,
        "hovermode": "x unified",
        "legend": {
         "orientation": "h",
         "x": 0.5,
         "xanchor": "center",
         "y": 1.1,
         "yanchor": "top"
        },
        "margin": {
         "b": 70,
         "l": 40,
         "r": 0,
         "t": 20
        },
        "shapes": [
         {
          "layer": "below",
          "line": {
           "color": "grey",
           "dash": "dash",
           "width": 1
          },
          "type": "line",
          "x0": 0.1175,
          "x1": 0.1175,
          "xref": "paper",
          "y0": 0,
          "y1": 1,
          "yref": "paper"
         },
         {
          "layer": "below",
          "line": {
           "color": "black",
           "dash": "solid",
           "width": 1
          },
          "type": "line",
          "x0": 0.235,
          "x1": 0.235,
          "xref": "paper",
          "y0": 0,
          "y1": 1,
          "yref": "paper"
         },
         {
          "layer": "below",
          "line": {
           "color": "grey",
           "dash": "dash",
           "width": 1
          },
          "type": "line",
          "x0": 0.3525,
          "x1": 0.3525,
          "xref": "paper",
          "y0": 0,
          "y1": 1,
          "yref": "paper"
         },
         {
          "layer": "below",
          "line": {
           "color": "black",
           "dash": "solid",
           "width": 1
          },
          "type": "line",
          "x0": 0.47,
          "x1": 0.47,
          "xref": "paper",
          "y0": 0,
          "y1": 1,
          "yref": "paper"
         },
         {
          "layer": "below",
          "line": {
           "color": "grey",
           "dash": "dash",
           "width": 1
          },
          "type": "line",
          "x0": 0.5874999999999999,
          "x1": 0.5874999999999999,
          "xref": "paper",
          "y0": 0,
          "y1": 1,
          "yref": "paper"
         },
         {
          "layer": "below",
          "line": {
           "color": "black",
           "dash": "solid",
           "width": 1
          },
          "type": "line",
          "x0": 0.7049999999999998,
          "x1": 0.7049999999999998,
          "xref": "paper",
          "y0": 0,
          "y1": 1,
          "yref": "paper"
         },
         {
          "layer": "below",
          "line": {
           "color": "grey",
           "dash": "dash",
           "width": 1
          },
          "type": "line",
          "x0": 0.8224999999999998,
          "x1": 0.8224999999999998,
          "xref": "paper",
          "y0": 0,
          "y1": 1,
          "yref": "paper"
         },
         {
          "layer": "below",
          "line": {
           "color": "black",
           "dash": "solid",
           "width": 1
          },
          "type": "line",
          "x0": 0.9399999999999997,
          "x1": 0.9399999999999997,
          "xref": "paper",
          "y0": 0,
          "y1": 1,
          "yref": "paper"
         }
        ],
        "template": {
         "data": {
          "bar": [
           {
            "error_x": {
             "color": "#2a3f5f"
            },
            "error_y": {
             "color": "#2a3f5f"
            },
            "marker": {
             "line": {
              "color": "white",
              "width": 0.5
             },
             "pattern": {
              "fillmode": "overlay",
              "size": 10,
              "solidity": 0.2
             }
            },
            "type": "bar"
           }
          ],
          "barpolar": [
           {
            "marker": {
             "line": {
              "color": "white",
              "width": 0.5
             },
             "pattern": {
              "fillmode": "overlay",
              "size": 10,
              "solidity": 0.2
             }
            },
            "type": "barpolar"
           }
          ],
          "carpet": [
           {
            "aaxis": {
             "endlinecolor": "#2a3f5f",
             "gridcolor": "#C8D4E3",
             "linecolor": "#C8D4E3",
             "minorgridcolor": "#C8D4E3",
             "startlinecolor": "#2a3f5f"
            },
            "baxis": {
             "endlinecolor": "#2a3f5f",
             "gridcolor": "#C8D4E3",
             "linecolor": "#C8D4E3",
             "minorgridcolor": "#C8D4E3",
             "startlinecolor": "#2a3f5f"
            },
            "type": "carpet"
           }
          ],
          "choropleth": [
           {
            "colorbar": {
             "outlinewidth": 0,
             "ticks": ""
            },
            "type": "choropleth"
           }
          ],
          "contour": [
           {
            "colorbar": {
             "outlinewidth": 0,
             "ticks": ""
            },
            "colorscale": [
             [
              0,
              "#0d0887"
             ],
             [
              0.1111111111111111,
              "#46039f"
             ],
             [
              0.2222222222222222,
              "#7201a8"
             ],
             [
              0.3333333333333333,
              "#9c179e"
             ],
             [
              0.4444444444444444,
              "#bd3786"
             ],
             [
              0.5555555555555556,
              "#d8576b"
             ],
             [
              0.6666666666666666,
              "#ed7953"
             ],
             [
              0.7777777777777778,
              "#fb9f3a"
             ],
             [
              0.8888888888888888,
              "#fdca26"
             ],
             [
              1,
              "#f0f921"
             ]
            ],
            "type": "contour"
           }
          ],
          "contourcarpet": [
           {
            "colorbar": {
             "outlinewidth": 0,
             "ticks": ""
            },
            "type": "contourcarpet"
           }
          ],
          "heatmap": [
           {
            "colorbar": {
             "outlinewidth": 0,
             "ticks": ""
            },
            "colorscale": [
             [
              0,
              "#0d0887"
             ],
             [
              0.1111111111111111,
              "#46039f"
             ],
             [
              0.2222222222222222,
              "#7201a8"
             ],
             [
              0.3333333333333333,
              "#9c179e"
             ],
             [
              0.4444444444444444,
              "#bd3786"
             ],
             [
              0.5555555555555556,
              "#d8576b"
             ],
             [
              0.6666666666666666,
              "#ed7953"
             ],
             [
              0.7777777777777778,
              "#fb9f3a"
             ],
             [
              0.8888888888888888,
              "#fdca26"
             ],
             [
              1,
              "#f0f921"
             ]
            ],
            "type": "heatmap"
           }
          ],
          "histogram": [
           {
            "marker": {
             "pattern": {
              "fillmode": "overlay",
              "size": 10,
              "solidity": 0.2
             }
            },
            "type": "histogram"
           }
          ],
          "histogram2d": [
           {
            "colorbar": {
             "outlinewidth": 0,
             "ticks": ""
            },
            "colorscale": [
             [
              0,
              "#0d0887"
             ],
             [
              0.1111111111111111,
              "#46039f"
             ],
             [
              0.2222222222222222,
              "#7201a8"
             ],
             [
              0.3333333333333333,
              "#9c179e"
             ],
             [
              0.4444444444444444,
              "#bd3786"
             ],
             [
              0.5555555555555556,
              "#d8576b"
             ],
             [
              0.6666666666666666,
              "#ed7953"
             ],
             [
              0.7777777777777778,
              "#fb9f3a"
             ],
             [
              0.8888888888888888,
              "#fdca26"
             ],
             [
              1,
              "#f0f921"
             ]
            ],
            "type": "histogram2d"
           }
          ],
          "histogram2dcontour": [
           {
            "colorbar": {
             "outlinewidth": 0,
             "ticks": ""
            },
            "colorscale": [
             [
              0,
              "#0d0887"
             ],
             [
              0.1111111111111111,
              "#46039f"
             ],
             [
              0.2222222222222222,
              "#7201a8"
             ],
             [
              0.3333333333333333,
              "#9c179e"
             ],
             [
              0.4444444444444444,
              "#bd3786"
             ],
             [
              0.5555555555555556,
              "#d8576b"
             ],
             [
              0.6666666666666666,
              "#ed7953"
             ],
             [
              0.7777777777777778,
              "#fb9f3a"
             ],
             [
              0.8888888888888888,
              "#fdca26"
             ],
             [
              1,
              "#f0f921"
             ]
            ],
            "type": "histogram2dcontour"
           }
          ],
          "mesh3d": [
           {
            "colorbar": {
             "outlinewidth": 0,
             "ticks": ""
            },
            "type": "mesh3d"
           }
          ],
          "parcoords": [
           {
            "line": {
             "colorbar": {
              "outlinewidth": 0,
              "ticks": ""
             }
            },
            "type": "parcoords"
           }
          ],
          "pie": [
           {
            "automargin": true,
            "type": "pie"
           }
          ],
          "scatter": [
           {
            "fillpattern": {
             "fillmode": "overlay",
             "size": 10,
             "solidity": 0.2
            },
            "type": "scatter"
           }
          ],
          "scatter3d": [
           {
            "line": {
             "colorbar": {
              "outlinewidth": 0,
              "ticks": ""
             }
            },
            "marker": {
             "colorbar": {
              "outlinewidth": 0,
              "ticks": ""
             }
            },
            "type": "scatter3d"
           }
          ],
          "scattercarpet": [
           {
            "marker": {
             "colorbar": {
              "outlinewidth": 0,
              "ticks": ""
             }
            },
            "type": "scattercarpet"
           }
          ],
          "scattergeo": [
           {
            "marker": {
             "colorbar": {
              "outlinewidth": 0,
              "ticks": ""
             }
            },
            "type": "scattergeo"
           }
          ],
          "scattergl": [
           {
            "marker": {
             "colorbar": {
              "outlinewidth": 0,
              "ticks": ""
             }
            },
            "type": "scattergl"
           }
          ],
          "scattermap": [
           {
            "marker": {
             "colorbar": {
              "outlinewidth": 0,
              "ticks": ""
             }
            },
            "type": "scattermap"
           }
          ],
          "scattermapbox": [
           {
            "marker": {
             "colorbar": {
              "outlinewidth": 0,
              "ticks": ""
             }
            },
            "type": "scattermapbox"
           }
          ],
          "scatterpolar": [
           {
            "marker": {
             "colorbar": {
              "outlinewidth": 0,
              "ticks": ""
             }
            },
            "type": "scatterpolar"
           }
          ],
          "scatterpolargl": [
           {
            "marker": {
             "colorbar": {
              "outlinewidth": 0,
              "ticks": ""
             }
            },
            "type": "scatterpolargl"
           }
          ],
          "scatterternary": [
           {
            "marker": {
             "colorbar": {
              "outlinewidth": 0,
              "ticks": ""
             }
            },
            "type": "scatterternary"
           }
          ],
          "surface": [
           {
            "colorbar": {
             "outlinewidth": 0,
             "ticks": ""
            },
            "colorscale": [
             [
              0,
              "#0d0887"
             ],
             [
              0.1111111111111111,
              "#46039f"
             ],
             [
              0.2222222222222222,
              "#7201a8"
             ],
             [
              0.3333333333333333,
              "#9c179e"
             ],
             [
              0.4444444444444444,
              "#bd3786"
             ],
             [
              0.5555555555555556,
              "#d8576b"
             ],
             [
              0.6666666666666666,
              "#ed7953"
             ],
             [
              0.7777777777777778,
              "#fb9f3a"
             ],
             [
              0.8888888888888888,
              "#fdca26"
             ],
             [
              1,
              "#f0f921"
             ]
            ],
            "type": "surface"
           }
          ],
          "table": [
           {
            "cells": {
             "fill": {
              "color": "#EBF0F8"
             },
             "line": {
              "color": "white"
             }
            },
            "header": {
             "fill": {
              "color": "#C8D4E3"
             },
             "line": {
              "color": "white"
             }
            },
            "type": "table"
           }
          ]
         },
         "layout": {
          "annotationdefaults": {
           "arrowcolor": "#2a3f5f",
           "arrowhead": 0,
           "arrowwidth": 1
          },
          "autotypenumbers": "strict",
          "coloraxis": {
           "colorbar": {
            "outlinewidth": 0,
            "ticks": ""
           }
          },
          "colorscale": {
           "diverging": [
            [
             0,
             "#8e0152"
            ],
            [
             0.1,
             "#c51b7d"
            ],
            [
             0.2,
             "#de77ae"
            ],
            [
             0.3,
             "#f1b6da"
            ],
            [
             0.4,
             "#fde0ef"
            ],
            [
             0.5,
             "#f7f7f7"
            ],
            [
             0.6,
             "#e6f5d0"
            ],
            [
             0.7,
             "#b8e186"
            ],
            [
             0.8,
             "#7fbc41"
            ],
            [
             0.9,
             "#4d9221"
            ],
            [
             1,
             "#276419"
            ]
           ],
           "sequential": [
            [
             0,
             "#0d0887"
            ],
            [
             0.1111111111111111,
             "#46039f"
            ],
            [
             0.2222222222222222,
             "#7201a8"
            ],
            [
             0.3333333333333333,
             "#9c179e"
            ],
            [
             0.4444444444444444,
             "#bd3786"
            ],
            [
             0.5555555555555556,
             "#d8576b"
            ],
            [
             0.6666666666666666,
             "#ed7953"
            ],
            [
             0.7777777777777778,
             "#fb9f3a"
            ],
            [
             0.8888888888888888,
             "#fdca26"
            ],
            [
             1,
             "#f0f921"
            ]
           ],
           "sequentialminus": [
            [
             0,
             "#0d0887"
            ],
            [
             0.1111111111111111,
             "#46039f"
            ],
            [
             0.2222222222222222,
             "#7201a8"
            ],
            [
             0.3333333333333333,
             "#9c179e"
            ],
            [
             0.4444444444444444,
             "#bd3786"
            ],
            [
             0.5555555555555556,
             "#d8576b"
            ],
            [
             0.6666666666666666,
             "#ed7953"
            ],
            [
             0.7777777777777778,
             "#fb9f3a"
            ],
            [
             0.8888888888888888,
             "#fdca26"
            ],
            [
             1,
             "#f0f921"
            ]
           ]
          },
          "colorway": [
           "#636efa",
           "#EF553B",
           "#00cc96",
           "#ab63fa",
           "#FFA15A",
           "#19d3f3",
           "#FF6692",
           "#B6E880",
           "#FF97FF",
           "#FECB52"
          ],
          "font": {
           "color": "#2a3f5f"
          },
          "geo": {
           "bgcolor": "white",
           "lakecolor": "white",
           "landcolor": "white",
           "showlakes": true,
           "showland": true,
           "subunitcolor": "#C8D4E3"
          },
          "hoverlabel": {
           "align": "left"
          },
          "hovermode": "closest",
          "mapbox": {
           "style": "light"
          },
          "paper_bgcolor": "white",
          "plot_bgcolor": "white",
          "polar": {
           "angularaxis": {
            "gridcolor": "#EBF0F8",
            "linecolor": "#EBF0F8",
            "ticks": ""
           },
           "bgcolor": "white",
           "radialaxis": {
            "gridcolor": "#EBF0F8",
            "linecolor": "#EBF0F8",
            "ticks": ""
           }
          },
          "scene": {
           "xaxis": {
            "backgroundcolor": "white",
            "gridcolor": "#DFE8F3",
            "gridwidth": 2,
            "linecolor": "#EBF0F8",
            "showbackground": true,
            "ticks": "",
            "zerolinecolor": "#EBF0F8"
           },
           "yaxis": {
            "backgroundcolor": "white",
            "gridcolor": "#DFE8F3",
            "gridwidth": 2,
            "linecolor": "#EBF0F8",
            "showbackground": true,
            "ticks": "",
            "zerolinecolor": "#EBF0F8"
           },
           "zaxis": {
            "backgroundcolor": "white",
            "gridcolor": "#DFE8F3",
            "gridwidth": 2,
            "linecolor": "#EBF0F8",
            "showbackground": true,
            "ticks": "",
            "zerolinecolor": "#EBF0F8"
           }
          },
          "shapedefaults": {
           "line": {
            "color": "#2a3f5f"
           }
          },
          "ternary": {
           "aaxis": {
            "gridcolor": "#DFE8F3",
            "linecolor": "#A2B1C6",
            "ticks": ""
           },
           "baxis": {
            "gridcolor": "#DFE8F3",
            "linecolor": "#A2B1C6",
            "ticks": ""
           },
           "bgcolor": "white",
           "caxis": {
            "gridcolor": "#DFE8F3",
            "linecolor": "#A2B1C6",
            "ticks": ""
           }
          },
          "title": {
           "x": 0.05
          },
          "xaxis": {
           "automargin": true,
           "gridcolor": "#EBF0F8",
           "linecolor": "#EBF0F8",
           "ticks": "",
           "title": {
            "standoff": 15
           },
           "zerolinecolor": "#EBF0F8",
           "zerolinewidth": 2
          },
          "yaxis": {
           "automargin": true,
           "gridcolor": "#EBF0F8",
           "linecolor": "#EBF0F8",
           "ticks": "",
           "title": {
            "standoff": 15
           },
           "zerolinecolor": "#EBF0F8",
           "zerolinewidth": 2
          }
         }
        },
        "width": 1300,
        "xaxis": {
         "anchor": "y",
         "domain": [
          0,
          0.94
         ]
        },
        "yaxis": {
         "anchor": "x",
         "domain": [
          0,
          1
         ],
         "range": [
          0,
          5
         ],
         "title": {
          "font": {
           "size": 20
          },
          "text": "Normalised SID = SID / Number of Edges in DAG"
         }
        },
        "yaxis2": {
         "anchor": "x",
         "overlaying": "y",
         "range": [
          0,
          5
         ],
         "scaleanchor": 0,
         "showgrid": false,
         "showline": false,
         "showticklabels": false,
         "side": "right",
         "title": {
          "font": {
           "size": 20
          },
          "text": ""
         },
         "zeroline": true
        }
       }
      }
     },
     "metadata": {},
     "output_type": "display_data"
    }
   ],
   "source": [
    "import importlib\n",
    "import utils\n",
    "importlib.reload(utils)\n",
    "from utils import double_bar_chart_plotly\n",
    "\n",
    "fig = double_bar_chart_plotly(v1_random_plot_data[v1_random_plot_data['n_nodes'] <= 6], \n",
    "                        names_dict,\n",
    "                        colors_dict,\n",
    "                        vars_to_plot=['n_sid_low', 'n_sid_high'],\n",
    "                        names=['Best', 'Worst'],\n",
    "                        labels=['Normalised SID = SID / Number of Edges in DAG', ''],\n",
    "                        methods=methods,\n",
    "                        dist_between_lines=0.1175,\n",
    "                        intra_dis=0.112,\n",
    "                        inter_dis=0.137,\n",
    "                        lin_space=5,\n",
    "                        nl_space=5,\n",
    "                        start_pos = 0.03,\n",
    "                            width=1300,\n",
    "                            height=600,\n",
    "                            range_y1=(0, 5),\n",
    "                            range_y2=(0, 5))"
   ]
  },
  {
   "cell_type": "code",
   "execution_count": 12,
   "id": "8c68dbf0",
   "metadata": {},
   "outputs": [
    {
     "data": {
      "application/vnd.plotly.v1+json": {
       "config": {
        "plotlyServerURL": "https://plot.ly"
       },
       "data": [
        {
         "error_y": {
          "array": {
           "bdata": "18Jv3La70j//tGz0J73NPxnF8O3IW8k/zgipGZQVwz8=",
           "dtype": "f8"
          },
          "type": "data",
          "visible": true
         },
         "marker": {
          "color": "grey"
         },
         "name": "Random",
         "offsetgroup": "0",
         "opacity": 0.6,
         "showlegend": true,
         "type": "bar",
         "x": [
          "|V|=3, |E|=3",
          "|V|=4, |E|=4",
          "|V|=5, |E|=5",
          "|V|=6, |E|=6"
         ],
         "y": {
          "bdata": "Gvm84qlH4T8K16NwPQrXP/yp8dJNYtA/iX0CKEaWzD8=",
          "dtype": "f8"
         },
         "yaxis": "y"
        },
        {
         "error_y": {
          "array": {
           "bdata": "Ow3sH01l1j/gR9VC0gPPP9O1zgHudcs/oA7FlomOxz8=",
           "dtype": "f8"
          },
          "type": "data",
          "visible": true
         },
         "marker": {
          "color": "#b85c00"
         },
         "name": "FGS",
         "offsetgroup": "1",
         "opacity": 0.6,
         "showlegend": true,
         "type": "bar",
         "x": [
          "|V|=3, |E|=3",
          "|V|=4, |E|=4",
          "|V|=5, |E|=5",
          "|V|=6, |E|=6"
         ],
         "y": {
          "bdata": "Sl8IOe//3z9PIVfqWRDYP2ZIFcWrrNU/ZR2OrtLdzT8=",
          "dtype": "f8"
         },
         "yaxis": "y"
        },
        {
         "error_y": {
          "array": {
           "bdata": "phzhfwkI2D9PJaVFpkLXP1Qc8wg2A9U/JPcBPdGD0z8=",
           "dtype": "f8"
          },
          "type": "data",
          "visible": true
         },
         "marker": {
          "color": "#9454c4"
         },
         "name": "NOTEARS-MLP",
         "offsetgroup": "2",
         "opacity": 0.6,
         "showlegend": true,
         "type": "bar",
         "x": [
          "|V|=3, |E|=3",
          "|V|=4, |E|=4",
          "|V|=5, |E|=5",
          "|V|=6, |E|=6"
         ],
         "y": {
          "bdata": "hTbGYGcR4j+Tj90FSgrjP9Ei2/l+auA/ZR5Mrm1f4j8=",
          "dtype": "f8"
         },
         "yaxis": "y"
        },
        {
         "error_y": {
          "array": {
           "bdata": "w8nRFUQO1D9bNfA0h2jPP+ms+T5f2Ms/GJSE3nGw0D8=",
           "dtype": "f8"
          },
          "type": "data",
          "visible": true
         },
         "marker": {
          "color": "#379f9f"
         },
         "name": "MPC",
         "offsetgroup": "3",
         "opacity": 0.6,
         "showlegend": true,
         "type": "bar",
         "x": [
          "|V|=3, |E|=3",
          "|V|=4, |E|=4",
          "|V|=5, |E|=5",
          "|V|=6, |E|=6"
         ],
         "y": {
          "bdata": "wXEZNzXQ4T+uR+F6FK7fP9Jwytx8I+A/hPHTuDe/3z8=",
          "dtype": "f8"
         },
         "yaxis": "y"
        },
        {
         "error_y": {
          "array": {
           "bdata": "650+/Ow61j88ZBrPhAPSPzaPh/wGwdE/DVHYrxXv0T8=",
           "dtype": "f8"
          },
          "type": "data",
          "visible": true
         },
         "marker": {
          "color": "#0085CA"
         },
         "name": "ABAPC (Original)",
         "offsetgroup": "4",
         "opacity": 0.6,
         "showlegend": true,
         "type": "bar",
         "x": [
          "|V|=3, |E|=3",
          "|V|=4, |E|=4",
          "|V|=5, |E|=5",
          "|V|=6, |E|=6"
         ],
         "y": {
          "bdata": "Ab9GkiBc3z/VrglpjUHgPz3UtmEUBOI/iJ0pdF5j4T8=",
          "dtype": "f8"
         },
         "yaxis": "y"
        },
        {
         "error_y": {
          "array": {
           "bdata": "8dWBi++q1j/EXPaI/WzWP1Ynut7k29E/JYsmAx/E0z8=",
           "dtype": "f8"
          },
          "type": "data",
          "visible": true
         },
         "marker": {
          "color": "#9F8D00"
         },
         "name": "V1.1",
         "offsetgroup": "5",
         "opacity": 0.6,
         "showlegend": true,
         "type": "bar",
         "x": [
          "|V|=3, |E|=3",
          "|V|=4, |E|=4",
          "|V|=5, |E|=5",
          "|V|=6, |E|=6"
         ],
         "y": {
          "bdata": "doh/2NKj4D+dobjjTX7hP25rC89LxeE/FRqIZTOH4j8=",
          "dtype": "f8"
         },
         "yaxis": "y"
        },
        {
         "error_y": {
          "array": {
           "bdata": "650+/Ow61j/CY31Dke/RP5BG57252NE/35Vm7Yft0T8=",
           "dtype": "f8"
          },
          "type": "data",
          "visible": true
         },
         "marker": {
          "color": "#9E0000"
         },
         "name": "V1.2",
         "offsetgroup": "6",
         "opacity": 0.6,
         "showlegend": true,
         "type": "bar",
         "x": [
          "|V|=3, |E|=3",
          "|V|=4, |E|=4",
          "|V|=5, |E|=5",
          "|V|=6, |E|=6"
         ],
         "y": {
          "bdata": "Ab9GkiBc3z/XMhmO5zPgP+rNqPkq+eE/1ub/VUeO4T8=",
          "dtype": "f8"
         },
         "yaxis": "y"
        },
        {
         "error_y": {
          "array": {
           "bdata": "650+/Ow61j+rwW15lKPQP37l2MqxH9A/KmLD4lXp0D8=",
           "dtype": "f8"
          },
          "type": "data",
          "visible": true
         },
         "marker": {
          "color": "#ff34da"
         },
         "name": "V1.3",
         "offsetgroup": "7",
         "opacity": 0.6,
         "showlegend": true,
         "type": "bar",
         "x": [
          "|V|=3, |E|=3",
          "|V|=4, |E|=4",
          "|V|=5, |E|=5",
          "|V|=6, |E|=6"
         ],
         "y": {
          "bdata": "Ab9GkiBc3z9k7e9sj97ePy0mNh/Xht4/mIi3zr9d2j8=",
          "dtype": "f8"
         },
         "yaxis": "y"
        },
        {
         "error_y": {
          "array": {
           "bdata": "650+/Ow61j821ntM4bXRP9/rc05nlNA/+IWGr0qc0T8=",
           "dtype": "f8"
          },
          "type": "data",
          "visible": true
         },
         "marker": {
          "color": "#008100"
         },
         "name": "V1.4 ",
         "offsetgroup": "8",
         "opacity": 0.6,
         "showlegend": true,
         "type": "bar",
         "x": [
          "|V|=3, |E|=3",
          "|V|=4, |E|=4",
          "|V|=5, |E|=5",
          "|V|=6, |E|=6"
         ],
         "y": {
          "bdata": "Ab9GkiBc3z9X68TleAXgP2OBr+jWa94/CttPxvgw3T8=",
          "dtype": "f8"
         },
         "yaxis": "y"
        },
        {
         "error_y": {
          "array": {
           "bdata": "XqWK78Z61j/vwyPpXcbQP073wkgiK84/X+coLgwTzj9sIgT8z53HPw==",
           "dtype": "f8"
          },
          "type": "data",
          "visible": true
         },
         "marker": {
          "color": "#ff8c00"
         },
         "name": "V2",
         "offsetgroup": "9",
         "opacity": 0.6,
         "showlegend": true,
         "type": "bar",
         "x": [
          "|V|=3, |E|=3",
          "|V|=4, |E|=4",
          "|V|=5, |E|=5",
          "|V|=6, |E|=6",
          "|V|=7, |E|=7"
         ],
         "y": {
          "bdata": "ZdzUQPM53T9PsP86N23gP51mgXaHFNk/34lZL4Zy0j+iyWeAnxfGPw==",
          "dtype": "f8"
         },
         "yaxis": "y"
        },
        {
         "marker": {
          "color": "white"
         },
         "name": "",
         "offsetgroup": "10",
         "opacity": 1,
         "showlegend": false,
         "type": "bar",
         "x": [
          "|V|=3, |E|=3",
          "|V|=4, |E|=4",
          "|V|=5, |E|=5",
          "|V|=6, |E|=6",
          "|V|=7, |E|=7"
         ],
         "y": {
          "bdata": "AAAAAAAAAAAAAAAAAAAAAAAAAAAAAAAAAAAAAAAAAAAAAAAAAAAAAA==",
          "dtype": "f8"
         }
        },
        {
         "error_y": {
          "array": {
           "bdata": "18Jv3La70j//tGz0J73NPxnF8O3IW8k/zgipGZQVwz8=",
           "dtype": "f8"
          },
          "type": "data",
          "visible": true
         },
         "marker": {
          "color": "grey"
         },
         "name": "Random",
         "offsetgroup": "11",
         "opacity": 0.6,
         "showlegend": false,
         "type": "bar",
         "x": [
          "|V|=3, |E|=3",
          "|V|=4, |E|=4",
          "|V|=5, |E|=5",
          "|V|=6, |E|=6"
         ],
         "y": {
          "bdata": "Gvm84qlH4T8K16NwPQrXP/yp8dJNYtA/iX0CKEaWzD8=",
          "dtype": "f8"
         },
         "yaxis": "y2"
        },
        {
         "error_y": {
          "array": {
           "bdata": "hFd0J3Wp0z+2Wrx3CqDOPxgX89Ph98k/tRyQGudYxD8=",
           "dtype": "f8"
          },
          "type": "data",
          "visible": true
         },
         "marker": {
          "color": "#b85c00"
         },
         "name": "FGS",
         "offsetgroup": "12",
         "opacity": 0.6,
         "showlegend": false,
         "type": "bar",
         "x": [
          "|V|=3, |E|=3",
          "|V|=4, |E|=4",
          "|V|=5, |E|=5",
          "|V|=6, |E|=6"
         ],
         "y": {
          "bdata": "dDklICbh2j8fhetRuB7VP+Olm8QgsNI/r1sExvoGyj8=",
          "dtype": "f8"
         },
         "yaxis": "y2"
        },
        {
         "error_y": {
          "array": {
           "bdata": "+1IHQen20j/cHNdfBn3OP/wIYZ1kKNA/saPsqs4kzD8=",
           "dtype": "f8"
          },
          "type": "data",
          "visible": true
         },
         "marker": {
          "color": "#9454c4"
         },
         "name": "NOTEARS-MLP",
         "offsetgroup": "13",
         "opacity": 0.6,
         "showlegend": false,
         "type": "bar",
         "x": [
          "|V|=3, |E|=3",
          "|V|=4, |E|=4",
          "|V|=5, |E|=5",
          "|V|=6, |E|=6"
         ],
         "y": {
          "bdata": "2lazzvi+2D+uR+F6FK7XP2q8dJMYBNY/cceb/Bad1j8=",
          "dtype": "f8"
         },
         "yaxis": "y2"
        },
        {
         "error_y": {
          "array": {
           "bdata": "wYsGcY8H0T9w1i/5j1nNPwVAt4SPDcs/Qyxq9VxIzT8=",
           "dtype": "f8"
          },
          "type": "data",
          "visible": true
         },
         "marker": {
          "color": "#379f9f"
         },
         "name": "MPC",
         "offsetgroup": "14",
         "opacity": 0.6,
         "showlegend": false,
         "type": "bar",
         "x": [
          "|V|=3, |E|=3",
          "|V|=4, |E|=4",
          "|V|=5, |E|=5",
          "|V|=6, |E|=6"
         ],
         "y": {
          "bdata": "Zpsb0xOW3D+PwvUoXI/aP9rO91Pjpds/5ssLsI9O2z8=",
          "dtype": "f8"
         },
         "yaxis": "y2"
        },
        {
         "error_y": {
          "array": {
           "bdata": "XYiifijj0z8XmrD9bDHRP/fi30TCM9E/JxCDZ9Hbzz8=",
           "dtype": "f8"
          },
          "type": "data",
          "visible": true
         },
         "marker": {
          "color": "#0085CA"
         },
         "name": "ABAPC (Original)",
         "offsetgroup": "15",
         "opacity": 0.6,
         "showlegend": false,
         "type": "bar",
         "x": [
          "|V|=3, |E|=3",
          "|V|=4, |E|=4",
          "|V|=5, |E|=5",
          "|V|=6, |E|=6"
         ],
         "y": {
          "bdata": "fAiqRq8G2j97FK5H4XrcPwAAAAAAAOA/XU4JiEm43j8=",
          "dtype": "f8"
         },
         "yaxis": "y2"
        },
        {
         "error_y": {
          "array": {
           "bdata": "9qGvWBkg0z8EFVB5UaDNP91qWM7HkMg/jrRPF8cdyT8=",
           "dtype": "f8"
          },
          "type": "data",
          "visible": true
         },
         "marker": {
          "color": "#9F8D00"
         },
         "name": "V1.1",
         "offsetgroup": "16",
         "opacity": 0.6,
         "showlegend": false,
         "type": "bar",
         "x": [
          "|V|=3, |E|=3",
          "|V|=4, |E|=4",
          "|V|=5, |E|=5",
          "|V|=6, |E|=6"
         ],
         "y": {
          "bdata": "zjY3pics2T9mZmZmZmbWP7tJDAIrh9Y/DVUxlX7C1T8=",
          "dtype": "f8"
         },
         "yaxis": "y2"
        },
        {
         "error_y": {
          "array": {
           "bdata": "XYiifijj0z+asClcRPjQPz1FU2az/9A/ZgL9OJxhzj8=",
           "dtype": "f8"
          },
          "type": "data",
          "visible": true
         },
         "marker": {
          "color": "#9E0000"
         },
         "name": "V1.2",
         "offsetgroup": "17",
         "opacity": 0.6,
         "showlegend": false,
         "type": "bar",
         "x": [
          "|V|=3, |E|=3",
          "|V|=4, |E|=4",
          "|V|=5, |E|=5",
          "|V|=6, |E|=6"
         ],
         "y": {
          "bdata": "fAiqRq8G2j8pXI/C9SjcP7FyaJHtfN8/ut3LfXIU3j8=",
          "dtype": "f8"
         },
         "yaxis": "y2"
        },
        {
         "error_y": {
          "array": {
           "bdata": "XYiifijj0z8CiPKyeejQP75SmQ82AdE/Tebpo4TPzT8=",
           "dtype": "f8"
          },
          "type": "data",
          "visible": true
         },
         "marker": {
          "color": "#ff34da"
         },
         "name": "V1.3",
         "offsetgroup": "18",
         "opacity": 0.6,
         "showlegend": false,
         "type": "bar",
         "x": [
          "|V|=3, |E|=3",
          "|V|=4, |E|=4",
          "|V|=5, |E|=5",
          "|V|=6, |E|=6"
         ],
         "y": {
          "bdata": "fAiqRq8G2j9xPQrXo3DdP1g5tMh2vt8/rP4Iw4Al3z8=",
          "dtype": "f8"
         },
         "yaxis": "y2"
        },
        {
         "error_y": {
          "array": {
           "bdata": "XYiifijj0z8lzV1H7+LQP9KSSJUWz9A/D8ywogFOzj8=",
           "dtype": "f8"
          },
          "type": "data",
          "visible": true
         },
         "marker": {
          "color": "#008100"
         },
         "name": "V1.4 ",
         "offsetgroup": "19",
         "opacity": 0.6,
         "showlegend": false,
         "type": "bar",
         "x": [
          "|V|=3, |E|=3",
          "|V|=4, |E|=4",
          "|V|=5, |E|=5",
          "|V|=6, |E|=6"
         ],
         "y": {
          "bdata": "fAiqRq8G2j97FK5H4XrcP3E9CtejcN0/Lq2GxD2W3D8=",
          "dtype": "f8"
         },
         "yaxis": "y2"
        },
        {
         "error_y": {
          "array": {
           "bdata": "Ou6hkSUg0z9MyTeOQwHPP+yKsonF+Ms/t1DiVZjowj8xlwseW2+8Pw==",
           "dtype": "f8"
          },
          "type": "data",
          "visible": true
         },
         "marker": {
          "color": "#ff8c00"
         },
         "name": "V2",
         "offsetgroup": "20",
         "opacity": 0.6,
         "showlegend": false,
         "type": "bar",
         "x": [
          "|V|=3, |E|=3",
          "|V|=4, |E|=4",
          "|V|=5, |E|=5",
          "|V|=6, |E|=6",
          "|V|=7, |E|=7"
         ],
         "y": {
          "bdata": "OngmNEks2T/NzMzMzMzcP1K4HoXrUdg/V17yP/m7yz+pwTQMHxG7Pw==",
          "dtype": "f8"
         },
         "yaxis": "y2"
        }
       ],
       "layout": {
        "annotations": [
         {
          "font": {
           "color": "Black",
           "family": "Serif",
           "size": 20
          },
          "showarrow": false,
          "text": "Dataset:",
          "x": 0,
          "xanchor": "center",
          "xref": "paper",
          "y": -0.08,
          "yanchor": "bottom",
          "yref": "paper"
         },
         {
          "bgcolor": "#E5ECF6",
          "bordercolor": "#E5ECF6",
          "borderwidth": 2,
          "font": {
           "color": "black",
           "size": 20
          },
          "opacity": 0.8,
          "showarrow": false,
          "text": "     Precision     ",
          "x": 0.03,
          "xanchor": "left",
          "xref": "x domain",
          "y": 1.015,
          "yref": "y domain"
         },
         {
          "bgcolor": "#E5ECF6",
          "bordercolor": "#E5ECF6",
          "borderwidth": 2,
          "font": {
           "color": "black",
           "size": 20
          },
          "opacity": 0.8,
          "showarrow": false,
          "text": "     Recall     ",
          "x": 0.14200000000000002,
          "xanchor": "left",
          "xref": "x domain",
          "y": 1.015,
          "yref": "y domain"
         },
         {
          "bgcolor": "#E5ECF6",
          "bordercolor": "#E5ECF6",
          "borderwidth": 2,
          "font": {
           "color": "black",
           "size": 20
          },
          "opacity": 0.8,
          "showarrow": false,
          "text": "     Precision     ",
          "x": 0.279,
          "xanchor": "left",
          "xref": "x domain",
          "y": 1.015,
          "yref": "y domain"
         },
         {
          "bgcolor": "#E5ECF6",
          "bordercolor": "#E5ECF6",
          "borderwidth": 2,
          "font": {
           "color": "black",
           "size": 20
          },
          "opacity": 0.8,
          "showarrow": false,
          "text": "     Recall     ",
          "x": 0.391,
          "xanchor": "left",
          "xref": "x domain",
          "y": 1.015,
          "yref": "y domain"
         },
         {
          "bgcolor": "#E5ECF6",
          "bordercolor": "#E5ECF6",
          "borderwidth": 2,
          "font": {
           "color": "black",
           "size": 20
          },
          "opacity": 0.8,
          "showarrow": false,
          "text": "     Precision     ",
          "x": 0.528,
          "xanchor": "left",
          "xref": "x domain",
          "y": 1.015,
          "yref": "y domain"
         },
         {
          "bgcolor": "#E5ECF6",
          "bordercolor": "#E5ECF6",
          "borderwidth": 2,
          "font": {
           "color": "black",
           "size": 20
          },
          "opacity": 0.8,
          "showarrow": false,
          "text": "     Recall     ",
          "x": 0.64,
          "xanchor": "left",
          "xref": "x domain",
          "y": 1.015,
          "yref": "y domain"
         },
         {
          "bgcolor": "#E5ECF6",
          "bordercolor": "#E5ECF6",
          "borderwidth": 2,
          "font": {
           "color": "black",
           "size": 20
          },
          "opacity": 0.8,
          "showarrow": false,
          "text": "     Precision     ",
          "x": 0.777,
          "xanchor": "left",
          "xref": "x domain",
          "y": 1.015,
          "yref": "y domain"
         },
         {
          "bgcolor": "#E5ECF6",
          "bordercolor": "#E5ECF6",
          "borderwidth": 2,
          "font": {
           "color": "black",
           "size": 20
          },
          "opacity": 0.8,
          "showarrow": false,
          "text": "     Recall     ",
          "x": 0.889,
          "xanchor": "left",
          "xref": "x domain",
          "y": 1.015,
          "yref": "y domain"
         },
         {
          "bgcolor": "#E5ECF6",
          "bordercolor": "#E5ECF6",
          "borderwidth": 2,
          "font": {
           "color": "black",
           "size": 20
          },
          "opacity": 0.8,
          "showarrow": false,
          "text": "     Precision     ",
          "x": 1.026,
          "xanchor": "left",
          "xref": "x domain",
          "y": 1.015,
          "yref": "y domain"
         },
         {
          "bgcolor": "#E5ECF6",
          "bordercolor": "#E5ECF6",
          "borderwidth": 2,
          "font": {
           "color": "black",
           "size": 20
          },
          "opacity": 0.8,
          "showarrow": false,
          "text": "     Recall     ",
          "x": 1.1380000000000001,
          "xanchor": "left",
          "xref": "x domain",
          "y": 1.015,
          "yref": "y domain"
         }
        ],
        "bargap": 0.15,
        "bargroupgap": 0.15,
        "barmode": "group",
        "font": {
         "color": "black",
         "family": "Serif",
         "size": 20
        },
        "height": 600,
        "hovermode": "x unified",
        "legend": {
         "orientation": "h",
         "x": 0.5,
         "xanchor": "center",
         "y": 1.1,
         "yanchor": "top"
        },
        "margin": {
         "b": 70,
         "l": 40,
         "r": 0,
         "t": 20
        },
        "shapes": [
         {
          "layer": "below",
          "line": {
           "color": "grey",
           "dash": "dash",
           "width": 1
          },
          "type": "line",
          "x0": 0.1175,
          "x1": 0.1175,
          "xref": "paper",
          "y0": 0,
          "y1": 1,
          "yref": "paper"
         },
         {
          "layer": "below",
          "line": {
           "color": "black",
           "dash": "solid",
           "width": 1
          },
          "type": "line",
          "x0": 0.235,
          "x1": 0.235,
          "xref": "paper",
          "y0": 0,
          "y1": 1,
          "yref": "paper"
         },
         {
          "layer": "below",
          "line": {
           "color": "grey",
           "dash": "dash",
           "width": 1
          },
          "type": "line",
          "x0": 0.3525,
          "x1": 0.3525,
          "xref": "paper",
          "y0": 0,
          "y1": 1,
          "yref": "paper"
         },
         {
          "layer": "below",
          "line": {
           "color": "black",
           "dash": "solid",
           "width": 1
          },
          "type": "line",
          "x0": 0.47,
          "x1": 0.47,
          "xref": "paper",
          "y0": 0,
          "y1": 1,
          "yref": "paper"
         },
         {
          "layer": "below",
          "line": {
           "color": "grey",
           "dash": "dash",
           "width": 1
          },
          "type": "line",
          "x0": 0.5874999999999999,
          "x1": 0.5874999999999999,
          "xref": "paper",
          "y0": 0,
          "y1": 1,
          "yref": "paper"
         },
         {
          "layer": "below",
          "line": {
           "color": "black",
           "dash": "solid",
           "width": 1
          },
          "type": "line",
          "x0": 0.7049999999999998,
          "x1": 0.7049999999999998,
          "xref": "paper",
          "y0": 0,
          "y1": 1,
          "yref": "paper"
         },
         {
          "layer": "below",
          "line": {
           "color": "grey",
           "dash": "dash",
           "width": 1
          },
          "type": "line",
          "x0": 0.8224999999999998,
          "x1": 0.8224999999999998,
          "xref": "paper",
          "y0": 0,
          "y1": 1,
          "yref": "paper"
         },
         {
          "layer": "below",
          "line": {
           "color": "black",
           "dash": "solid",
           "width": 1
          },
          "type": "line",
          "x0": 0.9399999999999997,
          "x1": 0.9399999999999997,
          "xref": "paper",
          "y0": 0,
          "y1": 1,
          "yref": "paper"
         },
         {
          "layer": "below",
          "line": {
           "color": "grey",
           "dash": "dash",
           "width": 1
          },
          "type": "line",
          "x0": 1.0574999999999997,
          "x1": 1.0574999999999997,
          "xref": "paper",
          "y0": 0,
          "y1": 1,
          "yref": "paper"
         },
         {
          "layer": "below",
          "line": {
           "color": "black",
           "dash": "solid",
           "width": 1
          },
          "type": "line",
          "x0": 1.1749999999999996,
          "x1": 1.1749999999999996,
          "xref": "paper",
          "y0": 0,
          "y1": 1,
          "yref": "paper"
         }
        ],
        "template": {
         "data": {
          "bar": [
           {
            "error_x": {
             "color": "#2a3f5f"
            },
            "error_y": {
             "color": "#2a3f5f"
            },
            "marker": {
             "line": {
              "color": "white",
              "width": 0.5
             },
             "pattern": {
              "fillmode": "overlay",
              "size": 10,
              "solidity": 0.2
             }
            },
            "type": "bar"
           }
          ],
          "barpolar": [
           {
            "marker": {
             "line": {
              "color": "white",
              "width": 0.5
             },
             "pattern": {
              "fillmode": "overlay",
              "size": 10,
              "solidity": 0.2
             }
            },
            "type": "barpolar"
           }
          ],
          "carpet": [
           {
            "aaxis": {
             "endlinecolor": "#2a3f5f",
             "gridcolor": "#C8D4E3",
             "linecolor": "#C8D4E3",
             "minorgridcolor": "#C8D4E3",
             "startlinecolor": "#2a3f5f"
            },
            "baxis": {
             "endlinecolor": "#2a3f5f",
             "gridcolor": "#C8D4E3",
             "linecolor": "#C8D4E3",
             "minorgridcolor": "#C8D4E3",
             "startlinecolor": "#2a3f5f"
            },
            "type": "carpet"
           }
          ],
          "choropleth": [
           {
            "colorbar": {
             "outlinewidth": 0,
             "ticks": ""
            },
            "type": "choropleth"
           }
          ],
          "contour": [
           {
            "colorbar": {
             "outlinewidth": 0,
             "ticks": ""
            },
            "colorscale": [
             [
              0,
              "#0d0887"
             ],
             [
              0.1111111111111111,
              "#46039f"
             ],
             [
              0.2222222222222222,
              "#7201a8"
             ],
             [
              0.3333333333333333,
              "#9c179e"
             ],
             [
              0.4444444444444444,
              "#bd3786"
             ],
             [
              0.5555555555555556,
              "#d8576b"
             ],
             [
              0.6666666666666666,
              "#ed7953"
             ],
             [
              0.7777777777777778,
              "#fb9f3a"
             ],
             [
              0.8888888888888888,
              "#fdca26"
             ],
             [
              1,
              "#f0f921"
             ]
            ],
            "type": "contour"
           }
          ],
          "contourcarpet": [
           {
            "colorbar": {
             "outlinewidth": 0,
             "ticks": ""
            },
            "type": "contourcarpet"
           }
          ],
          "heatmap": [
           {
            "colorbar": {
             "outlinewidth": 0,
             "ticks": ""
            },
            "colorscale": [
             [
              0,
              "#0d0887"
             ],
             [
              0.1111111111111111,
              "#46039f"
             ],
             [
              0.2222222222222222,
              "#7201a8"
             ],
             [
              0.3333333333333333,
              "#9c179e"
             ],
             [
              0.4444444444444444,
              "#bd3786"
             ],
             [
              0.5555555555555556,
              "#d8576b"
             ],
             [
              0.6666666666666666,
              "#ed7953"
             ],
             [
              0.7777777777777778,
              "#fb9f3a"
             ],
             [
              0.8888888888888888,
              "#fdca26"
             ],
             [
              1,
              "#f0f921"
             ]
            ],
            "type": "heatmap"
           }
          ],
          "histogram": [
           {
            "marker": {
             "pattern": {
              "fillmode": "overlay",
              "size": 10,
              "solidity": 0.2
             }
            },
            "type": "histogram"
           }
          ],
          "histogram2d": [
           {
            "colorbar": {
             "outlinewidth": 0,
             "ticks": ""
            },
            "colorscale": [
             [
              0,
              "#0d0887"
             ],
             [
              0.1111111111111111,
              "#46039f"
             ],
             [
              0.2222222222222222,
              "#7201a8"
             ],
             [
              0.3333333333333333,
              "#9c179e"
             ],
             [
              0.4444444444444444,
              "#bd3786"
             ],
             [
              0.5555555555555556,
              "#d8576b"
             ],
             [
              0.6666666666666666,
              "#ed7953"
             ],
             [
              0.7777777777777778,
              "#fb9f3a"
             ],
             [
              0.8888888888888888,
              "#fdca26"
             ],
             [
              1,
              "#f0f921"
             ]
            ],
            "type": "histogram2d"
           }
          ],
          "histogram2dcontour": [
           {
            "colorbar": {
             "outlinewidth": 0,
             "ticks": ""
            },
            "colorscale": [
             [
              0,
              "#0d0887"
             ],
             [
              0.1111111111111111,
              "#46039f"
             ],
             [
              0.2222222222222222,
              "#7201a8"
             ],
             [
              0.3333333333333333,
              "#9c179e"
             ],
             [
              0.4444444444444444,
              "#bd3786"
             ],
             [
              0.5555555555555556,
              "#d8576b"
             ],
             [
              0.6666666666666666,
              "#ed7953"
             ],
             [
              0.7777777777777778,
              "#fb9f3a"
             ],
             [
              0.8888888888888888,
              "#fdca26"
             ],
             [
              1,
              "#f0f921"
             ]
            ],
            "type": "histogram2dcontour"
           }
          ],
          "mesh3d": [
           {
            "colorbar": {
             "outlinewidth": 0,
             "ticks": ""
            },
            "type": "mesh3d"
           }
          ],
          "parcoords": [
           {
            "line": {
             "colorbar": {
              "outlinewidth": 0,
              "ticks": ""
             }
            },
            "type": "parcoords"
           }
          ],
          "pie": [
           {
            "automargin": true,
            "type": "pie"
           }
          ],
          "scatter": [
           {
            "fillpattern": {
             "fillmode": "overlay",
             "size": 10,
             "solidity": 0.2
            },
            "type": "scatter"
           }
          ],
          "scatter3d": [
           {
            "line": {
             "colorbar": {
              "outlinewidth": 0,
              "ticks": ""
             }
            },
            "marker": {
             "colorbar": {
              "outlinewidth": 0,
              "ticks": ""
             }
            },
            "type": "scatter3d"
           }
          ],
          "scattercarpet": [
           {
            "marker": {
             "colorbar": {
              "outlinewidth": 0,
              "ticks": ""
             }
            },
            "type": "scattercarpet"
           }
          ],
          "scattergeo": [
           {
            "marker": {
             "colorbar": {
              "outlinewidth": 0,
              "ticks": ""
             }
            },
            "type": "scattergeo"
           }
          ],
          "scattergl": [
           {
            "marker": {
             "colorbar": {
              "outlinewidth": 0,
              "ticks": ""
             }
            },
            "type": "scattergl"
           }
          ],
          "scattermap": [
           {
            "marker": {
             "colorbar": {
              "outlinewidth": 0,
              "ticks": ""
             }
            },
            "type": "scattermap"
           }
          ],
          "scattermapbox": [
           {
            "marker": {
             "colorbar": {
              "outlinewidth": 0,
              "ticks": ""
             }
            },
            "type": "scattermapbox"
           }
          ],
          "scatterpolar": [
           {
            "marker": {
             "colorbar": {
              "outlinewidth": 0,
              "ticks": ""
             }
            },
            "type": "scatterpolar"
           }
          ],
          "scatterpolargl": [
           {
            "marker": {
             "colorbar": {
              "outlinewidth": 0,
              "ticks": ""
             }
            },
            "type": "scatterpolargl"
           }
          ],
          "scatterternary": [
           {
            "marker": {
             "colorbar": {
              "outlinewidth": 0,
              "ticks": ""
             }
            },
            "type": "scatterternary"
           }
          ],
          "surface": [
           {
            "colorbar": {
             "outlinewidth": 0,
             "ticks": ""
            },
            "colorscale": [
             [
              0,
              "#0d0887"
             ],
             [
              0.1111111111111111,
              "#46039f"
             ],
             [
              0.2222222222222222,
              "#7201a8"
             ],
             [
              0.3333333333333333,
              "#9c179e"
             ],
             [
              0.4444444444444444,
              "#bd3786"
             ],
             [
              0.5555555555555556,
              "#d8576b"
             ],
             [
              0.6666666666666666,
              "#ed7953"
             ],
             [
              0.7777777777777778,
              "#fb9f3a"
             ],
             [
              0.8888888888888888,
              "#fdca26"
             ],
             [
              1,
              "#f0f921"
             ]
            ],
            "type": "surface"
           }
          ],
          "table": [
           {
            "cells": {
             "fill": {
              "color": "#EBF0F8"
             },
             "line": {
              "color": "white"
             }
            },
            "header": {
             "fill": {
              "color": "#C8D4E3"
             },
             "line": {
              "color": "white"
             }
            },
            "type": "table"
           }
          ]
         },
         "layout": {
          "annotationdefaults": {
           "arrowcolor": "#2a3f5f",
           "arrowhead": 0,
           "arrowwidth": 1
          },
          "autotypenumbers": "strict",
          "coloraxis": {
           "colorbar": {
            "outlinewidth": 0,
            "ticks": ""
           }
          },
          "colorscale": {
           "diverging": [
            [
             0,
             "#8e0152"
            ],
            [
             0.1,
             "#c51b7d"
            ],
            [
             0.2,
             "#de77ae"
            ],
            [
             0.3,
             "#f1b6da"
            ],
            [
             0.4,
             "#fde0ef"
            ],
            [
             0.5,
             "#f7f7f7"
            ],
            [
             0.6,
             "#e6f5d0"
            ],
            [
             0.7,
             "#b8e186"
            ],
            [
             0.8,
             "#7fbc41"
            ],
            [
             0.9,
             "#4d9221"
            ],
            [
             1,
             "#276419"
            ]
           ],
           "sequential": [
            [
             0,
             "#0d0887"
            ],
            [
             0.1111111111111111,
             "#46039f"
            ],
            [
             0.2222222222222222,
             "#7201a8"
            ],
            [
             0.3333333333333333,
             "#9c179e"
            ],
            [
             0.4444444444444444,
             "#bd3786"
            ],
            [
             0.5555555555555556,
             "#d8576b"
            ],
            [
             0.6666666666666666,
             "#ed7953"
            ],
            [
             0.7777777777777778,
             "#fb9f3a"
            ],
            [
             0.8888888888888888,
             "#fdca26"
            ],
            [
             1,
             "#f0f921"
            ]
           ],
           "sequentialminus": [
            [
             0,
             "#0d0887"
            ],
            [
             0.1111111111111111,
             "#46039f"
            ],
            [
             0.2222222222222222,
             "#7201a8"
            ],
            [
             0.3333333333333333,
             "#9c179e"
            ],
            [
             0.4444444444444444,
             "#bd3786"
            ],
            [
             0.5555555555555556,
             "#d8576b"
            ],
            [
             0.6666666666666666,
             "#ed7953"
            ],
            [
             0.7777777777777778,
             "#fb9f3a"
            ],
            [
             0.8888888888888888,
             "#fdca26"
            ],
            [
             1,
             "#f0f921"
            ]
           ]
          },
          "colorway": [
           "#636efa",
           "#EF553B",
           "#00cc96",
           "#ab63fa",
           "#FFA15A",
           "#19d3f3",
           "#FF6692",
           "#B6E880",
           "#FF97FF",
           "#FECB52"
          ],
          "font": {
           "color": "#2a3f5f"
          },
          "geo": {
           "bgcolor": "white",
           "lakecolor": "white",
           "landcolor": "white",
           "showlakes": true,
           "showland": true,
           "subunitcolor": "#C8D4E3"
          },
          "hoverlabel": {
           "align": "left"
          },
          "hovermode": "closest",
          "mapbox": {
           "style": "light"
          },
          "paper_bgcolor": "white",
          "plot_bgcolor": "white",
          "polar": {
           "angularaxis": {
            "gridcolor": "#EBF0F8",
            "linecolor": "#EBF0F8",
            "ticks": ""
           },
           "bgcolor": "white",
           "radialaxis": {
            "gridcolor": "#EBF0F8",
            "linecolor": "#EBF0F8",
            "ticks": ""
           }
          },
          "scene": {
           "xaxis": {
            "backgroundcolor": "white",
            "gridcolor": "#DFE8F3",
            "gridwidth": 2,
            "linecolor": "#EBF0F8",
            "showbackground": true,
            "ticks": "",
            "zerolinecolor": "#EBF0F8"
           },
           "yaxis": {
            "backgroundcolor": "white",
            "gridcolor": "#DFE8F3",
            "gridwidth": 2,
            "linecolor": "#EBF0F8",
            "showbackground": true,
            "ticks": "",
            "zerolinecolor": "#EBF0F8"
           },
           "zaxis": {
            "backgroundcolor": "white",
            "gridcolor": "#DFE8F3",
            "gridwidth": 2,
            "linecolor": "#EBF0F8",
            "showbackground": true,
            "ticks": "",
            "zerolinecolor": "#EBF0F8"
           }
          },
          "shapedefaults": {
           "line": {
            "color": "#2a3f5f"
           }
          },
          "ternary": {
           "aaxis": {
            "gridcolor": "#DFE8F3",
            "linecolor": "#A2B1C6",
            "ticks": ""
           },
           "baxis": {
            "gridcolor": "#DFE8F3",
            "linecolor": "#A2B1C6",
            "ticks": ""
           },
           "bgcolor": "white",
           "caxis": {
            "gridcolor": "#DFE8F3",
            "linecolor": "#A2B1C6",
            "ticks": ""
           }
          },
          "title": {
           "x": 0.05
          },
          "xaxis": {
           "automargin": true,
           "gridcolor": "#EBF0F8",
           "linecolor": "#EBF0F8",
           "ticks": "",
           "title": {
            "standoff": 15
           },
           "zerolinecolor": "#EBF0F8",
           "zerolinewidth": 2
          },
          "yaxis": {
           "automargin": true,
           "gridcolor": "#EBF0F8",
           "linecolor": "#EBF0F8",
           "ticks": "",
           "title": {
            "standoff": 15
           },
           "zerolinecolor": "#EBF0F8",
           "zerolinewidth": 2
          }
         }
        },
        "width": 1300,
        "xaxis": {
         "anchor": "y",
         "domain": [
          0,
          0.94
         ]
        },
        "yaxis": {
         "anchor": "x",
         "domain": [
          0,
          1
         ],
         "range": [
          0,
          1
         ],
         "title": {
          "font": {
           "size": 20
          },
          "text": "Precision"
         }
        },
        "yaxis2": {
         "anchor": "x",
         "overlaying": "y",
         "range": [
          0,
          1
         ],
         "scaleanchor": 0,
         "showgrid": false,
         "showline": false,
         "showticklabels": true,
         "side": "right",
         "title": {
          "font": {
           "size": 20
          },
          "text": "Recall"
         },
         "zeroline": true
        }
       }
      }
     },
     "metadata": {},
     "output_type": "display_data"
    }
   ],
   "source": [
    "fig = double_bar_chart_plotly(v1_random_plot_data, \n",
    "                        names_dict,\n",
    "                        colors_dict,\n",
    "                        vars_to_plot=['precision', 'recall'],\n",
    "                        names=['Precision', 'Recall'],\n",
    "                        labels=['Precision', 'Recall'],\n",
    "                        methods=methods,\n",
    "                        dist_between_lines=0.1175,\n",
    "                        intra_dis=0.112,\n",
    "                        inter_dis=0.137,\n",
    "                        lin_space=5,\n",
    "                        nl_space=5,\n",
    "                        start_pos = 0.03,\n",
    "                            width=1300,\n",
    "                            height=600,\n",
    "                            range_y1=(0, 1),\n",
    "                            range_y2=(0, 1))"
   ]
  },
  {
   "cell_type": "code",
   "execution_count": 13,
   "id": "575ed25d",
   "metadata": {},
   "outputs": [
    {
     "data": {
      "application/vnd.plotly.v1+json": {
       "config": {
        "plotlyServerURL": "https://plot.ly"
       },
       "data": [
        {
         "error_y": {
          "array": {
           "bdata": "wM7B6vRU0D+MIGxYPL7HP+YpOeHxwMQ/w3VroUXLvT8=",
           "dtype": "f8"
          },
          "type": "data",
          "visible": true
         },
         "marker": {
          "color": "grey"
         },
         "name": "Random",
         "offsetgroup": "0",
         "opacity": 0.6,
         "showlegend": true,
         "type": "bar",
         "x": [
          "|V|=3, |E|=3",
          "|V|=4, |E|=4",
          "|V|=5, |E|=5",
          "|V|=6, |E|=6"
         ],
         "y": {
          "bdata": "ww4FfFTI4j/btm3btm3bPxVQARVQAdU/6dW8ulxu0T8=",
          "dtype": "f8"
         },
         "yaxis": "y"
        },
        {
         "error_y": {
          "array": {
           "bdata": "rE2G3Ye2zz+Tbz3cZ9nHP9UYUGi8NsU/VGrcRiNZwD8=",
           "dtype": "f8"
          },
          "type": "data",
          "visible": true
         },
         "marker": {
          "color": "#b85c00"
         },
         "name": "FGS",
         "offsetgroup": "1",
         "opacity": 0.6,
         "showlegend": true,
         "type": "bar",
         "x": [
          "|V|=3, |E|=3",
          "|V|=4, |E|=4",
          "|V|=5, |E|=5",
          "|V|=6, |E|=6"
         ],
         "y": {
          "bdata": "jjulg/X/4T9QAQXDlxHbP672RVkToNc/S16OPA0e0j8=",
          "dtype": "f8"
         },
         "yaxis": "y"
        },
        {
         "error_y": {
          "array": {
           "bdata": "OaHypTw+zT/N2v3HHebHP3snrdAbOMs/bx/ZNIKXyT8=",
           "dtype": "f8"
          },
          "type": "data",
          "visible": true
         },
         "marker": {
          "color": "#9454c4"
         },
         "name": "NOTEARS-MLP",
         "offsetgroup": "2",
         "opacity": 0.6,
         "showlegend": true,
         "type": "bar",
         "x": [
          "|V|=3, |E|=3",
          "|V|=4, |E|=4",
          "|V|=5, |E|=5",
          "|V|=6, |E|=6"
         ],
         "y": {
          "bdata": "579gHB4b4j9riBHtfjfhP6XGdO83Sd8/Rqjbbwy23j8=",
          "dtype": "f8"
         },
         "yaxis": "y"
        },
        {
         "error_y": {
          "array": {
           "bdata": "jwWe2yVozD+f7ekYUBnJP7h+OYAM1Mk/3bOAaVXZyz8=",
           "dtype": "f8"
          },
          "type": "data",
          "visible": true
         },
         "marker": {
          "color": "#379f9f"
         },
         "name": "MPC",
         "offsetgroup": "3",
         "opacity": 0.6,
         "showlegend": true,
         "type": "bar",
         "x": [
          "|V|=3, |E|=3",
          "|V|=4, |E|=4",
          "|V|=5, |E|=5",
          "|V|=6, |E|=6"
         ],
         "y": {
          "bdata": "bkKYRQnF4T+682YdK/3eP7gF1GwFF94/k5VLoUwZ3z8=",
          "dtype": "f8"
         },
         "yaxis": "y"
        },
        {
         "error_y": {
          "array": {
           "bdata": "gHXxpbU1zz/POPJmwenLP8CkeKnWAtA/Z/gMbLPizj8=",
           "dtype": "f8"
          },
          "type": "data",
          "visible": true
         },
         "marker": {
          "color": "#0085CA"
         },
         "name": "ABAPC (Original)",
         "offsetgroup": "4",
         "opacity": 0.6,
         "showlegend": true,
         "type": "bar",
         "x": [
          "|V|=3, |E|=3",
          "|V|=4, |E|=4",
          "|V|=5, |E|=5",
          "|V|=6, |E|=6"
         ],
         "y": {
          "bdata": "0YxgIRr44T8TkdhYagjhP30aCrJ4hOE/Ryijt2XN4D8=",
          "dtype": "f8"
         },
         "yaxis": "y"
        },
        {
         "error_y": {
          "array": {
           "bdata": "LCmw5CpwzT/UkPuSbOfIPz9+NTEOQcg/5yPsLNGLyD8=",
           "dtype": "f8"
          },
          "type": "data",
          "visible": true
         },
         "marker": {
          "color": "#9F8D00"
         },
         "name": "V1.1",
         "offsetgroup": "5",
         "opacity": 0.6,
         "showlegend": true,
         "type": "bar",
         "x": [
          "|V|=3, |E|=3",
          "|V|=4, |E|=4",
          "|V|=5, |E|=5",
          "|V|=6, |E|=6"
         ],
         "y": {
          "bdata": "Dn9N1qhH4T9epe8snj/gP3k3oxVXqt0/v4m/sRgT3j8=",
          "dtype": "f8"
         },
         "yaxis": "y"
        },
        {
         "error_y": {
          "array": {
           "bdata": "gHXxpbU1zz+//S963pfLPzp0+VkxCNA/Vjy/XQgzzj8=",
           "dtype": "f8"
          },
          "type": "data",
          "visible": true
         },
         "marker": {
          "color": "#9E0000"
         },
         "name": "V1.2",
         "offsetgroup": "6",
         "opacity": 0.6,
         "showlegend": true,
         "type": "bar",
         "x": [
          "|V|=3, |E|=3",
          "|V|=4, |E|=4",
          "|V|=5, |E|=5",
          "|V|=6, |E|=6"
         ],
         "y": {
          "bdata": "0YxgIRr44T85+QHRKefgP/umwx2CXeE/i5ESqOu24D8=",
          "dtype": "f8"
         },
         "yaxis": "y"
        },
        {
         "error_y": {
          "array": {
           "bdata": "gHXxpbU1zz+M44sA15HKP7XeBBQvlcw/mIzpVT1TzD8=",
           "dtype": "f8"
          },
          "type": "data",
          "visible": true
         },
         "marker": {
          "color": "#ff34da"
         },
         "name": "V1.3",
         "offsetgroup": "7",
         "opacity": 0.6,
         "showlegend": true,
         "type": "bar",
         "x": [
          "|V|=3, |E|=3",
          "|V|=4, |E|=4",
          "|V|=5, |E|=5",
          "|V|=6, |E|=6"
         ],
         "y": {
          "bdata": "0YxgIRr44T91zeSbbW7gPym32Ra+NOA/YxOG7n+t3D8=",
          "dtype": "f8"
         },
         "yaxis": "y"
        },
        {
         "error_y": {
          "array": {
           "bdata": "gHXxpbU1zz+kpxGntyHLP2Qt/I3Yfcw/o/tzI9UmzT8=",
           "dtype": "f8"
          },
          "type": "data",
          "visible": true
         },
         "marker": {
          "color": "#008100"
         },
         "name": "V1.4 ",
         "offsetgroup": "8",
         "opacity": 0.6,
         "showlegend": true,
         "type": "bar",
         "x": [
          "|V|=3, |E|=3",
          "|V|=4, |E|=4",
          "|V|=5, |E|=5",
          "|V|=6, |E|=6"
         ],
         "y": {
          "bdata": "0YxgIRr44T9sqI8qa+bgP++AiNkPCuA/tNIxFYAp3j8=",
          "dtype": "f8"
         },
         "yaxis": "y"
        },
        {
         "error_y": {
          "array": {
           "bdata": "7NH9RWUizj9z3mTOEh/LP3GBkBbnN8g/HcM8hAbqwD8=",
           "dtype": "f8"
          },
          "type": "data",
          "visible": true
         },
         "marker": {
          "color": "#ff8c00"
         },
         "name": "V2",
         "offsetgroup": "9",
         "opacity": 0.6,
         "showlegend": true,
         "type": "bar",
         "x": [
          "|V|=3, |E|=3",
          "|V|=4, |E|=4",
          "|V|=5, |E|=5",
          "|V|=6, |E|=6"
         ],
         "y": {
          "bdata": "rjI7gi2L4T+ugrqRT5TgP8TyhVQCANs/+8fXtRHk0T8=",
          "dtype": "f8"
         },
         "yaxis": "y"
        },
        {
         "marker": {
          "color": "white"
         },
         "name": "",
         "offsetgroup": "10",
         "opacity": 1,
         "showlegend": false,
         "type": "bar",
         "x": [
          "|V|=3, |E|=3",
          "|V|=4, |E|=4",
          "|V|=5, |E|=5",
          "|V|=6, |E|=6"
         ],
         "y": {
          "bdata": "AAAAAAAAAAAAAAAAAAAAAAAAAAAAAAAAAAAAAAAAAAA=",
          "dtype": "f8"
         }
        },
        {
         "error_y": {
          "array": {
           "bdata": "AAAAAAAAAABT4URTapLWP/7S2sXk19E/LykrMTqMzT8=",
           "dtype": "f8"
          },
          "type": "data",
          "visible": true
         },
         "marker": {
          "color": "grey"
         },
         "name": "Random",
         "offsetgroup": "11",
         "opacity": 0.6,
         "showlegend": false,
         "type": "bar",
         "x": [
          "|V|=3, |E|=3",
          "|V|=4, |E|=4",
          "|V|=5, |E|=5",
          "|V|=6, |E|=6"
         ],
         "y": {
          "bdata": "AAAAAAAAAADhehSuR+HqP30/NV66SfQ/7+7u7u7u9j8=",
          "dtype": "f8"
         },
         "yaxis": "y2"
        },
        {
         "error_y": {
          "array": {
           "bdata": "oxqM7r//0T+ZMUz2LYHcPyX6tyHgktw/7y15RD9o0j8=",
           "dtype": "f8"
          },
          "type": "data",
          "visible": true
         },
         "marker": {
          "color": "#b85c00"
         },
         "name": "FGS",
         "offsetgroup": "12",
         "opacity": 0.6,
         "showlegend": false,
         "type": "bar",
         "x": [
          "|V|=3, |E|=3",
          "|V|=4, |E|=4",
          "|V|=5, |E|=5",
          "|V|=6, |E|=6"
         ],
         "y": {
          "bdata": "BJ020GkDzT/hehSuR+HqP/LSTWIQWPE/cD0K16Nw9T8=",
          "dtype": "f8"
         },
         "yaxis": "y2"
        },
        {
         "error_y": {
          "array": {
           "bdata": "UGqOkjDI1D8bSuGovC7SP26W5IRJvNI/yYNvhPSO0D8=",
           "dtype": "f8"
          },
          "type": "data",
          "visible": true
         },
         "marker": {
          "color": "#9454c4"
         },
         "name": "NOTEARS-MLP",
         "offsetgroup": "13",
         "opacity": 0.6,
         "showlegend": false,
         "type": "bar",
         "x": [
          "|V|=3, |E|=3",
          "|V|=4, |E|=4",
          "|V|=5, |E|=5",
          "|V|=6, |E|=6"
         ],
         "y": {
          "bdata": "vLu7u7u72z/2KFyPwvXgP99PjZduEuM/16NwPQrX4z8=",
          "dtype": "f8"
         },
         "yaxis": "y2"
        },
        {
         "error_y": {
          "array": {
           "bdata": "61UzS6GfyD8pwMgXWoPTPxNHkIHpk9I/Q54K1gZJzz8=",
           "dtype": "f8"
          },
          "type": "data",
          "visible": true
         },
         "marker": {
          "color": "#379f9f"
         },
         "name": "MPC",
         "offsetgroup": "14",
         "opacity": 0.6,
         "showlegend": false,
         "type": "bar",
         "x": [
          "|V|=3, |E|=3",
          "|V|=4, |E|=4",
          "|V|=5, |E|=5",
          "|V|=6, |E|=6"
         ],
         "y": {
          "bdata": "5RdLfrHkxz8fhetRuB7VP8DKoUW2890/9ihcj8L14D8=",
          "dtype": "f8"
         },
         "yaxis": "y2"
        },
        {
         "error_y": {
          "array": {
           "bdata": "w/8qmUyX1z98s2HZPvbVPzpLucR9MtQ/QneRB6D01D8=",
           "dtype": "f8"
          },
          "type": "data",
          "visible": true
         },
         "marker": {
          "color": "#0085CA"
         },
         "name": "ABAPC (Original)",
         "offsetgroup": "15",
         "opacity": 0.6,
         "showlegend": false,
         "type": "bar",
         "x": [
          "|V|=3, |E|=3",
          "|V|=4, |E|=4",
          "|V|=5, |E|=5",
          "|V|=6, |E|=6"
         ],
         "y": {
          "bdata": "exSuR+F61D/2KFyPwvXYPypcj8L1KNw/SOF6FK5H4T8=",
          "dtype": "f8"
         },
         "yaxis": "y2"
        },
        {
         "error_y": {
          "array": {
           "bdata": "qZOQg0YB1z/SlDWzUGjRPx6OuykMFM0/eF/Ixiv8yz8=",
           "dtype": "f8"
          },
          "type": "data",
          "visible": true
         },
         "marker": {
          "color": "#9F8D00"
         },
         "name": "V1.1",
         "offsetgroup": "16",
         "opacity": 0.6,
         "showlegend": false,
         "type": "bar",
         "x": [
          "|V|=3, |E|=3",
          "|V|=4, |E|=4",
          "|V|=5, |E|=5",
          "|V|=6, |E|=6"
         ],
         "y": {
          "bdata": "6LSBThvo1D/NzMzMzMzcP6AaL90kBuE//WLJL5b84j8=",
          "dtype": "f8"
         },
         "yaxis": "y2"
        },
        {
         "error_y": {
          "array": {
           "bdata": "w/8qmUyX1z+LRX1ws7TVPzneCFPPH9Q/lKIuTWGb1D8=",
           "dtype": "f8"
          },
          "type": "data",
          "visible": true
         },
         "marker": {
          "color": "#9E0000"
         },
         "name": "V1.2",
         "offsetgroup": "17",
         "opacity": 0.6,
         "showlegend": false,
         "type": "bar",
         "x": [
          "|V|=3, |E|=3",
          "|V|=4, |E|=4",
          "|V|=5, |E|=5",
          "|V|=6, |E|=6"
         ],
         "y": {
          "bdata": "exSuR+F61D9I4XoUrkfZP3rpJjEIrNw/tYFOG+i04T8=",
          "dtype": "f8"
         },
         "yaxis": "y2"
        },
        {
         "error_y": {
          "array": {
           "bdata": "w/8qmUyX1z88BDxLQhfZP+3RAJDwZ94/QRgME/CI4D8=",
           "dtype": "f8"
          },
          "type": "data",
          "visible": true
         },
         "marker": {
          "color": "#ff34da"
         },
         "name": "V1.3",
         "offsetgroup": "18",
         "opacity": 0.6,
         "showlegend": false,
         "type": "bar",
         "x": [
          "|V|=3, |E|=3",
          "|V|=4, |E|=4",
          "|V|=5, |E|=5",
          "|V|=6, |E|=6"
         ],
         "y": {
          "bdata": "exSuR+F61D/NzMzMzMzgPx6F61G4HuU/DXTaQKcN8D8=",
          "dtype": "f8"
         },
         "yaxis": "y2"
        },
        {
         "error_y": {
          "array": {
           "bdata": "w/8qmUyX1z+1t/CthHXaP72dhhptM9s/3SK/x/6q2z8=",
           "dtype": "f8"
          },
          "type": "data",
          "visible": true
         },
         "marker": {
          "color": "#008100"
         },
         "name": "V1.4 ",
         "offsetgroup": "19",
         "opacity": 0.6,
         "showlegend": false,
         "type": "bar",
         "x": [
          "|V|=3, |E|=3",
          "|V|=4, |E|=4",
          "|V|=5, |E|=5",
          "|V|=6, |E|=6"
         ],
         "y": {
          "bdata": "exSuR+F61D/NzMzMzMzcPyuHFtnO9+M/PQrXo3A96j8=",
          "dtype": "f8"
         },
         "yaxis": "y2"
        },
        {
         "error_y": {
          "array": {
           "bdata": "XM5UVlSb1z9RXPJ5VpTXP6D22pG3J9g/8IROPwRc1T8=",
           "dtype": "f8"
          },
          "type": "data",
          "visible": true
         },
         "marker": {
          "color": "#ff8c00"
         },
         "name": "V2",
         "offsetgroup": "20",
         "opacity": 0.6,
         "showlegend": false,
         "type": "bar",
         "x": [
          "|V|=3, |E|=3",
          "|V|=4, |E|=4",
          "|V|=5, |E|=5",
          "|V|=6, |E|=6"
         ],
         "y": {
          "bdata": "ERERERER0T+kcD0K16PYP65H4XoUruc/84slv1jy8z8=",
          "dtype": "f8"
         },
         "yaxis": "y2"
        }
       ],
       "layout": {
        "annotations": [
         {
          "font": {
           "color": "Black",
           "family": "Serif",
           "size": 20
          },
          "showarrow": false,
          "text": "Dataset:",
          "x": 0,
          "xanchor": "center",
          "xref": "paper",
          "y": -0.08,
          "yanchor": "bottom",
          "yref": "paper"
         },
         {
          "bgcolor": "#E5ECF6",
          "bordercolor": "#E5ECF6",
          "borderwidth": 2,
          "font": {
           "color": "black",
           "size": 20
          },
          "opacity": 0.8,
          "showarrow": false,
          "text": "     f1     ",
          "x": 0.03,
          "xanchor": "left",
          "xref": "x domain",
          "y": 1.015,
          "yref": "y domain"
         },
         {
          "bgcolor": "#E5ECF6",
          "bordercolor": "#E5ECF6",
          "borderwidth": 2,
          "font": {
           "color": "black",
           "size": 20
          },
          "opacity": 0.8,
          "showarrow": false,
          "text": "     n_shd     ",
          "x": 0.14200000000000002,
          "xanchor": "left",
          "xref": "x domain",
          "y": 1.015,
          "yref": "y domain"
         },
         {
          "bgcolor": "#E5ECF6",
          "bordercolor": "#E5ECF6",
          "borderwidth": 2,
          "font": {
           "color": "black",
           "size": 20
          },
          "opacity": 0.8,
          "showarrow": false,
          "text": "     f1     ",
          "x": 0.279,
          "xanchor": "left",
          "xref": "x domain",
          "y": 1.015,
          "yref": "y domain"
         },
         {
          "bgcolor": "#E5ECF6",
          "bordercolor": "#E5ECF6",
          "borderwidth": 2,
          "font": {
           "color": "black",
           "size": 20
          },
          "opacity": 0.8,
          "showarrow": false,
          "text": "     n_shd     ",
          "x": 0.391,
          "xanchor": "left",
          "xref": "x domain",
          "y": 1.015,
          "yref": "y domain"
         },
         {
          "bgcolor": "#E5ECF6",
          "bordercolor": "#E5ECF6",
          "borderwidth": 2,
          "font": {
           "color": "black",
           "size": 20
          },
          "opacity": 0.8,
          "showarrow": false,
          "text": "     f1     ",
          "x": 0.528,
          "xanchor": "left",
          "xref": "x domain",
          "y": 1.015,
          "yref": "y domain"
         },
         {
          "bgcolor": "#E5ECF6",
          "bordercolor": "#E5ECF6",
          "borderwidth": 2,
          "font": {
           "color": "black",
           "size": 20
          },
          "opacity": 0.8,
          "showarrow": false,
          "text": "     n_shd     ",
          "x": 0.64,
          "xanchor": "left",
          "xref": "x domain",
          "y": 1.015,
          "yref": "y domain"
         },
         {
          "bgcolor": "#E5ECF6",
          "bordercolor": "#E5ECF6",
          "borderwidth": 2,
          "font": {
           "color": "black",
           "size": 20
          },
          "opacity": 0.8,
          "showarrow": false,
          "text": "     f1     ",
          "x": 0.777,
          "xanchor": "left",
          "xref": "x domain",
          "y": 1.015,
          "yref": "y domain"
         },
         {
          "bgcolor": "#E5ECF6",
          "bordercolor": "#E5ECF6",
          "borderwidth": 2,
          "font": {
           "color": "black",
           "size": 20
          },
          "opacity": 0.8,
          "showarrow": false,
          "text": "     n_shd     ",
          "x": 0.889,
          "xanchor": "left",
          "xref": "x domain",
          "y": 1.015,
          "yref": "y domain"
         }
        ],
        "bargap": 0.15,
        "bargroupgap": 0.15,
        "barmode": "group",
        "font": {
         "color": "black",
         "family": "Serif",
         "size": 20
        },
        "height": 600,
        "hovermode": "x unified",
        "legend": {
         "orientation": "h",
         "x": 0.5,
         "xanchor": "center",
         "y": 1.1,
         "yanchor": "top"
        },
        "margin": {
         "b": 70,
         "l": 40,
         "r": 0,
         "t": 20
        },
        "shapes": [
         {
          "layer": "below",
          "line": {
           "color": "grey",
           "dash": "dash",
           "width": 1
          },
          "type": "line",
          "x0": 0.1175,
          "x1": 0.1175,
          "xref": "paper",
          "y0": 0,
          "y1": 1,
          "yref": "paper"
         },
         {
          "layer": "below",
          "line": {
           "color": "black",
           "dash": "solid",
           "width": 1
          },
          "type": "line",
          "x0": 0.235,
          "x1": 0.235,
          "xref": "paper",
          "y0": 0,
          "y1": 1,
          "yref": "paper"
         },
         {
          "layer": "below",
          "line": {
           "color": "grey",
           "dash": "dash",
           "width": 1
          },
          "type": "line",
          "x0": 0.3525,
          "x1": 0.3525,
          "xref": "paper",
          "y0": 0,
          "y1": 1,
          "yref": "paper"
         },
         {
          "layer": "below",
          "line": {
           "color": "black",
           "dash": "solid",
           "width": 1
          },
          "type": "line",
          "x0": 0.47,
          "x1": 0.47,
          "xref": "paper",
          "y0": 0,
          "y1": 1,
          "yref": "paper"
         },
         {
          "layer": "below",
          "line": {
           "color": "grey",
           "dash": "dash",
           "width": 1
          },
          "type": "line",
          "x0": 0.5874999999999999,
          "x1": 0.5874999999999999,
          "xref": "paper",
          "y0": 0,
          "y1": 1,
          "yref": "paper"
         },
         {
          "layer": "below",
          "line": {
           "color": "black",
           "dash": "solid",
           "width": 1
          },
          "type": "line",
          "x0": 0.7049999999999998,
          "x1": 0.7049999999999998,
          "xref": "paper",
          "y0": 0,
          "y1": 1,
          "yref": "paper"
         },
         {
          "layer": "below",
          "line": {
           "color": "grey",
           "dash": "dash",
           "width": 1
          },
          "type": "line",
          "x0": 0.8224999999999998,
          "x1": 0.8224999999999998,
          "xref": "paper",
          "y0": 0,
          "y1": 1,
          "yref": "paper"
         },
         {
          "layer": "below",
          "line": {
           "color": "black",
           "dash": "solid",
           "width": 1
          },
          "type": "line",
          "x0": 0.9399999999999997,
          "x1": 0.9399999999999997,
          "xref": "paper",
          "y0": 0,
          "y1": 1,
          "yref": "paper"
         }
        ],
        "template": {
         "data": {
          "bar": [
           {
            "error_x": {
             "color": "#2a3f5f"
            },
            "error_y": {
             "color": "#2a3f5f"
            },
            "marker": {
             "line": {
              "color": "white",
              "width": 0.5
             },
             "pattern": {
              "fillmode": "overlay",
              "size": 10,
              "solidity": 0.2
             }
            },
            "type": "bar"
           }
          ],
          "barpolar": [
           {
            "marker": {
             "line": {
              "color": "white",
              "width": 0.5
             },
             "pattern": {
              "fillmode": "overlay",
              "size": 10,
              "solidity": 0.2
             }
            },
            "type": "barpolar"
           }
          ],
          "carpet": [
           {
            "aaxis": {
             "endlinecolor": "#2a3f5f",
             "gridcolor": "#C8D4E3",
             "linecolor": "#C8D4E3",
             "minorgridcolor": "#C8D4E3",
             "startlinecolor": "#2a3f5f"
            },
            "baxis": {
             "endlinecolor": "#2a3f5f",
             "gridcolor": "#C8D4E3",
             "linecolor": "#C8D4E3",
             "minorgridcolor": "#C8D4E3",
             "startlinecolor": "#2a3f5f"
            },
            "type": "carpet"
           }
          ],
          "choropleth": [
           {
            "colorbar": {
             "outlinewidth": 0,
             "ticks": ""
            },
            "type": "choropleth"
           }
          ],
          "contour": [
           {
            "colorbar": {
             "outlinewidth": 0,
             "ticks": ""
            },
            "colorscale": [
             [
              0,
              "#0d0887"
             ],
             [
              0.1111111111111111,
              "#46039f"
             ],
             [
              0.2222222222222222,
              "#7201a8"
             ],
             [
              0.3333333333333333,
              "#9c179e"
             ],
             [
              0.4444444444444444,
              "#bd3786"
             ],
             [
              0.5555555555555556,
              "#d8576b"
             ],
             [
              0.6666666666666666,
              "#ed7953"
             ],
             [
              0.7777777777777778,
              "#fb9f3a"
             ],
             [
              0.8888888888888888,
              "#fdca26"
             ],
             [
              1,
              "#f0f921"
             ]
            ],
            "type": "contour"
           }
          ],
          "contourcarpet": [
           {
            "colorbar": {
             "outlinewidth": 0,
             "ticks": ""
            },
            "type": "contourcarpet"
           }
          ],
          "heatmap": [
           {
            "colorbar": {
             "outlinewidth": 0,
             "ticks": ""
            },
            "colorscale": [
             [
              0,
              "#0d0887"
             ],
             [
              0.1111111111111111,
              "#46039f"
             ],
             [
              0.2222222222222222,
              "#7201a8"
             ],
             [
              0.3333333333333333,
              "#9c179e"
             ],
             [
              0.4444444444444444,
              "#bd3786"
             ],
             [
              0.5555555555555556,
              "#d8576b"
             ],
             [
              0.6666666666666666,
              "#ed7953"
             ],
             [
              0.7777777777777778,
              "#fb9f3a"
             ],
             [
              0.8888888888888888,
              "#fdca26"
             ],
             [
              1,
              "#f0f921"
             ]
            ],
            "type": "heatmap"
           }
          ],
          "histogram": [
           {
            "marker": {
             "pattern": {
              "fillmode": "overlay",
              "size": 10,
              "solidity": 0.2
             }
            },
            "type": "histogram"
           }
          ],
          "histogram2d": [
           {
            "colorbar": {
             "outlinewidth": 0,
             "ticks": ""
            },
            "colorscale": [
             [
              0,
              "#0d0887"
             ],
             [
              0.1111111111111111,
              "#46039f"
             ],
             [
              0.2222222222222222,
              "#7201a8"
             ],
             [
              0.3333333333333333,
              "#9c179e"
             ],
             [
              0.4444444444444444,
              "#bd3786"
             ],
             [
              0.5555555555555556,
              "#d8576b"
             ],
             [
              0.6666666666666666,
              "#ed7953"
             ],
             [
              0.7777777777777778,
              "#fb9f3a"
             ],
             [
              0.8888888888888888,
              "#fdca26"
             ],
             [
              1,
              "#f0f921"
             ]
            ],
            "type": "histogram2d"
           }
          ],
          "histogram2dcontour": [
           {
            "colorbar": {
             "outlinewidth": 0,
             "ticks": ""
            },
            "colorscale": [
             [
              0,
              "#0d0887"
             ],
             [
              0.1111111111111111,
              "#46039f"
             ],
             [
              0.2222222222222222,
              "#7201a8"
             ],
             [
              0.3333333333333333,
              "#9c179e"
             ],
             [
              0.4444444444444444,
              "#bd3786"
             ],
             [
              0.5555555555555556,
              "#d8576b"
             ],
             [
              0.6666666666666666,
              "#ed7953"
             ],
             [
              0.7777777777777778,
              "#fb9f3a"
             ],
             [
              0.8888888888888888,
              "#fdca26"
             ],
             [
              1,
              "#f0f921"
             ]
            ],
            "type": "histogram2dcontour"
           }
          ],
          "mesh3d": [
           {
            "colorbar": {
             "outlinewidth": 0,
             "ticks": ""
            },
            "type": "mesh3d"
           }
          ],
          "parcoords": [
           {
            "line": {
             "colorbar": {
              "outlinewidth": 0,
              "ticks": ""
             }
            },
            "type": "parcoords"
           }
          ],
          "pie": [
           {
            "automargin": true,
            "type": "pie"
           }
          ],
          "scatter": [
           {
            "fillpattern": {
             "fillmode": "overlay",
             "size": 10,
             "solidity": 0.2
            },
            "type": "scatter"
           }
          ],
          "scatter3d": [
           {
            "line": {
             "colorbar": {
              "outlinewidth": 0,
              "ticks": ""
             }
            },
            "marker": {
             "colorbar": {
              "outlinewidth": 0,
              "ticks": ""
             }
            },
            "type": "scatter3d"
           }
          ],
          "scattercarpet": [
           {
            "marker": {
             "colorbar": {
              "outlinewidth": 0,
              "ticks": ""
             }
            },
            "type": "scattercarpet"
           }
          ],
          "scattergeo": [
           {
            "marker": {
             "colorbar": {
              "outlinewidth": 0,
              "ticks": ""
             }
            },
            "type": "scattergeo"
           }
          ],
          "scattergl": [
           {
            "marker": {
             "colorbar": {
              "outlinewidth": 0,
              "ticks": ""
             }
            },
            "type": "scattergl"
           }
          ],
          "scattermap": [
           {
            "marker": {
             "colorbar": {
              "outlinewidth": 0,
              "ticks": ""
             }
            },
            "type": "scattermap"
           }
          ],
          "scattermapbox": [
           {
            "marker": {
             "colorbar": {
              "outlinewidth": 0,
              "ticks": ""
             }
            },
            "type": "scattermapbox"
           }
          ],
          "scatterpolar": [
           {
            "marker": {
             "colorbar": {
              "outlinewidth": 0,
              "ticks": ""
             }
            },
            "type": "scatterpolar"
           }
          ],
          "scatterpolargl": [
           {
            "marker": {
             "colorbar": {
              "outlinewidth": 0,
              "ticks": ""
             }
            },
            "type": "scatterpolargl"
           }
          ],
          "scatterternary": [
           {
            "marker": {
             "colorbar": {
              "outlinewidth": 0,
              "ticks": ""
             }
            },
            "type": "scatterternary"
           }
          ],
          "surface": [
           {
            "colorbar": {
             "outlinewidth": 0,
             "ticks": ""
            },
            "colorscale": [
             [
              0,
              "#0d0887"
             ],
             [
              0.1111111111111111,
              "#46039f"
             ],
             [
              0.2222222222222222,
              "#7201a8"
             ],
             [
              0.3333333333333333,
              "#9c179e"
             ],
             [
              0.4444444444444444,
              "#bd3786"
             ],
             [
              0.5555555555555556,
              "#d8576b"
             ],
             [
              0.6666666666666666,
              "#ed7953"
             ],
             [
              0.7777777777777778,
              "#fb9f3a"
             ],
             [
              0.8888888888888888,
              "#fdca26"
             ],
             [
              1,
              "#f0f921"
             ]
            ],
            "type": "surface"
           }
          ],
          "table": [
           {
            "cells": {
             "fill": {
              "color": "#EBF0F8"
             },
             "line": {
              "color": "white"
             }
            },
            "header": {
             "fill": {
              "color": "#C8D4E3"
             },
             "line": {
              "color": "white"
             }
            },
            "type": "table"
           }
          ]
         },
         "layout": {
          "annotationdefaults": {
           "arrowcolor": "#2a3f5f",
           "arrowhead": 0,
           "arrowwidth": 1
          },
          "autotypenumbers": "strict",
          "coloraxis": {
           "colorbar": {
            "outlinewidth": 0,
            "ticks": ""
           }
          },
          "colorscale": {
           "diverging": [
            [
             0,
             "#8e0152"
            ],
            [
             0.1,
             "#c51b7d"
            ],
            [
             0.2,
             "#de77ae"
            ],
            [
             0.3,
             "#f1b6da"
            ],
            [
             0.4,
             "#fde0ef"
            ],
            [
             0.5,
             "#f7f7f7"
            ],
            [
             0.6,
             "#e6f5d0"
            ],
            [
             0.7,
             "#b8e186"
            ],
            [
             0.8,
             "#7fbc41"
            ],
            [
             0.9,
             "#4d9221"
            ],
            [
             1,
             "#276419"
            ]
           ],
           "sequential": [
            [
             0,
             "#0d0887"
            ],
            [
             0.1111111111111111,
             "#46039f"
            ],
            [
             0.2222222222222222,
             "#7201a8"
            ],
            [
             0.3333333333333333,
             "#9c179e"
            ],
            [
             0.4444444444444444,
             "#bd3786"
            ],
            [
             0.5555555555555556,
             "#d8576b"
            ],
            [
             0.6666666666666666,
             "#ed7953"
            ],
            [
             0.7777777777777778,
             "#fb9f3a"
            ],
            [
             0.8888888888888888,
             "#fdca26"
            ],
            [
             1,
             "#f0f921"
            ]
           ],
           "sequentialminus": [
            [
             0,
             "#0d0887"
            ],
            [
             0.1111111111111111,
             "#46039f"
            ],
            [
             0.2222222222222222,
             "#7201a8"
            ],
            [
             0.3333333333333333,
             "#9c179e"
            ],
            [
             0.4444444444444444,
             "#bd3786"
            ],
            [
             0.5555555555555556,
             "#d8576b"
            ],
            [
             0.6666666666666666,
             "#ed7953"
            ],
            [
             0.7777777777777778,
             "#fb9f3a"
            ],
            [
             0.8888888888888888,
             "#fdca26"
            ],
            [
             1,
             "#f0f921"
            ]
           ]
          },
          "colorway": [
           "#636efa",
           "#EF553B",
           "#00cc96",
           "#ab63fa",
           "#FFA15A",
           "#19d3f3",
           "#FF6692",
           "#B6E880",
           "#FF97FF",
           "#FECB52"
          ],
          "font": {
           "color": "#2a3f5f"
          },
          "geo": {
           "bgcolor": "white",
           "lakecolor": "white",
           "landcolor": "white",
           "showlakes": true,
           "showland": true,
           "subunitcolor": "#C8D4E3"
          },
          "hoverlabel": {
           "align": "left"
          },
          "hovermode": "closest",
          "mapbox": {
           "style": "light"
          },
          "paper_bgcolor": "white",
          "plot_bgcolor": "white",
          "polar": {
           "angularaxis": {
            "gridcolor": "#EBF0F8",
            "linecolor": "#EBF0F8",
            "ticks": ""
           },
           "bgcolor": "white",
           "radialaxis": {
            "gridcolor": "#EBF0F8",
            "linecolor": "#EBF0F8",
            "ticks": ""
           }
          },
          "scene": {
           "xaxis": {
            "backgroundcolor": "white",
            "gridcolor": "#DFE8F3",
            "gridwidth": 2,
            "linecolor": "#EBF0F8",
            "showbackground": true,
            "ticks": "",
            "zerolinecolor": "#EBF0F8"
           },
           "yaxis": {
            "backgroundcolor": "white",
            "gridcolor": "#DFE8F3",
            "gridwidth": 2,
            "linecolor": "#EBF0F8",
            "showbackground": true,
            "ticks": "",
            "zerolinecolor": "#EBF0F8"
           },
           "zaxis": {
            "backgroundcolor": "white",
            "gridcolor": "#DFE8F3",
            "gridwidth": 2,
            "linecolor": "#EBF0F8",
            "showbackground": true,
            "ticks": "",
            "zerolinecolor": "#EBF0F8"
           }
          },
          "shapedefaults": {
           "line": {
            "color": "#2a3f5f"
           }
          },
          "ternary": {
           "aaxis": {
            "gridcolor": "#DFE8F3",
            "linecolor": "#A2B1C6",
            "ticks": ""
           },
           "baxis": {
            "gridcolor": "#DFE8F3",
            "linecolor": "#A2B1C6",
            "ticks": ""
           },
           "bgcolor": "white",
           "caxis": {
            "gridcolor": "#DFE8F3",
            "linecolor": "#A2B1C6",
            "ticks": ""
           }
          },
          "title": {
           "x": 0.05
          },
          "xaxis": {
           "automargin": true,
           "gridcolor": "#EBF0F8",
           "linecolor": "#EBF0F8",
           "ticks": "",
           "title": {
            "standoff": 15
           },
           "zerolinecolor": "#EBF0F8",
           "zerolinewidth": 2
          },
          "yaxis": {
           "automargin": true,
           "gridcolor": "#EBF0F8",
           "linecolor": "#EBF0F8",
           "ticks": "",
           "title": {
            "standoff": 15
           },
           "zerolinecolor": "#EBF0F8",
           "zerolinewidth": 2
          }
         }
        },
        "width": 1300,
        "xaxis": {
         "anchor": "y",
         "domain": [
          0,
          0.94
         ]
        },
        "yaxis": {
         "anchor": "x",
         "domain": [
          0,
          1
         ],
         "range": [
          0,
          1.1
         ],
         "title": {
          "font": {
           "size": 20
          },
          "text": "f1"
         }
        },
        "yaxis2": {
         "anchor": "x",
         "overlaying": "y",
         "range": [
          0,
          2
         ],
         "scaleanchor": 0,
         "showgrid": false,
         "showline": false,
         "showticklabels": true,
         "side": "right",
         "title": {
          "font": {
           "size": 20
          },
          "text": "n_shd"
         },
         "zeroline": true
        }
       }
      }
     },
     "metadata": {},
     "output_type": "display_data"
    }
   ],
   "source": [
    "fig = double_bar_chart_plotly(v1_random_plot_data[v1_random_plot_data['n_nodes'] <= 6], \n",
    "                        names_dict,\n",
    "                        colors_dict,\n",
    "                        vars_to_plot=['f1', 'n_shd'],\n",
    "                        names=['f1', 'n_shd'],\n",
    "                        labels=['f1', 'n_shd'],\n",
    "                        methods=methods,\n",
    "                        dist_between_lines=0.1175,\n",
    "                        intra_dis=0.112,\n",
    "                        inter_dis=0.137,\n",
    "                        lin_space=5,\n",
    "                        nl_space=5,\n",
    "                        start_pos = 0.03,\n",
    "                            width=1300,\n",
    "                            height=600,\n",
    "                            range_y1=(0, 1.1),\n",
    "                            range_y2=(0, 2))"
   ]
  },
  {
   "cell_type": "markdown",
   "id": "87f345af",
   "metadata": {},
   "source": [
    "Now bnlearn datasets for V1"
   ]
  },
  {
   "cell_type": "code",
   "execution_count": 14,
   "id": "9ef70650",
   "metadata": {},
   "outputs": [],
   "source": [
    "v1_data_bn['n_nodes'] = v1_data_bn['dataset'].map(DAG_NODES_MAP)\n",
    "v1_data_bn['n_edges'] = v1_data_bn['dataset'].map(DAG_EDGES_MAP)\n",
    "baselines_data_bn['n_nodes'] = baselines_data_bn['dataset'].map(DAG_NODES_MAP)\n",
    "baselines_data_bn['n_edges'] = baselines_data_bn['dataset'].map(DAG_EDGES_MAP)\n",
    "fact_sourcing_runtime_bn['n_nodes'] = fact_sourcing_runtime_bn['dataset'].map(DAG_NODES_MAP)\n",
    "fact_sourcing_runtime_bn['n_edges'] = fact_sourcing_runtime_bn['dataset'].map(DAG_EDGES_MAP)\n",
    "v2_data_bn['n_nodes'] = v2_data_bn['dataset'].map(DAG_NODES_MAP)\n",
    "v2_data_bn['n_edges'] = v2_data_bn['dataset'].map(DAG_EDGES_MAP)\n",
    "\n",
    "baselines_bn_processed = process_mean_std_sid_data(baselines_data_bn)\n",
    "v1_bn_data_with_model_names = process_model_names_and_runtime_v1_data(v1_data_bn, fact_sourcing_runtime_bn)\n",
    "v1_bn_processed = process_mean_std_sid_data(v1_bn_data_with_model_names)\n",
    "v2_data_bn_processed = process_mean_std_sid_data(v2_data_bn)\n",
    "\n",
    "v1_bn_plot_data = pd.concat([v1_bn_processed, \n",
    "                             baselines_bn_processed[baselines_bn_processed['n_nodes'] <= 6],\n",
    "                             v2_data_bn_processed], \n",
    "                             ignore_index=True)"
   ]
  },
  {
   "cell_type": "code",
   "execution_count": 15,
   "id": "692f63fd",
   "metadata": {},
   "outputs": [],
   "source": [
    "\n",
    "v1_bn_plot_data['dataset'] = v1_bn_plot_data['dataset'] + '<br>' + '|V|=' + v1_bn_plot_data['n_nodes'].astype(str) + ', |E|=' + v1_bn_plot_data['n_edges'].astype(str)"
   ]
  },
  {
   "cell_type": "code",
   "execution_count": 16,
   "id": "0ebe0352",
   "metadata": {},
   "outputs": [
    {
     "data": {
      "text/html": [
       "<div>\n",
       "<style scoped>\n",
       "    .dataframe tbody tr th:only-of-type {\n",
       "        vertical-align: middle;\n",
       "    }\n",
       "\n",
       "    .dataframe tbody tr th {\n",
       "        vertical-align: top;\n",
       "    }\n",
       "\n",
       "    .dataframe thead th {\n",
       "        text-align: right;\n",
       "    }\n",
       "</style>\n",
       "<table border=\"1\" class=\"dataframe\">\n",
       "  <thead>\n",
       "    <tr style=\"text-align: right;\">\n",
       "      <th></th>\n",
       "      <th>dataset</th>\n",
       "      <th>n_nodes</th>\n",
       "      <th>n_edges</th>\n",
       "      <th>model</th>\n",
       "      <th>sid_low_mean</th>\n",
       "      <th>sid_high_mean</th>\n",
       "      <th>sid_low_std</th>\n",
       "      <th>sid_high_std</th>\n",
       "      <th>precision_mean</th>\n",
       "      <th>precision_std</th>\n",
       "      <th>...</th>\n",
       "      <th>shd_mean</th>\n",
       "      <th>shd_std</th>\n",
       "      <th>nnz_mean</th>\n",
       "      <th>nnz_std</th>\n",
       "      <th>n_sid_low_mean</th>\n",
       "      <th>n_sid_high_mean</th>\n",
       "      <th>n_sid_low_std</th>\n",
       "      <th>n_sid_high_std</th>\n",
       "      <th>n_shd_mean</th>\n",
       "      <th>n_shd_std</th>\n",
       "    </tr>\n",
       "  </thead>\n",
       "  <tbody>\n",
       "    <tr>\n",
       "      <th>0</th>\n",
       "      <td>cancer&lt;br&gt;|V|=5, |E|=4</td>\n",
       "      <td>5</td>\n",
       "      <td>4</td>\n",
       "      <td>ABAPC (Original)</td>\n",
       "      <td>8.62</td>\n",
       "      <td>11.3</td>\n",
       "      <td>2.783992</td>\n",
       "      <td>2.101991</td>\n",
       "      <td>0.481998</td>\n",
       "      <td>0.206719</td>\n",
       "      <td>...</td>\n",
       "      <td>2.18</td>\n",
       "      <td>0.84973</td>\n",
       "      <td>3.8</td>\n",
       "      <td>0.534522</td>\n",
       "      <td>2.155</td>\n",
       "      <td>2.825</td>\n",
       "      <td>0.695998</td>\n",
       "      <td>0.525498</td>\n",
       "      <td>0.545</td>\n",
       "      <td>0.212432</td>\n",
       "    </tr>\n",
       "  </tbody>\n",
       "</table>\n",
       "<p>1 rows × 24 columns</p>\n",
       "</div>"
      ],
      "text/plain": [
       "                  dataset  n_nodes  n_edges             model  sid_low_mean  \\\n",
       "0  cancer<br>|V|=5, |E|=4        5        4  ABAPC (Original)          8.62   \n",
       "\n",
       "   sid_high_mean  sid_low_std  sid_high_std  precision_mean  precision_std  \\\n",
       "0           11.3     2.783992      2.101991        0.481998       0.206719   \n",
       "\n",
       "   ...  shd_mean  shd_std  nnz_mean   nnz_std  n_sid_low_mean  \\\n",
       "0  ...      2.18  0.84973       3.8  0.534522           2.155   \n",
       "\n",
       "   n_sid_high_mean  n_sid_low_std  n_sid_high_std  n_shd_mean  n_shd_std  \n",
       "0            2.825       0.695998        0.525498       0.545   0.212432  \n",
       "\n",
       "[1 rows x 24 columns]"
      ]
     },
     "execution_count": 16,
     "metadata": {},
     "output_type": "execute_result"
    }
   ],
   "source": [
    "v1_bn_plot_data.head(1)"
   ]
  },
  {
   "cell_type": "code",
   "execution_count": 17,
   "id": "e8167101",
   "metadata": {},
   "outputs": [
    {
     "data": {
      "application/vnd.plotly.v1+json": {
       "config": {
        "plotlyServerURL": "https://plot.ly"
       },
       "data": [
        {
         "error_y": {
          "array": {
           "bdata": "BAw2I6Drxz9up2856jTFP65XkpbmTcI/",
           "dtype": "f8"
          },
          "type": "data",
          "visible": true
         },
         "marker": {
          "color": "grey"
         },
         "name": "Random",
         "offsetgroup": "0",
         "opacity": 0.6,
         "showlegend": true,
         "type": "bar",
         "x": [
          "cancer<br>|V|=5, |E|=4",
          "earthquake<br>|V|=5, |E|=4",
          "survey<br>|V|=6, |E|=6"
         ],
         "y": {
          "bdata": "PQrXo3A9yj97FK5H4XrEP4RhwJKrWNI/",
          "dtype": "f8"
         },
         "yaxis": "y"
        },
        {
         "error_y": {
          "array": {
           "bdata": "w67G+OsbtD+jvyw4qritPwSX8YHOC8Q/",
           "dtype": "f8"
          },
          "type": "data",
          "visible": true
         },
         "marker": {
          "color": "#b85c00"
         },
         "name": "FGS",
         "offsetgroup": "1",
         "opacity": 0.6,
         "showlegend": true,
         "type": "bar",
         "x": [
          "cancer<br>|V|=5, |E|=4",
          "earthquake<br>|V|=5, |E|=4",
          "survey<br>|V|=6, |E|=6"
         ],
         "y": {
          "bdata": "sfojDAOW3D8hkiHH1jPcP8138BMH0Nk/",
          "dtype": "f8"
         },
         "yaxis": "y"
        },
        {
         "error_y": {
          "array": {
           "bdata": "zOPZUpHYxz+ogtx5lx+rPwAAAAAAAAAA",
           "dtype": "f8"
          },
          "type": "data",
          "visible": true
         },
         "marker": {
          "color": "#9454c4"
         },
         "name": "NOTEARS-MLP",
         "offsetgroup": "2",
         "opacity": 0.6,
         "showlegend": true,
         "type": "bar",
         "x": [
          "cancer<br>|V|=5, |E|=4",
          "earthquake<br>|V|=5, |E|=4",
          "survey<br>|V|=6, |E|=6"
         ],
         "y": {
          "bdata": "k4lbBTHQ4T+yTL9EvHXYPwAAAAAAAPA/",
          "dtype": "f8"
         },
         "yaxis": "y"
        },
        {
         "error_y": {
          "array": {
           "bdata": "R8pz42KftD914CQgZUqrP/f+pnequL8/",
           "dtype": "f8"
          },
          "type": "data",
          "visible": true
         },
         "marker": {
          "color": "#379f9f"
         },
         "name": "MPC",
         "offsetgroup": "3",
         "opacity": 0.6,
         "showlegend": true,
         "type": "bar",
         "x": [
          "cancer<br>|V|=5, |E|=4",
          "earthquake<br>|V|=5, |E|=4",
          "survey<br>|V|=6, |E|=6"
         ],
         "y": {
          "bdata": "/14KD5pd4T8ool9bP/3bP4/4FWu4yOo/",
          "dtype": "f8"
         },
         "yaxis": "y"
        },
        {
         "error_y": {
          "array": {
           "bdata": "4YtOTsF1yj+CMHGJ+++8P+Ug+fxxicQ/",
           "dtype": "f8"
          },
          "type": "data",
          "visible": true
         },
         "marker": {
          "color": "#0085CA"
         },
         "name": "ABAPC (Original)",
         "offsetgroup": "4",
         "opacity": 0.6,
         "showlegend": true,
         "type": "bar",
         "x": [
          "cancer<br>|V|=5, |E|=4",
          "earthquake<br>|V|=5, |E|=4",
          "survey<br>|V|=6, |E|=6"
         ],
         "y": {
          "bdata": "sTGvIw7Z3j//Cpkrg2rsPxHJkGPrGd4/",
          "dtype": "f8"
         },
         "yaxis": "y"
        },
        {
         "error_y": {
          "array": {
           "bdata": "Vh1qq+Nj3T8spfyVA5y3P0e5TZGXWcY/",
           "dtype": "f8"
          },
          "type": "data",
          "visible": true
         },
         "marker": {
          "color": "#9F8D00"
         },
         "name": "V1.1",
         "offsetgroup": "5",
         "opacity": 0.6,
         "showlegend": true,
         "type": "bar",
         "x": [
          "cancer<br>|V|=5, |E|=4",
          "earthquake<br>|V|=5, |E|=4",
          "survey<br>|V|=6, |E|=6"
         ],
         "y": {
          "bdata": "f9sTJLa72z9lGHeDaK3uP+rNqPkq+e0/",
          "dtype": "f8"
         },
         "yaxis": "y"
        },
        {
         "error_y": {
          "array": {
           "bdata": "WvIwkQKYyj+CMHGJ+++8P2gvaKghrcM/",
           "dtype": "f8"
          },
          "type": "data",
          "visible": true
         },
         "marker": {
          "color": "#9E0000"
         },
         "name": "V1.2",
         "offsetgroup": "6",
         "opacity": 0.6,
         "showlegend": true,
         "type": "bar",
         "x": [
          "cancer<br>|V|=5, |E|=4",
          "earthquake<br>|V|=5, |E|=4",
          "survey<br>|V|=6, |E|=6"
         ],
         "y": {
          "bdata": "XHFxVG6i3j//Cpkrg2rsP7eyRGeZRd4/",
          "dtype": "f8"
         },
         "yaxis": "y"
        },
        {
         "error_y": {
          "array": {
           "bdata": "FzKfOqAmwT+Y+vamFzPEPy9IUbLByL4/",
           "dtype": "f8"
          },
          "type": "data",
          "visible": true
         },
         "marker": {
          "color": "#ff34da"
         },
         "name": "V1.3",
         "offsetgroup": "7",
         "opacity": 0.6,
         "showlegend": true,
         "type": "bar",
         "x": [
          "cancer<br>|V|=5, |E|=4",
          "earthquake<br>|V|=5, |E|=4",
          "survey<br>|V|=6, |E|=6"
         ],
         "y": {
          "bdata": "nnsPlxx31D+FIXL6er7qP/gXQWMmUdU/",
          "dtype": "f8"
         },
         "yaxis": "y"
        },
        {
         "error_y": {
          "array": {
           "bdata": "/PjRSsLVyD9Rp+VvTznEP7jzUjP6IcM/",
           "dtype": "f8"
          },
          "type": "data",
          "visible": true
         },
         "marker": {
          "color": "#008100"
         },
         "name": "V1.4 ",
         "offsetgroup": "8",
         "opacity": 0.6,
         "showlegend": true,
         "type": "bar",
         "x": [
          "cancer<br>|V|=5, |E|=4",
          "earthquake<br>|V|=5, |E|=4",
          "survey<br>|V|=6, |E|=6"
         ],
         "y": {
          "bdata": "lrA2xk542z+tcMtHUtLqP+VBeoocItY/",
          "dtype": "f8"
         },
         "yaxis": "y"
        },
        {
         "error_y": {
          "array": {
           "bdata": "zA+dvYRbuz/bXHq2F7m+P1QQ2M0YhNQ/",
           "dtype": "f8"
          },
          "type": "data",
          "visible": true
         },
         "marker": {
          "color": "#ff8c00"
         },
         "name": "V2",
         "offsetgroup": "9",
         "opacity": 0.6,
         "showlegend": true,
         "type": "bar",
         "x": [
          "cancer<br>|V|=5, |E|=4",
          "earthquake<br>|V|=5, |E|=4",
          "survey<br>|V|=6, |E|=6"
         ],
         "y": {
          "bdata": "JJ9XPPVI2z/Bq+XOTDDSPyFX6lkQyuA/",
          "dtype": "f8"
         },
         "yaxis": "y"
        },
        {
         "marker": {
          "color": "white"
         },
         "name": "",
         "offsetgroup": "10",
         "opacity": 1,
         "showlegend": false,
         "type": "bar",
         "x": [
          "cancer<br>|V|=5, |E|=4",
          "earthquake<br>|V|=5, |E|=4",
          "survey<br>|V|=6, |E|=6"
         ],
         "y": {
          "bdata": "AAAAAAAAAAAAAAAAAAAAAAAAAAAAAAAA",
          "dtype": "f8"
         }
        },
        {
         "error_y": {
          "array": {
           "bdata": "BAw2I6Drxz9up2856jTFP65XkpbmTcI/",
           "dtype": "f8"
          },
          "type": "data",
          "visible": true
         },
         "marker": {
          "color": "grey"
         },
         "name": "Random",
         "offsetgroup": "11",
         "opacity": 0.6,
         "showlegend": false,
         "type": "bar",
         "x": [
          "cancer<br>|V|=5, |E|=4",
          "earthquake<br>|V|=5, |E|=4",
          "survey<br>|V|=6, |E|=6"
         ],
         "y": {
          "bdata": "PQrXo3A9yj97FK5H4XrEP4RhwJKrWNI/",
          "dtype": "f8"
         },
         "yaxis": "y2"
        },
        {
         "error_y": {
          "array": {
           "bdata": "mG8krVYovj8AAAAAAAAAAFNgZJuZLbU/",
           "dtype": "f8"
          },
          "type": "data",
          "visible": true
         },
         "marker": {
          "color": "#b85c00"
         },
         "name": "FGS",
         "offsetgroup": "12",
         "opacity": 0.6,
         "showlegend": false,
         "type": "bar",
         "x": [
          "cancer<br>|V|=5, |E|=4",
          "earthquake<br>|V|=5, |E|=4",
          "survey<br>|V|=6, |E|=6"
         ],
         "y": {
          "bdata": "4XoUrkfh2j8AAAAAAADgPzoBTYQNT8s/",
          "dtype": "f8"
         },
         "yaxis": "y2"
        },
        {
         "error_y": {
          "array": {
           "bdata": "AAAAAAAAAAAKY/9RGBqiP3LUekC9a7Q/",
           "dtype": "f8"
          },
          "type": "data",
          "visible": true
         },
         "marker": {
          "color": "#9454c4"
         },
         "name": "NOTEARS-MLP",
         "offsetgroup": "13",
         "opacity": 0.6,
         "showlegend": false,
         "type": "bar",
         "x": [
          "cancer<br>|V|=5, |E|=4",
          "earthquake<br>|V|=5, |E|=4",
          "survey<br>|V|=6, |E|=6"
         ],
         "y": {
          "bdata": "AAAAAAAA0D+uR+F6FK7fPx8tzhjmBK0/",
          "dtype": "f8"
         },
         "yaxis": "y2"
        },
        {
         "error_y": {
          "array": {
           "bdata": "AAAAAAAAAAAAAAAAAAAAANGyGhTijbU/",
           "dtype": "f8"
          },
          "type": "data",
          "visible": true
         },
         "marker": {
          "color": "#379f9f"
         },
         "name": "MPC",
         "offsetgroup": "14",
         "opacity": 0.6,
         "showlegend": false,
         "type": "bar",
         "x": [
          "cancer<br>|V|=5, |E|=4",
          "earthquake<br>|V|=5, |E|=4",
          "survey<br>|V|=6, |E|=6"
         ],
         "y": {
          "bdata": "AAAAAAAA4D8AAAAAAADgP30iT5KumeE/",
          "dtype": "f8"
         },
         "yaxis": "y2"
        },
        {
         "error_y": {
          "array": {
           "bdata": "72g+V3Tpyz8AAAAAAAAAAHnvNdhhCMA/",
           "dtype": "f8"
          },
          "type": "data",
          "visible": true
         },
         "marker": {
          "color": "#0085CA"
         },
         "name": "ABAPC (Original)",
         "offsetgroup": "15",
         "opacity": 0.6,
         "showlegend": false,
         "type": "bar",
         "x": [
          "cancer<br>|V|=5, |E|=4",
          "earthquake<br>|V|=5, |E|=4",
          "survey<br>|V|=6, |E|=6"
         ],
         "y": {
          "bdata": "FK5H4XoU3j8AAAAAAADwP1kyx/KuetQ/",
          "dtype": "f8"
         },
         "yaxis": "y2"
        },
        {
         "error_y": {
          "array": {
           "bdata": "cIBm+Lh3wj8AAAAAAAAAAEOGZdd82ak/",
           "dtype": "f8"
          },
          "type": "data",
          "visible": true
         },
         "marker": {
          "color": "#9F8D00"
         },
         "name": "V1.1",
         "offsetgroup": "16",
         "opacity": 0.6,
         "showlegend": false,
         "type": "bar",
         "x": [
          "cancer<br>|V|=5, |E|=4",
          "earthquake<br>|V|=5, |E|=4",
          "survey<br>|V|=6, |E|=6"
         ],
         "y": {
          "bdata": "7FG4HoXrwT8AAAAAAADwP4e/JmvUQ9Q/",
          "dtype": "f8"
         },
         "yaxis": "y2"
        },
        {
         "error_y": {
          "array": {
           "bdata": "NuL3GgYwzD8AAAAAAAAAALdFPVV/3r0/",
           "dtype": "f8"
          },
          "type": "data",
          "visible": true
         },
         "marker": {
          "color": "#9E0000"
         },
         "name": "V1.2",
         "offsetgroup": "17",
         "opacity": 0.6,
         "showlegend": false,
         "type": "bar",
         "x": [
          "cancer<br>|V|=5, |E|=4",
          "earthquake<br>|V|=5, |E|=4",
          "survey<br>|V|=6, |E|=6"
         ],
         "y": {
          "bdata": "w/UoXI/C3T8AAAAAAADwPxCSBUzg1tM/",
          "dtype": "f8"
         },
         "yaxis": "y2"
        },
        {
         "error_y": {
          "array": {
           "bdata": "nhXwsacPyj8AAAAAAAAAAKJf9uGdZcM/",
           "dtype": "f8"
          },
          "type": "data",
          "visible": true
         },
         "marker": {
          "color": "#ff34da"
         },
         "name": "V1.3",
         "offsetgroup": "18",
         "opacity": 0.6,
         "showlegend": false,
         "type": "bar",
         "x": [
          "cancer<br>|V|=5, |E|=4",
          "earthquake<br>|V|=5, |E|=4",
          "survey<br>|V|=6, |E|=6"
         ],
         "y": {
          "bdata": "ZmZmZmZm3j8AAAAAAADwPw8IdCZtqto/",
          "dtype": "f8"
         },
         "yaxis": "y2"
        },
        {
         "error_y": {
          "array": {
           "bdata": "/H3Fw1wXyz+Whe7B+bSuP90OVZcI68A/",
           "dtype": "f8"
          },
          "type": "data",
          "visible": true
         },
         "marker": {
          "color": "#008100"
         },
         "name": "V1.4 ",
         "offsetgroup": "19",
         "opacity": 0.6,
         "showlegend": false,
         "type": "bar",
         "x": [
          "cancer<br>|V|=5, |E|=4",
          "earthquake<br>|V|=5, |E|=4",
          "survey<br>|V|=6, |E|=6"
         ],
         "y": {
          "bdata": "KVyPwvUo3D+F61G4HoXvP67yBMJOsdQ/",
          "dtype": "f8"
         },
         "yaxis": "y2"
        },
        {
         "error_y": {
          "array": {
           "bdata": "l28krVYovj+QrCbLwG7GP4TCm9Nti74/",
           "dtype": "f8"
          },
          "type": "data",
          "visible": true
         },
         "marker": {
          "color": "#ff8c00"
         },
         "name": "V2",
         "offsetgroup": "20",
         "opacity": 0.6,
         "showlegend": false,
         "type": "bar",
         "x": [
          "cancer<br>|V|=5, |E|=4",
          "earthquake<br>|V|=5, |E|=4",
          "survey<br>|V|=6, |E|=6"
         ],
         "y": {
          "bdata": "4XoUrkfh2j89CtejcD3iP1jcf2Q6dMo/",
          "dtype": "f8"
         },
         "yaxis": "y2"
        }
       ],
       "layout": {
        "annotations": [
         {
          "font": {
           "color": "Black",
           "family": "Serif",
           "size": 20
          },
          "showarrow": false,
          "text": "Dataset:",
          "x": 0,
          "xanchor": "center",
          "xref": "paper",
          "y": -0.08,
          "yanchor": "bottom",
          "yref": "paper"
         },
         {
          "bgcolor": "#E5ECF6",
          "bordercolor": "#E5ECF6",
          "borderwidth": 2,
          "font": {
           "color": "black",
           "size": 20
          },
          "opacity": 0.8,
          "showarrow": false,
          "text": "      Precision      ",
          "x": 0.04,
          "xanchor": "left",
          "xref": "x domain",
          "y": 1.015,
          "yref": "y domain"
         },
         {
          "bgcolor": "#E5ECF6",
          "bordercolor": "#E5ECF6",
          "borderwidth": 2,
          "font": {
           "color": "black",
           "size": 20
          },
          "opacity": 0.8,
          "showarrow": false,
          "text": "      Recall      ",
          "x": 0.201,
          "xanchor": "left",
          "xref": "x domain",
          "y": 1.015,
          "yref": "y domain"
         },
         {
          "bgcolor": "#E5ECF6",
          "bordercolor": "#E5ECF6",
          "borderwidth": 2,
          "font": {
           "color": "black",
           "size": 20
          },
          "opacity": 0.8,
          "showarrow": false,
          "text": "      Precision      ",
          "x": 0.375,
          "xanchor": "left",
          "xref": "x domain",
          "y": 1.015,
          "yref": "y domain"
         },
         {
          "bgcolor": "#E5ECF6",
          "bordercolor": "#E5ECF6",
          "borderwidth": 2,
          "font": {
           "color": "black",
           "size": 20
          },
          "opacity": 0.8,
          "showarrow": false,
          "text": "      Recall      ",
          "x": 0.536,
          "xanchor": "left",
          "xref": "x domain",
          "y": 1.015,
          "yref": "y domain"
         },
         {
          "bgcolor": "#E5ECF6",
          "bordercolor": "#E5ECF6",
          "borderwidth": 2,
          "font": {
           "color": "black",
           "size": 20
          },
          "opacity": 0.8,
          "showarrow": false,
          "text": "      Precision      ",
          "x": 0.71,
          "xanchor": "left",
          "xref": "x domain",
          "y": 1.015,
          "yref": "y domain"
         },
         {
          "bgcolor": "#E5ECF6",
          "bordercolor": "#E5ECF6",
          "borderwidth": 2,
          "font": {
           "color": "black",
           "size": 20
          },
          "opacity": 0.8,
          "showarrow": false,
          "text": "      Recall      ",
          "x": 0.871,
          "xanchor": "left",
          "xref": "x domain",
          "y": 1.015,
          "yref": "y domain"
         }
        ],
        "bargap": 0.15,
        "bargroupgap": 0.15,
        "barmode": "group",
        "font": {
         "color": "black",
         "family": "Serif",
         "size": 20
        },
        "height": 600,
        "hovermode": "x unified",
        "legend": {
         "orientation": "h",
         "x": 0.5,
         "xanchor": "center",
         "y": 1.1,
         "yanchor": "top"
        },
        "margin": {
         "b": 70,
         "l": 40,
         "r": 0,
         "t": 20
        },
        "shapes": [
         {
          "layer": "below",
          "line": {
           "color": "grey",
           "dash": "dash",
           "width": 1
          },
          "type": "line",
          "x0": 0.1565,
          "x1": 0.1565,
          "xref": "paper",
          "y0": 0,
          "y1": 1,
          "yref": "paper"
         },
         {
          "layer": "below",
          "line": {
           "color": "black",
           "dash": "solid",
           "width": 1
          },
          "type": "line",
          "x0": 0.313,
          "x1": 0.313,
          "xref": "paper",
          "y0": 0,
          "y1": 1,
          "yref": "paper"
         },
         {
          "layer": "below",
          "line": {
           "color": "grey",
           "dash": "dash",
           "width": 1
          },
          "type": "line",
          "x0": 0.46950000000000003,
          "x1": 0.46950000000000003,
          "xref": "paper",
          "y0": 0,
          "y1": 1,
          "yref": "paper"
         },
         {
          "layer": "below",
          "line": {
           "color": "black",
           "dash": "solid",
           "width": 1
          },
          "type": "line",
          "x0": 0.626,
          "x1": 0.626,
          "xref": "paper",
          "y0": 0,
          "y1": 1,
          "yref": "paper"
         },
         {
          "layer": "below",
          "line": {
           "color": "grey",
           "dash": "dash",
           "width": 1
          },
          "type": "line",
          "x0": 0.7825,
          "x1": 0.7825,
          "xref": "paper",
          "y0": 0,
          "y1": 1,
          "yref": "paper"
         },
         {
          "layer": "below",
          "line": {
           "color": "black",
           "dash": "solid",
           "width": 1
          },
          "type": "line",
          "x0": 0.939,
          "x1": 0.939,
          "xref": "paper",
          "y0": 0,
          "y1": 1,
          "yref": "paper"
         }
        ],
        "template": {
         "data": {
          "bar": [
           {
            "error_x": {
             "color": "#2a3f5f"
            },
            "error_y": {
             "color": "#2a3f5f"
            },
            "marker": {
             "line": {
              "color": "white",
              "width": 0.5
             },
             "pattern": {
              "fillmode": "overlay",
              "size": 10,
              "solidity": 0.2
             }
            },
            "type": "bar"
           }
          ],
          "barpolar": [
           {
            "marker": {
             "line": {
              "color": "white",
              "width": 0.5
             },
             "pattern": {
              "fillmode": "overlay",
              "size": 10,
              "solidity": 0.2
             }
            },
            "type": "barpolar"
           }
          ],
          "carpet": [
           {
            "aaxis": {
             "endlinecolor": "#2a3f5f",
             "gridcolor": "#C8D4E3",
             "linecolor": "#C8D4E3",
             "minorgridcolor": "#C8D4E3",
             "startlinecolor": "#2a3f5f"
            },
            "baxis": {
             "endlinecolor": "#2a3f5f",
             "gridcolor": "#C8D4E3",
             "linecolor": "#C8D4E3",
             "minorgridcolor": "#C8D4E3",
             "startlinecolor": "#2a3f5f"
            },
            "type": "carpet"
           }
          ],
          "choropleth": [
           {
            "colorbar": {
             "outlinewidth": 0,
             "ticks": ""
            },
            "type": "choropleth"
           }
          ],
          "contour": [
           {
            "colorbar": {
             "outlinewidth": 0,
             "ticks": ""
            },
            "colorscale": [
             [
              0,
              "#0d0887"
             ],
             [
              0.1111111111111111,
              "#46039f"
             ],
             [
              0.2222222222222222,
              "#7201a8"
             ],
             [
              0.3333333333333333,
              "#9c179e"
             ],
             [
              0.4444444444444444,
              "#bd3786"
             ],
             [
              0.5555555555555556,
              "#d8576b"
             ],
             [
              0.6666666666666666,
              "#ed7953"
             ],
             [
              0.7777777777777778,
              "#fb9f3a"
             ],
             [
              0.8888888888888888,
              "#fdca26"
             ],
             [
              1,
              "#f0f921"
             ]
            ],
            "type": "contour"
           }
          ],
          "contourcarpet": [
           {
            "colorbar": {
             "outlinewidth": 0,
             "ticks": ""
            },
            "type": "contourcarpet"
           }
          ],
          "heatmap": [
           {
            "colorbar": {
             "outlinewidth": 0,
             "ticks": ""
            },
            "colorscale": [
             [
              0,
              "#0d0887"
             ],
             [
              0.1111111111111111,
              "#46039f"
             ],
             [
              0.2222222222222222,
              "#7201a8"
             ],
             [
              0.3333333333333333,
              "#9c179e"
             ],
             [
              0.4444444444444444,
              "#bd3786"
             ],
             [
              0.5555555555555556,
              "#d8576b"
             ],
             [
              0.6666666666666666,
              "#ed7953"
             ],
             [
              0.7777777777777778,
              "#fb9f3a"
             ],
             [
              0.8888888888888888,
              "#fdca26"
             ],
             [
              1,
              "#f0f921"
             ]
            ],
            "type": "heatmap"
           }
          ],
          "histogram": [
           {
            "marker": {
             "pattern": {
              "fillmode": "overlay",
              "size": 10,
              "solidity": 0.2
             }
            },
            "type": "histogram"
           }
          ],
          "histogram2d": [
           {
            "colorbar": {
             "outlinewidth": 0,
             "ticks": ""
            },
            "colorscale": [
             [
              0,
              "#0d0887"
             ],
             [
              0.1111111111111111,
              "#46039f"
             ],
             [
              0.2222222222222222,
              "#7201a8"
             ],
             [
              0.3333333333333333,
              "#9c179e"
             ],
             [
              0.4444444444444444,
              "#bd3786"
             ],
             [
              0.5555555555555556,
              "#d8576b"
             ],
             [
              0.6666666666666666,
              "#ed7953"
             ],
             [
              0.7777777777777778,
              "#fb9f3a"
             ],
             [
              0.8888888888888888,
              "#fdca26"
             ],
             [
              1,
              "#f0f921"
             ]
            ],
            "type": "histogram2d"
           }
          ],
          "histogram2dcontour": [
           {
            "colorbar": {
             "outlinewidth": 0,
             "ticks": ""
            },
            "colorscale": [
             [
              0,
              "#0d0887"
             ],
             [
              0.1111111111111111,
              "#46039f"
             ],
             [
              0.2222222222222222,
              "#7201a8"
             ],
             [
              0.3333333333333333,
              "#9c179e"
             ],
             [
              0.4444444444444444,
              "#bd3786"
             ],
             [
              0.5555555555555556,
              "#d8576b"
             ],
             [
              0.6666666666666666,
              "#ed7953"
             ],
             [
              0.7777777777777778,
              "#fb9f3a"
             ],
             [
              0.8888888888888888,
              "#fdca26"
             ],
             [
              1,
              "#f0f921"
             ]
            ],
            "type": "histogram2dcontour"
           }
          ],
          "mesh3d": [
           {
            "colorbar": {
             "outlinewidth": 0,
             "ticks": ""
            },
            "type": "mesh3d"
           }
          ],
          "parcoords": [
           {
            "line": {
             "colorbar": {
              "outlinewidth": 0,
              "ticks": ""
             }
            },
            "type": "parcoords"
           }
          ],
          "pie": [
           {
            "automargin": true,
            "type": "pie"
           }
          ],
          "scatter": [
           {
            "fillpattern": {
             "fillmode": "overlay",
             "size": 10,
             "solidity": 0.2
            },
            "type": "scatter"
           }
          ],
          "scatter3d": [
           {
            "line": {
             "colorbar": {
              "outlinewidth": 0,
              "ticks": ""
             }
            },
            "marker": {
             "colorbar": {
              "outlinewidth": 0,
              "ticks": ""
             }
            },
            "type": "scatter3d"
           }
          ],
          "scattercarpet": [
           {
            "marker": {
             "colorbar": {
              "outlinewidth": 0,
              "ticks": ""
             }
            },
            "type": "scattercarpet"
           }
          ],
          "scattergeo": [
           {
            "marker": {
             "colorbar": {
              "outlinewidth": 0,
              "ticks": ""
             }
            },
            "type": "scattergeo"
           }
          ],
          "scattergl": [
           {
            "marker": {
             "colorbar": {
              "outlinewidth": 0,
              "ticks": ""
             }
            },
            "type": "scattergl"
           }
          ],
          "scattermap": [
           {
            "marker": {
             "colorbar": {
              "outlinewidth": 0,
              "ticks": ""
             }
            },
            "type": "scattermap"
           }
          ],
          "scattermapbox": [
           {
            "marker": {
             "colorbar": {
              "outlinewidth": 0,
              "ticks": ""
             }
            },
            "type": "scattermapbox"
           }
          ],
          "scatterpolar": [
           {
            "marker": {
             "colorbar": {
              "outlinewidth": 0,
              "ticks": ""
             }
            },
            "type": "scatterpolar"
           }
          ],
          "scatterpolargl": [
           {
            "marker": {
             "colorbar": {
              "outlinewidth": 0,
              "ticks": ""
             }
            },
            "type": "scatterpolargl"
           }
          ],
          "scatterternary": [
           {
            "marker": {
             "colorbar": {
              "outlinewidth": 0,
              "ticks": ""
             }
            },
            "type": "scatterternary"
           }
          ],
          "surface": [
           {
            "colorbar": {
             "outlinewidth": 0,
             "ticks": ""
            },
            "colorscale": [
             [
              0,
              "#0d0887"
             ],
             [
              0.1111111111111111,
              "#46039f"
             ],
             [
              0.2222222222222222,
              "#7201a8"
             ],
             [
              0.3333333333333333,
              "#9c179e"
             ],
             [
              0.4444444444444444,
              "#bd3786"
             ],
             [
              0.5555555555555556,
              "#d8576b"
             ],
             [
              0.6666666666666666,
              "#ed7953"
             ],
             [
              0.7777777777777778,
              "#fb9f3a"
             ],
             [
              0.8888888888888888,
              "#fdca26"
             ],
             [
              1,
              "#f0f921"
             ]
            ],
            "type": "surface"
           }
          ],
          "table": [
           {
            "cells": {
             "fill": {
              "color": "#EBF0F8"
             },
             "line": {
              "color": "white"
             }
            },
            "header": {
             "fill": {
              "color": "#C8D4E3"
             },
             "line": {
              "color": "white"
             }
            },
            "type": "table"
           }
          ]
         },
         "layout": {
          "annotationdefaults": {
           "arrowcolor": "#2a3f5f",
           "arrowhead": 0,
           "arrowwidth": 1
          },
          "autotypenumbers": "strict",
          "coloraxis": {
           "colorbar": {
            "outlinewidth": 0,
            "ticks": ""
           }
          },
          "colorscale": {
           "diverging": [
            [
             0,
             "#8e0152"
            ],
            [
             0.1,
             "#c51b7d"
            ],
            [
             0.2,
             "#de77ae"
            ],
            [
             0.3,
             "#f1b6da"
            ],
            [
             0.4,
             "#fde0ef"
            ],
            [
             0.5,
             "#f7f7f7"
            ],
            [
             0.6,
             "#e6f5d0"
            ],
            [
             0.7,
             "#b8e186"
            ],
            [
             0.8,
             "#7fbc41"
            ],
            [
             0.9,
             "#4d9221"
            ],
            [
             1,
             "#276419"
            ]
           ],
           "sequential": [
            [
             0,
             "#0d0887"
            ],
            [
             0.1111111111111111,
             "#46039f"
            ],
            [
             0.2222222222222222,
             "#7201a8"
            ],
            [
             0.3333333333333333,
             "#9c179e"
            ],
            [
             0.4444444444444444,
             "#bd3786"
            ],
            [
             0.5555555555555556,
             "#d8576b"
            ],
            [
             0.6666666666666666,
             "#ed7953"
            ],
            [
             0.7777777777777778,
             "#fb9f3a"
            ],
            [
             0.8888888888888888,
             "#fdca26"
            ],
            [
             1,
             "#f0f921"
            ]
           ],
           "sequentialminus": [
            [
             0,
             "#0d0887"
            ],
            [
             0.1111111111111111,
             "#46039f"
            ],
            [
             0.2222222222222222,
             "#7201a8"
            ],
            [
             0.3333333333333333,
             "#9c179e"
            ],
            [
             0.4444444444444444,
             "#bd3786"
            ],
            [
             0.5555555555555556,
             "#d8576b"
            ],
            [
             0.6666666666666666,
             "#ed7953"
            ],
            [
             0.7777777777777778,
             "#fb9f3a"
            ],
            [
             0.8888888888888888,
             "#fdca26"
            ],
            [
             1,
             "#f0f921"
            ]
           ]
          },
          "colorway": [
           "#636efa",
           "#EF553B",
           "#00cc96",
           "#ab63fa",
           "#FFA15A",
           "#19d3f3",
           "#FF6692",
           "#B6E880",
           "#FF97FF",
           "#FECB52"
          ],
          "font": {
           "color": "#2a3f5f"
          },
          "geo": {
           "bgcolor": "white",
           "lakecolor": "white",
           "landcolor": "white",
           "showlakes": true,
           "showland": true,
           "subunitcolor": "#C8D4E3"
          },
          "hoverlabel": {
           "align": "left"
          },
          "hovermode": "closest",
          "mapbox": {
           "style": "light"
          },
          "paper_bgcolor": "white",
          "plot_bgcolor": "white",
          "polar": {
           "angularaxis": {
            "gridcolor": "#EBF0F8",
            "linecolor": "#EBF0F8",
            "ticks": ""
           },
           "bgcolor": "white",
           "radialaxis": {
            "gridcolor": "#EBF0F8",
            "linecolor": "#EBF0F8",
            "ticks": ""
           }
          },
          "scene": {
           "xaxis": {
            "backgroundcolor": "white",
            "gridcolor": "#DFE8F3",
            "gridwidth": 2,
            "linecolor": "#EBF0F8",
            "showbackground": true,
            "ticks": "",
            "zerolinecolor": "#EBF0F8"
           },
           "yaxis": {
            "backgroundcolor": "white",
            "gridcolor": "#DFE8F3",
            "gridwidth": 2,
            "linecolor": "#EBF0F8",
            "showbackground": true,
            "ticks": "",
            "zerolinecolor": "#EBF0F8"
           },
           "zaxis": {
            "backgroundcolor": "white",
            "gridcolor": "#DFE8F3",
            "gridwidth": 2,
            "linecolor": "#EBF0F8",
            "showbackground": true,
            "ticks": "",
            "zerolinecolor": "#EBF0F8"
           }
          },
          "shapedefaults": {
           "line": {
            "color": "#2a3f5f"
           }
          },
          "ternary": {
           "aaxis": {
            "gridcolor": "#DFE8F3",
            "linecolor": "#A2B1C6",
            "ticks": ""
           },
           "baxis": {
            "gridcolor": "#DFE8F3",
            "linecolor": "#A2B1C6",
            "ticks": ""
           },
           "bgcolor": "white",
           "caxis": {
            "gridcolor": "#DFE8F3",
            "linecolor": "#A2B1C6",
            "ticks": ""
           }
          },
          "title": {
           "x": 0.05
          },
          "xaxis": {
           "automargin": true,
           "gridcolor": "#EBF0F8",
           "linecolor": "#EBF0F8",
           "ticks": "",
           "title": {
            "standoff": 15
           },
           "zerolinecolor": "#EBF0F8",
           "zerolinewidth": 2
          },
          "yaxis": {
           "automargin": true,
           "gridcolor": "#EBF0F8",
           "linecolor": "#EBF0F8",
           "ticks": "",
           "title": {
            "standoff": 15
           },
           "zerolinecolor": "#EBF0F8",
           "zerolinewidth": 2
          }
         }
        },
        "width": 1300,
        "xaxis": {
         "anchor": "y",
         "domain": [
          0,
          0.94
         ]
        },
        "yaxis": {
         "anchor": "x",
         "domain": [
          0,
          1
         ],
         "range": [
          0,
          1
         ],
         "title": {
          "font": {
           "size": 20
          },
          "text": "Precision"
         }
        },
        "yaxis2": {
         "anchor": "x",
         "overlaying": "y",
         "range": [
          0,
          1
         ],
         "scaleanchor": 0,
         "showgrid": false,
         "showline": false,
         "showticklabels": true,
         "side": "right",
         "title": {
          "font": {
           "size": 20
          },
          "text": "Recall"
         },
         "zeroline": true
        }
       }
      }
     },
     "metadata": {},
     "output_type": "display_data"
    }
   ],
   "source": [
    "fig = double_bar_chart_plotly(v1_bn_plot_data, \n",
    "                        names_dict,\n",
    "                        colors_dict,\n",
    "                        vars_to_plot=['precision', 'recall'],\n",
    "                        names=['Precision', 'Recall'],\n",
    "                        labels=['Precision', 'Recall'],\n",
    "                        methods=methods,\n",
    "                        dist_between_lines=0.1565,\n",
    "                        lin_space=6,\n",
    "                        nl_space=6,\n",
    "                        intra_dis = 0.161,\n",
    "                        inter_dis = 0.174,\n",
    "                        start_pos = 0.04,\n",
    "                            width=1300,\n",
    "                            height=600,\n",
    "                            range_y1=(0, 1),\n",
    "                            range_y2=(0, 1))"
   ]
  },
  {
   "cell_type": "code",
   "execution_count": 18,
   "id": "dfb2c8ba",
   "metadata": {},
   "outputs": [
    {
     "data": {
      "application/vnd.plotly.v1+json": {
       "config": {
        "plotlyServerURL": "https://plot.ly"
       },
       "data": [
        {
         "error_y": {
          "array": {
           "bdata": "wwEvjrm5wD+N2EZLkFW5P3uXrhCUpL4/",
           "dtype": "f8"
          },
          "type": "data",
          "visible": true
         },
         "marker": {
          "color": "grey"
         },
         "name": "Random",
         "offsetgroup": "0",
         "opacity": 0.6,
         "showlegend": true,
         "type": "bar",
         "x": [
          "cancer<br>|V|=5, |E|=4",
          "earthquake<br>|V|=5, |E|=4",
          "survey<br>|V|=6, |E|=6"
         ],
         "y": {
          "bdata": "AAAAAACA1D9oL6G9hPbSP/9pQIkT8dM/",
          "dtype": "f8"
         },
         "yaxis": "y"
        },
        {
         "error_y": {
          "array": {
           "bdata": "qoqOzd/ZuT+wPy1BqhyhP6YEtTjseLk/",
           "dtype": "f8"
          },
          "type": "data",
          "visible": true
         },
         "marker": {
          "color": "#b85c00"
         },
         "name": "FGS",
         "offsetgroup": "1",
         "opacity": 0.6,
         "showlegend": true,
         "type": "bar",
         "x": [
          "cancer<br>|V|=5, |E|=4",
          "earthquake<br>|V|=5, |E|=4",
          "survey<br>|V|=6, |E|=6"
         ],
         "y": {
          "bdata": "hGitaHOc2z/BcoQM5NndP5FI2/gTldE/",
          "dtype": "f8"
         },
         "yaxis": "y"
        },
        {
         "error_y": {
          "array": {
           "bdata": "X45DqtnEnD8qVGwnvVqmPwAAAAAAAAAA",
           "dtype": "f8"
          },
          "type": "data",
          "visible": true
         },
         "marker": {
          "color": "#9454c4"
         },
         "name": "NOTEARS-MLP",
         "offsetgroup": "2",
         "opacity": 0.6,
         "showlegend": true,
         "type": "bar",
         "x": [
          "cancer<br>|V|=5, |E|=4",
          "earthquake<br>|V|=5, |E|=4",
          "survey<br>|V|=6, |E|=6"
         ],
         "y": {
          "bdata": "5dU5BmSv1T+SIcfWM4TbP5vmHafoSNI/",
          "dtype": "f8"
         },
         "yaxis": "y"
        },
        {
         "error_y": {
          "array": {
           "bdata": "jVAtirAtoj/plRfEPvmeP+tuIrC0W7I/",
           "dtype": "f8"
          },
          "type": "data",
          "visible": true
         },
         "marker": {
          "color": "#379f9f"
         },
         "name": "MPC",
         "offsetgroup": "3",
         "opacity": 0.6,
         "showlegend": true,
         "type": "bar",
         "x": [
          "cancer<br>|V|=5, |E|=4",
          "earthquake<br>|V|=5, |E|=4",
          "survey<br>|V|=6, |E|=6"
         ],
         "y": {
          "bdata": "XkpdMo6R4D+anUXvVMDdP26iluZWCOU/",
          "dtype": "f8"
         },
         "yaxis": "y"
        },
        {
         "error_y": {
          "array": {
           "bdata": "BJD1XuPKxD9OJn0SooywP2H4TYAyFr0/",
           "dtype": "f8"
          },
          "type": "data",
          "visible": true
         },
         "marker": {
          "color": "#0085CA"
         },
         "name": "ABAPC (Original)",
         "offsetgroup": "4",
         "opacity": 0.6,
         "showlegend": true,
         "type": "bar",
         "x": [
          "cancer<br>|V|=5, |E|=4",
          "earthquake<br>|V|=5, |E|=4",
          "survey<br>|V|=6, |E|=6"
         ],
         "y": {
          "bdata": "kst/SL994D8sMjogCfvtPy/a9lC1MNk/",
          "dtype": "f8"
         },
         "yaxis": "y"
        },
        {
         "error_y": {
          "array": {
           "bdata": "KfzLpPmXtj9WsVmNjjyrP1zyC2wlAbQ/",
           "dtype": "f8"
          },
          "type": "data",
          "visible": true
         },
         "marker": {
          "color": "#9F8D00"
         },
         "name": "V1.1",
         "offsetgroup": "5",
         "opacity": 0.6,
         "showlegend": true,
         "type": "bar",
         "x": [
          "cancer<br>|V|=5, |E|=4",
          "earthquake<br>|V|=5, |E|=4",
          "survey<br>|V|=6, |E|=6"
         ],
         "y": {
          "bdata": "yqgPu3td2T+m64muCz/vP0pATMKFPN4/",
          "dtype": "f8"
         },
         "yaxis": "y"
        },
        {
         "error_y": {
          "array": {
           "bdata": "kSM8mho9xT9OJn0SooywPyTP3NqC7L0/",
           "dtype": "f8"
          },
          "type": "data",
          "visible": true
         },
         "marker": {
          "color": "#9E0000"
         },
         "name": "V1.2",
         "offsetgroup": "6",
         "opacity": 0.6,
         "showlegend": true,
         "type": "bar",
         "x": [
          "cancer<br>|V|=5, |E|=4",
          "earthquake<br>|V|=5, |E|=4",
          "survey<br>|V|=6, |E|=6"
         ],
         "y": {
          "bdata": "3dBQSpVX4D8sMjogCfvtP+NmbFjuP9g/",
          "dtype": "f8"
         },
         "yaxis": "y"
        },
        {
         "error_y": {
          "array": {
           "bdata": "rOVDw7/euz90etbg2SC5PzFbOPkr/rk/",
           "dtype": "f8"
          },
          "type": "data",
          "visible": true
         },
         "marker": {
          "color": "#ff34da"
         },
         "name": "V1.3",
         "offsetgroup": "7",
         "opacity": 0.6,
         "showlegend": true,
         "type": "bar",
         "x": [
          "cancer<br>|V|=5, |E|=4",
          "earthquake<br>|V|=5, |E|=4",
          "survey<br>|V|=6, |E|=6"
         ],
         "y": {
          "bdata": "a1+ehWc92j9oKO54k9/sP5jXof+roNc/",
          "dtype": "f8"
         },
         "yaxis": "y"
        },
        {
         "error_y": {
          "array": {
           "bdata": "zntMRUqswz+kjH28eRu8P/bxEz1hib0/",
           "dtype": "f8"
          },
          "type": "data",
          "visible": true
         },
         "marker": {
          "color": "#008100"
         },
         "name": "V1.4 ",
         "offsetgroup": "8",
         "opacity": 0.6,
         "showlegend": true,
         "type": "bar",
         "x": [
          "cancer<br>|V|=5, |E|=4",
          "earthquake<br>|V|=5, |E|=4",
          "survey<br>|V|=6, |E|=6"
         ],
         "y": {
          "bdata": "FTed3AT53T//mUF8YMfsP/OwUGua99U/",
          "dtype": "f8"
         },
         "yaxis": "y"
        },
        {
         "error_y": {
          "array": {
           "bdata": "kegxc8K3uz99+iVLm+TAP+R2wcMOb74/",
           "dtype": "f8"
          },
          "type": "data",
          "visible": true
         },
         "marker": {
          "color": "#ff8c00"
         },
         "name": "V2",
         "offsetgroup": "9",
         "opacity": 0.6,
         "showlegend": true,
         "type": "bar",
         "x": [
          "cancer<br>|V|=5, |E|=4",
          "earthquake<br>|V|=5, |E|=4",
          "survey<br>|V|=6, |E|=6"
         ],
         "y": {
          "bdata": "QbeXNEbr2j8oDZojPa7YP6EIgneaeNU/",
          "dtype": "f8"
         },
         "yaxis": "y"
        },
        {
         "marker": {
          "color": "white"
         },
         "name": "",
         "offsetgroup": "10",
         "opacity": 1,
         "showlegend": false,
         "type": "bar",
         "x": [
          "cancer<br>|V|=5, |E|=4",
          "earthquake<br>|V|=5, |E|=4",
          "survey<br>|V|=6, |E|=6"
         ],
         "y": {
          "bdata": "AAAAAAAAAAAAAAAAAAAAAAAAAAAAAAAA",
          "dtype": "f8"
         }
        },
        {
         "error_y": {
          "array": {
           "bdata": "rkWnxm7W2D//05Si+8DXP0tj1i7g7tE/",
           "dtype": "f8"
          },
          "type": "data",
          "visible": true
         },
         "marker": {
          "color": "grey"
         },
         "name": "Random",
         "offsetgroup": "11",
         "opacity": 0.6,
         "showlegend": false,
         "type": "bar",
         "x": [
          "cancer<br>|V|=5, |E|=4",
          "earthquake<br>|V|=5, |E|=4",
          "survey<br>|V|=6, |E|=6"
         ],
         "y": {
          "bdata": "4XoUrkfh9j8zMzMzMzP3P6uqqqqqqvY/",
          "dtype": "f8"
         },
         "yaxis": "y2"
        },
        {
         "error_y": {
          "array": {
           "bdata": "l28krVYovj/28j7fz1TEP/NF1OSim8I/",
           "dtype": "f8"
          },
          "type": "data",
          "visible": true
         },
         "marker": {
          "color": "#b85c00"
         },
         "name": "FGS",
         "offsetgroup": "12",
         "opacity": 0.6,
         "showlegend": false,
         "type": "bar",
         "x": [
          "cancer<br>|V|=5, |E|=4",
          "earthquake<br>|V|=5, |E|=4",
          "survey<br>|V|=6, |E|=6"
         ],
         "y": {
          "bdata": "j8L1KFyP4j/2KFyPwvXkPwOdNtBpA/U/",
          "dtype": "f8"
         },
         "yaxis": "y2"
        },
        {
         "error_y": {
          "array": {
           "bdata": "AAAAAAAAAAAMbD7x8A7FPwAAAAAAAAAA",
           "dtype": "f8"
          },
          "type": "data",
          "visible": true
         },
         "marker": {
          "color": "#9454c4"
         },
         "name": "NOTEARS-MLP",
         "offsetgroup": "13",
         "opacity": 0.6,
         "showlegend": false,
         "type": "bar",
         "x": [
          "cancer<br>|V|=5, |E|=4",
          "earthquake<br>|V|=5, |E|=4",
          "survey<br>|V|=6, |E|=6"
         ],
         "y": {
          "bdata": "AAAAAAAA6D+4HoXrUbjqPwAAAAAAAPA/",
          "dtype": "f8"
         },
         "yaxis": "y2"
        },
        {
         "error_y": {
          "array": {
           "bdata": "3518vmFWqT/det4aZALCP+4teUQ/aLI/",
           "dtype": "f8"
          },
          "type": "data",
          "visible": true
         },
         "marker": {
          "color": "#379f9f"
         },
         "name": "MPC",
         "offsetgroup": "14",
         "opacity": 0.6,
         "showlegend": false,
         "type": "bar",
         "x": [
          "cancer<br>|V|=5, |E|=4",
          "earthquake<br>|V|=5, |E|=4",
          "survey<br>|V|=6, |E|=6"
         ],
         "y": {
          "bdata": "UrgehetR4D8fhetRuB7lP5020GkDneY/",
          "dtype": "f8"
         },
         "yaxis": "y2"
        },
        {
         "error_y": {
          "array": {
           "bdata": "Ax4Ap/wwyz8AkhCU3X3DP7TB3UYA+cY/",
           "dtype": "f8"
          },
          "type": "data",
          "visible": true
         },
         "marker": {
          "color": "#0085CA"
         },
         "name": "ABAPC (Original)",
         "offsetgroup": "15",
         "opacity": 0.6,
         "showlegend": false,
         "type": "bar",
         "x": [
          "cancer<br>|V|=5, |E|=4",
          "earthquake<br>|V|=5, |E|=4",
          "survey<br>|V|=6, |E|=6"
         ],
         "y": {
          "bdata": "cT0K16Nw4T+PwvUoXI/CP/xiyS+W/Oo/",
          "dtype": "f8"
         },
         "yaxis": "y2"
        },
        {
         "error_y": {
          "array": {
           "bdata": "5vkEVNeOwj/g2W/RzTbAP6+wIAT3Aqw/",
           "dtype": "f8"
          },
          "type": "data",
          "visible": true
         },
         "marker": {
          "color": "#9F8D00"
         },
         "name": "V1.1",
         "offsetgroup": "16",
         "opacity": 0.6,
         "showlegend": false,
         "type": "bar",
         "x": [
          "cancer<br>|V|=5, |E|=4",
          "earthquake<br>|V|=5, |E|=4",
          "survey<br>|V|=6, |E|=6"
         ],
         "y": {
          "bdata": "16NwPQrX6z8pXI/C9SisP08b6LSBTus/",
          "dtype": "f8"
         },
         "yaxis": "y2"
        },
        {
         "error_y": {
          "array": {
           "bdata": "2rZt27Ztyz8AkhCU3X3DP3KgAgm1RcU/",
           "dtype": "f8"
          },
          "type": "data",
          "visible": true
         },
         "marker": {
          "color": "#9E0000"
         },
         "name": "V1.2",
         "offsetgroup": "17",
         "opacity": 0.6,
         "showlegend": false,
         "type": "bar",
         "x": [
          "cancer<br>|V|=5, |E|=4",
          "earthquake<br>|V|=5, |E|=4",
          "survey<br>|V|=6, |E|=6"
         ],
         "y": {
          "bdata": "mpmZmZmZ4T+PwvUoXI/CP4XrUbgehes/",
          "dtype": "f8"
         },
         "yaxis": "y2"
        },
        {
         "error_y": {
          "array": {
           "bdata": "BzxNUziZ0T/Bbqzi9EDRP8O5aCAOEtY/",
           "dtype": "f8"
          },
          "type": "data",
          "visible": true
         },
         "marker": {
          "color": "#ff34da"
         },
         "name": "V1.3",
         "offsetgroup": "18",
         "opacity": 0.6,
         "showlegend": false,
         "type": "bar",
         "x": [
          "cancer<br>|V|=5, |E|=4",
          "earthquake<br>|V|=5, |E|=4",
          "survey<br>|V|=6, |E|=6"
         ],
         "y": {
          "bdata": "exSuR+F68D9cj8L1KFzPP65H4XoUrvM/",
          "dtype": "f8"
         },
         "yaxis": "y2"
        },
        {
         "error_y": {
          "array": {
           "bdata": "KiRg5c4a0T8ZFy3B2GzSP9xgMoUYrNE/",
           "dtype": "f8"
          },
          "type": "data",
          "visible": true
         },
         "marker": {
          "color": "#008100"
         },
         "name": "V1.4 ",
         "offsetgroup": "19",
         "opacity": 0.6,
         "showlegend": false,
         "type": "bar",
         "x": [
          "cancer<br>|V|=5, |E|=4",
          "earthquake<br>|V|=5, |E|=4",
          "survey<br>|V|=6, |E|=6"
         ],
         "y": {
          "bdata": "zczMzMzM5D9cj8L1KFzPP2dmZmZmZvI/",
          "dtype": "f8"
         },
         "yaxis": "y2"
        },
        {
         "error_y": {
          "array": {
           "bdata": "9t8STFioxD9xE1l/1y/UPxnJFEhPT8c/",
           "dtype": "f8"
          },
          "type": "data",
          "visible": true
         },
         "marker": {
          "color": "#ff8c00"
         },
         "name": "V2",
         "offsetgroup": "20",
         "opacity": 0.6,
         "showlegend": false,
         "type": "bar",
         "x": [
          "cancer<br>|V|=5, |E|=4",
          "earthquake<br>|V|=5, |E|=4",
          "survey<br>|V|=6, |E|=6"
         ],
         "y": {
          "bdata": "UrgehetR5D8AAAAAAAD4P2dmZmZmZu4/",
          "dtype": "f8"
         },
         "yaxis": "y2"
        }
       ],
       "layout": {
        "annotations": [
         {
          "font": {
           "color": "Black",
           "family": "Serif",
           "size": 20
          },
          "showarrow": false,
          "text": "Dataset:",
          "x": 0,
          "xanchor": "center",
          "xref": "paper",
          "y": -0.08,
          "yanchor": "bottom",
          "yref": "paper"
         },
         {
          "bgcolor": "#E5ECF6",
          "bordercolor": "#E5ECF6",
          "borderwidth": 2,
          "font": {
           "color": "black",
           "size": 20
          },
          "opacity": 0.8,
          "showarrow": false,
          "text": "      f1      ",
          "x": 0.04,
          "xanchor": "left",
          "xref": "x domain",
          "y": 1.015,
          "yref": "y domain"
         },
         {
          "bgcolor": "#E5ECF6",
          "bordercolor": "#E5ECF6",
          "borderwidth": 2,
          "font": {
           "color": "black",
           "size": 20
          },
          "opacity": 0.8,
          "showarrow": false,
          "text": "      n_shd      ",
          "x": 0.201,
          "xanchor": "left",
          "xref": "x domain",
          "y": 1.015,
          "yref": "y domain"
         },
         {
          "bgcolor": "#E5ECF6",
          "bordercolor": "#E5ECF6",
          "borderwidth": 2,
          "font": {
           "color": "black",
           "size": 20
          },
          "opacity": 0.8,
          "showarrow": false,
          "text": "      f1      ",
          "x": 0.375,
          "xanchor": "left",
          "xref": "x domain",
          "y": 1.015,
          "yref": "y domain"
         },
         {
          "bgcolor": "#E5ECF6",
          "bordercolor": "#E5ECF6",
          "borderwidth": 2,
          "font": {
           "color": "black",
           "size": 20
          },
          "opacity": 0.8,
          "showarrow": false,
          "text": "      n_shd      ",
          "x": 0.536,
          "xanchor": "left",
          "xref": "x domain",
          "y": 1.015,
          "yref": "y domain"
         },
         {
          "bgcolor": "#E5ECF6",
          "bordercolor": "#E5ECF6",
          "borderwidth": 2,
          "font": {
           "color": "black",
           "size": 20
          },
          "opacity": 0.8,
          "showarrow": false,
          "text": "      f1      ",
          "x": 0.71,
          "xanchor": "left",
          "xref": "x domain",
          "y": 1.015,
          "yref": "y domain"
         },
         {
          "bgcolor": "#E5ECF6",
          "bordercolor": "#E5ECF6",
          "borderwidth": 2,
          "font": {
           "color": "black",
           "size": 20
          },
          "opacity": 0.8,
          "showarrow": false,
          "text": "      n_shd      ",
          "x": 0.871,
          "xanchor": "left",
          "xref": "x domain",
          "y": 1.015,
          "yref": "y domain"
         }
        ],
        "bargap": 0.15,
        "bargroupgap": 0.15,
        "barmode": "group",
        "font": {
         "color": "black",
         "family": "Serif",
         "size": 20
        },
        "height": 600,
        "hovermode": "x unified",
        "legend": {
         "orientation": "h",
         "x": 0.5,
         "xanchor": "center",
         "y": 1.1,
         "yanchor": "top"
        },
        "margin": {
         "b": 70,
         "l": 40,
         "r": 0,
         "t": 20
        },
        "shapes": [
         {
          "layer": "below",
          "line": {
           "color": "grey",
           "dash": "dash",
           "width": 1
          },
          "type": "line",
          "x0": 0.1565,
          "x1": 0.1565,
          "xref": "paper",
          "y0": 0,
          "y1": 1,
          "yref": "paper"
         },
         {
          "layer": "below",
          "line": {
           "color": "black",
           "dash": "solid",
           "width": 1
          },
          "type": "line",
          "x0": 0.313,
          "x1": 0.313,
          "xref": "paper",
          "y0": 0,
          "y1": 1,
          "yref": "paper"
         },
         {
          "layer": "below",
          "line": {
           "color": "grey",
           "dash": "dash",
           "width": 1
          },
          "type": "line",
          "x0": 0.46950000000000003,
          "x1": 0.46950000000000003,
          "xref": "paper",
          "y0": 0,
          "y1": 1,
          "yref": "paper"
         },
         {
          "layer": "below",
          "line": {
           "color": "black",
           "dash": "solid",
           "width": 1
          },
          "type": "line",
          "x0": 0.626,
          "x1": 0.626,
          "xref": "paper",
          "y0": 0,
          "y1": 1,
          "yref": "paper"
         },
         {
          "layer": "below",
          "line": {
           "color": "grey",
           "dash": "dash",
           "width": 1
          },
          "type": "line",
          "x0": 0.7825,
          "x1": 0.7825,
          "xref": "paper",
          "y0": 0,
          "y1": 1,
          "yref": "paper"
         },
         {
          "layer": "below",
          "line": {
           "color": "black",
           "dash": "solid",
           "width": 1
          },
          "type": "line",
          "x0": 0.939,
          "x1": 0.939,
          "xref": "paper",
          "y0": 0,
          "y1": 1,
          "yref": "paper"
         }
        ],
        "template": {
         "data": {
          "bar": [
           {
            "error_x": {
             "color": "#2a3f5f"
            },
            "error_y": {
             "color": "#2a3f5f"
            },
            "marker": {
             "line": {
              "color": "white",
              "width": 0.5
             },
             "pattern": {
              "fillmode": "overlay",
              "size": 10,
              "solidity": 0.2
             }
            },
            "type": "bar"
           }
          ],
          "barpolar": [
           {
            "marker": {
             "line": {
              "color": "white",
              "width": 0.5
             },
             "pattern": {
              "fillmode": "overlay",
              "size": 10,
              "solidity": 0.2
             }
            },
            "type": "barpolar"
           }
          ],
          "carpet": [
           {
            "aaxis": {
             "endlinecolor": "#2a3f5f",
             "gridcolor": "#C8D4E3",
             "linecolor": "#C8D4E3",
             "minorgridcolor": "#C8D4E3",
             "startlinecolor": "#2a3f5f"
            },
            "baxis": {
             "endlinecolor": "#2a3f5f",
             "gridcolor": "#C8D4E3",
             "linecolor": "#C8D4E3",
             "minorgridcolor": "#C8D4E3",
             "startlinecolor": "#2a3f5f"
            },
            "type": "carpet"
           }
          ],
          "choropleth": [
           {
            "colorbar": {
             "outlinewidth": 0,
             "ticks": ""
            },
            "type": "choropleth"
           }
          ],
          "contour": [
           {
            "colorbar": {
             "outlinewidth": 0,
             "ticks": ""
            },
            "colorscale": [
             [
              0,
              "#0d0887"
             ],
             [
              0.1111111111111111,
              "#46039f"
             ],
             [
              0.2222222222222222,
              "#7201a8"
             ],
             [
              0.3333333333333333,
              "#9c179e"
             ],
             [
              0.4444444444444444,
              "#bd3786"
             ],
             [
              0.5555555555555556,
              "#d8576b"
             ],
             [
              0.6666666666666666,
              "#ed7953"
             ],
             [
              0.7777777777777778,
              "#fb9f3a"
             ],
             [
              0.8888888888888888,
              "#fdca26"
             ],
             [
              1,
              "#f0f921"
             ]
            ],
            "type": "contour"
           }
          ],
          "contourcarpet": [
           {
            "colorbar": {
             "outlinewidth": 0,
             "ticks": ""
            },
            "type": "contourcarpet"
           }
          ],
          "heatmap": [
           {
            "colorbar": {
             "outlinewidth": 0,
             "ticks": ""
            },
            "colorscale": [
             [
              0,
              "#0d0887"
             ],
             [
              0.1111111111111111,
              "#46039f"
             ],
             [
              0.2222222222222222,
              "#7201a8"
             ],
             [
              0.3333333333333333,
              "#9c179e"
             ],
             [
              0.4444444444444444,
              "#bd3786"
             ],
             [
              0.5555555555555556,
              "#d8576b"
             ],
             [
              0.6666666666666666,
              "#ed7953"
             ],
             [
              0.7777777777777778,
              "#fb9f3a"
             ],
             [
              0.8888888888888888,
              "#fdca26"
             ],
             [
              1,
              "#f0f921"
             ]
            ],
            "type": "heatmap"
           }
          ],
          "histogram": [
           {
            "marker": {
             "pattern": {
              "fillmode": "overlay",
              "size": 10,
              "solidity": 0.2
             }
            },
            "type": "histogram"
           }
          ],
          "histogram2d": [
           {
            "colorbar": {
             "outlinewidth": 0,
             "ticks": ""
            },
            "colorscale": [
             [
              0,
              "#0d0887"
             ],
             [
              0.1111111111111111,
              "#46039f"
             ],
             [
              0.2222222222222222,
              "#7201a8"
             ],
             [
              0.3333333333333333,
              "#9c179e"
             ],
             [
              0.4444444444444444,
              "#bd3786"
             ],
             [
              0.5555555555555556,
              "#d8576b"
             ],
             [
              0.6666666666666666,
              "#ed7953"
             ],
             [
              0.7777777777777778,
              "#fb9f3a"
             ],
             [
              0.8888888888888888,
              "#fdca26"
             ],
             [
              1,
              "#f0f921"
             ]
            ],
            "type": "histogram2d"
           }
          ],
          "histogram2dcontour": [
           {
            "colorbar": {
             "outlinewidth": 0,
             "ticks": ""
            },
            "colorscale": [
             [
              0,
              "#0d0887"
             ],
             [
              0.1111111111111111,
              "#46039f"
             ],
             [
              0.2222222222222222,
              "#7201a8"
             ],
             [
              0.3333333333333333,
              "#9c179e"
             ],
             [
              0.4444444444444444,
              "#bd3786"
             ],
             [
              0.5555555555555556,
              "#d8576b"
             ],
             [
              0.6666666666666666,
              "#ed7953"
             ],
             [
              0.7777777777777778,
              "#fb9f3a"
             ],
             [
              0.8888888888888888,
              "#fdca26"
             ],
             [
              1,
              "#f0f921"
             ]
            ],
            "type": "histogram2dcontour"
           }
          ],
          "mesh3d": [
           {
            "colorbar": {
             "outlinewidth": 0,
             "ticks": ""
            },
            "type": "mesh3d"
           }
          ],
          "parcoords": [
           {
            "line": {
             "colorbar": {
              "outlinewidth": 0,
              "ticks": ""
             }
            },
            "type": "parcoords"
           }
          ],
          "pie": [
           {
            "automargin": true,
            "type": "pie"
           }
          ],
          "scatter": [
           {
            "fillpattern": {
             "fillmode": "overlay",
             "size": 10,
             "solidity": 0.2
            },
            "type": "scatter"
           }
          ],
          "scatter3d": [
           {
            "line": {
             "colorbar": {
              "outlinewidth": 0,
              "ticks": ""
             }
            },
            "marker": {
             "colorbar": {
              "outlinewidth": 0,
              "ticks": ""
             }
            },
            "type": "scatter3d"
           }
          ],
          "scattercarpet": [
           {
            "marker": {
             "colorbar": {
              "outlinewidth": 0,
              "ticks": ""
             }
            },
            "type": "scattercarpet"
           }
          ],
          "scattergeo": [
           {
            "marker": {
             "colorbar": {
              "outlinewidth": 0,
              "ticks": ""
             }
            },
            "type": "scattergeo"
           }
          ],
          "scattergl": [
           {
            "marker": {
             "colorbar": {
              "outlinewidth": 0,
              "ticks": ""
             }
            },
            "type": "scattergl"
           }
          ],
          "scattermap": [
           {
            "marker": {
             "colorbar": {
              "outlinewidth": 0,
              "ticks": ""
             }
            },
            "type": "scattermap"
           }
          ],
          "scattermapbox": [
           {
            "marker": {
             "colorbar": {
              "outlinewidth": 0,
              "ticks": ""
             }
            },
            "type": "scattermapbox"
           }
          ],
          "scatterpolar": [
           {
            "marker": {
             "colorbar": {
              "outlinewidth": 0,
              "ticks": ""
             }
            },
            "type": "scatterpolar"
           }
          ],
          "scatterpolargl": [
           {
            "marker": {
             "colorbar": {
              "outlinewidth": 0,
              "ticks": ""
             }
            },
            "type": "scatterpolargl"
           }
          ],
          "scatterternary": [
           {
            "marker": {
             "colorbar": {
              "outlinewidth": 0,
              "ticks": ""
             }
            },
            "type": "scatterternary"
           }
          ],
          "surface": [
           {
            "colorbar": {
             "outlinewidth": 0,
             "ticks": ""
            },
            "colorscale": [
             [
              0,
              "#0d0887"
             ],
             [
              0.1111111111111111,
              "#46039f"
             ],
             [
              0.2222222222222222,
              "#7201a8"
             ],
             [
              0.3333333333333333,
              "#9c179e"
             ],
             [
              0.4444444444444444,
              "#bd3786"
             ],
             [
              0.5555555555555556,
              "#d8576b"
             ],
             [
              0.6666666666666666,
              "#ed7953"
             ],
             [
              0.7777777777777778,
              "#fb9f3a"
             ],
             [
              0.8888888888888888,
              "#fdca26"
             ],
             [
              1,
              "#f0f921"
             ]
            ],
            "type": "surface"
           }
          ],
          "table": [
           {
            "cells": {
             "fill": {
              "color": "#EBF0F8"
             },
             "line": {
              "color": "white"
             }
            },
            "header": {
             "fill": {
              "color": "#C8D4E3"
             },
             "line": {
              "color": "white"
             }
            },
            "type": "table"
           }
          ]
         },
         "layout": {
          "annotationdefaults": {
           "arrowcolor": "#2a3f5f",
           "arrowhead": 0,
           "arrowwidth": 1
          },
          "autotypenumbers": "strict",
          "coloraxis": {
           "colorbar": {
            "outlinewidth": 0,
            "ticks": ""
           }
          },
          "colorscale": {
           "diverging": [
            [
             0,
             "#8e0152"
            ],
            [
             0.1,
             "#c51b7d"
            ],
            [
             0.2,
             "#de77ae"
            ],
            [
             0.3,
             "#f1b6da"
            ],
            [
             0.4,
             "#fde0ef"
            ],
            [
             0.5,
             "#f7f7f7"
            ],
            [
             0.6,
             "#e6f5d0"
            ],
            [
             0.7,
             "#b8e186"
            ],
            [
             0.8,
             "#7fbc41"
            ],
            [
             0.9,
             "#4d9221"
            ],
            [
             1,
             "#276419"
            ]
           ],
           "sequential": [
            [
             0,
             "#0d0887"
            ],
            [
             0.1111111111111111,
             "#46039f"
            ],
            [
             0.2222222222222222,
             "#7201a8"
            ],
            [
             0.3333333333333333,
             "#9c179e"
            ],
            [
             0.4444444444444444,
             "#bd3786"
            ],
            [
             0.5555555555555556,
             "#d8576b"
            ],
            [
             0.6666666666666666,
             "#ed7953"
            ],
            [
             0.7777777777777778,
             "#fb9f3a"
            ],
            [
             0.8888888888888888,
             "#fdca26"
            ],
            [
             1,
             "#f0f921"
            ]
           ],
           "sequentialminus": [
            [
             0,
             "#0d0887"
            ],
            [
             0.1111111111111111,
             "#46039f"
            ],
            [
             0.2222222222222222,
             "#7201a8"
            ],
            [
             0.3333333333333333,
             "#9c179e"
            ],
            [
             0.4444444444444444,
             "#bd3786"
            ],
            [
             0.5555555555555556,
             "#d8576b"
            ],
            [
             0.6666666666666666,
             "#ed7953"
            ],
            [
             0.7777777777777778,
             "#fb9f3a"
            ],
            [
             0.8888888888888888,
             "#fdca26"
            ],
            [
             1,
             "#f0f921"
            ]
           ]
          },
          "colorway": [
           "#636efa",
           "#EF553B",
           "#00cc96",
           "#ab63fa",
           "#FFA15A",
           "#19d3f3",
           "#FF6692",
           "#B6E880",
           "#FF97FF",
           "#FECB52"
          ],
          "font": {
           "color": "#2a3f5f"
          },
          "geo": {
           "bgcolor": "white",
           "lakecolor": "white",
           "landcolor": "white",
           "showlakes": true,
           "showland": true,
           "subunitcolor": "#C8D4E3"
          },
          "hoverlabel": {
           "align": "left"
          },
          "hovermode": "closest",
          "mapbox": {
           "style": "light"
          },
          "paper_bgcolor": "white",
          "plot_bgcolor": "white",
          "polar": {
           "angularaxis": {
            "gridcolor": "#EBF0F8",
            "linecolor": "#EBF0F8",
            "ticks": ""
           },
           "bgcolor": "white",
           "radialaxis": {
            "gridcolor": "#EBF0F8",
            "linecolor": "#EBF0F8",
            "ticks": ""
           }
          },
          "scene": {
           "xaxis": {
            "backgroundcolor": "white",
            "gridcolor": "#DFE8F3",
            "gridwidth": 2,
            "linecolor": "#EBF0F8",
            "showbackground": true,
            "ticks": "",
            "zerolinecolor": "#EBF0F8"
           },
           "yaxis": {
            "backgroundcolor": "white",
            "gridcolor": "#DFE8F3",
            "gridwidth": 2,
            "linecolor": "#EBF0F8",
            "showbackground": true,
            "ticks": "",
            "zerolinecolor": "#EBF0F8"
           },
           "zaxis": {
            "backgroundcolor": "white",
            "gridcolor": "#DFE8F3",
            "gridwidth": 2,
            "linecolor": "#EBF0F8",
            "showbackground": true,
            "ticks": "",
            "zerolinecolor": "#EBF0F8"
           }
          },
          "shapedefaults": {
           "line": {
            "color": "#2a3f5f"
           }
          },
          "ternary": {
           "aaxis": {
            "gridcolor": "#DFE8F3",
            "linecolor": "#A2B1C6",
            "ticks": ""
           },
           "baxis": {
            "gridcolor": "#DFE8F3",
            "linecolor": "#A2B1C6",
            "ticks": ""
           },
           "bgcolor": "white",
           "caxis": {
            "gridcolor": "#DFE8F3",
            "linecolor": "#A2B1C6",
            "ticks": ""
           }
          },
          "title": {
           "x": 0.05
          },
          "xaxis": {
           "automargin": true,
           "gridcolor": "#EBF0F8",
           "linecolor": "#EBF0F8",
           "ticks": "",
           "title": {
            "standoff": 15
           },
           "zerolinecolor": "#EBF0F8",
           "zerolinewidth": 2
          },
          "yaxis": {
           "automargin": true,
           "gridcolor": "#EBF0F8",
           "linecolor": "#EBF0F8",
           "ticks": "",
           "title": {
            "standoff": 15
           },
           "zerolinecolor": "#EBF0F8",
           "zerolinewidth": 2
          }
         }
        },
        "width": 1300,
        "xaxis": {
         "anchor": "y",
         "domain": [
          0,
          0.94
         ]
        },
        "yaxis": {
         "anchor": "x",
         "domain": [
          0,
          1
         ],
         "range": [
          0,
          1.1
         ],
         "title": {
          "font": {
           "size": 20
          },
          "text": "f1"
         }
        },
        "yaxis2": {
         "anchor": "x",
         "overlaying": "y",
         "range": [
          0,
          2
         ],
         "scaleanchor": 0,
         "showgrid": false,
         "showline": false,
         "showticklabels": true,
         "side": "right",
         "title": {
          "font": {
           "size": 20
          },
          "text": "n_shd"
         },
         "zeroline": true
        }
       }
      }
     },
     "metadata": {},
     "output_type": "display_data"
    }
   ],
   "source": [
    "fig = double_bar_chart_plotly(v1_bn_plot_data, \n",
    "                        names_dict,\n",
    "                        colors_dict,\n",
    "                        vars_to_plot=['f1', 'n_shd'],\n",
    "                        names=['f1', 'n_shd'],\n",
    "                        labels=['f1', 'n_shd'],\n",
    "                        methods=methods,\n",
    "                        dist_between_lines=0.1565,\n",
    "                        lin_space=6,\n",
    "                        nl_space=6,\n",
    "                        intra_dis = 0.161,\n",
    "                        inter_dis = 0.174,\n",
    "                        start_pos = 0.04,\n",
    "                            width=1300,\n",
    "                            height=600,\n",
    "                            range_y1=(0, 1.1),\n",
    "                            range_y2=(0, 2))"
   ]
  },
  {
   "cell_type": "code",
   "execution_count": 19,
   "id": "ca17b451",
   "metadata": {},
   "outputs": [
    {
     "data": {
      "application/vnd.plotly.v1+json": {
       "config": {
        "plotlyServerURL": "https://plot.ly"
       },
       "data": [
        {
         "error_y": {
          "array": {
           "bdata": "wZh0GlsF7T+Tajng6wHnP4uJrFAoNOY/",
           "dtype": "f8"
          },
          "type": "data",
          "visible": true
         },
         "marker": {
          "color": "grey"
         },
         "name": "Random",
         "offsetgroup": "0",
         "opacity": 0.6,
         "showlegend": true,
         "type": "bar",
         "x": [
          "cancer<br>|V|=5, |E|=4",
          "earthquake<br>|V|=5, |E|=4",
          "survey<br>|V|=6, |E|=6"
         ],
         "y": {
          "bdata": "w/UoXI/C/z+F61G4HoX/P36x5BdLfgFA",
          "dtype": "f8"
         },
         "yaxis": "y"
        },
        {
         "error_y": {
          "array": {
           "bdata": "mG8krVYo3j/RTRo9fuzVPw1R0OS56+A/",
           "dtype": "f8"
          },
          "type": "data",
          "visible": true
         },
         "marker": {
          "color": "#b85c00"
         },
         "name": "FGS",
         "offsetgroup": "1",
         "opacity": 0.6,
         "showlegend": true,
         "type": "bar",
         "x": [
          "cancer<br>|V|=5, |E|=4",
          "earthquake<br>|V|=5, |E|=4",
          "survey<br>|V|=6, |E|=6"
         ],
         "y": {
          "bdata": "H4XrUbge+T9mZmZmZmbyPzfQaQOdNgJA",
          "dtype": "f8"
         },
         "yaxis": "y"
        },
        {
         "error_y": {
          "array": {
           "bdata": "sdS2hhBd1z+4DAmXu7vkP3I8KKWxarQ/",
           "dtype": "f8"
          },
          "type": "data",
          "visible": true
         },
         "marker": {
          "color": "#9454c4"
         },
         "name": "NOTEARS-MLP",
         "offsetgroup": "2",
         "opacity": 0.6,
         "showlegend": true,
         "type": "bar",
         "x": [
          "cancer<br>|V|=5, |E|=4",
          "earthquake<br>|V|=5, |E|=4",
          "survey<br>|V|=6, |E|=6"
         ],
         "y": {
          "bdata": "CtejcD0KA0ApXI/C9SjcPzfQaQOdNgZA",
          "dtype": "f8"
         },
         "yaxis": "y"
        },
        {
         "error_y": {
          "array": {
           "bdata": "R/YvexUH3T8AAAAAAAAAAC9iX5/HMOI/",
           "dtype": "f8"
          },
          "type": "data",
          "visible": true
         },
         "marker": {
          "color": "#379f9f"
         },
         "name": "MPC",
         "offsetgroup": "3",
         "opacity": 0.6,
         "showlegend": true,
         "type": "bar",
         "x": [
          "cancer<br>|V|=5, |E|=4",
          "earthquake<br>|V|=5, |E|=4",
          "survey<br>|V|=6, |E|=6"
         ],
         "y": {
          "bdata": "CtejcD0K7z8AAAAAAAD0P2kDnTbQaes/",
          "dtype": "f8"
         },
         "yaxis": "y"
        },
        {
         "error_y": {
          "array": {
           "bdata": "RHUGrJ1F5j8AAAAAAAAAAKGq10wptOE/",
           "dtype": "f8"
          },
          "type": "data",
          "visible": true
         },
         "marker": {
          "color": "#0085CA"
         },
         "name": "ABAPC (Original)",
         "offsetgroup": "4",
         "opacity": 0.6,
         "showlegend": true,
         "type": "bar",
         "x": [
          "cancer<br>|V|=5, |E|=4",
          "earthquake<br>|V|=5, |E|=4",
          "survey<br>|V|=6, |E|=6"
         ],
         "y": {
          "bdata": "PQrXo3A9AUAAAAAAAAAAAPOLJb9Y8gNA",
          "dtype": "f8"
         },
         "yaxis": "y"
        },
        {
         "error_y": {
          "array": {
           "bdata": "CBT4UrPM4D8AAAAAAAAAALMupqfDzMQ/",
           "dtype": "f8"
          },
          "type": "data",
          "visible": true
         },
         "marker": {
          "color": "#9F8D00"
         },
         "name": "V1.1",
         "offsetgroup": "5",
         "opacity": 0.6,
         "showlegend": true,
         "type": "bar",
         "x": [
          "cancer<br>|V|=5, |E|=4",
          "earthquake<br>|V|=5, |E|=4",
          "survey<br>|V|=6, |E|=6"
         ],
         "y": {
          "bdata": "H4XrUbge/T8AAAAAAAAAAOxRuB6F6/0/",
          "dtype": "f8"
         },
         "yaxis": "y"
        },
        {
         "error_y": {
          "array": {
           "bdata": "3Z2lD59h5j8AAAAAAAAAAMG7uVZf1uI/",
           "dtype": "f8"
          },
          "type": "data",
          "visible": true
         },
         "marker": {
          "color": "#9E0000"
         },
         "name": "V1.2",
         "offsetgroup": "6",
         "opacity": 0.6,
         "showlegend": true,
         "type": "bar",
         "x": [
          "cancer<br>|V|=5, |E|=4",
          "earthquake<br>|V|=5, |E|=4",
          "survey<br>|V|=6, |E|=6"
         ],
         "y": {
          "bdata": "SOF6FK5HAUAAAAAAAAAAANejcD0K1wNA",
          "dtype": "f8"
         },
         "yaxis": "y"
        },
        {
         "error_y": {
          "array": {
           "bdata": "yhRgPOm/6D8AAAAAAAAAAExyLW3ZcOU/",
           "dtype": "f8"
          },
          "type": "data",
          "visible": true
         },
         "marker": {
          "color": "#ff34da"
         },
         "name": "V1.3",
         "offsetgroup": "7",
         "opacity": 0.6,
         "showlegend": true,
         "type": "bar",
         "x": [
          "cancer<br>|V|=5, |E|=4",
          "earthquake<br>|V|=5, |E|=4",
          "survey<br>|V|=6, |E|=6"
         ],
         "y": {
          "bdata": "CtejcD0KAEAAAAAAAAAAAJ020GkDnQJA",
          "dtype": "f8"
         },
         "yaxis": "y"
        },
        {
         "error_y": {
          "array": {
           "bdata": "ZC+64Vpl5j8nBDs04ae6P8lrK3LnEOQ/",
           "dtype": "f8"
          },
          "type": "data",
          "visible": true
         },
         "marker": {
          "color": "#008100"
         },
         "name": "V1.4 ",
         "offsetgroup": "8",
         "opacity": 0.6,
         "showlegend": true,
         "type": "bar",
         "x": [
          "cancer<br>|V|=5, |E|=4",
          "earthquake<br>|V|=5, |E|=4",
          "survey<br>|V|=6, |E|=6"
         ],
         "y": {
          "bdata": "SOF6FK5HAkCamZmZmZmZP6cNdNpApwNA",
          "dtype": "f8"
         },
         "yaxis": "y"
        },
        {
         "error_y": {
          "array": {
           "bdata": "NZnZ6a0X0T9m+HUt4y7qPxh/2BbMUt4/",
           "dtype": "f8"
          },
          "type": "data",
          "visible": true
         },
         "marker": {
          "color": "#ff8c00"
         },
         "name": "V2",
         "offsetgroup": "9",
         "opacity": 0.6,
         "showlegend": true,
         "type": "bar",
         "x": [
          "cancer<br>|V|=5, |E|=4",
          "earthquake<br>|V|=5, |E|=4",
          "survey<br>|V|=6, |E|=6"
         ],
         "y": {
          "bdata": "7FG4HoXrA0C4HoXrUbjyP4mIiIiIiARA",
          "dtype": "f8"
         },
         "yaxis": "y"
        },
        {
         "marker": {
          "color": "white"
         },
         "name": "",
         "offsetgroup": "10",
         "opacity": 1,
         "showlegend": false,
         "type": "bar",
         "x": [
          "cancer<br>|V|=5, |E|=4",
          "earthquake<br>|V|=5, |E|=4",
          "survey<br>|V|=6, |E|=6"
         ],
         "y": {
          "bdata": "AAAAAAAAAAAAAAAAAAAAAAAAAAAAAAAA",
          "dtype": "f8"
         }
        },
        {
         "error_y": {
          "array": {
           "bdata": "DMgDVtM96D904aadIrLrP9ExwqQ7Z+c/",
           "dtype": "f8"
          },
          "type": "data",
          "visible": true
         },
         "marker": {
          "color": "grey"
         },
         "name": "Random",
         "offsetgroup": "11",
         "opacity": 0.6,
         "showlegend": false,
         "type": "bar",
         "x": [
          "cancer<br>|V|=5, |E|=4",
          "earthquake<br>|V|=5, |E|=4",
          "survey<br>|V|=6, |E|=6"
         ],
         "y": {
          "bdata": "FK5H4XoUDEDD9Shcj8ILQNBpA5020A1A",
          "dtype": "f8"
         },
         "yaxis": "y2"
        },
        {
         "error_y": {
          "array": {
           "bdata": "l28krVYo3j9SxRsu+qu/P50u7O2DduI/",
           "dtype": "f8"
          },
          "type": "data",
          "visible": true
         },
         "marker": {
          "color": "#b85c00"
         },
         "name": "FGS",
         "offsetgroup": "12",
         "opacity": 0.6,
         "showlegend": false,
         "type": "bar",
         "x": [
          "cancer<br>|V|=5, |E|=4",
          "earthquake<br>|V|=5, |E|=4",
          "survey<br>|V|=6, |E|=6"
         ],
         "y": {
          "bdata": "SOF6FK5HEEAAAAAAAAAOQIwlv1jyiwtA",
          "dtype": "f8"
         },
         "yaxis": "y2"
        },
        {
         "error_y": {
          "array": {
           "bdata": "cL00uOrHuj97MXc2dWvePwAAAAAAAAAA",
           "dtype": "f8"
          },
          "type": "data",
          "visible": true
         },
         "marker": {
          "color": "#9454c4"
         },
         "name": "NOTEARS-MLP",
         "offsetgroup": "13",
         "opacity": 0.6,
         "showlegend": false,
         "type": "bar",
         "x": [
          "cancer<br>|V|=5, |E|=4",
          "earthquake<br>|V|=5, |E|=4",
          "survey<br>|V|=6, |E|=6"
         ],
         "y": {
          "bdata": "cT0K16NwBECF61G4HoUNQKuqqqqqqgZA",
          "dtype": "f8"
         },
         "yaxis": "y2"
        },
        {
         "error_y": {
          "array": {
           "bdata": "SPYvexUH3T8AAAAAAAAAAExZDgiiRuc/",
           "dtype": "f8"
          },
          "type": "data",
          "visible": true
         },
         "marker": {
          "color": "#379f9f"
         },
         "name": "MPC",
         "offsetgroup": "14",
         "opacity": 0.6,
         "showlegend": false,
         "type": "bar",
         "x": [
          "cancer<br>|V|=5, |E|=4",
          "earthquake<br>|V|=5, |E|=4",
          "survey<br>|V|=6, |E|=6"
         ],
         "y": {
          "bdata": "w/UoXI/CC0AAAAAAAAAOQNQGOm2g0wpA",
          "dtype": "f8"
         },
         "yaxis": "y2"
        },
        {
         "error_y": {
          "array": {
           "bdata": "uo0PzuDQ4D+zxGm/DivyP9kuw0TSD98/",
           "dtype": "f8"
          },
          "type": "data",
          "visible": true
         },
         "marker": {
          "color": "#0085CA"
         },
         "name": "ABAPC (Original)",
         "offsetgroup": "15",
         "opacity": 0.6,
         "showlegend": false,
         "type": "bar",
         "x": [
          "cancer<br>|V|=5, |E|=4",
          "earthquake<br>|V|=5, |E|=4",
          "survey<br>|V|=6, |E|=6"
         ],
         "y": {
          "bdata": "mpmZmZmZBkCkcD0K16MCQNBpA5020AVA",
          "dtype": "f8"
         },
         "yaxis": "y2"
        },
        {
         "error_y": {
          "array": {
           "bdata": "Jns/XUXi3z8jgovkmDzpP6TuB3g//cw/",
           "dtype": "f8"
          },
          "type": "data",
          "visible": true
         },
         "marker": {
          "color": "#9F8D00"
         },
         "name": "V1.1",
         "offsetgroup": "16",
         "opacity": 0.6,
         "showlegend": false,
         "type": "bar",
         "x": [
          "cancer<br>|V|=5, |E|=4",
          "earthquake<br>|V|=5, |E|=4",
          "survey<br>|V|=6, |E|=6"
         ],
         "y": {
          "bdata": "j8L1KFyPCUAK16NwPQr5P/nFkl8s+QlA",
          "dtype": "f8"
         },
         "yaxis": "y2"
        },
        {
         "error_y": {
          "array": {
           "bdata": "XWmX7L3A4D+zxGm/DivyPxcn/JsiaN4/",
           "dtype": "f8"
          },
          "type": "data",
          "visible": true
         },
         "marker": {
          "color": "#9E0000"
         },
         "name": "V1.2",
         "offsetgroup": "17",
         "opacity": 0.6,
         "showlegend": false,
         "type": "bar",
         "x": [
          "cancer<br>|V|=5, |E|=4",
          "earthquake<br>|V|=5, |E|=4",
          "survey<br>|V|=6, |E|=6"
         ],
         "y": {
          "bdata": "pHA9CtejBkCkcD0K16MCQBvotIFOGwZA",
          "dtype": "f8"
         },
         "yaxis": "y2"
        },
        {
         "error_y": {
          "array": {
           "bdata": "T4DpHo9f6z+GwTMge5nvP12u66ztCeU/",
           "dtype": "f8"
          },
          "type": "data",
          "visible": true
         },
         "marker": {
          "color": "#ff34da"
         },
         "name": "V1.3",
         "offsetgroup": "18",
         "opacity": 0.6,
         "showlegend": false,
         "type": "bar",
         "x": [
          "cancer<br>|V|=5, |E|=4",
          "earthquake<br>|V|=5, |E|=4",
          "survey<br>|V|=6, |E|=6"
         ],
         "y": {
          "bdata": "16NwPQrXB0AAAAAAAAD+PwAAAAAAAAZA",
          "dtype": "f8"
         },
         "yaxis": "y2"
        },
        {
         "error_y": {
          "array": {
           "bdata": "UUAiCPUX4z+7kXzODzfwP/OchP3xduU/",
           "dtype": "f8"
          },
          "type": "data",
          "visible": true
         },
         "marker": {
          "color": "#008100"
         },
         "name": "V1.4 ",
         "offsetgroup": "19",
         "opacity": 0.6,
         "showlegend": false,
         "type": "bar",
         "x": [
          "cancer<br>|V|=5, |E|=4",
          "earthquake<br>|V|=5, |E|=4",
          "survey<br>|V|=6, |E|=6"
         ],
         "y": {
          "bdata": "exSuR+F6BkCkcD0K16P+P+UXS36x5AdA",
          "dtype": "f8"
         },
         "yaxis": "y2"
        },
        {
         "error_y": {
          "array": {
           "bdata": "kFND/CWz4D9PnSYL/wb1P89GcSXJadw/",
           "dtype": "f8"
          },
          "type": "data",
          "visible": true
         },
         "marker": {
          "color": "#ff8c00"
         },
         "name": "V2",
         "offsetgroup": "20",
         "opacity": 0.6,
         "showlegend": false,
         "type": "bar",
         "x": [
          "cancer<br>|V|=5, |E|=4",
          "earthquake<br>|V|=5, |E|=4",
          "survey<br>|V|=6, |E|=6"
         ],
         "y": {
          "bdata": "uB6F61G4BkCPwvUoXI8MQDttoNMGOglA",
          "dtype": "f8"
         },
         "yaxis": "y2"
        }
       ],
       "layout": {
        "annotations": [
         {
          "font": {
           "color": "Black",
           "family": "Serif",
           "size": 20
          },
          "showarrow": false,
          "text": "Dataset:",
          "x": 0,
          "xanchor": "center",
          "xref": "paper",
          "y": -0.08,
          "yanchor": "bottom",
          "yref": "paper"
         },
         {
          "bgcolor": "#E5ECF6",
          "bordercolor": "#E5ECF6",
          "borderwidth": 2,
          "font": {
           "color": "black",
           "size": 20
          },
          "opacity": 0.8,
          "showarrow": false,
          "text": "      Best      ",
          "x": 0.04,
          "xanchor": "left",
          "xref": "x domain",
          "y": 1.015,
          "yref": "y domain"
         },
         {
          "bgcolor": "#E5ECF6",
          "bordercolor": "#E5ECF6",
          "borderwidth": 2,
          "font": {
           "color": "black",
           "size": 20
          },
          "opacity": 0.8,
          "showarrow": false,
          "text": "      Worst      ",
          "x": 0.201,
          "xanchor": "left",
          "xref": "x domain",
          "y": 1.015,
          "yref": "y domain"
         },
         {
          "bgcolor": "#E5ECF6",
          "bordercolor": "#E5ECF6",
          "borderwidth": 2,
          "font": {
           "color": "black",
           "size": 20
          },
          "opacity": 0.8,
          "showarrow": false,
          "text": "      Best      ",
          "x": 0.375,
          "xanchor": "left",
          "xref": "x domain",
          "y": 1.015,
          "yref": "y domain"
         },
         {
          "bgcolor": "#E5ECF6",
          "bordercolor": "#E5ECF6",
          "borderwidth": 2,
          "font": {
           "color": "black",
           "size": 20
          },
          "opacity": 0.8,
          "showarrow": false,
          "text": "      Worst      ",
          "x": 0.536,
          "xanchor": "left",
          "xref": "x domain",
          "y": 1.015,
          "yref": "y domain"
         },
         {
          "bgcolor": "#E5ECF6",
          "bordercolor": "#E5ECF6",
          "borderwidth": 2,
          "font": {
           "color": "black",
           "size": 20
          },
          "opacity": 0.8,
          "showarrow": false,
          "text": "      Best      ",
          "x": 0.71,
          "xanchor": "left",
          "xref": "x domain",
          "y": 1.015,
          "yref": "y domain"
         },
         {
          "bgcolor": "#E5ECF6",
          "bordercolor": "#E5ECF6",
          "borderwidth": 2,
          "font": {
           "color": "black",
           "size": 20
          },
          "opacity": 0.8,
          "showarrow": false,
          "text": "      Worst      ",
          "x": 0.871,
          "xanchor": "left",
          "xref": "x domain",
          "y": 1.015,
          "yref": "y domain"
         }
        ],
        "bargap": 0.15,
        "bargroupgap": 0.15,
        "barmode": "group",
        "font": {
         "color": "black",
         "family": "Serif",
         "size": 20
        },
        "height": 600,
        "hovermode": "x unified",
        "legend": {
         "orientation": "h",
         "x": 0.5,
         "xanchor": "center",
         "y": 1.1,
         "yanchor": "top"
        },
        "margin": {
         "b": 70,
         "l": 40,
         "r": 0,
         "t": 20
        },
        "shapes": [
         {
          "layer": "below",
          "line": {
           "color": "grey",
           "dash": "dash",
           "width": 1
          },
          "type": "line",
          "x0": 0.1565,
          "x1": 0.1565,
          "xref": "paper",
          "y0": 0,
          "y1": 1,
          "yref": "paper"
         },
         {
          "layer": "below",
          "line": {
           "color": "black",
           "dash": "solid",
           "width": 1
          },
          "type": "line",
          "x0": 0.313,
          "x1": 0.313,
          "xref": "paper",
          "y0": 0,
          "y1": 1,
          "yref": "paper"
         },
         {
          "layer": "below",
          "line": {
           "color": "grey",
           "dash": "dash",
           "width": 1
          },
          "type": "line",
          "x0": 0.46950000000000003,
          "x1": 0.46950000000000003,
          "xref": "paper",
          "y0": 0,
          "y1": 1,
          "yref": "paper"
         },
         {
          "layer": "below",
          "line": {
           "color": "black",
           "dash": "solid",
           "width": 1
          },
          "type": "line",
          "x0": 0.626,
          "x1": 0.626,
          "xref": "paper",
          "y0": 0,
          "y1": 1,
          "yref": "paper"
         },
         {
          "layer": "below",
          "line": {
           "color": "grey",
           "dash": "dash",
           "width": 1
          },
          "type": "line",
          "x0": 0.7825,
          "x1": 0.7825,
          "xref": "paper",
          "y0": 0,
          "y1": 1,
          "yref": "paper"
         },
         {
          "layer": "below",
          "line": {
           "color": "black",
           "dash": "solid",
           "width": 1
          },
          "type": "line",
          "x0": 0.939,
          "x1": 0.939,
          "xref": "paper",
          "y0": 0,
          "y1": 1,
          "yref": "paper"
         }
        ],
        "template": {
         "data": {
          "bar": [
           {
            "error_x": {
             "color": "#2a3f5f"
            },
            "error_y": {
             "color": "#2a3f5f"
            },
            "marker": {
             "line": {
              "color": "white",
              "width": 0.5
             },
             "pattern": {
              "fillmode": "overlay",
              "size": 10,
              "solidity": 0.2
             }
            },
            "type": "bar"
           }
          ],
          "barpolar": [
           {
            "marker": {
             "line": {
              "color": "white",
              "width": 0.5
             },
             "pattern": {
              "fillmode": "overlay",
              "size": 10,
              "solidity": 0.2
             }
            },
            "type": "barpolar"
           }
          ],
          "carpet": [
           {
            "aaxis": {
             "endlinecolor": "#2a3f5f",
             "gridcolor": "#C8D4E3",
             "linecolor": "#C8D4E3",
             "minorgridcolor": "#C8D4E3",
             "startlinecolor": "#2a3f5f"
            },
            "baxis": {
             "endlinecolor": "#2a3f5f",
             "gridcolor": "#C8D4E3",
             "linecolor": "#C8D4E3",
             "minorgridcolor": "#C8D4E3",
             "startlinecolor": "#2a3f5f"
            },
            "type": "carpet"
           }
          ],
          "choropleth": [
           {
            "colorbar": {
             "outlinewidth": 0,
             "ticks": ""
            },
            "type": "choropleth"
           }
          ],
          "contour": [
           {
            "colorbar": {
             "outlinewidth": 0,
             "ticks": ""
            },
            "colorscale": [
             [
              0,
              "#0d0887"
             ],
             [
              0.1111111111111111,
              "#46039f"
             ],
             [
              0.2222222222222222,
              "#7201a8"
             ],
             [
              0.3333333333333333,
              "#9c179e"
             ],
             [
              0.4444444444444444,
              "#bd3786"
             ],
             [
              0.5555555555555556,
              "#d8576b"
             ],
             [
              0.6666666666666666,
              "#ed7953"
             ],
             [
              0.7777777777777778,
              "#fb9f3a"
             ],
             [
              0.8888888888888888,
              "#fdca26"
             ],
             [
              1,
              "#f0f921"
             ]
            ],
            "type": "contour"
           }
          ],
          "contourcarpet": [
           {
            "colorbar": {
             "outlinewidth": 0,
             "ticks": ""
            },
            "type": "contourcarpet"
           }
          ],
          "heatmap": [
           {
            "colorbar": {
             "outlinewidth": 0,
             "ticks": ""
            },
            "colorscale": [
             [
              0,
              "#0d0887"
             ],
             [
              0.1111111111111111,
              "#46039f"
             ],
             [
              0.2222222222222222,
              "#7201a8"
             ],
             [
              0.3333333333333333,
              "#9c179e"
             ],
             [
              0.4444444444444444,
              "#bd3786"
             ],
             [
              0.5555555555555556,
              "#d8576b"
             ],
             [
              0.6666666666666666,
              "#ed7953"
             ],
             [
              0.7777777777777778,
              "#fb9f3a"
             ],
             [
              0.8888888888888888,
              "#fdca26"
             ],
             [
              1,
              "#f0f921"
             ]
            ],
            "type": "heatmap"
           }
          ],
          "histogram": [
           {
            "marker": {
             "pattern": {
              "fillmode": "overlay",
              "size": 10,
              "solidity": 0.2
             }
            },
            "type": "histogram"
           }
          ],
          "histogram2d": [
           {
            "colorbar": {
             "outlinewidth": 0,
             "ticks": ""
            },
            "colorscale": [
             [
              0,
              "#0d0887"
             ],
             [
              0.1111111111111111,
              "#46039f"
             ],
             [
              0.2222222222222222,
              "#7201a8"
             ],
             [
              0.3333333333333333,
              "#9c179e"
             ],
             [
              0.4444444444444444,
              "#bd3786"
             ],
             [
              0.5555555555555556,
              "#d8576b"
             ],
             [
              0.6666666666666666,
              "#ed7953"
             ],
             [
              0.7777777777777778,
              "#fb9f3a"
             ],
             [
              0.8888888888888888,
              "#fdca26"
             ],
             [
              1,
              "#f0f921"
             ]
            ],
            "type": "histogram2d"
           }
          ],
          "histogram2dcontour": [
           {
            "colorbar": {
             "outlinewidth": 0,
             "ticks": ""
            },
            "colorscale": [
             [
              0,
              "#0d0887"
             ],
             [
              0.1111111111111111,
              "#46039f"
             ],
             [
              0.2222222222222222,
              "#7201a8"
             ],
             [
              0.3333333333333333,
              "#9c179e"
             ],
             [
              0.4444444444444444,
              "#bd3786"
             ],
             [
              0.5555555555555556,
              "#d8576b"
             ],
             [
              0.6666666666666666,
              "#ed7953"
             ],
             [
              0.7777777777777778,
              "#fb9f3a"
             ],
             [
              0.8888888888888888,
              "#fdca26"
             ],
             [
              1,
              "#f0f921"
             ]
            ],
            "type": "histogram2dcontour"
           }
          ],
          "mesh3d": [
           {
            "colorbar": {
             "outlinewidth": 0,
             "ticks": ""
            },
            "type": "mesh3d"
           }
          ],
          "parcoords": [
           {
            "line": {
             "colorbar": {
              "outlinewidth": 0,
              "ticks": ""
             }
            },
            "type": "parcoords"
           }
          ],
          "pie": [
           {
            "automargin": true,
            "type": "pie"
           }
          ],
          "scatter": [
           {
            "fillpattern": {
             "fillmode": "overlay",
             "size": 10,
             "solidity": 0.2
            },
            "type": "scatter"
           }
          ],
          "scatter3d": [
           {
            "line": {
             "colorbar": {
              "outlinewidth": 0,
              "ticks": ""
             }
            },
            "marker": {
             "colorbar": {
              "outlinewidth": 0,
              "ticks": ""
             }
            },
            "type": "scatter3d"
           }
          ],
          "scattercarpet": [
           {
            "marker": {
             "colorbar": {
              "outlinewidth": 0,
              "ticks": ""
             }
            },
            "type": "scattercarpet"
           }
          ],
          "scattergeo": [
           {
            "marker": {
             "colorbar": {
              "outlinewidth": 0,
              "ticks": ""
             }
            },
            "type": "scattergeo"
           }
          ],
          "scattergl": [
           {
            "marker": {
             "colorbar": {
              "outlinewidth": 0,
              "ticks": ""
             }
            },
            "type": "scattergl"
           }
          ],
          "scattermap": [
           {
            "marker": {
             "colorbar": {
              "outlinewidth": 0,
              "ticks": ""
             }
            },
            "type": "scattermap"
           }
          ],
          "scattermapbox": [
           {
            "marker": {
             "colorbar": {
              "outlinewidth": 0,
              "ticks": ""
             }
            },
            "type": "scattermapbox"
           }
          ],
          "scatterpolar": [
           {
            "marker": {
             "colorbar": {
              "outlinewidth": 0,
              "ticks": ""
             }
            },
            "type": "scatterpolar"
           }
          ],
          "scatterpolargl": [
           {
            "marker": {
             "colorbar": {
              "outlinewidth": 0,
              "ticks": ""
             }
            },
            "type": "scatterpolargl"
           }
          ],
          "scatterternary": [
           {
            "marker": {
             "colorbar": {
              "outlinewidth": 0,
              "ticks": ""
             }
            },
            "type": "scatterternary"
           }
          ],
          "surface": [
           {
            "colorbar": {
             "outlinewidth": 0,
             "ticks": ""
            },
            "colorscale": [
             [
              0,
              "#0d0887"
             ],
             [
              0.1111111111111111,
              "#46039f"
             ],
             [
              0.2222222222222222,
              "#7201a8"
             ],
             [
              0.3333333333333333,
              "#9c179e"
             ],
             [
              0.4444444444444444,
              "#bd3786"
             ],
             [
              0.5555555555555556,
              "#d8576b"
             ],
             [
              0.6666666666666666,
              "#ed7953"
             ],
             [
              0.7777777777777778,
              "#fb9f3a"
             ],
             [
              0.8888888888888888,
              "#fdca26"
             ],
             [
              1,
              "#f0f921"
             ]
            ],
            "type": "surface"
           }
          ],
          "table": [
           {
            "cells": {
             "fill": {
              "color": "#EBF0F8"
             },
             "line": {
              "color": "white"
             }
            },
            "header": {
             "fill": {
              "color": "#C8D4E3"
             },
             "line": {
              "color": "white"
             }
            },
            "type": "table"
           }
          ]
         },
         "layout": {
          "annotationdefaults": {
           "arrowcolor": "#2a3f5f",
           "arrowhead": 0,
           "arrowwidth": 1
          },
          "autotypenumbers": "strict",
          "coloraxis": {
           "colorbar": {
            "outlinewidth": 0,
            "ticks": ""
           }
          },
          "colorscale": {
           "diverging": [
            [
             0,
             "#8e0152"
            ],
            [
             0.1,
             "#c51b7d"
            ],
            [
             0.2,
             "#de77ae"
            ],
            [
             0.3,
             "#f1b6da"
            ],
            [
             0.4,
             "#fde0ef"
            ],
            [
             0.5,
             "#f7f7f7"
            ],
            [
             0.6,
             "#e6f5d0"
            ],
            [
             0.7,
             "#b8e186"
            ],
            [
             0.8,
             "#7fbc41"
            ],
            [
             0.9,
             "#4d9221"
            ],
            [
             1,
             "#276419"
            ]
           ],
           "sequential": [
            [
             0,
             "#0d0887"
            ],
            [
             0.1111111111111111,
             "#46039f"
            ],
            [
             0.2222222222222222,
             "#7201a8"
            ],
            [
             0.3333333333333333,
             "#9c179e"
            ],
            [
             0.4444444444444444,
             "#bd3786"
            ],
            [
             0.5555555555555556,
             "#d8576b"
            ],
            [
             0.6666666666666666,
             "#ed7953"
            ],
            [
             0.7777777777777778,
             "#fb9f3a"
            ],
            [
             0.8888888888888888,
             "#fdca26"
            ],
            [
             1,
             "#f0f921"
            ]
           ],
           "sequentialminus": [
            [
             0,
             "#0d0887"
            ],
            [
             0.1111111111111111,
             "#46039f"
            ],
            [
             0.2222222222222222,
             "#7201a8"
            ],
            [
             0.3333333333333333,
             "#9c179e"
            ],
            [
             0.4444444444444444,
             "#bd3786"
            ],
            [
             0.5555555555555556,
             "#d8576b"
            ],
            [
             0.6666666666666666,
             "#ed7953"
            ],
            [
             0.7777777777777778,
             "#fb9f3a"
            ],
            [
             0.8888888888888888,
             "#fdca26"
            ],
            [
             1,
             "#f0f921"
            ]
           ]
          },
          "colorway": [
           "#636efa",
           "#EF553B",
           "#00cc96",
           "#ab63fa",
           "#FFA15A",
           "#19d3f3",
           "#FF6692",
           "#B6E880",
           "#FF97FF",
           "#FECB52"
          ],
          "font": {
           "color": "#2a3f5f"
          },
          "geo": {
           "bgcolor": "white",
           "lakecolor": "white",
           "landcolor": "white",
           "showlakes": true,
           "showland": true,
           "subunitcolor": "#C8D4E3"
          },
          "hoverlabel": {
           "align": "left"
          },
          "hovermode": "closest",
          "mapbox": {
           "style": "light"
          },
          "paper_bgcolor": "white",
          "plot_bgcolor": "white",
          "polar": {
           "angularaxis": {
            "gridcolor": "#EBF0F8",
            "linecolor": "#EBF0F8",
            "ticks": ""
           },
           "bgcolor": "white",
           "radialaxis": {
            "gridcolor": "#EBF0F8",
            "linecolor": "#EBF0F8",
            "ticks": ""
           }
          },
          "scene": {
           "xaxis": {
            "backgroundcolor": "white",
            "gridcolor": "#DFE8F3",
            "gridwidth": 2,
            "linecolor": "#EBF0F8",
            "showbackground": true,
            "ticks": "",
            "zerolinecolor": "#EBF0F8"
           },
           "yaxis": {
            "backgroundcolor": "white",
            "gridcolor": "#DFE8F3",
            "gridwidth": 2,
            "linecolor": "#EBF0F8",
            "showbackground": true,
            "ticks": "",
            "zerolinecolor": "#EBF0F8"
           },
           "zaxis": {
            "backgroundcolor": "white",
            "gridcolor": "#DFE8F3",
            "gridwidth": 2,
            "linecolor": "#EBF0F8",
            "showbackground": true,
            "ticks": "",
            "zerolinecolor": "#EBF0F8"
           }
          },
          "shapedefaults": {
           "line": {
            "color": "#2a3f5f"
           }
          },
          "ternary": {
           "aaxis": {
            "gridcolor": "#DFE8F3",
            "linecolor": "#A2B1C6",
            "ticks": ""
           },
           "baxis": {
            "gridcolor": "#DFE8F3",
            "linecolor": "#A2B1C6",
            "ticks": ""
           },
           "bgcolor": "white",
           "caxis": {
            "gridcolor": "#DFE8F3",
            "linecolor": "#A2B1C6",
            "ticks": ""
           }
          },
          "title": {
           "x": 0.05
          },
          "xaxis": {
           "automargin": true,
           "gridcolor": "#EBF0F8",
           "linecolor": "#EBF0F8",
           "ticks": "",
           "title": {
            "standoff": 15
           },
           "zerolinecolor": "#EBF0F8",
           "zerolinewidth": 2
          },
          "yaxis": {
           "automargin": true,
           "gridcolor": "#EBF0F8",
           "linecolor": "#EBF0F8",
           "ticks": "",
           "title": {
            "standoff": 15
           },
           "zerolinecolor": "#EBF0F8",
           "zerolinewidth": 2
          }
         }
        },
        "width": 1300,
        "xaxis": {
         "anchor": "y",
         "domain": [
          0,
          0.94
         ]
        },
        "yaxis": {
         "anchor": "x",
         "domain": [
          0,
          1
         ],
         "range": [
          0,
          5
         ],
         "title": {
          "font": {
           "size": 20
          },
          "text": "Normalised SID = SID / Number of Edges in DAG"
         }
        },
        "yaxis2": {
         "anchor": "x",
         "overlaying": "y",
         "range": [
          0,
          5
         ],
         "scaleanchor": 0,
         "showgrid": false,
         "showline": false,
         "showticklabels": false,
         "side": "right",
         "title": {
          "font": {
           "size": 20
          },
          "text": ""
         },
         "zeroline": true
        }
       }
      }
     },
     "metadata": {},
     "output_type": "display_data"
    }
   ],
   "source": [
    "fig = double_bar_chart_plotly(v1_bn_plot_data, \n",
    "                        names_dict,\n",
    "                        colors_dict,\n",
    "                        vars_to_plot=['n_sid_low', 'n_sid_high'],\n",
    "                        names=['Best', 'Worst'],\n",
    "                        labels=['Normalised SID = SID / Number of Edges in DAG', ''],\n",
    "                        methods=methods,\n",
    "                        dist_between_lines=0.1565,\n",
    "                        lin_space=6,\n",
    "                        nl_space=6,\n",
    "                        intra_dis = 0.161,\n",
    "                        inter_dis = 0.174,\n",
    "                        start_pos = 0.04,\n",
    "                            width=1300,\n",
    "                            height=600,\n",
    "                            range_y1=(0, 5),\n",
    "                            range_y2=(0, 5))\n",
    "fig.write_image(\"v1_v2_sid_bnlearn.png\", scale=3, width=1300, height=600)"
   ]
  },
  {
   "cell_type": "code",
   "execution_count": 20,
   "id": "059a6d4b",
   "metadata": {},
   "outputs": [
    {
     "data": {
      "application/vnd.plotly.v1+json": {
       "config": {
        "plotlyServerURL": "https://plot.ly"
       },
       "data": [
        {
         "error_y": {
          "array": {
           "bdata": "wZh0GlsF7T+Tajng6wHnP4uJrFAoNOY/",
           "dtype": "f8"
          },
          "type": "data",
          "visible": true
         },
         "marker": {
          "color": "grey"
         },
         "name": "Random",
         "offsetgroup": "0",
         "opacity": 0.6,
         "showlegend": true,
         "type": "bar",
         "x": [
          "cancer<br>|V|=5, |E|=4",
          "earthquake<br>|V|=5, |E|=4",
          "survey<br>|V|=6, |E|=6"
         ],
         "y": {
          "bdata": "w/UoXI/C/z+F61G4HoX/P36x5BdLfgFA",
          "dtype": "f8"
         },
         "yaxis": "y"
        },
        {
         "error_y": {
          "array": {
           "bdata": "mG8krVYo3j/RTRo9fuzVPw1R0OS56+A/",
           "dtype": "f8"
          },
          "type": "data",
          "visible": true
         },
         "marker": {
          "color": "#b85c00"
         },
         "name": "FGS",
         "offsetgroup": "1",
         "opacity": 0.6,
         "showlegend": true,
         "type": "bar",
         "x": [
          "cancer<br>|V|=5, |E|=4",
          "earthquake<br>|V|=5, |E|=4",
          "survey<br>|V|=6, |E|=6"
         ],
         "y": {
          "bdata": "H4XrUbge+T9mZmZmZmbyPzfQaQOdNgJA",
          "dtype": "f8"
         },
         "yaxis": "y"
        },
        {
         "error_y": {
          "array": {
           "bdata": "sdS2hhBd1z+4DAmXu7vkP3I8KKWxarQ/",
           "dtype": "f8"
          },
          "type": "data",
          "visible": true
         },
         "marker": {
          "color": "#9454c4"
         },
         "name": "NOTEARS-MLP",
         "offsetgroup": "2",
         "opacity": 0.6,
         "showlegend": true,
         "type": "bar",
         "x": [
          "cancer<br>|V|=5, |E|=4",
          "earthquake<br>|V|=5, |E|=4",
          "survey<br>|V|=6, |E|=6"
         ],
         "y": {
          "bdata": "CtejcD0KA0ApXI/C9SjcPzfQaQOdNgZA",
          "dtype": "f8"
         },
         "yaxis": "y"
        },
        {
         "error_y": {
          "array": {
           "bdata": "R/YvexUH3T8AAAAAAAAAAC9iX5/HMOI/",
           "dtype": "f8"
          },
          "type": "data",
          "visible": true
         },
         "marker": {
          "color": "#379f9f"
         },
         "name": "MPC",
         "offsetgroup": "3",
         "opacity": 0.6,
         "showlegend": true,
         "type": "bar",
         "x": [
          "cancer<br>|V|=5, |E|=4",
          "earthquake<br>|V|=5, |E|=4",
          "survey<br>|V|=6, |E|=6"
         ],
         "y": {
          "bdata": "CtejcD0K7z8AAAAAAAD0P2kDnTbQaes/",
          "dtype": "f8"
         },
         "yaxis": "y"
        },
        {
         "error_y": {
          "array": {
           "bdata": "RHUGrJ1F5j8AAAAAAAAAAKGq10wptOE/",
           "dtype": "f8"
          },
          "type": "data",
          "visible": true
         },
         "marker": {
          "color": "#0085CA"
         },
         "name": "ABAPC (Original)",
         "offsetgroup": "4",
         "opacity": 0.6,
         "showlegend": true,
         "type": "bar",
         "x": [
          "cancer<br>|V|=5, |E|=4",
          "earthquake<br>|V|=5, |E|=4",
          "survey<br>|V|=6, |E|=6"
         ],
         "y": {
          "bdata": "PQrXo3A9AUAAAAAAAAAAAPOLJb9Y8gNA",
          "dtype": "f8"
         },
         "yaxis": "y"
        },
        {
         "error_y": {
          "array": {
           "bdata": "NZnZ6a0X0T9m+HUt4y7qPxh/2BbMUt4/",
           "dtype": "f8"
          },
          "type": "data",
          "visible": true
         },
         "marker": {
          "color": "#ff8c00"
         },
         "name": "V2",
         "offsetgroup": "5",
         "opacity": 0.6,
         "showlegend": true,
         "type": "bar",
         "x": [
          "cancer<br>|V|=5, |E|=4",
          "earthquake<br>|V|=5, |E|=4",
          "survey<br>|V|=6, |E|=6"
         ],
         "y": {
          "bdata": "7FG4HoXrA0C4HoXrUbjyP4mIiIiIiARA",
          "dtype": "f8"
         },
         "yaxis": "y"
        },
        {
         "marker": {
          "color": "white"
         },
         "name": "",
         "offsetgroup": "6",
         "opacity": 1,
         "showlegend": false,
         "type": "bar",
         "x": [
          "cancer<br>|V|=5, |E|=4",
          "earthquake<br>|V|=5, |E|=4",
          "survey<br>|V|=6, |E|=6"
         ],
         "y": {
          "bdata": "AAAAAAAAAAAAAAAAAAAAAAAAAAAAAAAA",
          "dtype": "f8"
         }
        },
        {
         "error_y": {
          "array": {
           "bdata": "DMgDVtM96D904aadIrLrP9ExwqQ7Z+c/",
           "dtype": "f8"
          },
          "type": "data",
          "visible": true
         },
         "marker": {
          "color": "grey"
         },
         "name": "Random",
         "offsetgroup": "7",
         "opacity": 0.6,
         "showlegend": false,
         "type": "bar",
         "x": [
          "cancer<br>|V|=5, |E|=4",
          "earthquake<br>|V|=5, |E|=4",
          "survey<br>|V|=6, |E|=6"
         ],
         "y": {
          "bdata": "FK5H4XoUDEDD9Shcj8ILQNBpA5020A1A",
          "dtype": "f8"
         },
         "yaxis": "y2"
        },
        {
         "error_y": {
          "array": {
           "bdata": "l28krVYo3j9SxRsu+qu/P50u7O2DduI/",
           "dtype": "f8"
          },
          "type": "data",
          "visible": true
         },
         "marker": {
          "color": "#b85c00"
         },
         "name": "FGS",
         "offsetgroup": "8",
         "opacity": 0.6,
         "showlegend": false,
         "type": "bar",
         "x": [
          "cancer<br>|V|=5, |E|=4",
          "earthquake<br>|V|=5, |E|=4",
          "survey<br>|V|=6, |E|=6"
         ],
         "y": {
          "bdata": "SOF6FK5HEEAAAAAAAAAOQIwlv1jyiwtA",
          "dtype": "f8"
         },
         "yaxis": "y2"
        },
        {
         "error_y": {
          "array": {
           "bdata": "cL00uOrHuj97MXc2dWvePwAAAAAAAAAA",
           "dtype": "f8"
          },
          "type": "data",
          "visible": true
         },
         "marker": {
          "color": "#9454c4"
         },
         "name": "NOTEARS-MLP",
         "offsetgroup": "9",
         "opacity": 0.6,
         "showlegend": false,
         "type": "bar",
         "x": [
          "cancer<br>|V|=5, |E|=4",
          "earthquake<br>|V|=5, |E|=4",
          "survey<br>|V|=6, |E|=6"
         ],
         "y": {
          "bdata": "cT0K16NwBECF61G4HoUNQKuqqqqqqgZA",
          "dtype": "f8"
         },
         "yaxis": "y2"
        },
        {
         "error_y": {
          "array": {
           "bdata": "SPYvexUH3T8AAAAAAAAAAExZDgiiRuc/",
           "dtype": "f8"
          },
          "type": "data",
          "visible": true
         },
         "marker": {
          "color": "#379f9f"
         },
         "name": "MPC",
         "offsetgroup": "10",
         "opacity": 0.6,
         "showlegend": false,
         "type": "bar",
         "x": [
          "cancer<br>|V|=5, |E|=4",
          "earthquake<br>|V|=5, |E|=4",
          "survey<br>|V|=6, |E|=6"
         ],
         "y": {
          "bdata": "w/UoXI/CC0AAAAAAAAAOQNQGOm2g0wpA",
          "dtype": "f8"
         },
         "yaxis": "y2"
        },
        {
         "error_y": {
          "array": {
           "bdata": "uo0PzuDQ4D+zxGm/DivyP9kuw0TSD98/",
           "dtype": "f8"
          },
          "type": "data",
          "visible": true
         },
         "marker": {
          "color": "#0085CA"
         },
         "name": "ABAPC (Original)",
         "offsetgroup": "11",
         "opacity": 0.6,
         "showlegend": false,
         "type": "bar",
         "x": [
          "cancer<br>|V|=5, |E|=4",
          "earthquake<br>|V|=5, |E|=4",
          "survey<br>|V|=6, |E|=6"
         ],
         "y": {
          "bdata": "mpmZmZmZBkCkcD0K16MCQNBpA5020AVA",
          "dtype": "f8"
         },
         "yaxis": "y2"
        },
        {
         "error_y": {
          "array": {
           "bdata": "kFND/CWz4D9PnSYL/wb1P89GcSXJadw/",
           "dtype": "f8"
          },
          "type": "data",
          "visible": true
         },
         "marker": {
          "color": "#ff8c00"
         },
         "name": "V2",
         "offsetgroup": "12",
         "opacity": 0.6,
         "showlegend": false,
         "type": "bar",
         "x": [
          "cancer<br>|V|=5, |E|=4",
          "earthquake<br>|V|=5, |E|=4",
          "survey<br>|V|=6, |E|=6"
         ],
         "y": {
          "bdata": "uB6F61G4BkCPwvUoXI8MQDttoNMGOglA",
          "dtype": "f8"
         },
         "yaxis": "y2"
        }
       ],
       "layout": {
        "annotations": [
         {
          "font": {
           "color": "Black",
           "family": "Serif",
           "size": 20
          },
          "showarrow": false,
          "text": "Dataset:",
          "x": 0,
          "xanchor": "center",
          "xref": "paper",
          "y": -0.08,
          "yanchor": "bottom",
          "yref": "paper"
         },
         {
          "bgcolor": "#E5ECF6",
          "bordercolor": "#E5ECF6",
          "borderwidth": 2,
          "font": {
           "color": "black",
           "size": 20
          },
          "opacity": 0.8,
          "showarrow": false,
          "text": "      Best      ",
          "x": 0.04,
          "xanchor": "left",
          "xref": "x domain",
          "y": 1.015,
          "yref": "y domain"
         },
         {
          "bgcolor": "#E5ECF6",
          "bordercolor": "#E5ECF6",
          "borderwidth": 2,
          "font": {
           "color": "black",
           "size": 20
          },
          "opacity": 0.8,
          "showarrow": false,
          "text": "      Worst      ",
          "x": 0.201,
          "xanchor": "left",
          "xref": "x domain",
          "y": 1.015,
          "yref": "y domain"
         },
         {
          "bgcolor": "#E5ECF6",
          "bordercolor": "#E5ECF6",
          "borderwidth": 2,
          "font": {
           "color": "black",
           "size": 20
          },
          "opacity": 0.8,
          "showarrow": false,
          "text": "      Best      ",
          "x": 0.375,
          "xanchor": "left",
          "xref": "x domain",
          "y": 1.015,
          "yref": "y domain"
         },
         {
          "bgcolor": "#E5ECF6",
          "bordercolor": "#E5ECF6",
          "borderwidth": 2,
          "font": {
           "color": "black",
           "size": 20
          },
          "opacity": 0.8,
          "showarrow": false,
          "text": "      Worst      ",
          "x": 0.536,
          "xanchor": "left",
          "xref": "x domain",
          "y": 1.015,
          "yref": "y domain"
         },
         {
          "bgcolor": "#E5ECF6",
          "bordercolor": "#E5ECF6",
          "borderwidth": 2,
          "font": {
           "color": "black",
           "size": 20
          },
          "opacity": 0.8,
          "showarrow": false,
          "text": "      Best      ",
          "x": 0.71,
          "xanchor": "left",
          "xref": "x domain",
          "y": 1.015,
          "yref": "y domain"
         },
         {
          "bgcolor": "#E5ECF6",
          "bordercolor": "#E5ECF6",
          "borderwidth": 2,
          "font": {
           "color": "black",
           "size": 20
          },
          "opacity": 0.8,
          "showarrow": false,
          "text": "      Worst      ",
          "x": 0.871,
          "xanchor": "left",
          "xref": "x domain",
          "y": 1.015,
          "yref": "y domain"
         }
        ],
        "bargap": 0.15,
        "bargroupgap": 0.15,
        "barmode": "group",
        "font": {
         "color": "black",
         "family": "Serif",
         "size": 20
        },
        "height": 600,
        "hovermode": "x unified",
        "legend": {
         "orientation": "h",
         "x": 0.5,
         "xanchor": "center",
         "y": 1.1,
         "yanchor": "top"
        },
        "margin": {
         "b": 70,
         "l": 40,
         "r": 0,
         "t": 20
        },
        "shapes": [
         {
          "layer": "below",
          "line": {
           "color": "grey",
           "dash": "dash",
           "width": 1
          },
          "type": "line",
          "x0": 0.1565,
          "x1": 0.1565,
          "xref": "paper",
          "y0": 0,
          "y1": 1,
          "yref": "paper"
         },
         {
          "layer": "below",
          "line": {
           "color": "black",
           "dash": "solid",
           "width": 1
          },
          "type": "line",
          "x0": 0.313,
          "x1": 0.313,
          "xref": "paper",
          "y0": 0,
          "y1": 1,
          "yref": "paper"
         },
         {
          "layer": "below",
          "line": {
           "color": "grey",
           "dash": "dash",
           "width": 1
          },
          "type": "line",
          "x0": 0.46950000000000003,
          "x1": 0.46950000000000003,
          "xref": "paper",
          "y0": 0,
          "y1": 1,
          "yref": "paper"
         },
         {
          "layer": "below",
          "line": {
           "color": "black",
           "dash": "solid",
           "width": 1
          },
          "type": "line",
          "x0": 0.626,
          "x1": 0.626,
          "xref": "paper",
          "y0": 0,
          "y1": 1,
          "yref": "paper"
         },
         {
          "layer": "below",
          "line": {
           "color": "grey",
           "dash": "dash",
           "width": 1
          },
          "type": "line",
          "x0": 0.7825,
          "x1": 0.7825,
          "xref": "paper",
          "y0": 0,
          "y1": 1,
          "yref": "paper"
         },
         {
          "layer": "below",
          "line": {
           "color": "black",
           "dash": "solid",
           "width": 1
          },
          "type": "line",
          "x0": 0.939,
          "x1": 0.939,
          "xref": "paper",
          "y0": 0,
          "y1": 1,
          "yref": "paper"
         }
        ],
        "template": {
         "data": {
          "bar": [
           {
            "error_x": {
             "color": "#2a3f5f"
            },
            "error_y": {
             "color": "#2a3f5f"
            },
            "marker": {
             "line": {
              "color": "white",
              "width": 0.5
             },
             "pattern": {
              "fillmode": "overlay",
              "size": 10,
              "solidity": 0.2
             }
            },
            "type": "bar"
           }
          ],
          "barpolar": [
           {
            "marker": {
             "line": {
              "color": "white",
              "width": 0.5
             },
             "pattern": {
              "fillmode": "overlay",
              "size": 10,
              "solidity": 0.2
             }
            },
            "type": "barpolar"
           }
          ],
          "carpet": [
           {
            "aaxis": {
             "endlinecolor": "#2a3f5f",
             "gridcolor": "#C8D4E3",
             "linecolor": "#C8D4E3",
             "minorgridcolor": "#C8D4E3",
             "startlinecolor": "#2a3f5f"
            },
            "baxis": {
             "endlinecolor": "#2a3f5f",
             "gridcolor": "#C8D4E3",
             "linecolor": "#C8D4E3",
             "minorgridcolor": "#C8D4E3",
             "startlinecolor": "#2a3f5f"
            },
            "type": "carpet"
           }
          ],
          "choropleth": [
           {
            "colorbar": {
             "outlinewidth": 0,
             "ticks": ""
            },
            "type": "choropleth"
           }
          ],
          "contour": [
           {
            "colorbar": {
             "outlinewidth": 0,
             "ticks": ""
            },
            "colorscale": [
             [
              0,
              "#0d0887"
             ],
             [
              0.1111111111111111,
              "#46039f"
             ],
             [
              0.2222222222222222,
              "#7201a8"
             ],
             [
              0.3333333333333333,
              "#9c179e"
             ],
             [
              0.4444444444444444,
              "#bd3786"
             ],
             [
              0.5555555555555556,
              "#d8576b"
             ],
             [
              0.6666666666666666,
              "#ed7953"
             ],
             [
              0.7777777777777778,
              "#fb9f3a"
             ],
             [
              0.8888888888888888,
              "#fdca26"
             ],
             [
              1,
              "#f0f921"
             ]
            ],
            "type": "contour"
           }
          ],
          "contourcarpet": [
           {
            "colorbar": {
             "outlinewidth": 0,
             "ticks": ""
            },
            "type": "contourcarpet"
           }
          ],
          "heatmap": [
           {
            "colorbar": {
             "outlinewidth": 0,
             "ticks": ""
            },
            "colorscale": [
             [
              0,
              "#0d0887"
             ],
             [
              0.1111111111111111,
              "#46039f"
             ],
             [
              0.2222222222222222,
              "#7201a8"
             ],
             [
              0.3333333333333333,
              "#9c179e"
             ],
             [
              0.4444444444444444,
              "#bd3786"
             ],
             [
              0.5555555555555556,
              "#d8576b"
             ],
             [
              0.6666666666666666,
              "#ed7953"
             ],
             [
              0.7777777777777778,
              "#fb9f3a"
             ],
             [
              0.8888888888888888,
              "#fdca26"
             ],
             [
              1,
              "#f0f921"
             ]
            ],
            "type": "heatmap"
           }
          ],
          "histogram": [
           {
            "marker": {
             "pattern": {
              "fillmode": "overlay",
              "size": 10,
              "solidity": 0.2
             }
            },
            "type": "histogram"
           }
          ],
          "histogram2d": [
           {
            "colorbar": {
             "outlinewidth": 0,
             "ticks": ""
            },
            "colorscale": [
             [
              0,
              "#0d0887"
             ],
             [
              0.1111111111111111,
              "#46039f"
             ],
             [
              0.2222222222222222,
              "#7201a8"
             ],
             [
              0.3333333333333333,
              "#9c179e"
             ],
             [
              0.4444444444444444,
              "#bd3786"
             ],
             [
              0.5555555555555556,
              "#d8576b"
             ],
             [
              0.6666666666666666,
              "#ed7953"
             ],
             [
              0.7777777777777778,
              "#fb9f3a"
             ],
             [
              0.8888888888888888,
              "#fdca26"
             ],
             [
              1,
              "#f0f921"
             ]
            ],
            "type": "histogram2d"
           }
          ],
          "histogram2dcontour": [
           {
            "colorbar": {
             "outlinewidth": 0,
             "ticks": ""
            },
            "colorscale": [
             [
              0,
              "#0d0887"
             ],
             [
              0.1111111111111111,
              "#46039f"
             ],
             [
              0.2222222222222222,
              "#7201a8"
             ],
             [
              0.3333333333333333,
              "#9c179e"
             ],
             [
              0.4444444444444444,
              "#bd3786"
             ],
             [
              0.5555555555555556,
              "#d8576b"
             ],
             [
              0.6666666666666666,
              "#ed7953"
             ],
             [
              0.7777777777777778,
              "#fb9f3a"
             ],
             [
              0.8888888888888888,
              "#fdca26"
             ],
             [
              1,
              "#f0f921"
             ]
            ],
            "type": "histogram2dcontour"
           }
          ],
          "mesh3d": [
           {
            "colorbar": {
             "outlinewidth": 0,
             "ticks": ""
            },
            "type": "mesh3d"
           }
          ],
          "parcoords": [
           {
            "line": {
             "colorbar": {
              "outlinewidth": 0,
              "ticks": ""
             }
            },
            "type": "parcoords"
           }
          ],
          "pie": [
           {
            "automargin": true,
            "type": "pie"
           }
          ],
          "scatter": [
           {
            "fillpattern": {
             "fillmode": "overlay",
             "size": 10,
             "solidity": 0.2
            },
            "type": "scatter"
           }
          ],
          "scatter3d": [
           {
            "line": {
             "colorbar": {
              "outlinewidth": 0,
              "ticks": ""
             }
            },
            "marker": {
             "colorbar": {
              "outlinewidth": 0,
              "ticks": ""
             }
            },
            "type": "scatter3d"
           }
          ],
          "scattercarpet": [
           {
            "marker": {
             "colorbar": {
              "outlinewidth": 0,
              "ticks": ""
             }
            },
            "type": "scattercarpet"
           }
          ],
          "scattergeo": [
           {
            "marker": {
             "colorbar": {
              "outlinewidth": 0,
              "ticks": ""
             }
            },
            "type": "scattergeo"
           }
          ],
          "scattergl": [
           {
            "marker": {
             "colorbar": {
              "outlinewidth": 0,
              "ticks": ""
             }
            },
            "type": "scattergl"
           }
          ],
          "scattermap": [
           {
            "marker": {
             "colorbar": {
              "outlinewidth": 0,
              "ticks": ""
             }
            },
            "type": "scattermap"
           }
          ],
          "scattermapbox": [
           {
            "marker": {
             "colorbar": {
              "outlinewidth": 0,
              "ticks": ""
             }
            },
            "type": "scattermapbox"
           }
          ],
          "scatterpolar": [
           {
            "marker": {
             "colorbar": {
              "outlinewidth": 0,
              "ticks": ""
             }
            },
            "type": "scatterpolar"
           }
          ],
          "scatterpolargl": [
           {
            "marker": {
             "colorbar": {
              "outlinewidth": 0,
              "ticks": ""
             }
            },
            "type": "scatterpolargl"
           }
          ],
          "scatterternary": [
           {
            "marker": {
             "colorbar": {
              "outlinewidth": 0,
              "ticks": ""
             }
            },
            "type": "scatterternary"
           }
          ],
          "surface": [
           {
            "colorbar": {
             "outlinewidth": 0,
             "ticks": ""
            },
            "colorscale": [
             [
              0,
              "#0d0887"
             ],
             [
              0.1111111111111111,
              "#46039f"
             ],
             [
              0.2222222222222222,
              "#7201a8"
             ],
             [
              0.3333333333333333,
              "#9c179e"
             ],
             [
              0.4444444444444444,
              "#bd3786"
             ],
             [
              0.5555555555555556,
              "#d8576b"
             ],
             [
              0.6666666666666666,
              "#ed7953"
             ],
             [
              0.7777777777777778,
              "#fb9f3a"
             ],
             [
              0.8888888888888888,
              "#fdca26"
             ],
             [
              1,
              "#f0f921"
             ]
            ],
            "type": "surface"
           }
          ],
          "table": [
           {
            "cells": {
             "fill": {
              "color": "#EBF0F8"
             },
             "line": {
              "color": "white"
             }
            },
            "header": {
             "fill": {
              "color": "#C8D4E3"
             },
             "line": {
              "color": "white"
             }
            },
            "type": "table"
           }
          ]
         },
         "layout": {
          "annotationdefaults": {
           "arrowcolor": "#2a3f5f",
           "arrowhead": 0,
           "arrowwidth": 1
          },
          "autotypenumbers": "strict",
          "coloraxis": {
           "colorbar": {
            "outlinewidth": 0,
            "ticks": ""
           }
          },
          "colorscale": {
           "diverging": [
            [
             0,
             "#8e0152"
            ],
            [
             0.1,
             "#c51b7d"
            ],
            [
             0.2,
             "#de77ae"
            ],
            [
             0.3,
             "#f1b6da"
            ],
            [
             0.4,
             "#fde0ef"
            ],
            [
             0.5,
             "#f7f7f7"
            ],
            [
             0.6,
             "#e6f5d0"
            ],
            [
             0.7,
             "#b8e186"
            ],
            [
             0.8,
             "#7fbc41"
            ],
            [
             0.9,
             "#4d9221"
            ],
            [
             1,
             "#276419"
            ]
           ],
           "sequential": [
            [
             0,
             "#0d0887"
            ],
            [
             0.1111111111111111,
             "#46039f"
            ],
            [
             0.2222222222222222,
             "#7201a8"
            ],
            [
             0.3333333333333333,
             "#9c179e"
            ],
            [
             0.4444444444444444,
             "#bd3786"
            ],
            [
             0.5555555555555556,
             "#d8576b"
            ],
            [
             0.6666666666666666,
             "#ed7953"
            ],
            [
             0.7777777777777778,
             "#fb9f3a"
            ],
            [
             0.8888888888888888,
             "#fdca26"
            ],
            [
             1,
             "#f0f921"
            ]
           ],
           "sequentialminus": [
            [
             0,
             "#0d0887"
            ],
            [
             0.1111111111111111,
             "#46039f"
            ],
            [
             0.2222222222222222,
             "#7201a8"
            ],
            [
             0.3333333333333333,
             "#9c179e"
            ],
            [
             0.4444444444444444,
             "#bd3786"
            ],
            [
             0.5555555555555556,
             "#d8576b"
            ],
            [
             0.6666666666666666,
             "#ed7953"
            ],
            [
             0.7777777777777778,
             "#fb9f3a"
            ],
            [
             0.8888888888888888,
             "#fdca26"
            ],
            [
             1,
             "#f0f921"
            ]
           ]
          },
          "colorway": [
           "#636efa",
           "#EF553B",
           "#00cc96",
           "#ab63fa",
           "#FFA15A",
           "#19d3f3",
           "#FF6692",
           "#B6E880",
           "#FF97FF",
           "#FECB52"
          ],
          "font": {
           "color": "#2a3f5f"
          },
          "geo": {
           "bgcolor": "white",
           "lakecolor": "white",
           "landcolor": "white",
           "showlakes": true,
           "showland": true,
           "subunitcolor": "#C8D4E3"
          },
          "hoverlabel": {
           "align": "left"
          },
          "hovermode": "closest",
          "mapbox": {
           "style": "light"
          },
          "paper_bgcolor": "white",
          "plot_bgcolor": "white",
          "polar": {
           "angularaxis": {
            "gridcolor": "#EBF0F8",
            "linecolor": "#EBF0F8",
            "ticks": ""
           },
           "bgcolor": "white",
           "radialaxis": {
            "gridcolor": "#EBF0F8",
            "linecolor": "#EBF0F8",
            "ticks": ""
           }
          },
          "scene": {
           "xaxis": {
            "backgroundcolor": "white",
            "gridcolor": "#DFE8F3",
            "gridwidth": 2,
            "linecolor": "#EBF0F8",
            "showbackground": true,
            "ticks": "",
            "zerolinecolor": "#EBF0F8"
           },
           "yaxis": {
            "backgroundcolor": "white",
            "gridcolor": "#DFE8F3",
            "gridwidth": 2,
            "linecolor": "#EBF0F8",
            "showbackground": true,
            "ticks": "",
            "zerolinecolor": "#EBF0F8"
           },
           "zaxis": {
            "backgroundcolor": "white",
            "gridcolor": "#DFE8F3",
            "gridwidth": 2,
            "linecolor": "#EBF0F8",
            "showbackground": true,
            "ticks": "",
            "zerolinecolor": "#EBF0F8"
           }
          },
          "shapedefaults": {
           "line": {
            "color": "#2a3f5f"
           }
          },
          "ternary": {
           "aaxis": {
            "gridcolor": "#DFE8F3",
            "linecolor": "#A2B1C6",
            "ticks": ""
           },
           "baxis": {
            "gridcolor": "#DFE8F3",
            "linecolor": "#A2B1C6",
            "ticks": ""
           },
           "bgcolor": "white",
           "caxis": {
            "gridcolor": "#DFE8F3",
            "linecolor": "#A2B1C6",
            "ticks": ""
           }
          },
          "title": {
           "x": 0.05
          },
          "xaxis": {
           "automargin": true,
           "gridcolor": "#EBF0F8",
           "linecolor": "#EBF0F8",
           "ticks": "",
           "title": {
            "standoff": 15
           },
           "zerolinecolor": "#EBF0F8",
           "zerolinewidth": 2
          },
          "yaxis": {
           "automargin": true,
           "gridcolor": "#EBF0F8",
           "linecolor": "#EBF0F8",
           "ticks": "",
           "title": {
            "standoff": 15
           },
           "zerolinecolor": "#EBF0F8",
           "zerolinewidth": 2
          }
         }
        },
        "width": 1300,
        "xaxis": {
         "anchor": "y",
         "domain": [
          0,
          0.94
         ]
        },
        "yaxis": {
         "anchor": "x",
         "domain": [
          0,
          1
         ],
         "range": [
          0,
          5
         ],
         "title": {
          "font": {
           "size": 20
          },
          "text": "Normalised SID = SID / Number of Edges in DAG"
         }
        },
        "yaxis2": {
         "anchor": "x",
         "overlaying": "y",
         "range": [
          0,
          5
         ],
         "scaleanchor": 0,
         "showgrid": false,
         "showline": false,
         "showticklabels": false,
         "side": "right",
         "title": {
          "font": {
           "size": 20
          },
          "text": ""
         },
         "zeroline": true
        }
       }
      }
     },
     "metadata": {},
     "output_type": "display_data"
    }
   ],
   "source": [
    "fig = double_bar_chart_plotly(v1_bn_plot_data, \n",
    "                        names_dict,\n",
    "                        colors_dict,\n",
    "                        vars_to_plot=['n_sid_low', 'n_sid_high'],\n",
    "                        names=['Best', 'Worst'],\n",
    "                        labels=['Normalised SID = SID / Number of Edges in DAG', ''],\n",
    "                        methods=[\n",
    "    'Random',\n",
    "    'FGS',\n",
    "    'NOTEARS-MLP',\n",
    "    'MPC',\n",
    "    'ABAPC (Original)',\n",
    "    # 'V1.1 Refined Fact Ranking',\n",
    "    # 'V1.2 Model Selection by Refined Fact Strengths',\n",
    "    # 'V1.3 Model Selection by Arrows Sum',\n",
    "    # 'V1.4 Model Selection by Arrows Mean',\n",
    "    'V2',\n",
    "],\n",
    "                        dist_between_lines=0.1565,\n",
    "                        lin_space=6,\n",
    "                        nl_space=6,\n",
    "                        intra_dis = 0.161,\n",
    "                        inter_dis = 0.174,\n",
    "                        start_pos = 0.04,\n",
    "                            width=1300,\n",
    "                            height=600,\n",
    "                            range_y1=(0, 5),\n",
    "                            range_y2=(0, 5))\n",
    "\n",
    "fig.write_image('v2-sid-small.png', scale=3, width=1300, height=600)"
   ]
  },
  {
   "cell_type": "markdown",
   "id": "6108af5f",
   "metadata": {},
   "source": [
    "Runtime for V1"
   ]
  },
  {
   "cell_type": "code",
   "execution_count": 21,
   "id": "41f03be8",
   "metadata": {},
   "outputs": [],
   "source": [
    "methods = [\n",
    "    # 'Random',\n",
    "    # 'FGS',\n",
    "    # 'NOTEARS-MLP',\n",
    "    # 'MPC',\n",
    "    'ABAPC (Original)',\n",
    "    'V1.1 Refined Fact Ranking',\n",
    "    'V1.2 Model Selection by Refined Fact Strengths',\n",
    "    'V1.3 Model Selection by Arrows Sum',\n",
    "    'V1.4 Model Selection by Arrows Mean',\n",
    "    'V2',\n",
    "]\n",
    "\n",
    "symbols_dict = {\n",
    "    'ABAPC (Original)':'triangle-down-dot',\n",
    "    'FGS':'triangle-up-dot',\n",
    "    'NOTEARS-MLP':'pentagon-dot',\n",
    "    'MPC':'hexagon2-dot',\n",
    "    'Random':'x', \n",
    "    'V1.1 Refined Fact Ranking':'circle-dot',\n",
    "    'V1.2 Model Selection by Refined Fact Strengths':'diamond-dot',\n",
    "    'V1.3 Model Selection by Arrows Sum':'square-dot',\n",
    "    'V1.4 Model Selection by Arrows Mean':'star-dot',\n",
    "    'V2':'circle-dot'}"
   ]
  },
  {
   "cell_type": "code",
   "execution_count": 22,
   "id": "5592fa96",
   "metadata": {},
   "outputs": [],
   "source": [
    "v1_data_for_runtime_plot = pd.concat([v1_data_with_model_names, baselines_data_random, v2_data_random], ignore_index=True)\n",
    "\n",
    "v1_data_for_runtime_plot = v1_data_for_runtime_plot.groupby(['n_nodes', 'n_edges', 'model'], as_index=False).aggregate(\n",
    "    elapsed_mean=('elapsed', 'mean'),\n",
    "    elapsed_std=('elapsed', 'std')\n",
    ")"
   ]
  },
  {
   "cell_type": "code",
   "execution_count": 23,
   "id": "9a192c4d",
   "metadata": {},
   "outputs": [
    {
     "data": {
      "application/vnd.plotly.v1+json": {
       "config": {
        "plotlyServerURL": "https://plot.ly"
       },
       "data": [
        {
         "error_y": {
          "array": {
           "bdata": "BfZW952VgD+ggX0izmbJP48XXnSVg9M/Y6Hj2WYVQEA=",
           "dtype": "f8"
          },
          "thickness": 2,
          "type": "data"
         },
         "line": {
          "color": "#0085CA",
          "width": 2
         },
         "marker": {
          "color": "#0085CA",
          "size": 8,
          "symbol": "triangle-down-dot"
         },
         "mode": "lines+markers",
         "name": "ABAPC (Original)",
         "opacity": 0.8,
         "type": "scatter",
         "x": [
          "3",
          "4",
          "5",
          "6"
         ],
         "y": {
          "bdata": "zShcjxK+lT894XoUfDC1P/7//3/uo9E/MzMzK0VxI0A=",
          "dtype": "f8"
         }
        },
        {
         "error_y": {
          "array": {
           "bdata": "hjEVxCU7kD/EJZCZMiCiP8J3GcD47Lk/mHYJ0tsEAkA=",
           "dtype": "f8"
          },
          "thickness": 2,
          "type": "data"
         },
         "line": {
          "color": "#9F8D00",
          "width": 2
         },
         "marker": {
          "color": "#9F8D00",
          "size": 8,
          "symbol": "circle-dot"
         },
         "mode": "lines+markers",
         "name": "V1.1",
         "opacity": 0.8,
         "type": "scatter",
         "x": [
          "3",
          "4",
          "5",
          "6"
         ],
         "y": {
          "bdata": "7K1H4cL1qD9A4XoUCobFPwrXozDcK/c/w/UoNfVCQEA=",
          "dtype": "f8"
         }
        },
        {
         "error_y": {
          "array": {
           "bdata": "8eiTg+oGgT+/HEu5kWbJPxdfdG+6Csw/27zucu9TL0A=",
           "dtype": "f8"
          },
          "thickness": 2,
          "type": "data"
         },
         "line": {
          "color": "#9E0000",
          "width": 2
         },
         "marker": {
          "color": "#9E0000",
          "size": 8,
          "symbol": "diamond-dot"
         },
         "mode": "lines+markers",
         "name": "V1.2",
         "opacity": 0.8,
         "type": "scatter",
         "x": [
          "3",
          "4",
          "5",
          "6"
         ],
         "y": {
          "bdata": "49ajcKGxpT+ccD0KBRvJPzMzM5NA/fg/7FG48mu3QkA=",
          "dtype": "f8"
         }
        },
        {
         "error_y": {
          "array": {
           "bdata": "cx5jrPIMgj89qmbiLWDJP26/4+WJi8A/Rby/g4XsCUA=",
           "dtype": "f8"
          },
          "thickness": 2,
          "type": "data"
         },
         "line": {
          "color": "#ff34da",
          "width": 2
         },
         "marker": {
          "color": "#ff34da",
          "size": 8,
          "symbol": "square-dot"
         },
         "mode": "lines+markers",
         "name": "V1.3",
         "opacity": 0.8,
         "type": "scatter",
         "x": [
          "3",
          "4",
          "5",
          "6"
         ],
         "y": {
          "bdata": "UxSuR2kJpT9A4XoUlY3IPx+F6/HmIvg/KVyPcO71QEA=",
          "dtype": "f8"
         }
        },
        {
         "error_y": {
          "array": {
           "bdata": "MvavVj46gT+XsEjkn17JPxdtIqzCcMA/7djUJT31CUA=",
           "dtype": "f8"
          },
          "thickness": 2,
          "type": "data"
         },
         "line": {
          "color": "#008100",
          "width": 2
         },
         "marker": {
          "color": "#008100",
          "size": 8,
          "symbol": "star-dot"
         },
         "mode": "lines+markers",
         "name": "V1.4 ",
         "opacity": 0.8,
         "type": "scatter",
         "x": [
          "3",
          "4",
          "5",
          "6"
         ],
         "y": {
          "bdata": "uHoUruvUpD9pPQrXjpTIP5qZmTljJPg/pHA99Tj2QEA=",
          "dtype": "f8"
         }
        },
        {
         "error_y": {
          "array": {
           "bdata": "U5HGSXcUWz/cehFZ8LKpP32Csdu/6t8/VIzxwTWV6D8=",
           "dtype": "f8"
          },
          "thickness": 2,
          "type": "data"
         },
         "line": {
          "color": "#ff8c00",
          "width": 2
         },
         "marker": {
          "color": "#ff8c00",
          "size": 8,
          "symbol": "circle-dot"
         },
         "mode": "lines+markers",
         "name": "V2",
         "opacity": 0.8,
         "type": "scatter",
         "x": [
          "3",
          "4",
          "5",
          "6"
         ],
         "y": {
          "bdata": "oXoUrvfKnD8RrkdhotzUP83MzMxTvwFAUrgeh6WXMkA=",
          "dtype": "f8"
         }
        }
       ],
       "layout": {
        "font": {
         "color": "black",
         "family": "Serif",
         "size": 20
        },
        "height": 300,
        "legend": {
         "orientation": "h",
         "x": 0.5,
         "xanchor": "center",
         "y": 1.05,
         "yanchor": "bottom"
        },
        "margin": {
         "b": 80,
         "l": 10,
         "r": 10,
         "t": 10
        },
        "template": {
         "data": {
          "bar": [
           {
            "error_x": {
             "color": "#2a3f5f"
            },
            "error_y": {
             "color": "#2a3f5f"
            },
            "marker": {
             "line": {
              "color": "white",
              "width": 0.5
             },
             "pattern": {
              "fillmode": "overlay",
              "size": 10,
              "solidity": 0.2
             }
            },
            "type": "bar"
           }
          ],
          "barpolar": [
           {
            "marker": {
             "line": {
              "color": "white",
              "width": 0.5
             },
             "pattern": {
              "fillmode": "overlay",
              "size": 10,
              "solidity": 0.2
             }
            },
            "type": "barpolar"
           }
          ],
          "carpet": [
           {
            "aaxis": {
             "endlinecolor": "#2a3f5f",
             "gridcolor": "#C8D4E3",
             "linecolor": "#C8D4E3",
             "minorgridcolor": "#C8D4E3",
             "startlinecolor": "#2a3f5f"
            },
            "baxis": {
             "endlinecolor": "#2a3f5f",
             "gridcolor": "#C8D4E3",
             "linecolor": "#C8D4E3",
             "minorgridcolor": "#C8D4E3",
             "startlinecolor": "#2a3f5f"
            },
            "type": "carpet"
           }
          ],
          "choropleth": [
           {
            "colorbar": {
             "outlinewidth": 0,
             "ticks": ""
            },
            "type": "choropleth"
           }
          ],
          "contour": [
           {
            "colorbar": {
             "outlinewidth": 0,
             "ticks": ""
            },
            "colorscale": [
             [
              0,
              "#0d0887"
             ],
             [
              0.1111111111111111,
              "#46039f"
             ],
             [
              0.2222222222222222,
              "#7201a8"
             ],
             [
              0.3333333333333333,
              "#9c179e"
             ],
             [
              0.4444444444444444,
              "#bd3786"
             ],
             [
              0.5555555555555556,
              "#d8576b"
             ],
             [
              0.6666666666666666,
              "#ed7953"
             ],
             [
              0.7777777777777778,
              "#fb9f3a"
             ],
             [
              0.8888888888888888,
              "#fdca26"
             ],
             [
              1,
              "#f0f921"
             ]
            ],
            "type": "contour"
           }
          ],
          "contourcarpet": [
           {
            "colorbar": {
             "outlinewidth": 0,
             "ticks": ""
            },
            "type": "contourcarpet"
           }
          ],
          "heatmap": [
           {
            "colorbar": {
             "outlinewidth": 0,
             "ticks": ""
            },
            "colorscale": [
             [
              0,
              "#0d0887"
             ],
             [
              0.1111111111111111,
              "#46039f"
             ],
             [
              0.2222222222222222,
              "#7201a8"
             ],
             [
              0.3333333333333333,
              "#9c179e"
             ],
             [
              0.4444444444444444,
              "#bd3786"
             ],
             [
              0.5555555555555556,
              "#d8576b"
             ],
             [
              0.6666666666666666,
              "#ed7953"
             ],
             [
              0.7777777777777778,
              "#fb9f3a"
             ],
             [
              0.8888888888888888,
              "#fdca26"
             ],
             [
              1,
              "#f0f921"
             ]
            ],
            "type": "heatmap"
           }
          ],
          "histogram": [
           {
            "marker": {
             "pattern": {
              "fillmode": "overlay",
              "size": 10,
              "solidity": 0.2
             }
            },
            "type": "histogram"
           }
          ],
          "histogram2d": [
           {
            "colorbar": {
             "outlinewidth": 0,
             "ticks": ""
            },
            "colorscale": [
             [
              0,
              "#0d0887"
             ],
             [
              0.1111111111111111,
              "#46039f"
             ],
             [
              0.2222222222222222,
              "#7201a8"
             ],
             [
              0.3333333333333333,
              "#9c179e"
             ],
             [
              0.4444444444444444,
              "#bd3786"
             ],
             [
              0.5555555555555556,
              "#d8576b"
             ],
             [
              0.6666666666666666,
              "#ed7953"
             ],
             [
              0.7777777777777778,
              "#fb9f3a"
             ],
             [
              0.8888888888888888,
              "#fdca26"
             ],
             [
              1,
              "#f0f921"
             ]
            ],
            "type": "histogram2d"
           }
          ],
          "histogram2dcontour": [
           {
            "colorbar": {
             "outlinewidth": 0,
             "ticks": ""
            },
            "colorscale": [
             [
              0,
              "#0d0887"
             ],
             [
              0.1111111111111111,
              "#46039f"
             ],
             [
              0.2222222222222222,
              "#7201a8"
             ],
             [
              0.3333333333333333,
              "#9c179e"
             ],
             [
              0.4444444444444444,
              "#bd3786"
             ],
             [
              0.5555555555555556,
              "#d8576b"
             ],
             [
              0.6666666666666666,
              "#ed7953"
             ],
             [
              0.7777777777777778,
              "#fb9f3a"
             ],
             [
              0.8888888888888888,
              "#fdca26"
             ],
             [
              1,
              "#f0f921"
             ]
            ],
            "type": "histogram2dcontour"
           }
          ],
          "mesh3d": [
           {
            "colorbar": {
             "outlinewidth": 0,
             "ticks": ""
            },
            "type": "mesh3d"
           }
          ],
          "parcoords": [
           {
            "line": {
             "colorbar": {
              "outlinewidth": 0,
              "ticks": ""
             }
            },
            "type": "parcoords"
           }
          ],
          "pie": [
           {
            "automargin": true,
            "type": "pie"
           }
          ],
          "scatter": [
           {
            "fillpattern": {
             "fillmode": "overlay",
             "size": 10,
             "solidity": 0.2
            },
            "type": "scatter"
           }
          ],
          "scatter3d": [
           {
            "line": {
             "colorbar": {
              "outlinewidth": 0,
              "ticks": ""
             }
            },
            "marker": {
             "colorbar": {
              "outlinewidth": 0,
              "ticks": ""
             }
            },
            "type": "scatter3d"
           }
          ],
          "scattercarpet": [
           {
            "marker": {
             "colorbar": {
              "outlinewidth": 0,
              "ticks": ""
             }
            },
            "type": "scattercarpet"
           }
          ],
          "scattergeo": [
           {
            "marker": {
             "colorbar": {
              "outlinewidth": 0,
              "ticks": ""
             }
            },
            "type": "scattergeo"
           }
          ],
          "scattergl": [
           {
            "marker": {
             "colorbar": {
              "outlinewidth": 0,
              "ticks": ""
             }
            },
            "type": "scattergl"
           }
          ],
          "scattermap": [
           {
            "marker": {
             "colorbar": {
              "outlinewidth": 0,
              "ticks": ""
             }
            },
            "type": "scattermap"
           }
          ],
          "scattermapbox": [
           {
            "marker": {
             "colorbar": {
              "outlinewidth": 0,
              "ticks": ""
             }
            },
            "type": "scattermapbox"
           }
          ],
          "scatterpolar": [
           {
            "marker": {
             "colorbar": {
              "outlinewidth": 0,
              "ticks": ""
             }
            },
            "type": "scatterpolar"
           }
          ],
          "scatterpolargl": [
           {
            "marker": {
             "colorbar": {
              "outlinewidth": 0,
              "ticks": ""
             }
            },
            "type": "scatterpolargl"
           }
          ],
          "scatterternary": [
           {
            "marker": {
             "colorbar": {
              "outlinewidth": 0,
              "ticks": ""
             }
            },
            "type": "scatterternary"
           }
          ],
          "surface": [
           {
            "colorbar": {
             "outlinewidth": 0,
             "ticks": ""
            },
            "colorscale": [
             [
              0,
              "#0d0887"
             ],
             [
              0.1111111111111111,
              "#46039f"
             ],
             [
              0.2222222222222222,
              "#7201a8"
             ],
             [
              0.3333333333333333,
              "#9c179e"
             ],
             [
              0.4444444444444444,
              "#bd3786"
             ],
             [
              0.5555555555555556,
              "#d8576b"
             ],
             [
              0.6666666666666666,
              "#ed7953"
             ],
             [
              0.7777777777777778,
              "#fb9f3a"
             ],
             [
              0.8888888888888888,
              "#fdca26"
             ],
             [
              1,
              "#f0f921"
             ]
            ],
            "type": "surface"
           }
          ],
          "table": [
           {
            "cells": {
             "fill": {
              "color": "#EBF0F8"
             },
             "line": {
              "color": "white"
             }
            },
            "header": {
             "fill": {
              "color": "#C8D4E3"
             },
             "line": {
              "color": "white"
             }
            },
            "type": "table"
           }
          ]
         },
         "layout": {
          "annotationdefaults": {
           "arrowcolor": "#2a3f5f",
           "arrowhead": 0,
           "arrowwidth": 1
          },
          "autotypenumbers": "strict",
          "coloraxis": {
           "colorbar": {
            "outlinewidth": 0,
            "ticks": ""
           }
          },
          "colorscale": {
           "diverging": [
            [
             0,
             "#8e0152"
            ],
            [
             0.1,
             "#c51b7d"
            ],
            [
             0.2,
             "#de77ae"
            ],
            [
             0.3,
             "#f1b6da"
            ],
            [
             0.4,
             "#fde0ef"
            ],
            [
             0.5,
             "#f7f7f7"
            ],
            [
             0.6,
             "#e6f5d0"
            ],
            [
             0.7,
             "#b8e186"
            ],
            [
             0.8,
             "#7fbc41"
            ],
            [
             0.9,
             "#4d9221"
            ],
            [
             1,
             "#276419"
            ]
           ],
           "sequential": [
            [
             0,
             "#0d0887"
            ],
            [
             0.1111111111111111,
             "#46039f"
            ],
            [
             0.2222222222222222,
             "#7201a8"
            ],
            [
             0.3333333333333333,
             "#9c179e"
            ],
            [
             0.4444444444444444,
             "#bd3786"
            ],
            [
             0.5555555555555556,
             "#d8576b"
            ],
            [
             0.6666666666666666,
             "#ed7953"
            ],
            [
             0.7777777777777778,
             "#fb9f3a"
            ],
            [
             0.8888888888888888,
             "#fdca26"
            ],
            [
             1,
             "#f0f921"
            ]
           ],
           "sequentialminus": [
            [
             0,
             "#0d0887"
            ],
            [
             0.1111111111111111,
             "#46039f"
            ],
            [
             0.2222222222222222,
             "#7201a8"
            ],
            [
             0.3333333333333333,
             "#9c179e"
            ],
            [
             0.4444444444444444,
             "#bd3786"
            ],
            [
             0.5555555555555556,
             "#d8576b"
            ],
            [
             0.6666666666666666,
             "#ed7953"
            ],
            [
             0.7777777777777778,
             "#fb9f3a"
            ],
            [
             0.8888888888888888,
             "#fdca26"
            ],
            [
             1,
             "#f0f921"
            ]
           ]
          },
          "colorway": [
           "#636efa",
           "#EF553B",
           "#00cc96",
           "#ab63fa",
           "#FFA15A",
           "#19d3f3",
           "#FF6692",
           "#B6E880",
           "#FF97FF",
           "#FECB52"
          ],
          "font": {
           "color": "#2a3f5f"
          },
          "geo": {
           "bgcolor": "white",
           "lakecolor": "white",
           "landcolor": "white",
           "showlakes": true,
           "showland": true,
           "subunitcolor": "#C8D4E3"
          },
          "hoverlabel": {
           "align": "left"
          },
          "hovermode": "closest",
          "mapbox": {
           "style": "light"
          },
          "paper_bgcolor": "white",
          "plot_bgcolor": "white",
          "polar": {
           "angularaxis": {
            "gridcolor": "#EBF0F8",
            "linecolor": "#EBF0F8",
            "ticks": ""
           },
           "bgcolor": "white",
           "radialaxis": {
            "gridcolor": "#EBF0F8",
            "linecolor": "#EBF0F8",
            "ticks": ""
           }
          },
          "scene": {
           "xaxis": {
            "backgroundcolor": "white",
            "gridcolor": "#DFE8F3",
            "gridwidth": 2,
            "linecolor": "#EBF0F8",
            "showbackground": true,
            "ticks": "",
            "zerolinecolor": "#EBF0F8"
           },
           "yaxis": {
            "backgroundcolor": "white",
            "gridcolor": "#DFE8F3",
            "gridwidth": 2,
            "linecolor": "#EBF0F8",
            "showbackground": true,
            "ticks": "",
            "zerolinecolor": "#EBF0F8"
           },
           "zaxis": {
            "backgroundcolor": "white",
            "gridcolor": "#DFE8F3",
            "gridwidth": 2,
            "linecolor": "#EBF0F8",
            "showbackground": true,
            "ticks": "",
            "zerolinecolor": "#EBF0F8"
           }
          },
          "shapedefaults": {
           "line": {
            "color": "#2a3f5f"
           }
          },
          "ternary": {
           "aaxis": {
            "gridcolor": "#DFE8F3",
            "linecolor": "#A2B1C6",
            "ticks": ""
           },
           "baxis": {
            "gridcolor": "#DFE8F3",
            "linecolor": "#A2B1C6",
            "ticks": ""
           },
           "bgcolor": "white",
           "caxis": {
            "gridcolor": "#DFE8F3",
            "linecolor": "#A2B1C6",
            "ticks": ""
           }
          },
          "title": {
           "x": 0.05
          },
          "xaxis": {
           "automargin": true,
           "gridcolor": "#EBF0F8",
           "linecolor": "#EBF0F8",
           "ticks": "",
           "title": {
            "standoff": 15
           },
           "zerolinecolor": "#EBF0F8",
           "zerolinewidth": 2
          },
          "yaxis": {
           "automargin": true,
           "gridcolor": "#EBF0F8",
           "linecolor": "#EBF0F8",
           "ticks": "",
           "title": {
            "standoff": 15
           },
           "zerolinecolor": "#EBF0F8",
           "zerolinewidth": 2
          }
         }
        },
        "width": 750,
        "xaxis": {
         "anchor": "y",
         "domain": [
          0,
          1
         ],
         "title": {
          "text": "Number of Nodes (|V|)"
         }
        },
        "yaxis": {
         "anchor": "x",
         "domain": [
          0,
          1
         ],
         "title": {
          "text": "log(elapsed time [s])"
         },
         "type": "log"
        }
       }
      }
     },
     "metadata": {},
     "output_type": "display_data"
    }
   ],
   "source": [
    "v1_data_for_runtime_plot = v1_data_for_runtime_plot[v1_data_for_runtime_plot['n_nodes'] <= 6]\n",
    "plot_runtime(v1_data_for_runtime_plot,\n",
    "             colors_dict=colors_dict,\n",
    "             names_dict=names_dict,\n",
    "             symbols_dict=symbols_dict,\n",
    "             methods=methods)"
   ]
  },
  {
   "cell_type": "markdown",
   "id": "09cce21c",
   "metadata": {},
   "source": [
    "## Runtime bnlearn cancer"
   ]
  },
  {
   "cell_type": "code",
   "execution_count": 24,
   "id": "cba2dd00",
   "metadata": {},
   "outputs": [
    {
     "data": {
      "text/plain": [
       "['elapsed_bsaf_creation',\n",
       " 'elapsed_model_solution',\n",
       " 'aba_elapsed',\n",
       " 'ranking_elapsed',\n",
       " 'elapsed']"
      ]
     },
     "execution_count": 24,
     "metadata": {},
     "output_type": "execute_result"
    }
   ],
   "source": [
    "[c for c in v2_data_bn.columns if 'elapsed' in c]"
   ]
  },
  {
   "cell_type": "code",
   "execution_count": 25,
   "id": "20fad643",
   "metadata": {},
   "outputs": [
    {
     "name": "stdout",
     "output_type": "stream",
     "text": [
      "50\n"
     ]
    }
   ],
   "source": [
    "v2_cancer_data = v2_data_bn[v2_data_bn['dataset']=='cancer']\n",
    "print(len(v2_cancer_data))"
   ]
  },
  {
   "cell_type": "code",
   "execution_count": 26,
   "id": "77ecb2f8",
   "metadata": {},
   "outputs": [
    {
     "data": {
      "text/plain": [
       "count    50.000000\n",
       "mean      0.122648\n",
       "std       0.000000\n",
       "min       0.122648\n",
       "25%       0.122648\n",
       "50%       0.122648\n",
       "75%       0.122648\n",
       "max       0.122648\n",
       "Name: elapsed_bsaf_creation, dtype: float64"
      ]
     },
     "execution_count": 26,
     "metadata": {},
     "output_type": "execute_result"
    }
   ],
   "source": [
    "v2_cancer_data['elapsed_bsaf_creation'].describe()"
   ]
  },
  {
   "cell_type": "code",
   "execution_count": 27,
   "id": "a307ecd8",
   "metadata": {},
   "outputs": [
    {
     "data": {
      "text/plain": [
       "count    50.000000\n",
       "mean      0.600006\n",
       "std       0.011926\n",
       "min       0.582255\n",
       "25%       0.592059\n",
       "50%       0.598757\n",
       "75%       0.603672\n",
       "max       0.636839\n",
       "Name: elapsed_model_solution, dtype: float64"
      ]
     },
     "execution_count": 27,
     "metadata": {},
     "output_type": "execute_result"
    }
   ],
   "source": [
    "v2_cancer_data['elapsed_model_solution'].describe()"
   ]
  },
  {
   "cell_type": "code",
   "execution_count": 28,
   "id": "b4d71650",
   "metadata": {},
   "outputs": [
    {
     "data": {
      "text/plain": [
       "count    50.000000\n",
       "mean      0.722654\n",
       "std       0.011926\n",
       "min       0.704903\n",
       "25%       0.714707\n",
       "50%       0.721405\n",
       "75%       0.726320\n",
       "max       0.759488\n",
       "dtype: float64"
      ]
     },
     "execution_count": 28,
     "metadata": {},
     "output_type": "execute_result"
    }
   ],
   "source": [
    "(v2_cancer_data['elapsed_bsaf_creation'] + v2_cancer_data['elapsed_model_solution']).describe()"
   ]
  }
 ],
 "metadata": {
  "kernelspec": {
   "display_name": "aba-env",
   "language": "python",
   "name": "python3"
  },
  "language_info": {
   "codemirror_mode": {
    "name": "ipython",
    "version": 3
   },
   "file_extension": ".py",
   "mimetype": "text/x-python",
   "name": "python",
   "nbconvert_exporter": "python",
   "pygments_lexer": "ipython3",
   "version": "3.12.9"
  }
 },
 "nbformat": 4,
 "nbformat_minor": 5
}
