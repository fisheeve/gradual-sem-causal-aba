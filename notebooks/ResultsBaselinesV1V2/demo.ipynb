{
 "cells": [
  {
   "cell_type": "markdown",
   "id": "d1812658",
   "metadata": {},
   "source": [
    "# Results Notebook\n",
    "\n",
    "The aim of this notebook is to generate plots to showcase experiment results at `results/`\n",
    "\n",
    "Following is plotted:\n",
    "- SID plots of\n",
    "    - Gradual - V1\n",
    "        - SID score - Random graphs - Baselines, existing ABAPC, 4 methods with V1 improved ABAPC\n",
    "        - SID score - BNlearn 3 datasets - Baselines, existing ABAPC, 4 methods with V1 improved ABAPC\n",
    "        - Runtime - Random graphs - Baselines, existing ABAPC, 4 methods with V1 improved ABAPC\n",
    "    - Gradual - V2 - Ablation\n",
    "        - SID scores - Random graphs - ablation plots\n",
    "        - SID scores - Random graphs - comparison to baselines, existing ABAPC, V2 best (least approx)\n",
    "        - Runtime - Random graphs - ablation plots\n",
    "        - Runtime - Random graphs - comparison to baselines, existing ABAPC, V2. May be combined with last plot"
   ]
  },
  {
   "cell_type": "code",
   "execution_count": 18,
   "id": "ebe8a1ad",
   "metadata": {},
   "outputs": [],
   "source": [
    "import pandas as pd\n",
    "import numpy as np\n",
    "\n",
    "import importlib\n",
    "import utils\n",
    "importlib.reload(utils)\n",
    "from utils import plot_runtime, double_bar_chart_plotly, process_data, DAG_NODES_MAP, DAG_EDGES_MAP"
   ]
  },
  {
   "cell_type": "markdown",
   "id": "88e4169e",
   "metadata": {},
   "source": [
    "## V1 Plots"
   ]
  },
  {
   "cell_type": "code",
   "execution_count": 19,
   "id": "fd7e93da",
   "metadata": {},
   "outputs": [],
   "source": [
    "baselines_data_random = pd.read_csv('../../results/existing/random_graphs/all_existing_methods_metrics_cpdag.csv')\n",
    "baselines_data_random_fgs = pd.read_csv('../../results/existing/random_graphs/fgs/all_existing_methods_metrics_cpdag.csv')\n",
    "baselines_data_random = pd.concat([baselines_data_random, baselines_data_random_fgs], ignore_index=True)\n",
    "\n",
    "baselines_data_bn = pd.read_csv('../../results/existing/bnlearn_graphs/all_existing_methods_metrics_cpdag.csv')\n",
    "baselines_data_bn_fgs = pd.read_csv('../../results/existing/bnlearn_graphs/fgs/all_existing_methods_metrics_cpdag.csv')\n",
    "baselines_data_bn = pd.concat([baselines_data_bn, baselines_data_bn_fgs], ignore_index=True)\n",
    "\n",
    "v1_data_random = pd.read_csv('../../results/gradual/v1_random_graphs/cpdag_metrics.csv')\n",
    "v1_data_bn = pd.read_csv('../../results/gradual/v1_bnlearn_graphs/cpdag_metrics.csv')\n",
    "\n"
   ]
  },
  {
   "cell_type": "code",
   "execution_count": 20,
   "id": "f68fa408",
   "metadata": {},
   "outputs": [],
   "source": [
    "v1_data_random['elapsed'] = (\n",
    "    v1_data_random['elapsed_bsaf_creation'] +\n",
    "    v1_data_random['elapsed_model_solution'] +\n",
    "    v1_data_random['aba_elapsed'] +\n",
    "    v1_data_random['ranking_elapsed']\n",
    ")\n",
    "v1_data_random['dataset'] = '|V|=' + v1_data_random['n_nodes'].astype(str) + ', |E|=' + v1_data_random['n_edges'].astype(str)\n",
    "baselines_data_random['dataset'] = '|V|=' + baselines_data_random['n_nodes'].astype(str) + ', |E|=' + baselines_data_random['n_edges'].astype(str)"
   ]
  },
  {
   "cell_type": "code",
   "execution_count": 21,
   "id": "db66d7d0",
   "metadata": {},
   "outputs": [],
   "source": [
    "v1_data_random['model_raw'] = v1_data_random['fact_ranking_method'] + ' ' + v1_data_random['model_ranking_method']\n",
    "v1_data_random = v1_data_random[v1_data_random['model_raw'].isin([\n",
    "    'original original',\n",
    "    'refined_indep_facts original',\n",
    "    'original refined_indep_facts',\n",
    "    'original arrows_sum', \n",
    "    'original arrows_mean'\n",
    "])].copy()\n",
    "v1_data_random['model'] = v1_data_random['model_raw'].map({\n",
    "    'original original': 'ABAPC (Original)',\n",
    "    'refined_indep_facts original': 'V1.1 Refined Fact Ranking',\n",
    "    'original refined_indep_facts': 'V1.2 Model Selection by Refined Fact Strengths',\n",
    "    'original arrows_sum': 'V1.3 Model Selection by Arrows Sum',\n",
    "    'original arrows_mean': 'V1.4 Model Selection by Arrows Mean'\n",
    "})\n"
   ]
  },
  {
   "cell_type": "code",
   "execution_count": 22,
   "id": "7ac25d57",
   "metadata": {},
   "outputs": [],
   "source": [
    "baselines_random_processed = process_data(baselines_data_random)\n",
    "v1_random_processed = process_data(v1_data_random)\n",
    "\n",
    "v1_random_plot_data = pd.concat([v1_random_processed, \n",
    "                                 baselines_random_processed[baselines_random_processed['n_nodes'] <= 6]], \n",
    "                                 ignore_index=True)"
   ]
  },
  {
   "cell_type": "code",
   "execution_count": 23,
   "id": "b2b68937",
   "metadata": {},
   "outputs": [
    {
     "data": {
      "text/html": [
       "<div>\n",
       "<style scoped>\n",
       "    .dataframe tbody tr th:only-of-type {\n",
       "        vertical-align: middle;\n",
       "    }\n",
       "\n",
       "    .dataframe tbody tr th {\n",
       "        vertical-align: top;\n",
       "    }\n",
       "\n",
       "    .dataframe thead th {\n",
       "        text-align: right;\n",
       "    }\n",
       "</style>\n",
       "<table border=\"1\" class=\"dataframe\">\n",
       "  <thead>\n",
       "    <tr style=\"text-align: right;\">\n",
       "      <th></th>\n",
       "      <th>dataset</th>\n",
       "      <th>n_nodes</th>\n",
       "      <th>n_edges</th>\n",
       "      <th>model</th>\n",
       "      <th>sid_low_mean</th>\n",
       "      <th>sid_high_mean</th>\n",
       "      <th>sid_low_std</th>\n",
       "      <th>sid_high_std</th>\n",
       "      <th>p_SID_low_mean</th>\n",
       "      <th>p_SID_high_mean</th>\n",
       "      <th>p_SID_low_std</th>\n",
       "      <th>p_SID_high_std</th>\n",
       "    </tr>\n",
       "  </thead>\n",
       "  <tbody>\n",
       "    <tr>\n",
       "      <th>0</th>\n",
       "      <td>|V|=3, |E|=3</td>\n",
       "      <td>3</td>\n",
       "      <td>3</td>\n",
       "      <td>ABAPC (Original)</td>\n",
       "      <td>1.66</td>\n",
       "      <td>5.32</td>\n",
       "      <td>2.105484</td>\n",
       "      <td>1.316148</td>\n",
       "      <td>0.553333</td>\n",
       "      <td>1.773333</td>\n",
       "      <td>0.701828</td>\n",
       "      <td>0.438716</td>\n",
       "    </tr>\n",
       "  </tbody>\n",
       "</table>\n",
       "</div>"
      ],
      "text/plain": [
       "        dataset  n_nodes  n_edges             model  sid_low_mean  \\\n",
       "0  |V|=3, |E|=3        3        3  ABAPC (Original)          1.66   \n",
       "\n",
       "   sid_high_mean  sid_low_std  sid_high_std  p_SID_low_mean  p_SID_high_mean  \\\n",
       "0           5.32     2.105484      1.316148        0.553333         1.773333   \n",
       "\n",
       "   p_SID_low_std  p_SID_high_std  \n",
       "0       0.701828        0.438716  "
      ]
     },
     "execution_count": 23,
     "metadata": {},
     "output_type": "execute_result"
    }
   ],
   "source": [
    "v1_random_plot_data.head(1)"
   ]
  },
  {
   "cell_type": "code",
   "execution_count": 24,
   "id": "82b85e90",
   "metadata": {},
   "outputs": [],
   "source": [
    "methods = [\n",
    "    'Random',\n",
    "    'FGS',\n",
    "    'NOTEARS-MLP',\n",
    "    'MPC',\n",
    "    'ABAPC (Original)',\n",
    "    'V1.1 Refined Fact Ranking',\n",
    "    'V1.2 Model Selection by Refined Fact Strengths',\n",
    "    'V1.3 Model Selection by Arrows Sum',\n",
    "    'V1.4 Model Selection by Arrows Mean'\n",
    "]\n",
    "names_dict = {\n",
    "    'Random': 'Random',\n",
    "    'FGS': 'FGS',\n",
    "    'NOTEARS-MLP': 'NOTEARS-MLP',\n",
    "    'MPC': 'MPC',\n",
    "    'ABAPC (Original)': 'ABAPC (Original)',\n",
    "    'V1.1 Refined Fact Ranking': 'V1.1',\n",
    "    'V1.2 Model Selection by Refined Fact Strengths': 'V1.2',\n",
    "    'V1.3 Model Selection by Arrows Sum': 'V1.3',\n",
    "    'V1.4 Model Selection by Arrows Mean': 'V1.4 ',\n",
    "}\n",
    "colors_dict = {\n",
    "        'Random': 'grey',\n",
    "        'FGS': '#b85c00',\n",
    "        'NOTEARS-MLP': '#9454c4',\n",
    "        'MPC': '#379f9f',\n",
    "        'ABAPC (Original)': '#0085CA',\n",
    "        'V1.1 Refined Fact Ranking': \"#9F8D00\",\n",
    "        'V1.2 Model Selection by Refined Fact Strengths': \"#9E0000\",\n",
    "        'V1.3 Model Selection by Arrows Sum': \"#ff34da\",\n",
    "        'V1.4 Model Selection by Arrows Mean': \"#008100\"\n",
    "    }"
   ]
  },
  {
   "cell_type": "code",
   "execution_count": 25,
   "id": "49b07345",
   "metadata": {},
   "outputs": [
    {
     "data": {
      "application/vnd.plotly.v1+json": {
       "config": {
        "plotlyServerURL": "https://plot.ly"
       },
       "data": [
        {
         "error_y": {
          "array": {
           "bdata": "AAAAAAAAAAAjaC2k6dLjPyaedkM45+U/5otn7w1W5D8=",
           "dtype": "f8"
          },
          "type": "data",
          "visible": true
         },
         "marker": {
          "color": "grey"
         },
         "name": "Random",
         "offsetgroup": "0",
         "opacity": 0.6,
         "showlegend": true,
         "type": "bar",
         "x": [
          "|V|=3, |E|=3",
          "|V|=4, |E|=4",
          "|V|=5, |E|=5",
          "|V|=6, |E|=6"
         ],
         "y": {
          "bdata": "AAAAAAAAAACPwvUoXI/qP0a28/3UePk/kML1KFyP/j8=",
          "dtype": "f8"
         },
         "yaxis": "y"
        },
        {
         "error_y": {
          "array": {
           "bdata": "t1q8dwqg3j/EihTkTJ7pP9KSQhm1p+Y/KL8vxiow6z8=",
           "dtype": "f8"
          },
          "type": "data",
          "visible": true
         },
         "marker": {
          "color": "#b85c00"
         },
         "name": "FGS",
         "offsetgroup": "1",
         "opacity": 0.6,
         "showlegend": true,
         "type": "bar",
         "x": [
          "|V|=3, |E|=3",
          "|V|=4, |E|=4",
          "|V|=5, |E|=5",
          "|V|=6, |E|=6"
         ],
         "y": {
          "bdata": "6LSBThvo1D8UrkfhehTyP65H4XoUrvc/hetRuB6F/z8=",
          "dtype": "f8"
         },
         "yaxis": "y"
        },
        {
         "error_y": {
          "array": {
           "bdata": "Se7EwnNW4j+MRX1ws7TlP+shOm1oxus/11jnesd35D8=",
           "dtype": "f8"
          },
          "type": "data",
          "visible": true
         },
         "marker": {
          "color": "#9454c4"
         },
         "name": "NOTEARS-MLP",
         "offsetgroup": "2",
         "opacity": 0.6,
         "showlegend": true,
         "type": "bar",
         "x": [
          "|V|=3, |E|=3",
          "|V|=4, |E|=4",
          "|V|=5, |E|=5",
          "|V|=6, |E|=6"
         ],
         "y": {
          "bdata": "+cWSXyz55T+4HoXrUbjuP8ZLN4lBYPU/jCW/WPKL9T8=",
          "dtype": "f8"
         },
         "yaxis": "y"
        },
        {
         "error_y": {
          "array": {
           "bdata": "tC6mp8PM1D+AGcBl0oLgP72NqPuVk+Q/2Hn0+wnU6D8=",
           "dtype": "f8"
          },
          "type": "data",
          "visible": true
         },
         "marker": {
          "color": "#379f9f"
         },
         "name": "MPC",
         "offsetgroup": "3",
         "opacity": 0.6,
         "showlegend": true,
         "type": "bar",
         "x": [
          "|V|=3, |E|=3",
          "|V|=4, |E|=4",
          "|V|=5, |E|=5",
          "|V|=6, |E|=6"
         ],
         "y": {
          "bdata": "pHA9Ctej0D9xPQrXo3DdP83MzMzMzOw/dNpApw106j8=",
          "dtype": "f8"
         },
         "yaxis": "y"
        },
        {
         "error_y": {
          "array": {
           "bdata": "+M5QuF915j+MDPlhQGfpPwount8Hvek/gIIq+pXH7j8=",
           "dtype": "f8"
          },
          "type": "data",
          "visible": true
         },
         "marker": {
          "color": "#0085CA"
         },
         "name": "ABAPC (Original)",
         "offsetgroup": "4",
         "opacity": 0.6,
         "showlegend": true,
         "type": "bar",
         "x": [
          "|V|=3, |E|=3",
          "|V|=4, |E|=4",
          "|V|=5, |E|=5",
          "|V|=6, |E|=6"
         ],
         "y": {
          "bdata": "tYFOG+i04T89CtejcD3qP1K4HoXrUfA/9ihcj8L19D8=",
          "dtype": "f8"
         },
         "yaxis": "y"
        },
        {
         "error_y": {
          "array": {
           "bdata": "0OYfbsPK5D8sFUq371HgP9CGA6SDsN4/swS0c3OM4T8=",
           "dtype": "f8"
          },
          "type": "data",
          "visible": true
         },
         "marker": {
          "color": "#9F8D00"
         },
         "name": "V1.1",
         "offsetgroup": "5",
         "opacity": 0.6,
         "showlegend": true,
         "type": "bar",
         "x": [
          "|V|=3, |E|=3",
          "|V|=4, |E|=4",
          "|V|=5, |E|=5",
          "|V|=6, |E|=6"
         ],
         "y": {
          "bdata": "20CnDXTa4D9SuB6F61HoP7ByaJHtfO8/Z2ZmZmZm8j8=",
          "dtype": "f8"
         },
         "yaxis": "y"
        },
        {
         "error_y": {
          "array": {
           "bdata": "+M5QuF915j87GzeSayrpPxqKSjq2p+k/leV+WVix7j8=",
           "dtype": "f8"
          },
          "type": "data",
          "visible": true
         },
         "marker": {
          "color": "#9E0000"
         },
         "name": "V1.2",
         "offsetgroup": "6",
         "opacity": 0.6,
         "showlegend": true,
         "type": "bar",
         "x": [
          "|V|=3, |E|=3",
          "|V|=4, |E|=4",
          "|V|=5, |E|=5",
          "|V|=6, |E|=6"
         ],
         "y": {
          "bdata": "tYFOG+i04T+PwvUoXI/qP/p+arx0k/A/f7HkF0t+9T8=",
          "dtype": "f8"
         },
         "yaxis": "y"
        },
        {
         "error_y": {
          "array": {
           "bdata": "+M5QuF915j9OahUtfXfoP96zLhxR4+w/Efec9faP8D8=",
           "dtype": "f8"
          },
          "type": "data",
          "visible": true
         },
         "marker": {
          "color": "#ff34da"
         },
         "name": "V1.3",
         "offsetgroup": "7",
         "opacity": 0.6,
         "showlegend": true,
         "type": "bar",
         "x": [
          "|V|=3, |E|=3",
          "|V|=4, |E|=4",
          "|V|=5, |E|=5",
          "|V|=6, |E|=6"
         ],
         "y": {
          "bdata": "tYFOG+i04T+F61G4HoXrP5duEoPAyvE/H4XrUbge+T8=",
          "dtype": "f8"
         },
         "yaxis": "y"
        },
        {
         "error_y": {
          "array": {
           "bdata": "+M5QuF915j9IBhsTz63nP6AZyeq+Pus/y/h3kY7S8D8=",
           "dtype": "f8"
          },
          "type": "data",
          "visible": true
         },
         "marker": {
          "color": "#008100"
         },
         "name": "V1.4 ",
         "offsetgroup": "8",
         "opacity": 0.6,
         "showlegend": true,
         "type": "bar",
         "x": [
          "|V|=3, |E|=3",
          "|V|=4, |E|=4",
          "|V|=5, |E|=5",
          "|V|=6, |E|=6"
         ],
         "y": {
          "bdata": "tYFOG+i04T/2KFyPwvXoP+tRuB6F6/E/oNMGOm2g9z8=",
          "dtype": "f8"
         },
         "yaxis": "y"
        },
        {
         "marker": {
          "color": "white"
         },
         "name": "",
         "offsetgroup": "9",
         "opacity": 1,
         "showlegend": false,
         "type": "bar",
         "x": [
          "|V|=3, |E|=3",
          "|V|=4, |E|=4",
          "|V|=5, |E|=5",
          "|V|=6, |E|=6"
         ],
         "y": {
          "bdata": "AAAAAAAAAAAAAAAAAAAAAAAAAAAAAAAAAAAAAAAAAAA=",
          "dtype": "f8"
         }
        },
        {
         "error_y": {
          "array": {
           "bdata": "AAAAAAAAAAARmzFQu0HhP5PFwb5/L+k/DXSCnt/D6z8=",
           "dtype": "f8"
          },
          "type": "data",
          "visible": true
         },
         "marker": {
          "color": "grey"
         },
         "name": "Random",
         "offsetgroup": "10",
         "opacity": 0.6,
         "showlegend": false,
         "type": "bar",
         "x": [
          "|V|=3, |E|=3",
          "|V|=4, |E|=4",
          "|V|=5, |E|=5",
          "|V|=6, |E|=6"
         ],
         "y": {
          "bdata": "AAAAAAAAAECamZmZmZkDQOf7qfHSTQZAiIiIiIiICEA=",
          "dtype": "f8"
         },
         "yaxis": "y2"
        },
        {
         "error_y": {
          "array": {
           "bdata": "DBf/pAvH1D9EOVEg6lrfP2JffZc7X+U/u+Fk7WZn7j8=",
           "dtype": "f8"
          },
          "type": "data",
          "visible": true
         },
         "marker": {
          "color": "#b85c00"
         },
         "name": "FGS",
         "offsetgroup": "11",
         "opacity": 0.6,
         "showlegend": false,
         "type": "bar",
         "x": [
          "|V|=3, |E|=3",
          "|V|=4, |E|=4",
          "|V|=5, |E|=5",
          "|V|=6, |E|=6"
         ],
         "y": {
          "bdata": "cD0K16Nw/T8pXI/C9SgDQIpBYOXQIgdAY8kvlvxiB0A=",
          "dtype": "f8"
         },
         "yaxis": "y2"
        },
        {
         "error_y": {
          "array": {
           "bdata": "Z6rPiplc3T/0MXU/manlP1AT+xmLtew/qUrygLbf7D8=",
           "dtype": "f8"
          },
          "type": "data",
          "visible": true
         },
         "marker": {
          "color": "#9454c4"
         },
         "name": "NOTEARS-MLP",
         "offsetgroup": "12",
         "opacity": 0.6,
         "showlegend": false,
         "type": "bar",
         "x": [
          "|V|=3, |E|=3",
          "|V|=4, |E|=4",
          "|V|=5, |E|=5",
          "|V|=6, |E|=6"
         ],
         "y": {
          "bdata": "/GLJL5b8+j/D9Shcj8IBQBWuR+F6FAZAcD0K16NwB0A=",
          "dtype": "f8"
         },
         "yaxis": "y2"
        },
        {
         "error_y": {
          "array": {
           "bdata": "pxqM7r//wT+MyTa22ZPYPyV8k8hMFeE/4GogHfL16D8=",
           "dtype": "f8"
          },
          "type": "data",
          "visible": true
         },
         "marker": {
          "color": "#379f9f"
         },
         "name": "MPC",
         "offsetgroup": "13",
         "opacity": 0.6,
         "showlegend": false,
         "type": "bar",
         "x": [
          "|V|=3, |E|=3",
          "|V|=4, |E|=4",
          "|V|=5, |E|=5",
          "|V|=6, |E|=6"
         ],
         "y": {
          "bdata": "Jb9Y8osl/z97FK5H4XoFQDiJQWDl0ApALPnFkl8sDUA=",
          "dtype": "f8"
         },
         "yaxis": "y2"
        },
        {
         "error_y": {
          "array": {
           "bdata": "uTpT7OsT3D+YSxEVtLDmP17R796Y7Os/1nnzx7tn8D8=",
           "dtype": "f8"
          },
          "type": "data",
          "visible": true
         },
         "marker": {
          "color": "#0085CA"
         },
         "name": "ABAPC (Original)",
         "offsetgroup": "14",
         "opacity": 0.6,
         "showlegend": false,
         "type": "bar",
         "x": [
          "|V|=3, |E|=3",
          "|V|=4, |E|=4",
          "|V|=5, |E|=5",
          "|V|=6, |E|=6"
         ],
         "y": {
          "bdata": "YCz5xZJf/D/Xo3A9CtcCQEw3iUFg5QRATxvotIFOB0A=",
          "dtype": "f8"
         },
         "yaxis": "y2"
        },
        {
         "error_y": {
          "array": {
           "bdata": "nPULV7UQ1j9WEz0bifPgPzEOxqkxGOg/Nzm0J5z76T8=",
           "dtype": "f8"
          },
          "type": "data",
          "visible": true
         },
         "marker": {
          "color": "#9F8D00"
         },
         "name": "V1.1",
         "offsetgroup": "15",
         "opacity": 0.6,
         "showlegend": false,
         "type": "bar",
         "x": [
          "|V|=3, |E|=3",
          "|V|=4, |E|=4",
          "|V|=5, |E|=5",
          "|V|=6, |E|=6"
         ],
         "y": {
          "bdata": "H4XrUbge/T/NzMzMzMwCQI/C9ShcjwZATxvotIFOCUA=",
          "dtype": "f8"
         },
         "yaxis": "y2"
        },
        {
         "error_y": {
          "array": {
           "bdata": "uTpT7OsT3D+YSxEVtLDmPz6za9eef+o/OxZnUO0t8D8=",
           "dtype": "f8"
          },
          "type": "data",
          "visible": true
         },
         "marker": {
          "color": "#9E0000"
         },
         "name": "V1.2",
         "offsetgroup": "16",
         "opacity": 0.6,
         "showlegend": false,
         "type": "bar",
         "x": [
          "|V|=3, |E|=3",
          "|V|=4, |E|=4",
          "|V|=5, |E|=5",
          "|V|=6, |E|=6"
         ],
         "y": {
          "bdata": "YCz5xZJf/D/Xo3A9CtcCQB6F61G4HgVAf7HkF0t+B0A=",
          "dtype": "f8"
         },
         "yaxis": "y2"
        },
        {
         "error_y": {
          "array": {
           "bdata": "uTpT7OsT3D/y5sf+CALpP6YA+NEWFuw/7SAJesXT8D8=",
           "dtype": "f8"
          },
          "type": "data",
          "visible": true
         },
         "marker": {
          "color": "#ff34da"
         },
         "name": "V1.3",
         "offsetgroup": "17",
         "opacity": 0.6,
         "showlegend": false,
         "type": "bar",
         "x": [
          "|V|=3, |E|=3",
          "|V|=4, |E|=4",
          "|V|=5, |E|=5",
          "|V|=6, |E|=6"
         ],
         "y": {
          "bdata": "YCz5xZJf/D/hehSuR+EBQCGwcmiR7QRAWfKLJb9YBkA=",
          "dtype": "f8"
         },
         "yaxis": "y2"
        },
        {
         "error_y": {
          "array": {
           "bdata": "uTpT7OsT3D/69nv9PB3mP+JvKeY5WOs/AOcSUMej7T8=",
           "dtype": "f8"
          },
          "type": "data",
          "visible": true
         },
         "marker": {
          "color": "#008100"
         },
         "name": "V1.4 ",
         "offsetgroup": "18",
         "opacity": 0.6,
         "showlegend": false,
         "type": "bar",
         "x": [
          "|V|=3, |E|=3",
          "|V|=4, |E|=4",
          "|V|=5, |E|=5",
          "|V|=6, |E|=6"
         ],
         "y": {
          "bdata": "YCz5xZJf/D8UrkfhehQDQEjhehSuRwVAw/UoXI/CB0A=",
          "dtype": "f8"
         },
         "yaxis": "y2"
        }
       ],
       "layout": {
        "annotations": [
         {
          "font": {
           "color": "Black",
           "family": "Serif",
           "size": 20
          },
          "showarrow": false,
          "text": "Dataset:",
          "x": 0,
          "xanchor": "center",
          "xref": "paper",
          "y": -0.08,
          "yanchor": "bottom",
          "yref": "paper"
         },
         {
          "bgcolor": "#E5ECF6",
          "bordercolor": "#E5ECF6",
          "borderwidth": 2,
          "font": {
           "color": "black",
           "size": 20
          },
          "opacity": 0.8,
          "showarrow": false,
          "text": "     Best     ",
          "x": 0.03,
          "xanchor": "left",
          "xref": "x domain",
          "y": 1.015,
          "yref": "y domain"
         },
         {
          "bgcolor": "#E5ECF6",
          "bordercolor": "#E5ECF6",
          "borderwidth": 2,
          "font": {
           "color": "black",
           "size": 20
          },
          "opacity": 0.8,
          "showarrow": false,
          "text": "     Worst     ",
          "x": 0.14200000000000002,
          "xanchor": "left",
          "xref": "x domain",
          "y": 1.015,
          "yref": "y domain"
         },
         {
          "bgcolor": "#E5ECF6",
          "bordercolor": "#E5ECF6",
          "borderwidth": 2,
          "font": {
           "color": "black",
           "size": 20
          },
          "opacity": 0.8,
          "showarrow": false,
          "text": "     Best     ",
          "x": 0.279,
          "xanchor": "left",
          "xref": "x domain",
          "y": 1.015,
          "yref": "y domain"
         },
         {
          "bgcolor": "#E5ECF6",
          "bordercolor": "#E5ECF6",
          "borderwidth": 2,
          "font": {
           "color": "black",
           "size": 20
          },
          "opacity": 0.8,
          "showarrow": false,
          "text": "     Worst     ",
          "x": 0.391,
          "xanchor": "left",
          "xref": "x domain",
          "y": 1.015,
          "yref": "y domain"
         },
         {
          "bgcolor": "#E5ECF6",
          "bordercolor": "#E5ECF6",
          "borderwidth": 2,
          "font": {
           "color": "black",
           "size": 20
          },
          "opacity": 0.8,
          "showarrow": false,
          "text": "     Best     ",
          "x": 0.528,
          "xanchor": "left",
          "xref": "x domain",
          "y": 1.015,
          "yref": "y domain"
         },
         {
          "bgcolor": "#E5ECF6",
          "bordercolor": "#E5ECF6",
          "borderwidth": 2,
          "font": {
           "color": "black",
           "size": 20
          },
          "opacity": 0.8,
          "showarrow": false,
          "text": "     Worst     ",
          "x": 0.64,
          "xanchor": "left",
          "xref": "x domain",
          "y": 1.015,
          "yref": "y domain"
         },
         {
          "bgcolor": "#E5ECF6",
          "bordercolor": "#E5ECF6",
          "borderwidth": 2,
          "font": {
           "color": "black",
           "size": 20
          },
          "opacity": 0.8,
          "showarrow": false,
          "text": "     Best     ",
          "x": 0.777,
          "xanchor": "left",
          "xref": "x domain",
          "y": 1.015,
          "yref": "y domain"
         },
         {
          "bgcolor": "#E5ECF6",
          "bordercolor": "#E5ECF6",
          "borderwidth": 2,
          "font": {
           "color": "black",
           "size": 20
          },
          "opacity": 0.8,
          "showarrow": false,
          "text": "     Worst     ",
          "x": 0.889,
          "xanchor": "left",
          "xref": "x domain",
          "y": 1.015,
          "yref": "y domain"
         }
        ],
        "bargap": 0.15,
        "bargroupgap": 0.15,
        "barmode": "group",
        "font": {
         "color": "black",
         "family": "Serif",
         "size": 20
        },
        "height": 600,
        "hovermode": "x unified",
        "legend": {
         "orientation": "h",
         "x": 0.5,
         "xanchor": "center",
         "y": 1.1,
         "yanchor": "top"
        },
        "margin": {
         "b": 70,
         "l": 40,
         "r": 0,
         "t": 20
        },
        "shapes": [
         {
          "layer": "below",
          "line": {
           "color": "grey",
           "dash": "dash",
           "width": 1
          },
          "type": "line",
          "x0": 0.1175,
          "x1": 0.1175,
          "xref": "paper",
          "y0": 0,
          "y1": 1,
          "yref": "paper"
         },
         {
          "layer": "below",
          "line": {
           "color": "black",
           "dash": "solid",
           "width": 1
          },
          "type": "line",
          "x0": 0.235,
          "x1": 0.235,
          "xref": "paper",
          "y0": 0,
          "y1": 1,
          "yref": "paper"
         },
         {
          "layer": "below",
          "line": {
           "color": "grey",
           "dash": "dash",
           "width": 1
          },
          "type": "line",
          "x0": 0.3525,
          "x1": 0.3525,
          "xref": "paper",
          "y0": 0,
          "y1": 1,
          "yref": "paper"
         },
         {
          "layer": "below",
          "line": {
           "color": "black",
           "dash": "solid",
           "width": 1
          },
          "type": "line",
          "x0": 0.47,
          "x1": 0.47,
          "xref": "paper",
          "y0": 0,
          "y1": 1,
          "yref": "paper"
         },
         {
          "layer": "below",
          "line": {
           "color": "grey",
           "dash": "dash",
           "width": 1
          },
          "type": "line",
          "x0": 0.5874999999999999,
          "x1": 0.5874999999999999,
          "xref": "paper",
          "y0": 0,
          "y1": 1,
          "yref": "paper"
         },
         {
          "layer": "below",
          "line": {
           "color": "black",
           "dash": "solid",
           "width": 1
          },
          "type": "line",
          "x0": 0.7049999999999998,
          "x1": 0.7049999999999998,
          "xref": "paper",
          "y0": 0,
          "y1": 1,
          "yref": "paper"
         },
         {
          "layer": "below",
          "line": {
           "color": "grey",
           "dash": "dash",
           "width": 1
          },
          "type": "line",
          "x0": 0.8224999999999998,
          "x1": 0.8224999999999998,
          "xref": "paper",
          "y0": 0,
          "y1": 1,
          "yref": "paper"
         },
         {
          "layer": "below",
          "line": {
           "color": "black",
           "dash": "solid",
           "width": 1
          },
          "type": "line",
          "x0": 0.9399999999999997,
          "x1": 0.9399999999999997,
          "xref": "paper",
          "y0": 0,
          "y1": 1,
          "yref": "paper"
         }
        ],
        "template": {
         "data": {
          "bar": [
           {
            "error_x": {
             "color": "#2a3f5f"
            },
            "error_y": {
             "color": "#2a3f5f"
            },
            "marker": {
             "line": {
              "color": "white",
              "width": 0.5
             },
             "pattern": {
              "fillmode": "overlay",
              "size": 10,
              "solidity": 0.2
             }
            },
            "type": "bar"
           }
          ],
          "barpolar": [
           {
            "marker": {
             "line": {
              "color": "white",
              "width": 0.5
             },
             "pattern": {
              "fillmode": "overlay",
              "size": 10,
              "solidity": 0.2
             }
            },
            "type": "barpolar"
           }
          ],
          "carpet": [
           {
            "aaxis": {
             "endlinecolor": "#2a3f5f",
             "gridcolor": "#C8D4E3",
             "linecolor": "#C8D4E3",
             "minorgridcolor": "#C8D4E3",
             "startlinecolor": "#2a3f5f"
            },
            "baxis": {
             "endlinecolor": "#2a3f5f",
             "gridcolor": "#C8D4E3",
             "linecolor": "#C8D4E3",
             "minorgridcolor": "#C8D4E3",
             "startlinecolor": "#2a3f5f"
            },
            "type": "carpet"
           }
          ],
          "choropleth": [
           {
            "colorbar": {
             "outlinewidth": 0,
             "ticks": ""
            },
            "type": "choropleth"
           }
          ],
          "contour": [
           {
            "colorbar": {
             "outlinewidth": 0,
             "ticks": ""
            },
            "colorscale": [
             [
              0,
              "#0d0887"
             ],
             [
              0.1111111111111111,
              "#46039f"
             ],
             [
              0.2222222222222222,
              "#7201a8"
             ],
             [
              0.3333333333333333,
              "#9c179e"
             ],
             [
              0.4444444444444444,
              "#bd3786"
             ],
             [
              0.5555555555555556,
              "#d8576b"
             ],
             [
              0.6666666666666666,
              "#ed7953"
             ],
             [
              0.7777777777777778,
              "#fb9f3a"
             ],
             [
              0.8888888888888888,
              "#fdca26"
             ],
             [
              1,
              "#f0f921"
             ]
            ],
            "type": "contour"
           }
          ],
          "contourcarpet": [
           {
            "colorbar": {
             "outlinewidth": 0,
             "ticks": ""
            },
            "type": "contourcarpet"
           }
          ],
          "heatmap": [
           {
            "colorbar": {
             "outlinewidth": 0,
             "ticks": ""
            },
            "colorscale": [
             [
              0,
              "#0d0887"
             ],
             [
              0.1111111111111111,
              "#46039f"
             ],
             [
              0.2222222222222222,
              "#7201a8"
             ],
             [
              0.3333333333333333,
              "#9c179e"
             ],
             [
              0.4444444444444444,
              "#bd3786"
             ],
             [
              0.5555555555555556,
              "#d8576b"
             ],
             [
              0.6666666666666666,
              "#ed7953"
             ],
             [
              0.7777777777777778,
              "#fb9f3a"
             ],
             [
              0.8888888888888888,
              "#fdca26"
             ],
             [
              1,
              "#f0f921"
             ]
            ],
            "type": "heatmap"
           }
          ],
          "histogram": [
           {
            "marker": {
             "pattern": {
              "fillmode": "overlay",
              "size": 10,
              "solidity": 0.2
             }
            },
            "type": "histogram"
           }
          ],
          "histogram2d": [
           {
            "colorbar": {
             "outlinewidth": 0,
             "ticks": ""
            },
            "colorscale": [
             [
              0,
              "#0d0887"
             ],
             [
              0.1111111111111111,
              "#46039f"
             ],
             [
              0.2222222222222222,
              "#7201a8"
             ],
             [
              0.3333333333333333,
              "#9c179e"
             ],
             [
              0.4444444444444444,
              "#bd3786"
             ],
             [
              0.5555555555555556,
              "#d8576b"
             ],
             [
              0.6666666666666666,
              "#ed7953"
             ],
             [
              0.7777777777777778,
              "#fb9f3a"
             ],
             [
              0.8888888888888888,
              "#fdca26"
             ],
             [
              1,
              "#f0f921"
             ]
            ],
            "type": "histogram2d"
           }
          ],
          "histogram2dcontour": [
           {
            "colorbar": {
             "outlinewidth": 0,
             "ticks": ""
            },
            "colorscale": [
             [
              0,
              "#0d0887"
             ],
             [
              0.1111111111111111,
              "#46039f"
             ],
             [
              0.2222222222222222,
              "#7201a8"
             ],
             [
              0.3333333333333333,
              "#9c179e"
             ],
             [
              0.4444444444444444,
              "#bd3786"
             ],
             [
              0.5555555555555556,
              "#d8576b"
             ],
             [
              0.6666666666666666,
              "#ed7953"
             ],
             [
              0.7777777777777778,
              "#fb9f3a"
             ],
             [
              0.8888888888888888,
              "#fdca26"
             ],
             [
              1,
              "#f0f921"
             ]
            ],
            "type": "histogram2dcontour"
           }
          ],
          "mesh3d": [
           {
            "colorbar": {
             "outlinewidth": 0,
             "ticks": ""
            },
            "type": "mesh3d"
           }
          ],
          "parcoords": [
           {
            "line": {
             "colorbar": {
              "outlinewidth": 0,
              "ticks": ""
             }
            },
            "type": "parcoords"
           }
          ],
          "pie": [
           {
            "automargin": true,
            "type": "pie"
           }
          ],
          "scatter": [
           {
            "fillpattern": {
             "fillmode": "overlay",
             "size": 10,
             "solidity": 0.2
            },
            "type": "scatter"
           }
          ],
          "scatter3d": [
           {
            "line": {
             "colorbar": {
              "outlinewidth": 0,
              "ticks": ""
             }
            },
            "marker": {
             "colorbar": {
              "outlinewidth": 0,
              "ticks": ""
             }
            },
            "type": "scatter3d"
           }
          ],
          "scattercarpet": [
           {
            "marker": {
             "colorbar": {
              "outlinewidth": 0,
              "ticks": ""
             }
            },
            "type": "scattercarpet"
           }
          ],
          "scattergeo": [
           {
            "marker": {
             "colorbar": {
              "outlinewidth": 0,
              "ticks": ""
             }
            },
            "type": "scattergeo"
           }
          ],
          "scattergl": [
           {
            "marker": {
             "colorbar": {
              "outlinewidth": 0,
              "ticks": ""
             }
            },
            "type": "scattergl"
           }
          ],
          "scattermap": [
           {
            "marker": {
             "colorbar": {
              "outlinewidth": 0,
              "ticks": ""
             }
            },
            "type": "scattermap"
           }
          ],
          "scattermapbox": [
           {
            "marker": {
             "colorbar": {
              "outlinewidth": 0,
              "ticks": ""
             }
            },
            "type": "scattermapbox"
           }
          ],
          "scatterpolar": [
           {
            "marker": {
             "colorbar": {
              "outlinewidth": 0,
              "ticks": ""
             }
            },
            "type": "scatterpolar"
           }
          ],
          "scatterpolargl": [
           {
            "marker": {
             "colorbar": {
              "outlinewidth": 0,
              "ticks": ""
             }
            },
            "type": "scatterpolargl"
           }
          ],
          "scatterternary": [
           {
            "marker": {
             "colorbar": {
              "outlinewidth": 0,
              "ticks": ""
             }
            },
            "type": "scatterternary"
           }
          ],
          "surface": [
           {
            "colorbar": {
             "outlinewidth": 0,
             "ticks": ""
            },
            "colorscale": [
             [
              0,
              "#0d0887"
             ],
             [
              0.1111111111111111,
              "#46039f"
             ],
             [
              0.2222222222222222,
              "#7201a8"
             ],
             [
              0.3333333333333333,
              "#9c179e"
             ],
             [
              0.4444444444444444,
              "#bd3786"
             ],
             [
              0.5555555555555556,
              "#d8576b"
             ],
             [
              0.6666666666666666,
              "#ed7953"
             ],
             [
              0.7777777777777778,
              "#fb9f3a"
             ],
             [
              0.8888888888888888,
              "#fdca26"
             ],
             [
              1,
              "#f0f921"
             ]
            ],
            "type": "surface"
           }
          ],
          "table": [
           {
            "cells": {
             "fill": {
              "color": "#EBF0F8"
             },
             "line": {
              "color": "white"
             }
            },
            "header": {
             "fill": {
              "color": "#C8D4E3"
             },
             "line": {
              "color": "white"
             }
            },
            "type": "table"
           }
          ]
         },
         "layout": {
          "annotationdefaults": {
           "arrowcolor": "#2a3f5f",
           "arrowhead": 0,
           "arrowwidth": 1
          },
          "autotypenumbers": "strict",
          "coloraxis": {
           "colorbar": {
            "outlinewidth": 0,
            "ticks": ""
           }
          },
          "colorscale": {
           "diverging": [
            [
             0,
             "#8e0152"
            ],
            [
             0.1,
             "#c51b7d"
            ],
            [
             0.2,
             "#de77ae"
            ],
            [
             0.3,
             "#f1b6da"
            ],
            [
             0.4,
             "#fde0ef"
            ],
            [
             0.5,
             "#f7f7f7"
            ],
            [
             0.6,
             "#e6f5d0"
            ],
            [
             0.7,
             "#b8e186"
            ],
            [
             0.8,
             "#7fbc41"
            ],
            [
             0.9,
             "#4d9221"
            ],
            [
             1,
             "#276419"
            ]
           ],
           "sequential": [
            [
             0,
             "#0d0887"
            ],
            [
             0.1111111111111111,
             "#46039f"
            ],
            [
             0.2222222222222222,
             "#7201a8"
            ],
            [
             0.3333333333333333,
             "#9c179e"
            ],
            [
             0.4444444444444444,
             "#bd3786"
            ],
            [
             0.5555555555555556,
             "#d8576b"
            ],
            [
             0.6666666666666666,
             "#ed7953"
            ],
            [
             0.7777777777777778,
             "#fb9f3a"
            ],
            [
             0.8888888888888888,
             "#fdca26"
            ],
            [
             1,
             "#f0f921"
            ]
           ],
           "sequentialminus": [
            [
             0,
             "#0d0887"
            ],
            [
             0.1111111111111111,
             "#46039f"
            ],
            [
             0.2222222222222222,
             "#7201a8"
            ],
            [
             0.3333333333333333,
             "#9c179e"
            ],
            [
             0.4444444444444444,
             "#bd3786"
            ],
            [
             0.5555555555555556,
             "#d8576b"
            ],
            [
             0.6666666666666666,
             "#ed7953"
            ],
            [
             0.7777777777777778,
             "#fb9f3a"
            ],
            [
             0.8888888888888888,
             "#fdca26"
            ],
            [
             1,
             "#f0f921"
            ]
           ]
          },
          "colorway": [
           "#636efa",
           "#EF553B",
           "#00cc96",
           "#ab63fa",
           "#FFA15A",
           "#19d3f3",
           "#FF6692",
           "#B6E880",
           "#FF97FF",
           "#FECB52"
          ],
          "font": {
           "color": "#2a3f5f"
          },
          "geo": {
           "bgcolor": "white",
           "lakecolor": "white",
           "landcolor": "white",
           "showlakes": true,
           "showland": true,
           "subunitcolor": "#C8D4E3"
          },
          "hoverlabel": {
           "align": "left"
          },
          "hovermode": "closest",
          "mapbox": {
           "style": "light"
          },
          "paper_bgcolor": "white",
          "plot_bgcolor": "white",
          "polar": {
           "angularaxis": {
            "gridcolor": "#EBF0F8",
            "linecolor": "#EBF0F8",
            "ticks": ""
           },
           "bgcolor": "white",
           "radialaxis": {
            "gridcolor": "#EBF0F8",
            "linecolor": "#EBF0F8",
            "ticks": ""
           }
          },
          "scene": {
           "xaxis": {
            "backgroundcolor": "white",
            "gridcolor": "#DFE8F3",
            "gridwidth": 2,
            "linecolor": "#EBF0F8",
            "showbackground": true,
            "ticks": "",
            "zerolinecolor": "#EBF0F8"
           },
           "yaxis": {
            "backgroundcolor": "white",
            "gridcolor": "#DFE8F3",
            "gridwidth": 2,
            "linecolor": "#EBF0F8",
            "showbackground": true,
            "ticks": "",
            "zerolinecolor": "#EBF0F8"
           },
           "zaxis": {
            "backgroundcolor": "white",
            "gridcolor": "#DFE8F3",
            "gridwidth": 2,
            "linecolor": "#EBF0F8",
            "showbackground": true,
            "ticks": "",
            "zerolinecolor": "#EBF0F8"
           }
          },
          "shapedefaults": {
           "line": {
            "color": "#2a3f5f"
           }
          },
          "ternary": {
           "aaxis": {
            "gridcolor": "#DFE8F3",
            "linecolor": "#A2B1C6",
            "ticks": ""
           },
           "baxis": {
            "gridcolor": "#DFE8F3",
            "linecolor": "#A2B1C6",
            "ticks": ""
           },
           "bgcolor": "white",
           "caxis": {
            "gridcolor": "#DFE8F3",
            "linecolor": "#A2B1C6",
            "ticks": ""
           }
          },
          "title": {
           "x": 0.05
          },
          "xaxis": {
           "automargin": true,
           "gridcolor": "#EBF0F8",
           "linecolor": "#EBF0F8",
           "ticks": "",
           "title": {
            "standoff": 15
           },
           "zerolinecolor": "#EBF0F8",
           "zerolinewidth": 2
          },
          "yaxis": {
           "automargin": true,
           "gridcolor": "#EBF0F8",
           "linecolor": "#EBF0F8",
           "ticks": "",
           "title": {
            "standoff": 15
           },
           "zerolinecolor": "#EBF0F8",
           "zerolinewidth": 2
          }
         }
        },
        "width": 1300,
        "xaxis": {
         "anchor": "y",
         "domain": [
          0,
          0.94
         ]
        },
        "yaxis": {
         "anchor": "x",
         "domain": [
          0,
          1
         ],
         "range": [
          0,
          5
         ],
         "title": {
          "font": {
           "size": 20
          },
          "text": "Normalised SID"
         }
        },
        "yaxis2": {
         "anchor": "x",
         "overlaying": "y",
         "range": [
          0,
          5
         ],
         "scaleanchor": 0,
         "showgrid": false,
         "showline": false,
         "showticklabels": false,
         "side": "right",
         "title": {
          "font": {
           "size": 20
          },
          "text": ""
         },
         "zeroline": true
        }
       }
      }
     },
     "metadata": {},
     "output_type": "display_data"
    }
   ],
   "source": [
    "import importlib\n",
    "import utils\n",
    "importlib.reload(utils)\n",
    "from utils import double_bar_chart_plotly\n",
    "\n",
    "double_bar_chart_plotly(v1_random_plot_data, \n",
    "                        names_dict,\n",
    "                        colors_dict,\n",
    "                        methods=methods,\n",
    "                        dist_between_lines=0.1175,\n",
    "                        intra_dis=0.112,\n",
    "                        inter_dis=0.137,\n",
    "                        lin_space=5,\n",
    "                        nl_space=5,\n",
    "                        start_pos = 0.03,\n",
    "                            width=1300,\n",
    "                            height=600,\n",
    "                            range_y1=(0, 5),\n",
    "                            range_y2=(0, 5))"
   ]
  },
  {
   "cell_type": "markdown",
   "id": "87f345af",
   "metadata": {},
   "source": [
    "Now bnlearn datasets for V1"
   ]
  },
  {
   "cell_type": "code",
   "execution_count": 26,
   "id": "9ef70650",
   "metadata": {},
   "outputs": [],
   "source": [
    "v1_data_bn['n_nodes'] = v1_data_bn['dataset'].map(DAG_NODES_MAP)\n",
    "v1_data_bn['n_edges'] = v1_data_bn['dataset'].map(DAG_EDGES_MAP)\n",
    "baselines_data_bn['n_nodes'] = baselines_data_bn['dataset'].map(DAG_NODES_MAP)\n",
    "baselines_data_bn['n_edges'] = baselines_data_bn['dataset'].map(DAG_EDGES_MAP)\n",
    "\n",
    "v1_data_bn['dataset'] =  v1_data_bn['dataset'] + ' <br> ' + '|V|=' + v1_data_bn['n_nodes'].astype(str) + ', |E|=' + v1_data_bn['n_edges'].astype(str)\n",
    "baselines_data_bn['dataset'] = baselines_data_bn['dataset'] + ' <br> ' + '|V|=' + baselines_data_bn['n_nodes'].astype(str) + ', |E|=' + baselines_data_bn['n_edges'].astype(str)\n",
    "v1_data_bn['elapsed'] = (\n",
    "    v1_data_bn['elapsed_bsaf_creation'] +\n",
    "    v1_data_bn['elapsed_model_solution'] +\n",
    "    v1_data_bn['aba_elapsed'] +\n",
    "    v1_data_bn['ranking_elapsed']\n",
    ")\n",
    "v1_data_bn['model_raw'] = v1_data_bn['fact_ranking_method'] + ' ' + v1_data_bn['model_ranking_method']\n",
    "v1_data_bn = v1_data_bn[v1_data_bn['model_raw'].isin([\n",
    "    'original original',\n",
    "    'refined_indep_facts original',\n",
    "    'original refined_indep_facts',\n",
    "    'original arrows_sum', \n",
    "    'original arrows_mean'\n",
    "])].copy()\n",
    "v1_data_bn['model'] = v1_data_bn['model_raw'].map({\n",
    "    'original original': 'ABAPC (Original)',\n",
    "    'refined_indep_facts original': 'V1.1 Refined Fact Ranking',\n",
    "    'original refined_indep_facts': 'V1.2 Model Selection by Refined Fact Strengths',\n",
    "    'original arrows_sum': 'V1.3 Model Selection by Arrows Sum',\n",
    "    'original arrows_mean': 'V1.4 Model Selection by Arrows Mean'\n",
    "})\n",
    "\n",
    "baselines_bn_processed = process_data(baselines_data_bn)\n",
    "v1_bn_processed = process_data(v1_data_bn)\n",
    "\n",
    "v1_bn_plot_data = pd.concat([v1_bn_processed, \n",
    "                                 baselines_bn_processed[baselines_bn_processed['n_nodes'] <= 6]], \n",
    "                                 ignore_index=True)\n",
    "# v1_bn_plot_data.loc[v1_bn_plot_data['model'] == 'ABAPC (Ours)', 'model'] = 'ABAPC (Original)'"
   ]
  },
  {
   "cell_type": "code",
   "execution_count": 27,
   "id": "0ebe0352",
   "metadata": {},
   "outputs": [
    {
     "data": {
      "text/html": [
       "<div>\n",
       "<style scoped>\n",
       "    .dataframe tbody tr th:only-of-type {\n",
       "        vertical-align: middle;\n",
       "    }\n",
       "\n",
       "    .dataframe tbody tr th {\n",
       "        vertical-align: top;\n",
       "    }\n",
       "\n",
       "    .dataframe thead th {\n",
       "        text-align: right;\n",
       "    }\n",
       "</style>\n",
       "<table border=\"1\" class=\"dataframe\">\n",
       "  <thead>\n",
       "    <tr style=\"text-align: right;\">\n",
       "      <th></th>\n",
       "      <th>dataset</th>\n",
       "      <th>n_nodes</th>\n",
       "      <th>n_edges</th>\n",
       "      <th>model</th>\n",
       "      <th>sid_low_mean</th>\n",
       "      <th>sid_high_mean</th>\n",
       "      <th>sid_low_std</th>\n",
       "      <th>sid_high_std</th>\n",
       "      <th>p_SID_low_mean</th>\n",
       "      <th>p_SID_high_mean</th>\n",
       "      <th>p_SID_low_std</th>\n",
       "      <th>p_SID_high_std</th>\n",
       "    </tr>\n",
       "  </thead>\n",
       "  <tbody>\n",
       "    <tr>\n",
       "      <th>0</th>\n",
       "      <td>cancer &lt;br&gt; |V|=5, |E|=4</td>\n",
       "      <td>5</td>\n",
       "      <td>4</td>\n",
       "      <td>ABAPC (Original)</td>\n",
       "      <td>8.62</td>\n",
       "      <td>11.3</td>\n",
       "      <td>2.783992</td>\n",
       "      <td>2.101991</td>\n",
       "      <td>2.155</td>\n",
       "      <td>2.825</td>\n",
       "      <td>0.695998</td>\n",
       "      <td>0.525498</td>\n",
       "    </tr>\n",
       "  </tbody>\n",
       "</table>\n",
       "</div>"
      ],
      "text/plain": [
       "                    dataset  n_nodes  n_edges             model  sid_low_mean  \\\n",
       "0  cancer <br> |V|=5, |E|=4        5        4  ABAPC (Original)          8.62   \n",
       "\n",
       "   sid_high_mean  sid_low_std  sid_high_std  p_SID_low_mean  p_SID_high_mean  \\\n",
       "0           11.3     2.783992      2.101991           2.155            2.825   \n",
       "\n",
       "   p_SID_low_std  p_SID_high_std  \n",
       "0       0.695998        0.525498  "
      ]
     },
     "execution_count": 27,
     "metadata": {},
     "output_type": "execute_result"
    }
   ],
   "source": [
    "v1_bn_plot_data.head(1)"
   ]
  },
  {
   "cell_type": "code",
   "execution_count": 28,
   "id": "e8167101",
   "metadata": {},
   "outputs": [
    {
     "data": {
      "application/vnd.plotly.v1+json": {
       "config": {
        "plotlyServerURL": "https://plot.ly"
       },
       "data": [
        {
         "error_y": {
          "array": {
           "bdata": "wZh0GlsF7T+Tajng6wHnP4uJrFAoNOY/",
           "dtype": "f8"
          },
          "type": "data",
          "visible": true
         },
         "marker": {
          "color": "grey"
         },
         "name": "Random",
         "offsetgroup": "0",
         "opacity": 0.6,
         "showlegend": true,
         "type": "bar",
         "x": [
          "cancer <br> |V|=5, |E|=4",
          "earthquake <br> |V|=5, |E|=4",
          "survey <br> |V|=6, |E|=6"
         ],
         "y": {
          "bdata": "w/UoXI/C/z+F61G4HoX/P36x5BdLfgFA",
          "dtype": "f8"
         },
         "yaxis": "y"
        },
        {
         "error_y": {
          "array": {
           "bdata": "mG8krVYo3j/RTRo9fuzVPw1R0OS56+A/",
           "dtype": "f8"
          },
          "type": "data",
          "visible": true
         },
         "marker": {
          "color": "#b85c00"
         },
         "name": "FGS",
         "offsetgroup": "1",
         "opacity": 0.6,
         "showlegend": true,
         "type": "bar",
         "x": [
          "cancer <br> |V|=5, |E|=4",
          "earthquake <br> |V|=5, |E|=4",
          "survey <br> |V|=6, |E|=6"
         ],
         "y": {
          "bdata": "H4XrUbge+T9mZmZmZmbyPzfQaQOdNgJA",
          "dtype": "f8"
         },
         "yaxis": "y"
        },
        {
         "error_y": {
          "array": {
           "bdata": "sdS2hhBd1z+4DAmXu7vkP3I8KKWxarQ/",
           "dtype": "f8"
          },
          "type": "data",
          "visible": true
         },
         "marker": {
          "color": "#9454c4"
         },
         "name": "NOTEARS-MLP",
         "offsetgroup": "2",
         "opacity": 0.6,
         "showlegend": true,
         "type": "bar",
         "x": [
          "cancer <br> |V|=5, |E|=4",
          "earthquake <br> |V|=5, |E|=4",
          "survey <br> |V|=6, |E|=6"
         ],
         "y": {
          "bdata": "CtejcD0KA0ApXI/C9SjcPzfQaQOdNgZA",
          "dtype": "f8"
         },
         "yaxis": "y"
        },
        {
         "error_y": {
          "array": {
           "bdata": "R/YvexUH3T8AAAAAAAAAAC9iX5/HMOI/",
           "dtype": "f8"
          },
          "type": "data",
          "visible": true
         },
         "marker": {
          "color": "#379f9f"
         },
         "name": "MPC",
         "offsetgroup": "3",
         "opacity": 0.6,
         "showlegend": true,
         "type": "bar",
         "x": [
          "cancer <br> |V|=5, |E|=4",
          "earthquake <br> |V|=5, |E|=4",
          "survey <br> |V|=6, |E|=6"
         ],
         "y": {
          "bdata": "CtejcD0K7z8AAAAAAAD0P2kDnTbQaes/",
          "dtype": "f8"
         },
         "yaxis": "y"
        },
        {
         "error_y": {
          "array": {
           "bdata": "RHUGrJ1F5j8AAAAAAAAAAKGq10wptOE/",
           "dtype": "f8"
          },
          "type": "data",
          "visible": true
         },
         "marker": {
          "color": "#0085CA"
         },
         "name": "ABAPC (Original)",
         "offsetgroup": "4",
         "opacity": 0.6,
         "showlegend": true,
         "type": "bar",
         "x": [
          "cancer <br> |V|=5, |E|=4",
          "earthquake <br> |V|=5, |E|=4",
          "survey <br> |V|=6, |E|=6"
         ],
         "y": {
          "bdata": "PQrXo3A9AUAAAAAAAAAAAPOLJb9Y8gNA",
          "dtype": "f8"
         },
         "yaxis": "y"
        },
        {
         "error_y": {
          "array": {
           "bdata": "CBT4UrPM4D8AAAAAAAAAALMupqfDzMQ/",
           "dtype": "f8"
          },
          "type": "data",
          "visible": true
         },
         "marker": {
          "color": "#9F8D00"
         },
         "name": "V1.1",
         "offsetgroup": "5",
         "opacity": 0.6,
         "showlegend": true,
         "type": "bar",
         "x": [
          "cancer <br> |V|=5, |E|=4",
          "earthquake <br> |V|=5, |E|=4",
          "survey <br> |V|=6, |E|=6"
         ],
         "y": {
          "bdata": "H4XrUbge/T8AAAAAAAAAAOxRuB6F6/0/",
          "dtype": "f8"
         },
         "yaxis": "y"
        },
        {
         "error_y": {
          "array": {
           "bdata": "3Z2lD59h5j8AAAAAAAAAAMG7uVZf1uI/",
           "dtype": "f8"
          },
          "type": "data",
          "visible": true
         },
         "marker": {
          "color": "#9E0000"
         },
         "name": "V1.2",
         "offsetgroup": "6",
         "opacity": 0.6,
         "showlegend": true,
         "type": "bar",
         "x": [
          "cancer <br> |V|=5, |E|=4",
          "earthquake <br> |V|=5, |E|=4",
          "survey <br> |V|=6, |E|=6"
         ],
         "y": {
          "bdata": "SOF6FK5HAUAAAAAAAAAAANejcD0K1wNA",
          "dtype": "f8"
         },
         "yaxis": "y"
        },
        {
         "error_y": {
          "array": {
           "bdata": "yhRgPOm/6D8AAAAAAAAAAExyLW3ZcOU/",
           "dtype": "f8"
          },
          "type": "data",
          "visible": true
         },
         "marker": {
          "color": "#ff34da"
         },
         "name": "V1.3",
         "offsetgroup": "7",
         "opacity": 0.6,
         "showlegend": true,
         "type": "bar",
         "x": [
          "cancer <br> |V|=5, |E|=4",
          "earthquake <br> |V|=5, |E|=4",
          "survey <br> |V|=6, |E|=6"
         ],
         "y": {
          "bdata": "CtejcD0KAEAAAAAAAAAAAJ020GkDnQJA",
          "dtype": "f8"
         },
         "yaxis": "y"
        },
        {
         "error_y": {
          "array": {
           "bdata": "ZC+64Vpl5j8nBDs04ae6P8lrK3LnEOQ/",
           "dtype": "f8"
          },
          "type": "data",
          "visible": true
         },
         "marker": {
          "color": "#008100"
         },
         "name": "V1.4 ",
         "offsetgroup": "8",
         "opacity": 0.6,
         "showlegend": true,
         "type": "bar",
         "x": [
          "cancer <br> |V|=5, |E|=4",
          "earthquake <br> |V|=5, |E|=4",
          "survey <br> |V|=6, |E|=6"
         ],
         "y": {
          "bdata": "SOF6FK5HAkCamZmZmZmZP6cNdNpApwNA",
          "dtype": "f8"
         },
         "yaxis": "y"
        },
        {
         "marker": {
          "color": "white"
         },
         "name": "",
         "offsetgroup": "9",
         "opacity": 1,
         "showlegend": false,
         "type": "bar",
         "x": [
          "cancer <br> |V|=5, |E|=4",
          "earthquake <br> |V|=5, |E|=4",
          "survey <br> |V|=6, |E|=6"
         ],
         "y": {
          "bdata": "AAAAAAAAAAAAAAAAAAAAAAAAAAAAAAAA",
          "dtype": "f8"
         }
        },
        {
         "error_y": {
          "array": {
           "bdata": "DMgDVtM96D904aadIrLrP9ExwqQ7Z+c/",
           "dtype": "f8"
          },
          "type": "data",
          "visible": true
         },
         "marker": {
          "color": "grey"
         },
         "name": "Random",
         "offsetgroup": "10",
         "opacity": 0.6,
         "showlegend": false,
         "type": "bar",
         "x": [
          "cancer <br> |V|=5, |E|=4",
          "earthquake <br> |V|=5, |E|=4",
          "survey <br> |V|=6, |E|=6"
         ],
         "y": {
          "bdata": "FK5H4XoUDEDD9Shcj8ILQNBpA5020A1A",
          "dtype": "f8"
         },
         "yaxis": "y2"
        },
        {
         "error_y": {
          "array": {
           "bdata": "l28krVYo3j9SxRsu+qu/P50u7O2DduI/",
           "dtype": "f8"
          },
          "type": "data",
          "visible": true
         },
         "marker": {
          "color": "#b85c00"
         },
         "name": "FGS",
         "offsetgroup": "11",
         "opacity": 0.6,
         "showlegend": false,
         "type": "bar",
         "x": [
          "cancer <br> |V|=5, |E|=4",
          "earthquake <br> |V|=5, |E|=4",
          "survey <br> |V|=6, |E|=6"
         ],
         "y": {
          "bdata": "SOF6FK5HEEAAAAAAAAAOQIwlv1jyiwtA",
          "dtype": "f8"
         },
         "yaxis": "y2"
        },
        {
         "error_y": {
          "array": {
           "bdata": "cL00uOrHuj97MXc2dWvePwAAAAAAAAAA",
           "dtype": "f8"
          },
          "type": "data",
          "visible": true
         },
         "marker": {
          "color": "#9454c4"
         },
         "name": "NOTEARS-MLP",
         "offsetgroup": "12",
         "opacity": 0.6,
         "showlegend": false,
         "type": "bar",
         "x": [
          "cancer <br> |V|=5, |E|=4",
          "earthquake <br> |V|=5, |E|=4",
          "survey <br> |V|=6, |E|=6"
         ],
         "y": {
          "bdata": "cT0K16NwBECF61G4HoUNQKuqqqqqqgZA",
          "dtype": "f8"
         },
         "yaxis": "y2"
        },
        {
         "error_y": {
          "array": {
           "bdata": "SPYvexUH3T8AAAAAAAAAAExZDgiiRuc/",
           "dtype": "f8"
          },
          "type": "data",
          "visible": true
         },
         "marker": {
          "color": "#379f9f"
         },
         "name": "MPC",
         "offsetgroup": "13",
         "opacity": 0.6,
         "showlegend": false,
         "type": "bar",
         "x": [
          "cancer <br> |V|=5, |E|=4",
          "earthquake <br> |V|=5, |E|=4",
          "survey <br> |V|=6, |E|=6"
         ],
         "y": {
          "bdata": "w/UoXI/CC0AAAAAAAAAOQNQGOm2g0wpA",
          "dtype": "f8"
         },
         "yaxis": "y2"
        },
        {
         "error_y": {
          "array": {
           "bdata": "uo0PzuDQ4D+zxGm/DivyP9kuw0TSD98/",
           "dtype": "f8"
          },
          "type": "data",
          "visible": true
         },
         "marker": {
          "color": "#0085CA"
         },
         "name": "ABAPC (Original)",
         "offsetgroup": "14",
         "opacity": 0.6,
         "showlegend": false,
         "type": "bar",
         "x": [
          "cancer <br> |V|=5, |E|=4",
          "earthquake <br> |V|=5, |E|=4",
          "survey <br> |V|=6, |E|=6"
         ],
         "y": {
          "bdata": "mpmZmZmZBkCkcD0K16MCQNBpA5020AVA",
          "dtype": "f8"
         },
         "yaxis": "y2"
        },
        {
         "error_y": {
          "array": {
           "bdata": "Jns/XUXi3z8jgovkmDzpP6TuB3g//cw/",
           "dtype": "f8"
          },
          "type": "data",
          "visible": true
         },
         "marker": {
          "color": "#9F8D00"
         },
         "name": "V1.1",
         "offsetgroup": "15",
         "opacity": 0.6,
         "showlegend": false,
         "type": "bar",
         "x": [
          "cancer <br> |V|=5, |E|=4",
          "earthquake <br> |V|=5, |E|=4",
          "survey <br> |V|=6, |E|=6"
         ],
         "y": {
          "bdata": "j8L1KFyPCUAK16NwPQr5P/nFkl8s+QlA",
          "dtype": "f8"
         },
         "yaxis": "y2"
        },
        {
         "error_y": {
          "array": {
           "bdata": "XWmX7L3A4D+zxGm/DivyPxcn/JsiaN4/",
           "dtype": "f8"
          },
          "type": "data",
          "visible": true
         },
         "marker": {
          "color": "#9E0000"
         },
         "name": "V1.2",
         "offsetgroup": "16",
         "opacity": 0.6,
         "showlegend": false,
         "type": "bar",
         "x": [
          "cancer <br> |V|=5, |E|=4",
          "earthquake <br> |V|=5, |E|=4",
          "survey <br> |V|=6, |E|=6"
         ],
         "y": {
          "bdata": "pHA9CtejBkCkcD0K16MCQBvotIFOGwZA",
          "dtype": "f8"
         },
         "yaxis": "y2"
        },
        {
         "error_y": {
          "array": {
           "bdata": "T4DpHo9f6z+GwTMge5nvP12u66ztCeU/",
           "dtype": "f8"
          },
          "type": "data",
          "visible": true
         },
         "marker": {
          "color": "#ff34da"
         },
         "name": "V1.3",
         "offsetgroup": "17",
         "opacity": 0.6,
         "showlegend": false,
         "type": "bar",
         "x": [
          "cancer <br> |V|=5, |E|=4",
          "earthquake <br> |V|=5, |E|=4",
          "survey <br> |V|=6, |E|=6"
         ],
         "y": {
          "bdata": "16NwPQrXB0AAAAAAAAD+PwAAAAAAAAZA",
          "dtype": "f8"
         },
         "yaxis": "y2"
        },
        {
         "error_y": {
          "array": {
           "bdata": "UUAiCPUX4z+7kXzODzfwP/OchP3xduU/",
           "dtype": "f8"
          },
          "type": "data",
          "visible": true
         },
         "marker": {
          "color": "#008100"
         },
         "name": "V1.4 ",
         "offsetgroup": "18",
         "opacity": 0.6,
         "showlegend": false,
         "type": "bar",
         "x": [
          "cancer <br> |V|=5, |E|=4",
          "earthquake <br> |V|=5, |E|=4",
          "survey <br> |V|=6, |E|=6"
         ],
         "y": {
          "bdata": "exSuR+F6BkCkcD0K16P+P+UXS36x5AdA",
          "dtype": "f8"
         },
         "yaxis": "y2"
        }
       ],
       "layout": {
        "annotations": [
         {
          "font": {
           "color": "Black",
           "family": "Serif",
           "size": 20
          },
          "showarrow": false,
          "text": "Dataset:",
          "x": 0,
          "xanchor": "center",
          "xref": "paper",
          "y": -0.08,
          "yanchor": "bottom",
          "yref": "paper"
         },
         {
          "bgcolor": "#E5ECF6",
          "bordercolor": "#E5ECF6",
          "borderwidth": 2,
          "font": {
           "color": "black",
           "size": 20
          },
          "opacity": 0.8,
          "showarrow": false,
          "text": "      Best      ",
          "x": 0.04,
          "xanchor": "left",
          "xref": "x domain",
          "y": 1.015,
          "yref": "y domain"
         },
         {
          "bgcolor": "#E5ECF6",
          "bordercolor": "#E5ECF6",
          "borderwidth": 2,
          "font": {
           "color": "black",
           "size": 20
          },
          "opacity": 0.8,
          "showarrow": false,
          "text": "      Worst      ",
          "x": 0.201,
          "xanchor": "left",
          "xref": "x domain",
          "y": 1.015,
          "yref": "y domain"
         },
         {
          "bgcolor": "#E5ECF6",
          "bordercolor": "#E5ECF6",
          "borderwidth": 2,
          "font": {
           "color": "black",
           "size": 20
          },
          "opacity": 0.8,
          "showarrow": false,
          "text": "      Best      ",
          "x": 0.375,
          "xanchor": "left",
          "xref": "x domain",
          "y": 1.015,
          "yref": "y domain"
         },
         {
          "bgcolor": "#E5ECF6",
          "bordercolor": "#E5ECF6",
          "borderwidth": 2,
          "font": {
           "color": "black",
           "size": 20
          },
          "opacity": 0.8,
          "showarrow": false,
          "text": "      Worst      ",
          "x": 0.536,
          "xanchor": "left",
          "xref": "x domain",
          "y": 1.015,
          "yref": "y domain"
         },
         {
          "bgcolor": "#E5ECF6",
          "bordercolor": "#E5ECF6",
          "borderwidth": 2,
          "font": {
           "color": "black",
           "size": 20
          },
          "opacity": 0.8,
          "showarrow": false,
          "text": "      Best      ",
          "x": 0.71,
          "xanchor": "left",
          "xref": "x domain",
          "y": 1.015,
          "yref": "y domain"
         },
         {
          "bgcolor": "#E5ECF6",
          "bordercolor": "#E5ECF6",
          "borderwidth": 2,
          "font": {
           "color": "black",
           "size": 20
          },
          "opacity": 0.8,
          "showarrow": false,
          "text": "      Worst      ",
          "x": 0.871,
          "xanchor": "left",
          "xref": "x domain",
          "y": 1.015,
          "yref": "y domain"
         }
        ],
        "bargap": 0.15,
        "bargroupgap": 0.15,
        "barmode": "group",
        "font": {
         "color": "black",
         "family": "Serif",
         "size": 20
        },
        "height": 600,
        "hovermode": "x unified",
        "legend": {
         "orientation": "h",
         "x": 0.5,
         "xanchor": "center",
         "y": 1.1,
         "yanchor": "top"
        },
        "margin": {
         "b": 70,
         "l": 40,
         "r": 0,
         "t": 20
        },
        "shapes": [
         {
          "layer": "below",
          "line": {
           "color": "grey",
           "dash": "dash",
           "width": 1
          },
          "type": "line",
          "x0": 0.1565,
          "x1": 0.1565,
          "xref": "paper",
          "y0": 0,
          "y1": 1,
          "yref": "paper"
         },
         {
          "layer": "below",
          "line": {
           "color": "black",
           "dash": "solid",
           "width": 1
          },
          "type": "line",
          "x0": 0.313,
          "x1": 0.313,
          "xref": "paper",
          "y0": 0,
          "y1": 1,
          "yref": "paper"
         },
         {
          "layer": "below",
          "line": {
           "color": "grey",
           "dash": "dash",
           "width": 1
          },
          "type": "line",
          "x0": 0.46950000000000003,
          "x1": 0.46950000000000003,
          "xref": "paper",
          "y0": 0,
          "y1": 1,
          "yref": "paper"
         },
         {
          "layer": "below",
          "line": {
           "color": "black",
           "dash": "solid",
           "width": 1
          },
          "type": "line",
          "x0": 0.626,
          "x1": 0.626,
          "xref": "paper",
          "y0": 0,
          "y1": 1,
          "yref": "paper"
         },
         {
          "layer": "below",
          "line": {
           "color": "grey",
           "dash": "dash",
           "width": 1
          },
          "type": "line",
          "x0": 0.7825,
          "x1": 0.7825,
          "xref": "paper",
          "y0": 0,
          "y1": 1,
          "yref": "paper"
         },
         {
          "layer": "below",
          "line": {
           "color": "black",
           "dash": "solid",
           "width": 1
          },
          "type": "line",
          "x0": 0.939,
          "x1": 0.939,
          "xref": "paper",
          "y0": 0,
          "y1": 1,
          "yref": "paper"
         }
        ],
        "template": {
         "data": {
          "bar": [
           {
            "error_x": {
             "color": "#2a3f5f"
            },
            "error_y": {
             "color": "#2a3f5f"
            },
            "marker": {
             "line": {
              "color": "white",
              "width": 0.5
             },
             "pattern": {
              "fillmode": "overlay",
              "size": 10,
              "solidity": 0.2
             }
            },
            "type": "bar"
           }
          ],
          "barpolar": [
           {
            "marker": {
             "line": {
              "color": "white",
              "width": 0.5
             },
             "pattern": {
              "fillmode": "overlay",
              "size": 10,
              "solidity": 0.2
             }
            },
            "type": "barpolar"
           }
          ],
          "carpet": [
           {
            "aaxis": {
             "endlinecolor": "#2a3f5f",
             "gridcolor": "#C8D4E3",
             "linecolor": "#C8D4E3",
             "minorgridcolor": "#C8D4E3",
             "startlinecolor": "#2a3f5f"
            },
            "baxis": {
             "endlinecolor": "#2a3f5f",
             "gridcolor": "#C8D4E3",
             "linecolor": "#C8D4E3",
             "minorgridcolor": "#C8D4E3",
             "startlinecolor": "#2a3f5f"
            },
            "type": "carpet"
           }
          ],
          "choropleth": [
           {
            "colorbar": {
             "outlinewidth": 0,
             "ticks": ""
            },
            "type": "choropleth"
           }
          ],
          "contour": [
           {
            "colorbar": {
             "outlinewidth": 0,
             "ticks": ""
            },
            "colorscale": [
             [
              0,
              "#0d0887"
             ],
             [
              0.1111111111111111,
              "#46039f"
             ],
             [
              0.2222222222222222,
              "#7201a8"
             ],
             [
              0.3333333333333333,
              "#9c179e"
             ],
             [
              0.4444444444444444,
              "#bd3786"
             ],
             [
              0.5555555555555556,
              "#d8576b"
             ],
             [
              0.6666666666666666,
              "#ed7953"
             ],
             [
              0.7777777777777778,
              "#fb9f3a"
             ],
             [
              0.8888888888888888,
              "#fdca26"
             ],
             [
              1,
              "#f0f921"
             ]
            ],
            "type": "contour"
           }
          ],
          "contourcarpet": [
           {
            "colorbar": {
             "outlinewidth": 0,
             "ticks": ""
            },
            "type": "contourcarpet"
           }
          ],
          "heatmap": [
           {
            "colorbar": {
             "outlinewidth": 0,
             "ticks": ""
            },
            "colorscale": [
             [
              0,
              "#0d0887"
             ],
             [
              0.1111111111111111,
              "#46039f"
             ],
             [
              0.2222222222222222,
              "#7201a8"
             ],
             [
              0.3333333333333333,
              "#9c179e"
             ],
             [
              0.4444444444444444,
              "#bd3786"
             ],
             [
              0.5555555555555556,
              "#d8576b"
             ],
             [
              0.6666666666666666,
              "#ed7953"
             ],
             [
              0.7777777777777778,
              "#fb9f3a"
             ],
             [
              0.8888888888888888,
              "#fdca26"
             ],
             [
              1,
              "#f0f921"
             ]
            ],
            "type": "heatmap"
           }
          ],
          "histogram": [
           {
            "marker": {
             "pattern": {
              "fillmode": "overlay",
              "size": 10,
              "solidity": 0.2
             }
            },
            "type": "histogram"
           }
          ],
          "histogram2d": [
           {
            "colorbar": {
             "outlinewidth": 0,
             "ticks": ""
            },
            "colorscale": [
             [
              0,
              "#0d0887"
             ],
             [
              0.1111111111111111,
              "#46039f"
             ],
             [
              0.2222222222222222,
              "#7201a8"
             ],
             [
              0.3333333333333333,
              "#9c179e"
             ],
             [
              0.4444444444444444,
              "#bd3786"
             ],
             [
              0.5555555555555556,
              "#d8576b"
             ],
             [
              0.6666666666666666,
              "#ed7953"
             ],
             [
              0.7777777777777778,
              "#fb9f3a"
             ],
             [
              0.8888888888888888,
              "#fdca26"
             ],
             [
              1,
              "#f0f921"
             ]
            ],
            "type": "histogram2d"
           }
          ],
          "histogram2dcontour": [
           {
            "colorbar": {
             "outlinewidth": 0,
             "ticks": ""
            },
            "colorscale": [
             [
              0,
              "#0d0887"
             ],
             [
              0.1111111111111111,
              "#46039f"
             ],
             [
              0.2222222222222222,
              "#7201a8"
             ],
             [
              0.3333333333333333,
              "#9c179e"
             ],
             [
              0.4444444444444444,
              "#bd3786"
             ],
             [
              0.5555555555555556,
              "#d8576b"
             ],
             [
              0.6666666666666666,
              "#ed7953"
             ],
             [
              0.7777777777777778,
              "#fb9f3a"
             ],
             [
              0.8888888888888888,
              "#fdca26"
             ],
             [
              1,
              "#f0f921"
             ]
            ],
            "type": "histogram2dcontour"
           }
          ],
          "mesh3d": [
           {
            "colorbar": {
             "outlinewidth": 0,
             "ticks": ""
            },
            "type": "mesh3d"
           }
          ],
          "parcoords": [
           {
            "line": {
             "colorbar": {
              "outlinewidth": 0,
              "ticks": ""
             }
            },
            "type": "parcoords"
           }
          ],
          "pie": [
           {
            "automargin": true,
            "type": "pie"
           }
          ],
          "scatter": [
           {
            "fillpattern": {
             "fillmode": "overlay",
             "size": 10,
             "solidity": 0.2
            },
            "type": "scatter"
           }
          ],
          "scatter3d": [
           {
            "line": {
             "colorbar": {
              "outlinewidth": 0,
              "ticks": ""
             }
            },
            "marker": {
             "colorbar": {
              "outlinewidth": 0,
              "ticks": ""
             }
            },
            "type": "scatter3d"
           }
          ],
          "scattercarpet": [
           {
            "marker": {
             "colorbar": {
              "outlinewidth": 0,
              "ticks": ""
             }
            },
            "type": "scattercarpet"
           }
          ],
          "scattergeo": [
           {
            "marker": {
             "colorbar": {
              "outlinewidth": 0,
              "ticks": ""
             }
            },
            "type": "scattergeo"
           }
          ],
          "scattergl": [
           {
            "marker": {
             "colorbar": {
              "outlinewidth": 0,
              "ticks": ""
             }
            },
            "type": "scattergl"
           }
          ],
          "scattermap": [
           {
            "marker": {
             "colorbar": {
              "outlinewidth": 0,
              "ticks": ""
             }
            },
            "type": "scattermap"
           }
          ],
          "scattermapbox": [
           {
            "marker": {
             "colorbar": {
              "outlinewidth": 0,
              "ticks": ""
             }
            },
            "type": "scattermapbox"
           }
          ],
          "scatterpolar": [
           {
            "marker": {
             "colorbar": {
              "outlinewidth": 0,
              "ticks": ""
             }
            },
            "type": "scatterpolar"
           }
          ],
          "scatterpolargl": [
           {
            "marker": {
             "colorbar": {
              "outlinewidth": 0,
              "ticks": ""
             }
            },
            "type": "scatterpolargl"
           }
          ],
          "scatterternary": [
           {
            "marker": {
             "colorbar": {
              "outlinewidth": 0,
              "ticks": ""
             }
            },
            "type": "scatterternary"
           }
          ],
          "surface": [
           {
            "colorbar": {
             "outlinewidth": 0,
             "ticks": ""
            },
            "colorscale": [
             [
              0,
              "#0d0887"
             ],
             [
              0.1111111111111111,
              "#46039f"
             ],
             [
              0.2222222222222222,
              "#7201a8"
             ],
             [
              0.3333333333333333,
              "#9c179e"
             ],
             [
              0.4444444444444444,
              "#bd3786"
             ],
             [
              0.5555555555555556,
              "#d8576b"
             ],
             [
              0.6666666666666666,
              "#ed7953"
             ],
             [
              0.7777777777777778,
              "#fb9f3a"
             ],
             [
              0.8888888888888888,
              "#fdca26"
             ],
             [
              1,
              "#f0f921"
             ]
            ],
            "type": "surface"
           }
          ],
          "table": [
           {
            "cells": {
             "fill": {
              "color": "#EBF0F8"
             },
             "line": {
              "color": "white"
             }
            },
            "header": {
             "fill": {
              "color": "#C8D4E3"
             },
             "line": {
              "color": "white"
             }
            },
            "type": "table"
           }
          ]
         },
         "layout": {
          "annotationdefaults": {
           "arrowcolor": "#2a3f5f",
           "arrowhead": 0,
           "arrowwidth": 1
          },
          "autotypenumbers": "strict",
          "coloraxis": {
           "colorbar": {
            "outlinewidth": 0,
            "ticks": ""
           }
          },
          "colorscale": {
           "diverging": [
            [
             0,
             "#8e0152"
            ],
            [
             0.1,
             "#c51b7d"
            ],
            [
             0.2,
             "#de77ae"
            ],
            [
             0.3,
             "#f1b6da"
            ],
            [
             0.4,
             "#fde0ef"
            ],
            [
             0.5,
             "#f7f7f7"
            ],
            [
             0.6,
             "#e6f5d0"
            ],
            [
             0.7,
             "#b8e186"
            ],
            [
             0.8,
             "#7fbc41"
            ],
            [
             0.9,
             "#4d9221"
            ],
            [
             1,
             "#276419"
            ]
           ],
           "sequential": [
            [
             0,
             "#0d0887"
            ],
            [
             0.1111111111111111,
             "#46039f"
            ],
            [
             0.2222222222222222,
             "#7201a8"
            ],
            [
             0.3333333333333333,
             "#9c179e"
            ],
            [
             0.4444444444444444,
             "#bd3786"
            ],
            [
             0.5555555555555556,
             "#d8576b"
            ],
            [
             0.6666666666666666,
             "#ed7953"
            ],
            [
             0.7777777777777778,
             "#fb9f3a"
            ],
            [
             0.8888888888888888,
             "#fdca26"
            ],
            [
             1,
             "#f0f921"
            ]
           ],
           "sequentialminus": [
            [
             0,
             "#0d0887"
            ],
            [
             0.1111111111111111,
             "#46039f"
            ],
            [
             0.2222222222222222,
             "#7201a8"
            ],
            [
             0.3333333333333333,
             "#9c179e"
            ],
            [
             0.4444444444444444,
             "#bd3786"
            ],
            [
             0.5555555555555556,
             "#d8576b"
            ],
            [
             0.6666666666666666,
             "#ed7953"
            ],
            [
             0.7777777777777778,
             "#fb9f3a"
            ],
            [
             0.8888888888888888,
             "#fdca26"
            ],
            [
             1,
             "#f0f921"
            ]
           ]
          },
          "colorway": [
           "#636efa",
           "#EF553B",
           "#00cc96",
           "#ab63fa",
           "#FFA15A",
           "#19d3f3",
           "#FF6692",
           "#B6E880",
           "#FF97FF",
           "#FECB52"
          ],
          "font": {
           "color": "#2a3f5f"
          },
          "geo": {
           "bgcolor": "white",
           "lakecolor": "white",
           "landcolor": "white",
           "showlakes": true,
           "showland": true,
           "subunitcolor": "#C8D4E3"
          },
          "hoverlabel": {
           "align": "left"
          },
          "hovermode": "closest",
          "mapbox": {
           "style": "light"
          },
          "paper_bgcolor": "white",
          "plot_bgcolor": "white",
          "polar": {
           "angularaxis": {
            "gridcolor": "#EBF0F8",
            "linecolor": "#EBF0F8",
            "ticks": ""
           },
           "bgcolor": "white",
           "radialaxis": {
            "gridcolor": "#EBF0F8",
            "linecolor": "#EBF0F8",
            "ticks": ""
           }
          },
          "scene": {
           "xaxis": {
            "backgroundcolor": "white",
            "gridcolor": "#DFE8F3",
            "gridwidth": 2,
            "linecolor": "#EBF0F8",
            "showbackground": true,
            "ticks": "",
            "zerolinecolor": "#EBF0F8"
           },
           "yaxis": {
            "backgroundcolor": "white",
            "gridcolor": "#DFE8F3",
            "gridwidth": 2,
            "linecolor": "#EBF0F8",
            "showbackground": true,
            "ticks": "",
            "zerolinecolor": "#EBF0F8"
           },
           "zaxis": {
            "backgroundcolor": "white",
            "gridcolor": "#DFE8F3",
            "gridwidth": 2,
            "linecolor": "#EBF0F8",
            "showbackground": true,
            "ticks": "",
            "zerolinecolor": "#EBF0F8"
           }
          },
          "shapedefaults": {
           "line": {
            "color": "#2a3f5f"
           }
          },
          "ternary": {
           "aaxis": {
            "gridcolor": "#DFE8F3",
            "linecolor": "#A2B1C6",
            "ticks": ""
           },
           "baxis": {
            "gridcolor": "#DFE8F3",
            "linecolor": "#A2B1C6",
            "ticks": ""
           },
           "bgcolor": "white",
           "caxis": {
            "gridcolor": "#DFE8F3",
            "linecolor": "#A2B1C6",
            "ticks": ""
           }
          },
          "title": {
           "x": 0.05
          },
          "xaxis": {
           "automargin": true,
           "gridcolor": "#EBF0F8",
           "linecolor": "#EBF0F8",
           "ticks": "",
           "title": {
            "standoff": 15
           },
           "zerolinecolor": "#EBF0F8",
           "zerolinewidth": 2
          },
          "yaxis": {
           "automargin": true,
           "gridcolor": "#EBF0F8",
           "linecolor": "#EBF0F8",
           "ticks": "",
           "title": {
            "standoff": 15
           },
           "zerolinecolor": "#EBF0F8",
           "zerolinewidth": 2
          }
         }
        },
        "width": 1300,
        "xaxis": {
         "anchor": "y",
         "domain": [
          0,
          0.94
         ]
        },
        "yaxis": {
         "anchor": "x",
         "domain": [
          0,
          1
         ],
         "range": [
          0,
          5
         ],
         "title": {
          "font": {
           "size": 20
          },
          "text": "Normalised SID"
         }
        },
        "yaxis2": {
         "anchor": "x",
         "overlaying": "y",
         "range": [
          0,
          5
         ],
         "scaleanchor": 0,
         "showgrid": false,
         "showline": false,
         "showticklabels": false,
         "side": "right",
         "title": {
          "font": {
           "size": 20
          },
          "text": ""
         },
         "zeroline": true
        }
       }
      }
     },
     "metadata": {},
     "output_type": "display_data"
    }
   ],
   "source": [
    "double_bar_chart_plotly(v1_bn_plot_data, \n",
    "                        names_dict,\n",
    "                        colors_dict,\n",
    "                        methods=methods,\n",
    "                        dist_between_lines=0.1565,\n",
    "                        lin_space=6,\n",
    "                        nl_space=6,\n",
    "                        intra_dis = 0.161,\n",
    "                        inter_dis = 0.174,\n",
    "                        start_pos = 0.04,\n",
    "                            width=1300,\n",
    "                            height=600,\n",
    "                            range_y1=(0, 5),\n",
    "                            range_y2=(0, 5))"
   ]
  },
  {
   "cell_type": "markdown",
   "id": "6108af5f",
   "metadata": {},
   "source": [
    "Runtime for V1"
   ]
  },
  {
   "cell_type": "code",
   "execution_count": 32,
   "id": "41f03be8",
   "metadata": {},
   "outputs": [],
   "source": [
    "methods = [\n",
    "    # 'Random',\n",
    "    # 'FGS',\n",
    "    # 'NOTEARS-MLP',\n",
    "    # 'MPC',\n",
    "    'ABAPC (Original)',\n",
    "    'V1.1 Refined Fact Ranking',\n",
    "    'V1.2 Model Selection by Refined Fact Strengths',\n",
    "    'V1.3 Model Selection by Arrows Sum',\n",
    "    'V1.4 Model Selection by Arrows Mean'\n",
    "]\n",
    "\n",
    "symbols_dict = {\n",
    "    'ABAPC (Original)':'triangle-down-dot',\n",
    "    'FGS':'triangle-up-dot',\n",
    "    'NOTEARS-MLP':'pentagon-dot',\n",
    "    'MPC':'hexagon2-dot',\n",
    "    'Random':'x', \n",
    "    'V1.1 Refined Fact Ranking':'circle-dot',\n",
    "    'V1.2 Model Selection by Refined Fact Strengths':'diamond-dot',\n",
    "    'V1.3 Model Selection by Arrows Sum':'square-dot',\n",
    "    'V1.4 Model Selection by Arrows Mean':'star-dot',}"
   ]
  },
  {
   "cell_type": "code",
   "execution_count": 35,
   "id": "5592fa96",
   "metadata": {},
   "outputs": [],
   "source": [
    "v1_data_for_runtime_plot = pd.concat([v1_data_random, baselines_data_random], ignore_index=True)\n",
    "v1_data_for_runtime_plot.loc[v1_data_for_runtime_plot['model'] == 'ABAPC (Original)', 'elapsed'] = (\n",
    "    v1_data_for_runtime_plot.loc[v1_data_for_runtime_plot['model'] == 'ABAPC (Original)', 'aba_elapsed'] + \n",
    "    v1_data_for_runtime_plot.loc[v1_data_for_runtime_plot['model'] == 'ABAPC (Original)', 'ranking_elapsed'])\n",
    "v1_data_for_runtime_plot = v1_data_for_runtime_plot.groupby(['n_nodes', 'n_edges', 'model'], as_index=False).aggregate(\n",
    "    elapsed_mean=('elapsed', 'mean'),\n",
    "    elapsed_std=('elapsed', 'std')\n",
    ")"
   ]
  },
  {
   "cell_type": "code",
   "execution_count": 36,
   "id": "9a192c4d",
   "metadata": {},
   "outputs": [
    {
     "data": {
      "application/vnd.plotly.v1+json": {
       "config": {
        "plotlyServerURL": "https://plot.ly"
       },
       "data": [
        {
         "error_y": {
          "array": {
           "bdata": "tIs2TTuEgD/CxmTnJmPJPzVRcjzAf9M/qMbnwk8VQEA=",
           "dtype": "f8"
          },
          "thickness": 2,
          "type": "data"
         },
         "line": {
          "color": "#0085CA",
          "width": 2
         },
         "marker": {
          "color": "#0085CA",
          "size": 8,
          "symbol": "triangle-down-dot"
         },
         "mode": "lines+markers",
         "name": "ABAPC (Original)",
         "opacity": 0.8,
         "type": "scatter",
         "x": [
          "3",
          "4",
          "5",
          "6"
         ],
         "y": {
          "bdata": "2ihcj8qLkz90FK5HuxS0P5iZmZkTL9E/FK5HASZsI0A=",
          "dtype": "f8"
         }
        },
        {
         "error_y": {
          "array": {
           "bdata": "64HKgiI2kD9ocTod0AKiP1a4ZZbzyrk/YoCgQUwEAkA=",
           "dtype": "f8"
          },
          "thickness": 2,
          "type": "data"
         },
         "line": {
          "color": "#9F8D00",
          "width": 2
         },
         "marker": {
          "color": "#9F8D00",
          "size": 8,
          "symbol": "circle-dot"
         },
         "mode": "lines+markers",
         "name": "V1.1",
         "opacity": 0.8,
         "type": "scatter",
         "x": [
          "3",
          "4",
          "5",
          "6"
         ],
         "y": {
          "bdata": "8q1H4Z7cpz/behSuKfjEP3E9CnelDvc/exSuaq1BQEA=",
          "dtype": "f8"
         }
        },
        {
         "error_y": {
          "array": {
           "bdata": "/LmlDjYLgT9sc9Vj+GPJP6+JCb2rBsw/icwu/41TL0A=",
           "dtype": "f8"
          },
          "thickness": 2,
          "type": "data"
         },
         "line": {
          "color": "#9E0000",
          "width": 2
         },
         "marker": {
          "color": "#9E0000",
          "size": 8,
          "symbol": "diamond-dot"
         },
         "mode": "lines+markers",
         "name": "V1.2",
         "opacity": 0.8,
         "type": "scatter",
         "x": [
          "3",
          "4",
          "5",
          "6"
         ],
         "y": {
          "bdata": "6dajcH2YpD83CtejJI3IP5qZmdkJ4Pg/pHA9KCS2QkA=",
          "dtype": "f8"
         }
        },
        {
         "error_y": {
          "array": {
           "bdata": "HO9BnugQgj+TRZTRxl3JPyRKWX+DgsA/65vPT6PqCUA=",
           "dtype": "f8"
          },
          "thickness": 2,
          "type": "data"
         },
         "line": {
          "color": "#ff34da",
          "width": 2
         },
         "marker": {
          "color": "#ff34da",
          "size": 8,
          "symbol": "square-dot"
         },
         "mode": "lines+markers",
         "name": "V1.3",
         "opacity": 0.8,
         "type": "scatter",
         "x": [
          "3",
          "4",
          "5",
          "6"
         ],
         "y": {
          "bdata": "WhSuR0Xwoz/behSutP/HP4XrUTiwBfg/4XoUpqb0QEA=",
          "dtype": "f8"
         }
        },
        {
         "error_y": {
          "array": {
           "bdata": "WlTxObY+gT/zEsx0MlzJPx+ymetGZ8A/Xd1Wz1rzCUA=",
           "dtype": "f8"
          },
          "thickness": 2,
          "type": "data"
         },
         "line": {
          "color": "#008100",
          "width": 2
         },
         "marker": {
          "color": "#008100",
          "size": 8,
          "symbol": "star-dot"
         },
         "mode": "lines+markers",
         "name": "V1.4 ",
         "opacity": 0.8,
         "type": "scatter",
         "x": [
          "3",
          "4",
          "5",
          "6"
         ],
         "y": {
          "bdata": "v3oUrse7oz8E16NwrgbIPwAAAIAsB/g/XI/CKvH0QEA=",
          "dtype": "f8"
         }
        }
       ],
       "layout": {
        "font": {
         "color": "black",
         "family": "Serif",
         "size": 20
        },
        "height": 300,
        "legend": {
         "orientation": "h",
         "x": 0.5,
         "xanchor": "center",
         "y": 1.05,
         "yanchor": "bottom"
        },
        "margin": {
         "b": 80,
         "l": 10,
         "r": 10,
         "t": 10
        },
        "template": {
         "data": {
          "bar": [
           {
            "error_x": {
             "color": "#2a3f5f"
            },
            "error_y": {
             "color": "#2a3f5f"
            },
            "marker": {
             "line": {
              "color": "white",
              "width": 0.5
             },
             "pattern": {
              "fillmode": "overlay",
              "size": 10,
              "solidity": 0.2
             }
            },
            "type": "bar"
           }
          ],
          "barpolar": [
           {
            "marker": {
             "line": {
              "color": "white",
              "width": 0.5
             },
             "pattern": {
              "fillmode": "overlay",
              "size": 10,
              "solidity": 0.2
             }
            },
            "type": "barpolar"
           }
          ],
          "carpet": [
           {
            "aaxis": {
             "endlinecolor": "#2a3f5f",
             "gridcolor": "#C8D4E3",
             "linecolor": "#C8D4E3",
             "minorgridcolor": "#C8D4E3",
             "startlinecolor": "#2a3f5f"
            },
            "baxis": {
             "endlinecolor": "#2a3f5f",
             "gridcolor": "#C8D4E3",
             "linecolor": "#C8D4E3",
             "minorgridcolor": "#C8D4E3",
             "startlinecolor": "#2a3f5f"
            },
            "type": "carpet"
           }
          ],
          "choropleth": [
           {
            "colorbar": {
             "outlinewidth": 0,
             "ticks": ""
            },
            "type": "choropleth"
           }
          ],
          "contour": [
           {
            "colorbar": {
             "outlinewidth": 0,
             "ticks": ""
            },
            "colorscale": [
             [
              0,
              "#0d0887"
             ],
             [
              0.1111111111111111,
              "#46039f"
             ],
             [
              0.2222222222222222,
              "#7201a8"
             ],
             [
              0.3333333333333333,
              "#9c179e"
             ],
             [
              0.4444444444444444,
              "#bd3786"
             ],
             [
              0.5555555555555556,
              "#d8576b"
             ],
             [
              0.6666666666666666,
              "#ed7953"
             ],
             [
              0.7777777777777778,
              "#fb9f3a"
             ],
             [
              0.8888888888888888,
              "#fdca26"
             ],
             [
              1,
              "#f0f921"
             ]
            ],
            "type": "contour"
           }
          ],
          "contourcarpet": [
           {
            "colorbar": {
             "outlinewidth": 0,
             "ticks": ""
            },
            "type": "contourcarpet"
           }
          ],
          "heatmap": [
           {
            "colorbar": {
             "outlinewidth": 0,
             "ticks": ""
            },
            "colorscale": [
             [
              0,
              "#0d0887"
             ],
             [
              0.1111111111111111,
              "#46039f"
             ],
             [
              0.2222222222222222,
              "#7201a8"
             ],
             [
              0.3333333333333333,
              "#9c179e"
             ],
             [
              0.4444444444444444,
              "#bd3786"
             ],
             [
              0.5555555555555556,
              "#d8576b"
             ],
             [
              0.6666666666666666,
              "#ed7953"
             ],
             [
              0.7777777777777778,
              "#fb9f3a"
             ],
             [
              0.8888888888888888,
              "#fdca26"
             ],
             [
              1,
              "#f0f921"
             ]
            ],
            "type": "heatmap"
           }
          ],
          "histogram": [
           {
            "marker": {
             "pattern": {
              "fillmode": "overlay",
              "size": 10,
              "solidity": 0.2
             }
            },
            "type": "histogram"
           }
          ],
          "histogram2d": [
           {
            "colorbar": {
             "outlinewidth": 0,
             "ticks": ""
            },
            "colorscale": [
             [
              0,
              "#0d0887"
             ],
             [
              0.1111111111111111,
              "#46039f"
             ],
             [
              0.2222222222222222,
              "#7201a8"
             ],
             [
              0.3333333333333333,
              "#9c179e"
             ],
             [
              0.4444444444444444,
              "#bd3786"
             ],
             [
              0.5555555555555556,
              "#d8576b"
             ],
             [
              0.6666666666666666,
              "#ed7953"
             ],
             [
              0.7777777777777778,
              "#fb9f3a"
             ],
             [
              0.8888888888888888,
              "#fdca26"
             ],
             [
              1,
              "#f0f921"
             ]
            ],
            "type": "histogram2d"
           }
          ],
          "histogram2dcontour": [
           {
            "colorbar": {
             "outlinewidth": 0,
             "ticks": ""
            },
            "colorscale": [
             [
              0,
              "#0d0887"
             ],
             [
              0.1111111111111111,
              "#46039f"
             ],
             [
              0.2222222222222222,
              "#7201a8"
             ],
             [
              0.3333333333333333,
              "#9c179e"
             ],
             [
              0.4444444444444444,
              "#bd3786"
             ],
             [
              0.5555555555555556,
              "#d8576b"
             ],
             [
              0.6666666666666666,
              "#ed7953"
             ],
             [
              0.7777777777777778,
              "#fb9f3a"
             ],
             [
              0.8888888888888888,
              "#fdca26"
             ],
             [
              1,
              "#f0f921"
             ]
            ],
            "type": "histogram2dcontour"
           }
          ],
          "mesh3d": [
           {
            "colorbar": {
             "outlinewidth": 0,
             "ticks": ""
            },
            "type": "mesh3d"
           }
          ],
          "parcoords": [
           {
            "line": {
             "colorbar": {
              "outlinewidth": 0,
              "ticks": ""
             }
            },
            "type": "parcoords"
           }
          ],
          "pie": [
           {
            "automargin": true,
            "type": "pie"
           }
          ],
          "scatter": [
           {
            "fillpattern": {
             "fillmode": "overlay",
             "size": 10,
             "solidity": 0.2
            },
            "type": "scatter"
           }
          ],
          "scatter3d": [
           {
            "line": {
             "colorbar": {
              "outlinewidth": 0,
              "ticks": ""
             }
            },
            "marker": {
             "colorbar": {
              "outlinewidth": 0,
              "ticks": ""
             }
            },
            "type": "scatter3d"
           }
          ],
          "scattercarpet": [
           {
            "marker": {
             "colorbar": {
              "outlinewidth": 0,
              "ticks": ""
             }
            },
            "type": "scattercarpet"
           }
          ],
          "scattergeo": [
           {
            "marker": {
             "colorbar": {
              "outlinewidth": 0,
              "ticks": ""
             }
            },
            "type": "scattergeo"
           }
          ],
          "scattergl": [
           {
            "marker": {
             "colorbar": {
              "outlinewidth": 0,
              "ticks": ""
             }
            },
            "type": "scattergl"
           }
          ],
          "scattermap": [
           {
            "marker": {
             "colorbar": {
              "outlinewidth": 0,
              "ticks": ""
             }
            },
            "type": "scattermap"
           }
          ],
          "scattermapbox": [
           {
            "marker": {
             "colorbar": {
              "outlinewidth": 0,
              "ticks": ""
             }
            },
            "type": "scattermapbox"
           }
          ],
          "scatterpolar": [
           {
            "marker": {
             "colorbar": {
              "outlinewidth": 0,
              "ticks": ""
             }
            },
            "type": "scatterpolar"
           }
          ],
          "scatterpolargl": [
           {
            "marker": {
             "colorbar": {
              "outlinewidth": 0,
              "ticks": ""
             }
            },
            "type": "scatterpolargl"
           }
          ],
          "scatterternary": [
           {
            "marker": {
             "colorbar": {
              "outlinewidth": 0,
              "ticks": ""
             }
            },
            "type": "scatterternary"
           }
          ],
          "surface": [
           {
            "colorbar": {
             "outlinewidth": 0,
             "ticks": ""
            },
            "colorscale": [
             [
              0,
              "#0d0887"
             ],
             [
              0.1111111111111111,
              "#46039f"
             ],
             [
              0.2222222222222222,
              "#7201a8"
             ],
             [
              0.3333333333333333,
              "#9c179e"
             ],
             [
              0.4444444444444444,
              "#bd3786"
             ],
             [
              0.5555555555555556,
              "#d8576b"
             ],
             [
              0.6666666666666666,
              "#ed7953"
             ],
             [
              0.7777777777777778,
              "#fb9f3a"
             ],
             [
              0.8888888888888888,
              "#fdca26"
             ],
             [
              1,
              "#f0f921"
             ]
            ],
            "type": "surface"
           }
          ],
          "table": [
           {
            "cells": {
             "fill": {
              "color": "#EBF0F8"
             },
             "line": {
              "color": "white"
             }
            },
            "header": {
             "fill": {
              "color": "#C8D4E3"
             },
             "line": {
              "color": "white"
             }
            },
            "type": "table"
           }
          ]
         },
         "layout": {
          "annotationdefaults": {
           "arrowcolor": "#2a3f5f",
           "arrowhead": 0,
           "arrowwidth": 1
          },
          "autotypenumbers": "strict",
          "coloraxis": {
           "colorbar": {
            "outlinewidth": 0,
            "ticks": ""
           }
          },
          "colorscale": {
           "diverging": [
            [
             0,
             "#8e0152"
            ],
            [
             0.1,
             "#c51b7d"
            ],
            [
             0.2,
             "#de77ae"
            ],
            [
             0.3,
             "#f1b6da"
            ],
            [
             0.4,
             "#fde0ef"
            ],
            [
             0.5,
             "#f7f7f7"
            ],
            [
             0.6,
             "#e6f5d0"
            ],
            [
             0.7,
             "#b8e186"
            ],
            [
             0.8,
             "#7fbc41"
            ],
            [
             0.9,
             "#4d9221"
            ],
            [
             1,
             "#276419"
            ]
           ],
           "sequential": [
            [
             0,
             "#0d0887"
            ],
            [
             0.1111111111111111,
             "#46039f"
            ],
            [
             0.2222222222222222,
             "#7201a8"
            ],
            [
             0.3333333333333333,
             "#9c179e"
            ],
            [
             0.4444444444444444,
             "#bd3786"
            ],
            [
             0.5555555555555556,
             "#d8576b"
            ],
            [
             0.6666666666666666,
             "#ed7953"
            ],
            [
             0.7777777777777778,
             "#fb9f3a"
            ],
            [
             0.8888888888888888,
             "#fdca26"
            ],
            [
             1,
             "#f0f921"
            ]
           ],
           "sequentialminus": [
            [
             0,
             "#0d0887"
            ],
            [
             0.1111111111111111,
             "#46039f"
            ],
            [
             0.2222222222222222,
             "#7201a8"
            ],
            [
             0.3333333333333333,
             "#9c179e"
            ],
            [
             0.4444444444444444,
             "#bd3786"
            ],
            [
             0.5555555555555556,
             "#d8576b"
            ],
            [
             0.6666666666666666,
             "#ed7953"
            ],
            [
             0.7777777777777778,
             "#fb9f3a"
            ],
            [
             0.8888888888888888,
             "#fdca26"
            ],
            [
             1,
             "#f0f921"
            ]
           ]
          },
          "colorway": [
           "#636efa",
           "#EF553B",
           "#00cc96",
           "#ab63fa",
           "#FFA15A",
           "#19d3f3",
           "#FF6692",
           "#B6E880",
           "#FF97FF",
           "#FECB52"
          ],
          "font": {
           "color": "#2a3f5f"
          },
          "geo": {
           "bgcolor": "white",
           "lakecolor": "white",
           "landcolor": "white",
           "showlakes": true,
           "showland": true,
           "subunitcolor": "#C8D4E3"
          },
          "hoverlabel": {
           "align": "left"
          },
          "hovermode": "closest",
          "mapbox": {
           "style": "light"
          },
          "paper_bgcolor": "white",
          "plot_bgcolor": "white",
          "polar": {
           "angularaxis": {
            "gridcolor": "#EBF0F8",
            "linecolor": "#EBF0F8",
            "ticks": ""
           },
           "bgcolor": "white",
           "radialaxis": {
            "gridcolor": "#EBF0F8",
            "linecolor": "#EBF0F8",
            "ticks": ""
           }
          },
          "scene": {
           "xaxis": {
            "backgroundcolor": "white",
            "gridcolor": "#DFE8F3",
            "gridwidth": 2,
            "linecolor": "#EBF0F8",
            "showbackground": true,
            "ticks": "",
            "zerolinecolor": "#EBF0F8"
           },
           "yaxis": {
            "backgroundcolor": "white",
            "gridcolor": "#DFE8F3",
            "gridwidth": 2,
            "linecolor": "#EBF0F8",
            "showbackground": true,
            "ticks": "",
            "zerolinecolor": "#EBF0F8"
           },
           "zaxis": {
            "backgroundcolor": "white",
            "gridcolor": "#DFE8F3",
            "gridwidth": 2,
            "linecolor": "#EBF0F8",
            "showbackground": true,
            "ticks": "",
            "zerolinecolor": "#EBF0F8"
           }
          },
          "shapedefaults": {
           "line": {
            "color": "#2a3f5f"
           }
          },
          "ternary": {
           "aaxis": {
            "gridcolor": "#DFE8F3",
            "linecolor": "#A2B1C6",
            "ticks": ""
           },
           "baxis": {
            "gridcolor": "#DFE8F3",
            "linecolor": "#A2B1C6",
            "ticks": ""
           },
           "bgcolor": "white",
           "caxis": {
            "gridcolor": "#DFE8F3",
            "linecolor": "#A2B1C6",
            "ticks": ""
           }
          },
          "title": {
           "x": 0.05
          },
          "xaxis": {
           "automargin": true,
           "gridcolor": "#EBF0F8",
           "linecolor": "#EBF0F8",
           "ticks": "",
           "title": {
            "standoff": 15
           },
           "zerolinecolor": "#EBF0F8",
           "zerolinewidth": 2
          },
          "yaxis": {
           "automargin": true,
           "gridcolor": "#EBF0F8",
           "linecolor": "#EBF0F8",
           "ticks": "",
           "title": {
            "standoff": 15
           },
           "zerolinecolor": "#EBF0F8",
           "zerolinewidth": 2
          }
         }
        },
        "width": 750,
        "xaxis": {
         "anchor": "y",
         "domain": [
          0,
          1
         ],
         "title": {
          "text": "Number of Nodes (|V|)"
         }
        },
        "yaxis": {
         "anchor": "x",
         "domain": [
          0,
          1
         ],
         "title": {
          "text": "log(elapsed time [s])"
         },
         "type": "log"
        }
       }
      }
     },
     "metadata": {},
     "output_type": "display_data"
    }
   ],
   "source": [
    "v1_data_for_runtime_plot = v1_data_for_runtime_plot[v1_data_for_runtime_plot['n_nodes'] <= 6]\n",
    "plot_runtime(v1_data_for_runtime_plot,\n",
    "             colors_dict=colors_dict,\n",
    "             names_dict=names_dict,\n",
    "             symbols_dict=symbols_dict,\n",
    "             methods=methods)"
   ]
  },
  {
   "cell_type": "code",
   "execution_count": null,
   "id": "d8547cd9",
   "metadata": {},
   "outputs": [],
   "source": []
  }
 ],
 "metadata": {
  "kernelspec": {
   "display_name": "aba-env",
   "language": "python",
   "name": "python3"
  },
  "language_info": {
   "codemirror_mode": {
    "name": "ipython",
    "version": 3
   },
   "file_extension": ".py",
   "mimetype": "text/x-python",
   "name": "python",
   "nbconvert_exporter": "python",
   "pygments_lexer": "ipython3",
   "version": "3.12.9"
  }
 },
 "nbformat": 4,
 "nbformat_minor": 5
}
