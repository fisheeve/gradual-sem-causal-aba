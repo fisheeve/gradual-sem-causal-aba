{
 "cells": [
  {
   "cell_type": "markdown",
   "id": "d1812658",
   "metadata": {},
   "source": [
    "# Results Notebook\n",
    "\n",
    "The aim of this notebook is to generate plots to showcase experiment results at `results/`\n",
    "\n",
    "Following is plotted:\n",
    "- SID plots of\n",
    "    - Gradual - V1\n",
    "        - SID score - Random graphs - Baselines, existing ABAPC, 4 methods with V1 improved ABAPC\n",
    "        - SID score - BNlearn 3 datasets - Baselines, existing ABAPC, 4 methods with V1 improved ABAPC\n",
    "        - Runtime - Random graphs - Baselines, existing ABAPC, 4 methods with V1 improved ABAPC\n",
    "    - Gradual - V2 - Ablation\n",
    "        - SID scores - Random graphs - ablation plots\n",
    "        - SID scores - Random graphs - comparison to baselines, existing ABAPC, V2 best (least approx)\n",
    "        - Runtime - Random graphs - ablation plots\n",
    "        - Runtime - Random graphs - comparison to baselines, existing ABAPC, V2. May be combined with last plot"
   ]
  },
  {
   "cell_type": "code",
   "execution_count": 1,
   "id": "ebe8a1ad",
   "metadata": {},
   "outputs": [],
   "source": [
    "import pandas as pd\n",
    "import numpy as np\n",
    "\n",
    "import importlib\n",
    "import utils\n",
    "importlib.reload(utils)\n",
    "from utils import plot_runtime, double_bar_chart_plotly, process_model_names_and_runtime_v1_data, process_mean_std_sid_data, DAG_NODES_MAP, DAG_EDGES_MAP"
   ]
  },
  {
   "cell_type": "markdown",
   "id": "88e4169e",
   "metadata": {},
   "source": [
    "## Small Graphs V1 and V2 Plots"
   ]
  },
  {
   "cell_type": "code",
   "execution_count": 3,
   "id": "fd7e93da",
   "metadata": {},
   "outputs": [],
   "source": [
    "baselines_data_random = pd.read_csv('../../results/existing/random_graphs/all_existing_methods_metrics_cpdag.csv')\n",
    "baselines_data_random_fgs = pd.read_csv('../../results/existing/random_graphs/fgs/all_existing_methods_metrics_cpdag.csv')\n",
    "baselines_data_random = pd.concat([baselines_data_random, baselines_data_random_fgs], ignore_index=True)\n",
    "\n",
    "baselines_data_bn = pd.read_csv('../../results/existing/bnlearn_graphs/all_existing_methods_metrics_cpdag.csv')\n",
    "baselines_data_bn_fgs = pd.read_csv('../../results/existing/bnlearn_graphs/fgs/all_existing_methods_metrics_cpdag.csv')\n",
    "baselines_data_bn = pd.concat([baselines_data_bn, baselines_data_bn_fgs], ignore_index=True)\n",
    "\n",
    "v1_data_random = pd.read_csv('../../results/gradual/v1_random_graphs/cpdag_metrics.csv')\n",
    "v1_data_bn = pd.read_csv('../../results/gradual/v1_bnlearn_graphs/cpdag_metrics.csv')\n",
    "\n",
    "fact_sourcing_runtime_random = pd.read_csv('../../results/existing/runtime_sourcing_facts_random_graphs/runtime_results.csv')\n",
    "fact_sourcing_runtime_bn = pd.read_csv('../../results/existing/runtime_sourcing_facts_bnlearn_graphs/runtime_results.csv')\n",
    "\n",
    "v2_data_random = pd.read_csv('../../results/gradual/v2_random_graphs_3_to_6_nodes/cpdag_metrics.csv')\n",
    "v2_data_bn = pd.read_csv('../../results/gradual/v2_bnlearn_graphs_up_to_6_nodes/cpdag_metrics.csv')\n"
   ]
  },
  {
   "cell_type": "code",
   "execution_count": 4,
   "id": "ab2db09c",
   "metadata": {},
   "outputs": [
    {
     "data": {
      "text/plain": [
       "Index(['nnz', 'fdr', 'tpr', 'fpr', 'precision', 'recall', 'F1', 'shd',\n",
       "       'sid_low', 'sid_high', 'dataset', 'seed', 'n_nodes', 'n_edges',\n",
       "       'neighbourhood_n_nodes', 'max_cycle_length', 'max_ct_depth',\n",
       "       'max_path_length', 'max_c_set_size', 'search_depth',\n",
       "       'elapsed_bsaf_creation', 'elapsed_model_solution', 'is_converged',\n",
       "       'fact_ranking_method', 'model_ranking_method', 'num_edges_est',\n",
       "       'best_model', 'aba_elapsed', 'ranking_elapsed', 'best_I'],\n",
       "      dtype='object')"
      ]
     },
     "execution_count": 4,
     "metadata": {},
     "output_type": "execute_result"
    }
   ],
   "source": [
    "v2_data_random.columns"
   ]
  },
  {
   "cell_type": "code",
   "execution_count": 5,
   "id": "5a00b8b0",
   "metadata": {},
   "outputs": [],
   "source": [
    "v2_data_random['model'] = 'V2'\n",
    "v2_data_random['elapsed'] = (\n",
    "    v2_data_random['elapsed_bsaf_creation'] +\n",
    "    v2_data_random['elapsed_model_solution'] + \n",
    "    v2_data_random['aba_elapsed'] +\n",
    "    v2_data_random['ranking_elapsed']\n",
    ")\n",
    "\n",
    "v2_data_bn['model'] = 'V2'\n",
    "v2_data_bn['elapsed'] = (\n",
    "    v2_data_bn['elapsed_bsaf_creation'] +\n",
    "    v2_data_bn['elapsed_model_solution'] + \n",
    "    v2_data_bn['aba_elapsed'] +\n",
    "    v2_data_bn['ranking_elapsed']\n",
    ")"
   ]
  },
  {
   "cell_type": "code",
   "execution_count": 7,
   "id": "f68fa408",
   "metadata": {},
   "outputs": [],
   "source": [
    "\n",
    "v1_data_random['dataset'] = '|V|=' + v1_data_random['n_nodes'].astype(str) + ', |E|=' + v1_data_random['n_edges'].astype(str)\n",
    "baselines_data_random['dataset'] = '|V|=' + baselines_data_random['n_nodes'].astype(str) + ', |E|=' + baselines_data_random['n_edges'].astype(str)\n",
    "v2_data_random['dataset'] = '|V|=' + v2_data_random['n_nodes'].astype(str) + ', |E|=' + v2_data_random['n_edges'].astype(str)"
   ]
  },
  {
   "cell_type": "code",
   "execution_count": 8,
   "id": "7ac25d57",
   "metadata": {},
   "outputs": [],
   "source": [
    "baselines_random_processed = process_mean_std_sid_data(baselines_data_random)\n",
    "v1_data_with_model_names = process_model_names_and_runtime_v1_data(v1_data_random, fact_sourcing_runtime_random)\n",
    "v1_random_processed = process_mean_std_sid_data(v1_data_with_model_names)\n",
    "v2_data_random_processed = process_mean_std_sid_data(v2_data_random)\n",
    "\n",
    "v1_random_plot_data = pd.concat([v1_random_processed, \n",
    "                                 baselines_random_processed[baselines_random_processed['n_nodes'] <= 6],\n",
    "                                 v2_data_random_processed], \n",
    "                                 ignore_index=True)"
   ]
  },
  {
   "cell_type": "code",
   "execution_count": 9,
   "id": "b2b68937",
   "metadata": {},
   "outputs": [
    {
     "data": {
      "text/html": [
       "<div>\n",
       "<style scoped>\n",
       "    .dataframe tbody tr th:only-of-type {\n",
       "        vertical-align: middle;\n",
       "    }\n",
       "\n",
       "    .dataframe tbody tr th {\n",
       "        vertical-align: top;\n",
       "    }\n",
       "\n",
       "    .dataframe thead th {\n",
       "        text-align: right;\n",
       "    }\n",
       "</style>\n",
       "<table border=\"1\" class=\"dataframe\">\n",
       "  <thead>\n",
       "    <tr style=\"text-align: right;\">\n",
       "      <th></th>\n",
       "      <th>dataset</th>\n",
       "      <th>n_nodes</th>\n",
       "      <th>n_edges</th>\n",
       "      <th>model</th>\n",
       "      <th>sid_low_mean</th>\n",
       "      <th>sid_high_mean</th>\n",
       "      <th>sid_low_std</th>\n",
       "      <th>sid_high_std</th>\n",
       "      <th>p_SID_low_mean</th>\n",
       "      <th>p_SID_high_mean</th>\n",
       "      <th>p_SID_low_std</th>\n",
       "      <th>p_SID_high_std</th>\n",
       "    </tr>\n",
       "  </thead>\n",
       "  <tbody>\n",
       "    <tr>\n",
       "      <th>0</th>\n",
       "      <td>|V|=3, |E|=3</td>\n",
       "      <td>3</td>\n",
       "      <td>3</td>\n",
       "      <td>ABAPC (Original)</td>\n",
       "      <td>1.66</td>\n",
       "      <td>5.32</td>\n",
       "      <td>2.105484</td>\n",
       "      <td>1.316148</td>\n",
       "      <td>0.553333</td>\n",
       "      <td>1.773333</td>\n",
       "      <td>0.701828</td>\n",
       "      <td>0.438716</td>\n",
       "    </tr>\n",
       "  </tbody>\n",
       "</table>\n",
       "</div>"
      ],
      "text/plain": [
       "        dataset  n_nodes  n_edges             model  sid_low_mean  \\\n",
       "0  |V|=3, |E|=3        3        3  ABAPC (Original)          1.66   \n",
       "\n",
       "   sid_high_mean  sid_low_std  sid_high_std  p_SID_low_mean  p_SID_high_mean  \\\n",
       "0           5.32     2.105484      1.316148        0.553333         1.773333   \n",
       "\n",
       "   p_SID_low_std  p_SID_high_std  \n",
       "0       0.701828        0.438716  "
      ]
     },
     "execution_count": 9,
     "metadata": {},
     "output_type": "execute_result"
    }
   ],
   "source": [
    "v1_random_plot_data.head(1)"
   ]
  },
  {
   "cell_type": "code",
   "execution_count": 13,
   "id": "82b85e90",
   "metadata": {},
   "outputs": [],
   "source": [
    "methods = [\n",
    "    'Random',\n",
    "    'FGS',\n",
    "    'NOTEARS-MLP',\n",
    "    'MPC',\n",
    "    'ABAPC (Original)',\n",
    "    'V1.1 Refined Fact Ranking',\n",
    "    'V1.2 Model Selection by Refined Fact Strengths',\n",
    "    'V1.3 Model Selection by Arrows Sum',\n",
    "    'V1.4 Model Selection by Arrows Mean',\n",
    "    'V2',\n",
    "]\n",
    "names_dict = {\n",
    "    'Random': 'Random',\n",
    "    'FGS': 'FGS',\n",
    "    'NOTEARS-MLP': 'NOTEARS-MLP',\n",
    "    'MPC': 'MPC',\n",
    "    'ABAPC (Original)': 'ABAPC (Original)',\n",
    "    'V1.1 Refined Fact Ranking': 'V1.1',\n",
    "    'V1.2 Model Selection by Refined Fact Strengths': 'V1.2',\n",
    "    'V1.3 Model Selection by Arrows Sum': 'V1.3',\n",
    "    'V1.4 Model Selection by Arrows Mean': 'V1.4 ',\n",
    "    'V2': 'V2',\n",
    "}\n",
    "colors_dict = {\n",
    "        'Random': 'grey',\n",
    "        'FGS': '#b85c00',\n",
    "        'NOTEARS-MLP': '#9454c4',\n",
    "        'MPC': '#379f9f',\n",
    "        'ABAPC (Original)': '#0085CA',\n",
    "        'V1.1 Refined Fact Ranking': \"#9F8D00\",\n",
    "        'V1.2 Model Selection by Refined Fact Strengths': \"#9E0000\",\n",
    "        'V1.3 Model Selection by Arrows Sum': \"#ff34da\",\n",
    "        'V1.4 Model Selection by Arrows Mean': \"#008100\",\n",
    "        'V2': \"#ff8c00\",\n",
    "    }"
   ]
  },
  {
   "cell_type": "code",
   "execution_count": 14,
   "id": "49b07345",
   "metadata": {},
   "outputs": [
    {
     "data": {
      "application/vnd.plotly.v1+json": {
       "config": {
        "plotlyServerURL": "https://plot.ly"
       },
       "data": [
        {
         "error_y": {
          "array": {
           "bdata": "AAAAAAAAAAAjaC2k6dLjPyaedkM45+U/5otn7w1W5D8=",
           "dtype": "f8"
          },
          "type": "data",
          "visible": true
         },
         "marker": {
          "color": "grey"
         },
         "name": "Random",
         "offsetgroup": "0",
         "opacity": 0.6,
         "showlegend": true,
         "type": "bar",
         "x": [
          "|V|=3, |E|=3",
          "|V|=4, |E|=4",
          "|V|=5, |E|=5",
          "|V|=6, |E|=6"
         ],
         "y": {
          "bdata": "AAAAAAAAAACPwvUoXI/qP0a28/3UePk/kML1KFyP/j8=",
          "dtype": "f8"
         },
         "yaxis": "y"
        },
        {
         "error_y": {
          "array": {
           "bdata": "t1q8dwqg3j/EihTkTJ7pP9KSQhm1p+Y/KL8vxiow6z8=",
           "dtype": "f8"
          },
          "type": "data",
          "visible": true
         },
         "marker": {
          "color": "#b85c00"
         },
         "name": "FGS",
         "offsetgroup": "1",
         "opacity": 0.6,
         "showlegend": true,
         "type": "bar",
         "x": [
          "|V|=3, |E|=3",
          "|V|=4, |E|=4",
          "|V|=5, |E|=5",
          "|V|=6, |E|=6"
         ],
         "y": {
          "bdata": "6LSBThvo1D8UrkfhehTyP65H4XoUrvc/hetRuB6F/z8=",
          "dtype": "f8"
         },
         "yaxis": "y"
        },
        {
         "error_y": {
          "array": {
           "bdata": "Se7EwnNW4j+MRX1ws7TlP+shOm1oxus/11jnesd35D8=",
           "dtype": "f8"
          },
          "type": "data",
          "visible": true
         },
         "marker": {
          "color": "#9454c4"
         },
         "name": "NOTEARS-MLP",
         "offsetgroup": "2",
         "opacity": 0.6,
         "showlegend": true,
         "type": "bar",
         "x": [
          "|V|=3, |E|=3",
          "|V|=4, |E|=4",
          "|V|=5, |E|=5",
          "|V|=6, |E|=6"
         ],
         "y": {
          "bdata": "+cWSXyz55T+4HoXrUbjuP8ZLN4lBYPU/jCW/WPKL9T8=",
          "dtype": "f8"
         },
         "yaxis": "y"
        },
        {
         "error_y": {
          "array": {
           "bdata": "tC6mp8PM1D+AGcBl0oLgP72NqPuVk+Q/2Hn0+wnU6D8=",
           "dtype": "f8"
          },
          "type": "data",
          "visible": true
         },
         "marker": {
          "color": "#379f9f"
         },
         "name": "MPC",
         "offsetgroup": "3",
         "opacity": 0.6,
         "showlegend": true,
         "type": "bar",
         "x": [
          "|V|=3, |E|=3",
          "|V|=4, |E|=4",
          "|V|=5, |E|=5",
          "|V|=6, |E|=6"
         ],
         "y": {
          "bdata": "pHA9Ctej0D9xPQrXo3DdP83MzMzMzOw/dNpApw106j8=",
          "dtype": "f8"
         },
         "yaxis": "y"
        },
        {
         "error_y": {
          "array": {
           "bdata": "+M5QuF915j+MDPlhQGfpPwount8Hvek/gIIq+pXH7j8=",
           "dtype": "f8"
          },
          "type": "data",
          "visible": true
         },
         "marker": {
          "color": "#0085CA"
         },
         "name": "ABAPC (Original)",
         "offsetgroup": "4",
         "opacity": 0.6,
         "showlegend": true,
         "type": "bar",
         "x": [
          "|V|=3, |E|=3",
          "|V|=4, |E|=4",
          "|V|=5, |E|=5",
          "|V|=6, |E|=6"
         ],
         "y": {
          "bdata": "tYFOG+i04T89CtejcD3qP1K4HoXrUfA/9ihcj8L19D8=",
          "dtype": "f8"
         },
         "yaxis": "y"
        },
        {
         "error_y": {
          "array": {
           "bdata": "0OYfbsPK5D8sFUq371HgP9CGA6SDsN4/swS0c3OM4T8=",
           "dtype": "f8"
          },
          "type": "data",
          "visible": true
         },
         "marker": {
          "color": "#9F8D00"
         },
         "name": "V1.1",
         "offsetgroup": "5",
         "opacity": 0.6,
         "showlegend": true,
         "type": "bar",
         "x": [
          "|V|=3, |E|=3",
          "|V|=4, |E|=4",
          "|V|=5, |E|=5",
          "|V|=6, |E|=6"
         ],
         "y": {
          "bdata": "20CnDXTa4D9SuB6F61HoP7ByaJHtfO8/Z2ZmZmZm8j8=",
          "dtype": "f8"
         },
         "yaxis": "y"
        },
        {
         "error_y": {
          "array": {
           "bdata": "+M5QuF915j87GzeSayrpPxqKSjq2p+k/leV+WVix7j8=",
           "dtype": "f8"
          },
          "type": "data",
          "visible": true
         },
         "marker": {
          "color": "#9E0000"
         },
         "name": "V1.2",
         "offsetgroup": "6",
         "opacity": 0.6,
         "showlegend": true,
         "type": "bar",
         "x": [
          "|V|=3, |E|=3",
          "|V|=4, |E|=4",
          "|V|=5, |E|=5",
          "|V|=6, |E|=6"
         ],
         "y": {
          "bdata": "tYFOG+i04T+PwvUoXI/qP/p+arx0k/A/f7HkF0t+9T8=",
          "dtype": "f8"
         },
         "yaxis": "y"
        },
        {
         "error_y": {
          "array": {
           "bdata": "+M5QuF915j9OahUtfXfoP96zLhxR4+w/Efec9faP8D8=",
           "dtype": "f8"
          },
          "type": "data",
          "visible": true
         },
         "marker": {
          "color": "#ff34da"
         },
         "name": "V1.3",
         "offsetgroup": "7",
         "opacity": 0.6,
         "showlegend": true,
         "type": "bar",
         "x": [
          "|V|=3, |E|=3",
          "|V|=4, |E|=4",
          "|V|=5, |E|=5",
          "|V|=6, |E|=6"
         ],
         "y": {
          "bdata": "tYFOG+i04T+F61G4HoXrP5duEoPAyvE/H4XrUbge+T8=",
          "dtype": "f8"
         },
         "yaxis": "y"
        },
        {
         "error_y": {
          "array": {
           "bdata": "+M5QuF915j9IBhsTz63nP6AZyeq+Pus/y/h3kY7S8D8=",
           "dtype": "f8"
          },
          "type": "data",
          "visible": true
         },
         "marker": {
          "color": "#008100"
         },
         "name": "V1.4 ",
         "offsetgroup": "8",
         "opacity": 0.6,
         "showlegend": true,
         "type": "bar",
         "x": [
          "|V|=3, |E|=3",
          "|V|=4, |E|=4",
          "|V|=5, |E|=5",
          "|V|=6, |E|=6"
         ],
         "y": {
          "bdata": "tYFOG+i04T/2KFyPwvXoP+tRuB6F6/E/oNMGOm2g9z8=",
          "dtype": "f8"
         },
         "yaxis": "y"
        },
        {
         "error_y": {
          "array": {
           "bdata": "E3PefvZl5z98r6CRjdLnP8O5fcH1p+o/5wtcoBzY5j8=",
           "dtype": "f8"
          },
          "type": "data",
          "visible": true
         },
         "marker": {
          "color": "#ff8c00"
         },
         "name": "V2",
         "offsetgroup": "9",
         "opacity": 0.6,
         "showlegend": true,
         "type": "bar",
         "x": [
          "|V|=3, |E|=3",
          "|V|=4, |E|=4",
          "|V|=5, |E|=5",
          "|V|=6, |E|=6"
         ],
         "y": {
          "bdata": "SOF6FK5H4T+amZmZmZnlP9nO91PjpfM/84slv1jy/z8=",
          "dtype": "f8"
         },
         "yaxis": "y"
        },
        {
         "marker": {
          "color": "white"
         },
         "name": "",
         "offsetgroup": "10",
         "opacity": 1,
         "showlegend": false,
         "type": "bar",
         "x": [
          "|V|=3, |E|=3",
          "|V|=4, |E|=4",
          "|V|=5, |E|=5",
          "|V|=6, |E|=6"
         ],
         "y": {
          "bdata": "AAAAAAAAAAAAAAAAAAAAAAAAAAAAAAAAAAAAAAAAAAA=",
          "dtype": "f8"
         }
        },
        {
         "error_y": {
          "array": {
           "bdata": "AAAAAAAAAAARmzFQu0HhP5PFwb5/L+k/DXSCnt/D6z8=",
           "dtype": "f8"
          },
          "type": "data",
          "visible": true
         },
         "marker": {
          "color": "grey"
         },
         "name": "Random",
         "offsetgroup": "11",
         "opacity": 0.6,
         "showlegend": false,
         "type": "bar",
         "x": [
          "|V|=3, |E|=3",
          "|V|=4, |E|=4",
          "|V|=5, |E|=5",
          "|V|=6, |E|=6"
         ],
         "y": {
          "bdata": "AAAAAAAAAECamZmZmZkDQOf7qfHSTQZAiIiIiIiICEA=",
          "dtype": "f8"
         },
         "yaxis": "y2"
        },
        {
         "error_y": {
          "array": {
           "bdata": "DBf/pAvH1D9EOVEg6lrfP2JffZc7X+U/u+Fk7WZn7j8=",
           "dtype": "f8"
          },
          "type": "data",
          "visible": true
         },
         "marker": {
          "color": "#b85c00"
         },
         "name": "FGS",
         "offsetgroup": "12",
         "opacity": 0.6,
         "showlegend": false,
         "type": "bar",
         "x": [
          "|V|=3, |E|=3",
          "|V|=4, |E|=4",
          "|V|=5, |E|=5",
          "|V|=6, |E|=6"
         ],
         "y": {
          "bdata": "cD0K16Nw/T8pXI/C9SgDQIpBYOXQIgdAY8kvlvxiB0A=",
          "dtype": "f8"
         },
         "yaxis": "y2"
        },
        {
         "error_y": {
          "array": {
           "bdata": "Z6rPiplc3T/0MXU/manlP1AT+xmLtew/qUrygLbf7D8=",
           "dtype": "f8"
          },
          "type": "data",
          "visible": true
         },
         "marker": {
          "color": "#9454c4"
         },
         "name": "NOTEARS-MLP",
         "offsetgroup": "13",
         "opacity": 0.6,
         "showlegend": false,
         "type": "bar",
         "x": [
          "|V|=3, |E|=3",
          "|V|=4, |E|=4",
          "|V|=5, |E|=5",
          "|V|=6, |E|=6"
         ],
         "y": {
          "bdata": "/GLJL5b8+j/D9Shcj8IBQBWuR+F6FAZAcD0K16NwB0A=",
          "dtype": "f8"
         },
         "yaxis": "y2"
        },
        {
         "error_y": {
          "array": {
           "bdata": "pxqM7r//wT+MyTa22ZPYPyV8k8hMFeE/4GogHfL16D8=",
           "dtype": "f8"
          },
          "type": "data",
          "visible": true
         },
         "marker": {
          "color": "#379f9f"
         },
         "name": "MPC",
         "offsetgroup": "14",
         "opacity": 0.6,
         "showlegend": false,
         "type": "bar",
         "x": [
          "|V|=3, |E|=3",
          "|V|=4, |E|=4",
          "|V|=5, |E|=5",
          "|V|=6, |E|=6"
         ],
         "y": {
          "bdata": "Jb9Y8osl/z97FK5H4XoFQDiJQWDl0ApALPnFkl8sDUA=",
          "dtype": "f8"
         },
         "yaxis": "y2"
        },
        {
         "error_y": {
          "array": {
           "bdata": "uTpT7OsT3D+YSxEVtLDmP17R796Y7Os/1nnzx7tn8D8=",
           "dtype": "f8"
          },
          "type": "data",
          "visible": true
         },
         "marker": {
          "color": "#0085CA"
         },
         "name": "ABAPC (Original)",
         "offsetgroup": "15",
         "opacity": 0.6,
         "showlegend": false,
         "type": "bar",
         "x": [
          "|V|=3, |E|=3",
          "|V|=4, |E|=4",
          "|V|=5, |E|=5",
          "|V|=6, |E|=6"
         ],
         "y": {
          "bdata": "YCz5xZJf/D/Xo3A9CtcCQEw3iUFg5QRATxvotIFOB0A=",
          "dtype": "f8"
         },
         "yaxis": "y2"
        },
        {
         "error_y": {
          "array": {
           "bdata": "nPULV7UQ1j9WEz0bifPgPzEOxqkxGOg/Nzm0J5z76T8=",
           "dtype": "f8"
          },
          "type": "data",
          "visible": true
         },
         "marker": {
          "color": "#9F8D00"
         },
         "name": "V1.1",
         "offsetgroup": "16",
         "opacity": 0.6,
         "showlegend": false,
         "type": "bar",
         "x": [
          "|V|=3, |E|=3",
          "|V|=4, |E|=4",
          "|V|=5, |E|=5",
          "|V|=6, |E|=6"
         ],
         "y": {
          "bdata": "H4XrUbge/T/NzMzMzMwCQI/C9ShcjwZATxvotIFOCUA=",
          "dtype": "f8"
         },
         "yaxis": "y2"
        },
        {
         "error_y": {
          "array": {
           "bdata": "uTpT7OsT3D+YSxEVtLDmPz6za9eef+o/OxZnUO0t8D8=",
           "dtype": "f8"
          },
          "type": "data",
          "visible": true
         },
         "marker": {
          "color": "#9E0000"
         },
         "name": "V1.2",
         "offsetgroup": "17",
         "opacity": 0.6,
         "showlegend": false,
         "type": "bar",
         "x": [
          "|V|=3, |E|=3",
          "|V|=4, |E|=4",
          "|V|=5, |E|=5",
          "|V|=6, |E|=6"
         ],
         "y": {
          "bdata": "YCz5xZJf/D/Xo3A9CtcCQB6F61G4HgVAf7HkF0t+B0A=",
          "dtype": "f8"
         },
         "yaxis": "y2"
        },
        {
         "error_y": {
          "array": {
           "bdata": "uTpT7OsT3D/y5sf+CALpP6YA+NEWFuw/7SAJesXT8D8=",
           "dtype": "f8"
          },
          "type": "data",
          "visible": true
         },
         "marker": {
          "color": "#ff34da"
         },
         "name": "V1.3",
         "offsetgroup": "18",
         "opacity": 0.6,
         "showlegend": false,
         "type": "bar",
         "x": [
          "|V|=3, |E|=3",
          "|V|=4, |E|=4",
          "|V|=5, |E|=5",
          "|V|=6, |E|=6"
         ],
         "y": {
          "bdata": "YCz5xZJf/D/hehSuR+EBQCGwcmiR7QRAWfKLJb9YBkA=",
          "dtype": "f8"
         },
         "yaxis": "y2"
        },
        {
         "error_y": {
          "array": {
           "bdata": "uTpT7OsT3D/69nv9PB3mP+JvKeY5WOs/AOcSUMej7T8=",
           "dtype": "f8"
          },
          "type": "data",
          "visible": true
         },
         "marker": {
          "color": "#008100"
         },
         "name": "V1.4 ",
         "offsetgroup": "19",
         "opacity": 0.6,
         "showlegend": false,
         "type": "bar",
         "x": [
          "|V|=3, |E|=3",
          "|V|=4, |E|=4",
          "|V|=5, |E|=5",
          "|V|=6, |E|=6"
         ],
         "y": {
          "bdata": "YCz5xZJf/D8UrkfhehQDQEjhehSuRwVAw/UoXI/CB0A=",
          "dtype": "f8"
         },
         "yaxis": "y2"
        },
        {
         "error_y": {
          "array": {
           "bdata": "FQNkTUg42T/QrJHPTr7nP9q/UBG51us/LB8PHdMs8D8=",
           "dtype": "f8"
          },
          "type": "data",
          "visible": true
         },
         "marker": {
          "color": "#ff8c00"
         },
         "name": "V2",
         "offsetgroup": "20",
         "opacity": 0.6,
         "showlegend": false,
         "type": "bar",
         "x": [
          "|V|=3, |E|=3",
          "|V|=4, |E|=4",
          "|V|=5, |E|=5",
          "|V|=6, |E|=6"
         ],
         "y": {
          "bdata": "cD0K16Nw/T+F61G4HoUCQGq8dJMYBAZA7FG4HoXrB0A=",
          "dtype": "f8"
         },
         "yaxis": "y2"
        }
       ],
       "layout": {
        "annotations": [
         {
          "font": {
           "color": "Black",
           "family": "Serif",
           "size": 20
          },
          "showarrow": false,
          "text": "Dataset:",
          "x": 0,
          "xanchor": "center",
          "xref": "paper",
          "y": -0.08,
          "yanchor": "bottom",
          "yref": "paper"
         },
         {
          "bgcolor": "#E5ECF6",
          "bordercolor": "#E5ECF6",
          "borderwidth": 2,
          "font": {
           "color": "black",
           "size": 20
          },
          "opacity": 0.8,
          "showarrow": false,
          "text": "     Best     ",
          "x": 0.03,
          "xanchor": "left",
          "xref": "x domain",
          "y": 1.015,
          "yref": "y domain"
         },
         {
          "bgcolor": "#E5ECF6",
          "bordercolor": "#E5ECF6",
          "borderwidth": 2,
          "font": {
           "color": "black",
           "size": 20
          },
          "opacity": 0.8,
          "showarrow": false,
          "text": "     Worst     ",
          "x": 0.14200000000000002,
          "xanchor": "left",
          "xref": "x domain",
          "y": 1.015,
          "yref": "y domain"
         },
         {
          "bgcolor": "#E5ECF6",
          "bordercolor": "#E5ECF6",
          "borderwidth": 2,
          "font": {
           "color": "black",
           "size": 20
          },
          "opacity": 0.8,
          "showarrow": false,
          "text": "     Best     ",
          "x": 0.279,
          "xanchor": "left",
          "xref": "x domain",
          "y": 1.015,
          "yref": "y domain"
         },
         {
          "bgcolor": "#E5ECF6",
          "bordercolor": "#E5ECF6",
          "borderwidth": 2,
          "font": {
           "color": "black",
           "size": 20
          },
          "opacity": 0.8,
          "showarrow": false,
          "text": "     Worst     ",
          "x": 0.391,
          "xanchor": "left",
          "xref": "x domain",
          "y": 1.015,
          "yref": "y domain"
         },
         {
          "bgcolor": "#E5ECF6",
          "bordercolor": "#E5ECF6",
          "borderwidth": 2,
          "font": {
           "color": "black",
           "size": 20
          },
          "opacity": 0.8,
          "showarrow": false,
          "text": "     Best     ",
          "x": 0.528,
          "xanchor": "left",
          "xref": "x domain",
          "y": 1.015,
          "yref": "y domain"
         },
         {
          "bgcolor": "#E5ECF6",
          "bordercolor": "#E5ECF6",
          "borderwidth": 2,
          "font": {
           "color": "black",
           "size": 20
          },
          "opacity": 0.8,
          "showarrow": false,
          "text": "     Worst     ",
          "x": 0.64,
          "xanchor": "left",
          "xref": "x domain",
          "y": 1.015,
          "yref": "y domain"
         },
         {
          "bgcolor": "#E5ECF6",
          "bordercolor": "#E5ECF6",
          "borderwidth": 2,
          "font": {
           "color": "black",
           "size": 20
          },
          "opacity": 0.8,
          "showarrow": false,
          "text": "     Best     ",
          "x": 0.777,
          "xanchor": "left",
          "xref": "x domain",
          "y": 1.015,
          "yref": "y domain"
         },
         {
          "bgcolor": "#E5ECF6",
          "bordercolor": "#E5ECF6",
          "borderwidth": 2,
          "font": {
           "color": "black",
           "size": 20
          },
          "opacity": 0.8,
          "showarrow": false,
          "text": "     Worst     ",
          "x": 0.889,
          "xanchor": "left",
          "xref": "x domain",
          "y": 1.015,
          "yref": "y domain"
         }
        ],
        "bargap": 0.15,
        "bargroupgap": 0.15,
        "barmode": "group",
        "font": {
         "color": "black",
         "family": "Serif",
         "size": 20
        },
        "height": 600,
        "hovermode": "x unified",
        "legend": {
         "orientation": "h",
         "x": 0.5,
         "xanchor": "center",
         "y": 1.1,
         "yanchor": "top"
        },
        "margin": {
         "b": 70,
         "l": 40,
         "r": 0,
         "t": 20
        },
        "shapes": [
         {
          "layer": "below",
          "line": {
           "color": "grey",
           "dash": "dash",
           "width": 1
          },
          "type": "line",
          "x0": 0.1175,
          "x1": 0.1175,
          "xref": "paper",
          "y0": 0,
          "y1": 1,
          "yref": "paper"
         },
         {
          "layer": "below",
          "line": {
           "color": "black",
           "dash": "solid",
           "width": 1
          },
          "type": "line",
          "x0": 0.235,
          "x1": 0.235,
          "xref": "paper",
          "y0": 0,
          "y1": 1,
          "yref": "paper"
         },
         {
          "layer": "below",
          "line": {
           "color": "grey",
           "dash": "dash",
           "width": 1
          },
          "type": "line",
          "x0": 0.3525,
          "x1": 0.3525,
          "xref": "paper",
          "y0": 0,
          "y1": 1,
          "yref": "paper"
         },
         {
          "layer": "below",
          "line": {
           "color": "black",
           "dash": "solid",
           "width": 1
          },
          "type": "line",
          "x0": 0.47,
          "x1": 0.47,
          "xref": "paper",
          "y0": 0,
          "y1": 1,
          "yref": "paper"
         },
         {
          "layer": "below",
          "line": {
           "color": "grey",
           "dash": "dash",
           "width": 1
          },
          "type": "line",
          "x0": 0.5874999999999999,
          "x1": 0.5874999999999999,
          "xref": "paper",
          "y0": 0,
          "y1": 1,
          "yref": "paper"
         },
         {
          "layer": "below",
          "line": {
           "color": "black",
           "dash": "solid",
           "width": 1
          },
          "type": "line",
          "x0": 0.7049999999999998,
          "x1": 0.7049999999999998,
          "xref": "paper",
          "y0": 0,
          "y1": 1,
          "yref": "paper"
         },
         {
          "layer": "below",
          "line": {
           "color": "grey",
           "dash": "dash",
           "width": 1
          },
          "type": "line",
          "x0": 0.8224999999999998,
          "x1": 0.8224999999999998,
          "xref": "paper",
          "y0": 0,
          "y1": 1,
          "yref": "paper"
         },
         {
          "layer": "below",
          "line": {
           "color": "black",
           "dash": "solid",
           "width": 1
          },
          "type": "line",
          "x0": 0.9399999999999997,
          "x1": 0.9399999999999997,
          "xref": "paper",
          "y0": 0,
          "y1": 1,
          "yref": "paper"
         }
        ],
        "template": {
         "data": {
          "bar": [
           {
            "error_x": {
             "color": "#2a3f5f"
            },
            "error_y": {
             "color": "#2a3f5f"
            },
            "marker": {
             "line": {
              "color": "white",
              "width": 0.5
             },
             "pattern": {
              "fillmode": "overlay",
              "size": 10,
              "solidity": 0.2
             }
            },
            "type": "bar"
           }
          ],
          "barpolar": [
           {
            "marker": {
             "line": {
              "color": "white",
              "width": 0.5
             },
             "pattern": {
              "fillmode": "overlay",
              "size": 10,
              "solidity": 0.2
             }
            },
            "type": "barpolar"
           }
          ],
          "carpet": [
           {
            "aaxis": {
             "endlinecolor": "#2a3f5f",
             "gridcolor": "#C8D4E3",
             "linecolor": "#C8D4E3",
             "minorgridcolor": "#C8D4E3",
             "startlinecolor": "#2a3f5f"
            },
            "baxis": {
             "endlinecolor": "#2a3f5f",
             "gridcolor": "#C8D4E3",
             "linecolor": "#C8D4E3",
             "minorgridcolor": "#C8D4E3",
             "startlinecolor": "#2a3f5f"
            },
            "type": "carpet"
           }
          ],
          "choropleth": [
           {
            "colorbar": {
             "outlinewidth": 0,
             "ticks": ""
            },
            "type": "choropleth"
           }
          ],
          "contour": [
           {
            "colorbar": {
             "outlinewidth": 0,
             "ticks": ""
            },
            "colorscale": [
             [
              0,
              "#0d0887"
             ],
             [
              0.1111111111111111,
              "#46039f"
             ],
             [
              0.2222222222222222,
              "#7201a8"
             ],
             [
              0.3333333333333333,
              "#9c179e"
             ],
             [
              0.4444444444444444,
              "#bd3786"
             ],
             [
              0.5555555555555556,
              "#d8576b"
             ],
             [
              0.6666666666666666,
              "#ed7953"
             ],
             [
              0.7777777777777778,
              "#fb9f3a"
             ],
             [
              0.8888888888888888,
              "#fdca26"
             ],
             [
              1,
              "#f0f921"
             ]
            ],
            "type": "contour"
           }
          ],
          "contourcarpet": [
           {
            "colorbar": {
             "outlinewidth": 0,
             "ticks": ""
            },
            "type": "contourcarpet"
           }
          ],
          "heatmap": [
           {
            "colorbar": {
             "outlinewidth": 0,
             "ticks": ""
            },
            "colorscale": [
             [
              0,
              "#0d0887"
             ],
             [
              0.1111111111111111,
              "#46039f"
             ],
             [
              0.2222222222222222,
              "#7201a8"
             ],
             [
              0.3333333333333333,
              "#9c179e"
             ],
             [
              0.4444444444444444,
              "#bd3786"
             ],
             [
              0.5555555555555556,
              "#d8576b"
             ],
             [
              0.6666666666666666,
              "#ed7953"
             ],
             [
              0.7777777777777778,
              "#fb9f3a"
             ],
             [
              0.8888888888888888,
              "#fdca26"
             ],
             [
              1,
              "#f0f921"
             ]
            ],
            "type": "heatmap"
           }
          ],
          "histogram": [
           {
            "marker": {
             "pattern": {
              "fillmode": "overlay",
              "size": 10,
              "solidity": 0.2
             }
            },
            "type": "histogram"
           }
          ],
          "histogram2d": [
           {
            "colorbar": {
             "outlinewidth": 0,
             "ticks": ""
            },
            "colorscale": [
             [
              0,
              "#0d0887"
             ],
             [
              0.1111111111111111,
              "#46039f"
             ],
             [
              0.2222222222222222,
              "#7201a8"
             ],
             [
              0.3333333333333333,
              "#9c179e"
             ],
             [
              0.4444444444444444,
              "#bd3786"
             ],
             [
              0.5555555555555556,
              "#d8576b"
             ],
             [
              0.6666666666666666,
              "#ed7953"
             ],
             [
              0.7777777777777778,
              "#fb9f3a"
             ],
             [
              0.8888888888888888,
              "#fdca26"
             ],
             [
              1,
              "#f0f921"
             ]
            ],
            "type": "histogram2d"
           }
          ],
          "histogram2dcontour": [
           {
            "colorbar": {
             "outlinewidth": 0,
             "ticks": ""
            },
            "colorscale": [
             [
              0,
              "#0d0887"
             ],
             [
              0.1111111111111111,
              "#46039f"
             ],
             [
              0.2222222222222222,
              "#7201a8"
             ],
             [
              0.3333333333333333,
              "#9c179e"
             ],
             [
              0.4444444444444444,
              "#bd3786"
             ],
             [
              0.5555555555555556,
              "#d8576b"
             ],
             [
              0.6666666666666666,
              "#ed7953"
             ],
             [
              0.7777777777777778,
              "#fb9f3a"
             ],
             [
              0.8888888888888888,
              "#fdca26"
             ],
             [
              1,
              "#f0f921"
             ]
            ],
            "type": "histogram2dcontour"
           }
          ],
          "mesh3d": [
           {
            "colorbar": {
             "outlinewidth": 0,
             "ticks": ""
            },
            "type": "mesh3d"
           }
          ],
          "parcoords": [
           {
            "line": {
             "colorbar": {
              "outlinewidth": 0,
              "ticks": ""
             }
            },
            "type": "parcoords"
           }
          ],
          "pie": [
           {
            "automargin": true,
            "type": "pie"
           }
          ],
          "scatter": [
           {
            "fillpattern": {
             "fillmode": "overlay",
             "size": 10,
             "solidity": 0.2
            },
            "type": "scatter"
           }
          ],
          "scatter3d": [
           {
            "line": {
             "colorbar": {
              "outlinewidth": 0,
              "ticks": ""
             }
            },
            "marker": {
             "colorbar": {
              "outlinewidth": 0,
              "ticks": ""
             }
            },
            "type": "scatter3d"
           }
          ],
          "scattercarpet": [
           {
            "marker": {
             "colorbar": {
              "outlinewidth": 0,
              "ticks": ""
             }
            },
            "type": "scattercarpet"
           }
          ],
          "scattergeo": [
           {
            "marker": {
             "colorbar": {
              "outlinewidth": 0,
              "ticks": ""
             }
            },
            "type": "scattergeo"
           }
          ],
          "scattergl": [
           {
            "marker": {
             "colorbar": {
              "outlinewidth": 0,
              "ticks": ""
             }
            },
            "type": "scattergl"
           }
          ],
          "scattermap": [
           {
            "marker": {
             "colorbar": {
              "outlinewidth": 0,
              "ticks": ""
             }
            },
            "type": "scattermap"
           }
          ],
          "scattermapbox": [
           {
            "marker": {
             "colorbar": {
              "outlinewidth": 0,
              "ticks": ""
             }
            },
            "type": "scattermapbox"
           }
          ],
          "scatterpolar": [
           {
            "marker": {
             "colorbar": {
              "outlinewidth": 0,
              "ticks": ""
             }
            },
            "type": "scatterpolar"
           }
          ],
          "scatterpolargl": [
           {
            "marker": {
             "colorbar": {
              "outlinewidth": 0,
              "ticks": ""
             }
            },
            "type": "scatterpolargl"
           }
          ],
          "scatterternary": [
           {
            "marker": {
             "colorbar": {
              "outlinewidth": 0,
              "ticks": ""
             }
            },
            "type": "scatterternary"
           }
          ],
          "surface": [
           {
            "colorbar": {
             "outlinewidth": 0,
             "ticks": ""
            },
            "colorscale": [
             [
              0,
              "#0d0887"
             ],
             [
              0.1111111111111111,
              "#46039f"
             ],
             [
              0.2222222222222222,
              "#7201a8"
             ],
             [
              0.3333333333333333,
              "#9c179e"
             ],
             [
              0.4444444444444444,
              "#bd3786"
             ],
             [
              0.5555555555555556,
              "#d8576b"
             ],
             [
              0.6666666666666666,
              "#ed7953"
             ],
             [
              0.7777777777777778,
              "#fb9f3a"
             ],
             [
              0.8888888888888888,
              "#fdca26"
             ],
             [
              1,
              "#f0f921"
             ]
            ],
            "type": "surface"
           }
          ],
          "table": [
           {
            "cells": {
             "fill": {
              "color": "#EBF0F8"
             },
             "line": {
              "color": "white"
             }
            },
            "header": {
             "fill": {
              "color": "#C8D4E3"
             },
             "line": {
              "color": "white"
             }
            },
            "type": "table"
           }
          ]
         },
         "layout": {
          "annotationdefaults": {
           "arrowcolor": "#2a3f5f",
           "arrowhead": 0,
           "arrowwidth": 1
          },
          "autotypenumbers": "strict",
          "coloraxis": {
           "colorbar": {
            "outlinewidth": 0,
            "ticks": ""
           }
          },
          "colorscale": {
           "diverging": [
            [
             0,
             "#8e0152"
            ],
            [
             0.1,
             "#c51b7d"
            ],
            [
             0.2,
             "#de77ae"
            ],
            [
             0.3,
             "#f1b6da"
            ],
            [
             0.4,
             "#fde0ef"
            ],
            [
             0.5,
             "#f7f7f7"
            ],
            [
             0.6,
             "#e6f5d0"
            ],
            [
             0.7,
             "#b8e186"
            ],
            [
             0.8,
             "#7fbc41"
            ],
            [
             0.9,
             "#4d9221"
            ],
            [
             1,
             "#276419"
            ]
           ],
           "sequential": [
            [
             0,
             "#0d0887"
            ],
            [
             0.1111111111111111,
             "#46039f"
            ],
            [
             0.2222222222222222,
             "#7201a8"
            ],
            [
             0.3333333333333333,
             "#9c179e"
            ],
            [
             0.4444444444444444,
             "#bd3786"
            ],
            [
             0.5555555555555556,
             "#d8576b"
            ],
            [
             0.6666666666666666,
             "#ed7953"
            ],
            [
             0.7777777777777778,
             "#fb9f3a"
            ],
            [
             0.8888888888888888,
             "#fdca26"
            ],
            [
             1,
             "#f0f921"
            ]
           ],
           "sequentialminus": [
            [
             0,
             "#0d0887"
            ],
            [
             0.1111111111111111,
             "#46039f"
            ],
            [
             0.2222222222222222,
             "#7201a8"
            ],
            [
             0.3333333333333333,
             "#9c179e"
            ],
            [
             0.4444444444444444,
             "#bd3786"
            ],
            [
             0.5555555555555556,
             "#d8576b"
            ],
            [
             0.6666666666666666,
             "#ed7953"
            ],
            [
             0.7777777777777778,
             "#fb9f3a"
            ],
            [
             0.8888888888888888,
             "#fdca26"
            ],
            [
             1,
             "#f0f921"
            ]
           ]
          },
          "colorway": [
           "#636efa",
           "#EF553B",
           "#00cc96",
           "#ab63fa",
           "#FFA15A",
           "#19d3f3",
           "#FF6692",
           "#B6E880",
           "#FF97FF",
           "#FECB52"
          ],
          "font": {
           "color": "#2a3f5f"
          },
          "geo": {
           "bgcolor": "white",
           "lakecolor": "white",
           "landcolor": "white",
           "showlakes": true,
           "showland": true,
           "subunitcolor": "#C8D4E3"
          },
          "hoverlabel": {
           "align": "left"
          },
          "hovermode": "closest",
          "mapbox": {
           "style": "light"
          },
          "paper_bgcolor": "white",
          "plot_bgcolor": "white",
          "polar": {
           "angularaxis": {
            "gridcolor": "#EBF0F8",
            "linecolor": "#EBF0F8",
            "ticks": ""
           },
           "bgcolor": "white",
           "radialaxis": {
            "gridcolor": "#EBF0F8",
            "linecolor": "#EBF0F8",
            "ticks": ""
           }
          },
          "scene": {
           "xaxis": {
            "backgroundcolor": "white",
            "gridcolor": "#DFE8F3",
            "gridwidth": 2,
            "linecolor": "#EBF0F8",
            "showbackground": true,
            "ticks": "",
            "zerolinecolor": "#EBF0F8"
           },
           "yaxis": {
            "backgroundcolor": "white",
            "gridcolor": "#DFE8F3",
            "gridwidth": 2,
            "linecolor": "#EBF0F8",
            "showbackground": true,
            "ticks": "",
            "zerolinecolor": "#EBF0F8"
           },
           "zaxis": {
            "backgroundcolor": "white",
            "gridcolor": "#DFE8F3",
            "gridwidth": 2,
            "linecolor": "#EBF0F8",
            "showbackground": true,
            "ticks": "",
            "zerolinecolor": "#EBF0F8"
           }
          },
          "shapedefaults": {
           "line": {
            "color": "#2a3f5f"
           }
          },
          "ternary": {
           "aaxis": {
            "gridcolor": "#DFE8F3",
            "linecolor": "#A2B1C6",
            "ticks": ""
           },
           "baxis": {
            "gridcolor": "#DFE8F3",
            "linecolor": "#A2B1C6",
            "ticks": ""
           },
           "bgcolor": "white",
           "caxis": {
            "gridcolor": "#DFE8F3",
            "linecolor": "#A2B1C6",
            "ticks": ""
           }
          },
          "title": {
           "x": 0.05
          },
          "xaxis": {
           "automargin": true,
           "gridcolor": "#EBF0F8",
           "linecolor": "#EBF0F8",
           "ticks": "",
           "title": {
            "standoff": 15
           },
           "zerolinecolor": "#EBF0F8",
           "zerolinewidth": 2
          },
          "yaxis": {
           "automargin": true,
           "gridcolor": "#EBF0F8",
           "linecolor": "#EBF0F8",
           "ticks": "",
           "title": {
            "standoff": 15
           },
           "zerolinecolor": "#EBF0F8",
           "zerolinewidth": 2
          }
         }
        },
        "width": 1300,
        "xaxis": {
         "anchor": "y",
         "domain": [
          0,
          0.94
         ]
        },
        "yaxis": {
         "anchor": "x",
         "domain": [
          0,
          1
         ],
         "range": [
          0,
          5
         ],
         "title": {
          "font": {
           "size": 20
          },
          "text": "Normalised SID"
         }
        },
        "yaxis2": {
         "anchor": "x",
         "overlaying": "y",
         "range": [
          0,
          5
         ],
         "scaleanchor": 0,
         "showgrid": false,
         "showline": false,
         "showticklabels": false,
         "side": "right",
         "title": {
          "font": {
           "size": 20
          },
          "text": ""
         },
         "zeroline": true
        }
       }
      }
     },
     "metadata": {},
     "output_type": "display_data"
    }
   ],
   "source": [
    "import importlib\n",
    "import utils\n",
    "importlib.reload(utils)\n",
    "from utils import double_bar_chart_plotly\n",
    "\n",
    "double_bar_chart_plotly(v1_random_plot_data, \n",
    "                        names_dict,\n",
    "                        colors_dict,\n",
    "                        methods=methods,\n",
    "                        dist_between_lines=0.1175,\n",
    "                        intra_dis=0.112,\n",
    "                        inter_dis=0.137,\n",
    "                        lin_space=5,\n",
    "                        nl_space=5,\n",
    "                        start_pos = 0.03,\n",
    "                            width=1300,\n",
    "                            height=600,\n",
    "                            range_y1=(0, 5),\n",
    "                            range_y2=(0, 5))"
   ]
  },
  {
   "cell_type": "markdown",
   "id": "87f345af",
   "metadata": {},
   "source": [
    "Now bnlearn datasets for V1"
   ]
  },
  {
   "cell_type": "code",
   "execution_count": 15,
   "id": "9ef70650",
   "metadata": {},
   "outputs": [],
   "source": [
    "v1_data_bn['n_nodes'] = v1_data_bn['dataset'].map(DAG_NODES_MAP)\n",
    "v1_data_bn['n_edges'] = v1_data_bn['dataset'].map(DAG_EDGES_MAP)\n",
    "baselines_data_bn['n_nodes'] = baselines_data_bn['dataset'].map(DAG_NODES_MAP)\n",
    "baselines_data_bn['n_edges'] = baselines_data_bn['dataset'].map(DAG_EDGES_MAP)\n",
    "fact_sourcing_runtime_bn['n_nodes'] = fact_sourcing_runtime_bn['dataset'].map(DAG_NODES_MAP)\n",
    "fact_sourcing_runtime_bn['n_edges'] = fact_sourcing_runtime_bn['dataset'].map(DAG_EDGES_MAP)\n",
    "v2_data_bn['n_nodes'] = v2_data_bn['dataset'].map(DAG_NODES_MAP)\n",
    "v2_data_bn['n_edges'] = v2_data_bn['dataset'].map(DAG_EDGES_MAP)\n",
    "\n",
    "baselines_bn_processed = process_mean_std_sid_data(baselines_data_bn)\n",
    "v1_bn_data_with_model_names = process_model_names_and_runtime_v1_data(v1_data_bn, fact_sourcing_runtime_bn)\n",
    "v1_bn_processed = process_mean_std_sid_data(v1_bn_data_with_model_names)\n",
    "v2_data_bn_processed = process_mean_std_sid_data(v2_data_bn)\n",
    "\n",
    "v1_bn_plot_data = pd.concat([v1_bn_processed, \n",
    "                             baselines_bn_processed[baselines_bn_processed['n_nodes'] <= 6],\n",
    "                             v2_data_bn_processed], \n",
    "                             ignore_index=True)"
   ]
  },
  {
   "cell_type": "code",
   "execution_count": 16,
   "id": "0ebe0352",
   "metadata": {},
   "outputs": [
    {
     "data": {
      "text/html": [
       "<div>\n",
       "<style scoped>\n",
       "    .dataframe tbody tr th:only-of-type {\n",
       "        vertical-align: middle;\n",
       "    }\n",
       "\n",
       "    .dataframe tbody tr th {\n",
       "        vertical-align: top;\n",
       "    }\n",
       "\n",
       "    .dataframe thead th {\n",
       "        text-align: right;\n",
       "    }\n",
       "</style>\n",
       "<table border=\"1\" class=\"dataframe\">\n",
       "  <thead>\n",
       "    <tr style=\"text-align: right;\">\n",
       "      <th></th>\n",
       "      <th>dataset</th>\n",
       "      <th>n_nodes</th>\n",
       "      <th>n_edges</th>\n",
       "      <th>model</th>\n",
       "      <th>sid_low_mean</th>\n",
       "      <th>sid_high_mean</th>\n",
       "      <th>sid_low_std</th>\n",
       "      <th>sid_high_std</th>\n",
       "      <th>p_SID_low_mean</th>\n",
       "      <th>p_SID_high_mean</th>\n",
       "      <th>p_SID_low_std</th>\n",
       "      <th>p_SID_high_std</th>\n",
       "    </tr>\n",
       "  </thead>\n",
       "  <tbody>\n",
       "    <tr>\n",
       "      <th>0</th>\n",
       "      <td>cancer</td>\n",
       "      <td>5</td>\n",
       "      <td>4</td>\n",
       "      <td>ABAPC (Original)</td>\n",
       "      <td>8.62</td>\n",
       "      <td>11.3</td>\n",
       "      <td>2.783992</td>\n",
       "      <td>2.101991</td>\n",
       "      <td>2.155</td>\n",
       "      <td>2.825</td>\n",
       "      <td>0.695998</td>\n",
       "      <td>0.525498</td>\n",
       "    </tr>\n",
       "  </tbody>\n",
       "</table>\n",
       "</div>"
      ],
      "text/plain": [
       "  dataset  n_nodes  n_edges             model  sid_low_mean  sid_high_mean  \\\n",
       "0  cancer        5        4  ABAPC (Original)          8.62           11.3   \n",
       "\n",
       "   sid_low_std  sid_high_std  p_SID_low_mean  p_SID_high_mean  p_SID_low_std  \\\n",
       "0     2.783992      2.101991           2.155            2.825       0.695998   \n",
       "\n",
       "   p_SID_high_std  \n",
       "0        0.525498  "
      ]
     },
     "execution_count": 16,
     "metadata": {},
     "output_type": "execute_result"
    }
   ],
   "source": [
    "v1_bn_plot_data.head(1)"
   ]
  },
  {
   "cell_type": "code",
   "execution_count": 17,
   "id": "e8167101",
   "metadata": {},
   "outputs": [
    {
     "data": {
      "application/vnd.plotly.v1+json": {
       "config": {
        "plotlyServerURL": "https://plot.ly"
       },
       "data": [
        {
         "error_y": {
          "array": {
           "bdata": "wZh0GlsF7T+Tajng6wHnP4uJrFAoNOY/",
           "dtype": "f8"
          },
          "type": "data",
          "visible": true
         },
         "marker": {
          "color": "grey"
         },
         "name": "Random",
         "offsetgroup": "0",
         "opacity": 0.6,
         "showlegend": true,
         "type": "bar",
         "x": [
          "cancer",
          "earthquake",
          "survey"
         ],
         "y": {
          "bdata": "w/UoXI/C/z+F61G4HoX/P36x5BdLfgFA",
          "dtype": "f8"
         },
         "yaxis": "y"
        },
        {
         "error_y": {
          "array": {
           "bdata": "mG8krVYo3j/RTRo9fuzVPw1R0OS56+A/",
           "dtype": "f8"
          },
          "type": "data",
          "visible": true
         },
         "marker": {
          "color": "#b85c00"
         },
         "name": "FGS",
         "offsetgroup": "1",
         "opacity": 0.6,
         "showlegend": true,
         "type": "bar",
         "x": [
          "cancer",
          "earthquake",
          "survey"
         ],
         "y": {
          "bdata": "H4XrUbge+T9mZmZmZmbyPzfQaQOdNgJA",
          "dtype": "f8"
         },
         "yaxis": "y"
        },
        {
         "error_y": {
          "array": {
           "bdata": "sdS2hhBd1z+4DAmXu7vkP3I8KKWxarQ/",
           "dtype": "f8"
          },
          "type": "data",
          "visible": true
         },
         "marker": {
          "color": "#9454c4"
         },
         "name": "NOTEARS-MLP",
         "offsetgroup": "2",
         "opacity": 0.6,
         "showlegend": true,
         "type": "bar",
         "x": [
          "cancer",
          "earthquake",
          "survey"
         ],
         "y": {
          "bdata": "CtejcD0KA0ApXI/C9SjcPzfQaQOdNgZA",
          "dtype": "f8"
         },
         "yaxis": "y"
        },
        {
         "error_y": {
          "array": {
           "bdata": "R/YvexUH3T8AAAAAAAAAAC9iX5/HMOI/",
           "dtype": "f8"
          },
          "type": "data",
          "visible": true
         },
         "marker": {
          "color": "#379f9f"
         },
         "name": "MPC",
         "offsetgroup": "3",
         "opacity": 0.6,
         "showlegend": true,
         "type": "bar",
         "x": [
          "cancer",
          "earthquake",
          "survey"
         ],
         "y": {
          "bdata": "CtejcD0K7z8AAAAAAAD0P2kDnTbQaes/",
          "dtype": "f8"
         },
         "yaxis": "y"
        },
        {
         "error_y": {
          "array": {
           "bdata": "RHUGrJ1F5j8AAAAAAAAAAKGq10wptOE/",
           "dtype": "f8"
          },
          "type": "data",
          "visible": true
         },
         "marker": {
          "color": "#0085CA"
         },
         "name": "ABAPC (Original)",
         "offsetgroup": "4",
         "opacity": 0.6,
         "showlegend": true,
         "type": "bar",
         "x": [
          "cancer",
          "earthquake",
          "survey"
         ],
         "y": {
          "bdata": "PQrXo3A9AUAAAAAAAAAAAPOLJb9Y8gNA",
          "dtype": "f8"
         },
         "yaxis": "y"
        },
        {
         "error_y": {
          "array": {
           "bdata": "CBT4UrPM4D8AAAAAAAAAALMupqfDzMQ/",
           "dtype": "f8"
          },
          "type": "data",
          "visible": true
         },
         "marker": {
          "color": "#9F8D00"
         },
         "name": "V1.1",
         "offsetgroup": "5",
         "opacity": 0.6,
         "showlegend": true,
         "type": "bar",
         "x": [
          "cancer",
          "earthquake",
          "survey"
         ],
         "y": {
          "bdata": "H4XrUbge/T8AAAAAAAAAAOxRuB6F6/0/",
          "dtype": "f8"
         },
         "yaxis": "y"
        },
        {
         "error_y": {
          "array": {
           "bdata": "3Z2lD59h5j8AAAAAAAAAAMG7uVZf1uI/",
           "dtype": "f8"
          },
          "type": "data",
          "visible": true
         },
         "marker": {
          "color": "#9E0000"
         },
         "name": "V1.2",
         "offsetgroup": "6",
         "opacity": 0.6,
         "showlegend": true,
         "type": "bar",
         "x": [
          "cancer",
          "earthquake",
          "survey"
         ],
         "y": {
          "bdata": "SOF6FK5HAUAAAAAAAAAAANejcD0K1wNA",
          "dtype": "f8"
         },
         "yaxis": "y"
        },
        {
         "error_y": {
          "array": {
           "bdata": "yhRgPOm/6D8AAAAAAAAAAExyLW3ZcOU/",
           "dtype": "f8"
          },
          "type": "data",
          "visible": true
         },
         "marker": {
          "color": "#ff34da"
         },
         "name": "V1.3",
         "offsetgroup": "7",
         "opacity": 0.6,
         "showlegend": true,
         "type": "bar",
         "x": [
          "cancer",
          "earthquake",
          "survey"
         ],
         "y": {
          "bdata": "CtejcD0KAEAAAAAAAAAAAJ020GkDnQJA",
          "dtype": "f8"
         },
         "yaxis": "y"
        },
        {
         "error_y": {
          "array": {
           "bdata": "ZC+64Vpl5j8nBDs04ae6P8lrK3LnEOQ/",
           "dtype": "f8"
          },
          "type": "data",
          "visible": true
         },
         "marker": {
          "color": "#008100"
         },
         "name": "V1.4 ",
         "offsetgroup": "8",
         "opacity": 0.6,
         "showlegend": true,
         "type": "bar",
         "x": [
          "cancer",
          "earthquake",
          "survey"
         ],
         "y": {
          "bdata": "SOF6FK5HAkCamZmZmZmZP6cNdNpApwNA",
          "dtype": "f8"
         },
         "yaxis": "y"
        },
        {
         "error_y": {
          "array": {
           "bdata": "NZnZ6a0X0T9m+HUt4y7qP4MvmmcxGd8/",
           "dtype": "f8"
          },
          "type": "data",
          "visible": true
         },
         "marker": {
          "color": "#ff8c00"
         },
         "name": "V2",
         "offsetgroup": "9",
         "opacity": 0.6,
         "showlegend": true,
         "type": "bar",
         "x": [
          "cancer",
          "earthquake",
          "survey"
         ],
         "y": {
          "bdata": "7FG4HoXrA0C4HoXrUbjyP6uqqqqqqgRA",
          "dtype": "f8"
         },
         "yaxis": "y"
        },
        {
         "marker": {
          "color": "white"
         },
         "name": "",
         "offsetgroup": "10",
         "opacity": 1,
         "showlegend": false,
         "type": "bar",
         "x": [
          "cancer",
          "earthquake",
          "survey"
         ],
         "y": {
          "bdata": "AAAAAAAAAAAAAAAAAAAAAAAAAAAAAAAA",
          "dtype": "f8"
         }
        },
        {
         "error_y": {
          "array": {
           "bdata": "DMgDVtM96D904aadIrLrP9ExwqQ7Z+c/",
           "dtype": "f8"
          },
          "type": "data",
          "visible": true
         },
         "marker": {
          "color": "grey"
         },
         "name": "Random",
         "offsetgroup": "11",
         "opacity": 0.6,
         "showlegend": false,
         "type": "bar",
         "x": [
          "cancer",
          "earthquake",
          "survey"
         ],
         "y": {
          "bdata": "FK5H4XoUDEDD9Shcj8ILQNBpA5020A1A",
          "dtype": "f8"
         },
         "yaxis": "y2"
        },
        {
         "error_y": {
          "array": {
           "bdata": "l28krVYo3j9SxRsu+qu/P50u7O2DduI/",
           "dtype": "f8"
          },
          "type": "data",
          "visible": true
         },
         "marker": {
          "color": "#b85c00"
         },
         "name": "FGS",
         "offsetgroup": "12",
         "opacity": 0.6,
         "showlegend": false,
         "type": "bar",
         "x": [
          "cancer",
          "earthquake",
          "survey"
         ],
         "y": {
          "bdata": "SOF6FK5HEEAAAAAAAAAOQIwlv1jyiwtA",
          "dtype": "f8"
         },
         "yaxis": "y2"
        },
        {
         "error_y": {
          "array": {
           "bdata": "cL00uOrHuj97MXc2dWvePwAAAAAAAAAA",
           "dtype": "f8"
          },
          "type": "data",
          "visible": true
         },
         "marker": {
          "color": "#9454c4"
         },
         "name": "NOTEARS-MLP",
         "offsetgroup": "13",
         "opacity": 0.6,
         "showlegend": false,
         "type": "bar",
         "x": [
          "cancer",
          "earthquake",
          "survey"
         ],
         "y": {
          "bdata": "cT0K16NwBECF61G4HoUNQKuqqqqqqgZA",
          "dtype": "f8"
         },
         "yaxis": "y2"
        },
        {
         "error_y": {
          "array": {
           "bdata": "SPYvexUH3T8AAAAAAAAAAExZDgiiRuc/",
           "dtype": "f8"
          },
          "type": "data",
          "visible": true
         },
         "marker": {
          "color": "#379f9f"
         },
         "name": "MPC",
         "offsetgroup": "14",
         "opacity": 0.6,
         "showlegend": false,
         "type": "bar",
         "x": [
          "cancer",
          "earthquake",
          "survey"
         ],
         "y": {
          "bdata": "w/UoXI/CC0AAAAAAAAAOQNQGOm2g0wpA",
          "dtype": "f8"
         },
         "yaxis": "y2"
        },
        {
         "error_y": {
          "array": {
           "bdata": "uo0PzuDQ4D+zxGm/DivyP9kuw0TSD98/",
           "dtype": "f8"
          },
          "type": "data",
          "visible": true
         },
         "marker": {
          "color": "#0085CA"
         },
         "name": "ABAPC (Original)",
         "offsetgroup": "15",
         "opacity": 0.6,
         "showlegend": false,
         "type": "bar",
         "x": [
          "cancer",
          "earthquake",
          "survey"
         ],
         "y": {
          "bdata": "mpmZmZmZBkCkcD0K16MCQNBpA5020AVA",
          "dtype": "f8"
         },
         "yaxis": "y2"
        },
        {
         "error_y": {
          "array": {
           "bdata": "Jns/XUXi3z8jgovkmDzpP6TuB3g//cw/",
           "dtype": "f8"
          },
          "type": "data",
          "visible": true
         },
         "marker": {
          "color": "#9F8D00"
         },
         "name": "V1.1",
         "offsetgroup": "16",
         "opacity": 0.6,
         "showlegend": false,
         "type": "bar",
         "x": [
          "cancer",
          "earthquake",
          "survey"
         ],
         "y": {
          "bdata": "j8L1KFyPCUAK16NwPQr5P/nFkl8s+QlA",
          "dtype": "f8"
         },
         "yaxis": "y2"
        },
        {
         "error_y": {
          "array": {
           "bdata": "XWmX7L3A4D+zxGm/DivyPxcn/JsiaN4/",
           "dtype": "f8"
          },
          "type": "data",
          "visible": true
         },
         "marker": {
          "color": "#9E0000"
         },
         "name": "V1.2",
         "offsetgroup": "17",
         "opacity": 0.6,
         "showlegend": false,
         "type": "bar",
         "x": [
          "cancer",
          "earthquake",
          "survey"
         ],
         "y": {
          "bdata": "pHA9CtejBkCkcD0K16MCQBvotIFOGwZA",
          "dtype": "f8"
         },
         "yaxis": "y2"
        },
        {
         "error_y": {
          "array": {
           "bdata": "T4DpHo9f6z+GwTMge5nvP12u66ztCeU/",
           "dtype": "f8"
          },
          "type": "data",
          "visible": true
         },
         "marker": {
          "color": "#ff34da"
         },
         "name": "V1.3",
         "offsetgroup": "18",
         "opacity": 0.6,
         "showlegend": false,
         "type": "bar",
         "x": [
          "cancer",
          "earthquake",
          "survey"
         ],
         "y": {
          "bdata": "16NwPQrXB0AAAAAAAAD+PwAAAAAAAAZA",
          "dtype": "f8"
         },
         "yaxis": "y2"
        },
        {
         "error_y": {
          "array": {
           "bdata": "UUAiCPUX4z+7kXzODzfwP/OchP3xduU/",
           "dtype": "f8"
          },
          "type": "data",
          "visible": true
         },
         "marker": {
          "color": "#008100"
         },
         "name": "V1.4 ",
         "offsetgroup": "19",
         "opacity": 0.6,
         "showlegend": false,
         "type": "bar",
         "x": [
          "cancer",
          "earthquake",
          "survey"
         ],
         "y": {
          "bdata": "exSuR+F6BkCkcD0K16P+P+UXS36x5AdA",
          "dtype": "f8"
         },
         "yaxis": "y2"
        },
        {
         "error_y": {
          "array": {
           "bdata": "kFND/CWz4D9PnSYL/wb1PxzJC69lM9w/",
           "dtype": "f8"
          },
          "type": "data",
          "visible": true
         },
         "marker": {
          "color": "#ff8c00"
         },
         "name": "V2",
         "offsetgroup": "20",
         "opacity": 0.6,
         "showlegend": false,
         "type": "bar",
         "x": [
          "cancer",
          "earthquake",
          "survey"
         ],
         "y": {
          "bdata": "uB6F61G4BkCPwvUoXI8MQDMzMzMzMwlA",
          "dtype": "f8"
         },
         "yaxis": "y2"
        }
       ],
       "layout": {
        "annotations": [
         {
          "font": {
           "color": "Black",
           "family": "Serif",
           "size": 20
          },
          "showarrow": false,
          "text": "Dataset:",
          "x": 0,
          "xanchor": "center",
          "xref": "paper",
          "y": -0.08,
          "yanchor": "bottom",
          "yref": "paper"
         },
         {
          "bgcolor": "#E5ECF6",
          "bordercolor": "#E5ECF6",
          "borderwidth": 2,
          "font": {
           "color": "black",
           "size": 20
          },
          "opacity": 0.8,
          "showarrow": false,
          "text": "      Best      ",
          "x": 0.04,
          "xanchor": "left",
          "xref": "x domain",
          "y": 1.015,
          "yref": "y domain"
         },
         {
          "bgcolor": "#E5ECF6",
          "bordercolor": "#E5ECF6",
          "borderwidth": 2,
          "font": {
           "color": "black",
           "size": 20
          },
          "opacity": 0.8,
          "showarrow": false,
          "text": "      Worst      ",
          "x": 0.201,
          "xanchor": "left",
          "xref": "x domain",
          "y": 1.015,
          "yref": "y domain"
         },
         {
          "bgcolor": "#E5ECF6",
          "bordercolor": "#E5ECF6",
          "borderwidth": 2,
          "font": {
           "color": "black",
           "size": 20
          },
          "opacity": 0.8,
          "showarrow": false,
          "text": "      Best      ",
          "x": 0.375,
          "xanchor": "left",
          "xref": "x domain",
          "y": 1.015,
          "yref": "y domain"
         },
         {
          "bgcolor": "#E5ECF6",
          "bordercolor": "#E5ECF6",
          "borderwidth": 2,
          "font": {
           "color": "black",
           "size": 20
          },
          "opacity": 0.8,
          "showarrow": false,
          "text": "      Worst      ",
          "x": 0.536,
          "xanchor": "left",
          "xref": "x domain",
          "y": 1.015,
          "yref": "y domain"
         },
         {
          "bgcolor": "#E5ECF6",
          "bordercolor": "#E5ECF6",
          "borderwidth": 2,
          "font": {
           "color": "black",
           "size": 20
          },
          "opacity": 0.8,
          "showarrow": false,
          "text": "      Best      ",
          "x": 0.71,
          "xanchor": "left",
          "xref": "x domain",
          "y": 1.015,
          "yref": "y domain"
         },
         {
          "bgcolor": "#E5ECF6",
          "bordercolor": "#E5ECF6",
          "borderwidth": 2,
          "font": {
           "color": "black",
           "size": 20
          },
          "opacity": 0.8,
          "showarrow": false,
          "text": "      Worst      ",
          "x": 0.871,
          "xanchor": "left",
          "xref": "x domain",
          "y": 1.015,
          "yref": "y domain"
         }
        ],
        "bargap": 0.15,
        "bargroupgap": 0.15,
        "barmode": "group",
        "font": {
         "color": "black",
         "family": "Serif",
         "size": 20
        },
        "height": 600,
        "hovermode": "x unified",
        "legend": {
         "orientation": "h",
         "x": 0.5,
         "xanchor": "center",
         "y": 1.1,
         "yanchor": "top"
        },
        "margin": {
         "b": 70,
         "l": 40,
         "r": 0,
         "t": 20
        },
        "shapes": [
         {
          "layer": "below",
          "line": {
           "color": "grey",
           "dash": "dash",
           "width": 1
          },
          "type": "line",
          "x0": 0.1565,
          "x1": 0.1565,
          "xref": "paper",
          "y0": 0,
          "y1": 1,
          "yref": "paper"
         },
         {
          "layer": "below",
          "line": {
           "color": "black",
           "dash": "solid",
           "width": 1
          },
          "type": "line",
          "x0": 0.313,
          "x1": 0.313,
          "xref": "paper",
          "y0": 0,
          "y1": 1,
          "yref": "paper"
         },
         {
          "layer": "below",
          "line": {
           "color": "grey",
           "dash": "dash",
           "width": 1
          },
          "type": "line",
          "x0": 0.46950000000000003,
          "x1": 0.46950000000000003,
          "xref": "paper",
          "y0": 0,
          "y1": 1,
          "yref": "paper"
         },
         {
          "layer": "below",
          "line": {
           "color": "black",
           "dash": "solid",
           "width": 1
          },
          "type": "line",
          "x0": 0.626,
          "x1": 0.626,
          "xref": "paper",
          "y0": 0,
          "y1": 1,
          "yref": "paper"
         },
         {
          "layer": "below",
          "line": {
           "color": "grey",
           "dash": "dash",
           "width": 1
          },
          "type": "line",
          "x0": 0.7825,
          "x1": 0.7825,
          "xref": "paper",
          "y0": 0,
          "y1": 1,
          "yref": "paper"
         },
         {
          "layer": "below",
          "line": {
           "color": "black",
           "dash": "solid",
           "width": 1
          },
          "type": "line",
          "x0": 0.939,
          "x1": 0.939,
          "xref": "paper",
          "y0": 0,
          "y1": 1,
          "yref": "paper"
         }
        ],
        "template": {
         "data": {
          "bar": [
           {
            "error_x": {
             "color": "#2a3f5f"
            },
            "error_y": {
             "color": "#2a3f5f"
            },
            "marker": {
             "line": {
              "color": "white",
              "width": 0.5
             },
             "pattern": {
              "fillmode": "overlay",
              "size": 10,
              "solidity": 0.2
             }
            },
            "type": "bar"
           }
          ],
          "barpolar": [
           {
            "marker": {
             "line": {
              "color": "white",
              "width": 0.5
             },
             "pattern": {
              "fillmode": "overlay",
              "size": 10,
              "solidity": 0.2
             }
            },
            "type": "barpolar"
           }
          ],
          "carpet": [
           {
            "aaxis": {
             "endlinecolor": "#2a3f5f",
             "gridcolor": "#C8D4E3",
             "linecolor": "#C8D4E3",
             "minorgridcolor": "#C8D4E3",
             "startlinecolor": "#2a3f5f"
            },
            "baxis": {
             "endlinecolor": "#2a3f5f",
             "gridcolor": "#C8D4E3",
             "linecolor": "#C8D4E3",
             "minorgridcolor": "#C8D4E3",
             "startlinecolor": "#2a3f5f"
            },
            "type": "carpet"
           }
          ],
          "choropleth": [
           {
            "colorbar": {
             "outlinewidth": 0,
             "ticks": ""
            },
            "type": "choropleth"
           }
          ],
          "contour": [
           {
            "colorbar": {
             "outlinewidth": 0,
             "ticks": ""
            },
            "colorscale": [
             [
              0,
              "#0d0887"
             ],
             [
              0.1111111111111111,
              "#46039f"
             ],
             [
              0.2222222222222222,
              "#7201a8"
             ],
             [
              0.3333333333333333,
              "#9c179e"
             ],
             [
              0.4444444444444444,
              "#bd3786"
             ],
             [
              0.5555555555555556,
              "#d8576b"
             ],
             [
              0.6666666666666666,
              "#ed7953"
             ],
             [
              0.7777777777777778,
              "#fb9f3a"
             ],
             [
              0.8888888888888888,
              "#fdca26"
             ],
             [
              1,
              "#f0f921"
             ]
            ],
            "type": "contour"
           }
          ],
          "contourcarpet": [
           {
            "colorbar": {
             "outlinewidth": 0,
             "ticks": ""
            },
            "type": "contourcarpet"
           }
          ],
          "heatmap": [
           {
            "colorbar": {
             "outlinewidth": 0,
             "ticks": ""
            },
            "colorscale": [
             [
              0,
              "#0d0887"
             ],
             [
              0.1111111111111111,
              "#46039f"
             ],
             [
              0.2222222222222222,
              "#7201a8"
             ],
             [
              0.3333333333333333,
              "#9c179e"
             ],
             [
              0.4444444444444444,
              "#bd3786"
             ],
             [
              0.5555555555555556,
              "#d8576b"
             ],
             [
              0.6666666666666666,
              "#ed7953"
             ],
             [
              0.7777777777777778,
              "#fb9f3a"
             ],
             [
              0.8888888888888888,
              "#fdca26"
             ],
             [
              1,
              "#f0f921"
             ]
            ],
            "type": "heatmap"
           }
          ],
          "histogram": [
           {
            "marker": {
             "pattern": {
              "fillmode": "overlay",
              "size": 10,
              "solidity": 0.2
             }
            },
            "type": "histogram"
           }
          ],
          "histogram2d": [
           {
            "colorbar": {
             "outlinewidth": 0,
             "ticks": ""
            },
            "colorscale": [
             [
              0,
              "#0d0887"
             ],
             [
              0.1111111111111111,
              "#46039f"
             ],
             [
              0.2222222222222222,
              "#7201a8"
             ],
             [
              0.3333333333333333,
              "#9c179e"
             ],
             [
              0.4444444444444444,
              "#bd3786"
             ],
             [
              0.5555555555555556,
              "#d8576b"
             ],
             [
              0.6666666666666666,
              "#ed7953"
             ],
             [
              0.7777777777777778,
              "#fb9f3a"
             ],
             [
              0.8888888888888888,
              "#fdca26"
             ],
             [
              1,
              "#f0f921"
             ]
            ],
            "type": "histogram2d"
           }
          ],
          "histogram2dcontour": [
           {
            "colorbar": {
             "outlinewidth": 0,
             "ticks": ""
            },
            "colorscale": [
             [
              0,
              "#0d0887"
             ],
             [
              0.1111111111111111,
              "#46039f"
             ],
             [
              0.2222222222222222,
              "#7201a8"
             ],
             [
              0.3333333333333333,
              "#9c179e"
             ],
             [
              0.4444444444444444,
              "#bd3786"
             ],
             [
              0.5555555555555556,
              "#d8576b"
             ],
             [
              0.6666666666666666,
              "#ed7953"
             ],
             [
              0.7777777777777778,
              "#fb9f3a"
             ],
             [
              0.8888888888888888,
              "#fdca26"
             ],
             [
              1,
              "#f0f921"
             ]
            ],
            "type": "histogram2dcontour"
           }
          ],
          "mesh3d": [
           {
            "colorbar": {
             "outlinewidth": 0,
             "ticks": ""
            },
            "type": "mesh3d"
           }
          ],
          "parcoords": [
           {
            "line": {
             "colorbar": {
              "outlinewidth": 0,
              "ticks": ""
             }
            },
            "type": "parcoords"
           }
          ],
          "pie": [
           {
            "automargin": true,
            "type": "pie"
           }
          ],
          "scatter": [
           {
            "fillpattern": {
             "fillmode": "overlay",
             "size": 10,
             "solidity": 0.2
            },
            "type": "scatter"
           }
          ],
          "scatter3d": [
           {
            "line": {
             "colorbar": {
              "outlinewidth": 0,
              "ticks": ""
             }
            },
            "marker": {
             "colorbar": {
              "outlinewidth": 0,
              "ticks": ""
             }
            },
            "type": "scatter3d"
           }
          ],
          "scattercarpet": [
           {
            "marker": {
             "colorbar": {
              "outlinewidth": 0,
              "ticks": ""
             }
            },
            "type": "scattercarpet"
           }
          ],
          "scattergeo": [
           {
            "marker": {
             "colorbar": {
              "outlinewidth": 0,
              "ticks": ""
             }
            },
            "type": "scattergeo"
           }
          ],
          "scattergl": [
           {
            "marker": {
             "colorbar": {
              "outlinewidth": 0,
              "ticks": ""
             }
            },
            "type": "scattergl"
           }
          ],
          "scattermap": [
           {
            "marker": {
             "colorbar": {
              "outlinewidth": 0,
              "ticks": ""
             }
            },
            "type": "scattermap"
           }
          ],
          "scattermapbox": [
           {
            "marker": {
             "colorbar": {
              "outlinewidth": 0,
              "ticks": ""
             }
            },
            "type": "scattermapbox"
           }
          ],
          "scatterpolar": [
           {
            "marker": {
             "colorbar": {
              "outlinewidth": 0,
              "ticks": ""
             }
            },
            "type": "scatterpolar"
           }
          ],
          "scatterpolargl": [
           {
            "marker": {
             "colorbar": {
              "outlinewidth": 0,
              "ticks": ""
             }
            },
            "type": "scatterpolargl"
           }
          ],
          "scatterternary": [
           {
            "marker": {
             "colorbar": {
              "outlinewidth": 0,
              "ticks": ""
             }
            },
            "type": "scatterternary"
           }
          ],
          "surface": [
           {
            "colorbar": {
             "outlinewidth": 0,
             "ticks": ""
            },
            "colorscale": [
             [
              0,
              "#0d0887"
             ],
             [
              0.1111111111111111,
              "#46039f"
             ],
             [
              0.2222222222222222,
              "#7201a8"
             ],
             [
              0.3333333333333333,
              "#9c179e"
             ],
             [
              0.4444444444444444,
              "#bd3786"
             ],
             [
              0.5555555555555556,
              "#d8576b"
             ],
             [
              0.6666666666666666,
              "#ed7953"
             ],
             [
              0.7777777777777778,
              "#fb9f3a"
             ],
             [
              0.8888888888888888,
              "#fdca26"
             ],
             [
              1,
              "#f0f921"
             ]
            ],
            "type": "surface"
           }
          ],
          "table": [
           {
            "cells": {
             "fill": {
              "color": "#EBF0F8"
             },
             "line": {
              "color": "white"
             }
            },
            "header": {
             "fill": {
              "color": "#C8D4E3"
             },
             "line": {
              "color": "white"
             }
            },
            "type": "table"
           }
          ]
         },
         "layout": {
          "annotationdefaults": {
           "arrowcolor": "#2a3f5f",
           "arrowhead": 0,
           "arrowwidth": 1
          },
          "autotypenumbers": "strict",
          "coloraxis": {
           "colorbar": {
            "outlinewidth": 0,
            "ticks": ""
           }
          },
          "colorscale": {
           "diverging": [
            [
             0,
             "#8e0152"
            ],
            [
             0.1,
             "#c51b7d"
            ],
            [
             0.2,
             "#de77ae"
            ],
            [
             0.3,
             "#f1b6da"
            ],
            [
             0.4,
             "#fde0ef"
            ],
            [
             0.5,
             "#f7f7f7"
            ],
            [
             0.6,
             "#e6f5d0"
            ],
            [
             0.7,
             "#b8e186"
            ],
            [
             0.8,
             "#7fbc41"
            ],
            [
             0.9,
             "#4d9221"
            ],
            [
             1,
             "#276419"
            ]
           ],
           "sequential": [
            [
             0,
             "#0d0887"
            ],
            [
             0.1111111111111111,
             "#46039f"
            ],
            [
             0.2222222222222222,
             "#7201a8"
            ],
            [
             0.3333333333333333,
             "#9c179e"
            ],
            [
             0.4444444444444444,
             "#bd3786"
            ],
            [
             0.5555555555555556,
             "#d8576b"
            ],
            [
             0.6666666666666666,
             "#ed7953"
            ],
            [
             0.7777777777777778,
             "#fb9f3a"
            ],
            [
             0.8888888888888888,
             "#fdca26"
            ],
            [
             1,
             "#f0f921"
            ]
           ],
           "sequentialminus": [
            [
             0,
             "#0d0887"
            ],
            [
             0.1111111111111111,
             "#46039f"
            ],
            [
             0.2222222222222222,
             "#7201a8"
            ],
            [
             0.3333333333333333,
             "#9c179e"
            ],
            [
             0.4444444444444444,
             "#bd3786"
            ],
            [
             0.5555555555555556,
             "#d8576b"
            ],
            [
             0.6666666666666666,
             "#ed7953"
            ],
            [
             0.7777777777777778,
             "#fb9f3a"
            ],
            [
             0.8888888888888888,
             "#fdca26"
            ],
            [
             1,
             "#f0f921"
            ]
           ]
          },
          "colorway": [
           "#636efa",
           "#EF553B",
           "#00cc96",
           "#ab63fa",
           "#FFA15A",
           "#19d3f3",
           "#FF6692",
           "#B6E880",
           "#FF97FF",
           "#FECB52"
          ],
          "font": {
           "color": "#2a3f5f"
          },
          "geo": {
           "bgcolor": "white",
           "lakecolor": "white",
           "landcolor": "white",
           "showlakes": true,
           "showland": true,
           "subunitcolor": "#C8D4E3"
          },
          "hoverlabel": {
           "align": "left"
          },
          "hovermode": "closest",
          "mapbox": {
           "style": "light"
          },
          "paper_bgcolor": "white",
          "plot_bgcolor": "white",
          "polar": {
           "angularaxis": {
            "gridcolor": "#EBF0F8",
            "linecolor": "#EBF0F8",
            "ticks": ""
           },
           "bgcolor": "white",
           "radialaxis": {
            "gridcolor": "#EBF0F8",
            "linecolor": "#EBF0F8",
            "ticks": ""
           }
          },
          "scene": {
           "xaxis": {
            "backgroundcolor": "white",
            "gridcolor": "#DFE8F3",
            "gridwidth": 2,
            "linecolor": "#EBF0F8",
            "showbackground": true,
            "ticks": "",
            "zerolinecolor": "#EBF0F8"
           },
           "yaxis": {
            "backgroundcolor": "white",
            "gridcolor": "#DFE8F3",
            "gridwidth": 2,
            "linecolor": "#EBF0F8",
            "showbackground": true,
            "ticks": "",
            "zerolinecolor": "#EBF0F8"
           },
           "zaxis": {
            "backgroundcolor": "white",
            "gridcolor": "#DFE8F3",
            "gridwidth": 2,
            "linecolor": "#EBF0F8",
            "showbackground": true,
            "ticks": "",
            "zerolinecolor": "#EBF0F8"
           }
          },
          "shapedefaults": {
           "line": {
            "color": "#2a3f5f"
           }
          },
          "ternary": {
           "aaxis": {
            "gridcolor": "#DFE8F3",
            "linecolor": "#A2B1C6",
            "ticks": ""
           },
           "baxis": {
            "gridcolor": "#DFE8F3",
            "linecolor": "#A2B1C6",
            "ticks": ""
           },
           "bgcolor": "white",
           "caxis": {
            "gridcolor": "#DFE8F3",
            "linecolor": "#A2B1C6",
            "ticks": ""
           }
          },
          "title": {
           "x": 0.05
          },
          "xaxis": {
           "automargin": true,
           "gridcolor": "#EBF0F8",
           "linecolor": "#EBF0F8",
           "ticks": "",
           "title": {
            "standoff": 15
           },
           "zerolinecolor": "#EBF0F8",
           "zerolinewidth": 2
          },
          "yaxis": {
           "automargin": true,
           "gridcolor": "#EBF0F8",
           "linecolor": "#EBF0F8",
           "ticks": "",
           "title": {
            "standoff": 15
           },
           "zerolinecolor": "#EBF0F8",
           "zerolinewidth": 2
          }
         }
        },
        "width": 1300,
        "xaxis": {
         "anchor": "y",
         "domain": [
          0,
          0.94
         ]
        },
        "yaxis": {
         "anchor": "x",
         "domain": [
          0,
          1
         ],
         "range": [
          0,
          5
         ],
         "title": {
          "font": {
           "size": 20
          },
          "text": "Normalised SID"
         }
        },
        "yaxis2": {
         "anchor": "x",
         "overlaying": "y",
         "range": [
          0,
          5
         ],
         "scaleanchor": 0,
         "showgrid": false,
         "showline": false,
         "showticklabels": false,
         "side": "right",
         "title": {
          "font": {
           "size": 20
          },
          "text": ""
         },
         "zeroline": true
        }
       }
      }
     },
     "metadata": {},
     "output_type": "display_data"
    }
   ],
   "source": [
    "double_bar_chart_plotly(v1_bn_plot_data, \n",
    "                        names_dict,\n",
    "                        colors_dict,\n",
    "                        methods=methods,\n",
    "                        dist_between_lines=0.1565,\n",
    "                        lin_space=6,\n",
    "                        nl_space=6,\n",
    "                        intra_dis = 0.161,\n",
    "                        inter_dis = 0.174,\n",
    "                        start_pos = 0.04,\n",
    "                            width=1300,\n",
    "                            height=600,\n",
    "                            range_y1=(0, 5),\n",
    "                            range_y2=(0, 5))"
   ]
  },
  {
   "cell_type": "markdown",
   "id": "6108af5f",
   "metadata": {},
   "source": [
    "Runtime for V1"
   ]
  },
  {
   "cell_type": "code",
   "execution_count": 18,
   "id": "41f03be8",
   "metadata": {},
   "outputs": [],
   "source": [
    "methods = [\n",
    "    # 'Random',\n",
    "    # 'FGS',\n",
    "    # 'NOTEARS-MLP',\n",
    "    # 'MPC',\n",
    "    'ABAPC (Original)',\n",
    "    'V1.1 Refined Fact Ranking',\n",
    "    'V1.2 Model Selection by Refined Fact Strengths',\n",
    "    'V1.3 Model Selection by Arrows Sum',\n",
    "    'V1.4 Model Selection by Arrows Mean',\n",
    "    'V2',\n",
    "]\n",
    "\n",
    "symbols_dict = {\n",
    "    'ABAPC (Original)':'triangle-down-dot',\n",
    "    'FGS':'triangle-up-dot',\n",
    "    'NOTEARS-MLP':'pentagon-dot',\n",
    "    'MPC':'hexagon2-dot',\n",
    "    'Random':'x', \n",
    "    'V1.1 Refined Fact Ranking':'circle-dot',\n",
    "    'V1.2 Model Selection by Refined Fact Strengths':'diamond-dot',\n",
    "    'V1.3 Model Selection by Arrows Sum':'square-dot',\n",
    "    'V1.4 Model Selection by Arrows Mean':'star-dot',\n",
    "    'V2':'circle-dot'}"
   ]
  },
  {
   "cell_type": "code",
   "execution_count": 19,
   "id": "5592fa96",
   "metadata": {},
   "outputs": [],
   "source": [
    "v1_data_for_runtime_plot = pd.concat([v1_data_with_model_names, baselines_data_random, v2_data_random], ignore_index=True)\n",
    "\n",
    "v1_data_for_runtime_plot = v1_data_for_runtime_plot.groupby(['n_nodes', 'n_edges', 'model'], as_index=False).aggregate(\n",
    "    elapsed_mean=('elapsed', 'mean'),\n",
    "    elapsed_std=('elapsed', 'std')\n",
    ")"
   ]
  },
  {
   "cell_type": "code",
   "execution_count": 20,
   "id": "9a192c4d",
   "metadata": {},
   "outputs": [
    {
     "data": {
      "application/vnd.plotly.v1+json": {
       "config": {
        "plotlyServerURL": "https://plot.ly"
       },
       "data": [
        {
         "error_y": {
          "array": {
           "bdata": "Gwl7fKCSgD8Q10zOWWbJP9GSJs0ShNM/mtaA12UVQEA=",
           "dtype": "f8"
          },
          "thickness": 2,
          "type": "data"
         },
         "line": {
          "color": "#0085CA",
          "width": 2
         },
         "marker": {
          "color": "#0085CA",
          "size": 8,
          "symbol": "triangle-down-dot"
         },
         "mode": "lines+markers",
         "name": "ABAPC (Original)",
         "opacity": 0.8,
         "type": "scatter",
         "x": [
          "3",
          "4",
          "5",
          "6"
         ],
         "y": {
          "bdata": "XetRuDZnlT/sKFyPUBO1P4PrUbj7l9E/exSup+1wI0A=",
          "dtype": "f8"
         }
        },
        {
         "error_y": {
          "array": {
           "bdata": "P1tdRgk3kD94N+t7Ow6iP8jGtOMD7Lk/WaGknyMEAkA=",
           "dtype": "f8"
          },
          "thickness": 2,
          "type": "data"
         },
         "line": {
          "color": "#9F8D00",
          "width": 2
         },
         "marker": {
          "color": "#9F8D00",
          "size": 8,
          "symbol": "circle-dot"
         },
         "mode": "lines+markers",
         "name": "V1.1",
         "opacity": 0.8,
         "type": "scatter",
         "x": [
          "3",
          "4",
          "5",
          "6"
         ],
         "y": {
          "bdata": "M4/C9VTKqD8XhetRdHfFP+xRuH7fKPc/FK5HVN9CQEA=",
          "dtype": "f8"
         }
        },
        {
         "error_y": {
          "array": {
           "bdata": "F7AiPLYBgT/MCcZePGbJPxQFVcNwC8w/kGGhzORTL0A=",
           "dtype": "f8"
          },
          "thickness": 2,
          "type": "data"
         },
         "line": {
          "color": "#9E0000",
          "width": 2
         },
         "marker": {
          "color": "#9E0000",
          "size": 8,
          "symbol": "diamond-dot"
         },
         "mode": "lines+markers",
         "name": "V1.2",
         "opacity": 0.8,
         "type": "scatter",
         "x": [
          "3",
          "4",
          "5",
          "6"
         ],
         "y": {
          "bdata": "KrgehTOGpT9zFK5HbwzJPxSuR+FD+vg/PQrXEVa3QkA=",
          "dtype": "f8"
         }
        },
        {
         "error_y": {
          "array": {
           "bdata": "sURqN3QGgj9Jez1B8F/JP2x6RQnmicA/7H/EgsLrCUA=",
           "dtype": "f8"
          },
          "thickness": 2,
          "type": "data"
         },
         "line": {
          "color": "#ff34da",
          "width": 2
         },
         "marker": {
          "color": "#ff34da",
          "size": 8,
          "symbol": "square-dot"
         },
         "mode": "lines+markers",
         "name": "V1.3",
         "opacity": 0.8,
         "type": "scatter",
         "x": [
          "3",
          "4",
          "5",
          "6"
         ],
         "y": {
          "bdata": "m/UoXPvdpD8XhetR/37IPwAAAEDqH/g/exSuj9j1QEA=",
          "dtype": "f8"
         }
        },
        {
         "error_y": {
          "array": {
           "bdata": "51cmdwo0gT8dSg3WV17JP0us+E4cb8A/iZ+Kenr0CUA=",
           "dtype": "f8"
          },
          "thickness": 2,
          "type": "data"
         },
         "line": {
          "color": "#008100",
          "width": 2
         },
         "marker": {
          "color": "#008100",
          "size": 8,
          "symbol": "star-dot"
         },
         "mode": "lines+markers",
         "name": "V1.4 ",
         "opacity": 0.8,
         "type": "scatter",
         "x": [
          "3",
          "4",
          "5",
          "6"
         ],
         "y": {
          "bdata": "AFyPwn2ppD9A4XoU+YXIP3sUrodmIfg/9ihcFCP2QEA=",
          "dtype": "f8"
         }
        },
        {
         "error_y": {
          "array": {
           "bdata": "+Wk7SgezcD8mCtpZDbqoP2SnIO+FRd8/oCLpRL5v5j8=",
           "dtype": "f8"
          },
          "thickness": 2,
          "type": "data"
         },
         "line": {
          "color": "#ff8c00",
          "width": 2
         },
         "marker": {
          "color": "#ff8c00",
          "size": 8,
          "symbol": "circle-dot"
         },
         "mode": "lines+markers",
         "name": "V2",
         "opacity": 0.8,
         "type": "scatter",
         "x": [
          "3",
          "4",
          "5",
          "6"
         ],
         "y": {
          "bdata": "gsL1KEj3sz8G16NwrHXVP9ejcP1TdwFA4XoUhNNwMkA=",
          "dtype": "f8"
         }
        }
       ],
       "layout": {
        "font": {
         "color": "black",
         "family": "Serif",
         "size": 20
        },
        "height": 300,
        "legend": {
         "orientation": "h",
         "x": 0.5,
         "xanchor": "center",
         "y": 1.05,
         "yanchor": "bottom"
        },
        "margin": {
         "b": 80,
         "l": 10,
         "r": 10,
         "t": 10
        },
        "template": {
         "data": {
          "bar": [
           {
            "error_x": {
             "color": "#2a3f5f"
            },
            "error_y": {
             "color": "#2a3f5f"
            },
            "marker": {
             "line": {
              "color": "white",
              "width": 0.5
             },
             "pattern": {
              "fillmode": "overlay",
              "size": 10,
              "solidity": 0.2
             }
            },
            "type": "bar"
           }
          ],
          "barpolar": [
           {
            "marker": {
             "line": {
              "color": "white",
              "width": 0.5
             },
             "pattern": {
              "fillmode": "overlay",
              "size": 10,
              "solidity": 0.2
             }
            },
            "type": "barpolar"
           }
          ],
          "carpet": [
           {
            "aaxis": {
             "endlinecolor": "#2a3f5f",
             "gridcolor": "#C8D4E3",
             "linecolor": "#C8D4E3",
             "minorgridcolor": "#C8D4E3",
             "startlinecolor": "#2a3f5f"
            },
            "baxis": {
             "endlinecolor": "#2a3f5f",
             "gridcolor": "#C8D4E3",
             "linecolor": "#C8D4E3",
             "minorgridcolor": "#C8D4E3",
             "startlinecolor": "#2a3f5f"
            },
            "type": "carpet"
           }
          ],
          "choropleth": [
           {
            "colorbar": {
             "outlinewidth": 0,
             "ticks": ""
            },
            "type": "choropleth"
           }
          ],
          "contour": [
           {
            "colorbar": {
             "outlinewidth": 0,
             "ticks": ""
            },
            "colorscale": [
             [
              0,
              "#0d0887"
             ],
             [
              0.1111111111111111,
              "#46039f"
             ],
             [
              0.2222222222222222,
              "#7201a8"
             ],
             [
              0.3333333333333333,
              "#9c179e"
             ],
             [
              0.4444444444444444,
              "#bd3786"
             ],
             [
              0.5555555555555556,
              "#d8576b"
             ],
             [
              0.6666666666666666,
              "#ed7953"
             ],
             [
              0.7777777777777778,
              "#fb9f3a"
             ],
             [
              0.8888888888888888,
              "#fdca26"
             ],
             [
              1,
              "#f0f921"
             ]
            ],
            "type": "contour"
           }
          ],
          "contourcarpet": [
           {
            "colorbar": {
             "outlinewidth": 0,
             "ticks": ""
            },
            "type": "contourcarpet"
           }
          ],
          "heatmap": [
           {
            "colorbar": {
             "outlinewidth": 0,
             "ticks": ""
            },
            "colorscale": [
             [
              0,
              "#0d0887"
             ],
             [
              0.1111111111111111,
              "#46039f"
             ],
             [
              0.2222222222222222,
              "#7201a8"
             ],
             [
              0.3333333333333333,
              "#9c179e"
             ],
             [
              0.4444444444444444,
              "#bd3786"
             ],
             [
              0.5555555555555556,
              "#d8576b"
             ],
             [
              0.6666666666666666,
              "#ed7953"
             ],
             [
              0.7777777777777778,
              "#fb9f3a"
             ],
             [
              0.8888888888888888,
              "#fdca26"
             ],
             [
              1,
              "#f0f921"
             ]
            ],
            "type": "heatmap"
           }
          ],
          "histogram": [
           {
            "marker": {
             "pattern": {
              "fillmode": "overlay",
              "size": 10,
              "solidity": 0.2
             }
            },
            "type": "histogram"
           }
          ],
          "histogram2d": [
           {
            "colorbar": {
             "outlinewidth": 0,
             "ticks": ""
            },
            "colorscale": [
             [
              0,
              "#0d0887"
             ],
             [
              0.1111111111111111,
              "#46039f"
             ],
             [
              0.2222222222222222,
              "#7201a8"
             ],
             [
              0.3333333333333333,
              "#9c179e"
             ],
             [
              0.4444444444444444,
              "#bd3786"
             ],
             [
              0.5555555555555556,
              "#d8576b"
             ],
             [
              0.6666666666666666,
              "#ed7953"
             ],
             [
              0.7777777777777778,
              "#fb9f3a"
             ],
             [
              0.8888888888888888,
              "#fdca26"
             ],
             [
              1,
              "#f0f921"
             ]
            ],
            "type": "histogram2d"
           }
          ],
          "histogram2dcontour": [
           {
            "colorbar": {
             "outlinewidth": 0,
             "ticks": ""
            },
            "colorscale": [
             [
              0,
              "#0d0887"
             ],
             [
              0.1111111111111111,
              "#46039f"
             ],
             [
              0.2222222222222222,
              "#7201a8"
             ],
             [
              0.3333333333333333,
              "#9c179e"
             ],
             [
              0.4444444444444444,
              "#bd3786"
             ],
             [
              0.5555555555555556,
              "#d8576b"
             ],
             [
              0.6666666666666666,
              "#ed7953"
             ],
             [
              0.7777777777777778,
              "#fb9f3a"
             ],
             [
              0.8888888888888888,
              "#fdca26"
             ],
             [
              1,
              "#f0f921"
             ]
            ],
            "type": "histogram2dcontour"
           }
          ],
          "mesh3d": [
           {
            "colorbar": {
             "outlinewidth": 0,
             "ticks": ""
            },
            "type": "mesh3d"
           }
          ],
          "parcoords": [
           {
            "line": {
             "colorbar": {
              "outlinewidth": 0,
              "ticks": ""
             }
            },
            "type": "parcoords"
           }
          ],
          "pie": [
           {
            "automargin": true,
            "type": "pie"
           }
          ],
          "scatter": [
           {
            "fillpattern": {
             "fillmode": "overlay",
             "size": 10,
             "solidity": 0.2
            },
            "type": "scatter"
           }
          ],
          "scatter3d": [
           {
            "line": {
             "colorbar": {
              "outlinewidth": 0,
              "ticks": ""
             }
            },
            "marker": {
             "colorbar": {
              "outlinewidth": 0,
              "ticks": ""
             }
            },
            "type": "scatter3d"
           }
          ],
          "scattercarpet": [
           {
            "marker": {
             "colorbar": {
              "outlinewidth": 0,
              "ticks": ""
             }
            },
            "type": "scattercarpet"
           }
          ],
          "scattergeo": [
           {
            "marker": {
             "colorbar": {
              "outlinewidth": 0,
              "ticks": ""
             }
            },
            "type": "scattergeo"
           }
          ],
          "scattergl": [
           {
            "marker": {
             "colorbar": {
              "outlinewidth": 0,
              "ticks": ""
             }
            },
            "type": "scattergl"
           }
          ],
          "scattermap": [
           {
            "marker": {
             "colorbar": {
              "outlinewidth": 0,
              "ticks": ""
             }
            },
            "type": "scattermap"
           }
          ],
          "scattermapbox": [
           {
            "marker": {
             "colorbar": {
              "outlinewidth": 0,
              "ticks": ""
             }
            },
            "type": "scattermapbox"
           }
          ],
          "scatterpolar": [
           {
            "marker": {
             "colorbar": {
              "outlinewidth": 0,
              "ticks": ""
             }
            },
            "type": "scatterpolar"
           }
          ],
          "scatterpolargl": [
           {
            "marker": {
             "colorbar": {
              "outlinewidth": 0,
              "ticks": ""
             }
            },
            "type": "scatterpolargl"
           }
          ],
          "scatterternary": [
           {
            "marker": {
             "colorbar": {
              "outlinewidth": 0,
              "ticks": ""
             }
            },
            "type": "scatterternary"
           }
          ],
          "surface": [
           {
            "colorbar": {
             "outlinewidth": 0,
             "ticks": ""
            },
            "colorscale": [
             [
              0,
              "#0d0887"
             ],
             [
              0.1111111111111111,
              "#46039f"
             ],
             [
              0.2222222222222222,
              "#7201a8"
             ],
             [
              0.3333333333333333,
              "#9c179e"
             ],
             [
              0.4444444444444444,
              "#bd3786"
             ],
             [
              0.5555555555555556,
              "#d8576b"
             ],
             [
              0.6666666666666666,
              "#ed7953"
             ],
             [
              0.7777777777777778,
              "#fb9f3a"
             ],
             [
              0.8888888888888888,
              "#fdca26"
             ],
             [
              1,
              "#f0f921"
             ]
            ],
            "type": "surface"
           }
          ],
          "table": [
           {
            "cells": {
             "fill": {
              "color": "#EBF0F8"
             },
             "line": {
              "color": "white"
             }
            },
            "header": {
             "fill": {
              "color": "#C8D4E3"
             },
             "line": {
              "color": "white"
             }
            },
            "type": "table"
           }
          ]
         },
         "layout": {
          "annotationdefaults": {
           "arrowcolor": "#2a3f5f",
           "arrowhead": 0,
           "arrowwidth": 1
          },
          "autotypenumbers": "strict",
          "coloraxis": {
           "colorbar": {
            "outlinewidth": 0,
            "ticks": ""
           }
          },
          "colorscale": {
           "diverging": [
            [
             0,
             "#8e0152"
            ],
            [
             0.1,
             "#c51b7d"
            ],
            [
             0.2,
             "#de77ae"
            ],
            [
             0.3,
             "#f1b6da"
            ],
            [
             0.4,
             "#fde0ef"
            ],
            [
             0.5,
             "#f7f7f7"
            ],
            [
             0.6,
             "#e6f5d0"
            ],
            [
             0.7,
             "#b8e186"
            ],
            [
             0.8,
             "#7fbc41"
            ],
            [
             0.9,
             "#4d9221"
            ],
            [
             1,
             "#276419"
            ]
           ],
           "sequential": [
            [
             0,
             "#0d0887"
            ],
            [
             0.1111111111111111,
             "#46039f"
            ],
            [
             0.2222222222222222,
             "#7201a8"
            ],
            [
             0.3333333333333333,
             "#9c179e"
            ],
            [
             0.4444444444444444,
             "#bd3786"
            ],
            [
             0.5555555555555556,
             "#d8576b"
            ],
            [
             0.6666666666666666,
             "#ed7953"
            ],
            [
             0.7777777777777778,
             "#fb9f3a"
            ],
            [
             0.8888888888888888,
             "#fdca26"
            ],
            [
             1,
             "#f0f921"
            ]
           ],
           "sequentialminus": [
            [
             0,
             "#0d0887"
            ],
            [
             0.1111111111111111,
             "#46039f"
            ],
            [
             0.2222222222222222,
             "#7201a8"
            ],
            [
             0.3333333333333333,
             "#9c179e"
            ],
            [
             0.4444444444444444,
             "#bd3786"
            ],
            [
             0.5555555555555556,
             "#d8576b"
            ],
            [
             0.6666666666666666,
             "#ed7953"
            ],
            [
             0.7777777777777778,
             "#fb9f3a"
            ],
            [
             0.8888888888888888,
             "#fdca26"
            ],
            [
             1,
             "#f0f921"
            ]
           ]
          },
          "colorway": [
           "#636efa",
           "#EF553B",
           "#00cc96",
           "#ab63fa",
           "#FFA15A",
           "#19d3f3",
           "#FF6692",
           "#B6E880",
           "#FF97FF",
           "#FECB52"
          ],
          "font": {
           "color": "#2a3f5f"
          },
          "geo": {
           "bgcolor": "white",
           "lakecolor": "white",
           "landcolor": "white",
           "showlakes": true,
           "showland": true,
           "subunitcolor": "#C8D4E3"
          },
          "hoverlabel": {
           "align": "left"
          },
          "hovermode": "closest",
          "mapbox": {
           "style": "light"
          },
          "paper_bgcolor": "white",
          "plot_bgcolor": "white",
          "polar": {
           "angularaxis": {
            "gridcolor": "#EBF0F8",
            "linecolor": "#EBF0F8",
            "ticks": ""
           },
           "bgcolor": "white",
           "radialaxis": {
            "gridcolor": "#EBF0F8",
            "linecolor": "#EBF0F8",
            "ticks": ""
           }
          },
          "scene": {
           "xaxis": {
            "backgroundcolor": "white",
            "gridcolor": "#DFE8F3",
            "gridwidth": 2,
            "linecolor": "#EBF0F8",
            "showbackground": true,
            "ticks": "",
            "zerolinecolor": "#EBF0F8"
           },
           "yaxis": {
            "backgroundcolor": "white",
            "gridcolor": "#DFE8F3",
            "gridwidth": 2,
            "linecolor": "#EBF0F8",
            "showbackground": true,
            "ticks": "",
            "zerolinecolor": "#EBF0F8"
           },
           "zaxis": {
            "backgroundcolor": "white",
            "gridcolor": "#DFE8F3",
            "gridwidth": 2,
            "linecolor": "#EBF0F8",
            "showbackground": true,
            "ticks": "",
            "zerolinecolor": "#EBF0F8"
           }
          },
          "shapedefaults": {
           "line": {
            "color": "#2a3f5f"
           }
          },
          "ternary": {
           "aaxis": {
            "gridcolor": "#DFE8F3",
            "linecolor": "#A2B1C6",
            "ticks": ""
           },
           "baxis": {
            "gridcolor": "#DFE8F3",
            "linecolor": "#A2B1C6",
            "ticks": ""
           },
           "bgcolor": "white",
           "caxis": {
            "gridcolor": "#DFE8F3",
            "linecolor": "#A2B1C6",
            "ticks": ""
           }
          },
          "title": {
           "x": 0.05
          },
          "xaxis": {
           "automargin": true,
           "gridcolor": "#EBF0F8",
           "linecolor": "#EBF0F8",
           "ticks": "",
           "title": {
            "standoff": 15
           },
           "zerolinecolor": "#EBF0F8",
           "zerolinewidth": 2
          },
          "yaxis": {
           "automargin": true,
           "gridcolor": "#EBF0F8",
           "linecolor": "#EBF0F8",
           "ticks": "",
           "title": {
            "standoff": 15
           },
           "zerolinecolor": "#EBF0F8",
           "zerolinewidth": 2
          }
         }
        },
        "width": 750,
        "xaxis": {
         "anchor": "y",
         "domain": [
          0,
          1
         ],
         "title": {
          "text": "Number of Nodes (|V|)"
         }
        },
        "yaxis": {
         "anchor": "x",
         "domain": [
          0,
          1
         ],
         "title": {
          "text": "log(elapsed time [s])"
         },
         "type": "log"
        }
       }
      }
     },
     "metadata": {},
     "output_type": "display_data"
    }
   ],
   "source": [
    "v1_data_for_runtime_plot = v1_data_for_runtime_plot[v1_data_for_runtime_plot['n_nodes'] <= 6]\n",
    "plot_runtime(v1_data_for_runtime_plot,\n",
    "             colors_dict=colors_dict,\n",
    "             names_dict=names_dict,\n",
    "             symbols_dict=symbols_dict,\n",
    "             methods=methods)"
   ]
  },
  {
   "cell_type": "markdown",
   "id": "454edc21",
   "metadata": {},
   "source": [
    "## Ablation\n"
   ]
  },
  {
   "cell_type": "code",
   "execution_count": 21,
   "id": "ecbe2285",
   "metadata": {},
   "outputs": [],
   "source": [
    "v2_random_ablation = pd.read_csv('../../results/gradual/v2_ablation_random_graphs_partial/cpdag_metrics.csv')"
   ]
  },
  {
   "cell_type": "code",
   "execution_count": 22,
   "id": "7d80c25c",
   "metadata": {},
   "outputs": [
    {
     "data": {
      "text/plain": [
       "Index(['nnz', 'fdr', 'tpr', 'fpr', 'precision', 'recall', 'F1', 'shd',\n",
       "       'sid_low', 'sid_high', 'dataset', 'seed', 'n_nodes', 'n_edges',\n",
       "       'neighbourhood_n_nodes', 'max_cycle_length', 'max_ct_depth',\n",
       "       'max_path_length', 'max_c_set_size', 'search_depth',\n",
       "       'elapsed_bsaf_creation', 'elapsed_model_solution', 'is_converged',\n",
       "       'fact_ranking_method', 'model_ranking_method', 'num_edges_est',\n",
       "       'best_model', 'aba_elapsed', 'ranking_elapsed', 'best_I'],\n",
       "      dtype='object')"
      ]
     },
     "execution_count": 22,
     "metadata": {},
     "output_type": "execute_result"
    }
   ],
   "source": [
    "v2_random_ablation.columns"
   ]
  },
  {
   "cell_type": "code",
   "execution_count": 37,
   "id": "77062539",
   "metadata": {},
   "outputs": [],
   "source": [
    "v2_random_ablation['elapsed'] = (\n",
    "    v2_random_ablation['elapsed_bsaf_creation'] +\n",
    "    v2_random_ablation['elapsed_model_solution'] + \n",
    "    v2_random_ablation['aba_elapsed'] +\n",
    "    v2_random_ablation['ranking_elapsed']\n",
    ")\n",
    "v2_random_ablation['max_ct_depth'] = (v2_random_ablation['max_ct_depth'] > -1)"
   ]
  },
  {
   "cell_type": "code",
   "execution_count": 38,
   "id": "41e6f4bb",
   "metadata": {},
   "outputs": [],
   "source": [
    "group_cols = ['neighbourhood_n_nodes', 'max_ct_depth', 'max_c_set_size', 'search_depth', 'n_nodes', 'n_edges']\n",
    "agg_cols = ['sid_low', 'sid_high', 'elapsed']"
   ]
  },
  {
   "cell_type": "code",
   "execution_count": 54,
   "id": "3158cd82",
   "metadata": {},
   "outputs": [],
   "source": [
    "agg_df = v2_random_ablation.groupby(group_cols)[agg_cols].agg(['mean', 'std']).reset_index()\n",
    "\n",
    "# Flatten MultiIndex columns\n",
    "agg_df.columns = ['_'.join(col).strip('_') for col in agg_df.columns.values]\n",
    "agg_df['sid_high_mean'] = agg_df['sid_high_mean'] / agg_df['n_edges']\n",
    "agg_df['sid_low_mean'] = agg_df['sid_low_mean'] / agg_df['n_edges']\n",
    "agg_df['sid_low_std'] = agg_df['sid_low_std'] / agg_df['n_edges']\n",
    "agg_df['sid_high_std'] = agg_df['sid_high_std'] / agg_df['n_edges']\n",
    "\n"
   ]
  },
  {
   "cell_type": "code",
   "execution_count": 55,
   "id": "8a660b4a",
   "metadata": {},
   "outputs": [],
   "source": [
    "import plotly.graph_objects as go\n",
    "\n",
    "def plot_ablation(df, param_name, metric='elapsed_mean', std_metric='elapsed_std', fixed_params={}):\n",
    "    # Filter for fixed param values (to isolate ablation)\n",
    "    for k, v in fixed_params.items():\n",
    "        df = df[df[k] == v]\n",
    "    \n",
    "    # Sort by ablation param\n",
    "    df = df.sort_values(by=param_name)\n",
    "    \n",
    "    fig = go.Figure()\n",
    "    fig.add_trace(go.Scatter(\n",
    "        x=df[param_name],\n",
    "        y=df[metric],\n",
    "        mode='lines+markers',\n",
    "        name='Mean',\n",
    "        line=dict(color='blue')\n",
    "    ))\n",
    "\n",
    "    # Add standard deviation band\n",
    "    fig.add_trace(go.Scatter(\n",
    "        x=pd.concat([df[param_name], df[param_name][::-1]]),\n",
    "        y=pd.concat([df[metric] + df[std_metric], (df[metric] - df[std_metric])[::-1]]),\n",
    "        fill='toself',\n",
    "        fillcolor='rgba(0,0,255,0.1)',\n",
    "        line=dict(color='rgba(255,255,255,0)'),\n",
    "        hoverinfo=\"skip\",\n",
    "        showlegend=False\n",
    "    ))\n",
    "\n",
    "    fig.update_layout(\n",
    "        title=f\"Ablation of {param_name}\",\n",
    "        xaxis_title=param_name,\n",
    "        yaxis_title=metric.replace('_', ' ').title(),\n",
    "        template='plotly_white'\n",
    "    )\n",
    "    \n",
    "    fig.show()\n"
   ]
  },
  {
   "cell_type": "code",
   "execution_count": 62,
   "id": "80c44f56",
   "metadata": {},
   "outputs": [
    {
     "data": {
      "application/vnd.plotly.v1+json": {
       "config": {
        "plotlyServerURL": "https://plot.ly"
       },
       "data": [
        {
         "line": {
          "color": "blue"
         },
         "mode": "lines+markers",
         "name": "Mean",
         "type": "scatter",
         "x": [
          false,
          true
         ],
         "y": {
          "bdata": "v1jyiyW/CEBpA5020GkHQA==",
          "dtype": "f8"
         }
        },
        {
         "fill": "toself",
         "fillcolor": "rgba(0,0,255,0.1)",
         "hoverinfo": "skip",
         "line": {
          "color": "rgba(255,255,255,0)"
         },
         "showlegend": false,
         "type": "scatter",
         "x": [
          false,
          true,
          true,
          false
         ],
         "y": {
          "bdata": "YZZWQynhD0CSD8leIqsPQH/u4Rz8UP4/HRuO1CGdAUA=",
          "dtype": "f8"
         }
        }
       ],
       "layout": {
        "template": {
         "data": {
          "bar": [
           {
            "error_x": {
             "color": "#2a3f5f"
            },
            "error_y": {
             "color": "#2a3f5f"
            },
            "marker": {
             "line": {
              "color": "white",
              "width": 0.5
             },
             "pattern": {
              "fillmode": "overlay",
              "size": 10,
              "solidity": 0.2
             }
            },
            "type": "bar"
           }
          ],
          "barpolar": [
           {
            "marker": {
             "line": {
              "color": "white",
              "width": 0.5
             },
             "pattern": {
              "fillmode": "overlay",
              "size": 10,
              "solidity": 0.2
             }
            },
            "type": "barpolar"
           }
          ],
          "carpet": [
           {
            "aaxis": {
             "endlinecolor": "#2a3f5f",
             "gridcolor": "#C8D4E3",
             "linecolor": "#C8D4E3",
             "minorgridcolor": "#C8D4E3",
             "startlinecolor": "#2a3f5f"
            },
            "baxis": {
             "endlinecolor": "#2a3f5f",
             "gridcolor": "#C8D4E3",
             "linecolor": "#C8D4E3",
             "minorgridcolor": "#C8D4E3",
             "startlinecolor": "#2a3f5f"
            },
            "type": "carpet"
           }
          ],
          "choropleth": [
           {
            "colorbar": {
             "outlinewidth": 0,
             "ticks": ""
            },
            "type": "choropleth"
           }
          ],
          "contour": [
           {
            "colorbar": {
             "outlinewidth": 0,
             "ticks": ""
            },
            "colorscale": [
             [
              0,
              "#0d0887"
             ],
             [
              0.1111111111111111,
              "#46039f"
             ],
             [
              0.2222222222222222,
              "#7201a8"
             ],
             [
              0.3333333333333333,
              "#9c179e"
             ],
             [
              0.4444444444444444,
              "#bd3786"
             ],
             [
              0.5555555555555556,
              "#d8576b"
             ],
             [
              0.6666666666666666,
              "#ed7953"
             ],
             [
              0.7777777777777778,
              "#fb9f3a"
             ],
             [
              0.8888888888888888,
              "#fdca26"
             ],
             [
              1,
              "#f0f921"
             ]
            ],
            "type": "contour"
           }
          ],
          "contourcarpet": [
           {
            "colorbar": {
             "outlinewidth": 0,
             "ticks": ""
            },
            "type": "contourcarpet"
           }
          ],
          "heatmap": [
           {
            "colorbar": {
             "outlinewidth": 0,
             "ticks": ""
            },
            "colorscale": [
             [
              0,
              "#0d0887"
             ],
             [
              0.1111111111111111,
              "#46039f"
             ],
             [
              0.2222222222222222,
              "#7201a8"
             ],
             [
              0.3333333333333333,
              "#9c179e"
             ],
             [
              0.4444444444444444,
              "#bd3786"
             ],
             [
              0.5555555555555556,
              "#d8576b"
             ],
             [
              0.6666666666666666,
              "#ed7953"
             ],
             [
              0.7777777777777778,
              "#fb9f3a"
             ],
             [
              0.8888888888888888,
              "#fdca26"
             ],
             [
              1,
              "#f0f921"
             ]
            ],
            "type": "heatmap"
           }
          ],
          "histogram": [
           {
            "marker": {
             "pattern": {
              "fillmode": "overlay",
              "size": 10,
              "solidity": 0.2
             }
            },
            "type": "histogram"
           }
          ],
          "histogram2d": [
           {
            "colorbar": {
             "outlinewidth": 0,
             "ticks": ""
            },
            "colorscale": [
             [
              0,
              "#0d0887"
             ],
             [
              0.1111111111111111,
              "#46039f"
             ],
             [
              0.2222222222222222,
              "#7201a8"
             ],
             [
              0.3333333333333333,
              "#9c179e"
             ],
             [
              0.4444444444444444,
              "#bd3786"
             ],
             [
              0.5555555555555556,
              "#d8576b"
             ],
             [
              0.6666666666666666,
              "#ed7953"
             ],
             [
              0.7777777777777778,
              "#fb9f3a"
             ],
             [
              0.8888888888888888,
              "#fdca26"
             ],
             [
              1,
              "#f0f921"
             ]
            ],
            "type": "histogram2d"
           }
          ],
          "histogram2dcontour": [
           {
            "colorbar": {
             "outlinewidth": 0,
             "ticks": ""
            },
            "colorscale": [
             [
              0,
              "#0d0887"
             ],
             [
              0.1111111111111111,
              "#46039f"
             ],
             [
              0.2222222222222222,
              "#7201a8"
             ],
             [
              0.3333333333333333,
              "#9c179e"
             ],
             [
              0.4444444444444444,
              "#bd3786"
             ],
             [
              0.5555555555555556,
              "#d8576b"
             ],
             [
              0.6666666666666666,
              "#ed7953"
             ],
             [
              0.7777777777777778,
              "#fb9f3a"
             ],
             [
              0.8888888888888888,
              "#fdca26"
             ],
             [
              1,
              "#f0f921"
             ]
            ],
            "type": "histogram2dcontour"
           }
          ],
          "mesh3d": [
           {
            "colorbar": {
             "outlinewidth": 0,
             "ticks": ""
            },
            "type": "mesh3d"
           }
          ],
          "parcoords": [
           {
            "line": {
             "colorbar": {
              "outlinewidth": 0,
              "ticks": ""
             }
            },
            "type": "parcoords"
           }
          ],
          "pie": [
           {
            "automargin": true,
            "type": "pie"
           }
          ],
          "scatter": [
           {
            "fillpattern": {
             "fillmode": "overlay",
             "size": 10,
             "solidity": 0.2
            },
            "type": "scatter"
           }
          ],
          "scatter3d": [
           {
            "line": {
             "colorbar": {
              "outlinewidth": 0,
              "ticks": ""
             }
            },
            "marker": {
             "colorbar": {
              "outlinewidth": 0,
              "ticks": ""
             }
            },
            "type": "scatter3d"
           }
          ],
          "scattercarpet": [
           {
            "marker": {
             "colorbar": {
              "outlinewidth": 0,
              "ticks": ""
             }
            },
            "type": "scattercarpet"
           }
          ],
          "scattergeo": [
           {
            "marker": {
             "colorbar": {
              "outlinewidth": 0,
              "ticks": ""
             }
            },
            "type": "scattergeo"
           }
          ],
          "scattergl": [
           {
            "marker": {
             "colorbar": {
              "outlinewidth": 0,
              "ticks": ""
             }
            },
            "type": "scattergl"
           }
          ],
          "scattermap": [
           {
            "marker": {
             "colorbar": {
              "outlinewidth": 0,
              "ticks": ""
             }
            },
            "type": "scattermap"
           }
          ],
          "scattermapbox": [
           {
            "marker": {
             "colorbar": {
              "outlinewidth": 0,
              "ticks": ""
             }
            },
            "type": "scattermapbox"
           }
          ],
          "scatterpolar": [
           {
            "marker": {
             "colorbar": {
              "outlinewidth": 0,
              "ticks": ""
             }
            },
            "type": "scatterpolar"
           }
          ],
          "scatterpolargl": [
           {
            "marker": {
             "colorbar": {
              "outlinewidth": 0,
              "ticks": ""
             }
            },
            "type": "scatterpolargl"
           }
          ],
          "scatterternary": [
           {
            "marker": {
             "colorbar": {
              "outlinewidth": 0,
              "ticks": ""
             }
            },
            "type": "scatterternary"
           }
          ],
          "surface": [
           {
            "colorbar": {
             "outlinewidth": 0,
             "ticks": ""
            },
            "colorscale": [
             [
              0,
              "#0d0887"
             ],
             [
              0.1111111111111111,
              "#46039f"
             ],
             [
              0.2222222222222222,
              "#7201a8"
             ],
             [
              0.3333333333333333,
              "#9c179e"
             ],
             [
              0.4444444444444444,
              "#bd3786"
             ],
             [
              0.5555555555555556,
              "#d8576b"
             ],
             [
              0.6666666666666666,
              "#ed7953"
             ],
             [
              0.7777777777777778,
              "#fb9f3a"
             ],
             [
              0.8888888888888888,
              "#fdca26"
             ],
             [
              1,
              "#f0f921"
             ]
            ],
            "type": "surface"
           }
          ],
          "table": [
           {
            "cells": {
             "fill": {
              "color": "#EBF0F8"
             },
             "line": {
              "color": "white"
             }
            },
            "header": {
             "fill": {
              "color": "#C8D4E3"
             },
             "line": {
              "color": "white"
             }
            },
            "type": "table"
           }
          ]
         },
         "layout": {
          "annotationdefaults": {
           "arrowcolor": "#2a3f5f",
           "arrowhead": 0,
           "arrowwidth": 1
          },
          "autotypenumbers": "strict",
          "coloraxis": {
           "colorbar": {
            "outlinewidth": 0,
            "ticks": ""
           }
          },
          "colorscale": {
           "diverging": [
            [
             0,
             "#8e0152"
            ],
            [
             0.1,
             "#c51b7d"
            ],
            [
             0.2,
             "#de77ae"
            ],
            [
             0.3,
             "#f1b6da"
            ],
            [
             0.4,
             "#fde0ef"
            ],
            [
             0.5,
             "#f7f7f7"
            ],
            [
             0.6,
             "#e6f5d0"
            ],
            [
             0.7,
             "#b8e186"
            ],
            [
             0.8,
             "#7fbc41"
            ],
            [
             0.9,
             "#4d9221"
            ],
            [
             1,
             "#276419"
            ]
           ],
           "sequential": [
            [
             0,
             "#0d0887"
            ],
            [
             0.1111111111111111,
             "#46039f"
            ],
            [
             0.2222222222222222,
             "#7201a8"
            ],
            [
             0.3333333333333333,
             "#9c179e"
            ],
            [
             0.4444444444444444,
             "#bd3786"
            ],
            [
             0.5555555555555556,
             "#d8576b"
            ],
            [
             0.6666666666666666,
             "#ed7953"
            ],
            [
             0.7777777777777778,
             "#fb9f3a"
            ],
            [
             0.8888888888888888,
             "#fdca26"
            ],
            [
             1,
             "#f0f921"
            ]
           ],
           "sequentialminus": [
            [
             0,
             "#0d0887"
            ],
            [
             0.1111111111111111,
             "#46039f"
            ],
            [
             0.2222222222222222,
             "#7201a8"
            ],
            [
             0.3333333333333333,
             "#9c179e"
            ],
            [
             0.4444444444444444,
             "#bd3786"
            ],
            [
             0.5555555555555556,
             "#d8576b"
            ],
            [
             0.6666666666666666,
             "#ed7953"
            ],
            [
             0.7777777777777778,
             "#fb9f3a"
            ],
            [
             0.8888888888888888,
             "#fdca26"
            ],
            [
             1,
             "#f0f921"
            ]
           ]
          },
          "colorway": [
           "#636efa",
           "#EF553B",
           "#00cc96",
           "#ab63fa",
           "#FFA15A",
           "#19d3f3",
           "#FF6692",
           "#B6E880",
           "#FF97FF",
           "#FECB52"
          ],
          "font": {
           "color": "#2a3f5f"
          },
          "geo": {
           "bgcolor": "white",
           "lakecolor": "white",
           "landcolor": "white",
           "showlakes": true,
           "showland": true,
           "subunitcolor": "#C8D4E3"
          },
          "hoverlabel": {
           "align": "left"
          },
          "hovermode": "closest",
          "mapbox": {
           "style": "light"
          },
          "paper_bgcolor": "white",
          "plot_bgcolor": "white",
          "polar": {
           "angularaxis": {
            "gridcolor": "#EBF0F8",
            "linecolor": "#EBF0F8",
            "ticks": ""
           },
           "bgcolor": "white",
           "radialaxis": {
            "gridcolor": "#EBF0F8",
            "linecolor": "#EBF0F8",
            "ticks": ""
           }
          },
          "scene": {
           "xaxis": {
            "backgroundcolor": "white",
            "gridcolor": "#DFE8F3",
            "gridwidth": 2,
            "linecolor": "#EBF0F8",
            "showbackground": true,
            "ticks": "",
            "zerolinecolor": "#EBF0F8"
           },
           "yaxis": {
            "backgroundcolor": "white",
            "gridcolor": "#DFE8F3",
            "gridwidth": 2,
            "linecolor": "#EBF0F8",
            "showbackground": true,
            "ticks": "",
            "zerolinecolor": "#EBF0F8"
           },
           "zaxis": {
            "backgroundcolor": "white",
            "gridcolor": "#DFE8F3",
            "gridwidth": 2,
            "linecolor": "#EBF0F8",
            "showbackground": true,
            "ticks": "",
            "zerolinecolor": "#EBF0F8"
           }
          },
          "shapedefaults": {
           "line": {
            "color": "#2a3f5f"
           }
          },
          "ternary": {
           "aaxis": {
            "gridcolor": "#DFE8F3",
            "linecolor": "#A2B1C6",
            "ticks": ""
           },
           "baxis": {
            "gridcolor": "#DFE8F3",
            "linecolor": "#A2B1C6",
            "ticks": ""
           },
           "bgcolor": "white",
           "caxis": {
            "gridcolor": "#DFE8F3",
            "linecolor": "#A2B1C6",
            "ticks": ""
           }
          },
          "title": {
           "x": 0.05
          },
          "xaxis": {
           "automargin": true,
           "gridcolor": "#EBF0F8",
           "linecolor": "#EBF0F8",
           "ticks": "",
           "title": {
            "standoff": 15
           },
           "zerolinecolor": "#EBF0F8",
           "zerolinewidth": 2
          },
          "yaxis": {
           "automargin": true,
           "gridcolor": "#EBF0F8",
           "linecolor": "#EBF0F8",
           "ticks": "",
           "title": {
            "standoff": 15
           },
           "zerolinecolor": "#EBF0F8",
           "zerolinewidth": 2
          }
         }
        },
        "title": {
         "text": "Ablation of max_ct_depth"
        },
        "xaxis": {
         "title": {
          "text": "max_ct_depth"
         }
        },
        "yaxis": {
         "title": {
          "text": "Sid High Mean"
         }
        }
       }
      }
     },
     "metadata": {},
     "output_type": "display_data"
    }
   ],
   "source": [
    "plot_ablation(agg_df, 'max_ct_depth', metric='sid_high_mean', std_metric='sid_high_std',\n",
    "              fixed_params={'neighbourhood_n_nodes': 5, 'max_c_set_size': 3, 'search_depth': 10, 'n_nodes': 6, 'n_edges': 6})\n"
   ]
  },
  {
   "cell_type": "code",
   "execution_count": 63,
   "id": "89ce145b",
   "metadata": {},
   "outputs": [
    {
     "data": {
      "application/vnd.plotly.v1+json": {
       "config": {
        "plotlyServerURL": "https://plot.ly"
       },
       "data": [
        {
         "line": {
          "color": "blue"
         },
         "mode": "lines+markers",
         "name": "Mean",
         "type": "scatter",
         "x": {
          "bdata": "AwQF",
          "dtype": "i1"
         },
         "y": {
          "bdata": "H4XrUbgeCUCTXyz5xZIHQGkDnTbQaQdA",
          "dtype": "f8"
         }
        },
        {
         "fill": "toself",
         "fillcolor": "rgba(0,0,255,0.1)",
         "hoverinfo": "skip",
         "line": {
          "color": "rgba(255,255,255,0)"
         },
         "showlegend": false,
         "type": "scatter",
         "x": {
          "bdata": "AwQFBQQD",
          "dtype": "i1"
         },
         "y": {
          "bdata": "zu2HdQsCEEAiWfJ959gPQJIPyV4iqw9Af+7hHPxQ/j8JzMzoSJn+P6Iux7hZOQJA",
          "dtype": "f8"
         }
        }
       ],
       "layout": {
        "template": {
         "data": {
          "bar": [
           {
            "error_x": {
             "color": "#2a3f5f"
            },
            "error_y": {
             "color": "#2a3f5f"
            },
            "marker": {
             "line": {
              "color": "white",
              "width": 0.5
             },
             "pattern": {
              "fillmode": "overlay",
              "size": 10,
              "solidity": 0.2
             }
            },
            "type": "bar"
           }
          ],
          "barpolar": [
           {
            "marker": {
             "line": {
              "color": "white",
              "width": 0.5
             },
             "pattern": {
              "fillmode": "overlay",
              "size": 10,
              "solidity": 0.2
             }
            },
            "type": "barpolar"
           }
          ],
          "carpet": [
           {
            "aaxis": {
             "endlinecolor": "#2a3f5f",
             "gridcolor": "#C8D4E3",
             "linecolor": "#C8D4E3",
             "minorgridcolor": "#C8D4E3",
             "startlinecolor": "#2a3f5f"
            },
            "baxis": {
             "endlinecolor": "#2a3f5f",
             "gridcolor": "#C8D4E3",
             "linecolor": "#C8D4E3",
             "minorgridcolor": "#C8D4E3",
             "startlinecolor": "#2a3f5f"
            },
            "type": "carpet"
           }
          ],
          "choropleth": [
           {
            "colorbar": {
             "outlinewidth": 0,
             "ticks": ""
            },
            "type": "choropleth"
           }
          ],
          "contour": [
           {
            "colorbar": {
             "outlinewidth": 0,
             "ticks": ""
            },
            "colorscale": [
             [
              0,
              "#0d0887"
             ],
             [
              0.1111111111111111,
              "#46039f"
             ],
             [
              0.2222222222222222,
              "#7201a8"
             ],
             [
              0.3333333333333333,
              "#9c179e"
             ],
             [
              0.4444444444444444,
              "#bd3786"
             ],
             [
              0.5555555555555556,
              "#d8576b"
             ],
             [
              0.6666666666666666,
              "#ed7953"
             ],
             [
              0.7777777777777778,
              "#fb9f3a"
             ],
             [
              0.8888888888888888,
              "#fdca26"
             ],
             [
              1,
              "#f0f921"
             ]
            ],
            "type": "contour"
           }
          ],
          "contourcarpet": [
           {
            "colorbar": {
             "outlinewidth": 0,
             "ticks": ""
            },
            "type": "contourcarpet"
           }
          ],
          "heatmap": [
           {
            "colorbar": {
             "outlinewidth": 0,
             "ticks": ""
            },
            "colorscale": [
             [
              0,
              "#0d0887"
             ],
             [
              0.1111111111111111,
              "#46039f"
             ],
             [
              0.2222222222222222,
              "#7201a8"
             ],
             [
              0.3333333333333333,
              "#9c179e"
             ],
             [
              0.4444444444444444,
              "#bd3786"
             ],
             [
              0.5555555555555556,
              "#d8576b"
             ],
             [
              0.6666666666666666,
              "#ed7953"
             ],
             [
              0.7777777777777778,
              "#fb9f3a"
             ],
             [
              0.8888888888888888,
              "#fdca26"
             ],
             [
              1,
              "#f0f921"
             ]
            ],
            "type": "heatmap"
           }
          ],
          "histogram": [
           {
            "marker": {
             "pattern": {
              "fillmode": "overlay",
              "size": 10,
              "solidity": 0.2
             }
            },
            "type": "histogram"
           }
          ],
          "histogram2d": [
           {
            "colorbar": {
             "outlinewidth": 0,
             "ticks": ""
            },
            "colorscale": [
             [
              0,
              "#0d0887"
             ],
             [
              0.1111111111111111,
              "#46039f"
             ],
             [
              0.2222222222222222,
              "#7201a8"
             ],
             [
              0.3333333333333333,
              "#9c179e"
             ],
             [
              0.4444444444444444,
              "#bd3786"
             ],
             [
              0.5555555555555556,
              "#d8576b"
             ],
             [
              0.6666666666666666,
              "#ed7953"
             ],
             [
              0.7777777777777778,
              "#fb9f3a"
             ],
             [
              0.8888888888888888,
              "#fdca26"
             ],
             [
              1,
              "#f0f921"
             ]
            ],
            "type": "histogram2d"
           }
          ],
          "histogram2dcontour": [
           {
            "colorbar": {
             "outlinewidth": 0,
             "ticks": ""
            },
            "colorscale": [
             [
              0,
              "#0d0887"
             ],
             [
              0.1111111111111111,
              "#46039f"
             ],
             [
              0.2222222222222222,
              "#7201a8"
             ],
             [
              0.3333333333333333,
              "#9c179e"
             ],
             [
              0.4444444444444444,
              "#bd3786"
             ],
             [
              0.5555555555555556,
              "#d8576b"
             ],
             [
              0.6666666666666666,
              "#ed7953"
             ],
             [
              0.7777777777777778,
              "#fb9f3a"
             ],
             [
              0.8888888888888888,
              "#fdca26"
             ],
             [
              1,
              "#f0f921"
             ]
            ],
            "type": "histogram2dcontour"
           }
          ],
          "mesh3d": [
           {
            "colorbar": {
             "outlinewidth": 0,
             "ticks": ""
            },
            "type": "mesh3d"
           }
          ],
          "parcoords": [
           {
            "line": {
             "colorbar": {
              "outlinewidth": 0,
              "ticks": ""
             }
            },
            "type": "parcoords"
           }
          ],
          "pie": [
           {
            "automargin": true,
            "type": "pie"
           }
          ],
          "scatter": [
           {
            "fillpattern": {
             "fillmode": "overlay",
             "size": 10,
             "solidity": 0.2
            },
            "type": "scatter"
           }
          ],
          "scatter3d": [
           {
            "line": {
             "colorbar": {
              "outlinewidth": 0,
              "ticks": ""
             }
            },
            "marker": {
             "colorbar": {
              "outlinewidth": 0,
              "ticks": ""
             }
            },
            "type": "scatter3d"
           }
          ],
          "scattercarpet": [
           {
            "marker": {
             "colorbar": {
              "outlinewidth": 0,
              "ticks": ""
             }
            },
            "type": "scattercarpet"
           }
          ],
          "scattergeo": [
           {
            "marker": {
             "colorbar": {
              "outlinewidth": 0,
              "ticks": ""
             }
            },
            "type": "scattergeo"
           }
          ],
          "scattergl": [
           {
            "marker": {
             "colorbar": {
              "outlinewidth": 0,
              "ticks": ""
             }
            },
            "type": "scattergl"
           }
          ],
          "scattermap": [
           {
            "marker": {
             "colorbar": {
              "outlinewidth": 0,
              "ticks": ""
             }
            },
            "type": "scattermap"
           }
          ],
          "scattermapbox": [
           {
            "marker": {
             "colorbar": {
              "outlinewidth": 0,
              "ticks": ""
             }
            },
            "type": "scattermapbox"
           }
          ],
          "scatterpolar": [
           {
            "marker": {
             "colorbar": {
              "outlinewidth": 0,
              "ticks": ""
             }
            },
            "type": "scatterpolar"
           }
          ],
          "scatterpolargl": [
           {
            "marker": {
             "colorbar": {
              "outlinewidth": 0,
              "ticks": ""
             }
            },
            "type": "scatterpolargl"
           }
          ],
          "scatterternary": [
           {
            "marker": {
             "colorbar": {
              "outlinewidth": 0,
              "ticks": ""
             }
            },
            "type": "scatterternary"
           }
          ],
          "surface": [
           {
            "colorbar": {
             "outlinewidth": 0,
             "ticks": ""
            },
            "colorscale": [
             [
              0,
              "#0d0887"
             ],
             [
              0.1111111111111111,
              "#46039f"
             ],
             [
              0.2222222222222222,
              "#7201a8"
             ],
             [
              0.3333333333333333,
              "#9c179e"
             ],
             [
              0.4444444444444444,
              "#bd3786"
             ],
             [
              0.5555555555555556,
              "#d8576b"
             ],
             [
              0.6666666666666666,
              "#ed7953"
             ],
             [
              0.7777777777777778,
              "#fb9f3a"
             ],
             [
              0.8888888888888888,
              "#fdca26"
             ],
             [
              1,
              "#f0f921"
             ]
            ],
            "type": "surface"
           }
          ],
          "table": [
           {
            "cells": {
             "fill": {
              "color": "#EBF0F8"
             },
             "line": {
              "color": "white"
             }
            },
            "header": {
             "fill": {
              "color": "#C8D4E3"
             },
             "line": {
              "color": "white"
             }
            },
            "type": "table"
           }
          ]
         },
         "layout": {
          "annotationdefaults": {
           "arrowcolor": "#2a3f5f",
           "arrowhead": 0,
           "arrowwidth": 1
          },
          "autotypenumbers": "strict",
          "coloraxis": {
           "colorbar": {
            "outlinewidth": 0,
            "ticks": ""
           }
          },
          "colorscale": {
           "diverging": [
            [
             0,
             "#8e0152"
            ],
            [
             0.1,
             "#c51b7d"
            ],
            [
             0.2,
             "#de77ae"
            ],
            [
             0.3,
             "#f1b6da"
            ],
            [
             0.4,
             "#fde0ef"
            ],
            [
             0.5,
             "#f7f7f7"
            ],
            [
             0.6,
             "#e6f5d0"
            ],
            [
             0.7,
             "#b8e186"
            ],
            [
             0.8,
             "#7fbc41"
            ],
            [
             0.9,
             "#4d9221"
            ],
            [
             1,
             "#276419"
            ]
           ],
           "sequential": [
            [
             0,
             "#0d0887"
            ],
            [
             0.1111111111111111,
             "#46039f"
            ],
            [
             0.2222222222222222,
             "#7201a8"
            ],
            [
             0.3333333333333333,
             "#9c179e"
            ],
            [
             0.4444444444444444,
             "#bd3786"
            ],
            [
             0.5555555555555556,
             "#d8576b"
            ],
            [
             0.6666666666666666,
             "#ed7953"
            ],
            [
             0.7777777777777778,
             "#fb9f3a"
            ],
            [
             0.8888888888888888,
             "#fdca26"
            ],
            [
             1,
             "#f0f921"
            ]
           ],
           "sequentialminus": [
            [
             0,
             "#0d0887"
            ],
            [
             0.1111111111111111,
             "#46039f"
            ],
            [
             0.2222222222222222,
             "#7201a8"
            ],
            [
             0.3333333333333333,
             "#9c179e"
            ],
            [
             0.4444444444444444,
             "#bd3786"
            ],
            [
             0.5555555555555556,
             "#d8576b"
            ],
            [
             0.6666666666666666,
             "#ed7953"
            ],
            [
             0.7777777777777778,
             "#fb9f3a"
            ],
            [
             0.8888888888888888,
             "#fdca26"
            ],
            [
             1,
             "#f0f921"
            ]
           ]
          },
          "colorway": [
           "#636efa",
           "#EF553B",
           "#00cc96",
           "#ab63fa",
           "#FFA15A",
           "#19d3f3",
           "#FF6692",
           "#B6E880",
           "#FF97FF",
           "#FECB52"
          ],
          "font": {
           "color": "#2a3f5f"
          },
          "geo": {
           "bgcolor": "white",
           "lakecolor": "white",
           "landcolor": "white",
           "showlakes": true,
           "showland": true,
           "subunitcolor": "#C8D4E3"
          },
          "hoverlabel": {
           "align": "left"
          },
          "hovermode": "closest",
          "mapbox": {
           "style": "light"
          },
          "paper_bgcolor": "white",
          "plot_bgcolor": "white",
          "polar": {
           "angularaxis": {
            "gridcolor": "#EBF0F8",
            "linecolor": "#EBF0F8",
            "ticks": ""
           },
           "bgcolor": "white",
           "radialaxis": {
            "gridcolor": "#EBF0F8",
            "linecolor": "#EBF0F8",
            "ticks": ""
           }
          },
          "scene": {
           "xaxis": {
            "backgroundcolor": "white",
            "gridcolor": "#DFE8F3",
            "gridwidth": 2,
            "linecolor": "#EBF0F8",
            "showbackground": true,
            "ticks": "",
            "zerolinecolor": "#EBF0F8"
           },
           "yaxis": {
            "backgroundcolor": "white",
            "gridcolor": "#DFE8F3",
            "gridwidth": 2,
            "linecolor": "#EBF0F8",
            "showbackground": true,
            "ticks": "",
            "zerolinecolor": "#EBF0F8"
           },
           "zaxis": {
            "backgroundcolor": "white",
            "gridcolor": "#DFE8F3",
            "gridwidth": 2,
            "linecolor": "#EBF0F8",
            "showbackground": true,
            "ticks": "",
            "zerolinecolor": "#EBF0F8"
           }
          },
          "shapedefaults": {
           "line": {
            "color": "#2a3f5f"
           }
          },
          "ternary": {
           "aaxis": {
            "gridcolor": "#DFE8F3",
            "linecolor": "#A2B1C6",
            "ticks": ""
           },
           "baxis": {
            "gridcolor": "#DFE8F3",
            "linecolor": "#A2B1C6",
            "ticks": ""
           },
           "bgcolor": "white",
           "caxis": {
            "gridcolor": "#DFE8F3",
            "linecolor": "#A2B1C6",
            "ticks": ""
           }
          },
          "title": {
           "x": 0.05
          },
          "xaxis": {
           "automargin": true,
           "gridcolor": "#EBF0F8",
           "linecolor": "#EBF0F8",
           "ticks": "",
           "title": {
            "standoff": 15
           },
           "zerolinecolor": "#EBF0F8",
           "zerolinewidth": 2
          },
          "yaxis": {
           "automargin": true,
           "gridcolor": "#EBF0F8",
           "linecolor": "#EBF0F8",
           "ticks": "",
           "title": {
            "standoff": 15
           },
           "zerolinecolor": "#EBF0F8",
           "zerolinewidth": 2
          }
         }
        },
        "title": {
         "text": "Ablation of neighbourhood_n_nodes"
        },
        "xaxis": {
         "title": {
          "text": "neighbourhood_n_nodes"
         }
        },
        "yaxis": {
         "title": {
          "text": "Sid High Mean"
         }
        }
       }
      }
     },
     "metadata": {},
     "output_type": "display_data"
    }
   ],
   "source": [
    "plot_ablation(agg_df, 'neighbourhood_n_nodes', metric='sid_high_mean', std_metric='sid_high_std',\n",
    "              fixed_params={'max_ct_depth': True, 'max_c_set_size': 3, 'search_depth': 10, 'n_nodes': 6, 'n_edges': 6})"
   ]
  },
  {
   "cell_type": "code",
   "execution_count": 64,
   "id": "c76b84c9",
   "metadata": {},
   "outputs": [
    {
     "data": {
      "application/vnd.plotly.v1+json": {
       "config": {
        "plotlyServerURL": "https://plot.ly"
       },
       "data": [
        {
         "line": {
          "color": "blue"
         },
         "mode": "lines+markers",
         "name": "Mean",
         "type": "scatter",
         "x": {
          "bdata": "BggK",
          "dtype": "i1"
         },
         "y": {
          "bdata": "exSuR+F6BkBwPQrXo3AHQGkDnTbQaQdA",
          "dtype": "f8"
         }
        },
        {
         "fill": "toself",
         "fillcolor": "rgba(0,0,255,0.1)",
         "hoverinfo": "skip",
         "line": {
          "color": "rgba(255,255,255,0)"
         },
         "showlegend": false,
         "type": "scatter",
         "x": {
          "bdata": "BggKCggG",
          "dtype": "i1"
         },
         "y": {
          "bdata": "GZJLIoV6DUCIj4R0nU0PQJIPyV4iqw9Af+7hHPxQ/j+w1h9zVCf/P7otIdp69v4/",
          "dtype": "f8"
         }
        }
       ],
       "layout": {
        "template": {
         "data": {
          "bar": [
           {
            "error_x": {
             "color": "#2a3f5f"
            },
            "error_y": {
             "color": "#2a3f5f"
            },
            "marker": {
             "line": {
              "color": "white",
              "width": 0.5
             },
             "pattern": {
              "fillmode": "overlay",
              "size": 10,
              "solidity": 0.2
             }
            },
            "type": "bar"
           }
          ],
          "barpolar": [
           {
            "marker": {
             "line": {
              "color": "white",
              "width": 0.5
             },
             "pattern": {
              "fillmode": "overlay",
              "size": 10,
              "solidity": 0.2
             }
            },
            "type": "barpolar"
           }
          ],
          "carpet": [
           {
            "aaxis": {
             "endlinecolor": "#2a3f5f",
             "gridcolor": "#C8D4E3",
             "linecolor": "#C8D4E3",
             "minorgridcolor": "#C8D4E3",
             "startlinecolor": "#2a3f5f"
            },
            "baxis": {
             "endlinecolor": "#2a3f5f",
             "gridcolor": "#C8D4E3",
             "linecolor": "#C8D4E3",
             "minorgridcolor": "#C8D4E3",
             "startlinecolor": "#2a3f5f"
            },
            "type": "carpet"
           }
          ],
          "choropleth": [
           {
            "colorbar": {
             "outlinewidth": 0,
             "ticks": ""
            },
            "type": "choropleth"
           }
          ],
          "contour": [
           {
            "colorbar": {
             "outlinewidth": 0,
             "ticks": ""
            },
            "colorscale": [
             [
              0,
              "#0d0887"
             ],
             [
              0.1111111111111111,
              "#46039f"
             ],
             [
              0.2222222222222222,
              "#7201a8"
             ],
             [
              0.3333333333333333,
              "#9c179e"
             ],
             [
              0.4444444444444444,
              "#bd3786"
             ],
             [
              0.5555555555555556,
              "#d8576b"
             ],
             [
              0.6666666666666666,
              "#ed7953"
             ],
             [
              0.7777777777777778,
              "#fb9f3a"
             ],
             [
              0.8888888888888888,
              "#fdca26"
             ],
             [
              1,
              "#f0f921"
             ]
            ],
            "type": "contour"
           }
          ],
          "contourcarpet": [
           {
            "colorbar": {
             "outlinewidth": 0,
             "ticks": ""
            },
            "type": "contourcarpet"
           }
          ],
          "heatmap": [
           {
            "colorbar": {
             "outlinewidth": 0,
             "ticks": ""
            },
            "colorscale": [
             [
              0,
              "#0d0887"
             ],
             [
              0.1111111111111111,
              "#46039f"
             ],
             [
              0.2222222222222222,
              "#7201a8"
             ],
             [
              0.3333333333333333,
              "#9c179e"
             ],
             [
              0.4444444444444444,
              "#bd3786"
             ],
             [
              0.5555555555555556,
              "#d8576b"
             ],
             [
              0.6666666666666666,
              "#ed7953"
             ],
             [
              0.7777777777777778,
              "#fb9f3a"
             ],
             [
              0.8888888888888888,
              "#fdca26"
             ],
             [
              1,
              "#f0f921"
             ]
            ],
            "type": "heatmap"
           }
          ],
          "histogram": [
           {
            "marker": {
             "pattern": {
              "fillmode": "overlay",
              "size": 10,
              "solidity": 0.2
             }
            },
            "type": "histogram"
           }
          ],
          "histogram2d": [
           {
            "colorbar": {
             "outlinewidth": 0,
             "ticks": ""
            },
            "colorscale": [
             [
              0,
              "#0d0887"
             ],
             [
              0.1111111111111111,
              "#46039f"
             ],
             [
              0.2222222222222222,
              "#7201a8"
             ],
             [
              0.3333333333333333,
              "#9c179e"
             ],
             [
              0.4444444444444444,
              "#bd3786"
             ],
             [
              0.5555555555555556,
              "#d8576b"
             ],
             [
              0.6666666666666666,
              "#ed7953"
             ],
             [
              0.7777777777777778,
              "#fb9f3a"
             ],
             [
              0.8888888888888888,
              "#fdca26"
             ],
             [
              1,
              "#f0f921"
             ]
            ],
            "type": "histogram2d"
           }
          ],
          "histogram2dcontour": [
           {
            "colorbar": {
             "outlinewidth": 0,
             "ticks": ""
            },
            "colorscale": [
             [
              0,
              "#0d0887"
             ],
             [
              0.1111111111111111,
              "#46039f"
             ],
             [
              0.2222222222222222,
              "#7201a8"
             ],
             [
              0.3333333333333333,
              "#9c179e"
             ],
             [
              0.4444444444444444,
              "#bd3786"
             ],
             [
              0.5555555555555556,
              "#d8576b"
             ],
             [
              0.6666666666666666,
              "#ed7953"
             ],
             [
              0.7777777777777778,
              "#fb9f3a"
             ],
             [
              0.8888888888888888,
              "#fdca26"
             ],
             [
              1,
              "#f0f921"
             ]
            ],
            "type": "histogram2dcontour"
           }
          ],
          "mesh3d": [
           {
            "colorbar": {
             "outlinewidth": 0,
             "ticks": ""
            },
            "type": "mesh3d"
           }
          ],
          "parcoords": [
           {
            "line": {
             "colorbar": {
              "outlinewidth": 0,
              "ticks": ""
             }
            },
            "type": "parcoords"
           }
          ],
          "pie": [
           {
            "automargin": true,
            "type": "pie"
           }
          ],
          "scatter": [
           {
            "fillpattern": {
             "fillmode": "overlay",
             "size": 10,
             "solidity": 0.2
            },
            "type": "scatter"
           }
          ],
          "scatter3d": [
           {
            "line": {
             "colorbar": {
              "outlinewidth": 0,
              "ticks": ""
             }
            },
            "marker": {
             "colorbar": {
              "outlinewidth": 0,
              "ticks": ""
             }
            },
            "type": "scatter3d"
           }
          ],
          "scattercarpet": [
           {
            "marker": {
             "colorbar": {
              "outlinewidth": 0,
              "ticks": ""
             }
            },
            "type": "scattercarpet"
           }
          ],
          "scattergeo": [
           {
            "marker": {
             "colorbar": {
              "outlinewidth": 0,
              "ticks": ""
             }
            },
            "type": "scattergeo"
           }
          ],
          "scattergl": [
           {
            "marker": {
             "colorbar": {
              "outlinewidth": 0,
              "ticks": ""
             }
            },
            "type": "scattergl"
           }
          ],
          "scattermap": [
           {
            "marker": {
             "colorbar": {
              "outlinewidth": 0,
              "ticks": ""
             }
            },
            "type": "scattermap"
           }
          ],
          "scattermapbox": [
           {
            "marker": {
             "colorbar": {
              "outlinewidth": 0,
              "ticks": ""
             }
            },
            "type": "scattermapbox"
           }
          ],
          "scatterpolar": [
           {
            "marker": {
             "colorbar": {
              "outlinewidth": 0,
              "ticks": ""
             }
            },
            "type": "scatterpolar"
           }
          ],
          "scatterpolargl": [
           {
            "marker": {
             "colorbar": {
              "outlinewidth": 0,
              "ticks": ""
             }
            },
            "type": "scatterpolargl"
           }
          ],
          "scatterternary": [
           {
            "marker": {
             "colorbar": {
              "outlinewidth": 0,
              "ticks": ""
             }
            },
            "type": "scatterternary"
           }
          ],
          "surface": [
           {
            "colorbar": {
             "outlinewidth": 0,
             "ticks": ""
            },
            "colorscale": [
             [
              0,
              "#0d0887"
             ],
             [
              0.1111111111111111,
              "#46039f"
             ],
             [
              0.2222222222222222,
              "#7201a8"
             ],
             [
              0.3333333333333333,
              "#9c179e"
             ],
             [
              0.4444444444444444,
              "#bd3786"
             ],
             [
              0.5555555555555556,
              "#d8576b"
             ],
             [
              0.6666666666666666,
              "#ed7953"
             ],
             [
              0.7777777777777778,
              "#fb9f3a"
             ],
             [
              0.8888888888888888,
              "#fdca26"
             ],
             [
              1,
              "#f0f921"
             ]
            ],
            "type": "surface"
           }
          ],
          "table": [
           {
            "cells": {
             "fill": {
              "color": "#EBF0F8"
             },
             "line": {
              "color": "white"
             }
            },
            "header": {
             "fill": {
              "color": "#C8D4E3"
             },
             "line": {
              "color": "white"
             }
            },
            "type": "table"
           }
          ]
         },
         "layout": {
          "annotationdefaults": {
           "arrowcolor": "#2a3f5f",
           "arrowhead": 0,
           "arrowwidth": 1
          },
          "autotypenumbers": "strict",
          "coloraxis": {
           "colorbar": {
            "outlinewidth": 0,
            "ticks": ""
           }
          },
          "colorscale": {
           "diverging": [
            [
             0,
             "#8e0152"
            ],
            [
             0.1,
             "#c51b7d"
            ],
            [
             0.2,
             "#de77ae"
            ],
            [
             0.3,
             "#f1b6da"
            ],
            [
             0.4,
             "#fde0ef"
            ],
            [
             0.5,
             "#f7f7f7"
            ],
            [
             0.6,
             "#e6f5d0"
            ],
            [
             0.7,
             "#b8e186"
            ],
            [
             0.8,
             "#7fbc41"
            ],
            [
             0.9,
             "#4d9221"
            ],
            [
             1,
             "#276419"
            ]
           ],
           "sequential": [
            [
             0,
             "#0d0887"
            ],
            [
             0.1111111111111111,
             "#46039f"
            ],
            [
             0.2222222222222222,
             "#7201a8"
            ],
            [
             0.3333333333333333,
             "#9c179e"
            ],
            [
             0.4444444444444444,
             "#bd3786"
            ],
            [
             0.5555555555555556,
             "#d8576b"
            ],
            [
             0.6666666666666666,
             "#ed7953"
            ],
            [
             0.7777777777777778,
             "#fb9f3a"
            ],
            [
             0.8888888888888888,
             "#fdca26"
            ],
            [
             1,
             "#f0f921"
            ]
           ],
           "sequentialminus": [
            [
             0,
             "#0d0887"
            ],
            [
             0.1111111111111111,
             "#46039f"
            ],
            [
             0.2222222222222222,
             "#7201a8"
            ],
            [
             0.3333333333333333,
             "#9c179e"
            ],
            [
             0.4444444444444444,
             "#bd3786"
            ],
            [
             0.5555555555555556,
             "#d8576b"
            ],
            [
             0.6666666666666666,
             "#ed7953"
            ],
            [
             0.7777777777777778,
             "#fb9f3a"
            ],
            [
             0.8888888888888888,
             "#fdca26"
            ],
            [
             1,
             "#f0f921"
            ]
           ]
          },
          "colorway": [
           "#636efa",
           "#EF553B",
           "#00cc96",
           "#ab63fa",
           "#FFA15A",
           "#19d3f3",
           "#FF6692",
           "#B6E880",
           "#FF97FF",
           "#FECB52"
          ],
          "font": {
           "color": "#2a3f5f"
          },
          "geo": {
           "bgcolor": "white",
           "lakecolor": "white",
           "landcolor": "white",
           "showlakes": true,
           "showland": true,
           "subunitcolor": "#C8D4E3"
          },
          "hoverlabel": {
           "align": "left"
          },
          "hovermode": "closest",
          "mapbox": {
           "style": "light"
          },
          "paper_bgcolor": "white",
          "plot_bgcolor": "white",
          "polar": {
           "angularaxis": {
            "gridcolor": "#EBF0F8",
            "linecolor": "#EBF0F8",
            "ticks": ""
           },
           "bgcolor": "white",
           "radialaxis": {
            "gridcolor": "#EBF0F8",
            "linecolor": "#EBF0F8",
            "ticks": ""
           }
          },
          "scene": {
           "xaxis": {
            "backgroundcolor": "white",
            "gridcolor": "#DFE8F3",
            "gridwidth": 2,
            "linecolor": "#EBF0F8",
            "showbackground": true,
            "ticks": "",
            "zerolinecolor": "#EBF0F8"
           },
           "yaxis": {
            "backgroundcolor": "white",
            "gridcolor": "#DFE8F3",
            "gridwidth": 2,
            "linecolor": "#EBF0F8",
            "showbackground": true,
            "ticks": "",
            "zerolinecolor": "#EBF0F8"
           },
           "zaxis": {
            "backgroundcolor": "white",
            "gridcolor": "#DFE8F3",
            "gridwidth": 2,
            "linecolor": "#EBF0F8",
            "showbackground": true,
            "ticks": "",
            "zerolinecolor": "#EBF0F8"
           }
          },
          "shapedefaults": {
           "line": {
            "color": "#2a3f5f"
           }
          },
          "ternary": {
           "aaxis": {
            "gridcolor": "#DFE8F3",
            "linecolor": "#A2B1C6",
            "ticks": ""
           },
           "baxis": {
            "gridcolor": "#DFE8F3",
            "linecolor": "#A2B1C6",
            "ticks": ""
           },
           "bgcolor": "white",
           "caxis": {
            "gridcolor": "#DFE8F3",
            "linecolor": "#A2B1C6",
            "ticks": ""
           }
          },
          "title": {
           "x": 0.05
          },
          "xaxis": {
           "automargin": true,
           "gridcolor": "#EBF0F8",
           "linecolor": "#EBF0F8",
           "ticks": "",
           "title": {
            "standoff": 15
           },
           "zerolinecolor": "#EBF0F8",
           "zerolinewidth": 2
          },
          "yaxis": {
           "automargin": true,
           "gridcolor": "#EBF0F8",
           "linecolor": "#EBF0F8",
           "ticks": "",
           "title": {
            "standoff": 15
           },
           "zerolinecolor": "#EBF0F8",
           "zerolinewidth": 2
          }
         }
        },
        "title": {
         "text": "Ablation of search_depth"
        },
        "xaxis": {
         "title": {
          "text": "search_depth"
         }
        },
        "yaxis": {
         "title": {
          "text": "Sid High Mean"
         }
        }
       }
      }
     },
     "metadata": {},
     "output_type": "display_data"
    }
   ],
   "source": [
    "plot_ablation(agg_df, 'search_depth', metric='sid_high_mean', std_metric='sid_high_std',\n",
    "              fixed_params={'max_ct_depth': True, 'max_c_set_size': 3, 'neighbourhood_n_nodes': 5, 'n_nodes': 6, 'n_edges': 6})"
   ]
  },
  {
   "cell_type": "code",
   "execution_count": 65,
   "id": "c5a4b526",
   "metadata": {},
   "outputs": [
    {
     "data": {
      "application/vnd.plotly.v1+json": {
       "config": {
        "plotlyServerURL": "https://plot.ly"
       },
       "data": [
        {
         "line": {
          "color": "blue"
         },
         "mode": "lines+markers",
         "name": "Mean",
         "type": "scatter",
         "x": [
          false,
          true
         ],
         "y": {
          "bdata": "WfKLJb9YAEDNzMzMzMwAQA==",
          "dtype": "f8"
         }
        },
        {
         "fill": "toself",
         "fillcolor": "rgba(0,0,255,0.1)",
         "hoverinfo": "skip",
         "line": {
          "color": "rgba(255,255,255,0)"
         },
         "showlegend": false,
         "type": "scatter",
         "x": [
          false,
          true,
          true,
          false
         ],
         "y": {
          "bdata": "WQ2FDP+rBEAQAHhmcaEHQBQzQ2ZQ8PM/sq4lff4K+D8=",
          "dtype": "f8"
         }
        }
       ],
       "layout": {
        "template": {
         "data": {
          "bar": [
           {
            "error_x": {
             "color": "#2a3f5f"
            },
            "error_y": {
             "color": "#2a3f5f"
            },
            "marker": {
             "line": {
              "color": "white",
              "width": 0.5
             },
             "pattern": {
              "fillmode": "overlay",
              "size": 10,
              "solidity": 0.2
             }
            },
            "type": "bar"
           }
          ],
          "barpolar": [
           {
            "marker": {
             "line": {
              "color": "white",
              "width": 0.5
             },
             "pattern": {
              "fillmode": "overlay",
              "size": 10,
              "solidity": 0.2
             }
            },
            "type": "barpolar"
           }
          ],
          "carpet": [
           {
            "aaxis": {
             "endlinecolor": "#2a3f5f",
             "gridcolor": "#C8D4E3",
             "linecolor": "#C8D4E3",
             "minorgridcolor": "#C8D4E3",
             "startlinecolor": "#2a3f5f"
            },
            "baxis": {
             "endlinecolor": "#2a3f5f",
             "gridcolor": "#C8D4E3",
             "linecolor": "#C8D4E3",
             "minorgridcolor": "#C8D4E3",
             "startlinecolor": "#2a3f5f"
            },
            "type": "carpet"
           }
          ],
          "choropleth": [
           {
            "colorbar": {
             "outlinewidth": 0,
             "ticks": ""
            },
            "type": "choropleth"
           }
          ],
          "contour": [
           {
            "colorbar": {
             "outlinewidth": 0,
             "ticks": ""
            },
            "colorscale": [
             [
              0,
              "#0d0887"
             ],
             [
              0.1111111111111111,
              "#46039f"
             ],
             [
              0.2222222222222222,
              "#7201a8"
             ],
             [
              0.3333333333333333,
              "#9c179e"
             ],
             [
              0.4444444444444444,
              "#bd3786"
             ],
             [
              0.5555555555555556,
              "#d8576b"
             ],
             [
              0.6666666666666666,
              "#ed7953"
             ],
             [
              0.7777777777777778,
              "#fb9f3a"
             ],
             [
              0.8888888888888888,
              "#fdca26"
             ],
             [
              1,
              "#f0f921"
             ]
            ],
            "type": "contour"
           }
          ],
          "contourcarpet": [
           {
            "colorbar": {
             "outlinewidth": 0,
             "ticks": ""
            },
            "type": "contourcarpet"
           }
          ],
          "heatmap": [
           {
            "colorbar": {
             "outlinewidth": 0,
             "ticks": ""
            },
            "colorscale": [
             [
              0,
              "#0d0887"
             ],
             [
              0.1111111111111111,
              "#46039f"
             ],
             [
              0.2222222222222222,
              "#7201a8"
             ],
             [
              0.3333333333333333,
              "#9c179e"
             ],
             [
              0.4444444444444444,
              "#bd3786"
             ],
             [
              0.5555555555555556,
              "#d8576b"
             ],
             [
              0.6666666666666666,
              "#ed7953"
             ],
             [
              0.7777777777777778,
              "#fb9f3a"
             ],
             [
              0.8888888888888888,
              "#fdca26"
             ],
             [
              1,
              "#f0f921"
             ]
            ],
            "type": "heatmap"
           }
          ],
          "histogram": [
           {
            "marker": {
             "pattern": {
              "fillmode": "overlay",
              "size": 10,
              "solidity": 0.2
             }
            },
            "type": "histogram"
           }
          ],
          "histogram2d": [
           {
            "colorbar": {
             "outlinewidth": 0,
             "ticks": ""
            },
            "colorscale": [
             [
              0,
              "#0d0887"
             ],
             [
              0.1111111111111111,
              "#46039f"
             ],
             [
              0.2222222222222222,
              "#7201a8"
             ],
             [
              0.3333333333333333,
              "#9c179e"
             ],
             [
              0.4444444444444444,
              "#bd3786"
             ],
             [
              0.5555555555555556,
              "#d8576b"
             ],
             [
              0.6666666666666666,
              "#ed7953"
             ],
             [
              0.7777777777777778,
              "#fb9f3a"
             ],
             [
              0.8888888888888888,
              "#fdca26"
             ],
             [
              1,
              "#f0f921"
             ]
            ],
            "type": "histogram2d"
           }
          ],
          "histogram2dcontour": [
           {
            "colorbar": {
             "outlinewidth": 0,
             "ticks": ""
            },
            "colorscale": [
             [
              0,
              "#0d0887"
             ],
             [
              0.1111111111111111,
              "#46039f"
             ],
             [
              0.2222222222222222,
              "#7201a8"
             ],
             [
              0.3333333333333333,
              "#9c179e"
             ],
             [
              0.4444444444444444,
              "#bd3786"
             ],
             [
              0.5555555555555556,
              "#d8576b"
             ],
             [
              0.6666666666666666,
              "#ed7953"
             ],
             [
              0.7777777777777778,
              "#fb9f3a"
             ],
             [
              0.8888888888888888,
              "#fdca26"
             ],
             [
              1,
              "#f0f921"
             ]
            ],
            "type": "histogram2dcontour"
           }
          ],
          "mesh3d": [
           {
            "colorbar": {
             "outlinewidth": 0,
             "ticks": ""
            },
            "type": "mesh3d"
           }
          ],
          "parcoords": [
           {
            "line": {
             "colorbar": {
              "outlinewidth": 0,
              "ticks": ""
             }
            },
            "type": "parcoords"
           }
          ],
          "pie": [
           {
            "automargin": true,
            "type": "pie"
           }
          ],
          "scatter": [
           {
            "fillpattern": {
             "fillmode": "overlay",
             "size": 10,
             "solidity": 0.2
            },
            "type": "scatter"
           }
          ],
          "scatter3d": [
           {
            "line": {
             "colorbar": {
              "outlinewidth": 0,
              "ticks": ""
             }
            },
            "marker": {
             "colorbar": {
              "outlinewidth": 0,
              "ticks": ""
             }
            },
            "type": "scatter3d"
           }
          ],
          "scattercarpet": [
           {
            "marker": {
             "colorbar": {
              "outlinewidth": 0,
              "ticks": ""
             }
            },
            "type": "scattercarpet"
           }
          ],
          "scattergeo": [
           {
            "marker": {
             "colorbar": {
              "outlinewidth": 0,
              "ticks": ""
             }
            },
            "type": "scattergeo"
           }
          ],
          "scattergl": [
           {
            "marker": {
             "colorbar": {
              "outlinewidth": 0,
              "ticks": ""
             }
            },
            "type": "scattergl"
           }
          ],
          "scattermap": [
           {
            "marker": {
             "colorbar": {
              "outlinewidth": 0,
              "ticks": ""
             }
            },
            "type": "scattermap"
           }
          ],
          "scattermapbox": [
           {
            "marker": {
             "colorbar": {
              "outlinewidth": 0,
              "ticks": ""
             }
            },
            "type": "scattermapbox"
           }
          ],
          "scatterpolar": [
           {
            "marker": {
             "colorbar": {
              "outlinewidth": 0,
              "ticks": ""
             }
            },
            "type": "scatterpolar"
           }
          ],
          "scatterpolargl": [
           {
            "marker": {
             "colorbar": {
              "outlinewidth": 0,
              "ticks": ""
             }
            },
            "type": "scatterpolargl"
           }
          ],
          "scatterternary": [
           {
            "marker": {
             "colorbar": {
              "outlinewidth": 0,
              "ticks": ""
             }
            },
            "type": "scatterternary"
           }
          ],
          "surface": [
           {
            "colorbar": {
             "outlinewidth": 0,
             "ticks": ""
            },
            "colorscale": [
             [
              0,
              "#0d0887"
             ],
             [
              0.1111111111111111,
              "#46039f"
             ],
             [
              0.2222222222222222,
              "#7201a8"
             ],
             [
              0.3333333333333333,
              "#9c179e"
             ],
             [
              0.4444444444444444,
              "#bd3786"
             ],
             [
              0.5555555555555556,
              "#d8576b"
             ],
             [
              0.6666666666666666,
              "#ed7953"
             ],
             [
              0.7777777777777778,
              "#fb9f3a"
             ],
             [
              0.8888888888888888,
              "#fdca26"
             ],
             [
              1,
              "#f0f921"
             ]
            ],
            "type": "surface"
           }
          ],
          "table": [
           {
            "cells": {
             "fill": {
              "color": "#EBF0F8"
             },
             "line": {
              "color": "white"
             }
            },
            "header": {
             "fill": {
              "color": "#C8D4E3"
             },
             "line": {
              "color": "white"
             }
            },
            "type": "table"
           }
          ]
         },
         "layout": {
          "annotationdefaults": {
           "arrowcolor": "#2a3f5f",
           "arrowhead": 0,
           "arrowwidth": 1
          },
          "autotypenumbers": "strict",
          "coloraxis": {
           "colorbar": {
            "outlinewidth": 0,
            "ticks": ""
           }
          },
          "colorscale": {
           "diverging": [
            [
             0,
             "#8e0152"
            ],
            [
             0.1,
             "#c51b7d"
            ],
            [
             0.2,
             "#de77ae"
            ],
            [
             0.3,
             "#f1b6da"
            ],
            [
             0.4,
             "#fde0ef"
            ],
            [
             0.5,
             "#f7f7f7"
            ],
            [
             0.6,
             "#e6f5d0"
            ],
            [
             0.7,
             "#b8e186"
            ],
            [
             0.8,
             "#7fbc41"
            ],
            [
             0.9,
             "#4d9221"
            ],
            [
             1,
             "#276419"
            ]
           ],
           "sequential": [
            [
             0,
             "#0d0887"
            ],
            [
             0.1111111111111111,
             "#46039f"
            ],
            [
             0.2222222222222222,
             "#7201a8"
            ],
            [
             0.3333333333333333,
             "#9c179e"
            ],
            [
             0.4444444444444444,
             "#bd3786"
            ],
            [
             0.5555555555555556,
             "#d8576b"
            ],
            [
             0.6666666666666666,
             "#ed7953"
            ],
            [
             0.7777777777777778,
             "#fb9f3a"
            ],
            [
             0.8888888888888888,
             "#fdca26"
            ],
            [
             1,
             "#f0f921"
            ]
           ],
           "sequentialminus": [
            [
             0,
             "#0d0887"
            ],
            [
             0.1111111111111111,
             "#46039f"
            ],
            [
             0.2222222222222222,
             "#7201a8"
            ],
            [
             0.3333333333333333,
             "#9c179e"
            ],
            [
             0.4444444444444444,
             "#bd3786"
            ],
            [
             0.5555555555555556,
             "#d8576b"
            ],
            [
             0.6666666666666666,
             "#ed7953"
            ],
            [
             0.7777777777777778,
             "#fb9f3a"
            ],
            [
             0.8888888888888888,
             "#fdca26"
            ],
            [
             1,
             "#f0f921"
            ]
           ]
          },
          "colorway": [
           "#636efa",
           "#EF553B",
           "#00cc96",
           "#ab63fa",
           "#FFA15A",
           "#19d3f3",
           "#FF6692",
           "#B6E880",
           "#FF97FF",
           "#FECB52"
          ],
          "font": {
           "color": "#2a3f5f"
          },
          "geo": {
           "bgcolor": "white",
           "lakecolor": "white",
           "landcolor": "white",
           "showlakes": true,
           "showland": true,
           "subunitcolor": "#C8D4E3"
          },
          "hoverlabel": {
           "align": "left"
          },
          "hovermode": "closest",
          "mapbox": {
           "style": "light"
          },
          "paper_bgcolor": "white",
          "plot_bgcolor": "white",
          "polar": {
           "angularaxis": {
            "gridcolor": "#EBF0F8",
            "linecolor": "#EBF0F8",
            "ticks": ""
           },
           "bgcolor": "white",
           "radialaxis": {
            "gridcolor": "#EBF0F8",
            "linecolor": "#EBF0F8",
            "ticks": ""
           }
          },
          "scene": {
           "xaxis": {
            "backgroundcolor": "white",
            "gridcolor": "#DFE8F3",
            "gridwidth": 2,
            "linecolor": "#EBF0F8",
            "showbackground": true,
            "ticks": "",
            "zerolinecolor": "#EBF0F8"
           },
           "yaxis": {
            "backgroundcolor": "white",
            "gridcolor": "#DFE8F3",
            "gridwidth": 2,
            "linecolor": "#EBF0F8",
            "showbackground": true,
            "ticks": "",
            "zerolinecolor": "#EBF0F8"
           },
           "zaxis": {
            "backgroundcolor": "white",
            "gridcolor": "#DFE8F3",
            "gridwidth": 2,
            "linecolor": "#EBF0F8",
            "showbackground": true,
            "ticks": "",
            "zerolinecolor": "#EBF0F8"
           }
          },
          "shapedefaults": {
           "line": {
            "color": "#2a3f5f"
           }
          },
          "ternary": {
           "aaxis": {
            "gridcolor": "#DFE8F3",
            "linecolor": "#A2B1C6",
            "ticks": ""
           },
           "baxis": {
            "gridcolor": "#DFE8F3",
            "linecolor": "#A2B1C6",
            "ticks": ""
           },
           "bgcolor": "white",
           "caxis": {
            "gridcolor": "#DFE8F3",
            "linecolor": "#A2B1C6",
            "ticks": ""
           }
          },
          "title": {
           "x": 0.05
          },
          "xaxis": {
           "automargin": true,
           "gridcolor": "#EBF0F8",
           "linecolor": "#EBF0F8",
           "ticks": "",
           "title": {
            "standoff": 15
           },
           "zerolinecolor": "#EBF0F8",
           "zerolinewidth": 2
          },
          "yaxis": {
           "automargin": true,
           "gridcolor": "#EBF0F8",
           "linecolor": "#EBF0F8",
           "ticks": "",
           "title": {
            "standoff": 15
           },
           "zerolinecolor": "#EBF0F8",
           "zerolinewidth": 2
          }
         }
        },
        "title": {
         "text": "Ablation of max_ct_depth"
        },
        "xaxis": {
         "title": {
          "text": "max_ct_depth"
         }
        },
        "yaxis": {
         "title": {
          "text": "Sid Low Mean"
         }
        }
       }
      }
     },
     "metadata": {},
     "output_type": "display_data"
    }
   ],
   "source": [
    "plot_ablation(agg_df, 'max_ct_depth', metric='sid_low_mean', std_metric='sid_low_std',\n",
    "              fixed_params={'neighbourhood_n_nodes': 5, 'max_c_set_size': 3, 'search_depth': 10, 'n_nodes': 6, 'n_edges': 6})"
   ]
  },
  {
   "cell_type": "code",
   "execution_count": 66,
   "id": "d97103cb",
   "metadata": {},
   "outputs": [
    {
     "data": {
      "application/vnd.plotly.v1+json": {
       "config": {
        "plotlyServerURL": "https://plot.ly"
       },
       "data": [
        {
         "line": {
          "color": "blue"
         },
         "mode": "lines+markers",
         "name": "Mean",
         "type": "scatter",
         "x": {
          "bdata": "AwQF",
          "dtype": "i1"
         },
         "y": {
          "bdata": "q6qqqqqqAkDNzMzMzMwAQM3MzMzMzABA",
          "dtype": "f8"
         }
        },
        {
         "fill": "toself",
         "fillcolor": "rgba(0,0,255,0.1)",
         "hoverinfo": "skip",
         "line": {
          "color": "rgba(255,255,255,0)"
         },
         "showlegend": false,
         "type": "scatter",
         "x": {
          "bdata": "AwQFBQQD",
          "dtype": "i1"
         },
         "y": {
          "bdata": "m2F9AvnSCUA7Olk13E0HQBAAeGZxoQdAFDNDZlDw8z++voDIepf0P3bnr6W4BPc/",
          "dtype": "f8"
         }
        }
       ],
       "layout": {
        "template": {
         "data": {
          "bar": [
           {
            "error_x": {
             "color": "#2a3f5f"
            },
            "error_y": {
             "color": "#2a3f5f"
            },
            "marker": {
             "line": {
              "color": "white",
              "width": 0.5
             },
             "pattern": {
              "fillmode": "overlay",
              "size": 10,
              "solidity": 0.2
             }
            },
            "type": "bar"
           }
          ],
          "barpolar": [
           {
            "marker": {
             "line": {
              "color": "white",
              "width": 0.5
             },
             "pattern": {
              "fillmode": "overlay",
              "size": 10,
              "solidity": 0.2
             }
            },
            "type": "barpolar"
           }
          ],
          "carpet": [
           {
            "aaxis": {
             "endlinecolor": "#2a3f5f",
             "gridcolor": "#C8D4E3",
             "linecolor": "#C8D4E3",
             "minorgridcolor": "#C8D4E3",
             "startlinecolor": "#2a3f5f"
            },
            "baxis": {
             "endlinecolor": "#2a3f5f",
             "gridcolor": "#C8D4E3",
             "linecolor": "#C8D4E3",
             "minorgridcolor": "#C8D4E3",
             "startlinecolor": "#2a3f5f"
            },
            "type": "carpet"
           }
          ],
          "choropleth": [
           {
            "colorbar": {
             "outlinewidth": 0,
             "ticks": ""
            },
            "type": "choropleth"
           }
          ],
          "contour": [
           {
            "colorbar": {
             "outlinewidth": 0,
             "ticks": ""
            },
            "colorscale": [
             [
              0,
              "#0d0887"
             ],
             [
              0.1111111111111111,
              "#46039f"
             ],
             [
              0.2222222222222222,
              "#7201a8"
             ],
             [
              0.3333333333333333,
              "#9c179e"
             ],
             [
              0.4444444444444444,
              "#bd3786"
             ],
             [
              0.5555555555555556,
              "#d8576b"
             ],
             [
              0.6666666666666666,
              "#ed7953"
             ],
             [
              0.7777777777777778,
              "#fb9f3a"
             ],
             [
              0.8888888888888888,
              "#fdca26"
             ],
             [
              1,
              "#f0f921"
             ]
            ],
            "type": "contour"
           }
          ],
          "contourcarpet": [
           {
            "colorbar": {
             "outlinewidth": 0,
             "ticks": ""
            },
            "type": "contourcarpet"
           }
          ],
          "heatmap": [
           {
            "colorbar": {
             "outlinewidth": 0,
             "ticks": ""
            },
            "colorscale": [
             [
              0,
              "#0d0887"
             ],
             [
              0.1111111111111111,
              "#46039f"
             ],
             [
              0.2222222222222222,
              "#7201a8"
             ],
             [
              0.3333333333333333,
              "#9c179e"
             ],
             [
              0.4444444444444444,
              "#bd3786"
             ],
             [
              0.5555555555555556,
              "#d8576b"
             ],
             [
              0.6666666666666666,
              "#ed7953"
             ],
             [
              0.7777777777777778,
              "#fb9f3a"
             ],
             [
              0.8888888888888888,
              "#fdca26"
             ],
             [
              1,
              "#f0f921"
             ]
            ],
            "type": "heatmap"
           }
          ],
          "histogram": [
           {
            "marker": {
             "pattern": {
              "fillmode": "overlay",
              "size": 10,
              "solidity": 0.2
             }
            },
            "type": "histogram"
           }
          ],
          "histogram2d": [
           {
            "colorbar": {
             "outlinewidth": 0,
             "ticks": ""
            },
            "colorscale": [
             [
              0,
              "#0d0887"
             ],
             [
              0.1111111111111111,
              "#46039f"
             ],
             [
              0.2222222222222222,
              "#7201a8"
             ],
             [
              0.3333333333333333,
              "#9c179e"
             ],
             [
              0.4444444444444444,
              "#bd3786"
             ],
             [
              0.5555555555555556,
              "#d8576b"
             ],
             [
              0.6666666666666666,
              "#ed7953"
             ],
             [
              0.7777777777777778,
              "#fb9f3a"
             ],
             [
              0.8888888888888888,
              "#fdca26"
             ],
             [
              1,
              "#f0f921"
             ]
            ],
            "type": "histogram2d"
           }
          ],
          "histogram2dcontour": [
           {
            "colorbar": {
             "outlinewidth": 0,
             "ticks": ""
            },
            "colorscale": [
             [
              0,
              "#0d0887"
             ],
             [
              0.1111111111111111,
              "#46039f"
             ],
             [
              0.2222222222222222,
              "#7201a8"
             ],
             [
              0.3333333333333333,
              "#9c179e"
             ],
             [
              0.4444444444444444,
              "#bd3786"
             ],
             [
              0.5555555555555556,
              "#d8576b"
             ],
             [
              0.6666666666666666,
              "#ed7953"
             ],
             [
              0.7777777777777778,
              "#fb9f3a"
             ],
             [
              0.8888888888888888,
              "#fdca26"
             ],
             [
              1,
              "#f0f921"
             ]
            ],
            "type": "histogram2dcontour"
           }
          ],
          "mesh3d": [
           {
            "colorbar": {
             "outlinewidth": 0,
             "ticks": ""
            },
            "type": "mesh3d"
           }
          ],
          "parcoords": [
           {
            "line": {
             "colorbar": {
              "outlinewidth": 0,
              "ticks": ""
             }
            },
            "type": "parcoords"
           }
          ],
          "pie": [
           {
            "automargin": true,
            "type": "pie"
           }
          ],
          "scatter": [
           {
            "fillpattern": {
             "fillmode": "overlay",
             "size": 10,
             "solidity": 0.2
            },
            "type": "scatter"
           }
          ],
          "scatter3d": [
           {
            "line": {
             "colorbar": {
              "outlinewidth": 0,
              "ticks": ""
             }
            },
            "marker": {
             "colorbar": {
              "outlinewidth": 0,
              "ticks": ""
             }
            },
            "type": "scatter3d"
           }
          ],
          "scattercarpet": [
           {
            "marker": {
             "colorbar": {
              "outlinewidth": 0,
              "ticks": ""
             }
            },
            "type": "scattercarpet"
           }
          ],
          "scattergeo": [
           {
            "marker": {
             "colorbar": {
              "outlinewidth": 0,
              "ticks": ""
             }
            },
            "type": "scattergeo"
           }
          ],
          "scattergl": [
           {
            "marker": {
             "colorbar": {
              "outlinewidth": 0,
              "ticks": ""
             }
            },
            "type": "scattergl"
           }
          ],
          "scattermap": [
           {
            "marker": {
             "colorbar": {
              "outlinewidth": 0,
              "ticks": ""
             }
            },
            "type": "scattermap"
           }
          ],
          "scattermapbox": [
           {
            "marker": {
             "colorbar": {
              "outlinewidth": 0,
              "ticks": ""
             }
            },
            "type": "scattermapbox"
           }
          ],
          "scatterpolar": [
           {
            "marker": {
             "colorbar": {
              "outlinewidth": 0,
              "ticks": ""
             }
            },
            "type": "scatterpolar"
           }
          ],
          "scatterpolargl": [
           {
            "marker": {
             "colorbar": {
              "outlinewidth": 0,
              "ticks": ""
             }
            },
            "type": "scatterpolargl"
           }
          ],
          "scatterternary": [
           {
            "marker": {
             "colorbar": {
              "outlinewidth": 0,
              "ticks": ""
             }
            },
            "type": "scatterternary"
           }
          ],
          "surface": [
           {
            "colorbar": {
             "outlinewidth": 0,
             "ticks": ""
            },
            "colorscale": [
             [
              0,
              "#0d0887"
             ],
             [
              0.1111111111111111,
              "#46039f"
             ],
             [
              0.2222222222222222,
              "#7201a8"
             ],
             [
              0.3333333333333333,
              "#9c179e"
             ],
             [
              0.4444444444444444,
              "#bd3786"
             ],
             [
              0.5555555555555556,
              "#d8576b"
             ],
             [
              0.6666666666666666,
              "#ed7953"
             ],
             [
              0.7777777777777778,
              "#fb9f3a"
             ],
             [
              0.8888888888888888,
              "#fdca26"
             ],
             [
              1,
              "#f0f921"
             ]
            ],
            "type": "surface"
           }
          ],
          "table": [
           {
            "cells": {
             "fill": {
              "color": "#EBF0F8"
             },
             "line": {
              "color": "white"
             }
            },
            "header": {
             "fill": {
              "color": "#C8D4E3"
             },
             "line": {
              "color": "white"
             }
            },
            "type": "table"
           }
          ]
         },
         "layout": {
          "annotationdefaults": {
           "arrowcolor": "#2a3f5f",
           "arrowhead": 0,
           "arrowwidth": 1
          },
          "autotypenumbers": "strict",
          "coloraxis": {
           "colorbar": {
            "outlinewidth": 0,
            "ticks": ""
           }
          },
          "colorscale": {
           "diverging": [
            [
             0,
             "#8e0152"
            ],
            [
             0.1,
             "#c51b7d"
            ],
            [
             0.2,
             "#de77ae"
            ],
            [
             0.3,
             "#f1b6da"
            ],
            [
             0.4,
             "#fde0ef"
            ],
            [
             0.5,
             "#f7f7f7"
            ],
            [
             0.6,
             "#e6f5d0"
            ],
            [
             0.7,
             "#b8e186"
            ],
            [
             0.8,
             "#7fbc41"
            ],
            [
             0.9,
             "#4d9221"
            ],
            [
             1,
             "#276419"
            ]
           ],
           "sequential": [
            [
             0,
             "#0d0887"
            ],
            [
             0.1111111111111111,
             "#46039f"
            ],
            [
             0.2222222222222222,
             "#7201a8"
            ],
            [
             0.3333333333333333,
             "#9c179e"
            ],
            [
             0.4444444444444444,
             "#bd3786"
            ],
            [
             0.5555555555555556,
             "#d8576b"
            ],
            [
             0.6666666666666666,
             "#ed7953"
            ],
            [
             0.7777777777777778,
             "#fb9f3a"
            ],
            [
             0.8888888888888888,
             "#fdca26"
            ],
            [
             1,
             "#f0f921"
            ]
           ],
           "sequentialminus": [
            [
             0,
             "#0d0887"
            ],
            [
             0.1111111111111111,
             "#46039f"
            ],
            [
             0.2222222222222222,
             "#7201a8"
            ],
            [
             0.3333333333333333,
             "#9c179e"
            ],
            [
             0.4444444444444444,
             "#bd3786"
            ],
            [
             0.5555555555555556,
             "#d8576b"
            ],
            [
             0.6666666666666666,
             "#ed7953"
            ],
            [
             0.7777777777777778,
             "#fb9f3a"
            ],
            [
             0.8888888888888888,
             "#fdca26"
            ],
            [
             1,
             "#f0f921"
            ]
           ]
          },
          "colorway": [
           "#636efa",
           "#EF553B",
           "#00cc96",
           "#ab63fa",
           "#FFA15A",
           "#19d3f3",
           "#FF6692",
           "#B6E880",
           "#FF97FF",
           "#FECB52"
          ],
          "font": {
           "color": "#2a3f5f"
          },
          "geo": {
           "bgcolor": "white",
           "lakecolor": "white",
           "landcolor": "white",
           "showlakes": true,
           "showland": true,
           "subunitcolor": "#C8D4E3"
          },
          "hoverlabel": {
           "align": "left"
          },
          "hovermode": "closest",
          "mapbox": {
           "style": "light"
          },
          "paper_bgcolor": "white",
          "plot_bgcolor": "white",
          "polar": {
           "angularaxis": {
            "gridcolor": "#EBF0F8",
            "linecolor": "#EBF0F8",
            "ticks": ""
           },
           "bgcolor": "white",
           "radialaxis": {
            "gridcolor": "#EBF0F8",
            "linecolor": "#EBF0F8",
            "ticks": ""
           }
          },
          "scene": {
           "xaxis": {
            "backgroundcolor": "white",
            "gridcolor": "#DFE8F3",
            "gridwidth": 2,
            "linecolor": "#EBF0F8",
            "showbackground": true,
            "ticks": "",
            "zerolinecolor": "#EBF0F8"
           },
           "yaxis": {
            "backgroundcolor": "white",
            "gridcolor": "#DFE8F3",
            "gridwidth": 2,
            "linecolor": "#EBF0F8",
            "showbackground": true,
            "ticks": "",
            "zerolinecolor": "#EBF0F8"
           },
           "zaxis": {
            "backgroundcolor": "white",
            "gridcolor": "#DFE8F3",
            "gridwidth": 2,
            "linecolor": "#EBF0F8",
            "showbackground": true,
            "ticks": "",
            "zerolinecolor": "#EBF0F8"
           }
          },
          "shapedefaults": {
           "line": {
            "color": "#2a3f5f"
           }
          },
          "ternary": {
           "aaxis": {
            "gridcolor": "#DFE8F3",
            "linecolor": "#A2B1C6",
            "ticks": ""
           },
           "baxis": {
            "gridcolor": "#DFE8F3",
            "linecolor": "#A2B1C6",
            "ticks": ""
           },
           "bgcolor": "white",
           "caxis": {
            "gridcolor": "#DFE8F3",
            "linecolor": "#A2B1C6",
            "ticks": ""
           }
          },
          "title": {
           "x": 0.05
          },
          "xaxis": {
           "automargin": true,
           "gridcolor": "#EBF0F8",
           "linecolor": "#EBF0F8",
           "ticks": "",
           "title": {
            "standoff": 15
           },
           "zerolinecolor": "#EBF0F8",
           "zerolinewidth": 2
          },
          "yaxis": {
           "automargin": true,
           "gridcolor": "#EBF0F8",
           "linecolor": "#EBF0F8",
           "ticks": "",
           "title": {
            "standoff": 15
           },
           "zerolinecolor": "#EBF0F8",
           "zerolinewidth": 2
          }
         }
        },
        "title": {
         "text": "Ablation of neighbourhood_n_nodes"
        },
        "xaxis": {
         "title": {
          "text": "neighbourhood_n_nodes"
         }
        },
        "yaxis": {
         "title": {
          "text": "Sid Low Mean"
         }
        }
       }
      }
     },
     "metadata": {},
     "output_type": "display_data"
    }
   ],
   "source": [
    "plot_ablation(agg_df, 'neighbourhood_n_nodes', metric='sid_low_mean', std_metric='sid_low_std',\n",
    "              fixed_params={'max_ct_depth': True, 'max_c_set_size': 3, 'search_depth': 10, 'n_nodes': 6, 'n_edges': 6})"
   ]
  },
  {
   "cell_type": "code",
   "execution_count": 67,
   "id": "e49613a9",
   "metadata": {},
   "outputs": [
    {
     "data": {
      "application/vnd.plotly.v1+json": {
       "config": {
        "plotlyServerURL": "https://plot.ly"
       },
       "data": [
        {
         "line": {
          "color": "blue"
         },
         "mode": "lines+markers",
         "name": "Mean",
         "type": "scatter",
         "x": {
          "bdata": "BggK",
          "dtype": "i1"
         },
         "y": {
          "bdata": "j8L1KFyPAkDD9Shcj8IBQM3MzMzMzABA",
          "dtype": "f8"
         }
        },
        {
         "fill": "toself",
         "fillcolor": "rgba(0,0,255,0.1)",
         "hoverinfo": "skip",
         "line": {
          "color": "rgba(255,255,255,0)"
         },
         "showlegend": false,
         "type": "scatter",
         "x": {
          "bdata": "BggKCggG",
          "dtype": "i1"
         },
         "y": {
          "bdata": "4PjLfS+7CEBFcAhSHVgIQBAAeGZxoQdAFDNDZlDw8z+C9pLMAlr2P3wYP6gRx/g/",
          "dtype": "f8"
         }
        }
       ],
       "layout": {
        "template": {
         "data": {
          "bar": [
           {
            "error_x": {
             "color": "#2a3f5f"
            },
            "error_y": {
             "color": "#2a3f5f"
            },
            "marker": {
             "line": {
              "color": "white",
              "width": 0.5
             },
             "pattern": {
              "fillmode": "overlay",
              "size": 10,
              "solidity": 0.2
             }
            },
            "type": "bar"
           }
          ],
          "barpolar": [
           {
            "marker": {
             "line": {
              "color": "white",
              "width": 0.5
             },
             "pattern": {
              "fillmode": "overlay",
              "size": 10,
              "solidity": 0.2
             }
            },
            "type": "barpolar"
           }
          ],
          "carpet": [
           {
            "aaxis": {
             "endlinecolor": "#2a3f5f",
             "gridcolor": "#C8D4E3",
             "linecolor": "#C8D4E3",
             "minorgridcolor": "#C8D4E3",
             "startlinecolor": "#2a3f5f"
            },
            "baxis": {
             "endlinecolor": "#2a3f5f",
             "gridcolor": "#C8D4E3",
             "linecolor": "#C8D4E3",
             "minorgridcolor": "#C8D4E3",
             "startlinecolor": "#2a3f5f"
            },
            "type": "carpet"
           }
          ],
          "choropleth": [
           {
            "colorbar": {
             "outlinewidth": 0,
             "ticks": ""
            },
            "type": "choropleth"
           }
          ],
          "contour": [
           {
            "colorbar": {
             "outlinewidth": 0,
             "ticks": ""
            },
            "colorscale": [
             [
              0,
              "#0d0887"
             ],
             [
              0.1111111111111111,
              "#46039f"
             ],
             [
              0.2222222222222222,
              "#7201a8"
             ],
             [
              0.3333333333333333,
              "#9c179e"
             ],
             [
              0.4444444444444444,
              "#bd3786"
             ],
             [
              0.5555555555555556,
              "#d8576b"
             ],
             [
              0.6666666666666666,
              "#ed7953"
             ],
             [
              0.7777777777777778,
              "#fb9f3a"
             ],
             [
              0.8888888888888888,
              "#fdca26"
             ],
             [
              1,
              "#f0f921"
             ]
            ],
            "type": "contour"
           }
          ],
          "contourcarpet": [
           {
            "colorbar": {
             "outlinewidth": 0,
             "ticks": ""
            },
            "type": "contourcarpet"
           }
          ],
          "heatmap": [
           {
            "colorbar": {
             "outlinewidth": 0,
             "ticks": ""
            },
            "colorscale": [
             [
              0,
              "#0d0887"
             ],
             [
              0.1111111111111111,
              "#46039f"
             ],
             [
              0.2222222222222222,
              "#7201a8"
             ],
             [
              0.3333333333333333,
              "#9c179e"
             ],
             [
              0.4444444444444444,
              "#bd3786"
             ],
             [
              0.5555555555555556,
              "#d8576b"
             ],
             [
              0.6666666666666666,
              "#ed7953"
             ],
             [
              0.7777777777777778,
              "#fb9f3a"
             ],
             [
              0.8888888888888888,
              "#fdca26"
             ],
             [
              1,
              "#f0f921"
             ]
            ],
            "type": "heatmap"
           }
          ],
          "histogram": [
           {
            "marker": {
             "pattern": {
              "fillmode": "overlay",
              "size": 10,
              "solidity": 0.2
             }
            },
            "type": "histogram"
           }
          ],
          "histogram2d": [
           {
            "colorbar": {
             "outlinewidth": 0,
             "ticks": ""
            },
            "colorscale": [
             [
              0,
              "#0d0887"
             ],
             [
              0.1111111111111111,
              "#46039f"
             ],
             [
              0.2222222222222222,
              "#7201a8"
             ],
             [
              0.3333333333333333,
              "#9c179e"
             ],
             [
              0.4444444444444444,
              "#bd3786"
             ],
             [
              0.5555555555555556,
              "#d8576b"
             ],
             [
              0.6666666666666666,
              "#ed7953"
             ],
             [
              0.7777777777777778,
              "#fb9f3a"
             ],
             [
              0.8888888888888888,
              "#fdca26"
             ],
             [
              1,
              "#f0f921"
             ]
            ],
            "type": "histogram2d"
           }
          ],
          "histogram2dcontour": [
           {
            "colorbar": {
             "outlinewidth": 0,
             "ticks": ""
            },
            "colorscale": [
             [
              0,
              "#0d0887"
             ],
             [
              0.1111111111111111,
              "#46039f"
             ],
             [
              0.2222222222222222,
              "#7201a8"
             ],
             [
              0.3333333333333333,
              "#9c179e"
             ],
             [
              0.4444444444444444,
              "#bd3786"
             ],
             [
              0.5555555555555556,
              "#d8576b"
             ],
             [
              0.6666666666666666,
              "#ed7953"
             ],
             [
              0.7777777777777778,
              "#fb9f3a"
             ],
             [
              0.8888888888888888,
              "#fdca26"
             ],
             [
              1,
              "#f0f921"
             ]
            ],
            "type": "histogram2dcontour"
           }
          ],
          "mesh3d": [
           {
            "colorbar": {
             "outlinewidth": 0,
             "ticks": ""
            },
            "type": "mesh3d"
           }
          ],
          "parcoords": [
           {
            "line": {
             "colorbar": {
              "outlinewidth": 0,
              "ticks": ""
             }
            },
            "type": "parcoords"
           }
          ],
          "pie": [
           {
            "automargin": true,
            "type": "pie"
           }
          ],
          "scatter": [
           {
            "fillpattern": {
             "fillmode": "overlay",
             "size": 10,
             "solidity": 0.2
            },
            "type": "scatter"
           }
          ],
          "scatter3d": [
           {
            "line": {
             "colorbar": {
              "outlinewidth": 0,
              "ticks": ""
             }
            },
            "marker": {
             "colorbar": {
              "outlinewidth": 0,
              "ticks": ""
             }
            },
            "type": "scatter3d"
           }
          ],
          "scattercarpet": [
           {
            "marker": {
             "colorbar": {
              "outlinewidth": 0,
              "ticks": ""
             }
            },
            "type": "scattercarpet"
           }
          ],
          "scattergeo": [
           {
            "marker": {
             "colorbar": {
              "outlinewidth": 0,
              "ticks": ""
             }
            },
            "type": "scattergeo"
           }
          ],
          "scattergl": [
           {
            "marker": {
             "colorbar": {
              "outlinewidth": 0,
              "ticks": ""
             }
            },
            "type": "scattergl"
           }
          ],
          "scattermap": [
           {
            "marker": {
             "colorbar": {
              "outlinewidth": 0,
              "ticks": ""
             }
            },
            "type": "scattermap"
           }
          ],
          "scattermapbox": [
           {
            "marker": {
             "colorbar": {
              "outlinewidth": 0,
              "ticks": ""
             }
            },
            "type": "scattermapbox"
           }
          ],
          "scatterpolar": [
           {
            "marker": {
             "colorbar": {
              "outlinewidth": 0,
              "ticks": ""
             }
            },
            "type": "scatterpolar"
           }
          ],
          "scatterpolargl": [
           {
            "marker": {
             "colorbar": {
              "outlinewidth": 0,
              "ticks": ""
             }
            },
            "type": "scatterpolargl"
           }
          ],
          "scatterternary": [
           {
            "marker": {
             "colorbar": {
              "outlinewidth": 0,
              "ticks": ""
             }
            },
            "type": "scatterternary"
           }
          ],
          "surface": [
           {
            "colorbar": {
             "outlinewidth": 0,
             "ticks": ""
            },
            "colorscale": [
             [
              0,
              "#0d0887"
             ],
             [
              0.1111111111111111,
              "#46039f"
             ],
             [
              0.2222222222222222,
              "#7201a8"
             ],
             [
              0.3333333333333333,
              "#9c179e"
             ],
             [
              0.4444444444444444,
              "#bd3786"
             ],
             [
              0.5555555555555556,
              "#d8576b"
             ],
             [
              0.6666666666666666,
              "#ed7953"
             ],
             [
              0.7777777777777778,
              "#fb9f3a"
             ],
             [
              0.8888888888888888,
              "#fdca26"
             ],
             [
              1,
              "#f0f921"
             ]
            ],
            "type": "surface"
           }
          ],
          "table": [
           {
            "cells": {
             "fill": {
              "color": "#EBF0F8"
             },
             "line": {
              "color": "white"
             }
            },
            "header": {
             "fill": {
              "color": "#C8D4E3"
             },
             "line": {
              "color": "white"
             }
            },
            "type": "table"
           }
          ]
         },
         "layout": {
          "annotationdefaults": {
           "arrowcolor": "#2a3f5f",
           "arrowhead": 0,
           "arrowwidth": 1
          },
          "autotypenumbers": "strict",
          "coloraxis": {
           "colorbar": {
            "outlinewidth": 0,
            "ticks": ""
           }
          },
          "colorscale": {
           "diverging": [
            [
             0,
             "#8e0152"
            ],
            [
             0.1,
             "#c51b7d"
            ],
            [
             0.2,
             "#de77ae"
            ],
            [
             0.3,
             "#f1b6da"
            ],
            [
             0.4,
             "#fde0ef"
            ],
            [
             0.5,
             "#f7f7f7"
            ],
            [
             0.6,
             "#e6f5d0"
            ],
            [
             0.7,
             "#b8e186"
            ],
            [
             0.8,
             "#7fbc41"
            ],
            [
             0.9,
             "#4d9221"
            ],
            [
             1,
             "#276419"
            ]
           ],
           "sequential": [
            [
             0,
             "#0d0887"
            ],
            [
             0.1111111111111111,
             "#46039f"
            ],
            [
             0.2222222222222222,
             "#7201a8"
            ],
            [
             0.3333333333333333,
             "#9c179e"
            ],
            [
             0.4444444444444444,
             "#bd3786"
            ],
            [
             0.5555555555555556,
             "#d8576b"
            ],
            [
             0.6666666666666666,
             "#ed7953"
            ],
            [
             0.7777777777777778,
             "#fb9f3a"
            ],
            [
             0.8888888888888888,
             "#fdca26"
            ],
            [
             1,
             "#f0f921"
            ]
           ],
           "sequentialminus": [
            [
             0,
             "#0d0887"
            ],
            [
             0.1111111111111111,
             "#46039f"
            ],
            [
             0.2222222222222222,
             "#7201a8"
            ],
            [
             0.3333333333333333,
             "#9c179e"
            ],
            [
             0.4444444444444444,
             "#bd3786"
            ],
            [
             0.5555555555555556,
             "#d8576b"
            ],
            [
             0.6666666666666666,
             "#ed7953"
            ],
            [
             0.7777777777777778,
             "#fb9f3a"
            ],
            [
             0.8888888888888888,
             "#fdca26"
            ],
            [
             1,
             "#f0f921"
            ]
           ]
          },
          "colorway": [
           "#636efa",
           "#EF553B",
           "#00cc96",
           "#ab63fa",
           "#FFA15A",
           "#19d3f3",
           "#FF6692",
           "#B6E880",
           "#FF97FF",
           "#FECB52"
          ],
          "font": {
           "color": "#2a3f5f"
          },
          "geo": {
           "bgcolor": "white",
           "lakecolor": "white",
           "landcolor": "white",
           "showlakes": true,
           "showland": true,
           "subunitcolor": "#C8D4E3"
          },
          "hoverlabel": {
           "align": "left"
          },
          "hovermode": "closest",
          "mapbox": {
           "style": "light"
          },
          "paper_bgcolor": "white",
          "plot_bgcolor": "white",
          "polar": {
           "angularaxis": {
            "gridcolor": "#EBF0F8",
            "linecolor": "#EBF0F8",
            "ticks": ""
           },
           "bgcolor": "white",
           "radialaxis": {
            "gridcolor": "#EBF0F8",
            "linecolor": "#EBF0F8",
            "ticks": ""
           }
          },
          "scene": {
           "xaxis": {
            "backgroundcolor": "white",
            "gridcolor": "#DFE8F3",
            "gridwidth": 2,
            "linecolor": "#EBF0F8",
            "showbackground": true,
            "ticks": "",
            "zerolinecolor": "#EBF0F8"
           },
           "yaxis": {
            "backgroundcolor": "white",
            "gridcolor": "#DFE8F3",
            "gridwidth": 2,
            "linecolor": "#EBF0F8",
            "showbackground": true,
            "ticks": "",
            "zerolinecolor": "#EBF0F8"
           },
           "zaxis": {
            "backgroundcolor": "white",
            "gridcolor": "#DFE8F3",
            "gridwidth": 2,
            "linecolor": "#EBF0F8",
            "showbackground": true,
            "ticks": "",
            "zerolinecolor": "#EBF0F8"
           }
          },
          "shapedefaults": {
           "line": {
            "color": "#2a3f5f"
           }
          },
          "ternary": {
           "aaxis": {
            "gridcolor": "#DFE8F3",
            "linecolor": "#A2B1C6",
            "ticks": ""
           },
           "baxis": {
            "gridcolor": "#DFE8F3",
            "linecolor": "#A2B1C6",
            "ticks": ""
           },
           "bgcolor": "white",
           "caxis": {
            "gridcolor": "#DFE8F3",
            "linecolor": "#A2B1C6",
            "ticks": ""
           }
          },
          "title": {
           "x": 0.05
          },
          "xaxis": {
           "automargin": true,
           "gridcolor": "#EBF0F8",
           "linecolor": "#EBF0F8",
           "ticks": "",
           "title": {
            "standoff": 15
           },
           "zerolinecolor": "#EBF0F8",
           "zerolinewidth": 2
          },
          "yaxis": {
           "automargin": true,
           "gridcolor": "#EBF0F8",
           "linecolor": "#EBF0F8",
           "ticks": "",
           "title": {
            "standoff": 15
           },
           "zerolinecolor": "#EBF0F8",
           "zerolinewidth": 2
          }
         }
        },
        "title": {
         "text": "Ablation of search_depth"
        },
        "xaxis": {
         "title": {
          "text": "search_depth"
         }
        },
        "yaxis": {
         "title": {
          "text": "Sid Low Mean"
         }
        }
       }
      }
     },
     "metadata": {},
     "output_type": "display_data"
    }
   ],
   "source": [
    "plot_ablation(agg_df, 'search_depth', metric='sid_low_mean', std_metric='sid_low_std',\n",
    "              fixed_params={'max_ct_depth': True, 'max_c_set_size': 3, 'neighbourhood_n_nodes': 5, 'n_nodes': 6, 'n_edges': 6})"
   ]
  }
 ],
 "metadata": {
  "kernelspec": {
   "display_name": "aba-env",
   "language": "python",
   "name": "python3"
  },
  "language_info": {
   "codemirror_mode": {
    "name": "ipython",
    "version": 3
   },
   "file_extension": ".py",
   "mimetype": "text/x-python",
   "name": "python",
   "nbconvert_exporter": "python",
   "pygments_lexer": "ipython3",
   "version": "3.12.9"
  }
 },
 "nbformat": 4,
 "nbformat_minor": 5
}
