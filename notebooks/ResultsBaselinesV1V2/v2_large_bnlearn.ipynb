{
 "cells": [
  {
   "cell_type": "markdown",
   "id": "6ee27829",
   "metadata": {},
   "source": [
    "# Results Notebook for Large Bnlearn Graphs"
   ]
  },
  {
   "cell_type": "code",
   "execution_count": 1,
   "id": "fe01bbbf",
   "metadata": {},
   "outputs": [],
   "source": [
    "import pandas as pd\n",
    "import numpy as np\n",
    "\n",
    "import importlib\n",
    "import utils\n",
    "importlib.reload(utils)\n",
    "from utils import plot_runtime, double_bar_chart_plotly, process_model_names_and_runtime_v1_data, process_mean_std_sid_data, DAG_NODES_MAP, DAG_EDGES_MAP"
   ]
  },
  {
   "cell_type": "code",
   "execution_count": 2,
   "id": "f003d274",
   "metadata": {},
   "outputs": [
    {
     "data": {
      "text/plain": [
       "nnz                                                                      12\n",
       "fdr                                                                  0.8333\n",
       "tpr                                                                    0.25\n",
       "fpr                                                                     0.5\n",
       "precision                                                            0.1667\n",
       "recall                                                                 0.25\n",
       "F1                                                                      0.2\n",
       "shd                                                                    16.0\n",
       "sid_low                                                                15.0\n",
       "sid_high                                                               15.0\n",
       "dataset                                                                asia\n",
       "seed                                                                   5864\n",
       "n_nodes                                                                   8\n",
       "n_edges                                                                   8\n",
       "neighbourhood_n_nodes                                                     6\n",
       "max_cycle_length                                                          6\n",
       "max_ct_depth                                                              3\n",
       "max_path_length                                                           5\n",
       "max_c_set_size                                                            6\n",
       "search_depth                                                             12\n",
       "elapsed_bsaf_creation                                            754.354243\n",
       "elapsed_model_solution                                          5955.944571\n",
       "is_converged                                                           True\n",
       "fact_ranking_method                                                      v2\n",
       "model_ranking_method                                       original_ranking\n",
       "num_edges_est                                                            12\n",
       "best_model                [(5, 6), (4, 6), (5, 7), (4, 7), (5, 0), (4, 0...\n",
       "aba_elapsed                                                        0.027865\n",
       "ranking_elapsed                                                   26.853834\n",
       "best_I                                                            85.135796\n",
       "Name: 0, dtype: object"
      ]
     },
     "execution_count": 2,
     "metadata": {},
     "output_type": "execute_result"
    }
   ],
   "source": [
    "import glob\n",
    "\n",
    "# Get all cpdag_metrics.csv files in the specified folder\n",
    "csv_files = glob.glob('../../results/gradual/v2_run_for_bnlearn/*/*/cpdag_metrics.csv')\n",
    "\n",
    "# Concatenate all the csv files into a single DataFrame\n",
    "v2_data_bn = pd.concat([pd.read_csv(f) for f in csv_files], ignore_index=True)\n",
    "\n",
    "v2_data_bn.loc[0].T"
   ]
  },
  {
   "cell_type": "code",
   "execution_count": 3,
   "id": "6c849327",
   "metadata": {},
   "outputs": [
    {
     "data": {
      "text/plain": [
       "dataset\n",
       "asia     50\n",
       "sachs    50\n",
       "child    19\n",
       "Name: count, dtype: int64"
      ]
     },
     "execution_count": 3,
     "metadata": {},
     "output_type": "execute_result"
    }
   ],
   "source": [
    "# same for the DAG construction version for larger DAGs\n",
    "# Get all cpdag_metrics.csv files in the specified folder\n",
    "csv_files_search_every_step = glob.glob('../../results/gradual/v2_run_for_bnlearn_search_every_step/*/*/cpdag_metrics.csv')\n",
    "\n",
    "# Concatenate all the csv files into a single DataFrame\n",
    "v2_data_bn_search_every_step = pd.concat([pd.read_csv(f) for f in csv_files_search_every_step], ignore_index=True)\n",
    "\n",
    "v2_data_bn_search_every_step.dataset.value_counts()"
   ]
  },
  {
   "cell_type": "code",
   "execution_count": 4,
   "id": "217bd39f",
   "metadata": {},
   "outputs": [],
   "source": [
    "baselines_data_bn = pd.read_csv('../../results/existing/bnlearn_graphs/all_existing_methods_metrics_cpdag.csv')"
   ]
  },
  {
   "cell_type": "code",
   "execution_count": 5,
   "id": "bfc73b76",
   "metadata": {},
   "outputs": [
    {
     "data": {
      "text/plain": [
       "array(['cancer', 'earthquake', 'survey', 'asia', 'sachs', 'child',\n",
       "       'insurance'], dtype=object)"
      ]
     },
     "execution_count": 5,
     "metadata": {},
     "output_type": "execute_result"
    }
   ],
   "source": [
    "baselines_data_bn.dataset.unique()"
   ]
  },
  {
   "cell_type": "code",
   "execution_count": 6,
   "id": "43e50116",
   "metadata": {},
   "outputs": [],
   "source": [
    "baselines_data_bn = pd.read_csv('../../results/existing/bnlearn_graphs/all_existing_methods_metrics_cpdag.csv')\n",
    "baselines_data_bn_fgs = pd.read_csv('../../results/existing/bnlearn_graphs/fgs/all_existing_methods_metrics_cpdag.csv')\n",
    "baselines_data_bn = pd.concat([baselines_data_bn, baselines_data_bn_fgs], ignore_index=True)\n",
    "baselines_data_bn.loc[baselines_data_bn['model'] == 'ABAPC (Ours)', 'model'] = 'ABAPC (Original)'\n",
    "baselines_data_bn['n_nodes'] = baselines_data_bn['dataset'].map(DAG_NODES_MAP)\n",
    "baselines_data_bn['n_edges'] = baselines_data_bn['dataset'].map(DAG_EDGES_MAP)"
   ]
  },
  {
   "cell_type": "code",
   "execution_count": 7,
   "id": "f6856927",
   "metadata": {},
   "outputs": [],
   "source": [
    "v2_data_bn['model'] = 'V2'\n",
    "v2_data_bn['elapsed'] = (\n",
    "    v2_data_bn['elapsed_bsaf_creation'] +\n",
    "    v2_data_bn['elapsed_model_solution'] + \n",
    "    v2_data_bn['aba_elapsed'] +\n",
    "    v2_data_bn['ranking_elapsed']\n",
    ")\n",
    "\n",
    "v2_data_bn_search_every_step['model'] = 'V2_search_every_step'\n",
    "v2_data_bn_search_every_step['elapsed'] = (\n",
    "    v2_data_bn_search_every_step['elapsed_bsaf_creation'] +\n",
    "    v2_data_bn_search_every_step['elapsed_model_solution'] + \n",
    "    v2_data_bn_search_every_step['aba_elapsed'] +\n",
    "    v2_data_bn_search_every_step['ranking_elapsed']\n",
    ")"
   ]
  },
  {
   "cell_type": "code",
   "execution_count": 8,
   "id": "307ba0f5",
   "metadata": {},
   "outputs": [],
   "source": [
    "\n",
    "\n",
    "methods = [\n",
    "    'Random',\n",
    "    'FGS',\n",
    "    'NOTEARS-MLP',\n",
    "    'MPC',\n",
    "    'Causal ABA (Original)',\n",
    "    'Gradual Causal ABA (Ours)',\n",
    "    'Gradual Causal ABA (Ours, Adapted)'\n",
    "]\n",
    "names_dict = {\n",
    "   m: m for m in methods\n",
    "}\n",
    "\n",
    "colors_dict = {\n",
    "        'Random': 'grey',\n",
    "        'FGS': '#b85c00',\n",
    "        'NOTEARS-MLP': '#9454c4',\n",
    "        'MPC': '#379f9f',\n",
    "        'Causal ABA (Original)': '#0085CA',\n",
    "        'Gradual Causal ABA (Ours)': \"#ff8c00\",\n",
    "        'Gradual Causal ABA (Ours, Adapted)': \"#ef6262\",\n",
    "    }"
   ]
  },
  {
   "cell_type": "code",
   "execution_count": 9,
   "id": "715de45a",
   "metadata": {},
   "outputs": [],
   "source": [
    "baselines_bn_processed = process_mean_std_sid_data(baselines_data_bn)\n",
    "v2_data_bn_processed = process_mean_std_sid_data(v2_data_bn)\n",
    "v2_data_bn_search_every_step_processed = process_mean_std_sid_data(v2_data_bn_search_every_step)"
   ]
  },
  {
   "cell_type": "code",
   "execution_count": 10,
   "id": "03669ba4",
   "metadata": {},
   "outputs": [],
   "source": [
    "\n",
    "plot_data = pd.concat([baselines_bn_processed[baselines_bn_processed['dataset'].isin(['asia', 'sachs', 'child'])],\n",
    "                       v2_data_bn_processed,\n",
    "                       v2_data_bn_search_every_step_processed], \n",
    "                       ignore_index=True)\n",
    "\n",
    "plot_data = pd.concat([\n",
    "    plot_data[plot_data['dataset']=='asia'],\n",
    "    plot_data[plot_data['dataset']=='sachs'],\n",
    "    plot_data[plot_data['dataset']=='child'],\n",
    "])\n",
    "\n",
    "abapc_asia_data = {\n",
    "    'dataset': ['asia'],\n",
    "    'model': ['ABAPC (Original)'],\n",
    "    'n_nodes': [8],\n",
    "    'n_edges': [8],\n",
    "    'sid_low_mean': [11.72],\n",
    "    'sid_high_mean': [33.52],\n",
    "    'sid_low_std': [6.79],\n",
    "    'sid_high_std': [7.92],\n",
    "    'precision_mean': [0.49],\n",
    "    'precision_std': [0.18],\n",
    "    'recall_mean': [0.51],\n",
    "    'recall_std': [0.18],\n",
    "    'f1_mean': [0.5],\n",
    "    'f1_std': [0.18],\n",
    "    'shd_mean': [5.24],\n",
    "    'shd_std': [2.26],\n",
    "    'n_shd_mean': [0.655],\n",
    "    'n_shd_std': [0.2825],\n",
    "    'nnz_mean': [8.44],\n",
    "    'nnz_std': [0.84],\n",
    "    'n_sid_low_mean': [1.465],\n",
    "    'n_sid_high_mean': [4.19],\n",
    "    'n_sid_low_std': [0.84875],\n",
    "    'n_sid_high_std': [0.99],\n",
    "}\n",
    "abapc_asia_data = pd.DataFrame(abapc_asia_data)\n",
    "\n",
    "plot_data = pd.concat([plot_data, abapc_asia_data], ignore_index=True)\n",
    "plot_data['dataset'] = plot_data['dataset'].str.upper() + '<br>' + '|V|=' + plot_data['n_nodes'].astype(str) + ', |E|=' + plot_data['n_edges'].astype(str)"
   ]
  },
  {
   "cell_type": "code",
   "execution_count": 11,
   "id": "645f266b",
   "metadata": {},
   "outputs": [
    {
     "data": {
      "text/html": [
       "<div>\n",
       "<style scoped>\n",
       "    .dataframe tbody tr th:only-of-type {\n",
       "        vertical-align: middle;\n",
       "    }\n",
       "\n",
       "    .dataframe tbody tr th {\n",
       "        vertical-align: top;\n",
       "    }\n",
       "\n",
       "    .dataframe thead th {\n",
       "        text-align: right;\n",
       "    }\n",
       "</style>\n",
       "<table border=\"1\" class=\"dataframe\">\n",
       "  <thead>\n",
       "    <tr style=\"text-align: right;\">\n",
       "      <th></th>\n",
       "      <th>dataset</th>\n",
       "      <th>n_nodes</th>\n",
       "      <th>n_edges</th>\n",
       "      <th>model</th>\n",
       "      <th>sid_low_mean</th>\n",
       "      <th>sid_high_mean</th>\n",
       "      <th>sid_low_std</th>\n",
       "      <th>sid_high_std</th>\n",
       "      <th>precision_mean</th>\n",
       "      <th>precision_std</th>\n",
       "      <th>...</th>\n",
       "      <th>shd_mean</th>\n",
       "      <th>shd_std</th>\n",
       "      <th>nnz_mean</th>\n",
       "      <th>nnz_std</th>\n",
       "      <th>n_sid_low_mean</th>\n",
       "      <th>n_sid_high_mean</th>\n",
       "      <th>n_sid_low_std</th>\n",
       "      <th>n_sid_high_std</th>\n",
       "      <th>n_shd_mean</th>\n",
       "      <th>n_shd_std</th>\n",
       "    </tr>\n",
       "  </thead>\n",
       "  <tbody>\n",
       "    <tr>\n",
       "      <th>0</th>\n",
       "      <td>ASIA&lt;br&gt;|V|=8, |E|=8</td>\n",
       "      <td>8</td>\n",
       "      <td>8</td>\n",
       "      <td>FGS</td>\n",
       "      <td>32.26</td>\n",
       "      <td>41.70</td>\n",
       "      <td>5.045952</td>\n",
       "      <td>2.808515</td>\n",
       "      <td>0.254134</td>\n",
       "      <td>0.047901</td>\n",
       "      <td>...</td>\n",
       "      <td>12.12</td>\n",
       "      <td>0.773014</td>\n",
       "      <td>7.68</td>\n",
       "      <td>0.767716</td>\n",
       "      <td>4.0325</td>\n",
       "      <td>5.2125</td>\n",
       "      <td>0.630744</td>\n",
       "      <td>0.351064</td>\n",
       "      <td>1.5150</td>\n",
       "      <td>0.096627</td>\n",
       "    </tr>\n",
       "    <tr>\n",
       "      <th>1</th>\n",
       "      <td>ASIA&lt;br&gt;|V|=8, |E|=8</td>\n",
       "      <td>8</td>\n",
       "      <td>8</td>\n",
       "      <td>MPC</td>\n",
       "      <td>15.24</td>\n",
       "      <td>41.02</td>\n",
       "      <td>5.597230</td>\n",
       "      <td>3.771483</td>\n",
       "      <td>0.364068</td>\n",
       "      <td>0.062073</td>\n",
       "      <td>...</td>\n",
       "      <td>4.64</td>\n",
       "      <td>0.662709</td>\n",
       "      <td>6.58</td>\n",
       "      <td>0.702474</td>\n",
       "      <td>1.9050</td>\n",
       "      <td>5.1275</td>\n",
       "      <td>0.699654</td>\n",
       "      <td>0.471435</td>\n",
       "      <td>0.5800</td>\n",
       "      <td>0.082839</td>\n",
       "    </tr>\n",
       "    <tr>\n",
       "      <th>2</th>\n",
       "      <td>ASIA&lt;br&gt;|V|=8, |E|=8</td>\n",
       "      <td>8</td>\n",
       "      <td>8</td>\n",
       "      <td>NOTEARS-MLP</td>\n",
       "      <td>19.36</td>\n",
       "      <td>41.98</td>\n",
       "      <td>3.921474</td>\n",
       "      <td>2.094599</td>\n",
       "      <td>0.244302</td>\n",
       "      <td>0.026503</td>\n",
       "      <td>...</td>\n",
       "      <td>8.24</td>\n",
       "      <td>0.893514</td>\n",
       "      <td>8.32</td>\n",
       "      <td>0.652781</td>\n",
       "      <td>2.4200</td>\n",
       "      <td>5.2475</td>\n",
       "      <td>0.490184</td>\n",
       "      <td>0.261825</td>\n",
       "      <td>1.0300</td>\n",
       "      <td>0.111689</td>\n",
       "    </tr>\n",
       "    <tr>\n",
       "      <th>3</th>\n",
       "      <td>ASIA&lt;br&gt;|V|=8, |E|=8</td>\n",
       "      <td>8</td>\n",
       "      <td>8</td>\n",
       "      <td>Random</td>\n",
       "      <td>24.98</td>\n",
       "      <td>37.24</td>\n",
       "      <td>6.988299</td>\n",
       "      <td>6.086318</td>\n",
       "      <td>0.112500</td>\n",
       "      <td>0.091925</td>\n",
       "      <td>...</td>\n",
       "      <td>13.00</td>\n",
       "      <td>1.714286</td>\n",
       "      <td>8.00</td>\n",
       "      <td>0.000000</td>\n",
       "      <td>3.1225</td>\n",
       "      <td>4.6550</td>\n",
       "      <td>0.873537</td>\n",
       "      <td>0.760790</td>\n",
       "      <td>1.6250</td>\n",
       "      <td>0.214286</td>\n",
       "    </tr>\n",
       "    <tr>\n",
       "      <th>4</th>\n",
       "      <td>ASIA&lt;br&gt;|V|=8, |E|=8</td>\n",
       "      <td>8</td>\n",
       "      <td>8</td>\n",
       "      <td>Gradual Causal ABA (Ours)</td>\n",
       "      <td>22.96</td>\n",
       "      <td>25.48</td>\n",
       "      <td>7.637074</td>\n",
       "      <td>6.494079</td>\n",
       "      <td>0.210770</td>\n",
       "      <td>0.097715</td>\n",
       "      <td>...</td>\n",
       "      <td>11.62</td>\n",
       "      <td>2.202874</td>\n",
       "      <td>8.26</td>\n",
       "      <td>2.087964</td>\n",
       "      <td>2.8700</td>\n",
       "      <td>3.1850</td>\n",
       "      <td>0.954634</td>\n",
       "      <td>0.811760</td>\n",
       "      <td>1.4525</td>\n",
       "      <td>0.275359</td>\n",
       "    </tr>\n",
       "  </tbody>\n",
       "</table>\n",
       "<p>5 rows × 24 columns</p>\n",
       "</div>"
      ],
      "text/plain": [
       "                dataset  n_nodes  n_edges                      model  \\\n",
       "0  ASIA<br>|V|=8, |E|=8        8        8                        FGS   \n",
       "1  ASIA<br>|V|=8, |E|=8        8        8                        MPC   \n",
       "2  ASIA<br>|V|=8, |E|=8        8        8                NOTEARS-MLP   \n",
       "3  ASIA<br>|V|=8, |E|=8        8        8                     Random   \n",
       "4  ASIA<br>|V|=8, |E|=8        8        8  Gradual Causal ABA (Ours)   \n",
       "\n",
       "   sid_low_mean  sid_high_mean  sid_low_std  sid_high_std  precision_mean  \\\n",
       "0         32.26          41.70     5.045952      2.808515        0.254134   \n",
       "1         15.24          41.02     5.597230      3.771483        0.364068   \n",
       "2         19.36          41.98     3.921474      2.094599        0.244302   \n",
       "3         24.98          37.24     6.988299      6.086318        0.112500   \n",
       "4         22.96          25.48     7.637074      6.494079        0.210770   \n",
       "\n",
       "   precision_std  ...  shd_mean   shd_std  nnz_mean   nnz_std  n_sid_low_mean  \\\n",
       "0       0.047901  ...     12.12  0.773014      7.68  0.767716          4.0325   \n",
       "1       0.062073  ...      4.64  0.662709      6.58  0.702474          1.9050   \n",
       "2       0.026503  ...      8.24  0.893514      8.32  0.652781          2.4200   \n",
       "3       0.091925  ...     13.00  1.714286      8.00  0.000000          3.1225   \n",
       "4       0.097715  ...     11.62  2.202874      8.26  2.087964          2.8700   \n",
       "\n",
       "   n_sid_high_mean  n_sid_low_std  n_sid_high_std  n_shd_mean  n_shd_std  \n",
       "0           5.2125       0.630744        0.351064      1.5150   0.096627  \n",
       "1           5.1275       0.699654        0.471435      0.5800   0.082839  \n",
       "2           5.2475       0.490184        0.261825      1.0300   0.111689  \n",
       "3           4.6550       0.873537        0.760790      1.6250   0.214286  \n",
       "4           3.1850       0.954634        0.811760      1.4525   0.275359  \n",
       "\n",
       "[5 rows x 24 columns]"
      ]
     },
     "execution_count": 11,
     "metadata": {},
     "output_type": "execute_result"
    }
   ],
   "source": [
    "plot_data['model'] = plot_data['model'].map({\n",
    "    'Random': 'Random',\n",
    "    'FGS': 'FGS',\n",
    "    'NOTEARS-MLP': 'NOTEARS-MLP',\n",
    "    'MPC': 'MPC',\n",
    "    'ABAPC (Original)': 'Causal ABA (Original)',\n",
    "    'V1.1 Refined Fact Ranking': 'Causal ABA (Refined Fact Ranking)',\n",
    "    'V1.2 Model Selection by Refined Fact Strengths': 'Causal ABA (Refined Model Ranking)',\n",
    "    'V1.3 Model Selection by Arrows Sum': 'Causal ABA (Arrows Sum Model Ranking)',\n",
    "    'V1.4 Model Selection by Arrows Mean': 'Causal ABA (Arrows Mean Model Ranking)',\n",
    "    'V2': 'Gradual Causal ABA (Ours)',\n",
    "    'V2_search_every_step': 'Gradual Causal ABA (Ours, Adapted)',\n",
    "})\n",
    "plot_data.head()"
   ]
  },
  {
   "cell_type": "code",
   "execution_count": 12,
   "id": "9bf274e7",
   "metadata": {},
   "outputs": [
    {
     "data": {
      "application/vnd.plotly.v1+json": {
       "config": {
        "plotlyServerURL": "https://plot.ly"
       },
       "data": [
        {
         "error_y": {
          "array": {
           "bdata": "SemMuAT06z+RcIhcSHvWP+UpHXVxnuk/",
           "dtype": "f8"
          },
          "type": "data",
          "visible": true
         },
         "marker": {
          "color": "grey"
         },
         "name": "Random",
         "offsetgroup": "0",
         "opacity": 0.6,
         "showlegend": true,
         "type": "bar",
         "x": [
          "ASIA<br>|V|=8, |E|=8",
          "SACHS<br>|V|=11, |E|=17",
          "CHILD<br>|V|=20, |E|=25"
         ],
         "y": {
          "bdata": "exSuR+H6CECQKcNc9o8FQI8xdy0hHydA",
          "dtype": "f8"
         },
         "yaxis": "y"
        },
        {
         "error_y": {
          "array": {
           "bdata": "fLqcEQ4v5D86yIl2u6HLP1izC7Pz/vQ/",
           "dtype": "f8"
          },
          "type": "data",
          "visible": true
         },
         "marker": {
          "color": "#b85c00"
         },
         "name": "FGS",
         "offsetgroup": "1",
         "opacity": 0.6,
         "showlegend": true,
         "type": "bar",
         "x": [
          "ASIA<br>|V|=8, |E|=8",
          "SACHS<br>|V|=11, |E|=17",
          "CHILD<br>|V|=20, |E|=25"
         ],
         "y": {
          "bdata": "4XoUrkchEEC/i1gl8r4DQP1l9+RhoSNA",
          "dtype": "f8"
         },
         "yaxis": "y"
        },
        {
         "error_y": {
          "array": {
           "bdata": "WhxB0S1f3z+Bwxz2T4PAP2BM55vtUeM/",
           "dtype": "f8"
          },
          "type": "data",
          "visible": true
         },
         "marker": {
          "color": "#9454c4"
         },
         "name": "NOTEARS-MLP",
         "offsetgroup": "2",
         "opacity": 0.6,
         "showlegend": true,
         "type": "bar",
         "x": [
          "ASIA<br>|V|=8, |E|=8",
          "SACHS<br>|V|=11, |E|=17",
          "CHILD<br>|V|=20, |E|=25"
         ],
         "y": {
          "bdata": "XI/C9ShcA0DcQqkPdtwCQNY07zhFRwJA",
          "dtype": "f8"
         },
         "yaxis": "y"
        },
        {
         "error_y": {
          "array": {
           "bdata": "daZhKpBj5j/EjfTmzjK/P8rzz0zsctM/",
           "dtype": "f8"
          },
          "type": "data",
          "visible": true
         },
         "marker": {
          "color": "#379f9f"
         },
         "name": "MPC",
         "offsetgroup": "3",
         "opacity": 0.6,
         "showlegend": true,
         "type": "bar",
         "x": [
          "ASIA<br>|V|=8, |E|=8",
          "SACHS<br>|V|=11, |E|=17",
          "CHILD<br>|V|=20, |E|=25"
         ],
         "y": {
          "bdata": "exSuR+F6/j/FKpH3XcT6P+84RUdy+QNA",
          "dtype": "f8"
         },
         "yaxis": "y"
        },
        {
         "error_y": {
          "array": {
           "bdata": "KVyPwvUo6z8=",
           "dtype": "f8"
          },
          "type": "data",
          "visible": true
         },
         "marker": {
          "color": "#0085CA"
         },
         "name": "Causal ABA (Original)",
         "offsetgroup": "4",
         "opacity": 0.6,
         "showlegend": true,
         "type": "bar",
         "x": [
          "ASIA<br>|V|=8, |E|=8"
         ],
         "y": {
          "bdata": "cT0K16Nw9z8=",
          "dtype": "f8"
         },
         "yaxis": "y"
        },
        {
         "error_y": {
          "array": {
           "bdata": "f0GdGl2M7j9iAnmcy0TKPxYhEBuhaOY/",
           "dtype": "f8"
          },
          "type": "data",
          "visible": true
         },
         "marker": {
          "color": "#ff8c00"
         },
         "name": "Gradual Causal ABA (Ours)",
         "offsetgroup": "5",
         "opacity": 0.6,
         "showlegend": true,
         "type": "bar",
         "x": [
          "ASIA<br>|V|=8, |E|=8",
          "SACHS<br>|V|=11, |E|=17",
          "CHILD<br>|V|=20, |E|=25"
         ],
         "y": {
          "bdata": "9ihcj8L1BkC/i1gl8r4HQBPQRNjw9ChA",
          "dtype": "f8"
         },
         "yaxis": "y"
        },
        {
         "error_y": {
          "array": {
           "bdata": "VICVDBZH6z/pnEuUXtnlP21SOjAdKvw/",
           "dtype": "f8"
          },
          "type": "data",
          "visible": true
         },
         "marker": {
          "color": "#ef6262"
         },
         "name": "Gradual Causal ABA (Ours, Adapted)",
         "offsetgroup": "6",
         "opacity": 0.6,
         "showlegend": true,
         "type": "bar",
         "x": [
          "ASIA<br>|V|=8, |E|=8",
          "SACHS<br>|V|=11, |E|=17",
          "CHILD<br>|V|=20, |E|=25"
         ],
         "y": {
          "bdata": "UrgehetR9j9rNwTRnWr/P3b/UhL6kBFA",
          "dtype": "f8"
         },
         "yaxis": "y"
        },
        {
         "marker": {
          "color": "white"
         },
         "name": "",
         "offsetgroup": "7",
         "opacity": 1,
         "showlegend": false,
         "type": "bar",
         "x": [
          "ASIA<br>|V|=8, |E|=8",
          "SACHS<br>|V|=11, |E|=17",
          "CHILD<br>|V|=20, |E|=25"
         ],
         "y": {
          "bdata": "AAAAAAAAAAAAAAAAAAAAAAAAAAAAAAAA",
          "dtype": "f8"
         }
        },
        {
         "error_y": {
          "array": {
           "bdata": "p+WztmNY6D9f5A54aSXSPzKHI7eOkOg/",
           "dtype": "f8"
          },
          "type": "data",
          "visible": true
         },
         "marker": {
          "color": "grey"
         },
         "name": "Random",
         "offsetgroup": "8",
         "opacity": 0.6,
         "showlegend": false,
         "type": "bar",
         "x": [
          "ASIA<br>|V|=8, |E|=8",
          "SACHS<br>|V|=11, |E|=17",
          "CHILD<br>|V|=20, |E|=25"
         ],
         "y": {
          "bdata": "H4XrUbieEkC57B9ThrkIQPyH9NvXgSlA",
          "dtype": "f8"
         },
         "yaxis": "y2"
        },
        {
         "error_y": {
          "array": {
           "bdata": "7DvTlNZ31j/vEGL/enXMP+TT7D97Gug/",
           "dtype": "f8"
          },
          "type": "data",
          "visible": true
         },
         "marker": {
          "color": "#b85c00"
         },
         "name": "FGS",
         "offsetgroup": "9",
         "opacity": 0.6,
         "showlegend": false,
         "type": "bar",
         "x": [
          "ASIA<br>|V|=8, |E|=8",
          "SACHS<br>|V|=11, |E|=17",
          "CHILD<br>|V|=20, |E|=25"
         ],
         "y": {
          "bdata": "mpmZmZnZFED+ypdkMf4GQG1Wfa62YihA",
          "dtype": "f8"
         },
         "yaxis": "y2"
        },
        {
         "error_y": {
          "array": {
           "bdata": "byvnXb3B0D+LmSxNgAmRP+crXMMOt+I/",
           "dtype": "f8"
          },
          "type": "data",
          "visible": true
         },
         "marker": {
          "color": "#9454c4"
         },
         "name": "NOTEARS-MLP",
         "offsetgroup": "10",
         "opacity": 0.6,
         "showlegend": false,
         "type": "bar",
         "x": [
          "ASIA<br>|V|=8, |E|=8",
          "SACHS<br>|V|=11, |E|=17",
          "CHILD<br>|V|=20, |E|=25"
         ],
         "y": {
          "bdata": "PQrXo3D9FEA4BNGdajcMQKmkTkATYSlA",
          "dtype": "f8"
         },
         "yaxis": "y2"
        },
        {
         "error_y": {
          "array": {
           "bdata": "wr/7HP8r3j8AAAAAAAAAAA+AC5zWiaQ/",
           "dtype": "f8"
          },
          "type": "data",
          "visible": true
         },
         "marker": {
          "color": "#379f9f"
         },
         "name": "MPC",
         "offsetgroup": "11",
         "opacity": 0.6,
         "showlegend": false,
         "type": "bar",
         "x": [
          "ASIA<br>|V|=8, |E|=8",
          "SACHS<br>|V|=11, |E|=17",
          "CHILD<br>|V|=20, |E|=25"
         ],
         "y": {
          "bdata": "w/UoXI+CFEAtLS0tLS0NQKyt2F92Ty5A",
          "dtype": "f8"
         },
         "yaxis": "y2"
        },
        {
         "error_y": {
          "array": {
           "bdata": "rkfhehSu7z8=",
           "dtype": "f8"
          },
          "type": "data",
          "visible": true
         },
         "marker": {
          "color": "#0085CA"
         },
         "name": "Causal ABA (Original)",
         "offsetgroup": "12",
         "opacity": 0.6,
         "showlegend": false,
         "type": "bar",
         "x": [
          "ASIA<br>|V|=8, |E|=8"
         ],
         "y": {
          "bdata": "w/UoXI/CEEA=",
          "dtype": "f8"
         },
         "yaxis": "y2"
        },
        {
         "error_y": {
          "array": {
           "bdata": "Jrsb1O/56T/yEphUK+HKP7RThxp4xOM/",
           "dtype": "f8"
          },
          "type": "data",
          "visible": true
         },
         "marker": {
          "color": "#ff8c00"
         },
         "name": "Gradual Causal ABA (Ours)",
         "offsetgroup": "13",
         "opacity": 0.6,
         "showlegend": false,
         "type": "bar",
         "x": [
          "ASIA<br>|V|=8, |E|=8",
          "SACHS<br>|V|=11, |E|=17",
          "CHILD<br>|V|=20, |E|=25"
         ],
         "y": {
          "bdata": "exSuR+F6CUA/2HELpT4IQHxhMlUwKilA",
          "dtype": "f8"
         },
         "yaxis": "y2"
        },
        {
         "error_y": {
          "array": {
           "bdata": "rimEcZoW8T8qAb1ORlbWPw0jvBInOgJA",
           "dtype": "f8"
          },
          "type": "data",
          "visible": true
         },
         "marker": {
          "color": "#ef6262"
         },
         "name": "Gradual Causal ABA (Ours, Adapted)",
         "offsetgroup": "14",
         "opacity": 0.6,
         "showlegend": false,
         "type": "bar",
         "x": [
          "ASIA<br>|V|=8, |E|=8",
          "SACHS<br>|V|=11, |E|=17",
          "CHILD<br>|V|=20, |E|=25"
         ],
         "y": {
          "bdata": "w/UoXI/CD0D9Y8owl/0HQPHA7l9KQiNA",
          "dtype": "f8"
         },
         "yaxis": "y2"
        }
       ],
       "layout": {
        "annotations": [
         {
          "bgcolor": "#E5ECF6",
          "bordercolor": "#E5ECF6",
          "borderwidth": 2,
          "font": {
           "color": "black",
           "size": 20
          },
          "opacity": 0.8,
          "showarrow": false,
          "text": "      Best      ",
          "x": 0.04,
          "xanchor": "left",
          "xref": "x domain",
          "y": 1.015,
          "yref": "y domain"
         },
         {
          "bgcolor": "#E5ECF6",
          "bordercolor": "#E5ECF6",
          "borderwidth": 2,
          "font": {
           "color": "black",
           "size": 20
          },
          "opacity": 0.8,
          "showarrow": false,
          "text": "      Worst      ",
          "x": 0.201,
          "xanchor": "left",
          "xref": "x domain",
          "y": 1.015,
          "yref": "y domain"
         },
         {
          "bgcolor": "#E5ECF6",
          "bordercolor": "#E5ECF6",
          "borderwidth": 2,
          "font": {
           "color": "black",
           "size": 20
          },
          "opacity": 0.8,
          "showarrow": false,
          "text": "      Best      ",
          "x": 0.375,
          "xanchor": "left",
          "xref": "x domain",
          "y": 1.015,
          "yref": "y domain"
         },
         {
          "bgcolor": "#E5ECF6",
          "bordercolor": "#E5ECF6",
          "borderwidth": 2,
          "font": {
           "color": "black",
           "size": 20
          },
          "opacity": 0.8,
          "showarrow": false,
          "text": "      Worst      ",
          "x": 0.536,
          "xanchor": "left",
          "xref": "x domain",
          "y": 1.015,
          "yref": "y domain"
         },
         {
          "bgcolor": "#E5ECF6",
          "bordercolor": "#E5ECF6",
          "borderwidth": 2,
          "font": {
           "color": "black",
           "size": 20
          },
          "opacity": 0.8,
          "showarrow": false,
          "text": "      Best      ",
          "x": 0.71,
          "xanchor": "left",
          "xref": "x domain",
          "y": 1.015,
          "yref": "y domain"
         },
         {
          "bgcolor": "#E5ECF6",
          "bordercolor": "#E5ECF6",
          "borderwidth": 2,
          "font": {
           "color": "black",
           "size": 20
          },
          "opacity": 0.8,
          "showarrow": false,
          "text": "      Worst      ",
          "x": 0.871,
          "xanchor": "left",
          "xref": "x domain",
          "y": 1.015,
          "yref": "y domain"
         }
        ],
        "bargap": 0.15,
        "bargroupgap": 0.15,
        "barmode": "group",
        "font": {
         "color": "black",
         "family": "Serif",
         "size": 20
        },
        "height": 700,
        "hovermode": "x unified",
        "legend": {
         "orientation": "h",
         "x": 0.5,
         "xanchor": "center",
         "y": 1.1,
         "yanchor": "top"
        },
        "margin": {
         "b": 70,
         "l": 40,
         "r": 0,
         "t": 20
        },
        "shapes": [
         {
          "layer": "below",
          "line": {
           "color": "grey",
           "dash": "dash",
           "width": 1
          },
          "type": "line",
          "x0": 0.1565,
          "x1": 0.1565,
          "xref": "paper",
          "y0": 0,
          "y1": 1,
          "yref": "paper"
         },
         {
          "layer": "below",
          "line": {
           "color": "black",
           "dash": "solid",
           "width": 1
          },
          "type": "line",
          "x0": 0.313,
          "x1": 0.313,
          "xref": "paper",
          "y0": 0,
          "y1": 1,
          "yref": "paper"
         },
         {
          "layer": "below",
          "line": {
           "color": "grey",
           "dash": "dash",
           "width": 1
          },
          "type": "line",
          "x0": 0.46950000000000003,
          "x1": 0.46950000000000003,
          "xref": "paper",
          "y0": 0,
          "y1": 1,
          "yref": "paper"
         },
         {
          "layer": "below",
          "line": {
           "color": "black",
           "dash": "solid",
           "width": 1
          },
          "type": "line",
          "x0": 0.626,
          "x1": 0.626,
          "xref": "paper",
          "y0": 0,
          "y1": 1,
          "yref": "paper"
         },
         {
          "layer": "below",
          "line": {
           "color": "grey",
           "dash": "dash",
           "width": 1
          },
          "type": "line",
          "x0": 0.7825,
          "x1": 0.7825,
          "xref": "paper",
          "y0": 0,
          "y1": 1,
          "yref": "paper"
         },
         {
          "layer": "below",
          "line": {
           "color": "black",
           "dash": "solid",
           "width": 1
          },
          "type": "line",
          "x0": 0.939,
          "x1": 0.939,
          "xref": "paper",
          "y0": 0,
          "y1": 1,
          "yref": "paper"
         }
        ],
        "template": {
         "data": {
          "bar": [
           {
            "error_x": {
             "color": "#2a3f5f"
            },
            "error_y": {
             "color": "#2a3f5f"
            },
            "marker": {
             "line": {
              "color": "white",
              "width": 0.5
             },
             "pattern": {
              "fillmode": "overlay",
              "size": 10,
              "solidity": 0.2
             }
            },
            "type": "bar"
           }
          ],
          "barpolar": [
           {
            "marker": {
             "line": {
              "color": "white",
              "width": 0.5
             },
             "pattern": {
              "fillmode": "overlay",
              "size": 10,
              "solidity": 0.2
             }
            },
            "type": "barpolar"
           }
          ],
          "carpet": [
           {
            "aaxis": {
             "endlinecolor": "#2a3f5f",
             "gridcolor": "#C8D4E3",
             "linecolor": "#C8D4E3",
             "minorgridcolor": "#C8D4E3",
             "startlinecolor": "#2a3f5f"
            },
            "baxis": {
             "endlinecolor": "#2a3f5f",
             "gridcolor": "#C8D4E3",
             "linecolor": "#C8D4E3",
             "minorgridcolor": "#C8D4E3",
             "startlinecolor": "#2a3f5f"
            },
            "type": "carpet"
           }
          ],
          "choropleth": [
           {
            "colorbar": {
             "outlinewidth": 0,
             "ticks": ""
            },
            "type": "choropleth"
           }
          ],
          "contour": [
           {
            "colorbar": {
             "outlinewidth": 0,
             "ticks": ""
            },
            "colorscale": [
             [
              0,
              "#0d0887"
             ],
             [
              0.1111111111111111,
              "#46039f"
             ],
             [
              0.2222222222222222,
              "#7201a8"
             ],
             [
              0.3333333333333333,
              "#9c179e"
             ],
             [
              0.4444444444444444,
              "#bd3786"
             ],
             [
              0.5555555555555556,
              "#d8576b"
             ],
             [
              0.6666666666666666,
              "#ed7953"
             ],
             [
              0.7777777777777778,
              "#fb9f3a"
             ],
             [
              0.8888888888888888,
              "#fdca26"
             ],
             [
              1,
              "#f0f921"
             ]
            ],
            "type": "contour"
           }
          ],
          "contourcarpet": [
           {
            "colorbar": {
             "outlinewidth": 0,
             "ticks": ""
            },
            "type": "contourcarpet"
           }
          ],
          "heatmap": [
           {
            "colorbar": {
             "outlinewidth": 0,
             "ticks": ""
            },
            "colorscale": [
             [
              0,
              "#0d0887"
             ],
             [
              0.1111111111111111,
              "#46039f"
             ],
             [
              0.2222222222222222,
              "#7201a8"
             ],
             [
              0.3333333333333333,
              "#9c179e"
             ],
             [
              0.4444444444444444,
              "#bd3786"
             ],
             [
              0.5555555555555556,
              "#d8576b"
             ],
             [
              0.6666666666666666,
              "#ed7953"
             ],
             [
              0.7777777777777778,
              "#fb9f3a"
             ],
             [
              0.8888888888888888,
              "#fdca26"
             ],
             [
              1,
              "#f0f921"
             ]
            ],
            "type": "heatmap"
           }
          ],
          "histogram": [
           {
            "marker": {
             "pattern": {
              "fillmode": "overlay",
              "size": 10,
              "solidity": 0.2
             }
            },
            "type": "histogram"
           }
          ],
          "histogram2d": [
           {
            "colorbar": {
             "outlinewidth": 0,
             "ticks": ""
            },
            "colorscale": [
             [
              0,
              "#0d0887"
             ],
             [
              0.1111111111111111,
              "#46039f"
             ],
             [
              0.2222222222222222,
              "#7201a8"
             ],
             [
              0.3333333333333333,
              "#9c179e"
             ],
             [
              0.4444444444444444,
              "#bd3786"
             ],
             [
              0.5555555555555556,
              "#d8576b"
             ],
             [
              0.6666666666666666,
              "#ed7953"
             ],
             [
              0.7777777777777778,
              "#fb9f3a"
             ],
             [
              0.8888888888888888,
              "#fdca26"
             ],
             [
              1,
              "#f0f921"
             ]
            ],
            "type": "histogram2d"
           }
          ],
          "histogram2dcontour": [
           {
            "colorbar": {
             "outlinewidth": 0,
             "ticks": ""
            },
            "colorscale": [
             [
              0,
              "#0d0887"
             ],
             [
              0.1111111111111111,
              "#46039f"
             ],
             [
              0.2222222222222222,
              "#7201a8"
             ],
             [
              0.3333333333333333,
              "#9c179e"
             ],
             [
              0.4444444444444444,
              "#bd3786"
             ],
             [
              0.5555555555555556,
              "#d8576b"
             ],
             [
              0.6666666666666666,
              "#ed7953"
             ],
             [
              0.7777777777777778,
              "#fb9f3a"
             ],
             [
              0.8888888888888888,
              "#fdca26"
             ],
             [
              1,
              "#f0f921"
             ]
            ],
            "type": "histogram2dcontour"
           }
          ],
          "mesh3d": [
           {
            "colorbar": {
             "outlinewidth": 0,
             "ticks": ""
            },
            "type": "mesh3d"
           }
          ],
          "parcoords": [
           {
            "line": {
             "colorbar": {
              "outlinewidth": 0,
              "ticks": ""
             }
            },
            "type": "parcoords"
           }
          ],
          "pie": [
           {
            "automargin": true,
            "type": "pie"
           }
          ],
          "scatter": [
           {
            "fillpattern": {
             "fillmode": "overlay",
             "size": 10,
             "solidity": 0.2
            },
            "type": "scatter"
           }
          ],
          "scatter3d": [
           {
            "line": {
             "colorbar": {
              "outlinewidth": 0,
              "ticks": ""
             }
            },
            "marker": {
             "colorbar": {
              "outlinewidth": 0,
              "ticks": ""
             }
            },
            "type": "scatter3d"
           }
          ],
          "scattercarpet": [
           {
            "marker": {
             "colorbar": {
              "outlinewidth": 0,
              "ticks": ""
             }
            },
            "type": "scattercarpet"
           }
          ],
          "scattergeo": [
           {
            "marker": {
             "colorbar": {
              "outlinewidth": 0,
              "ticks": ""
             }
            },
            "type": "scattergeo"
           }
          ],
          "scattergl": [
           {
            "marker": {
             "colorbar": {
              "outlinewidth": 0,
              "ticks": ""
             }
            },
            "type": "scattergl"
           }
          ],
          "scattermap": [
           {
            "marker": {
             "colorbar": {
              "outlinewidth": 0,
              "ticks": ""
             }
            },
            "type": "scattermap"
           }
          ],
          "scattermapbox": [
           {
            "marker": {
             "colorbar": {
              "outlinewidth": 0,
              "ticks": ""
             }
            },
            "type": "scattermapbox"
           }
          ],
          "scatterpolar": [
           {
            "marker": {
             "colorbar": {
              "outlinewidth": 0,
              "ticks": ""
             }
            },
            "type": "scatterpolar"
           }
          ],
          "scatterpolargl": [
           {
            "marker": {
             "colorbar": {
              "outlinewidth": 0,
              "ticks": ""
             }
            },
            "type": "scatterpolargl"
           }
          ],
          "scatterternary": [
           {
            "marker": {
             "colorbar": {
              "outlinewidth": 0,
              "ticks": ""
             }
            },
            "type": "scatterternary"
           }
          ],
          "surface": [
           {
            "colorbar": {
             "outlinewidth": 0,
             "ticks": ""
            },
            "colorscale": [
             [
              0,
              "#0d0887"
             ],
             [
              0.1111111111111111,
              "#46039f"
             ],
             [
              0.2222222222222222,
              "#7201a8"
             ],
             [
              0.3333333333333333,
              "#9c179e"
             ],
             [
              0.4444444444444444,
              "#bd3786"
             ],
             [
              0.5555555555555556,
              "#d8576b"
             ],
             [
              0.6666666666666666,
              "#ed7953"
             ],
             [
              0.7777777777777778,
              "#fb9f3a"
             ],
             [
              0.8888888888888888,
              "#fdca26"
             ],
             [
              1,
              "#f0f921"
             ]
            ],
            "type": "surface"
           }
          ],
          "table": [
           {
            "cells": {
             "fill": {
              "color": "#EBF0F8"
             },
             "line": {
              "color": "white"
             }
            },
            "header": {
             "fill": {
              "color": "#C8D4E3"
             },
             "line": {
              "color": "white"
             }
            },
            "type": "table"
           }
          ]
         },
         "layout": {
          "annotationdefaults": {
           "arrowcolor": "#2a3f5f",
           "arrowhead": 0,
           "arrowwidth": 1
          },
          "autotypenumbers": "strict",
          "coloraxis": {
           "colorbar": {
            "outlinewidth": 0,
            "ticks": ""
           }
          },
          "colorscale": {
           "diverging": [
            [
             0,
             "#8e0152"
            ],
            [
             0.1,
             "#c51b7d"
            ],
            [
             0.2,
             "#de77ae"
            ],
            [
             0.3,
             "#f1b6da"
            ],
            [
             0.4,
             "#fde0ef"
            ],
            [
             0.5,
             "#f7f7f7"
            ],
            [
             0.6,
             "#e6f5d0"
            ],
            [
             0.7,
             "#b8e186"
            ],
            [
             0.8,
             "#7fbc41"
            ],
            [
             0.9,
             "#4d9221"
            ],
            [
             1,
             "#276419"
            ]
           ],
           "sequential": [
            [
             0,
             "#0d0887"
            ],
            [
             0.1111111111111111,
             "#46039f"
            ],
            [
             0.2222222222222222,
             "#7201a8"
            ],
            [
             0.3333333333333333,
             "#9c179e"
            ],
            [
             0.4444444444444444,
             "#bd3786"
            ],
            [
             0.5555555555555556,
             "#d8576b"
            ],
            [
             0.6666666666666666,
             "#ed7953"
            ],
            [
             0.7777777777777778,
             "#fb9f3a"
            ],
            [
             0.8888888888888888,
             "#fdca26"
            ],
            [
             1,
             "#f0f921"
            ]
           ],
           "sequentialminus": [
            [
             0,
             "#0d0887"
            ],
            [
             0.1111111111111111,
             "#46039f"
            ],
            [
             0.2222222222222222,
             "#7201a8"
            ],
            [
             0.3333333333333333,
             "#9c179e"
            ],
            [
             0.4444444444444444,
             "#bd3786"
            ],
            [
             0.5555555555555556,
             "#d8576b"
            ],
            [
             0.6666666666666666,
             "#ed7953"
            ],
            [
             0.7777777777777778,
             "#fb9f3a"
            ],
            [
             0.8888888888888888,
             "#fdca26"
            ],
            [
             1,
             "#f0f921"
            ]
           ]
          },
          "colorway": [
           "#636efa",
           "#EF553B",
           "#00cc96",
           "#ab63fa",
           "#FFA15A",
           "#19d3f3",
           "#FF6692",
           "#B6E880",
           "#FF97FF",
           "#FECB52"
          ],
          "font": {
           "color": "#2a3f5f"
          },
          "geo": {
           "bgcolor": "white",
           "lakecolor": "white",
           "landcolor": "white",
           "showlakes": true,
           "showland": true,
           "subunitcolor": "#C8D4E3"
          },
          "hoverlabel": {
           "align": "left"
          },
          "hovermode": "closest",
          "mapbox": {
           "style": "light"
          },
          "paper_bgcolor": "white",
          "plot_bgcolor": "white",
          "polar": {
           "angularaxis": {
            "gridcolor": "#EBF0F8",
            "linecolor": "#EBF0F8",
            "ticks": ""
           },
           "bgcolor": "white",
           "radialaxis": {
            "gridcolor": "#EBF0F8",
            "linecolor": "#EBF0F8",
            "ticks": ""
           }
          },
          "scene": {
           "xaxis": {
            "backgroundcolor": "white",
            "gridcolor": "#DFE8F3",
            "gridwidth": 2,
            "linecolor": "#EBF0F8",
            "showbackground": true,
            "ticks": "",
            "zerolinecolor": "#EBF0F8"
           },
           "yaxis": {
            "backgroundcolor": "white",
            "gridcolor": "#DFE8F3",
            "gridwidth": 2,
            "linecolor": "#EBF0F8",
            "showbackground": true,
            "ticks": "",
            "zerolinecolor": "#EBF0F8"
           },
           "zaxis": {
            "backgroundcolor": "white",
            "gridcolor": "#DFE8F3",
            "gridwidth": 2,
            "linecolor": "#EBF0F8",
            "showbackground": true,
            "ticks": "",
            "zerolinecolor": "#EBF0F8"
           }
          },
          "shapedefaults": {
           "line": {
            "color": "#2a3f5f"
           }
          },
          "ternary": {
           "aaxis": {
            "gridcolor": "#DFE8F3",
            "linecolor": "#A2B1C6",
            "ticks": ""
           },
           "baxis": {
            "gridcolor": "#DFE8F3",
            "linecolor": "#A2B1C6",
            "ticks": ""
           },
           "bgcolor": "white",
           "caxis": {
            "gridcolor": "#DFE8F3",
            "linecolor": "#A2B1C6",
            "ticks": ""
           }
          },
          "title": {
           "x": 0.05
          },
          "xaxis": {
           "automargin": true,
           "gridcolor": "#EBF0F8",
           "linecolor": "#EBF0F8",
           "ticks": "",
           "title": {
            "standoff": 15
           },
           "zerolinecolor": "#EBF0F8",
           "zerolinewidth": 2
          },
          "yaxis": {
           "automargin": true,
           "gridcolor": "#EBF0F8",
           "linecolor": "#EBF0F8",
           "ticks": "",
           "title": {
            "standoff": 15
           },
           "zerolinecolor": "#EBF0F8",
           "zerolinewidth": 2
          }
         }
        },
        "width": 1400,
        "xaxis": {
         "anchor": "y",
         "domain": [
          0,
          0.94
         ]
        },
        "yaxis": {
         "anchor": "x",
         "domain": [
          0,
          1
         ],
         "range": [
          0,
          16
         ],
         "title": {
          "font": {
           "size": 20
          },
          "text": "Normalised SID"
         }
        },
        "yaxis2": {
         "anchor": "x",
         "overlaying": "y",
         "range": [
          0,
          16
         ],
         "scaleanchor": 0,
         "showgrid": false,
         "showline": false,
         "showticklabels": false,
         "side": "right",
         "title": {
          "font": {
           "size": 20
          },
          "text": ""
         },
         "zeroline": true
        }
       }
      }
     },
     "metadata": {},
     "output_type": "display_data"
    }
   ],
   "source": [
    "fig = double_bar_chart_plotly(plot_data, \n",
    "                        names_dict,\n",
    "                        colors_dict,\n",
    "                        vars_to_plot=['n_sid_low', 'n_sid_high'],\n",
    "                        names=['Best', 'Worst'],\n",
    "                        labels=['Normalised SID', ''],\n",
    "                        methods=methods,\n",
    "                        dist_between_lines=0.1565,\n",
    "                        lin_space=6,\n",
    "                        nl_space=6,\n",
    "                        intra_dis = 0.161,\n",
    "                        inter_dis = 0.174,\n",
    "                        start_pos = 0.04,\n",
    "                            width=1400,\n",
    "                            height=700,\n",
    "                            range_y1=(0, 16),\n",
    "                            range_y2=(0, 16))\n",
    "\n",
    "fig.write_image('v2-sid-large.png', scale=3, width=1400, height=700)"
   ]
  },
  {
   "cell_type": "code",
   "execution_count": null,
   "id": "25f61a89",
   "metadata": {},
   "outputs": [],
   "source": []
  }
 ],
 "metadata": {
  "kernelspec": {
   "display_name": "aba-env",
   "language": "python",
   "name": "python3"
  },
  "language_info": {
   "codemirror_mode": {
    "name": "ipython",
    "version": 3
   },
   "file_extension": ".py",
   "mimetype": "text/x-python",
   "name": "python",
   "nbconvert_exporter": "python",
   "pygments_lexer": "ipython3",
   "version": "3.12.9"
  }
 },
 "nbformat": 4,
 "nbformat_minor": 5
}
