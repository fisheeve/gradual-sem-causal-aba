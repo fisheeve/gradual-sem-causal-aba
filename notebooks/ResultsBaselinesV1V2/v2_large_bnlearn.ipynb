{
 "cells": [
  {
   "cell_type": "markdown",
   "id": "6ee27829",
   "metadata": {},
   "source": [
    "# Results Notebook for Large Bnlearn Graphs"
   ]
  },
  {
   "cell_type": "code",
   "execution_count": 1,
   "id": "fe01bbbf",
   "metadata": {},
   "outputs": [],
   "source": [
    "import pandas as pd\n",
    "import numpy as np\n",
    "\n",
    "import importlib\n",
    "import utils\n",
    "importlib.reload(utils)\n",
    "from utils import plot_runtime, double_bar_chart_plotly, process_model_names_and_runtime_v1_data, process_mean_std_sid_data, DAG_NODES_MAP, DAG_EDGES_MAP"
   ]
  },
  {
   "cell_type": "code",
   "execution_count": 2,
   "id": "f003d274",
   "metadata": {},
   "outputs": [
    {
     "data": {
      "text/plain": [
       "nnz                                                                      12\n",
       "fdr                                                                  0.8333\n",
       "tpr                                                                    0.25\n",
       "fpr                                                                     0.5\n",
       "precision                                                            0.1667\n",
       "recall                                                                 0.25\n",
       "F1                                                                      0.2\n",
       "shd                                                                    16.0\n",
       "sid_low                                                                15.0\n",
       "sid_high                                                               15.0\n",
       "dataset                                                                asia\n",
       "seed                                                                   5864\n",
       "n_nodes                                                                   8\n",
       "n_edges                                                                   8\n",
       "neighbourhood_n_nodes                                                     6\n",
       "max_cycle_length                                                          6\n",
       "max_ct_depth                                                              3\n",
       "max_path_length                                                           5\n",
       "max_c_set_size                                                            6\n",
       "search_depth                                                             12\n",
       "elapsed_bsaf_creation                                            754.354243\n",
       "elapsed_model_solution                                          5955.944571\n",
       "is_converged                                                           True\n",
       "fact_ranking_method                                                      v2\n",
       "model_ranking_method                                       original_ranking\n",
       "num_edges_est                                                            12\n",
       "best_model                [(5, 6), (4, 6), (5, 7), (4, 7), (5, 0), (4, 0...\n",
       "aba_elapsed                                                        0.027865\n",
       "ranking_elapsed                                                   26.853834\n",
       "best_I                                                            85.135796\n",
       "Name: 0, dtype: object"
      ]
     },
     "execution_count": 2,
     "metadata": {},
     "output_type": "execute_result"
    }
   ],
   "source": [
    "import glob\n",
    "\n",
    "# Get all cpdag_metrics.csv files in the specified folder\n",
    "csv_files = glob.glob('../../results/gradual/v2_run_for_bnlearn/*/*/cpdag_metrics.csv')\n",
    "\n",
    "# Concatenate all the csv files into a single DataFrame\n",
    "v2_data_bn = pd.concat([pd.read_csv(f) for f in csv_files], ignore_index=True)\n",
    "\n",
    "v2_data_bn.loc[0].T"
   ]
  },
  {
   "cell_type": "code",
   "execution_count": 3,
   "id": "217bd39f",
   "metadata": {},
   "outputs": [],
   "source": [
    "baselines_data_bn = pd.read_csv('../../results/existing/bnlearn_graphs/all_existing_methods_metrics_cpdag.csv')"
   ]
  },
  {
   "cell_type": "code",
   "execution_count": 4,
   "id": "bfc73b76",
   "metadata": {},
   "outputs": [
    {
     "data": {
      "text/plain": [
       "array(['cancer', 'earthquake', 'survey', 'asia', 'sachs', 'child',\n",
       "       'insurance'], dtype=object)"
      ]
     },
     "execution_count": 4,
     "metadata": {},
     "output_type": "execute_result"
    }
   ],
   "source": [
    "baselines_data_bn.dataset.unique()"
   ]
  },
  {
   "cell_type": "code",
   "execution_count": 5,
   "id": "43e50116",
   "metadata": {},
   "outputs": [],
   "source": [
    "baselines_data_bn = pd.read_csv('../../results/existing/bnlearn_graphs/all_existing_methods_metrics_cpdag.csv')\n",
    "baselines_data_bn_fgs = pd.read_csv('../../results/existing/bnlearn_graphs/fgs/all_existing_methods_metrics_cpdag.csv')\n",
    "baselines_data_bn = pd.concat([baselines_data_bn, baselines_data_bn_fgs], ignore_index=True)\n",
    "baselines_data_bn.loc[baselines_data_bn['model'] == 'ABAPC (Ours)', 'model'] = 'ABAPC (Original)'\n",
    "baselines_data_bn['n_nodes'] = baselines_data_bn['dataset'].map(DAG_NODES_MAP)\n",
    "baselines_data_bn['n_edges'] = baselines_data_bn['dataset'].map(DAG_EDGES_MAP)"
   ]
  },
  {
   "cell_type": "code",
   "execution_count": 6,
   "id": "f6856927",
   "metadata": {},
   "outputs": [],
   "source": [
    "v2_data_bn['model'] = 'V2'\n",
    "v2_data_bn['elapsed'] = (\n",
    "    v2_data_bn['elapsed_bsaf_creation'] +\n",
    "    v2_data_bn['elapsed_model_solution'] + \n",
    "    v2_data_bn['aba_elapsed'] +\n",
    "    v2_data_bn['ranking_elapsed']\n",
    ")"
   ]
  },
  {
   "cell_type": "code",
   "execution_count": 7,
   "id": "307ba0f5",
   "metadata": {},
   "outputs": [],
   "source": [
    "methods = [\n",
    "    'Random',\n",
    "    'FGS',\n",
    "    'NOTEARS-MLP',\n",
    "    'MPC',\n",
    "    'ABAPC (Original)',\n",
    "    'V2',\n",
    "]\n",
    "names_dict = {\n",
    "    'Random': 'Random',\n",
    "    'FGS': 'FGS',\n",
    "    'NOTEARS-MLP': 'NOTEARS-MLP',\n",
    "    'MPC': 'MPC',\n",
    "    'ABAPC (Original)': 'ABAPC (Original)',\n",
    "    'V2': 'V2',\n",
    "}\n",
    "colors_dict = {\n",
    "        'Random': 'grey',\n",
    "        'FGS': '#b85c00',\n",
    "        'NOTEARS-MLP': '#9454c4',\n",
    "        'MPC': '#379f9f',\n",
    "        'ABAPC (Original)': '#0085CA',\n",
    "        'V2': \"#ff8c00\",\n",
    "    }"
   ]
  },
  {
   "cell_type": "code",
   "execution_count": 8,
   "id": "715de45a",
   "metadata": {},
   "outputs": [],
   "source": [
    "baselines_bn_processed = process_mean_std_sid_data(baselines_data_bn)\n",
    "v2_data_bn_processed = process_mean_std_sid_data(v2_data_bn)\n"
   ]
  },
  {
   "cell_type": "code",
   "execution_count": 9,
   "id": "03669ba4",
   "metadata": {},
   "outputs": [],
   "source": [
    "\n",
    "plot_data = pd.concat([baselines_bn_processed[baselines_bn_processed['dataset'].isin(['asia', 'sachs', 'child'])],\n",
    "                       v2_data_bn_processed], \n",
    "                       ignore_index=True)\n",
    "\n",
    "plot_data = pd.concat([\n",
    "    plot_data[plot_data['dataset']=='asia'],\n",
    "    plot_data[plot_data['dataset']=='sachs'],\n",
    "    plot_data[plot_data['dataset']=='child'],\n",
    "])\n",
    "\n",
    "abapc_asia_data = {\n",
    "    'dataset': ['asia'],\n",
    "    'model': ['ABAPC (Original)'],\n",
    "    'n_nodes': [8],\n",
    "    'n_edges': [8],\n",
    "    'sid_low_mean': [11.72],\n",
    "    'sid_high_mean': [33.52],\n",
    "    'sid_low_std': [6.79],\n",
    "    'sid_high_std': [7.92],\n",
    "    'precision_mean': [0.49],\n",
    "    'precision_std': [0.18],\n",
    "    'recall_mean': [0.51],\n",
    "    'recall_std': [0.18],\n",
    "    'f1_mean': [0.5],\n",
    "    'f1_std': [0.18],\n",
    "    'shd_mean': [5.24],\n",
    "    'shd_std': [2.26],\n",
    "    'n_shd_mean': [0.655],\n",
    "    'n_shd_std': [0.2825],\n",
    "    'nnz_mean': [8.44],\n",
    "    'nnz_std': [0.84],\n",
    "    'n_sid_low_mean': [1.465],\n",
    "    'n_sid_high_mean': [4.19],\n",
    "    'n_sid_low_std': [0.84875],\n",
    "    'n_sid_high_std': [0.99],\n",
    "}\n",
    "abapc_asia_data = pd.DataFrame(abapc_asia_data)\n",
    "\n",
    "plot_data = pd.concat([plot_data, abapc_asia_data], ignore_index=True)\n",
    "plot_data['dataset'] = plot_data['dataset'] + '<br>' + '|V|=' + plot_data['n_nodes'].astype(str) + ', |E|=' + plot_data['n_edges'].astype(str)"
   ]
  },
  {
   "cell_type": "code",
   "execution_count": 10,
   "id": "9bf274e7",
   "metadata": {},
   "outputs": [
    {
     "data": {
      "application/vnd.plotly.v1+json": {
       "config": {
        "plotlyServerURL": "https://plot.ly"
       },
       "data": [
        {
         "error_y": {
          "array": {
           "bdata": "SemMuAT06z+RcIhcSHvWP+UpHXVxnuk/",
           "dtype": "f8"
          },
          "type": "data",
          "visible": true
         },
         "marker": {
          "color": "grey"
         },
         "name": "Random",
         "offsetgroup": "0",
         "opacity": 0.6,
         "showlegend": true,
         "type": "bar",
         "x": [
          "asia<br>|V|=8, |E|=8",
          "sachs<br>|V|=11, |E|=17",
          "child<br>|V|=20, |E|=25"
         ],
         "y": {
          "bdata": "exSuR+H6CECQKcNc9o8FQI8xdy0hHydA",
          "dtype": "f8"
         },
         "yaxis": "y"
        },
        {
         "error_y": {
          "array": {
           "bdata": "fLqcEQ4v5D86yIl2u6HLP1izC7Pz/vQ/",
           "dtype": "f8"
          },
          "type": "data",
          "visible": true
         },
         "marker": {
          "color": "#b85c00"
         },
         "name": "FGS",
         "offsetgroup": "1",
         "opacity": 0.6,
         "showlegend": true,
         "type": "bar",
         "x": [
          "asia<br>|V|=8, |E|=8",
          "sachs<br>|V|=11, |E|=17",
          "child<br>|V|=20, |E|=25"
         ],
         "y": {
          "bdata": "4XoUrkchEEC/i1gl8r4DQP1l9+RhoSNA",
          "dtype": "f8"
         },
         "yaxis": "y"
        },
        {
         "error_y": {
          "array": {
           "bdata": "WhxB0S1f3z+Bwxz2T4PAP2BM55vtUeM/",
           "dtype": "f8"
          },
          "type": "data",
          "visible": true
         },
         "marker": {
          "color": "#9454c4"
         },
         "name": "NOTEARS-MLP",
         "offsetgroup": "2",
         "opacity": 0.6,
         "showlegend": true,
         "type": "bar",
         "x": [
          "asia<br>|V|=8, |E|=8",
          "sachs<br>|V|=11, |E|=17",
          "child<br>|V|=20, |E|=25"
         ],
         "y": {
          "bdata": "XI/C9ShcA0DcQqkPdtwCQNY07zhFRwJA",
          "dtype": "f8"
         },
         "yaxis": "y"
        },
        {
         "error_y": {
          "array": {
           "bdata": "daZhKpBj5j/EjfTmzjK/P8rzz0zsctM/",
           "dtype": "f8"
          },
          "type": "data",
          "visible": true
         },
         "marker": {
          "color": "#379f9f"
         },
         "name": "MPC",
         "offsetgroup": "3",
         "opacity": 0.6,
         "showlegend": true,
         "type": "bar",
         "x": [
          "asia<br>|V|=8, |E|=8",
          "sachs<br>|V|=11, |E|=17",
          "child<br>|V|=20, |E|=25"
         ],
         "y": {
          "bdata": "exSuR+F6/j/FKpH3XcT6P+84RUdy+QNA",
          "dtype": "f8"
         },
         "yaxis": "y"
        },
        {
         "error_y": {
          "array": {
           "bdata": "KVyPwvUo6z8=",
           "dtype": "f8"
          },
          "type": "data",
          "visible": true
         },
         "marker": {
          "color": "#0085CA"
         },
         "name": "ABAPC (Original)",
         "offsetgroup": "4",
         "opacity": 0.6,
         "showlegend": true,
         "type": "bar",
         "x": [
          "asia<br>|V|=8, |E|=8"
         ],
         "y": {
          "bdata": "cT0K16Nw9z8=",
          "dtype": "f8"
         },
         "yaxis": "y"
        },
        {
         "error_y": {
          "array": {
           "bdata": "f0GdGl2M7j9iAnmcy0TKPxYhEBuhaOY/",
           "dtype": "f8"
          },
          "type": "data",
          "visible": true
         },
         "marker": {
          "color": "#ff8c00"
         },
         "name": "V2",
         "offsetgroup": "5",
         "opacity": 0.6,
         "showlegend": true,
         "type": "bar",
         "x": [
          "asia<br>|V|=8, |E|=8",
          "sachs<br>|V|=11, |E|=17",
          "child<br>|V|=20, |E|=25"
         ],
         "y": {
          "bdata": "9ihcj8L1BkC/i1gl8r4HQBPQRNjw9ChA",
          "dtype": "f8"
         },
         "yaxis": "y"
        },
        {
         "marker": {
          "color": "white"
         },
         "name": "",
         "offsetgroup": "6",
         "opacity": 1,
         "showlegend": false,
         "type": "bar",
         "x": [
          "asia<br>|V|=8, |E|=8",
          "sachs<br>|V|=11, |E|=17",
          "child<br>|V|=20, |E|=25"
         ],
         "y": {
          "bdata": "AAAAAAAAAAAAAAAAAAAAAAAAAAAAAAAA",
          "dtype": "f8"
         }
        },
        {
         "error_y": {
          "array": {
           "bdata": "p+WztmNY6D9f5A54aSXSPzKHI7eOkOg/",
           "dtype": "f8"
          },
          "type": "data",
          "visible": true
         },
         "marker": {
          "color": "grey"
         },
         "name": "Random",
         "offsetgroup": "7",
         "opacity": 0.6,
         "showlegend": false,
         "type": "bar",
         "x": [
          "asia<br>|V|=8, |E|=8",
          "sachs<br>|V|=11, |E|=17",
          "child<br>|V|=20, |E|=25"
         ],
         "y": {
          "bdata": "H4XrUbieEkC57B9ThrkIQPyH9NvXgSlA",
          "dtype": "f8"
         },
         "yaxis": "y2"
        },
        {
         "error_y": {
          "array": {
           "bdata": "7DvTlNZ31j/vEGL/enXMP+TT7D97Gug/",
           "dtype": "f8"
          },
          "type": "data",
          "visible": true
         },
         "marker": {
          "color": "#b85c00"
         },
         "name": "FGS",
         "offsetgroup": "8",
         "opacity": 0.6,
         "showlegend": false,
         "type": "bar",
         "x": [
          "asia<br>|V|=8, |E|=8",
          "sachs<br>|V|=11, |E|=17",
          "child<br>|V|=20, |E|=25"
         ],
         "y": {
          "bdata": "mpmZmZnZFED+ypdkMf4GQG1Wfa62YihA",
          "dtype": "f8"
         },
         "yaxis": "y2"
        },
        {
         "error_y": {
          "array": {
           "bdata": "byvnXb3B0D+LmSxNgAmRP+crXMMOt+I/",
           "dtype": "f8"
          },
          "type": "data",
          "visible": true
         },
         "marker": {
          "color": "#9454c4"
         },
         "name": "NOTEARS-MLP",
         "offsetgroup": "9",
         "opacity": 0.6,
         "showlegend": false,
         "type": "bar",
         "x": [
          "asia<br>|V|=8, |E|=8",
          "sachs<br>|V|=11, |E|=17",
          "child<br>|V|=20, |E|=25"
         ],
         "y": {
          "bdata": "PQrXo3D9FEA4BNGdajcMQKmkTkATYSlA",
          "dtype": "f8"
         },
         "yaxis": "y2"
        },
        {
         "error_y": {
          "array": {
           "bdata": "wr/7HP8r3j8AAAAAAAAAAA+AC5zWiaQ/",
           "dtype": "f8"
          },
          "type": "data",
          "visible": true
         },
         "marker": {
          "color": "#379f9f"
         },
         "name": "MPC",
         "offsetgroup": "10",
         "opacity": 0.6,
         "showlegend": false,
         "type": "bar",
         "x": [
          "asia<br>|V|=8, |E|=8",
          "sachs<br>|V|=11, |E|=17",
          "child<br>|V|=20, |E|=25"
         ],
         "y": {
          "bdata": "w/UoXI+CFEAtLS0tLS0NQKyt2F92Ty5A",
          "dtype": "f8"
         },
         "yaxis": "y2"
        },
        {
         "error_y": {
          "array": {
           "bdata": "rkfhehSu7z8=",
           "dtype": "f8"
          },
          "type": "data",
          "visible": true
         },
         "marker": {
          "color": "#0085CA"
         },
         "name": "ABAPC (Original)",
         "offsetgroup": "11",
         "opacity": 0.6,
         "showlegend": false,
         "type": "bar",
         "x": [
          "asia<br>|V|=8, |E|=8"
         ],
         "y": {
          "bdata": "w/UoXI/CEEA=",
          "dtype": "f8"
         },
         "yaxis": "y2"
        },
        {
         "error_y": {
          "array": {
           "bdata": "Jrsb1O/56T/yEphUK+HKP7RThxp4xOM/",
           "dtype": "f8"
          },
          "type": "data",
          "visible": true
         },
         "marker": {
          "color": "#ff8c00"
         },
         "name": "V2",
         "offsetgroup": "12",
         "opacity": 0.6,
         "showlegend": false,
         "type": "bar",
         "x": [
          "asia<br>|V|=8, |E|=8",
          "sachs<br>|V|=11, |E|=17",
          "child<br>|V|=20, |E|=25"
         ],
         "y": {
          "bdata": "exSuR+F6CUA/2HELpT4IQHxhMlUwKilA",
          "dtype": "f8"
         },
         "yaxis": "y2"
        }
       ],
       "layout": {
        "annotations": [
         {
          "font": {
           "color": "Black",
           "family": "Serif",
           "size": 20
          },
          "showarrow": false,
          "text": "Dataset:",
          "x": 0,
          "xanchor": "center",
          "xref": "paper",
          "y": -0.08,
          "yanchor": "bottom",
          "yref": "paper"
         },
         {
          "bgcolor": "#E5ECF6",
          "bordercolor": "#E5ECF6",
          "borderwidth": 2,
          "font": {
           "color": "black",
           "size": 20
          },
          "opacity": 0.8,
          "showarrow": false,
          "text": "      Best      ",
          "x": 0.04,
          "xanchor": "left",
          "xref": "x domain",
          "y": 1.015,
          "yref": "y domain"
         },
         {
          "bgcolor": "#E5ECF6",
          "bordercolor": "#E5ECF6",
          "borderwidth": 2,
          "font": {
           "color": "black",
           "size": 20
          },
          "opacity": 0.8,
          "showarrow": false,
          "text": "      Worst      ",
          "x": 0.201,
          "xanchor": "left",
          "xref": "x domain",
          "y": 1.015,
          "yref": "y domain"
         },
         {
          "bgcolor": "#E5ECF6",
          "bordercolor": "#E5ECF6",
          "borderwidth": 2,
          "font": {
           "color": "black",
           "size": 20
          },
          "opacity": 0.8,
          "showarrow": false,
          "text": "      Best      ",
          "x": 0.375,
          "xanchor": "left",
          "xref": "x domain",
          "y": 1.015,
          "yref": "y domain"
         },
         {
          "bgcolor": "#E5ECF6",
          "bordercolor": "#E5ECF6",
          "borderwidth": 2,
          "font": {
           "color": "black",
           "size": 20
          },
          "opacity": 0.8,
          "showarrow": false,
          "text": "      Worst      ",
          "x": 0.536,
          "xanchor": "left",
          "xref": "x domain",
          "y": 1.015,
          "yref": "y domain"
         },
         {
          "bgcolor": "#E5ECF6",
          "bordercolor": "#E5ECF6",
          "borderwidth": 2,
          "font": {
           "color": "black",
           "size": 20
          },
          "opacity": 0.8,
          "showarrow": false,
          "text": "      Best      ",
          "x": 0.71,
          "xanchor": "left",
          "xref": "x domain",
          "y": 1.015,
          "yref": "y domain"
         },
         {
          "bgcolor": "#E5ECF6",
          "bordercolor": "#E5ECF6",
          "borderwidth": 2,
          "font": {
           "color": "black",
           "size": 20
          },
          "opacity": 0.8,
          "showarrow": false,
          "text": "      Worst      ",
          "x": 0.871,
          "xanchor": "left",
          "xref": "x domain",
          "y": 1.015,
          "yref": "y domain"
         }
        ],
        "bargap": 0.15,
        "bargroupgap": 0.15,
        "barmode": "group",
        "font": {
         "color": "black",
         "family": "Serif",
         "size": 20
        },
        "height": 600,
        "hovermode": "x unified",
        "legend": {
         "orientation": "h",
         "x": 0.5,
         "xanchor": "center",
         "y": 1.1,
         "yanchor": "top"
        },
        "margin": {
         "b": 70,
         "l": 40,
         "r": 0,
         "t": 20
        },
        "shapes": [
         {
          "layer": "below",
          "line": {
           "color": "grey",
           "dash": "dash",
           "width": 1
          },
          "type": "line",
          "x0": 0.1565,
          "x1": 0.1565,
          "xref": "paper",
          "y0": 0,
          "y1": 1,
          "yref": "paper"
         },
         {
          "layer": "below",
          "line": {
           "color": "black",
           "dash": "solid",
           "width": 1
          },
          "type": "line",
          "x0": 0.313,
          "x1": 0.313,
          "xref": "paper",
          "y0": 0,
          "y1": 1,
          "yref": "paper"
         },
         {
          "layer": "below",
          "line": {
           "color": "grey",
           "dash": "dash",
           "width": 1
          },
          "type": "line",
          "x0": 0.46950000000000003,
          "x1": 0.46950000000000003,
          "xref": "paper",
          "y0": 0,
          "y1": 1,
          "yref": "paper"
         },
         {
          "layer": "below",
          "line": {
           "color": "black",
           "dash": "solid",
           "width": 1
          },
          "type": "line",
          "x0": 0.626,
          "x1": 0.626,
          "xref": "paper",
          "y0": 0,
          "y1": 1,
          "yref": "paper"
         },
         {
          "layer": "below",
          "line": {
           "color": "grey",
           "dash": "dash",
           "width": 1
          },
          "type": "line",
          "x0": 0.7825,
          "x1": 0.7825,
          "xref": "paper",
          "y0": 0,
          "y1": 1,
          "yref": "paper"
         },
         {
          "layer": "below",
          "line": {
           "color": "black",
           "dash": "solid",
           "width": 1
          },
          "type": "line",
          "x0": 0.939,
          "x1": 0.939,
          "xref": "paper",
          "y0": 0,
          "y1": 1,
          "yref": "paper"
         }
        ],
        "template": {
         "data": {
          "bar": [
           {
            "error_x": {
             "color": "#2a3f5f"
            },
            "error_y": {
             "color": "#2a3f5f"
            },
            "marker": {
             "line": {
              "color": "white",
              "width": 0.5
             },
             "pattern": {
              "fillmode": "overlay",
              "size": 10,
              "solidity": 0.2
             }
            },
            "type": "bar"
           }
          ],
          "barpolar": [
           {
            "marker": {
             "line": {
              "color": "white",
              "width": 0.5
             },
             "pattern": {
              "fillmode": "overlay",
              "size": 10,
              "solidity": 0.2
             }
            },
            "type": "barpolar"
           }
          ],
          "carpet": [
           {
            "aaxis": {
             "endlinecolor": "#2a3f5f",
             "gridcolor": "#C8D4E3",
             "linecolor": "#C8D4E3",
             "minorgridcolor": "#C8D4E3",
             "startlinecolor": "#2a3f5f"
            },
            "baxis": {
             "endlinecolor": "#2a3f5f",
             "gridcolor": "#C8D4E3",
             "linecolor": "#C8D4E3",
             "minorgridcolor": "#C8D4E3",
             "startlinecolor": "#2a3f5f"
            },
            "type": "carpet"
           }
          ],
          "choropleth": [
           {
            "colorbar": {
             "outlinewidth": 0,
             "ticks": ""
            },
            "type": "choropleth"
           }
          ],
          "contour": [
           {
            "colorbar": {
             "outlinewidth": 0,
             "ticks": ""
            },
            "colorscale": [
             [
              0,
              "#0d0887"
             ],
             [
              0.1111111111111111,
              "#46039f"
             ],
             [
              0.2222222222222222,
              "#7201a8"
             ],
             [
              0.3333333333333333,
              "#9c179e"
             ],
             [
              0.4444444444444444,
              "#bd3786"
             ],
             [
              0.5555555555555556,
              "#d8576b"
             ],
             [
              0.6666666666666666,
              "#ed7953"
             ],
             [
              0.7777777777777778,
              "#fb9f3a"
             ],
             [
              0.8888888888888888,
              "#fdca26"
             ],
             [
              1,
              "#f0f921"
             ]
            ],
            "type": "contour"
           }
          ],
          "contourcarpet": [
           {
            "colorbar": {
             "outlinewidth": 0,
             "ticks": ""
            },
            "type": "contourcarpet"
           }
          ],
          "heatmap": [
           {
            "colorbar": {
             "outlinewidth": 0,
             "ticks": ""
            },
            "colorscale": [
             [
              0,
              "#0d0887"
             ],
             [
              0.1111111111111111,
              "#46039f"
             ],
             [
              0.2222222222222222,
              "#7201a8"
             ],
             [
              0.3333333333333333,
              "#9c179e"
             ],
             [
              0.4444444444444444,
              "#bd3786"
             ],
             [
              0.5555555555555556,
              "#d8576b"
             ],
             [
              0.6666666666666666,
              "#ed7953"
             ],
             [
              0.7777777777777778,
              "#fb9f3a"
             ],
             [
              0.8888888888888888,
              "#fdca26"
             ],
             [
              1,
              "#f0f921"
             ]
            ],
            "type": "heatmap"
           }
          ],
          "histogram": [
           {
            "marker": {
             "pattern": {
              "fillmode": "overlay",
              "size": 10,
              "solidity": 0.2
             }
            },
            "type": "histogram"
           }
          ],
          "histogram2d": [
           {
            "colorbar": {
             "outlinewidth": 0,
             "ticks": ""
            },
            "colorscale": [
             [
              0,
              "#0d0887"
             ],
             [
              0.1111111111111111,
              "#46039f"
             ],
             [
              0.2222222222222222,
              "#7201a8"
             ],
             [
              0.3333333333333333,
              "#9c179e"
             ],
             [
              0.4444444444444444,
              "#bd3786"
             ],
             [
              0.5555555555555556,
              "#d8576b"
             ],
             [
              0.6666666666666666,
              "#ed7953"
             ],
             [
              0.7777777777777778,
              "#fb9f3a"
             ],
             [
              0.8888888888888888,
              "#fdca26"
             ],
             [
              1,
              "#f0f921"
             ]
            ],
            "type": "histogram2d"
           }
          ],
          "histogram2dcontour": [
           {
            "colorbar": {
             "outlinewidth": 0,
             "ticks": ""
            },
            "colorscale": [
             [
              0,
              "#0d0887"
             ],
             [
              0.1111111111111111,
              "#46039f"
             ],
             [
              0.2222222222222222,
              "#7201a8"
             ],
             [
              0.3333333333333333,
              "#9c179e"
             ],
             [
              0.4444444444444444,
              "#bd3786"
             ],
             [
              0.5555555555555556,
              "#d8576b"
             ],
             [
              0.6666666666666666,
              "#ed7953"
             ],
             [
              0.7777777777777778,
              "#fb9f3a"
             ],
             [
              0.8888888888888888,
              "#fdca26"
             ],
             [
              1,
              "#f0f921"
             ]
            ],
            "type": "histogram2dcontour"
           }
          ],
          "mesh3d": [
           {
            "colorbar": {
             "outlinewidth": 0,
             "ticks": ""
            },
            "type": "mesh3d"
           }
          ],
          "parcoords": [
           {
            "line": {
             "colorbar": {
              "outlinewidth": 0,
              "ticks": ""
             }
            },
            "type": "parcoords"
           }
          ],
          "pie": [
           {
            "automargin": true,
            "type": "pie"
           }
          ],
          "scatter": [
           {
            "fillpattern": {
             "fillmode": "overlay",
             "size": 10,
             "solidity": 0.2
            },
            "type": "scatter"
           }
          ],
          "scatter3d": [
           {
            "line": {
             "colorbar": {
              "outlinewidth": 0,
              "ticks": ""
             }
            },
            "marker": {
             "colorbar": {
              "outlinewidth": 0,
              "ticks": ""
             }
            },
            "type": "scatter3d"
           }
          ],
          "scattercarpet": [
           {
            "marker": {
             "colorbar": {
              "outlinewidth": 0,
              "ticks": ""
             }
            },
            "type": "scattercarpet"
           }
          ],
          "scattergeo": [
           {
            "marker": {
             "colorbar": {
              "outlinewidth": 0,
              "ticks": ""
             }
            },
            "type": "scattergeo"
           }
          ],
          "scattergl": [
           {
            "marker": {
             "colorbar": {
              "outlinewidth": 0,
              "ticks": ""
             }
            },
            "type": "scattergl"
           }
          ],
          "scattermap": [
           {
            "marker": {
             "colorbar": {
              "outlinewidth": 0,
              "ticks": ""
             }
            },
            "type": "scattermap"
           }
          ],
          "scattermapbox": [
           {
            "marker": {
             "colorbar": {
              "outlinewidth": 0,
              "ticks": ""
             }
            },
            "type": "scattermapbox"
           }
          ],
          "scatterpolar": [
           {
            "marker": {
             "colorbar": {
              "outlinewidth": 0,
              "ticks": ""
             }
            },
            "type": "scatterpolar"
           }
          ],
          "scatterpolargl": [
           {
            "marker": {
             "colorbar": {
              "outlinewidth": 0,
              "ticks": ""
             }
            },
            "type": "scatterpolargl"
           }
          ],
          "scatterternary": [
           {
            "marker": {
             "colorbar": {
              "outlinewidth": 0,
              "ticks": ""
             }
            },
            "type": "scatterternary"
           }
          ],
          "surface": [
           {
            "colorbar": {
             "outlinewidth": 0,
             "ticks": ""
            },
            "colorscale": [
             [
              0,
              "#0d0887"
             ],
             [
              0.1111111111111111,
              "#46039f"
             ],
             [
              0.2222222222222222,
              "#7201a8"
             ],
             [
              0.3333333333333333,
              "#9c179e"
             ],
             [
              0.4444444444444444,
              "#bd3786"
             ],
             [
              0.5555555555555556,
              "#d8576b"
             ],
             [
              0.6666666666666666,
              "#ed7953"
             ],
             [
              0.7777777777777778,
              "#fb9f3a"
             ],
             [
              0.8888888888888888,
              "#fdca26"
             ],
             [
              1,
              "#f0f921"
             ]
            ],
            "type": "surface"
           }
          ],
          "table": [
           {
            "cells": {
             "fill": {
              "color": "#EBF0F8"
             },
             "line": {
              "color": "white"
             }
            },
            "header": {
             "fill": {
              "color": "#C8D4E3"
             },
             "line": {
              "color": "white"
             }
            },
            "type": "table"
           }
          ]
         },
         "layout": {
          "annotationdefaults": {
           "arrowcolor": "#2a3f5f",
           "arrowhead": 0,
           "arrowwidth": 1
          },
          "autotypenumbers": "strict",
          "coloraxis": {
           "colorbar": {
            "outlinewidth": 0,
            "ticks": ""
           }
          },
          "colorscale": {
           "diverging": [
            [
             0,
             "#8e0152"
            ],
            [
             0.1,
             "#c51b7d"
            ],
            [
             0.2,
             "#de77ae"
            ],
            [
             0.3,
             "#f1b6da"
            ],
            [
             0.4,
             "#fde0ef"
            ],
            [
             0.5,
             "#f7f7f7"
            ],
            [
             0.6,
             "#e6f5d0"
            ],
            [
             0.7,
             "#b8e186"
            ],
            [
             0.8,
             "#7fbc41"
            ],
            [
             0.9,
             "#4d9221"
            ],
            [
             1,
             "#276419"
            ]
           ],
           "sequential": [
            [
             0,
             "#0d0887"
            ],
            [
             0.1111111111111111,
             "#46039f"
            ],
            [
             0.2222222222222222,
             "#7201a8"
            ],
            [
             0.3333333333333333,
             "#9c179e"
            ],
            [
             0.4444444444444444,
             "#bd3786"
            ],
            [
             0.5555555555555556,
             "#d8576b"
            ],
            [
             0.6666666666666666,
             "#ed7953"
            ],
            [
             0.7777777777777778,
             "#fb9f3a"
            ],
            [
             0.8888888888888888,
             "#fdca26"
            ],
            [
             1,
             "#f0f921"
            ]
           ],
           "sequentialminus": [
            [
             0,
             "#0d0887"
            ],
            [
             0.1111111111111111,
             "#46039f"
            ],
            [
             0.2222222222222222,
             "#7201a8"
            ],
            [
             0.3333333333333333,
             "#9c179e"
            ],
            [
             0.4444444444444444,
             "#bd3786"
            ],
            [
             0.5555555555555556,
             "#d8576b"
            ],
            [
             0.6666666666666666,
             "#ed7953"
            ],
            [
             0.7777777777777778,
             "#fb9f3a"
            ],
            [
             0.8888888888888888,
             "#fdca26"
            ],
            [
             1,
             "#f0f921"
            ]
           ]
          },
          "colorway": [
           "#636efa",
           "#EF553B",
           "#00cc96",
           "#ab63fa",
           "#FFA15A",
           "#19d3f3",
           "#FF6692",
           "#B6E880",
           "#FF97FF",
           "#FECB52"
          ],
          "font": {
           "color": "#2a3f5f"
          },
          "geo": {
           "bgcolor": "white",
           "lakecolor": "white",
           "landcolor": "white",
           "showlakes": true,
           "showland": true,
           "subunitcolor": "#C8D4E3"
          },
          "hoverlabel": {
           "align": "left"
          },
          "hovermode": "closest",
          "mapbox": {
           "style": "light"
          },
          "paper_bgcolor": "white",
          "plot_bgcolor": "white",
          "polar": {
           "angularaxis": {
            "gridcolor": "#EBF0F8",
            "linecolor": "#EBF0F8",
            "ticks": ""
           },
           "bgcolor": "white",
           "radialaxis": {
            "gridcolor": "#EBF0F8",
            "linecolor": "#EBF0F8",
            "ticks": ""
           }
          },
          "scene": {
           "xaxis": {
            "backgroundcolor": "white",
            "gridcolor": "#DFE8F3",
            "gridwidth": 2,
            "linecolor": "#EBF0F8",
            "showbackground": true,
            "ticks": "",
            "zerolinecolor": "#EBF0F8"
           },
           "yaxis": {
            "backgroundcolor": "white",
            "gridcolor": "#DFE8F3",
            "gridwidth": 2,
            "linecolor": "#EBF0F8",
            "showbackground": true,
            "ticks": "",
            "zerolinecolor": "#EBF0F8"
           },
           "zaxis": {
            "backgroundcolor": "white",
            "gridcolor": "#DFE8F3",
            "gridwidth": 2,
            "linecolor": "#EBF0F8",
            "showbackground": true,
            "ticks": "",
            "zerolinecolor": "#EBF0F8"
           }
          },
          "shapedefaults": {
           "line": {
            "color": "#2a3f5f"
           }
          },
          "ternary": {
           "aaxis": {
            "gridcolor": "#DFE8F3",
            "linecolor": "#A2B1C6",
            "ticks": ""
           },
           "baxis": {
            "gridcolor": "#DFE8F3",
            "linecolor": "#A2B1C6",
            "ticks": ""
           },
           "bgcolor": "white",
           "caxis": {
            "gridcolor": "#DFE8F3",
            "linecolor": "#A2B1C6",
            "ticks": ""
           }
          },
          "title": {
           "x": 0.05
          },
          "xaxis": {
           "automargin": true,
           "gridcolor": "#EBF0F8",
           "linecolor": "#EBF0F8",
           "ticks": "",
           "title": {
            "standoff": 15
           },
           "zerolinecolor": "#EBF0F8",
           "zerolinewidth": 2
          },
          "yaxis": {
           "automargin": true,
           "gridcolor": "#EBF0F8",
           "linecolor": "#EBF0F8",
           "ticks": "",
           "title": {
            "standoff": 15
           },
           "zerolinecolor": "#EBF0F8",
           "zerolinewidth": 2
          }
         }
        },
        "width": 1300,
        "xaxis": {
         "anchor": "y",
         "domain": [
          0,
          0.94
         ]
        },
        "yaxis": {
         "anchor": "x",
         "domain": [
          0,
          1
         ],
         "range": [
          0,
          16
         ],
         "title": {
          "font": {
           "size": 20
          },
          "text": "Normalised SID = SID / Number of Edges in DAG"
         }
        },
        "yaxis2": {
         "anchor": "x",
         "overlaying": "y",
         "range": [
          0,
          16
         ],
         "scaleanchor": 0,
         "showgrid": false,
         "showline": false,
         "showticklabels": false,
         "side": "right",
         "title": {
          "font": {
           "size": 20
          },
          "text": ""
         },
         "zeroline": true
        }
       }
      }
     },
     "metadata": {},
     "output_type": "display_data"
    }
   ],
   "source": [
    "fig = double_bar_chart_plotly(plot_data, \n",
    "                        names_dict,\n",
    "                        colors_dict,\n",
    "                        vars_to_plot=['n_sid_low', 'n_sid_high'],\n",
    "                        names=['Best', 'Worst'],\n",
    "                        labels=['Normalised SID = SID / Number of Edges in DAG', ''],\n",
    "                        methods=methods,\n",
    "                        dist_between_lines=0.1565,\n",
    "                        lin_space=6,\n",
    "                        nl_space=6,\n",
    "                        intra_dis = 0.161,\n",
    "                        inter_dis = 0.174,\n",
    "                        start_pos = 0.04,\n",
    "                            width=1300,\n",
    "                            height=600,\n",
    "                            range_y1=(0, 16),\n",
    "                            range_y2=(0, 16))\n",
    "\n",
    "fig.write_image('v2-sid-large.png', scale=3, width=1300, height=600)"
   ]
  },
  {
   "cell_type": "code",
   "execution_count": null,
   "id": "eca83a3c",
   "metadata": {},
   "outputs": [],
   "source": []
  }
 ],
 "metadata": {
  "kernelspec": {
   "display_name": "aba-env",
   "language": "python",
   "name": "python3"
  },
  "language_info": {
   "codemirror_mode": {
    "name": "ipython",
    "version": 3
   },
   "file_extension": ".py",
   "mimetype": "text/x-python",
   "name": "python",
   "nbconvert_exporter": "python",
   "pygments_lexer": "ipython3",
   "version": "3.12.9"
  }
 },
 "nbformat": 4,
 "nbformat_minor": 5
}
