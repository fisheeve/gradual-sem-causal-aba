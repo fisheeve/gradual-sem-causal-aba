{
 "cells": [
  {
   "cell_type": "markdown",
   "id": "a004ac99",
   "metadata": {},
   "source": [
    "# Goal: Implement Causal Discovery ABAF using the ABASP libruary"
   ]
  },
  {
   "cell_type": "markdown",
   "id": "39254588",
   "metadata": {},
   "source": [
    "## Preliminaries"
   ]
  },
  {
   "cell_type": "markdown",
   "id": "e3d38d75",
   "metadata": {},
   "source": [
    "### Imports"
   ]
  },
  {
   "cell_type": "code",
   "execution_count": null,
   "id": "c0bcacce",
   "metadata": {},
   "outputs": [],
   "source": [
    "import sys\n",
    "from dataclasses import dataclass\n",
    "from enum import Enum\n",
    "import networkx as nx"
   ]
  },
  {
   "cell_type": "code",
   "execution_count": null,
   "id": "318b9d90",
   "metadata": {},
   "outputs": [],
   "source": [
    "sys.path.append('../..')\n",
    "sys.path.insert(0, '../..')\n",
    "sys.path.insert(0, '../../ArgCausalDisco')\n",
    "sys.path.insert(0, '../../notears')"
   ]
  },
  {
   "cell_type": "code",
   "execution_count": null,
   "id": "35890088",
   "metadata": {},
   "outputs": [],
   "source": [
    "from aspforaba.src.aspforaba import ABASolver\n",
    "from cd_algorithms.PC import pc\n",
    "from utils.data_utils import load_bnlearn_data_dag, simulate_dag"
   ]
  },
  {
   "cell_type": "code",
   "execution_count": null,
   "id": "54d5322e",
   "metadata": {},
   "outputs": [],
   "source": [
    "from itertools import combinations, product, chain\n",
    "from utils.graph_utils import initial_strength, set_of_models_to_set_of_graphs"
   ]
  },
  {
   "cell_type": "markdown",
   "id": "b106bf78",
   "metadata": {},
   "source": [
    "### Get dataset"
   ]
  },
  {
   "cell_type": "code",
   "execution_count": null,
   "id": "64c7b5ce",
   "metadata": {},
   "outputs": [],
   "source": [
    "dataset_name = 'cancer'\n",
    "data_path='../../ArgCausalDisco/datasets'\n",
    "sample_size = 5000\n",
    "seed = 42"
   ]
  },
  {
   "cell_type": "code",
   "execution_count": null,
   "id": "d6a0c28d",
   "metadata": {},
   "outputs": [],
   "source": [
    "X_s, B_true = load_bnlearn_data_dag(dataset_name, \n",
    "                                    data_path, \n",
    "                                    sample_size, \n",
    "                                    seed=seed, \n",
    "                                    print_info=True, \n",
    "                                    standardise=True)"
   ]
  },
  {
   "cell_type": "markdown",
   "id": "3c1eba93",
   "metadata": {},
   "source": [
    "### Get Facts from PC"
   ]
  },
  {
   "cell_type": "code",
   "execution_count": null,
   "id": "4d9a302d",
   "metadata": {},
   "outputs": [],
   "source": [
    "data = X_s\n",
    "alpha = 0.01\n",
    "indep_test = 'fisherz'\n",
    "uc_rule = 5\n",
    "stable = True"
   ]
  },
  {
   "cell_type": "code",
   "execution_count": null,
   "id": "198184f4",
   "metadata": {},
   "outputs": [],
   "source": [
    "cg = pc(data=data, alpha=alpha, indep_test=indep_test, uc_rule=uc_rule, stable=stable, show_progress=True, verbose=True)"
   ]
  },
  {
   "cell_type": "code",
   "execution_count": null,
   "id": "4f182431",
   "metadata": {},
   "outputs": [],
   "source": [
    "n_nodes = data.shape[1]\n",
    "print('Number of nodes:', n_nodes)"
   ]
  },
  {
   "cell_type": "code",
   "execution_count": null,
   "id": "330dd145",
   "metadata": {},
   "outputs": [],
   "source": [
    "## Extract facts from PC\n",
    "facts = []\n",
    "for node1, node2 in combinations(range(n_nodes), 2):\n",
    "    test_PC = [t for t in cg.sepset[node1,node2]]\n",
    "    for sep_set, p in test_PC:\n",
    "        dep_type_PC = \"indep\" if p > alpha else \"dep\" \n",
    "        init_strength_value = initial_strength(p, len(sep_set), alpha, 0.5, n_nodes)\n",
    "        s_str = 'empty' if len(sep_set)==0 else 's'+'y'.join([str(i) for i in sep_set])\n",
    "        facts.append((node1,sep_set,node2,dep_type_PC, f\"{dep_type_PC}({node1},{node2},{s_str}).\", init_strength_value))\n",
    "print('Fact sample:', facts[3])"
   ]
  },
  {
   "cell_type": "markdown",
   "id": "4673e053",
   "metadata": {},
   "source": [
    "### Define Facts as Dataclass"
   ]
  },
  {
   "cell_type": "code",
   "execution_count": null,
   "id": "1ca56521",
   "metadata": {},
   "outputs": [],
   "source": [
    "class RelationEnum(str, Enum):\n",
    "    dep = \"dep\"\n",
    "    indep = \"indep\"\n",
    "\n",
    "@dataclass\n",
    "class Fact:\n",
    "    relation: RelationEnum\n",
    "    node1: int\n",
    "    node2: int\n",
    "    node_set: set\n",
    "    score: float\n",
    "\n",
    "    @classmethod\n",
    "    def from_tuple(cls, tpl):\n",
    "        node1, node_set_tuple, node2, relation, _, score = tpl\n",
    "        # independence is symmetric\n",
    "        if node1 > node2:\n",
    "            node1, node2 = node2, node1\n",
    "        return cls(\n",
    "            relation=RelationEnum(relation),\n",
    "            node1=int(node1),\n",
    "            node2=int(node2),\n",
    "            node_set=set(int(i) for i in node_set_tuple),\n",
    "            score=float(score)\n",
    "        )"
   ]
  },
  {
   "cell_type": "code",
   "execution_count": null,
   "id": "0c6c4f52",
   "metadata": {},
   "outputs": [],
   "source": [
    "fact = Fact.from_tuple(facts[3])\n",
    "fact"
   ]
  },
  {
   "cell_type": "code",
   "execution_count": null,
   "id": "6d2908e5",
   "metadata": {},
   "outputs": [],
   "source": [
    "raw_facts = facts"
   ]
  },
  {
   "cell_type": "code",
   "execution_count": null,
   "id": "a8adaa8b",
   "metadata": {},
   "outputs": [],
   "source": [
    "facts = [Fact.from_tuple(fact) for fact in raw_facts]"
   ]
  },
  {
   "cell_type": "markdown",
   "id": "b70c54f4",
   "metadata": {},
   "source": [
    "## Define ABAF"
   ]
  },
  {
   "cell_type": "markdown",
   "id": "3e61826e",
   "metadata": {},
   "source": [
    "### Helper Functions"
   ]
  },
  {
   "cell_type": "code",
   "execution_count": null,
   "id": "4388f994",
   "metadata": {},
   "outputs": [],
   "source": [
    "# Contrary\n",
    "\n",
    "def contrary(assumption):\n",
    "    return f\"-{assumption}\""
   ]
  },
  {
   "cell_type": "code",
   "execution_count": null,
   "id": "7ba8dbcb",
   "metadata": {},
   "outputs": [],
   "source": [
    "# Assumptions and their contraries\n",
    "\n",
    "def arr(X, Y):\n",
    "    return f\"arr_{X}_{Y}\"\n",
    "\n",
    "def noe(X, Y):\n",
    "    # no-edge is symmetric\n",
    "    if X > Y:\n",
    "        X, Y = Y, X\n",
    "    return f\"noe_{X}_{Y}\"\n",
    "\n",
    "def edge(X, Y):\n",
    "    return contrary(noe(X, Y))\n",
    "\n",
    "def indep(X, Y, S):\n",
    "    # is symmetric with respect to X and Y\n",
    "    if X > Y:\n",
    "        X, Y = Y, X\n",
    "    S = sorted(list(S))\n",
    "    return f\"indep_{X}_{Y}__\" + '_'.join([str(i) for i in S])\n",
    "\n",
    "def dep(X, Y, S):\n",
    "    return contrary(indep(X, Y, S))\n",
    "\n",
    "def blocked_path(source, target, path_id:int, S: set):\n",
    "    S = sorted(list(S))\n",
    "    # is symmetric with respect to source and target\n",
    "    if source > target:\n",
    "        source, target = target, source\n",
    "    return f\"blocked_path_{source}_{target}__{path_id}__\" + '_'.join([str(i) for i in S])\n",
    "\n",
    "def active_path(source, target, path_id:int, S: set):\n",
    "    return contrary(blocked_path(source, target, path_id, S))\n"
   ]
  },
  {
   "cell_type": "code",
   "execution_count": null,
   "id": "9f4aca1b",
   "metadata": {},
   "outputs": [],
   "source": [
    "# Atoms\n",
    "\n",
    "def dpath(X, Y):\n",
    "    return f\"dpath_{X}_{Y}\"\n",
    "\n",
    "def collider(X, Y, Z):\n",
    "    # colliding on middle node\n",
    "    # collider_X_Y_Z equivalent to X->Y<-Z\n",
    "    # is simmetric with respect to X and Z\n",
    "    if X > Z:\n",
    "        X, Z = Z, X\n",
    "    return f\"collider_{X}_{Y}_{Z}\"\n",
    "\n",
    "def not_collider(X, Y, Z):\n",
    "    # symmetric with respect to X and Z\n",
    "    if X > Z:\n",
    "        X, Z = Z, X\n",
    "    return f\"not_collider_{X}_{Y}_{Z}\"\n",
    "\n",
    "def descendant_of_collider(Z, X, N, Y):\n",
    "    # descendant of collider\n",
    "    # Z is the descendant node\n",
    "    # X and Y are the colliding nodes\n",
    "    # N is the middle node\n",
    "    # symmetric with respect to X and Y\n",
    "    if X > Y:\n",
    "        X, Y = Y, X\n",
    "    return f\"desc_{Z}_of_collider_{X}_{N}_{Y}\"\n",
    "\n",
    "def non_blocking(N:int, X:int, Y:int, S: set):\n",
    "    # N is non-blocking node for the path X-Y\n",
    "    # X and Y immediate neighbours of N\n",
    "    # S is the set of nodes for which the path is S-active\n",
    "\n",
    "    # is symmetric with respect to X and Y\n",
    "    if X > Y:\n",
    "        X, Y = Y, X\n",
    "    S = sorted(list(S))\n",
    "    return f\"nb_{N}__{X}_{Y}__\" + '_'.join([str(i) for i in S])\n",
    "\n",
    "def path(source:int, target:int, path_id: int):\n",
    "    # path is symmetric with respect to source and target\n",
    "    if source > target:\n",
    "        source, target = target, source\n",
    "    return f'path_{source}_{target}__{path_id}'\n"
   ]
  },
  {
   "cell_type": "code",
   "execution_count": null,
   "id": "651a9050",
   "metadata": {},
   "outputs": [],
   "source": [
    "# Utils\n",
    "\n",
    "def is_unique(ary):\n",
    "    return len(ary) == len(set(ary))\n",
    "\n",
    "def powerset(s):\n",
    "    s = sorted(list(s))\n",
    "    return chain.from_iterable(combinations(s, r) for r in range(len(s)+1))\n",
    "\n",
    "def unique_product(elements, repeat: int):\n",
    "    '''\n",
    "    Generate all combinations of elements without duplicates.\n",
    "    '''\n",
    "    for element_set in product(elements, repeat=repeat):\n",
    "        if is_unique(element_set):\n",
    "            yield element_set"
   ]
  },
  {
   "cell_type": "markdown",
   "id": "42165c94",
   "metadata": {},
   "source": [
    "### Define ABAF Core - edges, collider rules, etc."
   ]
  },
  {
   "cell_type": "code",
   "execution_count": null,
   "id": "6c005e95",
   "metadata": {},
   "outputs": [],
   "source": [
    "def add_graph_edge_assumptions(solver, X, Y):\n",
    "    for assumption in [arr(X, Y), arr(Y, X), noe(X, Y)]:\n",
    "        solver.add_assumption(assumption)\n",
    "        solver.add_contrary(assumption, contrary(assumption))\n",
    "\n",
    "    for assumption1, assumption2 in unique_product([arr(X, Y), arr(Y, X), noe(X, Y)], repeat=2):\n",
    "        solver.add_rule(contrary(assumption2), [assumption1])\n",
    "\n",
    "    solver.add_rule(dpath(X, Y), [arr(X, Y)])\n",
    "    solver.add_rule(dpath(Y, X), [arr(Y, X)])\n",
    "\n",
    "    solver.add_rule(edge(X, Y), [arr(X, Y)])\n",
    "    solver.add_rule(edge(X, Y), [arr(Y, X)])"
   ]
  },
  {
   "cell_type": "code",
   "execution_count": null,
   "id": "e3b2d9b1",
   "metadata": {},
   "outputs": [],
   "source": [
    "def add_acyclicity_rules(solver, X, Y):\n",
    "    solver.add_rule(contrary(arr(Y, X)), [dpath(X, Y)])"
   ]
  },
  {
   "cell_type": "code",
   "execution_count": null,
   "id": "a639b38e",
   "metadata": {},
   "outputs": [],
   "source": [
    "def add_non_blocking_rules(solver, X, Y, S, n_nodes):\n",
    "    for N in S:\n",
    "        if N not in {X, Y}:  # unique X, Y, N\n",
    "            # 1) N doesn't block the S-active path between its neighbours X and Y\n",
    "            #    if N is a collider and belongs to the set S\n",
    "            solver.add_rule(non_blocking(N, X, Y, S), [collider(X, N, Y)])\n",
    "    \n",
    "    for N in set(range(n_nodes)) - set(S):  # nodes not in S\n",
    "        if N not in {X, Y}:  # unique X, Y, N\n",
    "            # 2) N doesn't block the S-active path between its neighbours X and Y\n",
    "            #    if N is not a collider and doesn't belong to the set S\n",
    "            solver.add_rule(non_blocking(N, X, Y, S), [not_collider(X, N, Y)])\n",
    "\n",
    "            # 3) N doesn't block the S-active path between its neighbours X and Y\n",
    "            #    if N doesn't belong to the set S and has descendant that belongs to S\n",
    "            for Z in S:\n",
    "                if Z not in {X, Y, N}:\n",
    "                    solver.add_rule(non_blocking(N, X, Y, S), [collider(X, N, Y), descendant_of_collider(Z, X, N, Y)])\n",
    "    "
   ]
  },
  {
   "cell_type": "code",
   "execution_count": null,
   "id": "777f87b2",
   "metadata": {},
   "outputs": [],
   "source": [
    "def add_direct_path_definition_rules(solver, X, Y, Z):\n",
    "   solver.add_rule(dpath(X, Y), [arr(X, Z), dpath(Z, Y)])"
   ]
  },
  {
   "cell_type": "code",
   "execution_count": null,
   "id": "73530166",
   "metadata": {},
   "outputs": [],
   "source": [
    "def add_collider_definition_rules(solver, X, Y, Z):\n",
    "    # collider on middle node: X->Y<-Z\n",
    "    solver.add_rule(collider(X, Y, Z), [arr(X, Y), arr(Z, Y)])\n",
    "\n",
    "    # all not collider cases\n",
    "    # X->Y->Z\n",
    "    solver.add_rule(not_collider(X, Y, Z), [arr(X, Y), arr(Y, Z)])\n",
    "    # X<-Y->Z\n",
    "    solver.add_rule(not_collider(X, Y, Z), [arr(Y, X), arr(Y, Z)])\n",
    "    # X<-Y<-Z\n",
    "    solver.add_rule(not_collider(X, Y, Z), [arr(Z, Y), arr(Y, X)])"
   ]
  },
  {
   "cell_type": "code",
   "execution_count": null,
   "id": "172423ce",
   "metadata": {},
   "outputs": [],
   "source": [
    "def add_collider_descendant_definition_rules(solver, X, Y, Z, N):\n",
    "    solver.add_rule(descendant_of_collider(N, X, Y, Z), [collider(X, Y, Z), dpath(Y, N)])"
   ]
  },
  {
   "cell_type": "code",
   "execution_count": null,
   "id": "1a79ed8e",
   "metadata": {},
   "outputs": [],
   "source": [
    "def define_abaf_graph(n_nodes):\n",
    "    solver = ABASolver()\n",
    "\n",
    "    for X, Y in unique_product(range(n_nodes), repeat=2):\n",
    "        add_acyclicity_rules(solver, X, Y)\n",
    "\n",
    "        if X < Y:  # for X, Y unique combinations\n",
    "            add_graph_edge_assumptions(solver, X, Y)\n",
    "\n",
    "            for S in powerset(range(n_nodes)):\n",
    "                add_non_blocking_rules(solver, X, Y, S, n_nodes)\n",
    "\n",
    "        for Z in range(n_nodes):\n",
    "            if Z not in {X, Y}:  # X, Y, Z unique\n",
    "                add_direct_path_definition_rules(solver, X, Y, Z)\n",
    "\n",
    "                if X < Z: \n",
    "                    # X < Z is to avoid duplicates as colliders are symmetric\n",
    "                    add_collider_definition_rules(solver, X, Y, Z)\n",
    "\n",
    "                    for N in range(n_nodes):\n",
    "                        if N not in {X, Y, Z}:  # X, Y, Z, N unique\n",
    "                            add_collider_descendant_definition_rules(solver, X, Y, Z, N)\n",
    "                     \n",
    "    return solver\n",
    "\n"
   ]
  },
  {
   "cell_type": "markdown",
   "id": "68721efa",
   "metadata": {},
   "source": [
    "### Test Run with Only Core\n",
    "\n",
    "Must get 25 extensions for 3 nodes:  \n",
    "- 3 possible options for each edge: 3 * 3 = 27 \n",
    "- minus 2 extensions for 2 cycles: 27 - 2 = 25"
   ]
  },
  {
   "cell_type": "code",
   "execution_count": null,
   "id": "096690ce",
   "metadata": {},
   "outputs": [],
   "source": [
    "solver = define_abaf_graph(3)\n",
    "len(solver.enumerate_extensions('ST'))  "
   ]
  },
  {
   "cell_type": "markdown",
   "id": "0cc2d9c2",
   "metadata": {},
   "source": [
    "### Define Active/Blocked Path, Dep/Indep Assumptions and Corresponding Rules."
   ]
  },
  {
   "cell_type": "code",
   "execution_count": null,
   "id": "a9112430",
   "metadata": {},
   "outputs": [],
   "source": [
    "def add_path_definition_rules(solver, paths, X, Y):\n",
    "    for path_id, my_path in enumerate(paths):\n",
    "        # path definition\n",
    "        solver.add_rule(path(X, Y, path_id), [edge(my_path[i], my_path[i+1]) \n",
    "                                                for i in range(len(my_path)-1)])"
   ]
  },
  {
   "cell_type": "code",
   "execution_count": null,
   "id": "165e7246",
   "metadata": {},
   "outputs": [],
   "source": [
    "def add_indep_assumptions(solver, X, Y, S):\n",
    "    solver.add_assumption(indep(X, Y, S))\n",
    "    solver.add_contrary(indep(X, Y, S), contrary(indep(X, Y, S)))"
   ]
  },
  {
   "cell_type": "code",
   "execution_count": null,
   "id": "66ca3543",
   "metadata": {},
   "outputs": [],
   "source": [
    "def add_independence_rules(solver, paths, X, Y, S):\n",
    "    indep_body = [blocked_path(X, Y, path_id, S) for path_id in range(len(paths))]\n",
    "    if len(indep_body) > 0:  # avoid adding duplicate rule to the facts\n",
    "        solver.add_rule(indep(X, Y, S), indep_body)"
   ]
  },
  {
   "cell_type": "code",
   "execution_count": null,
   "id": "ceb0f896",
   "metadata": {},
   "outputs": [],
   "source": [
    "def add_blocked_path_assumptions(solver, path_id, X, Y, S):\n",
    "    # active path definition\n",
    "    solver.add_assumption(blocked_path(X, Y, path_id, S))\n",
    "    solver.add_contrary(blocked_path(X, Y, path_id, S), \n",
    "                        contrary(blocked_path(X, Y, path_id, S)))"
   ]
  },
  {
   "cell_type": "code",
   "execution_count": null,
   "id": "d5460a36",
   "metadata": {},
   "outputs": [],
   "source": [
    "def add_dependence_rules(solver, path_id, path_nodes, X, Y, S):\n",
    "    non_blocking_body = [non_blocking(path_nodes[i], path_nodes[i-1], path_nodes[i+1], S)\n",
    "                            for i in range(1, len(path_nodes)-1)]\n",
    "    solver.add_rule(active_path(X, Y, path_id, S), [path(X, Y, path_id), *non_blocking_body])\n",
    "    solver.add_rule(dep(X, Y, S), [active_path(X, Y, path_id, S)])"
   ]
  },
  {
   "cell_type": "code",
   "execution_count": null,
   "id": "22152292",
   "metadata": {},
   "outputs": [],
   "source": [
    "def add_facts(solver, facts):\n",
    "    for fact in facts:\n",
    "        if fact.relation == RelationEnum.dep:\n",
    "            solver.add_rule(dep(fact.node1, fact.node2, fact.node_set), [])\n",
    "        else:\n",
    "            solver.add_rule(indep(fact.node1, fact.node2, fact.node_set), [])"
   ]
  },
  {
   "cell_type": "code",
   "execution_count": null,
   "id": "b26a9a3e",
   "metadata": {},
   "outputs": [],
   "source": [
    "\n",
    "def append_path_rules_and_knowledge(solver, facts, n_nodes):\n",
    "    '''\n",
    "    Append path rules and knowledge to the solver.\n",
    "    \n",
    "    NOTE 1: add ap assumption and rule only for dep and indep present in facts\n",
    "    NOTE 2: don't consider paths that contain edges where nodes are independent according to external facts\n",
    "\n",
    "    '''\n",
    "    # Only node pairs that are present in external facts are considered for active/blocked paths \n",
    "    node_pairs_considered = list()\n",
    "    # not consider paths that have edges with nodes that are independent (for any set S)\n",
    "    edges_to_remove = set()\n",
    "    for fact in facts:\n",
    "        node_pairs_considered.append((fact.node1, fact.node2))\n",
    "        if fact.relation == RelationEnum.indep:\n",
    "            edges_to_remove.add((fact.node1, fact.node2))\n",
    "    \n",
    "    graph = nx.complete_graph(n_nodes)\n",
    "    # remove edges that are independent according to external facts\n",
    "    graph.remove_edges_from(edges_to_remove)\n",
    "\n",
    "    for (X, Y) in node_pairs_considered:\n",
    "        paths = [tuple(p) for p in nx.all_simple_paths(graph, source=X, target=Y)]\n",
    "        add_path_definition_rules(solver, paths, X, Y)\n",
    "\n",
    "        for S in powerset(set(range(n_nodes)) - {X, Y}):\n",
    "            add_indep_assumptions(solver, X, Y, S)\n",
    "\n",
    "            # add rule for independence\n",
    "            add_independence_rules(solver, paths, X, Y, S)\n",
    "\n",
    "            # S-active path definition for each available path\n",
    "            for path_id, my_path in enumerate(paths):        \n",
    "                # active path definition\n",
    "                add_blocked_path_assumptions(solver, path_id, X, Y, S)\n",
    "                # active path rule\n",
    "                add_dependence_rules(solver, path_id, my_path, X, Y, S)\n",
    "    \n",
    "    \n",
    "    # finally add facts\n",
    "    add_facts(solver, facts)\n",
    "\n",
    "    return solver"
   ]
  },
  {
   "cell_type": "markdown",
   "id": "dff422ac",
   "metadata": {},
   "source": [
    "## Test Run"
   ]
  },
  {
   "cell_type": "code",
   "execution_count": null,
   "id": "d0272342",
   "metadata": {},
   "outputs": [],
   "source": [
    "solver = define_abaf_graph(5)\n",
    "solver = append_path_rules_and_knowledge(solver, facts=facts[:3], n_nodes=5)"
   ]
  },
  {
   "cell_type": "code",
   "execution_count": null,
   "id": "f38d4389",
   "metadata": {},
   "outputs": [],
   "source": [
    "\n",
    "len(solver.enumerate_extensions('ST'))"
   ]
  },
  {
   "cell_type": "code",
   "execution_count": null,
   "id": "3de0390c",
   "metadata": {},
   "outputs": [],
   "source": []
  }
 ],
 "metadata": {
  "kernelspec": {
   "display_name": "aba-env",
   "language": "python",
   "name": "python3"
  },
  "language_info": {
   "codemirror_mode": {
    "name": "ipython",
    "version": 3
   },
   "file_extension": ".py",
   "mimetype": "text/x-python",
   "name": "python",
   "nbconvert_exporter": "python",
   "pygments_lexer": "ipython3",
   "version": "3.12.9"
  }
 },
 "nbformat": 4,
 "nbformat_minor": 5
}
